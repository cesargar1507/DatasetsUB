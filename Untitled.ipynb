{
  "nbformat": 4,
  "nbformat_minor": 0,
  "metadata": {
    "colab": {
      "provenance": [],
      "authorship_tag": "ABX9TyNNubsJgdv9nfU3u5PklWbe",
      "include_colab_link": true
    },
    "kernelspec": {
      "name": "ir",
      "display_name": "R"
    },
    "language_info": {
      "name": "R"
    }
  },
  "cells": [
    {
      "cell_type": "markdown",
      "metadata": {
        "id": "view-in-github",
        "colab_type": "text"
      },
      "source": [
        "<a href=\"https://colab.research.google.com/github/cesargar1507/DatasetsUB/blob/main/Untitled.ipynb\" target=\"_parent\"><img src=\"https://colab.research.google.com/assets/colab-badge.svg\" alt=\"Open In Colab\"/></a>"
      ]
    },
    {
      "cell_type": "code",
      "execution_count": 28,
      "metadata": {
        "colab": {
          "base_uri": "https://localhost:8080/",
          "height": 355
        },
        "id": "NXvNrUprHSkt",
        "outputId": "68bbfa60-785a-45cb-f44d-7bb1da3b5623"
      },
      "outputs": [
        {
          "output_type": "stream",
          "name": "stdout",
          "text": [
            "'data.frame':\t468 obs. of  3 variables:\n",
            " $ pais     : chr  \"Ukraine\" \"Kuwait\" \"Iraq\" \"Hong Kong SAR, China\" ...\n",
            " $ valor    : chr  \"23,3\" \"3100000\" \"2,5\" \"3408240\" ...\n",
            " $ indicador: chr  \"2010|Internet_por\" \"2018|Facebook\" \"2010|Internet_por\" \"2010|Facebook\" ...\n"
          ]
        },
        {
          "output_type": "display_data",
          "data": {
            "text/html": [
              "<table class=\"dataframe\">\n",
              "<caption>A data.frame: 6 × 3</caption>\n",
              "<thead>\n",
              "\t<tr><th></th><th scope=col>pais</th><th scope=col>valor</th><th scope=col>indicador</th></tr>\n",
              "\t<tr><th></th><th scope=col>&lt;chr&gt;</th><th scope=col>&lt;chr&gt;</th><th scope=col>&lt;chr&gt;</th></tr>\n",
              "</thead>\n",
              "<tbody>\n",
              "\t<tr><th scope=row>1</th><td>Ukraine             </td><td>23,3       </td><td>2010|Internet_por</td></tr>\n",
              "\t<tr><th scope=row>2</th><td>Kuwait              </td><td>3100000    </td><td>2018|Facebook    </td></tr>\n",
              "\t<tr><th scope=row>3</th><td>Iraq                </td><td>2,5        </td><td>2010|Internet_por</td></tr>\n",
              "\t<tr><th scope=row>4</th><td>Hong Kong SAR, China</td><td>3408240    </td><td>2010|Facebook    </td></tr>\n",
              "\t<tr><th scope=row>5</th><td>Ireland             </td><td>1597000    </td><td>2010|Facebook    </td></tr>\n",
              "\t<tr><th scope=row>6</th><td>Kuwait              </td><td>99,59999254</td><td>2018|Internet_por</td></tr>\n",
              "</tbody>\n",
              "</table>\n"
            ],
            "text/markdown": "\nA data.frame: 6 × 3\n\n| <!--/--> | pais &lt;chr&gt; | valor &lt;chr&gt; | indicador &lt;chr&gt; |\n|---|---|---|---|\n| 1 | Ukraine              | 23,3        | 2010|Internet_por |\n| 2 | Kuwait               | 3100000     | 2018|Facebook     |\n| 3 | Iraq                 | 2,5         | 2010|Internet_por |\n| 4 | Hong Kong SAR, China | 3408240     | 2010|Facebook     |\n| 5 | Ireland              | 1597000     | 2010|Facebook     |\n| 6 | Kuwait               | 99,59999254 | 2018|Internet_por |\n\n",
            "text/latex": "A data.frame: 6 × 3\n\\begin{tabular}{r|lll}\n  & pais & valor & indicador\\\\\n  & <chr> & <chr> & <chr>\\\\\n\\hline\n\t1 & Ukraine              & 23,3        & 2010\\textbar{}Internet\\_por\\\\\n\t2 & Kuwait               & 3100000     & 2018\\textbar{}Facebook    \\\\\n\t3 & Iraq                 & 2,5         & 2010\\textbar{}Internet\\_por\\\\\n\t4 & Hong Kong SAR, China & 3408240     & 2010\\textbar{}Facebook    \\\\\n\t5 & Ireland              & 1597000     & 2010\\textbar{}Facebook    \\\\\n\t6 & Kuwait               & 99,59999254 & 2018\\textbar{}Internet\\_por\\\\\n\\end{tabular}\n",
            "text/plain": [
              "  pais                 valor       indicador        \n",
              "1 Ukraine              23,3        2010|Internet_por\n",
              "2 Kuwait               3100000     2018|Facebook    \n",
              "3 Iraq                 2,5         2010|Internet_por\n",
              "4 Hong Kong SAR, China 3408240     2010|Facebook    \n",
              "5 Ireland              1597000     2010|Facebook    \n",
              "6 Kuwait               99,59999254 2018|Internet_por"
            ]
          },
          "metadata": {}
        }
      ],
      "source": [
        "library(readr)\n",
        "library(tidyr)\n",
        "library(dplyr)\n",
        "\n",
        "ruta <- \"https://raw.githubusercontent.com/cesargar1507/DatasetsUB/main/Facebook_10_18_raw.txt?_sm_au_=iVVW7DqFjJfSk0pM26q8vKHV6CTMc\"\n",
        "datos <- read.csv(ruta_archivo, sep = \";\")\n",
        "str(datos)\n",
        "head(datos)"
      ]
    },
    {
      "cell_type": "code",
      "source": [
        "datos_separados <- separate(datos, indicador, into = c(\"Año\", \"Variable\"), sep = \"\\\\|\")\n",
        "datos_separados"
      ],
      "metadata": {
        "colab": {
          "base_uri": "https://localhost:8080/",
          "height": 1000
        },
        "id": "6GcjshR3BitI",
        "outputId": "1a636301-fff9-4d54-d280-958eb49ee4ee"
      },
      "execution_count": 29,
      "outputs": [
        {
          "output_type": "display_data",
          "data": {
            "text/html": [
              "<table class=\"dataframe\">\n",
              "<caption>A data.frame: 468 × 4</caption>\n",
              "<thead>\n",
              "\t<tr><th scope=col>pais</th><th scope=col>valor</th><th scope=col>Año</th><th scope=col>Variable</th></tr>\n",
              "\t<tr><th scope=col>&lt;chr&gt;</th><th scope=col>&lt;chr&gt;</th><th scope=col>&lt;chr&gt;</th><th scope=col>&lt;chr&gt;</th></tr>\n",
              "</thead>\n",
              "<tbody>\n",
              "\t<tr><td>Ukraine             </td><td>23,3       </td><td>2010</td><td>Internet_por</td></tr>\n",
              "\t<tr><td>Kuwait              </td><td>3100000    </td><td>2018</td><td>Facebook    </td></tr>\n",
              "\t<tr><td>Iraq                </td><td>2,5        </td><td>2010</td><td>Internet_por</td></tr>\n",
              "\t<tr><td>Hong Kong SAR, China</td><td>3408240    </td><td>2010</td><td>Facebook    </td></tr>\n",
              "\t<tr><td>Ireland             </td><td>1597000    </td><td>2010</td><td>Facebook    </td></tr>\n",
              "\t<tr><td>Kuwait              </td><td>99,59999254</td><td>2018</td><td>Internet_por</td></tr>\n",
              "\t<tr><td>Estonia             </td><td>227420     </td><td>2010</td><td>Facebook    </td></tr>\n",
              "\t<tr><td>Japan               </td><td>71000000   </td><td>2018</td><td>Facebook    </td></tr>\n",
              "\t<tr><td>United States       </td><td>71,69      </td><td>2010</td><td>Internet_por</td></tr>\n",
              "\t<tr><td>Switzerland         </td><td>83,9       </td><td>2010</td><td>Internet_por</td></tr>\n",
              "\t<tr><td>United States       </td><td>  309326   </td><td>2010</td><td>poblacion   </td></tr>\n",
              "\t<tr><td>Arab Rep. Egypt     </td><td>  82761    </td><td>2010</td><td>poblacion   </td></tr>\n",
              "\t<tr><td>Vietnam             </td><td>1019120    </td><td>2010</td><td>Facebook    </td></tr>\n",
              "\t<tr><td>Rwanda              </td><td>  10039    </td><td>2010</td><td>poblacion   </td></tr>\n",
              "\t<tr><td>Rwanda              </td><td>  12301    </td><td>2018</td><td>poblacion   </td></tr>\n",
              "\t<tr><td>Bahamas, The        </td><td>43         </td><td>2010</td><td>Internet_por</td></tr>\n",
              "\t<tr><td>United Arab Emirates</td><td>68         </td><td>2010</td><td>Internet_por</td></tr>\n",
              "\t<tr><td>Mauritius           </td><td>58,5961697 </td><td>2018</td><td>Internet_por</td></tr>\n",
              "\t<tr><td>Colombia            </td><td>29000000   </td><td>2018</td><td>Facebook    </td></tr>\n",
              "\t<tr><td>Italy               </td><td>  60431    </td><td>2018</td><td>poblacion   </td></tr>\n",
              "\t<tr><td>France              </td><td>77,28      </td><td>2010</td><td>Internet_por</td></tr>\n",
              "\t<tr><td>United Kingdom      </td><td>  62766    </td><td>2010</td><td>poblacion   </td></tr>\n",
              "\t<tr><td>Qatar               </td><td>  2781     </td><td>2018</td><td>poblacion   </td></tr>\n",
              "\t<tr><td>Taiwan              </td><td>6745160    </td><td>2010</td><td>Facebook    </td></tr>\n",
              "\t<tr><td>Jordan              </td><td>27,2       </td><td>2010</td><td>Internet_por</td></tr>\n",
              "\t<tr><td>Estonia             </td><td>74,1       </td><td>2010</td><td>Internet_por</td></tr>\n",
              "\t<tr><td>Croatia             </td><td>1192160    </td><td>2010</td><td>Facebook    </td></tr>\n",
              "\t<tr><td>Iraq                </td><td>  38433    </td><td>2018</td><td>poblacion   </td></tr>\n",
              "\t<tr><td>Romania             </td><td>  19473    </td><td>2018</td><td>poblacion   </td></tr>\n",
              "\t<tr><td>United Kingdom      </td><td>85         </td><td>2010</td><td>Internet_por</td></tr>\n",
              "\t<tr><td>⋮</td><td>⋮</td><td>⋮</td><td>⋮</td></tr>\n",
              "\t<tr><td>Romania           </td><td>1555360      </td><td>2010</td><td>Facebook    </td></tr>\n",
              "\t<tr><td>Canada            </td><td>90           </td><td>2018</td><td>Internet_por</td></tr>\n",
              "\t<tr><td>Portugal          </td><td>2494540      </td><td>2010</td><td>Facebook    </td></tr>\n",
              "\t<tr><td>Norway            </td><td>  4889       </td><td>2010</td><td>poblacion   </td></tr>\n",
              "\t<tr><td>Bangladesh        </td><td>28000000     </td><td>2018</td><td>Facebook    </td></tr>\n",
              "\t<tr><td>Romania           </td><td>70,68127793  </td><td>2018</td><td>Internet_por</td></tr>\n",
              "\t<tr><td>Mexico            </td><td>  126190     </td><td>2018</td><td>poblacion   </td></tr>\n",
              "\t<tr><td>Egypt, Arab Rep.  </td><td>3581460      </td><td>2010</td><td>Facebook    </td></tr>\n",
              "\t<tr><td>Philippines       </td><td>62000000     </td><td>2018</td><td>Facebook    </td></tr>\n",
              "\t<tr><td>Morocco           </td><td>15000000     </td><td>2018</td><td>Facebook    </td></tr>\n",
              "\t<tr><td>Saudi Arabia      </td><td>  27421      </td><td>2010</td><td>poblacion   </td></tr>\n",
              "\t<tr><td>Colombia          </td><td>  45222      </td><td>2010</td><td>poblacion   </td></tr>\n",
              "\t<tr><td>Venezuela, RB     </td><td>37,37        </td><td>2010</td><td>Internet_por</td></tr>\n",
              "\t<tr><td>Russian Federation</td><td>1244280      </td><td>2010</td><td>Facebook    </td></tr>\n",
              "\t<tr><td>Philippines       </td><td>  93966      </td><td>2010</td><td>poblacion   </td></tr>\n",
              "\t<tr><td>Oman              </td><td>  4829       </td><td>2018</td><td>poblacion   </td></tr>\n",
              "\t<tr><td>Algeria           </td><td>59,57968476  </td><td>2018</td><td>Internet_por</td></tr>\n",
              "\t<tr><td>Portugal          </td><td>74,66096828  </td><td>2018</td><td>Internet_por</td></tr>\n",
              "\t<tr><td>Finland           </td><td>1793300      </td><td>2010</td><td>Facebook    </td></tr>\n",
              "\t<tr><td>Iraq              </td><td>  29741      </td><td>2010</td><td>poblacion   </td></tr>\n",
              "\t<tr><td>Serbia            </td><td>  6982       </td><td>2018</td><td>poblacion   </td></tr>\n",
              "\t<tr><td>Philippines       </td><td>25           </td><td>2010</td><td>Internet_por</td></tr>\n",
              "\t<tr><td>Slovenia          </td><td>582000       </td><td>2010</td><td>Facebook    </td></tr>\n",
              "\t<tr><td>Oman              </td><td>2630000      </td><td>2018</td><td>Facebook    </td></tr>\n",
              "\t<tr><td>Japan             </td><td>  128070     </td><td>2010</td><td>poblacion   </td></tr>\n",
              "\t<tr><td>Brazil            </td><td>  195713     </td><td>2010</td><td>poblacion   </td></tr>\n",
              "\t<tr><td>Libya             </td><td>3500000      </td><td>2018</td><td>Facebook    </td></tr>\n",
              "\t<tr><td>Argentina         </td><td>  40788      </td><td>2010</td><td>poblacion   </td></tr>\n",
              "\t<tr><td>Taiwan            </td><td>  23.140,95  </td><td>2010</td><td>poblacion   </td></tr>\n",
              "\t<tr><td>Tunisia           </td><td>  11565      </td><td>2018</td><td>poblacion   </td></tr>\n",
              "</tbody>\n",
              "</table>\n"
            ],
            "text/markdown": "\nA data.frame: 468 × 4\n\n| pais &lt;chr&gt; | valor &lt;chr&gt; | Año &lt;chr&gt; | Variable &lt;chr&gt; |\n|---|---|---|---|\n| Ukraine              | 23,3        | 2010 | Internet_por |\n| Kuwait               | 3100000     | 2018 | Facebook     |\n| Iraq                 | 2,5         | 2010 | Internet_por |\n| Hong Kong SAR, China | 3408240     | 2010 | Facebook     |\n| Ireland              | 1597000     | 2010 | Facebook     |\n| Kuwait               | 99,59999254 | 2018 | Internet_por |\n| Estonia              | 227420      | 2010 | Facebook     |\n| Japan                | 71000000    | 2018 | Facebook     |\n| United States        | 71,69       | 2010 | Internet_por |\n| Switzerland          | 83,9        | 2010 | Internet_por |\n| United States        |   309326    | 2010 | poblacion    |\n| Arab Rep. Egypt      |   82761     | 2010 | poblacion    |\n| Vietnam              | 1019120     | 2010 | Facebook     |\n| Rwanda               |   10039     | 2010 | poblacion    |\n| Rwanda               |   12301     | 2018 | poblacion    |\n| Bahamas, The         | 43          | 2010 | Internet_por |\n| United Arab Emirates | 68          | 2010 | Internet_por |\n| Mauritius            | 58,5961697  | 2018 | Internet_por |\n| Colombia             | 29000000    | 2018 | Facebook     |\n| Italy                |   60431     | 2018 | poblacion    |\n| France               | 77,28       | 2010 | Internet_por |\n| United Kingdom       |   62766     | 2010 | poblacion    |\n| Qatar                |   2781      | 2018 | poblacion    |\n| Taiwan               | 6745160     | 2010 | Facebook     |\n| Jordan               | 27,2        | 2010 | Internet_por |\n| Estonia              | 74,1        | 2010 | Internet_por |\n| Croatia              | 1192160     | 2010 | Facebook     |\n| Iraq                 |   38433     | 2018 | poblacion    |\n| Romania              |   19473     | 2018 | poblacion    |\n| United Kingdom       | 85          | 2010 | Internet_por |\n| ⋮ | ⋮ | ⋮ | ⋮ |\n| Romania            | 1555360       | 2010 | Facebook     |\n| Canada             | 90            | 2018 | Internet_por |\n| Portugal           | 2494540       | 2010 | Facebook     |\n| Norway             |   4889        | 2010 | poblacion    |\n| Bangladesh         | 28000000      | 2018 | Facebook     |\n| Romania            | 70,68127793   | 2018 | Internet_por |\n| Mexico             |   126190      | 2018 | poblacion    |\n| Egypt, Arab Rep.   | 3581460       | 2010 | Facebook     |\n| Philippines        | 62000000      | 2018 | Facebook     |\n| Morocco            | 15000000      | 2018 | Facebook     |\n| Saudi Arabia       |   27421       | 2010 | poblacion    |\n| Colombia           |   45222       | 2010 | poblacion    |\n| Venezuela, RB      | 37,37         | 2010 | Internet_por |\n| Russian Federation | 1244280       | 2010 | Facebook     |\n| Philippines        |   93966       | 2010 | poblacion    |\n| Oman               |   4829        | 2018 | poblacion    |\n| Algeria            | 59,57968476   | 2018 | Internet_por |\n| Portugal           | 74,66096828   | 2018 | Internet_por |\n| Finland            | 1793300       | 2010 | Facebook     |\n| Iraq               |   29741       | 2010 | poblacion    |\n| Serbia             |   6982        | 2018 | poblacion    |\n| Philippines        | 25            | 2010 | Internet_por |\n| Slovenia           | 582000        | 2010 | Facebook     |\n| Oman               | 2630000       | 2018 | Facebook     |\n| Japan              |   128070      | 2010 | poblacion    |\n| Brazil             |   195713      | 2010 | poblacion    |\n| Libya              | 3500000       | 2018 | Facebook     |\n| Argentina          |   40788       | 2010 | poblacion    |\n| Taiwan             |   23.140,95   | 2010 | poblacion    |\n| Tunisia            |   11565       | 2018 | poblacion    |\n\n",
            "text/latex": "A data.frame: 468 × 4\n\\begin{tabular}{llll}\n pais & valor & Año & Variable\\\\\n <chr> & <chr> & <chr> & <chr>\\\\\n\\hline\n\t Ukraine              & 23,3        & 2010 & Internet\\_por\\\\\n\t Kuwait               & 3100000     & 2018 & Facebook    \\\\\n\t Iraq                 & 2,5         & 2010 & Internet\\_por\\\\\n\t Hong Kong SAR, China & 3408240     & 2010 & Facebook    \\\\\n\t Ireland              & 1597000     & 2010 & Facebook    \\\\\n\t Kuwait               & 99,59999254 & 2018 & Internet\\_por\\\\\n\t Estonia              & 227420      & 2010 & Facebook    \\\\\n\t Japan                & 71000000    & 2018 & Facebook    \\\\\n\t United States        & 71,69       & 2010 & Internet\\_por\\\\\n\t Switzerland          & 83,9        & 2010 & Internet\\_por\\\\\n\t United States        &   309326    & 2010 & poblacion   \\\\\n\t Arab Rep. Egypt      &   82761     & 2010 & poblacion   \\\\\n\t Vietnam              & 1019120     & 2010 & Facebook    \\\\\n\t Rwanda               &   10039     & 2010 & poblacion   \\\\\n\t Rwanda               &   12301     & 2018 & poblacion   \\\\\n\t Bahamas, The         & 43          & 2010 & Internet\\_por\\\\\n\t United Arab Emirates & 68          & 2010 & Internet\\_por\\\\\n\t Mauritius            & 58,5961697  & 2018 & Internet\\_por\\\\\n\t Colombia             & 29000000    & 2018 & Facebook    \\\\\n\t Italy                &   60431     & 2018 & poblacion   \\\\\n\t France               & 77,28       & 2010 & Internet\\_por\\\\\n\t United Kingdom       &   62766     & 2010 & poblacion   \\\\\n\t Qatar                &   2781      & 2018 & poblacion   \\\\\n\t Taiwan               & 6745160     & 2010 & Facebook    \\\\\n\t Jordan               & 27,2        & 2010 & Internet\\_por\\\\\n\t Estonia              & 74,1        & 2010 & Internet\\_por\\\\\n\t Croatia              & 1192160     & 2010 & Facebook    \\\\\n\t Iraq                 &   38433     & 2018 & poblacion   \\\\\n\t Romania              &   19473     & 2018 & poblacion   \\\\\n\t United Kingdom       & 85          & 2010 & Internet\\_por\\\\\n\t ⋮ & ⋮ & ⋮ & ⋮\\\\\n\t Romania            & 1555360       & 2010 & Facebook    \\\\\n\t Canada             & 90            & 2018 & Internet\\_por\\\\\n\t Portugal           & 2494540       & 2010 & Facebook    \\\\\n\t Norway             &   4889        & 2010 & poblacion   \\\\\n\t Bangladesh         & 28000000      & 2018 & Facebook    \\\\\n\t Romania            & 70,68127793   & 2018 & Internet\\_por\\\\\n\t Mexico             &   126190      & 2018 & poblacion   \\\\\n\t Egypt, Arab Rep.   & 3581460       & 2010 & Facebook    \\\\\n\t Philippines        & 62000000      & 2018 & Facebook    \\\\\n\t Morocco            & 15000000      & 2018 & Facebook    \\\\\n\t Saudi Arabia       &   27421       & 2010 & poblacion   \\\\\n\t Colombia           &   45222       & 2010 & poblacion   \\\\\n\t Venezuela, RB      & 37,37         & 2010 & Internet\\_por\\\\\n\t Russian Federation & 1244280       & 2010 & Facebook    \\\\\n\t Philippines        &   93966       & 2010 & poblacion   \\\\\n\t Oman               &   4829        & 2018 & poblacion   \\\\\n\t Algeria            & 59,57968476   & 2018 & Internet\\_por\\\\\n\t Portugal           & 74,66096828   & 2018 & Internet\\_por\\\\\n\t Finland            & 1793300       & 2010 & Facebook    \\\\\n\t Iraq               &   29741       & 2010 & poblacion   \\\\\n\t Serbia             &   6982        & 2018 & poblacion   \\\\\n\t Philippines        & 25            & 2010 & Internet\\_por\\\\\n\t Slovenia           & 582000        & 2010 & Facebook    \\\\\n\t Oman               & 2630000       & 2018 & Facebook    \\\\\n\t Japan              &   128070      & 2010 & poblacion   \\\\\n\t Brazil             &   195713      & 2010 & poblacion   \\\\\n\t Libya              & 3500000       & 2018 & Facebook    \\\\\n\t Argentina          &   40788       & 2010 & poblacion   \\\\\n\t Taiwan             &   23.140,95   & 2010 & poblacion   \\\\\n\t Tunisia            &   11565       & 2018 & poblacion   \\\\\n\\end{tabular}\n",
            "text/plain": [
              "    pais                 valor         Año  Variable    \n",
              "1   Ukraine              23,3          2010 Internet_por\n",
              "2   Kuwait               3100000       2018 Facebook    \n",
              "3   Iraq                 2,5           2010 Internet_por\n",
              "4   Hong Kong SAR, China 3408240       2010 Facebook    \n",
              "5   Ireland              1597000       2010 Facebook    \n",
              "6   Kuwait               99,59999254   2018 Internet_por\n",
              "7   Estonia              227420        2010 Facebook    \n",
              "8   Japan                71000000      2018 Facebook    \n",
              "9   United States        71,69         2010 Internet_por\n",
              "10  Switzerland          83,9          2010 Internet_por\n",
              "11  United States          309326      2010 poblacion   \n",
              "12  Arab Rep. Egypt        82761       2010 poblacion   \n",
              "13  Vietnam              1019120       2010 Facebook    \n",
              "14  Rwanda                 10039       2010 poblacion   \n",
              "15  Rwanda                 12301       2018 poblacion   \n",
              "16  Bahamas, The         43            2010 Internet_por\n",
              "17  United Arab Emirates 68            2010 Internet_por\n",
              "18  Mauritius            58,5961697    2018 Internet_por\n",
              "19  Colombia             29000000      2018 Facebook    \n",
              "20  Italy                  60431       2018 poblacion   \n",
              "21  France               77,28         2010 Internet_por\n",
              "22  United Kingdom         62766       2010 poblacion   \n",
              "23  Qatar                  2781        2018 poblacion   \n",
              "24  Taiwan               6745160       2010 Facebook    \n",
              "25  Jordan               27,2          2010 Internet_por\n",
              "26  Estonia              74,1          2010 Internet_por\n",
              "27  Croatia              1192160       2010 Facebook    \n",
              "28  Iraq                   38433       2018 poblacion   \n",
              "29  Romania                19473       2018 poblacion   \n",
              "30  United Kingdom       85            2010 Internet_por\n",
              "⋮   ⋮                    ⋮             ⋮    ⋮           \n",
              "439 Romania              1555360       2010 Facebook    \n",
              "440 Canada               90            2018 Internet_por\n",
              "441 Portugal             2494540       2010 Facebook    \n",
              "442 Norway                 4889        2010 poblacion   \n",
              "443 Bangladesh           28000000      2018 Facebook    \n",
              "444 Romania              70,68127793   2018 Internet_por\n",
              "445 Mexico                 126190      2018 poblacion   \n",
              "446 Egypt, Arab Rep.     3581460       2010 Facebook    \n",
              "447 Philippines          62000000      2018 Facebook    \n",
              "448 Morocco              15000000      2018 Facebook    \n",
              "449 Saudi Arabia           27421       2010 poblacion   \n",
              "450 Colombia               45222       2010 poblacion   \n",
              "451 Venezuela, RB        37,37         2010 Internet_por\n",
              "452 Russian Federation   1244280       2010 Facebook    \n",
              "453 Philippines            93966       2010 poblacion   \n",
              "454 Oman                   4829        2018 poblacion   \n",
              "455 Algeria              59,57968476   2018 Internet_por\n",
              "456 Portugal             74,66096828   2018 Internet_por\n",
              "457 Finland              1793300       2010 Facebook    \n",
              "458 Iraq                   29741       2010 poblacion   \n",
              "459 Serbia                 6982        2018 poblacion   \n",
              "460 Philippines          25            2010 Internet_por\n",
              "461 Slovenia             582000        2010 Facebook    \n",
              "462 Oman                 2630000       2018 Facebook    \n",
              "463 Japan                  128070      2010 poblacion   \n",
              "464 Brazil                 195713      2010 poblacion   \n",
              "465 Libya                3500000       2018 Facebook    \n",
              "466 Argentina              40788       2010 poblacion   \n",
              "467 Taiwan                 23.140,95   2010 poblacion   \n",
              "468 Tunisia                11565       2018 poblacion   "
            ]
          },
          "metadata": {}
        }
      ]
    },
    {
      "cell_type": "code",
      "source": [
        "frec_año <- table(datos_separados$Año)\n",
        "frec_año"
      ],
      "metadata": {
        "colab": {
          "base_uri": "https://localhost:8080/",
          "height": 69
        },
        "id": "EDMkX6-5CNGL",
        "outputId": "c4e69d71-3246-4c47-aeae-efa949bc676a"
      },
      "execution_count": 30,
      "outputs": [
        {
          "output_type": "display_data",
          "data": {
            "text/plain": [
              "\n",
              "2010 2018 \n",
              " 234  234 "
            ]
          },
          "metadata": {}
        }
      ]
    },
    {
      "cell_type": "code",
      "source": [
        "# Calcular las frecuencias de 'variable'\n",
        "frec_variable <- table(datos_separados$Variable)\n",
        "frec_variable"
      ],
      "metadata": {
        "colab": {
          "base_uri": "https://localhost:8080/",
          "height": 69
        },
        "id": "izOV4VitCcSE",
        "outputId": "2e66111c-9911-48cd-975a-2fdc08586150"
      },
      "execution_count": 31,
      "outputs": [
        {
          "output_type": "display_data",
          "data": {
            "text/plain": [
              "\n",
              "    Facebook Internet_por    poblacion \n",
              "         156          156          156 "
            ]
          },
          "metadata": {}
        }
      ]
    },
    {
      "cell_type": "code",
      "source": [
        "# Crear un diccionario de mapeo para uniformizar los nombres de los países\n",
        "diccionario_mapeo <- c(\n",
        "  \"Arab Rep. Egypt\" = \"Egypt\",\n",
        "  \"Egypt, Arab Rep.\" = \"Egypt\",\n",
        "  \"Hong Kong SAR, China\" = \"Hong Kong\",\n",
        "  \"Rep. Yemen\" = \"Yemen\",\n",
        "  \"Russian\" = \"Russia\",\n",
        "  \"Russian Federation\" = \"Russia\",\n",
        "  \"Venezuela, RB\" = \"Venezuela\",\n",
        "  \"Yemen, Rep.\" = \"Yemen\"\n",
        ")\n",
        "\n",
        "# Agregar una nueva columna \"pais_uniforme\" al data frame\n",
        "datos <- datos %>%\n",
        "  mutate(pais_r = ifelse(pais %in% names(diccionario_mapeo), diccionario_mapeo[trimws(pais)], pais))\n"
      ],
      "metadata": {
        "id": "6r02AEx3EvmD"
      },
      "execution_count": 59,
      "outputs": []
    },
    {
      "cell_type": "code",
      "source": [
        "frec_pais <- table(datos$pais_r)\n",
        "frec_pais"
      ],
      "metadata": {
        "colab": {
          "base_uri": "https://localhost:8080/",
          "height": 937
        },
        "id": "PNkbdLYuE9d5",
        "outputId": "6cb3a676-f24c-4903-b1bb-e5d67aaa783a"
      },
      "execution_count": 60,
      "outputs": [
        {
          "output_type": "display_data",
          "data": {
            "text/plain": [
              "\n",
              "             Algeria            Argentina            Australia \n",
              "                   6                    6                    6 \n",
              "             Austria         Bahamas, The              Bahrain \n",
              "                   6                    6                    6 \n",
              "          Bangladesh              Belgium               Brazil \n",
              "                   6                    6                    6 \n",
              "              Canada                Chile                China \n",
              "                   6                    6                    6 \n",
              "            Colombia              Croatia              Denmark \n",
              "                   6                    6                    6 \n",
              "               Egypt              Estonia             Ethiopia \n",
              "                   6                    6                    6 \n",
              "             Finland               France              Germany \n",
              "                   6                    6                    6 \n",
              "              Greece            Hong Kong              Hungary \n",
              "                   6                    6                    6 \n",
              "             Iceland                India            Indonesia \n",
              "                   6                    6                    6 \n",
              "                Iraq              Ireland               Israel \n",
              "                   6                    6                    6 \n",
              "               Italy                Japan               Jordan \n",
              "                   6                    6                    6 \n",
              "         Korea, Rep.               Kuwait              Lebanon \n",
              "                   6                    6                    6 \n",
              "               Libya             Malaysia                Malta \n",
              "                   6                    6                    6 \n",
              "          Mauritania            Mauritius               Mexico \n",
              "                   6                    6                    6 \n",
              "             Morocco          Netherlands              Nigeria \n",
              "                   6                    6                    6 \n",
              "              Norway                 Oman             Pakistan \n",
              "                   6                    6                    6 \n",
              "         Philippines               Poland             Portugal \n",
              "                   6                    6                    6 \n",
              "               Qatar              Romania               Russia \n",
              "                   6                    6                    6 \n",
              "              Rwanda         Saudi Arabia               Serbia \n",
              "                   6                    6                    6 \n",
              "           Singapore      Slovak Republic             Slovenia \n",
              "                   6                    6                    6 \n",
              "        South Africa                Spain            Sri Lanka \n",
              "                   6                    6                    6 \n",
              "              Sweden          Switzerland               Taiwan \n",
              "                   6                    6                    6 \n",
              "            Thailand              Tunisia               Turkey \n",
              "                   6                    6                    6 \n",
              "              Uganda              Ukraine United Arab Emirates \n",
              "                   6                    6                    6 \n",
              "      United Kingdom        United States           Uzbekistan \n",
              "                   6                    6                    6 \n",
              "           Venezuela              Vietnam                Yemen \n",
              "                   6                    6                    6 "
            ]
          },
          "metadata": {}
        }
      ]
    }
  ]
}