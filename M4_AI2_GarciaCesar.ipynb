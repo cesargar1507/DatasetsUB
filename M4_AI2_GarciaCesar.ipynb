{
  "nbformat": 4,
  "nbformat_minor": 0,
  "metadata": {
    "colab": {
      "provenance": []
    },
    "kernelspec": {
      "name": "ir",
      "display_name": "R"
    },
    "language_info": {
      "name": "R"
    }
  },
  "cells": [
    {
      "cell_type": "markdown",
      "source": [
        "**Alumno:** César Emilio García Ávalos\n",
        "\n",
        "**Actividad:** M4_AI1_Análisis Factorial"
      ],
      "metadata": {
        "id": "WAVuT--BYKiJ"
      }
    },
    {
      "cell_type": "code",
      "execution_count": 2,
      "metadata": {
        "colab": {
          "base_uri": "https://localhost:8080/",
          "height": 746
        },
        "id": "NXvNrUprHSkt",
        "outputId": "6b14149d-cb8a-40b0-a8d1-6d884a7f73f2"
      },
      "outputs": [
        {
          "output_type": "stream",
          "name": "stderr",
          "text": [
            "Installing package into ‘/usr/local/lib/R/site-library’\n",
            "(as ‘lib’ is unspecified)\n",
            "\n",
            "randomForest 4.7-1.1\n",
            "\n",
            "Type rfNews() to see new features/changes/bug fixes.\n",
            "\n",
            "\n",
            "Attaching package: ‘randomForest’\n",
            "\n",
            "\n",
            "The following object is masked from ‘package:ggplot2’:\n",
            "\n",
            "    margin\n",
            "\n",
            "\n",
            "The following object is masked from ‘package:dplyr’:\n",
            "\n",
            "    combine\n",
            "\n",
            "\n"
          ]
        },
        {
          "output_type": "display_data",
          "data": {
            "text/plain": [
              " fixed.acidity   volatile.acidity  citric.acid    residual.sugar  \n",
              " Min.   : 4.60   Min.   :0.1200   Min.   :0.000   Min.   : 0.900  \n",
              " 1st Qu.: 7.10   1st Qu.:0.3900   1st Qu.:0.090   1st Qu.: 1.900  \n",
              " Median : 7.90   Median :0.5200   Median :0.260   Median : 2.200  \n",
              " Mean   : 8.32   Mean   :0.5278   Mean   :0.271   Mean   : 2.539  \n",
              " 3rd Qu.: 9.20   3rd Qu.:0.6400   3rd Qu.:0.420   3rd Qu.: 2.600  \n",
              " Max.   :15.90   Max.   :1.5800   Max.   :1.000   Max.   :15.500  \n",
              "   chlorides       free.sulfur.dioxide total.sulfur.dioxide    density      \n",
              " Min.   :0.01200   Min.   : 1.00       Min.   :  6.00       Min.   :0.9901  \n",
              " 1st Qu.:0.07000   1st Qu.: 7.00       1st Qu.: 22.00       1st Qu.:0.9956  \n",
              " Median :0.07900   Median :14.00       Median : 38.00       Median :0.9968  \n",
              " Mean   :0.08747   Mean   :15.87       Mean   : 46.47       Mean   :0.9967  \n",
              " 3rd Qu.:0.09000   3rd Qu.:21.00       3rd Qu.: 62.00       3rd Qu.:0.9978  \n",
              " Max.   :0.61100   Max.   :72.00       Max.   :289.00       Max.   :1.0037  \n",
              "       pH          sulphates         alcohol         quality     \n",
              " Min.   :2.740   Min.   :0.3300   Min.   : 8.40   Min.   :3.000  \n",
              " 1st Qu.:3.210   1st Qu.:0.5500   1st Qu.: 9.50   1st Qu.:5.000  \n",
              " Median :3.310   Median :0.6200   Median :10.20   Median :6.000  \n",
              " Mean   :3.311   Mean   :0.6581   Mean   :10.42   Mean   :5.636  \n",
              " 3rd Qu.:3.400   3rd Qu.:0.7300   3rd Qu.:11.10   3rd Qu.:6.000  \n",
              " Max.   :4.010   Max.   :2.0000   Max.   :14.90   Max.   :8.000  "
            ]
          },
          "metadata": {}
        }
      ],
      "source": [
        "library(readr)\n",
        "library(tidyr)\n",
        "library(dplyr)\n",
        "library(MASS)\n",
        "install.packages(\"randomForest\")\n",
        "library(caret)\n",
        "library(randomForest)\n",
        "\n",
        "ruta <- \"https://raw.githubusercontent.com/cesargar1507/DatasetsUB/main/4.3_AD_ejercicio.csv\"\n",
        "datos <- read.csv(ruta, sep = \";\")\n",
        "summary(datos)"
      ]
    },
    {
      "cell_type": "code",
      "source": [
        "head(datos, 5)"
      ],
      "metadata": {
        "colab": {
          "base_uri": "https://localhost:8080/",
          "height": 275
        },
        "id": "xkDnY3bIUt9X",
        "outputId": "64216f70-0c11-4f0b-8b48-75f7c7330f25"
      },
      "execution_count": 3,
      "outputs": [
        {
          "output_type": "display_data",
          "data": {
            "text/html": [
              "<table class=\"dataframe\">\n",
              "<caption>A data.frame: 5 × 12</caption>\n",
              "<thead>\n",
              "\t<tr><th></th><th scope=col>fixed.acidity</th><th scope=col>volatile.acidity</th><th scope=col>citric.acid</th><th scope=col>residual.sugar</th><th scope=col>chlorides</th><th scope=col>free.sulfur.dioxide</th><th scope=col>total.sulfur.dioxide</th><th scope=col>density</th><th scope=col>pH</th><th scope=col>sulphates</th><th scope=col>alcohol</th><th scope=col>quality</th></tr>\n",
              "\t<tr><th></th><th scope=col>&lt;dbl&gt;</th><th scope=col>&lt;dbl&gt;</th><th scope=col>&lt;dbl&gt;</th><th scope=col>&lt;dbl&gt;</th><th scope=col>&lt;dbl&gt;</th><th scope=col>&lt;dbl&gt;</th><th scope=col>&lt;dbl&gt;</th><th scope=col>&lt;dbl&gt;</th><th scope=col>&lt;dbl&gt;</th><th scope=col>&lt;dbl&gt;</th><th scope=col>&lt;dbl&gt;</th><th scope=col>&lt;int&gt;</th></tr>\n",
              "</thead>\n",
              "<tbody>\n",
              "\t<tr><th scope=row>1</th><td> 7.4</td><td>0.70</td><td>0.00</td><td>1.9</td><td>0.076</td><td>11</td><td>34</td><td>0.9978</td><td>3.51</td><td>0.56</td><td>9.4</td><td>5</td></tr>\n",
              "\t<tr><th scope=row>2</th><td> 7.8</td><td>0.88</td><td>0.00</td><td>2.6</td><td>0.098</td><td>25</td><td>67</td><td>0.9968</td><td>3.20</td><td>0.68</td><td>9.8</td><td>5</td></tr>\n",
              "\t<tr><th scope=row>3</th><td> 7.8</td><td>0.76</td><td>0.04</td><td>2.3</td><td>0.092</td><td>15</td><td>54</td><td>0.9970</td><td>3.26</td><td>0.65</td><td>9.8</td><td>5</td></tr>\n",
              "\t<tr><th scope=row>4</th><td>11.2</td><td>0.28</td><td>0.56</td><td>1.9</td><td>0.075</td><td>17</td><td>60</td><td>0.9980</td><td>3.16</td><td>0.58</td><td>9.8</td><td>6</td></tr>\n",
              "\t<tr><th scope=row>5</th><td> 7.4</td><td>0.70</td><td>0.00</td><td>1.9</td><td>0.076</td><td>11</td><td>34</td><td>0.9978</td><td>3.51</td><td>0.56</td><td>9.4</td><td>5</td></tr>\n",
              "</tbody>\n",
              "</table>\n"
            ],
            "text/markdown": "\nA data.frame: 5 × 12\n\n| <!--/--> | fixed.acidity &lt;dbl&gt; | volatile.acidity &lt;dbl&gt; | citric.acid &lt;dbl&gt; | residual.sugar &lt;dbl&gt; | chlorides &lt;dbl&gt; | free.sulfur.dioxide &lt;dbl&gt; | total.sulfur.dioxide &lt;dbl&gt; | density &lt;dbl&gt; | pH &lt;dbl&gt; | sulphates &lt;dbl&gt; | alcohol &lt;dbl&gt; | quality &lt;int&gt; |\n|---|---|---|---|---|---|---|---|---|---|---|---|---|\n| 1 |  7.4 | 0.70 | 0.00 | 1.9 | 0.076 | 11 | 34 | 0.9978 | 3.51 | 0.56 | 9.4 | 5 |\n| 2 |  7.8 | 0.88 | 0.00 | 2.6 | 0.098 | 25 | 67 | 0.9968 | 3.20 | 0.68 | 9.8 | 5 |\n| 3 |  7.8 | 0.76 | 0.04 | 2.3 | 0.092 | 15 | 54 | 0.9970 | 3.26 | 0.65 | 9.8 | 5 |\n| 4 | 11.2 | 0.28 | 0.56 | 1.9 | 0.075 | 17 | 60 | 0.9980 | 3.16 | 0.58 | 9.8 | 6 |\n| 5 |  7.4 | 0.70 | 0.00 | 1.9 | 0.076 | 11 | 34 | 0.9978 | 3.51 | 0.56 | 9.4 | 5 |\n\n",
            "text/latex": "A data.frame: 5 × 12\n\\begin{tabular}{r|llllllllllll}\n  & fixed.acidity & volatile.acidity & citric.acid & residual.sugar & chlorides & free.sulfur.dioxide & total.sulfur.dioxide & density & pH & sulphates & alcohol & quality\\\\\n  & <dbl> & <dbl> & <dbl> & <dbl> & <dbl> & <dbl> & <dbl> & <dbl> & <dbl> & <dbl> & <dbl> & <int>\\\\\n\\hline\n\t1 &  7.4 & 0.70 & 0.00 & 1.9 & 0.076 & 11 & 34 & 0.9978 & 3.51 & 0.56 & 9.4 & 5\\\\\n\t2 &  7.8 & 0.88 & 0.00 & 2.6 & 0.098 & 25 & 67 & 0.9968 & 3.20 & 0.68 & 9.8 & 5\\\\\n\t3 &  7.8 & 0.76 & 0.04 & 2.3 & 0.092 & 15 & 54 & 0.9970 & 3.26 & 0.65 & 9.8 & 5\\\\\n\t4 & 11.2 & 0.28 & 0.56 & 1.9 & 0.075 & 17 & 60 & 0.9980 & 3.16 & 0.58 & 9.8 & 6\\\\\n\t5 &  7.4 & 0.70 & 0.00 & 1.9 & 0.076 & 11 & 34 & 0.9978 & 3.51 & 0.56 & 9.4 & 5\\\\\n\\end{tabular}\n",
            "text/plain": [
              "  fixed.acidity volatile.acidity citric.acid residual.sugar chlorides\n",
              "1  7.4          0.70             0.00        1.9            0.076    \n",
              "2  7.8          0.88             0.00        2.6            0.098    \n",
              "3  7.8          0.76             0.04        2.3            0.092    \n",
              "4 11.2          0.28             0.56        1.9            0.075    \n",
              "5  7.4          0.70             0.00        1.9            0.076    \n",
              "  free.sulfur.dioxide total.sulfur.dioxide density pH   sulphates alcohol\n",
              "1 11                  34                   0.9978  3.51 0.56      9.4    \n",
              "2 25                  67                   0.9968  3.20 0.68      9.8    \n",
              "3 15                  54                   0.9970  3.26 0.65      9.8    \n",
              "4 17                  60                   0.9980  3.16 0.58      9.8    \n",
              "5 11                  34                   0.9978  3.51 0.56      9.4    \n",
              "  quality\n",
              "1 5      \n",
              "2 5      \n",
              "3 5      \n",
              "4 6      \n",
              "5 5      "
            ]
          },
          "metadata": {}
        }
      ]
    },
    {
      "cell_type": "code",
      "source": [
        "datos <- mutate(datos, quality = case_when(\n",
        "    quality %in% c(3, 4) ~ \"pobre\",\n",
        "    quality %in% c(5, 6) ~ \"aceptable\",\n",
        "    quality %in% c(7, 8) ~ \"bueno\"\n",
        "  ))\n",
        "datos$quality <- factor(datos$quality, levels = c(\"pobre\", \"aceptable\", \"bueno\"))"
      ],
      "metadata": {
        "id": "uXnoD7D0VQ4n"
      },
      "execution_count": 4,
      "outputs": []
    },
    {
      "cell_type": "code",
      "source": [
        "# Calcular los máximos y mínimos de cada columna\n",
        "maxs <- apply(datos[,1:11], 2, max)\n",
        "mins <- apply(datos[,1:11], 2, min)\n",
        "\n",
        "# Normalizar el dataset al rango de 0 a 1\n",
        "dataset <- as.data.frame(scale(datos[,1:11], center = mins, scale = maxs - mins))\n",
        "\n",
        "# Agregar la columna 'quality' al dataset normalizado\n",
        "dataset <- cbind(dataset, quality = datos$quality)"
      ],
      "metadata": {
        "id": "80yqG31VdbQ2"
      },
      "execution_count": 5,
      "outputs": []
    },
    {
      "cell_type": "code",
      "source": [
        "index <- sample(1:nrow(dataset), round(nrow(dataset)*0.7),replace=FALSE)\n",
        "x_train <- dataset[index,]\n",
        "test <- dataset[-index,]"
      ],
      "metadata": {
        "id": "LNBqqwTtdV9O"
      },
      "execution_count": 6,
      "outputs": []
    },
    {
      "cell_type": "code",
      "source": [
        "set.seed(12345)\n",
        "model <- lda(class ~ ., data=x_train)\n",
        "projected_data <- as.matrix(x_train[,1:11]) %*% model$scaling\n",
        "plot(projected_data, col = x_train[,12], pch=19)"
      ],
      "metadata": {
        "colab": {
          "base_uri": "https://localhost:8080/",
          "height": 211
        },
        "id": "3SBbzJmfgZ3O",
        "outputId": "eebdf97b-9d7c-47a6-bba4-490fd564fab2"
      },
      "execution_count": 7,
      "outputs": [
        {
          "output_type": "error",
          "ename": "ERROR",
          "evalue": "Error in model.frame.default(formula = class ~ ., data = x_train): object is not a matrix\n",
          "traceback": [
            "Error in model.frame.default(formula = class ~ ., data = x_train): object is not a matrix\nTraceback:\n",
            "1. lda(class ~ ., data = x_train)",
            "2. lda.formula(class ~ ., data = x_train)",
            "3. eval.parent(m)",
            "4. eval(expr, p)",
            "5. eval(expr, p)",
            "6. stats::model.frame(formula = class ~ ., data = x_train)",
            "7. model.frame.default(formula = class ~ ., data = x_train)"
          ]
        }
      ]
    }
  ]
}