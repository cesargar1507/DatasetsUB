{
  "nbformat": 4,
  "nbformat_minor": 0,
  "metadata": {
    "colab": {
      "provenance": []
    },
    "kernelspec": {
      "name": "python3",
      "display_name": "Python 3"
    },
    "language_info": {
      "name": "python"
    }
  },
  "cells": [
    {
      "cell_type": "markdown",
      "source": [
        "**Estudiante:** César Emilio García Ávalos\n",
        "\n",
        "**Actividad:** M2_AI2_Gestión de facturas"
      ],
      "metadata": {
        "id": "w3QoWbTZ57J1"
      }
    },
    {
      "cell_type": "code",
      "execution_count": 129,
      "metadata": {
        "colab": {
          "base_uri": "https://localhost:8080/",
          "height": 206
        },
        "id": "Aw6pkQod2eDy",
        "outputId": "f222a3ae-c4d6-4c8d-c99d-b65a6904caf2"
      },
      "outputs": [
        {
          "output_type": "execute_result",
          "data": {
            "text/plain": [
              "   id       fecha    mes   cliente factura_pagada  importe_factura tipo_IVA  \\\n",
              "0   1  01/01/2010  Enero  clienteA             si              100   normal   \n",
              "1   2  02/01/2010  Enero  clienteB             no              150   normal   \n",
              "2   3  03/01/2010  Enero  clienteC             si               75   normal   \n",
              "3   4  04/01/2010  Enero  clienteD             si              200   normal   \n",
              "4   5  05/01/2010  Enero  clienteA             no              125   normal   \n",
              "\n",
              "   porcentaje_IVA   IVA total_pagado  \n",
              "0              18    18          118  \n",
              "1              18    27          177  \n",
              "2              18  13,5         88,5  \n",
              "3              18    36          236  \n",
              "4              18  22,5        147,5  "
            ],
            "text/html": [
              "\n",
              "  <div id=\"df-cb25bc6a-b13e-4030-8180-6f4ed1f85af4\" class=\"colab-df-container\">\n",
              "    <div>\n",
              "<style scoped>\n",
              "    .dataframe tbody tr th:only-of-type {\n",
              "        vertical-align: middle;\n",
              "    }\n",
              "\n",
              "    .dataframe tbody tr th {\n",
              "        vertical-align: top;\n",
              "    }\n",
              "\n",
              "    .dataframe thead th {\n",
              "        text-align: right;\n",
              "    }\n",
              "</style>\n",
              "<table border=\"1\" class=\"dataframe\">\n",
              "  <thead>\n",
              "    <tr style=\"text-align: right;\">\n",
              "      <th></th>\n",
              "      <th>id</th>\n",
              "      <th>fecha</th>\n",
              "      <th>mes</th>\n",
              "      <th>cliente</th>\n",
              "      <th>factura_pagada</th>\n",
              "      <th>importe_factura</th>\n",
              "      <th>tipo_IVA</th>\n",
              "      <th>porcentaje_IVA</th>\n",
              "      <th>IVA</th>\n",
              "      <th>total_pagado</th>\n",
              "    </tr>\n",
              "  </thead>\n",
              "  <tbody>\n",
              "    <tr>\n",
              "      <th>0</th>\n",
              "      <td>1</td>\n",
              "      <td>01/01/2010</td>\n",
              "      <td>Enero</td>\n",
              "      <td>clienteA</td>\n",
              "      <td>si</td>\n",
              "      <td>100</td>\n",
              "      <td>normal</td>\n",
              "      <td>18</td>\n",
              "      <td>18</td>\n",
              "      <td>118</td>\n",
              "    </tr>\n",
              "    <tr>\n",
              "      <th>1</th>\n",
              "      <td>2</td>\n",
              "      <td>02/01/2010</td>\n",
              "      <td>Enero</td>\n",
              "      <td>clienteB</td>\n",
              "      <td>no</td>\n",
              "      <td>150</td>\n",
              "      <td>normal</td>\n",
              "      <td>18</td>\n",
              "      <td>27</td>\n",
              "      <td>177</td>\n",
              "    </tr>\n",
              "    <tr>\n",
              "      <th>2</th>\n",
              "      <td>3</td>\n",
              "      <td>03/01/2010</td>\n",
              "      <td>Enero</td>\n",
              "      <td>clienteC</td>\n",
              "      <td>si</td>\n",
              "      <td>75</td>\n",
              "      <td>normal</td>\n",
              "      <td>18</td>\n",
              "      <td>13,5</td>\n",
              "      <td>88,5</td>\n",
              "    </tr>\n",
              "    <tr>\n",
              "      <th>3</th>\n",
              "      <td>4</td>\n",
              "      <td>04/01/2010</td>\n",
              "      <td>Enero</td>\n",
              "      <td>clienteD</td>\n",
              "      <td>si</td>\n",
              "      <td>200</td>\n",
              "      <td>normal</td>\n",
              "      <td>18</td>\n",
              "      <td>36</td>\n",
              "      <td>236</td>\n",
              "    </tr>\n",
              "    <tr>\n",
              "      <th>4</th>\n",
              "      <td>5</td>\n",
              "      <td>05/01/2010</td>\n",
              "      <td>Enero</td>\n",
              "      <td>clienteA</td>\n",
              "      <td>no</td>\n",
              "      <td>125</td>\n",
              "      <td>normal</td>\n",
              "      <td>18</td>\n",
              "      <td>22,5</td>\n",
              "      <td>147,5</td>\n",
              "    </tr>\n",
              "  </tbody>\n",
              "</table>\n",
              "</div>\n",
              "    <div class=\"colab-df-buttons\">\n",
              "\n",
              "  <div class=\"colab-df-container\">\n",
              "    <button class=\"colab-df-convert\" onclick=\"convertToInteractive('df-cb25bc6a-b13e-4030-8180-6f4ed1f85af4')\"\n",
              "            title=\"Convert this dataframe to an interactive table.\"\n",
              "            style=\"display:none;\">\n",
              "\n",
              "  <svg xmlns=\"http://www.w3.org/2000/svg\" height=\"24px\" viewBox=\"0 -960 960 960\">\n",
              "    <path d=\"M120-120v-720h720v720H120Zm60-500h600v-160H180v160Zm220 220h160v-160H400v160Zm0 220h160v-160H400v160ZM180-400h160v-160H180v160Zm440 0h160v-160H620v160ZM180-180h160v-160H180v160Zm440 0h160v-160H620v160Z\"/>\n",
              "  </svg>\n",
              "    </button>\n",
              "\n",
              "  <style>\n",
              "    .colab-df-container {\n",
              "      display:flex;\n",
              "      gap: 12px;\n",
              "    }\n",
              "\n",
              "    .colab-df-convert {\n",
              "      background-color: #E8F0FE;\n",
              "      border: none;\n",
              "      border-radius: 50%;\n",
              "      cursor: pointer;\n",
              "      display: none;\n",
              "      fill: #1967D2;\n",
              "      height: 32px;\n",
              "      padding: 0 0 0 0;\n",
              "      width: 32px;\n",
              "    }\n",
              "\n",
              "    .colab-df-convert:hover {\n",
              "      background-color: #E2EBFA;\n",
              "      box-shadow: 0px 1px 2px rgba(60, 64, 67, 0.3), 0px 1px 3px 1px rgba(60, 64, 67, 0.15);\n",
              "      fill: #174EA6;\n",
              "    }\n",
              "\n",
              "    .colab-df-buttons div {\n",
              "      margin-bottom: 4px;\n",
              "    }\n",
              "\n",
              "    [theme=dark] .colab-df-convert {\n",
              "      background-color: #3B4455;\n",
              "      fill: #D2E3FC;\n",
              "    }\n",
              "\n",
              "    [theme=dark] .colab-df-convert:hover {\n",
              "      background-color: #434B5C;\n",
              "      box-shadow: 0px 1px 3px 1px rgba(0, 0, 0, 0.15);\n",
              "      filter: drop-shadow(0px 1px 2px rgba(0, 0, 0, 0.3));\n",
              "      fill: #FFFFFF;\n",
              "    }\n",
              "  </style>\n",
              "\n",
              "    <script>\n",
              "      const buttonEl =\n",
              "        document.querySelector('#df-cb25bc6a-b13e-4030-8180-6f4ed1f85af4 button.colab-df-convert');\n",
              "      buttonEl.style.display =\n",
              "        google.colab.kernel.accessAllowed ? 'block' : 'none';\n",
              "\n",
              "      async function convertToInteractive(key) {\n",
              "        const element = document.querySelector('#df-cb25bc6a-b13e-4030-8180-6f4ed1f85af4');\n",
              "        const dataTable =\n",
              "          await google.colab.kernel.invokeFunction('convertToInteractive',\n",
              "                                                    [key], {});\n",
              "        if (!dataTable) return;\n",
              "\n",
              "        const docLinkHtml = 'Like what you see? Visit the ' +\n",
              "          '<a target=\"_blank\" href=https://colab.research.google.com/notebooks/data_table.ipynb>data table notebook</a>'\n",
              "          + ' to learn more about interactive tables.';\n",
              "        element.innerHTML = '';\n",
              "        dataTable['output_type'] = 'display_data';\n",
              "        await google.colab.output.renderOutput(dataTable, element);\n",
              "        const docLink = document.createElement('div');\n",
              "        docLink.innerHTML = docLinkHtml;\n",
              "        element.appendChild(docLink);\n",
              "      }\n",
              "    </script>\n",
              "  </div>\n",
              "\n",
              "\n",
              "<div id=\"df-ff6807ba-bb0c-45bc-814b-9f65d90a09cd\">\n",
              "  <button class=\"colab-df-quickchart\" onclick=\"quickchart('df-ff6807ba-bb0c-45bc-814b-9f65d90a09cd')\"\n",
              "            title=\"Suggest charts\"\n",
              "            style=\"display:none;\">\n",
              "\n",
              "<svg xmlns=\"http://www.w3.org/2000/svg\" height=\"24px\"viewBox=\"0 0 24 24\"\n",
              "     width=\"24px\">\n",
              "    <g>\n",
              "        <path d=\"M19 3H5c-1.1 0-2 .9-2 2v14c0 1.1.9 2 2 2h14c1.1 0 2-.9 2-2V5c0-1.1-.9-2-2-2zM9 17H7v-7h2v7zm4 0h-2V7h2v10zm4 0h-2v-4h2v4z\"/>\n",
              "    </g>\n",
              "</svg>\n",
              "  </button>\n",
              "\n",
              "<style>\n",
              "  .colab-df-quickchart {\n",
              "      --bg-color: #E8F0FE;\n",
              "      --fill-color: #1967D2;\n",
              "      --hover-bg-color: #E2EBFA;\n",
              "      --hover-fill-color: #174EA6;\n",
              "      --disabled-fill-color: #AAA;\n",
              "      --disabled-bg-color: #DDD;\n",
              "  }\n",
              "\n",
              "  [theme=dark] .colab-df-quickchart {\n",
              "      --bg-color: #3B4455;\n",
              "      --fill-color: #D2E3FC;\n",
              "      --hover-bg-color: #434B5C;\n",
              "      --hover-fill-color: #FFFFFF;\n",
              "      --disabled-bg-color: #3B4455;\n",
              "      --disabled-fill-color: #666;\n",
              "  }\n",
              "\n",
              "  .colab-df-quickchart {\n",
              "    background-color: var(--bg-color);\n",
              "    border: none;\n",
              "    border-radius: 50%;\n",
              "    cursor: pointer;\n",
              "    display: none;\n",
              "    fill: var(--fill-color);\n",
              "    height: 32px;\n",
              "    padding: 0;\n",
              "    width: 32px;\n",
              "  }\n",
              "\n",
              "  .colab-df-quickchart:hover {\n",
              "    background-color: var(--hover-bg-color);\n",
              "    box-shadow: 0 1px 2px rgba(60, 64, 67, 0.3), 0 1px 3px 1px rgba(60, 64, 67, 0.15);\n",
              "    fill: var(--button-hover-fill-color);\n",
              "  }\n",
              "\n",
              "  .colab-df-quickchart-complete:disabled,\n",
              "  .colab-df-quickchart-complete:disabled:hover {\n",
              "    background-color: var(--disabled-bg-color);\n",
              "    fill: var(--disabled-fill-color);\n",
              "    box-shadow: none;\n",
              "  }\n",
              "\n",
              "  .colab-df-spinner {\n",
              "    border: 2px solid var(--fill-color);\n",
              "    border-color: transparent;\n",
              "    border-bottom-color: var(--fill-color);\n",
              "    animation:\n",
              "      spin 1s steps(1) infinite;\n",
              "  }\n",
              "\n",
              "  @keyframes spin {\n",
              "    0% {\n",
              "      border-color: transparent;\n",
              "      border-bottom-color: var(--fill-color);\n",
              "      border-left-color: var(--fill-color);\n",
              "    }\n",
              "    20% {\n",
              "      border-color: transparent;\n",
              "      border-left-color: var(--fill-color);\n",
              "      border-top-color: var(--fill-color);\n",
              "    }\n",
              "    30% {\n",
              "      border-color: transparent;\n",
              "      border-left-color: var(--fill-color);\n",
              "      border-top-color: var(--fill-color);\n",
              "      border-right-color: var(--fill-color);\n",
              "    }\n",
              "    40% {\n",
              "      border-color: transparent;\n",
              "      border-right-color: var(--fill-color);\n",
              "      border-top-color: var(--fill-color);\n",
              "    }\n",
              "    60% {\n",
              "      border-color: transparent;\n",
              "      border-right-color: var(--fill-color);\n",
              "    }\n",
              "    80% {\n",
              "      border-color: transparent;\n",
              "      border-right-color: var(--fill-color);\n",
              "      border-bottom-color: var(--fill-color);\n",
              "    }\n",
              "    90% {\n",
              "      border-color: transparent;\n",
              "      border-bottom-color: var(--fill-color);\n",
              "    }\n",
              "  }\n",
              "</style>\n",
              "\n",
              "  <script>\n",
              "    async function quickchart(key) {\n",
              "      const quickchartButtonEl =\n",
              "        document.querySelector('#' + key + ' button');\n",
              "      quickchartButtonEl.disabled = true;  // To prevent multiple clicks.\n",
              "      quickchartButtonEl.classList.add('colab-df-spinner');\n",
              "      try {\n",
              "        const charts = await google.colab.kernel.invokeFunction(\n",
              "            'suggestCharts', [key], {});\n",
              "      } catch (error) {\n",
              "        console.error('Error during call to suggestCharts:', error);\n",
              "      }\n",
              "      quickchartButtonEl.classList.remove('colab-df-spinner');\n",
              "      quickchartButtonEl.classList.add('colab-df-quickchart-complete');\n",
              "    }\n",
              "    (() => {\n",
              "      let quickchartButtonEl =\n",
              "        document.querySelector('#df-ff6807ba-bb0c-45bc-814b-9f65d90a09cd button');\n",
              "      quickchartButtonEl.style.display =\n",
              "        google.colab.kernel.accessAllowed ? 'block' : 'none';\n",
              "    })();\n",
              "  </script>\n",
              "</div>\n",
              "    </div>\n",
              "  </div>\n"
            ],
            "application/vnd.google.colaboratory.intrinsic+json": {
              "type": "dataframe",
              "variable_name": "df",
              "repr_error": "'str' object has no attribute 'empty'"
            }
          },
          "metadata": {},
          "execution_count": 129
        }
      ],
      "source": [
        "import pandas as pd\n",
        "import numpy as np\n",
        "import matplotlib.pyplot as plt\n",
        "import seaborn as sns\n",
        "ruta = ('https://raw.githubusercontent.com/cesargar1507/DatasetsUB/main/datos_facturas.csv?_sm_au_=iVVjpm8RlpHJHq5F26q8vKHV6CTMc')\n",
        "datos = pd.read_csv(ruta, sep = ';')\n",
        "df = pd.DataFrame(datos)\n",
        "df.head()"
      ]
    },
    {
      "cell_type": "code",
      "source": [
        "df.info()"
      ],
      "metadata": {
        "id": "A_33HlLg_mTg",
        "outputId": "c8ed5255-ec17-420e-eb78-4eab7547e0df",
        "colab": {
          "base_uri": "https://localhost:8080/"
        }
      },
      "execution_count": 130,
      "outputs": [
        {
          "output_type": "stream",
          "name": "stdout",
          "text": [
            "<class 'pandas.core.frame.DataFrame'>\n",
            "RangeIndex: 45 entries, 0 to 44\n",
            "Data columns (total 10 columns):\n",
            " #   Column           Non-Null Count  Dtype \n",
            "---  ------           --------------  ----- \n",
            " 0   id               45 non-null     int64 \n",
            " 1   fecha            45 non-null     object\n",
            " 2   mes              45 non-null     object\n",
            " 3   cliente          45 non-null     object\n",
            " 4   factura_pagada   45 non-null     object\n",
            " 5   importe_factura  45 non-null     int64 \n",
            " 6   tipo_IVA         45 non-null     object\n",
            " 7   porcentaje_IVA   45 non-null     int64 \n",
            " 8   IVA              45 non-null     object\n",
            " 9   total_pagado     45 non-null     object\n",
            "dtypes: int64(3), object(7)\n",
            "memory usage: 3.6+ KB\n"
          ]
        }
      ]
    },
    {
      "cell_type": "markdown",
      "source": [
        "# **PARTE 1**"
      ],
      "metadata": {
        "id": "xWzu4SOs_Nfq"
      }
    },
    {
      "cell_type": "code",
      "source": [
        "#Conversion de la variable total pagado a numérica para realizar cálculos, se sustituyen las comas por puntos\n",
        "if df['total_pagado'].dtype == object:\n",
        "  df['total_pagado'] = pd.to_numeric(df['total_pagado'].str.replace(',','.'), errors= 'coerce')\n",
        "else:\n",
        "  print(\"La variable ya se ha convertido a numérica\")"
      ],
      "metadata": {
        "id": "s6KuSk5N4P_N"
      },
      "execution_count": 131,
      "outputs": []
    },
    {
      "cell_type": "code",
      "source": [
        "#Cálculo de media de la columna total pagado del dataframe df\n",
        "mediaTP = df['total_pagado'].mean()\n",
        "print('Media total pagado:', mediaTP)\n",
        "#Cálculo de mediana de la columna total pagado del dataframe df\n",
        "medianaTP = df['total_pagado'].median()\n",
        "print('Mediana total pagado:', medianaTP)\n",
        "#Este método calcula la moda de los valores en la columna 'total_pagado'. La función mode() en pandas retorna\n",
        "#una serie que contiene los valores de moda, ya que puede haber más de uno si hay empates.\n",
        "#[0]: Como la moda puede ser una serie (en caso de empate) y solo queremos el primer valor de moda, accedemos a él utilizando [0].\n",
        "modaTP = df['total_pagado'].mode()[0]\n",
        "print('Moda total pagado:', modaTP)"
      ],
      "metadata": {
        "colab": {
          "base_uri": "https://localhost:8080/"
        },
        "id": "eDCPZHgI6J6j",
        "outputId": "395acacf-b514-403e-f1f2-960e5fe6c8a8"
      },
      "execution_count": 132,
      "outputs": [
        {
          "output_type": "stream",
          "name": "stdout",
          "text": [
            "Media total pagado: 147.30888888888887\n",
            "Mediana total pagado: 135.0\n",
            "Moda total pagado: 118.0\n"
          ]
        }
      ]
    },
    {
      "cell_type": "markdown",
      "source": [
        "**Media (promedio) total pagado:** La media es de aproximadamente 147.31. Esto significa que, en promedio, se paga alrededor de 147.31 unidades monetarias en total.\n",
        "\n",
        "**Mediana total pagado:** La mediana es de 135. Esto indica que el 50% de los valores totales pagados son iguales o menores que 135, y el otro 50% son iguales o mayores que 135. La mediana es útil para entender el valor central de los datos y es menos sensible a los valores atípicos que la media.\n",
        "\n",
        "**Moda total pagado:** La moda es 118. Esto significa que 118 es el valor más frecuente o común entre los datos de total pagado."
      ],
      "metadata": {
        "id": "-riG0leHQOlc"
      }
    },
    {
      "cell_type": "code",
      "source": [
        "#Se calcula el rango utilizando una función de NumPy que calcula el rango de un array, que es la diferencia entre el valor máximo y el valor mínimo.\n",
        "rangoTP = np.ptp(df['total_pagado'])\n",
        "#Este método calcula la varianza de los valores en la columna 'total_pagado'.\n",
        "#La varianza es una medida de dispersión que indica qué tan dispersos están los valores con respecto a la media.\n",
        "varianzaTP = df['total_pagado'].var()\n",
        "#Este método calcula la desviación estándar de los valores en la columna 'total_pagado'.\n",
        "#La desviación estándar es otra medida de dispersión que indica la dispersión promedio de los valores con respecto a la media.\n",
        "desvTP = df['total_pagado'].std()\n",
        "#Aquí se calcula el coeficiente de variación, que es una medida relativa de la dispersión de los datos.\n",
        "#Se calcula dividiendo la desviación estándar por la media y multiplicándolo por 100 para expresarlo como un porcentaje.\n",
        "coeficiente_variacionTP = (desvTP / df['total_pagado'].mean()) * 100\n",
        "print(\"Rango:\", rangoTP)\n",
        "print(\"Varianza:\", varianzaTP)\n",
        "print(\"Desviación estándar:\", desvTP)\n",
        "print(\"Coeficiente de variación:\", coeficiente_variacionTP)\n"
      ],
      "metadata": {
        "colab": {
          "base_uri": "https://localhost:8080/"
        },
        "id": "3a1hbWju7NGq",
        "outputId": "89f9a14b-a05e-4e15-e9b9-ed715ceb6409"
      },
      "execution_count": 133,
      "outputs": [
        {
          "output_type": "stream",
          "name": "stdout",
          "text": [
            "Rango: 206.5\n",
            "Varianza: 3356.593555555555\n",
            "Desviación estándar: 57.93611615871015\n",
            "Coeficiente de variación: 39.329681050279184\n"
          ]
        }
      ]
    },
    {
      "cell_type": "markdown",
      "source": [
        "**Rango:** El rango es 206.5 unidades monetarias para total pagado, puede ser indicativo de variabilidad pues se observa un mínimo de total pagado de 29.5 unidades monetarias a un máximo de total pagado en facturas de 236 unidades monetarias.\n",
        "\n",
        "**Desviación estándar y varianza:** La desviación estándar indica que el monto de total pagado se desvía de la media en 57.94 unidades monetarias, además, la varianza indica que los datos se encuentran dispersos, con un valor de 3,356.59 unidades monetarias al cuadrado\n",
        "\n",
        "**CV:** El coeficiente de variación al ser mayor que 30% indica que el conjunto de datos es no homogéneo, el promedio no será representativo del conjunto de datos."
      ],
      "metadata": {
        "id": "YfKJg_zaRLTR"
      }
    },
    {
      "cell_type": "code",
      "source": [
        "#Se calcula el rango intercuartílico, que es la diferencia entre el tercer cuartil (Q3) y el primer cuartil (Q1).\n",
        "#Se obtiene restando el valor del tercer cuartil (quantile(0.75)) del valor del primer cuartil (quantile(0.25)).\n",
        "rango_intercuartilico = df['total_pagado'].quantile(0.75) - df['total_pagado'].quantile(0.25)\n",
        "#Se calcula el primer cuartil, que es el valor por debajo del cual cae el 25% de los datos. Esto se hace utilizando el método quantile(0.25).\n",
        "cuartil_primero = df['total_pagado'].quantile(0.25)\n",
        "#Se calcula el percentil 90, que es el valor por debajo del cual cae el 90% de los datos. Esto se hace utilizando el método quantile(0.90).\n",
        "percentil_90 = df['total_pagado'].quantile(0.90)\n",
        "print(\"Rango intercuartílico:\", rango_intercuartilico)\n",
        "print(\"Cuartil primero (percentil 25):\", cuartil_primero)\n",
        "print(\"Percentil 90:\", percentil_90)"
      ],
      "metadata": {
        "colab": {
          "base_uri": "https://localhost:8080/"
        },
        "id": "IYchsaCb7xVv",
        "outputId": "ec7ed4c5-4d9a-451a-eade-af3f0a6719d5"
      },
      "execution_count": 134,
      "outputs": [
        {
          "output_type": "stream",
          "name": "stdout",
          "text": [
            "Rango intercuartílico: 81.0\n",
            "Cuartil primero (percentil 25): 108.0\n",
            "Percentil 90: 236.0\n"
          ]
        }
      ]
    },
    {
      "cell_type": "markdown",
      "source": [
        "**Rango Intercuartílico:** El RIC es de 81.0 unidades monetarias. Esto significa que el 50% central de los datos de total pagado se encuentran dentro de un rango de 81.0 unidades monetarias, desde el cuartil primero (Q1) hasta el cuartil tercero (Q3).\n",
        "\n",
        "**Cuartil primero (Percentil 25):** El cuartil primero (Q1) es de 108.0 unidades monetarias. Esto indica que el 25% de los datos de total pagado son iguales o inferiores a 108.0 unidades monetarias.\n",
        "\n",
        "**Percentil 90:** El percentil 90 es de 236.0 unidades monetarias. Esto significa que el 90% de los datos de total pagado son iguales o inferiores a 236.0 unidades monetarias."
      ],
      "metadata": {
        "id": "A4aRGidrTUx0"
      }
    },
    {
      "cell_type": "code",
      "source": [
        "# Calcular la curtosis y la asimetría\n",
        "curtosis = df['total_pagado'].kurtosis()\n",
        "asimetria = df['total_pagado'].skew()\n",
        "#Calculando el número óptimo de bins usando la regla de Sturges\n",
        "n_bins = int(1 + np.log2(len(df['total_pagado'])))\n",
        "# Creando el histograma\n",
        "plt.figure(figsize=(10, 6))\n",
        "sns.histplot(df['total_pagado'], kde=True, color='skyblue', bins= n_bins)\n",
        "plt.title('Histograma de Total Pagado')\n",
        "plt.xlabel('Total Pagado')\n",
        "plt.ylabel('Frecuencia')\n",
        "\n",
        "# Mostrar medidas de concentración y forma\n",
        "plt.text(0.6, 0.9, f'Curtosis: {curtosis:.2f}', transform=plt.gca().transAxes)\n",
        "plt.text(0.6, 0.8, f'Asimetría: {asimetria:.2f}', transform=plt.gca().transAxes)\n",
        "\n",
        "plt.grid(True)\n",
        "plt.show()"
      ],
      "metadata": {
        "colab": {
          "base_uri": "https://localhost:8080/",
          "height": 564
        },
        "id": "BE1I2LfN8HK3",
        "outputId": "6b3bb965-c6bc-4faf-f3d2-473a83ccc2d1"
      },
      "execution_count": 135,
      "outputs": [
        {
          "output_type": "display_data",
          "data": {
            "text/plain": [
              "<Figure size 1000x600 with 1 Axes>"
            ],
            "image/png": "[encoded data removed]"
          },
          "metadata": {}
        }
      ]
    },
    {
      "cell_type": "markdown",
      "source": [
        "La forma del histograma no se asemeja a una distribución normal de los datos, el valor de la curtosis de -0.8 indica que la distribución es más achatada que una distribución normal, se identifica un sesgo de los datos a la derecha al tener un dato de asimetría positivo de 0.1, la cola derecha es más pesada."
      ],
      "metadata": {
        "id": "XfjrzDFkT5vS"
      }
    },
    {
      "cell_type": "code",
      "source": [
        "plt.figure(figsize=(8, 6))\n",
        "plt.boxplot(df['total_pagado'])\n",
        "plt.title('Boxplot de Total Pagado')\n",
        "plt.xlabel('Total Pagado')\n",
        "plt.show()"
      ],
      "metadata": {
        "colab": {
          "base_uri": "https://localhost:8080/",
          "height": 564
        },
        "id": "hvirpkVq_PvK",
        "outputId": "7347b095-e448-4d9d-a2d7-894cbba46007"
      },
      "execution_count": 136,
      "outputs": [
        {
          "output_type": "display_data",
          "data": {
            "text/plain": [
              "<Figure size 800x600 with 1 Axes>"
            ],
            "image/png": "[encoded data removed]"
          },
          "metadata": {}
        }
      ]
    },
    {
      "cell_type": "markdown",
      "source": [
        "El boxplot no muestra valores atípicos, los bigotes se extienden de 29 a 236 en cuanto al total pagado, la media está ubicada en 147.30 unidades monetarias, además de observar la mediana ubicada en 135"
      ],
      "metadata": {
        "id": "Vb0EMz5wTnlE"
      }
    },
    {
      "cell_type": "markdown",
      "source": [
        "**Comentarios Parte 1:**\n",
        "*  La media del total pagado es de aproximadamente 147.31 unidades monetarias. Esto significa que, en promedio, el monto total pagado en todas las facturas es alrededor de 147.31 unidades monetarias.\n",
        "*   La mediana del total pagado es de 135 unidades monetarias. Esto indica que el valor medio del total pagado está en el centro del conjunto de datos, y la mitad de los valores están por encima y la otra mitad por debajo de este valor.\n",
        "*   La moda del total pagado es de 118 unidades monetarias. Esto indica que el valor más común o frecuente del total pagado en las facturas es de 118 unidades monetarias.\n",
        "*   El rango del total pagado es de 206.5 unidades monetarias. Esto representa la diferencia entre el valor máximo y el valor mínimo de los pagos realizados en todas las facturas.\n",
        "*   La varianza del total pagado es de aproximadamente 3356.59 unidades monetarias al cuadrado. Indica cuánto se dispersan los valores del total pagado alrededor de la media.\n",
        "*   La desviación estándar del total pagado es de aproximadamente 57.94 unidades monetarias. Es una medida de dispersión que indica cuánto se alejan los valores del total pagado de la media.\n",
        "*   El coeficiente de variación es 39.33%. Al ser CV>30% Indica una alta variabilidad relativa. Esto sugiere que los datos tienen una dispersión alta con respecto a la media por lo que los datos pueden ser menos predecibles.\n",
        "*   El rango intercuartílico es de 81 unidades monetarias. Esto indica la dispersión de los datos dentro del rango intercuartílico, que abarca el 50% central de los datos.\n",
        "*   El cuartil primero (percentil 25) es de 108 unidades monetarias. Esto significa que el 25% de los pagos son iguales o inferiores a este valor.\n",
        "*   El percentil 90 es de 236 unidades monetarias. Esto indica que el 90% de los pagos son iguales o inferiores a este valor.\n",
        "\n",
        "\n",
        "\n",
        "\n",
        "\n",
        "\n",
        "\n",
        "\n",
        "\n"
      ],
      "metadata": {
        "id": "WqqtMJ02h98F"
      }
    },
    {
      "cell_type": "markdown",
      "source": [
        "# **PARTE 2**"
      ],
      "metadata": {
        "id": "cBllYzCQ_SIS"
      }
    },
    {
      "cell_type": "code",
      "source": [
        "#Se filtra el DataFrame df para incluir solo las filas donde el valor de la columna 'factura_pagada' es igual a 'si'.\n",
        "#Esto significa que solo se consideran las facturas que han sido pagadas.\n",
        "df_filtrado = df.loc[df['factura_pagada']=='si']\n",
        "#Se agrupan los datos filtrados por el nombre del cliente y calcula la suma total pagada por cada cliente.\n",
        "cliente_mas_pago = df_filtrado.groupby('cliente')['total_pagado'].sum()\n",
        "print(cliente_mas_pago)"
      ],
      "metadata": {
        "colab": {
          "base_uri": "https://localhost:8080/"
        },
        "id": "9kyo5essPCHj",
        "outputId": "e9114950-5899-46c2-8ce0-06554673d26c"
      },
      "execution_count": 137,
      "outputs": [
        {
          "output_type": "stream",
          "name": "stdout",
          "text": [
            "cliente\n",
            "clienteA    1534.0\n",
            "clienteB     924.0\n",
            "clienteC     584.5\n",
            "clienteD    1534.0\n",
            "Name: total_pagado, dtype: float64\n"
          ]
        }
      ]
    },
    {
      "cell_type": "markdown",
      "source": [
        "Los clientes A y D han pagado 1,534 unidades monetarias cada uno, ambos son los que han pagado más dinero en concepto de facturas, el que menos ha pagado es el cliente C con un importe de 584.5 unidades monetarias."
      ],
      "metadata": {
        "id": "JgLwOpj2U-IT"
      }
    },
    {
      "cell_type": "code",
      "source": [
        "#Se filtra el DataFrame df para incluir solo las filas donde el valor de la columna 'factura_pagada' es igual a 'si'.\n",
        "#Esto significa que solo se consideran las facturas que han sido pagadas.\n",
        "df_filtrado = df.loc[df['factura_pagada']=='si']\n",
        "#Se agrupan los datos filtrados por el nombre del cliente y calcula la suma total pagada por cada cliente.\n",
        "cliente_mas_pago = df_filtrado.groupby('cliente')['total_pagado'].sum().sort_values(ascending=False)\n",
        "plt.figure(figsize=(10, 6))\n",
        "cliente_mas_pago.plot(kind='bar', color='skyblue')\n",
        "plt.title('Pago por cliente')\n",
        "plt.xlabel('Cliente')\n",
        "plt.ylabel('Total Pagado')\n",
        "plt.xticks(rotation=45)\n",
        "plt.grid(axis='y', linestyle='--', alpha=0.7)\n",
        "plt.show()"
      ],
      "metadata": {
        "colab": {
          "base_uri": "https://localhost:8080/",
          "height": 601
        },
        "id": "FXDA3Zav8KJK",
        "outputId": "fdbc1398-29da-479f-8f10-916afab0e602"
      },
      "execution_count": 138,
      "outputs": [
        {
          "output_type": "display_data",
          "data": {
            "text/plain": [
              "<Figure size 1000x600 with 1 Axes>"
            ],
            "image/png": "[encoded data removed]"
          },
          "metadata": {}
        }
      ]
    },
    {
      "cell_type": "code",
      "source": [
        "#Se filtra el DataFrame df para incluir solo las filas donde el valor de la columna 'mes' es igual a 'Febrero' y donde el valor de la columna 'factura_pagada' es igual a 'si'.\n",
        "#Esto significa que solo se consideran las facturas pagadas en febrero.\n",
        "febrero_df = df.loc[(df['mes']=='Febrero') & (df['factura_pagada']=='si')]\n",
        "#value_counts() cuenta el número de veces que aparece cada cliente en el DataFrame filtrado y idxmin() devuelve el índice correspondiente al mínimo valor,\n",
        "#que es el cliente que ha pagado menos facturas.\n",
        "cliente_menos_facturas = febrero_df['cliente'].value_counts().idxmin()\n",
        "numero_facturas_menos = febrero_df['cliente'].value_counts().min()\n",
        "print(\"El cliente que ha pagado menos facturas en febrero es:\", cliente_menos_facturas)\n",
        "print(\"Número de facturas pagadas por este cliente en febrero:\", numero_facturas_menos)"
      ],
      "metadata": {
        "colab": {
          "base_uri": "https://localhost:8080/"
        },
        "id": "Ry2Z-wpBQ01A",
        "outputId": "b6421aac-8f73-464a-cabf-0796c5652630"
      },
      "execution_count": 139,
      "outputs": [
        {
          "output_type": "stream",
          "name": "stdout",
          "text": [
            "El cliente que ha pagado menos facturas en febrero es: clienteC\n",
            "Número de facturas pagadas por este cliente en febrero: 1\n"
          ]
        }
      ]
    },
    {
      "cell_type": "code",
      "source": [
        "#Se filtra el DataFrame df para incluir solo las filas donde el valor de la columna 'factura_pagada' es igual a 'no'.\n",
        "#Esto significa que solo se consideran las facturas que no han sido pagadas.\n",
        "df_filtrado = df.loc[df['factura_pagada']=='no']\n",
        "#Se agrupan los datos filtrados por el nombre del cliente y calcula la suma total pendiente a pagar por cada cliente.\n",
        "cliente_mas_pago = df_filtrado.groupby('cliente')['total_pagado'].sum()\n",
        "print(cliente_mas_pago)"
      ],
      "metadata": {
        "colab": {
          "base_uri": "https://localhost:8080/"
        },
        "id": "cXbQqeDpVj2J",
        "outputId": "d95eb468-a29e-4502-bb58-eed014c7823e"
      },
      "execution_count": 140,
      "outputs": [
        {
          "output_type": "stream",
          "name": "stdout",
          "text": [
            "cliente\n",
            "clienteA    565.0\n",
            "clienteB    413.0\n",
            "clienteC    570.0\n",
            "clienteD    504.4\n",
            "Name: total_pagado, dtype: float64\n"
          ]
        }
      ]
    },
    {
      "cell_type": "markdown",
      "source": [
        "El cliente que ha pagado menor cantidad de facturas en febrero es el clienteC, además es el cliente que debe un mayor monto (570 unidades monetarias) en cuanto a facturas pendientes de pagar."
      ],
      "metadata": {
        "id": "ub4tr9KuVaNM"
      }
    },
    {
      "cell_type": "code",
      "source": [
        "#Se filtra el DataFrame df para incluir solo las filas donde el valor de la columna 'mes' es igual a 'Febrero' y donde el valor de la columna 'factura_pagada' es igual a 'si'.\n",
        "#Esto significa que solo se consideran las facturas pagadas en febrero.\n",
        "febrero_df = df.loc[(df['mes']=='Febrero') & (df['factura_pagada']=='si')]\n",
        "#value_counts() cuenta el número de veces que aparece cada cliente en el DataFrame filtrado\n",
        "cliente_menos_facturas = febrero_df['cliente'].value_counts()\n",
        "plt.figure(figsize=(10, 6))\n",
        "cliente_menos_facturas.plot(kind='bar', color='skyblue')\n",
        "plt.title('Cantidad de facturas pagadas')\n",
        "plt.xlabel('Cliente')\n",
        "plt.ylabel('Total Pagado')\n",
        "plt.xticks(rotation=45)\n",
        "plt.grid(axis='y', linestyle='--', alpha=0.7)\n",
        "plt.show()"
      ],
      "metadata": {
        "colab": {
          "base_uri": "https://localhost:8080/",
          "height": 601
        },
        "id": "jkTBuVD09HKd",
        "outputId": "a2173d0e-e1b7-4873-9aa7-2289f297b885"
      },
      "execution_count": 141,
      "outputs": [
        {
          "output_type": "display_data",
          "data": {
            "text/plain": [
              "<Figure size 1000x600 with 1 Axes>"
            ],
            "image/png": "[encoded data removed]"
          },
          "metadata": {}
        }
      ]
    },
    {
      "cell_type": "markdown",
      "source": [
        "**Comentarios Parte 2:**\n",
        "\n",
        "\n",
        "*   **Cliente más rentable:** Los clientes \"clienteA\" y \"clienteD\" han pagado el total más alto en todas las facturas (1,534 unidades monetarias cada uno). Sería beneficioso para la compañía mantener una relación sólida con estos clientes y explorar oportunidades para aumentar la participación de los mismos, ofreciendo descuentos o servicios adicionales.\n",
        "\n",
        "*   **Cliente menos activo en febrero:** El cliente \"clienteC\" ha pagado el menor número de facturas en febrero (1 factura), además es el que tiene un mayor monto pendiente a pagar (570 unidades monetarias). Sería importante investigar las razones detrás de esta baja actividad y considerar estrategias para fomentar una mayor participación de este cliente, como ofrecer incentivos especiales o mejorar la calidad del servicio.\n",
        "\n"
      ],
      "metadata": {
        "id": "JjiavewljqMi"
      }
    },
    {
      "cell_type": "markdown",
      "source": [
        "# **PARTE 3**"
      ],
      "metadata": {
        "id": "nu79zF0u_Yha"
      }
    },
    {
      "cell_type": "code",
      "source": [
        "#Se realiza la conversión de tipo de dato de la columna IVA a numérico para poder operar con ella, se sustituyen las comas por puntos\n",
        "if df['IVA'].dtype == object:\n",
        "  df['IVA'] = pd.to_numeric(df['IVA'].str.replace(',','.'), errors= 'coerce')\n",
        "else:\n",
        "  print(\"La variable ya se ha convertido a numérica\")\n",
        "covarianza = df['IVA'].astype(float).cov(df['total_pagado'])\n",
        "print(\"La covarianza entre el IVA y el total pagado es:\", covarianza)"
      ],
      "metadata": {
        "colab": {
          "base_uri": "https://localhost:8080/"
        },
        "id": "yYgrX-YcVMLL",
        "outputId": "c9a1901b-3876-46e1-9f03-cebdc8e96dc9"
      },
      "execution_count": 142,
      "outputs": [
        {
          "output_type": "stream",
          "name": "stdout",
          "text": [
            "La covarianza entre el IVA y el total pagado es: 526.768808080808\n"
          ]
        }
      ]
    },
    {
      "cell_type": "markdown",
      "source": [
        "La covarianza entre el IVA y el total pagado es positiva de 526.77, esto indica que, cuando una variable aumenta la otra incrementa también y viceversa, al incrementar el total pagado el IVA también incrementará, esto es logico pues el total pagado se calcula como el **importe de la factura*(1+%IVA)**, es una relación directamente proporcional."
      ],
      "metadata": {
        "id": "ECoAe0vWWYAB"
      }
    },
    {
      "cell_type": "code",
      "source": [
        "# Grafico de dispersión de IVA vs total_pagado\n",
        "plt.figure(figsize=(10, 6))\n",
        "plt.scatter(df['IVA'], df['total_pagado'], color='skyblue', alpha=0.6)\n",
        "plt.title('Gráfico de dispersión de IVA vs Total Pagado')\n",
        "plt.xlabel('IVA')\n",
        "plt.ylabel('Total Pagado')\n",
        "plt.grid(True, linestyle='--', alpha=0.6)\n",
        "plt.show()"
      ],
      "metadata": {
        "colab": {
          "base_uri": "https://localhost:8080/",
          "height": 565
        },
        "id": "6wSi64u7Ttxa",
        "outputId": "9a7ebe45-8057-4002-ec0a-c0f87989fce2"
      },
      "execution_count": 143,
      "outputs": [
        {
          "output_type": "display_data",
          "data": {
            "text/plain": [
              "<Figure size 1000x600 with 1 Axes>"
            ],
            "image/png": "[encoded data removed]"
          },
          "metadata": {}
        }
      ]
    },
    {
      "cell_type": "markdown",
      "source": [
        "El gráfico de dispersión muestra que a medida que incrementa el total pagado, el IVA incrementa de igual manera."
      ],
      "metadata": {
        "id": "dcMAjQ9MWndq"
      }
    },
    {
      "cell_type": "markdown",
      "source": [
        "**Comentarios Parte 3:**\n",
        "Basarse únicamente en el gráfico de dispersión y la covarianza para construir un modelo predictivo podría no ser suficiente, lógicamente cuando el valor del IVA aumenta, el total pagado tiende a aumentar también, y viceversa, esto se confirma al obtener un valor de covarianza positiva entre ambas variables, indicando una relación positiva entre las mismas (si total pagado aumenta IVA también aumenta) de igual manera se visualiza en el gráfico de dispersión la relación entre las variables previamente mencionadas. Sin embargo, la magnitud de la covarianza no dice mucho sobre la fuerza de la relación o significancia estadística de las variables IVA y Total Pagado, de igual manera no permite predecir el comportamiento de los pagos, sería necesario utilizar análisis de correlaciones, regresiones, etc."
      ],
      "metadata": {
        "id": "xOlcFMJEkB9L"
      }
    },
    {
      "cell_type": "markdown",
      "source": [
        "# **PARTE 4**"
      ],
      "metadata": {
        "id": "2Gl6WytI_cn7"
      }
    },
    {
      "cell_type": "markdown",
      "source": [
        "**Parte 4 Recomendaciones:**\n",
        "\n",
        "1.   Mantener un enfoque en la retención y satisfacción del cliente, especialmente con clientes de alto valor como \"clienteA\" y \"clienteD\", ambos aportan el 67.02% del monto total pagado, por lo que se debe garantizar que ambos clientes mantengan la misma tendencia de pago.\n",
        "2.   Implementar estrategias para incentivar la participación de clientes menos activos, como programas de fidelización o descuentos personalizados, ofrecer facilidades de pago aplicables para clientes como \"clienteC\" (cliente que menos pagos efectuó en febrero y que adeuda un total de 570 unidades monetarias).\n",
        "3. Monitorear de cerca las tendencias en los pagos y el comportamiento del cliente para identificar oportunidades de mejora y anticipar cambios en la demanda o el mercado.\n",
        "\n",
        "\n",
        "\n"
      ],
      "metadata": {
        "id": "KJv-9BK3duwR"
      }
    },
    {
      "cell_type": "code",
      "source": [
        "#Se filtra el DataFrame df para incluir solo las filas donde el valor de la columna 'factura_pagada' es igual a 'si'.\n",
        "#Esto significa que solo se consideran las facturas que han sido pagadas.\n",
        "df_filtrado = df.loc[df['factura_pagada']=='si']\n",
        "#Se agrupan los datos filtrados por el nombre del cliente y calcula la suma total pagada por cada cliente.\n",
        "pagos_totales = df_filtrado.groupby('cliente')['total_pagado'].sum()\n",
        "#Calcular la suma total de todos los montos pagados\n",
        "total_pagado_total = pagos_totales.sum()\n",
        "proporcion_pagada_por_cliente = (pagos_totales*100)/ total_pagado_total\n",
        "# Mostrar los resultados\n",
        "print(proporcion_pagada_por_cliente)"
      ],
      "metadata": {
        "colab": {
          "base_uri": "https://localhost:8080/"
        },
        "id": "jOagFX7tZVbz",
        "outputId": "8115ec44-7a74-40a1-fa98-d27093f8af08"
      },
      "execution_count": 144,
      "outputs": [
        {
          "output_type": "stream",
          "name": "stdout",
          "text": [
            "cliente\n",
            "clienteA    33.519065\n",
            "clienteB    20.190102\n",
            "clienteC    12.771769\n",
            "clienteD    33.519065\n",
            "Name: total_pagado, dtype: float64\n"
          ]
        }
      ]
    }
  ]
}