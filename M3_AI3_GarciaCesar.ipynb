{
  "nbformat": 4,
  "nbformat_minor": 0,
  "metadata": {
    "colab": {
      "provenance": [],
      "authorship_tag": "ABX9TyPxqnsFauXWde+sCDxmWdkG",
      "include_colab_link": true
    },
    "kernelspec": {
      "name": "ir",
      "display_name": "R"
    },
    "language_info": {
      "name": "R"
    }
  },
  "cells": [
    {
      "cell_type": "markdown",
      "metadata": {
        "id": "view-in-github",
        "colab_type": "text"
      },
      "source": [
        "<a href=\"https://colab.research.google.com/github/cesargar1507/DatasetsUB/blob/main/M3_AI3_GarciaCesar.ipynb\" target=\"_parent\"><img src=\"https://colab.research.google.com/assets/colab-badge.svg\" alt=\"Open In Colab\"/></a>"
      ]
    },
    {
      "cell_type": "code",
      "execution_count": 22,
      "metadata": {
        "colab": {
          "base_uri": "https://localhost:8080/",
          "height": 355
        },
        "id": "NXvNrUprHSkt",
        "outputId": "c4f3522a-48dd-4ccd-8961-89521010269a"
      },
      "outputs": [
        {
          "output_type": "stream",
          "name": "stdout",
          "text": [
            "'data.frame':\t468 obs. of  3 variables:\n",
            " $ pais     : chr  \"Ukraine\" \"Kuwait\" \"Iraq\" \"Hong Kong SAR, China\" ...\n",
            " $ valor    : chr  \"23,3\" \"3100000\" \"2,5\" \"3408240\" ...\n",
            " $ indicador: chr  \"2010|Internet_por\" \"2018|Facebook\" \"2010|Internet_por\" \"2010|Facebook\" ...\n"
          ]
        },
        {
          "output_type": "display_data",
          "data": {
            "text/html": [
              "<table class=\"dataframe\">\n",
              "<caption>A data.frame: 6 × 3</caption>\n",
              "<thead>\n",
              "\t<tr><th></th><th scope=col>pais</th><th scope=col>valor</th><th scope=col>indicador</th></tr>\n",
              "\t<tr><th></th><th scope=col>&lt;chr&gt;</th><th scope=col>&lt;chr&gt;</th><th scope=col>&lt;chr&gt;</th></tr>\n",
              "</thead>\n",
              "<tbody>\n",
              "\t<tr><th scope=row>1</th><td>Ukraine             </td><td>23,3       </td><td>2010|Internet_por</td></tr>\n",
              "\t<tr><th scope=row>2</th><td>Kuwait              </td><td>3100000    </td><td>2018|Facebook    </td></tr>\n",
              "\t<tr><th scope=row>3</th><td>Iraq                </td><td>2,5        </td><td>2010|Internet_por</td></tr>\n",
              "\t<tr><th scope=row>4</th><td>Hong Kong SAR, China</td><td>3408240    </td><td>2010|Facebook    </td></tr>\n",
              "\t<tr><th scope=row>5</th><td>Ireland             </td><td>1597000    </td><td>2010|Facebook    </td></tr>\n",
              "\t<tr><th scope=row>6</th><td>Kuwait              </td><td>99,59999254</td><td>2018|Internet_por</td></tr>\n",
              "</tbody>\n",
              "</table>\n"
            ],
            "text/markdown": "\nA data.frame: 6 × 3\n\n| <!--/--> | pais &lt;chr&gt; | valor &lt;chr&gt; | indicador &lt;chr&gt; |\n|---|---|---|---|\n| 1 | Ukraine              | 23,3        | 2010|Internet_por |\n| 2 | Kuwait               | 3100000     | 2018|Facebook     |\n| 3 | Iraq                 | 2,5         | 2010|Internet_por |\n| 4 | Hong Kong SAR, China | 3408240     | 2010|Facebook     |\n| 5 | Ireland              | 1597000     | 2010|Facebook     |\n| 6 | Kuwait               | 99,59999254 | 2018|Internet_por |\n\n",
            "text/latex": "A data.frame: 6 × 3\n\\begin{tabular}{r|lll}\n  & pais & valor & indicador\\\\\n  & <chr> & <chr> & <chr>\\\\\n\\hline\n\t1 & Ukraine              & 23,3        & 2010\\textbar{}Internet\\_por\\\\\n\t2 & Kuwait               & 3100000     & 2018\\textbar{}Facebook    \\\\\n\t3 & Iraq                 & 2,5         & 2010\\textbar{}Internet\\_por\\\\\n\t4 & Hong Kong SAR, China & 3408240     & 2010\\textbar{}Facebook    \\\\\n\t5 & Ireland              & 1597000     & 2010\\textbar{}Facebook    \\\\\n\t6 & Kuwait               & 99,59999254 & 2018\\textbar{}Internet\\_por\\\\\n\\end{tabular}\n",
            "text/plain": [
              "  pais                 valor       indicador        \n",
              "1 Ukraine              23,3        2010|Internet_por\n",
              "2 Kuwait               3100000     2018|Facebook    \n",
              "3 Iraq                 2,5         2010|Internet_por\n",
              "4 Hong Kong SAR, China 3408240     2010|Facebook    \n",
              "5 Ireland              1597000     2010|Facebook    \n",
              "6 Kuwait               99,59999254 2018|Internet_por"
            ]
          },
          "metadata": {}
        }
      ],
      "source": [
        "library(readr)\n",
        "library(tidyr)\n",
        "library(dplyr)\n",
        "\n",
        "ruta <- \"https://raw.githubusercontent.com/cesargar1507/DatasetsUB/main/Facebook_10_18_raw.txt?_sm_au_=iVVW7DqFjJfSk0pM26q8vKHV6CTMc\"\n",
        "datos <- read.csv(ruta, sep = \";\")\n",
        "str(datos)\n",
        "head(datos)"
      ]
    },
    {
      "cell_type": "code",
      "source": [
        "datos_separados <- separate(datos, indicador, into = c(\"Año\", \"Variable\"), sep = \"\\\\|\")"
      ],
      "metadata": {
        "id": "6GcjshR3BitI"
      },
      "execution_count": 23,
      "outputs": []
    },
    {
      "cell_type": "code",
      "source": [
        "frec_año <- table(datos_separados$Año)\n",
        "frec_año"
      ],
      "metadata": {
        "colab": {
          "base_uri": "https://localhost:8080/",
          "height": 69
        },
        "id": "EDMkX6-5CNGL",
        "outputId": "987ee07b-7a37-4284-b315-c0d624fa08e2"
      },
      "execution_count": 24,
      "outputs": [
        {
          "output_type": "display_data",
          "data": {
            "text/plain": [
              "\n",
              "2010 2018 \n",
              " 234  234 "
            ]
          },
          "metadata": {}
        }
      ]
    },
    {
      "cell_type": "code",
      "source": [
        "# Calcular las frecuencias de 'variable'\n",
        "frec_variable <- table(datos_separados$Variable)\n",
        "frec_variable"
      ],
      "metadata": {
        "colab": {
          "base_uri": "https://localhost:8080/",
          "height": 69
        },
        "id": "izOV4VitCcSE",
        "outputId": "e1b5bd4f-fe49-4456-ee9c-9dd22ddf0974"
      },
      "execution_count": 25,
      "outputs": [
        {
          "output_type": "display_data",
          "data": {
            "text/plain": [
              "\n",
              "    Facebook Internet_por    poblacion \n",
              "         156          156          156 "
            ]
          },
          "metadata": {}
        }
      ]
    },
    {
      "cell_type": "code",
      "source": [
        "# Crear un diccionario de mapeo para uniformizar los nombres de los países\n",
        "diccionario_mapeo <- c(\n",
        "  \"Arab Rep. Egypt\" = \"Egypt\",\n",
        "  \"Egypt, Arab Rep.\" = \"Egypt\",\n",
        "  \"Hong Kong SAR, China\" = \"Hong Kong\",\n",
        "  \"Rep. Yemen\" = \"Yemen\",\n",
        "  \"Russian\" = \"Russia\",\n",
        "  \"Russian Federation\" = \"Russia\",\n",
        "  \"Venezuela, RB\" = \"Venezuela\",\n",
        "  \"Yemen, Rep.\" = \"Yemen\"\n",
        ")\n",
        "\n",
        "# Agregar una nueva columna \"pais_uniforme\" al data frame\n",
        "datos_separados <- datos_separados %>%\n",
        "  mutate(pais_r = ifelse(pais %in% names(diccionario_mapeo), diccionario_mapeo[trimws(pais)], pais))"
      ],
      "metadata": {
        "id": "6r02AEx3EvmD"
      },
      "execution_count": 26,
      "outputs": []
    },
    {
      "cell_type": "code",
      "source": [
        "frec_pais <- table(datos_separados$pais_r)\n",
        "frec_pais"
      ],
      "metadata": {
        "colab": {
          "base_uri": "https://localhost:8080/",
          "height": 937
        },
        "id": "PNkbdLYuE9d5",
        "outputId": "de50d2c7-15e7-430a-f52d-1fb3ff6b9bc4"
      },
      "execution_count": 27,
      "outputs": [
        {
          "output_type": "display_data",
          "data": {
            "text/plain": [
              "\n",
              "             Algeria            Argentina            Australia \n",
              "                   6                    6                    6 \n",
              "             Austria         Bahamas, The              Bahrain \n",
              "                   6                    6                    6 \n",
              "          Bangladesh              Belgium               Brazil \n",
              "                   6                    6                    6 \n",
              "              Canada                Chile                China \n",
              "                   6                    6                    6 \n",
              "            Colombia              Croatia              Denmark \n",
              "                   6                    6                    6 \n",
              "               Egypt              Estonia             Ethiopia \n",
              "                   6                    6                    6 \n",
              "             Finland               France              Germany \n",
              "                   6                    6                    6 \n",
              "              Greece            Hong Kong              Hungary \n",
              "                   6                    6                    6 \n",
              "             Iceland                India            Indonesia \n",
              "                   6                    6                    6 \n",
              "                Iraq              Ireland               Israel \n",
              "                   6                    6                    6 \n",
              "               Italy                Japan               Jordan \n",
              "                   6                    6                    6 \n",
              "         Korea, Rep.               Kuwait              Lebanon \n",
              "                   6                    6                    6 \n",
              "               Libya             Malaysia                Malta \n",
              "                   6                    6                    6 \n",
              "          Mauritania            Mauritius               Mexico \n",
              "                   6                    6                    6 \n",
              "             Morocco          Netherlands              Nigeria \n",
              "                   6                    6                    6 \n",
              "              Norway                 Oman             Pakistan \n",
              "                   6                    6                    6 \n",
              "         Philippines               Poland             Portugal \n",
              "                   6                    6                    6 \n",
              "               Qatar              Romania               Russia \n",
              "                   6                    6                    6 \n",
              "              Rwanda         Saudi Arabia               Serbia \n",
              "                   6                    6                    6 \n",
              "           Singapore      Slovak Republic             Slovenia \n",
              "                   6                    6                    6 \n",
              "        South Africa                Spain            Sri Lanka \n",
              "                   6                    6                    6 \n",
              "              Sweden          Switzerland               Taiwan \n",
              "                   6                    6                    6 \n",
              "            Thailand              Tunisia               Turkey \n",
              "                   6                    6                    6 \n",
              "              Uganda              Ukraine United Arab Emirates \n",
              "                   6                    6                    6 \n",
              "      United Kingdom        United States           Uzbekistan \n",
              "                   6                    6                    6 \n",
              "           Venezuela              Vietnam                Yemen \n",
              "                   6                    6                    6 "
            ]
          },
          "metadata": {}
        }
      ]
    },
    {
      "cell_type": "code",
      "source": [
        "# Pivote de la tabla a formato wide\n",
        "tabla_wide <- pivot_wider(data = datos_separados, id_cols= c(pais_r,Año), names_from = \"Variable\", values_from = \"valor\")\n",
        "tabla_wide <- arrange(tabla_wide, pais_r)\n",
        "tabla_wide"
      ],
      "metadata": {
        "colab": {
          "base_uri": "https://localhost:8080/",
          "height": 1000
        },
        "id": "ubFfnDPQyYSa",
        "outputId": "cc9018f6-f0aa-4d19-b50b-a6407c7e1f1a"
      },
      "execution_count": 28,
      "outputs": [
        {
          "output_type": "display_data",
          "data": {
            "text/html": [
              "<table class=\"dataframe\">\n",
              "<caption>A tibble: 156 × 5</caption>\n",
              "<thead>\n",
              "\t<tr><th scope=col>pais_r</th><th scope=col>Año</th><th scope=col>Internet_por</th><th scope=col>Facebook</th><th scope=col>poblacion</th></tr>\n",
              "\t<tr><th scope=col>&lt;chr&gt;</th><th scope=col>&lt;chr&gt;</th><th scope=col>&lt;chr&gt;</th><th scope=col>&lt;chr&gt;</th><th scope=col>&lt;chr&gt;</th></tr>\n",
              "</thead>\n",
              "<tbody>\n",
              "\t<tr><td>Algeria     </td><td>2010</td><td>12,5       </td><td>928100   </td><td>  35977    </td></tr>\n",
              "\t<tr><td>Algeria     </td><td>2018</td><td>59,57968476</td><td>19000000 </td><td>  42228    </td></tr>\n",
              "\t<tr><td>Argentina   </td><td>2018</td><td>78         </td><td>30000000 </td><td>  44494    </td></tr>\n",
              "\t<tr><td>Argentina   </td><td>2010</td><td>45         </td><td>10542040 </td><td>  40788    </td></tr>\n",
              "\t<tr><td>Australia   </td><td>2010</td><td>76         </td><td>9009660  </td><td>  22031    </td></tr>\n",
              "\t<tr><td>Australia   </td><td>2018</td><td>88         </td><td>15000000 </td><td>  24992    </td></tr>\n",
              "\t<tr><td>Austria     </td><td>2018</td><td>87,71046495</td><td>3700000  </td><td>  8847     </td></tr>\n",
              "\t<tr><td>Austria     </td><td>2010</td><td>75,17      </td><td>2084840  </td><td>  8363     </td></tr>\n",
              "\t<tr><td>Bahamas, The</td><td>2010</td><td>43         </td><td>139460   </td><td>  354      </td></tr>\n",
              "\t<tr><td>Bahamas, The</td><td>2018</td><td>83,4       </td><td>220000   </td><td>  385      </td></tr>\n",
              "\t<tr><td>Bahrain     </td><td>2018</td><td>98,64342901</td><td>1100000  </td><td>  1569     </td></tr>\n",
              "\t<tr><td>Bahrain     </td><td>2010</td><td>55         </td><td>226480   </td><td>  1240     </td></tr>\n",
              "\t<tr><td>Bangladesh  </td><td>2010</td><td>3,7        </td><td>854520   </td><td>  147575   </td></tr>\n",
              "\t<tr><td>Bangladesh  </td><td>2018</td><td>57,2       </td><td>28000000 </td><td>  161356   </td></tr>\n",
              "\t<tr><td>Belgium     </td><td>2010</td><td>75         </td><td>3505920  </td><td>  10895    </td></tr>\n",
              "\t<tr><td>Belgium     </td><td>2018</td><td>88,65506428</td><td>6500000  </td><td>  11422    </td></tr>\n",
              "\t<tr><td>Brazil      </td><td>2018</td><td>66         </td><td>139000000</td><td>  209469   </td></tr>\n",
              "\t<tr><td>Brazil      </td><td>2010</td><td>40,65      </td><td>4757200  </td><td>  195713   </td></tr>\n",
              "\t<tr><td>Canada      </td><td>2010</td><td>80,3       </td><td>15497900 </td><td>  34004    </td></tr>\n",
              "\t<tr><td>Canada      </td><td>2018</td><td>90         </td><td>23000000 </td><td>  37058    </td></tr>\n",
              "\t<tr><td>Chile       </td><td>2018</td><td>77,5       </td><td>13000000 </td><td>  18729    </td></tr>\n",
              "\t<tr><td>Chile       </td><td>2010</td><td>45         </td><td>6944540  </td><td>  17062    </td></tr>\n",
              "\t<tr><td>China       </td><td>2010</td><td>34,3       </td><td>119480   </td><td>  1337705  </td></tr>\n",
              "\t<tr><td>China       </td><td>2018</td><td>53         </td><td>1800000  </td><td>  1392730  </td></tr>\n",
              "\t<tr><td>Colombia    </td><td>2018</td><td>63,2       </td><td>29000000 </td><td>  49648    </td></tr>\n",
              "\t<tr><td>Colombia    </td><td>2010</td><td>36,5       </td><td>10226820 </td><td>  45222    </td></tr>\n",
              "\t<tr><td>Croatia     </td><td>2010</td><td>56,55      </td><td>1192160  </td><td>  4295     </td></tr>\n",
              "\t<tr><td>Croatia     </td><td>2018</td><td>72,68877088</td><td>1800000  </td><td>  4089     </td></tr>\n",
              "\t<tr><td>Denmark     </td><td>2018</td><td>97,64426813</td><td>3700000  </td><td>  5797     </td></tr>\n",
              "\t<tr><td>Denmark     </td><td>2010</td><td>88,72      </td><td>2527000  </td><td>  5547     </td></tr>\n",
              "\t<tr><td>⋮</td><td>⋮</td><td>⋮</td><td>⋮</td><td>⋮</td></tr>\n",
              "\t<tr><td>Sweden              </td><td>2018</td><td>92,14167705</td><td>6300000  </td><td>  10183      </td></tr>\n",
              "\t<tr><td>Sweden              </td><td>2010</td><td>90         </td><td>3798020  </td><td>  9378       </td></tr>\n",
              "\t<tr><td>Switzerland         </td><td>2010</td><td>83,9       </td><td>2234380  </td><td>  7824       </td></tr>\n",
              "\t<tr><td>Switzerland         </td><td>2018</td><td>93,7       </td><td>3700000  </td><td>  8516       </td></tr>\n",
              "\t<tr><td>Taiwan              </td><td>2010</td><td>NA         </td><td>6745160  </td><td>  23.140,95  </td></tr>\n",
              "\t<tr><td>Taiwan              </td><td>2018</td><td>88         </td><td>18000000 </td><td>  23.580,08  </td></tr>\n",
              "\t<tr><td>Thailand            </td><td>2018</td><td>56,81748093</td><td>46000000 </td><td>  69428      </td></tr>\n",
              "\t<tr><td>Thailand            </td><td>2010</td><td>22,4       </td><td>4216760  </td><td>  67195      </td></tr>\n",
              "\t<tr><td>Tunisia             </td><td>2018</td><td>64,19081023</td><td>6400000  </td><td>  11565      </td></tr>\n",
              "\t<tr><td>Tunisia             </td><td>2010</td><td>36,8       </td><td>1594700  </td><td>  10635      </td></tr>\n",
              "\t<tr><td>Turkey              </td><td>2018</td><td>71,04276107</td><td>44000000 </td><td>  82319      </td></tr>\n",
              "\t<tr><td>Turkey              </td><td>2010</td><td>39,82      </td><td>22552540 </td><td>  72326      </td></tr>\n",
              "\t<tr><td>Uganda              </td><td>2018</td><td>40,5       </td><td>2600000  </td><td>  42723      </td></tr>\n",
              "\t<tr><td>Uganda              </td><td>2010</td><td>12,5       </td><td>168720   </td><td>  32428      </td></tr>\n",
              "\t<tr><td>Ukraine             </td><td>2010</td><td>23,3       </td><td>425680   </td><td>  45870      </td></tr>\n",
              "\t<tr><td>Ukraine             </td><td>2018</td><td>93,4       </td><td>9500000  </td><td>  44622      </td></tr>\n",
              "\t<tr><td>United Arab Emirates</td><td>2010</td><td>68         </td><td>1596160  </td><td>  8549       </td></tr>\n",
              "\t<tr><td>United Arab Emirates</td><td>2018</td><td>98,45000178</td><td>8700000  </td><td>  9630       </td></tr>\n",
              "\t<tr><td>United Kingdom      </td><td>2010</td><td>85         </td><td>26543600 </td><td>  62766      </td></tr>\n",
              "\t<tr><td>United Kingdom      </td><td>2018</td><td>94,89674176</td><td>44000000 </td><td>  66488      </td></tr>\n",
              "\t<tr><td>United States       </td><td>2010</td><td>71,69      </td><td>125881220</td><td>  309326     </td></tr>\n",
              "\t<tr><td>United States       </td><td>2018</td><td>88         </td><td>240000000</td><td>  327167     </td></tr>\n",
              "\t<tr><td>Uzbekistan          </td><td>2010</td><td>15,9       </td><td>26840    </td><td>  28562      </td></tr>\n",
              "\t<tr><td>Uzbekistan          </td><td>2018</td><td>52,3       </td><td>800000   </td><td>  32955      </td></tr>\n",
              "\t<tr><td>Venezuela           </td><td>2018</td><td>53,1       </td><td>13000000 </td><td>  28870      </td></tr>\n",
              "\t<tr><td>Venezuela           </td><td>2010</td><td>37,37      </td><td>6686300  </td><td>  28439      </td></tr>\n",
              "\t<tr><td>Vietnam             </td><td>2010</td><td>30,65      </td><td>1019120  </td><td>  87967      </td></tr>\n",
              "\t<tr><td>Vietnam             </td><td>2018</td><td>70,34963558</td><td>50000000 </td><td>  95540      </td></tr>\n",
              "\t<tr><td>Yemen               </td><td>2010</td><td>12,35      </td><td>96700    </td><td>  23154      </td></tr>\n",
              "\t<tr><td>Yemen               </td><td>2018</td><td>26,7       </td><td>2352942  </td><td>  28498      </td></tr>\n",
              "</tbody>\n",
              "</table>\n"
            ],
            "text/markdown": "\nA tibble: 156 × 5\n\n| pais_r &lt;chr&gt; | Año &lt;chr&gt; | Internet_por &lt;chr&gt; | Facebook &lt;chr&gt; | poblacion &lt;chr&gt; |\n|---|---|---|---|---|\n| Algeria      | 2010 | 12,5        | 928100    |   35977     |\n| Algeria      | 2018 | 59,57968476 | 19000000  |   42228     |\n| Argentina    | 2018 | 78          | 30000000  |   44494     |\n| Argentina    | 2010 | 45          | 10542040  |   40788     |\n| Australia    | 2010 | 76          | 9009660   |   22031     |\n| Australia    | 2018 | 88          | 15000000  |   24992     |\n| Austria      | 2018 | 87,71046495 | 3700000   |   8847      |\n| Austria      | 2010 | 75,17       | 2084840   |   8363      |\n| Bahamas, The | 2010 | 43          | 139460    |   354       |\n| Bahamas, The | 2018 | 83,4        | 220000    |   385       |\n| Bahrain      | 2018 | 98,64342901 | 1100000   |   1569      |\n| Bahrain      | 2010 | 55          | 226480    |   1240      |\n| Bangladesh   | 2010 | 3,7         | 854520    |   147575    |\n| Bangladesh   | 2018 | 57,2        | 28000000  |   161356    |\n| Belgium      | 2010 | 75          | 3505920   |   10895     |\n| Belgium      | 2018 | 88,65506428 | 6500000   |   11422     |\n| Brazil       | 2018 | 66          | 139000000 |   209469    |\n| Brazil       | 2010 | 40,65       | 4757200   |   195713    |\n| Canada       | 2010 | 80,3        | 15497900  |   34004     |\n| Canada       | 2018 | 90          | 23000000  |   37058     |\n| Chile        | 2018 | 77,5        | 13000000  |   18729     |\n| Chile        | 2010 | 45          | 6944540   |   17062     |\n| China        | 2010 | 34,3        | 119480    |   1337705   |\n| China        | 2018 | 53          | 1800000   |   1392730   |\n| Colombia     | 2018 | 63,2        | 29000000  |   49648     |\n| Colombia     | 2010 | 36,5        | 10226820  |   45222     |\n| Croatia      | 2010 | 56,55       | 1192160   |   4295      |\n| Croatia      | 2018 | 72,68877088 | 1800000   |   4089      |\n| Denmark      | 2018 | 97,64426813 | 3700000   |   5797      |\n| Denmark      | 2010 | 88,72       | 2527000   |   5547      |\n| ⋮ | ⋮ | ⋮ | ⋮ | ⋮ |\n| Sweden               | 2018 | 92,14167705 | 6300000   |   10183       |\n| Sweden               | 2010 | 90          | 3798020   |   9378        |\n| Switzerland          | 2010 | 83,9        | 2234380   |   7824        |\n| Switzerland          | 2018 | 93,7        | 3700000   |   8516        |\n| Taiwan               | 2010 | NA          | 6745160   |   23.140,95   |\n| Taiwan               | 2018 | 88          | 18000000  |   23.580,08   |\n| Thailand             | 2018 | 56,81748093 | 46000000  |   69428       |\n| Thailand             | 2010 | 22,4        | 4216760   |   67195       |\n| Tunisia              | 2018 | 64,19081023 | 6400000   |   11565       |\n| Tunisia              | 2010 | 36,8        | 1594700   |   10635       |\n| Turkey               | 2018 | 71,04276107 | 44000000  |   82319       |\n| Turkey               | 2010 | 39,82       | 22552540  |   72326       |\n| Uganda               | 2018 | 40,5        | 2600000   |   42723       |\n| Uganda               | 2010 | 12,5        | 168720    |   32428       |\n| Ukraine              | 2010 | 23,3        | 425680    |   45870       |\n| Ukraine              | 2018 | 93,4        | 9500000   |   44622       |\n| United Arab Emirates | 2010 | 68          | 1596160   |   8549        |\n| United Arab Emirates | 2018 | 98,45000178 | 8700000   |   9630        |\n| United Kingdom       | 2010 | 85          | 26543600  |   62766       |\n| United Kingdom       | 2018 | 94,89674176 | 44000000  |   66488       |\n| United States        | 2010 | 71,69       | 125881220 |   309326      |\n| United States        | 2018 | 88          | 240000000 |   327167      |\n| Uzbekistan           | 2010 | 15,9        | 26840     |   28562       |\n| Uzbekistan           | 2018 | 52,3        | 800000    |   32955       |\n| Venezuela            | 2018 | 53,1        | 13000000  |   28870       |\n| Venezuela            | 2010 | 37,37       | 6686300   |   28439       |\n| Vietnam              | 2010 | 30,65       | 1019120   |   87967       |\n| Vietnam              | 2018 | 70,34963558 | 50000000  |   95540       |\n| Yemen                | 2010 | 12,35       | 96700     |   23154       |\n| Yemen                | 2018 | 26,7        | 2352942   |   28498       |\n\n",
            "text/latex": "A tibble: 156 × 5\n\\begin{tabular}{lllll}\n pais\\_r & Año & Internet\\_por & Facebook & poblacion\\\\\n <chr> & <chr> & <chr> & <chr> & <chr>\\\\\n\\hline\n\t Algeria      & 2010 & 12,5        & 928100    &   35977    \\\\\n\t Algeria      & 2018 & 59,57968476 & 19000000  &   42228    \\\\\n\t Argentina    & 2018 & 78          & 30000000  &   44494    \\\\\n\t Argentina    & 2010 & 45          & 10542040  &   40788    \\\\\n\t Australia    & 2010 & 76          & 9009660   &   22031    \\\\\n\t Australia    & 2018 & 88          & 15000000  &   24992    \\\\\n\t Austria      & 2018 & 87,71046495 & 3700000   &   8847     \\\\\n\t Austria      & 2010 & 75,17       & 2084840   &   8363     \\\\\n\t Bahamas, The & 2010 & 43          & 139460    &   354      \\\\\n\t Bahamas, The & 2018 & 83,4        & 220000    &   385      \\\\\n\t Bahrain      & 2018 & 98,64342901 & 1100000   &   1569     \\\\\n\t Bahrain      & 2010 & 55          & 226480    &   1240     \\\\\n\t Bangladesh   & 2010 & 3,7         & 854520    &   147575   \\\\\n\t Bangladesh   & 2018 & 57,2        & 28000000  &   161356   \\\\\n\t Belgium      & 2010 & 75          & 3505920   &   10895    \\\\\n\t Belgium      & 2018 & 88,65506428 & 6500000   &   11422    \\\\\n\t Brazil       & 2018 & 66          & 139000000 &   209469   \\\\\n\t Brazil       & 2010 & 40,65       & 4757200   &   195713   \\\\\n\t Canada       & 2010 & 80,3        & 15497900  &   34004    \\\\\n\t Canada       & 2018 & 90          & 23000000  &   37058    \\\\\n\t Chile        & 2018 & 77,5        & 13000000  &   18729    \\\\\n\t Chile        & 2010 & 45          & 6944540   &   17062    \\\\\n\t China        & 2010 & 34,3        & 119480    &   1337705  \\\\\n\t China        & 2018 & 53          & 1800000   &   1392730  \\\\\n\t Colombia     & 2018 & 63,2        & 29000000  &   49648    \\\\\n\t Colombia     & 2010 & 36,5        & 10226820  &   45222    \\\\\n\t Croatia      & 2010 & 56,55       & 1192160   &   4295     \\\\\n\t Croatia      & 2018 & 72,68877088 & 1800000   &   4089     \\\\\n\t Denmark      & 2018 & 97,64426813 & 3700000   &   5797     \\\\\n\t Denmark      & 2010 & 88,72       & 2527000   &   5547     \\\\\n\t ⋮ & ⋮ & ⋮ & ⋮ & ⋮\\\\\n\t Sweden               & 2018 & 92,14167705 & 6300000   &   10183      \\\\\n\t Sweden               & 2010 & 90          & 3798020   &   9378       \\\\\n\t Switzerland          & 2010 & 83,9        & 2234380   &   7824       \\\\\n\t Switzerland          & 2018 & 93,7        & 3700000   &   8516       \\\\\n\t Taiwan               & 2010 & NA          & 6745160   &   23.140,95  \\\\\n\t Taiwan               & 2018 & 88          & 18000000  &   23.580,08  \\\\\n\t Thailand             & 2018 & 56,81748093 & 46000000  &   69428      \\\\\n\t Thailand             & 2010 & 22,4        & 4216760   &   67195      \\\\\n\t Tunisia              & 2018 & 64,19081023 & 6400000   &   11565      \\\\\n\t Tunisia              & 2010 & 36,8        & 1594700   &   10635      \\\\\n\t Turkey               & 2018 & 71,04276107 & 44000000  &   82319      \\\\\n\t Turkey               & 2010 & 39,82       & 22552540  &   72326      \\\\\n\t Uganda               & 2018 & 40,5        & 2600000   &   42723      \\\\\n\t Uganda               & 2010 & 12,5        & 168720    &   32428      \\\\\n\t Ukraine              & 2010 & 23,3        & 425680    &   45870      \\\\\n\t Ukraine              & 2018 & 93,4        & 9500000   &   44622      \\\\\n\t United Arab Emirates & 2010 & 68          & 1596160   &   8549       \\\\\n\t United Arab Emirates & 2018 & 98,45000178 & 8700000   &   9630       \\\\\n\t United Kingdom       & 2010 & 85          & 26543600  &   62766      \\\\\n\t United Kingdom       & 2018 & 94,89674176 & 44000000  &   66488      \\\\\n\t United States        & 2010 & 71,69       & 125881220 &   309326     \\\\\n\t United States        & 2018 & 88          & 240000000 &   327167     \\\\\n\t Uzbekistan           & 2010 & 15,9        & 26840     &   28562      \\\\\n\t Uzbekistan           & 2018 & 52,3        & 800000    &   32955      \\\\\n\t Venezuela            & 2018 & 53,1        & 13000000  &   28870      \\\\\n\t Venezuela            & 2010 & 37,37       & 6686300   &   28439      \\\\\n\t Vietnam              & 2010 & 30,65       & 1019120   &   87967      \\\\\n\t Vietnam              & 2018 & 70,34963558 & 50000000  &   95540      \\\\\n\t Yemen                & 2010 & 12,35       & 96700     &   23154      \\\\\n\t Yemen                & 2018 & 26,7        & 2352942   &   28498      \\\\\n\\end{tabular}\n",
            "text/plain": [
              "    pais_r               Año  Internet_por Facebook  poblacion    \n",
              "1   Algeria              2010 12,5         928100      35977      \n",
              "2   Algeria              2018 59,57968476  19000000    42228      \n",
              "3   Argentina            2018 78           30000000    44494      \n",
              "4   Argentina            2010 45           10542040    40788      \n",
              "5   Australia            2010 76           9009660     22031      \n",
              "6   Australia            2018 88           15000000    24992      \n",
              "7   Austria              2018 87,71046495  3700000     8847       \n",
              "8   Austria              2010 75,17        2084840     8363       \n",
              "9   Bahamas, The         2010 43           139460      354        \n",
              "10  Bahamas, The         2018 83,4         220000      385        \n",
              "11  Bahrain              2018 98,64342901  1100000     1569       \n",
              "12  Bahrain              2010 55           226480      1240       \n",
              "13  Bangladesh           2010 3,7          854520      147575     \n",
              "14  Bangladesh           2018 57,2         28000000    161356     \n",
              "15  Belgium              2010 75           3505920     10895      \n",
              "16  Belgium              2018 88,65506428  6500000     11422      \n",
              "17  Brazil               2018 66           139000000   209469     \n",
              "18  Brazil               2010 40,65        4757200     195713     \n",
              "19  Canada               2010 80,3         15497900    34004      \n",
              "20  Canada               2018 90           23000000    37058      \n",
              "21  Chile                2018 77,5         13000000    18729      \n",
              "22  Chile                2010 45           6944540     17062      \n",
              "23  China                2010 34,3         119480      1337705    \n",
              "24  China                2018 53           1800000     1392730    \n",
              "25  Colombia             2018 63,2         29000000    49648      \n",
              "26  Colombia             2010 36,5         10226820    45222      \n",
              "27  Croatia              2010 56,55        1192160     4295       \n",
              "28  Croatia              2018 72,68877088  1800000     4089       \n",
              "29  Denmark              2018 97,64426813  3700000     5797       \n",
              "30  Denmark              2010 88,72        2527000     5547       \n",
              "⋮   ⋮                    ⋮    ⋮            ⋮         ⋮            \n",
              "127 Sweden               2018 92,14167705  6300000     10183      \n",
              "128 Sweden               2010 90           3798020     9378       \n",
              "129 Switzerland          2010 83,9         2234380     7824       \n",
              "130 Switzerland          2018 93,7         3700000     8516       \n",
              "131 Taiwan               2010 NA           6745160     23.140,95  \n",
              "132 Taiwan               2018 88           18000000    23.580,08  \n",
              "133 Thailand             2018 56,81748093  46000000    69428      \n",
              "134 Thailand             2010 22,4         4216760     67195      \n",
              "135 Tunisia              2018 64,19081023  6400000     11565      \n",
              "136 Tunisia              2010 36,8         1594700     10635      \n",
              "137 Turkey               2018 71,04276107  44000000    82319      \n",
              "138 Turkey               2010 39,82        22552540    72326      \n",
              "139 Uganda               2018 40,5         2600000     42723      \n",
              "140 Uganda               2010 12,5         168720      32428      \n",
              "141 Ukraine              2010 23,3         425680      45870      \n",
              "142 Ukraine              2018 93,4         9500000     44622      \n",
              "143 United Arab Emirates 2010 68           1596160     8549       \n",
              "144 United Arab Emirates 2018 98,45000178  8700000     9630       \n",
              "145 United Kingdom       2010 85           26543600    62766      \n",
              "146 United Kingdom       2018 94,89674176  44000000    66488      \n",
              "147 United States        2010 71,69        125881220   309326     \n",
              "148 United States        2018 88           240000000   327167     \n",
              "149 Uzbekistan           2010 15,9         26840       28562      \n",
              "150 Uzbekistan           2018 52,3         800000      32955      \n",
              "151 Venezuela            2018 53,1         13000000    28870      \n",
              "152 Venezuela            2010 37,37        6686300     28439      \n",
              "153 Vietnam              2010 30,65        1019120     87967      \n",
              "154 Vietnam              2018 70,34963558  50000000    95540      \n",
              "155 Yemen                2010 12,35        96700       23154      \n",
              "156 Yemen                2018 26,7         2352942     28498      "
            ]
          },
          "metadata": {}
        }
      ]
    },
    {
      "cell_type": "code",
      "source": [
        "tabla_wide$Facebook <- as.numeric(tabla_wide$Facebook)\n",
        "tabla_wide$Internet_por <- gsub(\",\",\".\",tabla_wide$Internet_por)\n",
        "tabla_wide$Internet_por <- as.numeric(tabla_wide$Internet_por)\n",
        "tabla_wide$poblacion <- gsub(\",\",\"\",tabla_wide$poblacion)\n",
        "tabla_wide$poblacion <- gsub(\"\\\\.\",\"\",tabla_wide$poblacion)\n",
        "tabla_wide$poblacion <- as.numeric(tabla_wide$poblacion)\n",
        "summary(select(tabla_wide, Facebook, Internet_por, poblacion))"
      ],
      "metadata": {
        "colab": {
          "base_uri": "https://localhost:8080/",
          "height": 156
        },
        "id": "CxWZEuSrBg0n",
        "outputId": "9a9b37b4-db94-4fea-ac22-dd8af52f8257"
      },
      "execution_count": 29,
      "outputs": [
        {
          "output_type": "display_data",
          "data": {
            "text/plain": [
              "    Facebook          Internet_por     poblacion      \n",
              " Min.   :    26840   Min.   : 0.75   Min.   :    318  \n",
              " 1st Qu.:  1402950   1st Qu.:40.58   1st Qu.:   6806  \n",
              " Median :  3543690   Median :66.00   Median :  24073  \n",
              " Mean   : 15175281   Mean   :60.80   Mean   : 108199  \n",
              " 3rd Qu.: 14150075   3rd Qu.:83.55   3rd Qu.:  66613  \n",
              " Max.   :300000000   Max.   :99.65   Max.   :2358008  \n",
              "                     NA's   :1                        "
            ]
          },
          "metadata": {}
        }
      ]
    },
    {
      "cell_type": "code",
      "source": [
        "datos_spain <- filter(tabla_wide, pais_r == \"Spain\")\n",
        "datos_spain"
      ],
      "metadata": {
        "colab": {
          "base_uri": "https://localhost:8080/",
          "height": 160
        },
        "id": "RzxIxR21GV4H",
        "outputId": "7efe178f-cdf6-4617-f5b8-b48a78614f32"
      },
      "execution_count": 30,
      "outputs": [
        {
          "output_type": "display_data",
          "data": {
            "text/html": [
              "<table class=\"dataframe\">\n",
              "<caption>A tibble: 2 × 5</caption>\n",
              "<thead>\n",
              "\t<tr><th scope=col>pais_r</th><th scope=col>Año</th><th scope=col>Internet_por</th><th scope=col>Facebook</th><th scope=col>poblacion</th></tr>\n",
              "\t<tr><th scope=col>&lt;chr&gt;</th><th scope=col>&lt;chr&gt;</th><th scope=col>&lt;dbl&gt;</th><th scope=col>&lt;dbl&gt;</th><th scope=col>&lt;dbl&gt;</th></tr>\n",
              "</thead>\n",
              "<tbody>\n",
              "\t<tr><td>Spain</td><td>2018</td><td>86.10724</td><td>23000000</td><td>46723</td></tr>\n",
              "\t<tr><td>Spain</td><td>2010</td><td>65.80000</td><td>10610080</td><td>46576</td></tr>\n",
              "</tbody>\n",
              "</table>\n"
            ],
            "text/markdown": "\nA tibble: 2 × 5\n\n| pais_r &lt;chr&gt; | Año &lt;chr&gt; | Internet_por &lt;dbl&gt; | Facebook &lt;dbl&gt; | poblacion &lt;dbl&gt; |\n|---|---|---|---|---|\n| Spain | 2018 | 86.10724 | 23000000 | 46723 |\n| Spain | 2010 | 65.80000 | 10610080 | 46576 |\n\n",
            "text/latex": "A tibble: 2 × 5\n\\begin{tabular}{lllll}\n pais\\_r & Año & Internet\\_por & Facebook & poblacion\\\\\n <chr> & <chr> & <dbl> & <dbl> & <dbl>\\\\\n\\hline\n\t Spain & 2018 & 86.10724 & 23000000 & 46723\\\\\n\t Spain & 2010 & 65.80000 & 10610080 & 46576\\\\\n\\end{tabular}\n",
            "text/plain": [
              "  pais_r Año  Internet_por Facebook poblacion\n",
              "1 Spain  2018 86.10724     23000000 46723    \n",
              "2 Spain  2010 65.80000     10610080 46576    "
            ]
          },
          "metadata": {}
        }
      ]
    },
    {
      "cell_type": "code",
      "source": [
        "incremento_face = ((filter(datos_spain,Año==\"2018\")$Facebook-filter(datos_spain,Año==\"2010\")$Facebook)/filter(datos_spain,Año==\"2010\")$Facebook)*100\n",
        "paste(incremento_face,\"%\")"
      ],
      "metadata": {
        "colab": {
          "base_uri": "https://localhost:8080/",
          "height": 34
        },
        "id": "VMNwKSLkc3A3",
        "outputId": "24ec5671-c101-431e-d50d-f26211585b37"
      },
      "execution_count": 31,
      "outputs": [
        {
          "output_type": "display_data",
          "data": {
            "text/html": [
              "'116.774991329 %'"
            ],
            "text/markdown": "'116.774991329 %'",
            "text/latex": "'116.774991329 \\%'",
            "text/plain": [
              "[1] \"116.774991329 %\""
            ]
          },
          "metadata": {}
        }
      ]
    },
    {
      "cell_type": "markdown",
      "source": [
        "En primer lugar se detecta la inconsistencia en cuanto a la población total de España, no es posible que sean solamente 46,000 habitantes, dejando de lado esto, se identifica un incremento en cuanto al uso de internet por parte de los habitantes de este país de un 65% a un 86% de la población, además, se identifica un incremento de usuarios de facebook de un 116% del año 2010 al 2018"
      ],
      "metadata": {
        "id": "jwp2P2TjZyML"
      }
    }
  ]
}