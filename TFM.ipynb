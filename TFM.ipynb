{
  "nbformat": 4,
  "nbformat_minor": 0,
  "metadata": {
    "colab": {
      "provenance": []
    },
    "kernelspec": {
      "name": "ir",
      "display_name": "R"
    },
    "language_info": {
      "name": "R"
    }
  },
  "cells": [
    {
      "cell_type": "code",
      "execution_count": 1,
      "metadata": {
        "colab": {
          "base_uri": "https://localhost:8080/"
        },
        "id": "NXvNrUprHSkt",
        "outputId": "0f157688-6639-4e7f-e36e-f1913613ff45"
      },
      "outputs": [
        {
          "output_type": "stream",
          "name": "stderr",
          "text": [
            "\n",
            "Attaching package: ‘dplyr’\n",
            "\n",
            "\n",
            "The following objects are masked from ‘package:stats’:\n",
            "\n",
            "    filter, lag\n",
            "\n",
            "\n",
            "The following objects are masked from ‘package:base’:\n",
            "\n",
            "    intersect, setdiff, setequal, union\n",
            "\n",
            "\n",
            "Installing package into ‘/usr/local/lib/R/site-library’\n",
            "(as ‘lib’ is unspecified)\n",
            "\n",
            "Loading required package: ggplot2\n",
            "\n",
            "Loading required package: lattice\n",
            "\n",
            "Installing package into ‘/usr/local/lib/R/site-library’\n",
            "(as ‘lib’ is unspecified)\n",
            "\n",
            "Registered S3 method overwritten by 'quantmod':\n",
            "  method            from\n",
            "  as.zoo.data.frame zoo \n",
            "\n",
            "Installing package into ‘/usr/local/lib/R/site-library’\n",
            "(as ‘lib’ is unspecified)\n",
            "\n",
            "Loading required package: Matrix\n",
            "\n",
            "Loaded glmnet 4.1-8\n",
            "\n",
            "Installing package into ‘/usr/local/lib/R/site-library’\n",
            "(as ‘lib’ is unspecified)\n",
            "\n",
            "Loading required package: ggpubr\n",
            "\n",
            "\n",
            "Attaching package: ‘ggpubr’\n",
            "\n",
            "\n",
            "The following object is masked from ‘package:forecast’:\n",
            "\n",
            "    gghistogram\n",
            "\n",
            "\n",
            "Installing package into ‘/usr/local/lib/R/site-library’\n",
            "(as ‘lib’ is unspecified)\n",
            "\n",
            "\n",
            "Attaching package: ‘survival’\n",
            "\n",
            "\n",
            "The following object is masked from ‘package:survminer’:\n",
            "\n",
            "    myeloma\n",
            "\n",
            "\n",
            "The following object is masked from ‘package:caret’:\n",
            "\n",
            "    cluster\n",
            "\n",
            "\n"
          ]
        }
      ],
      "source": [
        "library(dplyr)\n",
        "library(readr)\n",
        "install.packages(\"caret\")\n",
        "library(caret)\n",
        "install.packages(\"forecast\")\n",
        "library(forecast)\n",
        "install.packages(\"glmnet\")\n",
        "library(glmnet)\n",
        "install.packages(\"survminer\")\n",
        "library(survminer)\n",
        "install.packages(\"survival\")\n",
        "library(survival)"
      ]
    },
    {
      "cell_type": "code",
      "source": [
        "# Leer el archivo CSV desde la URL\n",
        "url <- \"https://raw.githubusercontent.com/cesargar1507/DatasetsUB/main/maquina2.csv\"\n",
        "df <- read_csv(url, show_col_types = FALSE)\n",
        "df_copy <- df"
      ],
      "metadata": {
        "id": "p7Ac95EBV6df"
      },
      "execution_count": 2,
      "outputs": []
    },
    {
      "cell_type": "code",
      "source": [
        "summary(df)"
      ],
      "metadata": {
        "id": "z2sxgjL5cMt_",
        "outputId": "d0221cc3-469b-4bba-c2cb-b2bd20e13d12",
        "colab": {
          "base_uri": "https://localhost:8080/",
          "height": 382
        }
      },
      "execution_count": 3,
      "outputs": [
        {
          "output_type": "display_data",
          "data": {
            "text/plain": [
              "   Equipment        Operation           WO Type           Model Base       \n",
              " Min.   : 100268   Length:85074       Length:85074       Length:85074      \n",
              " 1st Qu.:1025826   Class :character   Class :character   Class :character  \n",
              " Median :1069897   Mode  :character   Mode  :character   Mode  :character  \n",
              " Mean   :1031592                                                           \n",
              " 3rd Qu.:1123223                                                           \n",
              " Max.   :1161230                                                           \n",
              " Problem Code       Failure Code        Cause Code        Action Code       \n",
              " Length:85074       Length:85074       Length:85074       Length:85074      \n",
              " Class :character   Class :character   Class :character   Class :character  \n",
              " Mode  :character   Mode  :character   Mode  :character   Mode  :character  \n",
              "                                                                            \n",
              "                                                                            \n",
              "                                                                            \n",
              "     Date           downtimeGross      partsCost        repairHours   \n",
              " Length:85074       Min.   :-6.870   Min.   :   0.00   Min.   :-7.43  \n",
              " Class :character   1st Qu.: 0.330   1st Qu.:   0.00   1st Qu.: 0.32  \n",
              " Mode  :character   Median : 0.750   Median :   0.00   Median : 0.50  \n",
              "                    Mean   : 1.396   Mean   :  13.87   Mean   : 0.92  \n",
              "                    3rd Qu.: 1.670   3rd Qu.:   9.00   3rd Qu.: 1.00  \n",
              "                    Max.   :13.920   Max.   :2812.49   Max.   :13.92  "
            ]
          },
          "metadata": {}
        }
      ]
    },
    {
      "cell_type": "code",
      "source": [
        "head(df,5)"
      ],
      "metadata": {
        "colab": {
          "base_uri": "https://localhost:8080/",
          "height": 255
        },
        "id": "qzZX5SgOtE09",
        "outputId": "19ad7d1c-daf0-479e-9b98-62dcc7f24ae6"
      },
      "execution_count": 4,
      "outputs": [
        {
          "output_type": "display_data",
          "data": {
            "text/html": [
              "<table class=\"dataframe\">\n",
              "<caption>A tibble: 5 × 12</caption>\n",
              "<thead>\n",
              "\t<tr><th scope=col>Equipment</th><th scope=col>Operation</th><th scope=col>WO Type</th><th scope=col>Model Base</th><th scope=col>Problem Code</th><th scope=col>Failure Code</th><th scope=col>Cause Code</th><th scope=col>Action Code</th><th scope=col>Date</th><th scope=col>downtimeGross</th><th scope=col>partsCost</th><th scope=col>repairHours</th></tr>\n",
              "\t<tr><th scope=col>&lt;dbl&gt;</th><th scope=col>&lt;chr&gt;</th><th scope=col>&lt;chr&gt;</th><th scope=col>&lt;chr&gt;</th><th scope=col>&lt;chr&gt;</th><th scope=col>&lt;chr&gt;</th><th scope=col>&lt;chr&gt;</th><th scope=col>&lt;chr&gt;</th><th scope=col>&lt;chr&gt;</th><th scope=col>&lt;dbl&gt;</th><th scope=col>&lt;dbl&gt;</th><th scope=col>&lt;dbl&gt;</th></tr>\n",
              "</thead>\n",
              "<tbody>\n",
              "\t<tr><td>100268</td><td>BIND LEG  </td><td>Corrective Maintenance</td><td>VF2500  </td><td>SEWP002</td><td>SEWF001</td><td>SEWC012</td><td>SEWA013</td><td>1/17/2024</td><td>3.00</td><td>12.50</td><td>2.00</td></tr>\n",
              "\t<tr><td>100268</td><td>BIND LEG  </td><td>Corrective Maintenance</td><td>VF2500  </td><td>SEWP002</td><td>SEWF001</td><td>SEWC017</td><td>SEWA013</td><td>10/3/2023</td><td>1.25</td><td>16.81</td><td>1.25</td></tr>\n",
              "\t<tr><td>100268</td><td>BIND LEG  </td><td>Calibration           </td><td>VF2500  </td><td>SEWP001</td><td>SEWF001</td><td>SEWC001</td><td>SEWA001</td><td>7/14/2023</td><td>0.08</td><td> 0.74</td><td>0.08</td></tr>\n",
              "\t<tr><td>100312</td><td>BARTACK   </td><td>Corrective Maintenance</td><td>LT2-B872</td><td>SEWP001</td><td>SEWF001</td><td>SEWC005</td><td>SEWA005</td><td>3/18/2023</td><td>0.25</td><td> 2.67</td><td>0.25</td></tr>\n",
              "\t<tr><td>100312</td><td>SET ZIPPER</td><td>Corrective Maintenance</td><td>LT2-B872</td><td>SEWP001</td><td>SEWF008</td><td>SEWC082</td><td>SEWA083</td><td>3/9/2023 </td><td>0.33</td><td> 0.00</td><td>0.33</td></tr>\n",
              "</tbody>\n",
              "</table>\n"
            ],
            "text/markdown": "\nA tibble: 5 × 12\n\n| Equipment &lt;dbl&gt; | Operation &lt;chr&gt; | WO Type &lt;chr&gt; | Model Base &lt;chr&gt; | Problem Code &lt;chr&gt; | Failure Code &lt;chr&gt; | Cause Code &lt;chr&gt; | Action Code &lt;chr&gt; | Date &lt;chr&gt; | downtimeGross &lt;dbl&gt; | partsCost &lt;dbl&gt; | repairHours &lt;dbl&gt; |\n|---|---|---|---|---|---|---|---|---|---|---|---|\n| 100268 | BIND LEG   | Corrective Maintenance | VF2500   | SEWP002 | SEWF001 | SEWC012 | SEWA013 | 1/17/2024 | 3.00 | 12.50 | 2.00 |\n| 100268 | BIND LEG   | Corrective Maintenance | VF2500   | SEWP002 | SEWF001 | SEWC017 | SEWA013 | 10/3/2023 | 1.25 | 16.81 | 1.25 |\n| 100268 | BIND LEG   | Calibration            | VF2500   | SEWP001 | SEWF001 | SEWC001 | SEWA001 | 7/14/2023 | 0.08 |  0.74 | 0.08 |\n| 100312 | BARTACK    | Corrective Maintenance | LT2-B872 | SEWP001 | SEWF001 | SEWC005 | SEWA005 | 3/18/2023 | 0.25 |  2.67 | 0.25 |\n| 100312 | SET ZIPPER | Corrective Maintenance | LT2-B872 | SEWP001 | SEWF008 | SEWC082 | SEWA083 | 3/9/2023  | 0.33 |  0.00 | 0.33 |\n\n",
            "text/latex": "A tibble: 5 × 12\n\\begin{tabular}{llllllllllll}\n Equipment & Operation & WO Type & Model Base & Problem Code & Failure Code & Cause Code & Action Code & Date & downtimeGross & partsCost & repairHours\\\\\n <dbl> & <chr> & <chr> & <chr> & <chr> & <chr> & <chr> & <chr> & <chr> & <dbl> & <dbl> & <dbl>\\\\\n\\hline\n\t 100268 & BIND LEG   & Corrective Maintenance & VF2500   & SEWP002 & SEWF001 & SEWC012 & SEWA013 & 1/17/2024 & 3.00 & 12.50 & 2.00\\\\\n\t 100268 & BIND LEG   & Corrective Maintenance & VF2500   & SEWP002 & SEWF001 & SEWC017 & SEWA013 & 10/3/2023 & 1.25 & 16.81 & 1.25\\\\\n\t 100268 & BIND LEG   & Calibration            & VF2500   & SEWP001 & SEWF001 & SEWC001 & SEWA001 & 7/14/2023 & 0.08 &  0.74 & 0.08\\\\\n\t 100312 & BARTACK    & Corrective Maintenance & LT2-B872 & SEWP001 & SEWF001 & SEWC005 & SEWA005 & 3/18/2023 & 0.25 &  2.67 & 0.25\\\\\n\t 100312 & SET ZIPPER & Corrective Maintenance & LT2-B872 & SEWP001 & SEWF008 & SEWC082 & SEWA083 & 3/9/2023  & 0.33 &  0.00 & 0.33\\\\\n\\end{tabular}\n",
            "text/plain": [
              "  Equipment Operation  WO Type                Model Base Problem Code\n",
              "1 100268    BIND LEG   Corrective Maintenance VF2500     SEWP002     \n",
              "2 100268    BIND LEG   Corrective Maintenance VF2500     SEWP002     \n",
              "3 100268    BIND LEG   Calibration            VF2500     SEWP001     \n",
              "4 100312    BARTACK    Corrective Maintenance LT2-B872   SEWP001     \n",
              "5 100312    SET ZIPPER Corrective Maintenance LT2-B872   SEWP001     \n",
              "  Failure Code Cause Code Action Code Date      downtimeGross partsCost\n",
              "1 SEWF001      SEWC012    SEWA013     1/17/2024 3.00          12.50    \n",
              "2 SEWF001      SEWC017    SEWA013     10/3/2023 1.25          16.81    \n",
              "3 SEWF001      SEWC001    SEWA001     7/14/2023 0.08           0.74    \n",
              "4 SEWF001      SEWC005    SEWA005     3/18/2023 0.25           2.67    \n",
              "5 SEWF008      SEWC082    SEWA083     3/9/2023  0.33           0.00    \n",
              "  repairHours\n",
              "1 2.00       \n",
              "2 1.25       \n",
              "3 0.08       \n",
              "4 0.25       \n",
              "5 0.33       "
            ]
          },
          "metadata": {}
        }
      ]
    },
    {
      "cell_type": "code",
      "source": [
        "# Calcular la frecuencia de cada operación\n",
        "operation_freq <- df %>%\n",
        "  group_by(Operation) %>%\n",
        "  summarise(count = n()) %>%\n",
        "  arrange(desc(count))\n",
        "\n",
        "# Calcular el porcentaje acumulado\n",
        "operation_freq <- operation_freq %>%\n",
        "  mutate(cum_count = cumsum(count),\n",
        "         cum_perc = cum_count / sum(count))\n",
        "\n",
        "operation_freq"
      ],
      "metadata": {
        "colab": {
          "base_uri": "https://localhost:8080/",
          "height": 1000
        },
        "id": "_ceeX9_wEfXc",
        "outputId": "c11eb9ca-0c37-4356-b40d-90a579f5bf57"
      },
      "execution_count": 5,
      "outputs": [
        {
          "output_type": "display_data",
          "data": {
            "text/html": [
              "<table class=\"dataframe\">\n",
              "<caption>A tibble: 149 × 4</caption>\n",
              "<thead>\n",
              "\t<tr><th scope=col>Operation</th><th scope=col>count</th><th scope=col>cum_count</th><th scope=col>cum_perc</th></tr>\n",
              "\t<tr><th scope=col>&lt;chr&gt;</th><th scope=col>&lt;int&gt;</th><th scope=col>&lt;int&gt;</th><th scope=col>&lt;dbl&gt;</th></tr>\n",
              "</thead>\n",
              "<tbody>\n",
              "\t<tr><td>HEM SLEEVE                </td><td>14035</td><td>14035</td><td>0.1649740</td></tr>\n",
              "\t<tr><td>HEM BOTTOM                </td><td>10608</td><td>24643</td><td>0.2896655</td></tr>\n",
              "\t<tr><td>JOIN PANEL                </td><td> 5498</td><td>30141</td><td>0.3542916</td></tr>\n",
              "\t<tr><td>TAPE SHOULDER             </td><td> 3808</td><td>33949</td><td>0.3990526</td></tr>\n",
              "\t<tr><td>HEM AROUND                </td><td> 3564</td><td>37513</td><td>0.4409455</td></tr>\n",
              "\t<tr><td>SET SLEEVE                </td><td> 3270</td><td>40783</td><td>0.4793827</td></tr>\n",
              "\t<tr><td>ATTACH ELASTIC            </td><td> 3093</td><td>43876</td><td>0.5157392</td></tr>\n",
              "\t<tr><td>JOIN SHOULDER             </td><td> 2938</td><td>46814</td><td>0.5502739</td></tr>\n",
              "\t<tr><td>FLAT LOCK                 </td><td> 2875</td><td>49689</td><td>0.5840680</td></tr>\n",
              "\t<tr><td>SEW ELASTIC               </td><td> 2640</td><td>52329</td><td>0.6150998</td></tr>\n",
              "\t<tr><td>FLAT SEAM                 </td><td> 2463</td><td>54792</td><td>0.6440511</td></tr>\n",
              "\t<tr><td>BIND LEG                  </td><td> 2365</td><td>57157</td><td>0.6718504</td></tr>\n",
              "\t<tr><td>TOP STITCH                </td><td> 2211</td><td>59368</td><td>0.6978395</td></tr>\n",
              "\t<tr><td>SET COLLAR                </td><td> 2191</td><td>61559</td><td>0.7235936</td></tr>\n",
              "\t<tr><td>SET POCKET                </td><td> 1150</td><td>62709</td><td>0.7371112</td></tr>\n",
              "\t<tr><td>HEM SLEEVE MAN            </td><td> 1114</td><td>63823</td><td>0.7502057</td></tr>\n",
              "\t<tr><td>CLOSE SLEEVE              </td><td> 1084</td><td>64907</td><td>0.7629476</td></tr>\n",
              "\t<tr><td>PRECLOSE ELASTIC          </td><td> 1015</td><td>65922</td><td>0.7748783</td></tr>\n",
              "\t<tr><td>HEM LEG                   </td><td>  989</td><td>66911</td><td>0.7865035</td></tr>\n",
              "\t<tr><td>TOP STITCH COLLAR         </td><td>  985</td><td>67896</td><td>0.7980817</td></tr>\n",
              "\t<tr><td>TOP STITCH WAIST BAND     </td><td>  971</td><td>68867</td><td>0.8094953</td></tr>\n",
              "\t<tr><td>BARTACK                   </td><td>  939</td><td>69806</td><td>0.8205327</td></tr>\n",
              "\t<tr><td>BIND ARM                  </td><td>  866</td><td>70672</td><td>0.8307121</td></tr>\n",
              "\t<tr><td>BIND NECK                 </td><td>  824</td><td>71496</td><td>0.8403978</td></tr>\n",
              "\t<tr><td>SET CUFF                  </td><td>  805</td><td>72301</td><td>0.8498601</td></tr>\n",
              "\t<tr><td>TUBE FLY                  </td><td>  762</td><td>73063</td><td>0.8588170</td></tr>\n",
              "\t<tr><td>TOP STITCH SLEEVE AND BAND</td><td>  658</td><td>73721</td><td>0.8665515</td></tr>\n",
              "\t<tr><td>SET BAND                  </td><td>  539</td><td>74260</td><td>0.8728871</td></tr>\n",
              "\t<tr><td>JOIN LEG                  </td><td>  504</td><td>74764</td><td>0.8788114</td></tr>\n",
              "\t<tr><td>BIND ARMHOLE              </td><td>  443</td><td>75207</td><td>0.8840186</td></tr>\n",
              "\t<tr><td>⋮</td><td>⋮</td><td>⋮</td><td>⋮</td></tr>\n",
              "\t<tr><td>HEM WAIST                     </td><td>11</td><td>84984</td><td>0.9989421</td></tr>\n",
              "\t<tr><td>PRESET HOOD                   </td><td>11</td><td>84995</td><td>0.9990714</td></tr>\n",
              "\t<tr><td>HEAT TRANS                    </td><td>10</td><td>85005</td><td>0.9991889</td></tr>\n",
              "\t<tr><td>CLOSE BACK RISE/ FRONT RISE   </td><td> 9</td><td>85014</td><td>0.9992947</td></tr>\n",
              "\t<tr><td>HT LABEL                      </td><td> 8</td><td>85022</td><td>0.9993888</td></tr>\n",
              "\t<tr><td>LEG ELASTIC                   </td><td> 6</td><td>85028</td><td>0.9994593</td></tr>\n",
              "\t<tr><td>OVERLOCK                      </td><td> 5</td><td>85033</td><td>0.9995181</td></tr>\n",
              "\t<tr><td>PRESET                        </td><td> 5</td><td>85038</td><td>0.9995768</td></tr>\n",
              "\t<tr><td>WAIST ELASTIC                 </td><td> 5</td><td>85043</td><td>0.9996356</td></tr>\n",
              "\t<tr><td>CLOSE SHOULDER                </td><td> 4</td><td>85047</td><td>0.9996826</td></tr>\n",
              "\t<tr><td>R-TACK HOOD                   </td><td> 4</td><td>85051</td><td>0.9997296</td></tr>\n",
              "\t<tr><td>OVEREDGER                     </td><td> 3</td><td>85054</td><td>0.9997649</td></tr>\n",
              "\t<tr><td>CLOSE WAIST                   </td><td> 2</td><td>85056</td><td>0.9997884</td></tr>\n",
              "\t<tr><td>SW036                         </td><td> 2</td><td>85058</td><td>0.9998119</td></tr>\n",
              "\t<tr><td>BIMD ARMHOLE                  </td><td> 1</td><td>85059</td><td>0.9998237</td></tr>\n",
              "\t<tr><td>BUTTONHOLE                    </td><td> 1</td><td>85060</td><td>0.9998354</td></tr>\n",
              "\t<tr><td>CLOSE FRONT RISE AND BACK RISE</td><td> 1</td><td>85061</td><td>0.9998472</td></tr>\n",
              "\t<tr><td>GEN1250KVA                    </td><td> 1</td><td>85062</td><td>0.9998589</td></tr>\n",
              "\t<tr><td>HEM FRONT 2                   </td><td> 1</td><td>85063</td><td>0.9998707</td></tr>\n",
              "\t<tr><td>HEM SLEEVE MANUAL             </td><td> 1</td><td>85064</td><td>0.9998825</td></tr>\n",
              "\t<tr><td>INK CUP                       </td><td> 1</td><td>85065</td><td>0.9998942</td></tr>\n",
              "\t<tr><td>JOIN  PANEL                   </td><td> 1</td><td>85066</td><td>0.9999060</td></tr>\n",
              "\t<tr><td>LA63328                       </td><td> 1</td><td>85067</td><td>0.9999177</td></tr>\n",
              "\t<tr><td>PCLAPTOP                      </td><td> 1</td><td>85068</td><td>0.9999295</td></tr>\n",
              "\t<tr><td>SEW ESLASTIC                  </td><td> 1</td><td>85069</td><td>0.9999412</td></tr>\n",
              "\t<tr><td>SEW R RUSSEL                  </td><td> 1</td><td>85070</td><td>0.9999530</td></tr>\n",
              "\t<tr><td>SEW SLASTIC                   </td><td> 1</td><td>85071</td><td>0.9999647</td></tr>\n",
              "\t<tr><td>Sewing Issues                 </td><td> 1</td><td>85072</td><td>0.9999765</td></tr>\n",
              "\t<tr><td>TOP STITCH OUTSEAM            </td><td> 1</td><td>85073</td><td>0.9999882</td></tr>\n",
              "\t<tr><td>UNIR HOMBRO                   </td><td> 1</td><td>85074</td><td>1.0000000</td></tr>\n",
              "</tbody>\n",
              "</table>\n"
            ],
            "text/markdown": "\nA tibble: 149 × 4\n\n| Operation &lt;chr&gt; | count &lt;int&gt; | cum_count &lt;int&gt; | cum_perc &lt;dbl&gt; |\n|---|---|---|---|\n| HEM SLEEVE                 | 14035 | 14035 | 0.1649740 |\n| HEM BOTTOM                 | 10608 | 24643 | 0.2896655 |\n| JOIN PANEL                 |  5498 | 30141 | 0.3542916 |\n| TAPE SHOULDER              |  3808 | 33949 | 0.3990526 |\n| HEM AROUND                 |  3564 | 37513 | 0.4409455 |\n| SET SLEEVE                 |  3270 | 40783 | 0.4793827 |\n| ATTACH ELASTIC             |  3093 | 43876 | 0.5157392 |\n| JOIN SHOULDER              |  2938 | 46814 | 0.5502739 |\n| FLAT LOCK                  |  2875 | 49689 | 0.5840680 |\n| SEW ELASTIC                |  2640 | 52329 | 0.6150998 |\n| FLAT SEAM                  |  2463 | 54792 | 0.6440511 |\n| BIND LEG                   |  2365 | 57157 | 0.6718504 |\n| TOP STITCH                 |  2211 | 59368 | 0.6978395 |\n| SET COLLAR                 |  2191 | 61559 | 0.7235936 |\n| SET POCKET                 |  1150 | 62709 | 0.7371112 |\n| HEM SLEEVE MAN             |  1114 | 63823 | 0.7502057 |\n| CLOSE SLEEVE               |  1084 | 64907 | 0.7629476 |\n| PRECLOSE ELASTIC           |  1015 | 65922 | 0.7748783 |\n| HEM LEG                    |   989 | 66911 | 0.7865035 |\n| TOP STITCH COLLAR          |   985 | 67896 | 0.7980817 |\n| TOP STITCH WAIST BAND      |   971 | 68867 | 0.8094953 |\n| BARTACK                    |   939 | 69806 | 0.8205327 |\n| BIND ARM                   |   866 | 70672 | 0.8307121 |\n| BIND NECK                  |   824 | 71496 | 0.8403978 |\n| SET CUFF                   |   805 | 72301 | 0.8498601 |\n| TUBE FLY                   |   762 | 73063 | 0.8588170 |\n| TOP STITCH SLEEVE AND BAND |   658 | 73721 | 0.8665515 |\n| SET BAND                   |   539 | 74260 | 0.8728871 |\n| JOIN LEG                   |   504 | 74764 | 0.8788114 |\n| BIND ARMHOLE               |   443 | 75207 | 0.8840186 |\n| ⋮ | ⋮ | ⋮ | ⋮ |\n| HEM WAIST                      | 11 | 84984 | 0.9989421 |\n| PRESET HOOD                    | 11 | 84995 | 0.9990714 |\n| HEAT TRANS                     | 10 | 85005 | 0.9991889 |\n| CLOSE BACK RISE/ FRONT RISE    |  9 | 85014 | 0.9992947 |\n| HT LABEL                       |  8 | 85022 | 0.9993888 |\n| LEG ELASTIC                    |  6 | 85028 | 0.9994593 |\n| OVERLOCK                       |  5 | 85033 | 0.9995181 |\n| PRESET                         |  5 | 85038 | 0.9995768 |\n| WAIST ELASTIC                  |  5 | 85043 | 0.9996356 |\n| CLOSE SHOULDER                 |  4 | 85047 | 0.9996826 |\n| R-TACK HOOD                    |  4 | 85051 | 0.9997296 |\n| OVEREDGER                      |  3 | 85054 | 0.9997649 |\n| CLOSE WAIST                    |  2 | 85056 | 0.9997884 |\n| SW036                          |  2 | 85058 | 0.9998119 |\n| BIMD ARMHOLE                   |  1 | 85059 | 0.9998237 |\n| BUTTONHOLE                     |  1 | 85060 | 0.9998354 |\n| CLOSE FRONT RISE AND BACK RISE |  1 | 85061 | 0.9998472 |\n| GEN1250KVA                     |  1 | 85062 | 0.9998589 |\n| HEM FRONT 2                    |  1 | 85063 | 0.9998707 |\n| HEM SLEEVE MANUAL              |  1 | 85064 | 0.9998825 |\n| INK CUP                        |  1 | 85065 | 0.9998942 |\n| JOIN  PANEL                    |  1 | 85066 | 0.9999060 |\n| LA63328                        |  1 | 85067 | 0.9999177 |\n| PCLAPTOP                       |  1 | 85068 | 0.9999295 |\n| SEW ESLASTIC                   |  1 | 85069 | 0.9999412 |\n| SEW R RUSSEL                   |  1 | 85070 | 0.9999530 |\n| SEW SLASTIC                    |  1 | 85071 | 0.9999647 |\n| Sewing Issues                  |  1 | 85072 | 0.9999765 |\n| TOP STITCH OUTSEAM             |  1 | 85073 | 0.9999882 |\n| UNIR HOMBRO                    |  1 | 85074 | 1.0000000 |\n\n",
            "text/latex": "A tibble: 149 × 4\n\\begin{tabular}{llll}\n Operation & count & cum\\_count & cum\\_perc\\\\\n <chr> & <int> & <int> & <dbl>\\\\\n\\hline\n\t HEM SLEEVE                 & 14035 & 14035 & 0.1649740\\\\\n\t HEM BOTTOM                 & 10608 & 24643 & 0.2896655\\\\\n\t JOIN PANEL                 &  5498 & 30141 & 0.3542916\\\\\n\t TAPE SHOULDER              &  3808 & 33949 & 0.3990526\\\\\n\t HEM AROUND                 &  3564 & 37513 & 0.4409455\\\\\n\t SET SLEEVE                 &  3270 & 40783 & 0.4793827\\\\\n\t ATTACH ELASTIC             &  3093 & 43876 & 0.5157392\\\\\n\t JOIN SHOULDER              &  2938 & 46814 & 0.5502739\\\\\n\t FLAT LOCK                  &  2875 & 49689 & 0.5840680\\\\\n\t SEW ELASTIC                &  2640 & 52329 & 0.6150998\\\\\n\t FLAT SEAM                  &  2463 & 54792 & 0.6440511\\\\\n\t BIND LEG                   &  2365 & 57157 & 0.6718504\\\\\n\t TOP STITCH                 &  2211 & 59368 & 0.6978395\\\\\n\t SET COLLAR                 &  2191 & 61559 & 0.7235936\\\\\n\t SET POCKET                 &  1150 & 62709 & 0.7371112\\\\\n\t HEM SLEEVE MAN             &  1114 & 63823 & 0.7502057\\\\\n\t CLOSE SLEEVE               &  1084 & 64907 & 0.7629476\\\\\n\t PRECLOSE ELASTIC           &  1015 & 65922 & 0.7748783\\\\\n\t HEM LEG                    &   989 & 66911 & 0.7865035\\\\\n\t TOP STITCH COLLAR          &   985 & 67896 & 0.7980817\\\\\n\t TOP STITCH WAIST BAND      &   971 & 68867 & 0.8094953\\\\\n\t BARTACK                    &   939 & 69806 & 0.8205327\\\\\n\t BIND ARM                   &   866 & 70672 & 0.8307121\\\\\n\t BIND NECK                  &   824 & 71496 & 0.8403978\\\\\n\t SET CUFF                   &   805 & 72301 & 0.8498601\\\\\n\t TUBE FLY                   &   762 & 73063 & 0.8588170\\\\\n\t TOP STITCH SLEEVE AND BAND &   658 & 73721 & 0.8665515\\\\\n\t SET BAND                   &   539 & 74260 & 0.8728871\\\\\n\t JOIN LEG                   &   504 & 74764 & 0.8788114\\\\\n\t BIND ARMHOLE               &   443 & 75207 & 0.8840186\\\\\n\t ⋮ & ⋮ & ⋮ & ⋮\\\\\n\t HEM WAIST                      & 11 & 84984 & 0.9989421\\\\\n\t PRESET HOOD                    & 11 & 84995 & 0.9990714\\\\\n\t HEAT TRANS                     & 10 & 85005 & 0.9991889\\\\\n\t CLOSE BACK RISE/ FRONT RISE    &  9 & 85014 & 0.9992947\\\\\n\t HT LABEL                       &  8 & 85022 & 0.9993888\\\\\n\t LEG ELASTIC                    &  6 & 85028 & 0.9994593\\\\\n\t OVERLOCK                       &  5 & 85033 & 0.9995181\\\\\n\t PRESET                         &  5 & 85038 & 0.9995768\\\\\n\t WAIST ELASTIC                  &  5 & 85043 & 0.9996356\\\\\n\t CLOSE SHOULDER                 &  4 & 85047 & 0.9996826\\\\\n\t R-TACK HOOD                    &  4 & 85051 & 0.9997296\\\\\n\t OVEREDGER                      &  3 & 85054 & 0.9997649\\\\\n\t CLOSE WAIST                    &  2 & 85056 & 0.9997884\\\\\n\t SW036                          &  2 & 85058 & 0.9998119\\\\\n\t BIMD ARMHOLE                   &  1 & 85059 & 0.9998237\\\\\n\t BUTTONHOLE                     &  1 & 85060 & 0.9998354\\\\\n\t CLOSE FRONT RISE AND BACK RISE &  1 & 85061 & 0.9998472\\\\\n\t GEN1250KVA                     &  1 & 85062 & 0.9998589\\\\\n\t HEM FRONT 2                    &  1 & 85063 & 0.9998707\\\\\n\t HEM SLEEVE MANUAL              &  1 & 85064 & 0.9998825\\\\\n\t INK CUP                        &  1 & 85065 & 0.9998942\\\\\n\t JOIN  PANEL                    &  1 & 85066 & 0.9999060\\\\\n\t LA63328                        &  1 & 85067 & 0.9999177\\\\\n\t PCLAPTOP                       &  1 & 85068 & 0.9999295\\\\\n\t SEW ESLASTIC                   &  1 & 85069 & 0.9999412\\\\\n\t SEW R RUSSEL                   &  1 & 85070 & 0.9999530\\\\\n\t SEW SLASTIC                    &  1 & 85071 & 0.9999647\\\\\n\t Sewing Issues                  &  1 & 85072 & 0.9999765\\\\\n\t TOP STITCH OUTSEAM             &  1 & 85073 & 0.9999882\\\\\n\t UNIR HOMBRO                    &  1 & 85074 & 1.0000000\\\\\n\\end{tabular}\n",
            "text/plain": [
              "    Operation                      count cum_count cum_perc \n",
              "1   HEM SLEEVE                     14035 14035     0.1649740\n",
              "2   HEM BOTTOM                     10608 24643     0.2896655\n",
              "3   JOIN PANEL                      5498 30141     0.3542916\n",
              "4   TAPE SHOULDER                   3808 33949     0.3990526\n",
              "5   HEM AROUND                      3564 37513     0.4409455\n",
              "6   SET SLEEVE                      3270 40783     0.4793827\n",
              "7   ATTACH ELASTIC                  3093 43876     0.5157392\n",
              "8   JOIN SHOULDER                   2938 46814     0.5502739\n",
              "9   FLAT LOCK                       2875 49689     0.5840680\n",
              "10  SEW ELASTIC                     2640 52329     0.6150998\n",
              "11  FLAT SEAM                       2463 54792     0.6440511\n",
              "12  BIND LEG                        2365 57157     0.6718504\n",
              "13  TOP STITCH                      2211 59368     0.6978395\n",
              "14  SET COLLAR                      2191 61559     0.7235936\n",
              "15  SET POCKET                      1150 62709     0.7371112\n",
              "16  HEM SLEEVE MAN                  1114 63823     0.7502057\n",
              "17  CLOSE SLEEVE                    1084 64907     0.7629476\n",
              "18  PRECLOSE ELASTIC                1015 65922     0.7748783\n",
              "19  HEM LEG                          989 66911     0.7865035\n",
              "20  TOP STITCH COLLAR                985 67896     0.7980817\n",
              "21  TOP STITCH WAIST BAND            971 68867     0.8094953\n",
              "22  BARTACK                          939 69806     0.8205327\n",
              "23  BIND ARM                         866 70672     0.8307121\n",
              "24  BIND NECK                        824 71496     0.8403978\n",
              "25  SET CUFF                         805 72301     0.8498601\n",
              "26  TUBE FLY                         762 73063     0.8588170\n",
              "27  TOP STITCH SLEEVE AND BAND       658 73721     0.8665515\n",
              "28  SET BAND                         539 74260     0.8728871\n",
              "29  JOIN LEG                         504 74764     0.8788114\n",
              "30  BIND ARMHOLE                     443 75207     0.8840186\n",
              "⋮   ⋮                              ⋮     ⋮         ⋮        \n",
              "120 HEM WAIST                      11    84984     0.9989421\n",
              "121 PRESET HOOD                    11    84995     0.9990714\n",
              "122 HEAT TRANS                     10    85005     0.9991889\n",
              "123 CLOSE BACK RISE/ FRONT RISE     9    85014     0.9992947\n",
              "124 HT LABEL                        8    85022     0.9993888\n",
              "125 LEG ELASTIC                     6    85028     0.9994593\n",
              "126 OVERLOCK                        5    85033     0.9995181\n",
              "127 PRESET                          5    85038     0.9995768\n",
              "128 WAIST ELASTIC                   5    85043     0.9996356\n",
              "129 CLOSE SHOULDER                  4    85047     0.9996826\n",
              "130 R-TACK HOOD                     4    85051     0.9997296\n",
              "131 OVEREDGER                       3    85054     0.9997649\n",
              "132 CLOSE WAIST                     2    85056     0.9997884\n",
              "133 SW036                           2    85058     0.9998119\n",
              "134 BIMD ARMHOLE                    1    85059     0.9998237\n",
              "135 BUTTONHOLE                      1    85060     0.9998354\n",
              "136 CLOSE FRONT RISE AND BACK RISE  1    85061     0.9998472\n",
              "137 GEN1250KVA                      1    85062     0.9998589\n",
              "138 HEM FRONT 2                     1    85063     0.9998707\n",
              "139 HEM SLEEVE MANUAL               1    85064     0.9998825\n",
              "140 INK CUP                         1    85065     0.9998942\n",
              "141 JOIN  PANEL                     1    85066     0.9999060\n",
              "142 LA63328                         1    85067     0.9999177\n",
              "143 PCLAPTOP                        1    85068     0.9999295\n",
              "144 SEW ESLASTIC                    1    85069     0.9999412\n",
              "145 SEW R RUSSEL                    1    85070     0.9999530\n",
              "146 SEW SLASTIC                     1    85071     0.9999647\n",
              "147 Sewing Issues                   1    85072     0.9999765\n",
              "148 TOP STITCH OUTSEAM              1    85073     0.9999882\n",
              "149 UNIR HOMBRO                     1    85074     1.0000000"
            ]
          },
          "metadata": {}
        }
      ]
    },
    {
      "cell_type": "code",
      "source": [
        "# Histograma de 'downtimeGross'\n",
        "hist_downtimeGross <- ggplot(df, aes(x = downtimeGross)) +\n",
        "  geom_histogram(binwidth = 0.1, fill = \"green\", color = \"black\", alpha = 0.7) +\n",
        "  labs(title = \"Histograma de Downtime Bruto\",\n",
        "       x = \"Downtime Bruto (horas)\",\n",
        "       y = \"Frecuencia\") +\n",
        "  theme_minimal()\n",
        "\n",
        "# Mostrar histogramas\n",
        "print(hist_downtimeGross)"
      ],
      "metadata": {
        "colab": {
          "base_uri": "https://localhost:8080/",
          "height": 437
        },
        "id": "pX3O1eGXcMZL",
        "outputId": "dc0bfedf-491e-45a8-a463-49ecfac739d8"
      },
      "execution_count": 6,
      "outputs": [
        {
          "output_type": "display_data",
          "data": {
            "text/plain": [
              "plot without title"
            ],
            "image/png": "[encoded data removed]"
          },
          "metadata": {
            "image/png": {
              "width": 420,
              "height": 420
            }
          }
        }
      ]
    },
    {
      "cell_type": "code",
      "source": [
        "# Filtrar registros donde downtimeGross no sea negativo\n",
        "df_filtered <- df %>%\n",
        "  filter(downtimeGross >= 0)"
      ],
      "metadata": {
        "id": "oOqbbJuhkqTH"
      },
      "execution_count": 7,
      "outputs": []
    },
    {
      "cell_type": "code",
      "source": [
        "# Convertir la columna 'Date' al formato adecuado\n",
        "df$Date <- as.Date(df$Date, format=\"%m/%d/%Y\")  # Ajusta el formato según tus datos\n",
        "# Ordenar el DataFrame por fecha\n",
        "df <- df %>%\n",
        "  arrange(Date)"
      ],
      "metadata": {
        "id": "ss5BYMi8Vtvl"
      },
      "execution_count": 8,
      "outputs": []
    },
    {
      "cell_type": "code",
      "source": [
        "# Calcular la diferencia en días entre la fecha actual y la fecha del último mantenimiento preventivo registrado para cada equipo\n",
        "df <- df %>%\n",
        "  group_by(Equipment) %>%\n",
        "  mutate(Time_Since_Last_Preventive_Maintenance = ifelse(`WO Type` == \"Preventative Maintenance\", difftime(max(Date), Date, units = \"days\"), 0))"
      ],
      "metadata": {
        "id": "1vi9i5wcV8uX"
      },
      "execution_count": 9,
      "outputs": []
    },
    {
      "cell_type": "code",
      "source": [
        "# Filtrar el DataFrame por 'WO Type' igual a 'Corrective Maintenance'\n",
        "df <- df %>%\n",
        "  filter(`WO Type` == \"Corrective Maintenance\")"
      ],
      "metadata": {
        "id": "LjrIm4bfXcHx"
      },
      "execution_count": 10,
      "outputs": []
    },
    {
      "cell_type": "code",
      "source": [
        "# Calcular la diferencia en días entre fechas consecutivas\n",
        "df <- df %>%\n",
        "  group_by(Equipment) %>%\n",
        "  mutate(Days_Between_Failures = difftime(Date, lag(Date), units = \"days\"))\n",
        "\n",
        "# Reemplazar los valores NA en Days_Between_Failures\n",
        "df$Days_Between_Failures[is.na(df$Days_Between_Failures)] <- as.numeric(difftime(df$Date[is.na(df$Days_Between_Failures)], as.Date(\"2023-01-01\"), units = \"days\"))"
      ],
      "metadata": {
        "id": "82Hp91p7aia4"
      },
      "execution_count": 11,
      "outputs": []
    },
    {
      "cell_type": "code",
      "source": [
        "df <- df %>%\n",
        "  group_by(Equipment) %>%\n",
        "  mutate(Cumulative_Failure_Count = row_number())"
      ],
      "metadata": {
        "id": "nTXK2CN1arF3"
      },
      "execution_count": 12,
      "outputs": []
    },
    {
      "cell_type": "code",
      "source": [
        "# Calcular el promedio de tiempo de reparación\n",
        "df <- df %>%\n",
        "  group_by(Equipment) %>%\n",
        "  mutate(Average_Repair_Time = mean(repairHours, na.rm = TRUE))"
      ],
      "metadata": {
        "id": "ay7pacmzayII"
      },
      "execution_count": 13,
      "outputs": []
    },
    {
      "cell_type": "code",
      "source": [
        "# Calcular el costo acumulado de mantenimiento\n",
        "df <- df %>%\n",
        "  group_by(Equipment) %>%\n",
        "  mutate(Cumulative_Maintenance_Cost = cumsum(partsCost))"
      ],
      "metadata": {
        "id": "_eN_OS-pa8be"
      },
      "execution_count": 14,
      "outputs": []
    },
    {
      "cell_type": "code",
      "source": [
        "# Histograma de 'Days_Between_Failures'\n",
        "hist_downtimeGross <- ggplot(df, aes(x = Days_Between_Failures)) +\n",
        "  geom_histogram(binwidth = 3, fill = \"green\", color = \"black\", alpha = 0.7) +\n",
        "  labs(title = \"Histograma de días entre fallas de equipos\",\n",
        "       x = \"Días\",\n",
        "       y = \"Frecuencia\") +\n",
        "  theme_minimal()\n",
        "\n",
        "# Mostrar histogramas\n",
        "print(hist_downtimeGross)"
      ],
      "metadata": {
        "colab": {
          "base_uri": "https://localhost:8080/",
          "height": 472
        },
        "id": "KH1JUTvocvtI",
        "outputId": "a26ebce8-d9ec-475a-c284-025b948123b0"
      },
      "execution_count": 15,
      "outputs": [
        {
          "output_type": "stream",
          "name": "stderr",
          "text": [
            "\u001b[1m\u001b[22mDon't know how to automatically pick scale for object of type \u001b[34m<difftime>\u001b[39m.\n",
            "Defaulting to continuous.\n"
          ]
        },
        {
          "output_type": "display_data",
          "data": {
            "text/plain": [
              "plot without title"
            ],
            "image/png": "[encoded data removed]"
          },
          "metadata": {
            "image/png": {
              "width": 420,
              "height": 420
            }
          }
        }
      ]
    },
    {
      "cell_type": "markdown",
      "source": [
        "**MODELO DE REGRESIÓN LOGÍSTICA**"
      ],
      "metadata": {
        "id": "hy_PbmnOmw_A"
      }
    },
    {
      "cell_type": "code",
      "source": [
        "# Crear una nueva columna llamada 'critically' basada en la condición de 'downtimeGross'\n",
        "df_copy$critically <- ifelse(df_copy$downtimeGross > 0.5, 0, 1)"
      ],
      "metadata": {
        "id": "lLh4NvrUChTe"
      },
      "execution_count": 16,
      "outputs": []
    },
    {
      "cell_type": "code",
      "source": [
        "head(df_copy,5)"
      ],
      "metadata": {
        "colab": {
          "base_uri": "https://localhost:8080/",
          "height": 255
        },
        "id": "2WgFIFKTC7as",
        "outputId": "9ec3f981-882b-4c34-e93f-ef49d0a8b8b3"
      },
      "execution_count": 17,
      "outputs": [
        {
          "output_type": "display_data",
          "data": {
            "text/html": [
              "<table class=\"dataframe\">\n",
              "<caption>A tibble: 5 × 13</caption>\n",
              "<thead>\n",
              "\t<tr><th scope=col>Equipment</th><th scope=col>Operation</th><th scope=col>WO Type</th><th scope=col>Model Base</th><th scope=col>Problem Code</th><th scope=col>Failure Code</th><th scope=col>Cause Code</th><th scope=col>Action Code</th><th scope=col>Date</th><th scope=col>downtimeGross</th><th scope=col>partsCost</th><th scope=col>repairHours</th><th scope=col>critically</th></tr>\n",
              "\t<tr><th scope=col>&lt;dbl&gt;</th><th scope=col>&lt;chr&gt;</th><th scope=col>&lt;chr&gt;</th><th scope=col>&lt;chr&gt;</th><th scope=col>&lt;chr&gt;</th><th scope=col>&lt;chr&gt;</th><th scope=col>&lt;chr&gt;</th><th scope=col>&lt;chr&gt;</th><th scope=col>&lt;chr&gt;</th><th scope=col>&lt;dbl&gt;</th><th scope=col>&lt;dbl&gt;</th><th scope=col>&lt;dbl&gt;</th><th scope=col>&lt;dbl&gt;</th></tr>\n",
              "</thead>\n",
              "<tbody>\n",
              "\t<tr><td>100268</td><td>BIND LEG  </td><td>Corrective Maintenance</td><td>VF2500  </td><td>SEWP002</td><td>SEWF001</td><td>SEWC012</td><td>SEWA013</td><td>1/17/2024</td><td>3.00</td><td>12.50</td><td>2.00</td><td>0</td></tr>\n",
              "\t<tr><td>100268</td><td>BIND LEG  </td><td>Corrective Maintenance</td><td>VF2500  </td><td>SEWP002</td><td>SEWF001</td><td>SEWC017</td><td>SEWA013</td><td>10/3/2023</td><td>1.25</td><td>16.81</td><td>1.25</td><td>0</td></tr>\n",
              "\t<tr><td>100268</td><td>BIND LEG  </td><td>Calibration           </td><td>VF2500  </td><td>SEWP001</td><td>SEWF001</td><td>SEWC001</td><td>SEWA001</td><td>7/14/2023</td><td>0.08</td><td> 0.74</td><td>0.08</td><td>1</td></tr>\n",
              "\t<tr><td>100312</td><td>BARTACK   </td><td>Corrective Maintenance</td><td>LT2-B872</td><td>SEWP001</td><td>SEWF001</td><td>SEWC005</td><td>SEWA005</td><td>3/18/2023</td><td>0.25</td><td> 2.67</td><td>0.25</td><td>1</td></tr>\n",
              "\t<tr><td>100312</td><td>SET ZIPPER</td><td>Corrective Maintenance</td><td>LT2-B872</td><td>SEWP001</td><td>SEWF008</td><td>SEWC082</td><td>SEWA083</td><td>3/9/2023 </td><td>0.33</td><td> 0.00</td><td>0.33</td><td>1</td></tr>\n",
              "</tbody>\n",
              "</table>\n"
            ],
            "text/markdown": "\nA tibble: 5 × 13\n\n| Equipment &lt;dbl&gt; | Operation &lt;chr&gt; | WO Type &lt;chr&gt; | Model Base &lt;chr&gt; | Problem Code &lt;chr&gt; | Failure Code &lt;chr&gt; | Cause Code &lt;chr&gt; | Action Code &lt;chr&gt; | Date &lt;chr&gt; | downtimeGross &lt;dbl&gt; | partsCost &lt;dbl&gt; | repairHours &lt;dbl&gt; | critically &lt;dbl&gt; |\n|---|---|---|---|---|---|---|---|---|---|---|---|---|\n| 100268 | BIND LEG   | Corrective Maintenance | VF2500   | SEWP002 | SEWF001 | SEWC012 | SEWA013 | 1/17/2024 | 3.00 | 12.50 | 2.00 | 0 |\n| 100268 | BIND LEG   | Corrective Maintenance | VF2500   | SEWP002 | SEWF001 | SEWC017 | SEWA013 | 10/3/2023 | 1.25 | 16.81 | 1.25 | 0 |\n| 100268 | BIND LEG   | Calibration            | VF2500   | SEWP001 | SEWF001 | SEWC001 | SEWA001 | 7/14/2023 | 0.08 |  0.74 | 0.08 | 1 |\n| 100312 | BARTACK    | Corrective Maintenance | LT2-B872 | SEWP001 | SEWF001 | SEWC005 | SEWA005 | 3/18/2023 | 0.25 |  2.67 | 0.25 | 1 |\n| 100312 | SET ZIPPER | Corrective Maintenance | LT2-B872 | SEWP001 | SEWF008 | SEWC082 | SEWA083 | 3/9/2023  | 0.33 |  0.00 | 0.33 | 1 |\n\n",
            "text/latex": "A tibble: 5 × 13\n\\begin{tabular}{lllllllllllll}\n Equipment & Operation & WO Type & Model Base & Problem Code & Failure Code & Cause Code & Action Code & Date & downtimeGross & partsCost & repairHours & critically\\\\\n <dbl> & <chr> & <chr> & <chr> & <chr> & <chr> & <chr> & <chr> & <chr> & <dbl> & <dbl> & <dbl> & <dbl>\\\\\n\\hline\n\t 100268 & BIND LEG   & Corrective Maintenance & VF2500   & SEWP002 & SEWF001 & SEWC012 & SEWA013 & 1/17/2024 & 3.00 & 12.50 & 2.00 & 0\\\\\n\t 100268 & BIND LEG   & Corrective Maintenance & VF2500   & SEWP002 & SEWF001 & SEWC017 & SEWA013 & 10/3/2023 & 1.25 & 16.81 & 1.25 & 0\\\\\n\t 100268 & BIND LEG   & Calibration            & VF2500   & SEWP001 & SEWF001 & SEWC001 & SEWA001 & 7/14/2023 & 0.08 &  0.74 & 0.08 & 1\\\\\n\t 100312 & BARTACK    & Corrective Maintenance & LT2-B872 & SEWP001 & SEWF001 & SEWC005 & SEWA005 & 3/18/2023 & 0.25 &  2.67 & 0.25 & 1\\\\\n\t 100312 & SET ZIPPER & Corrective Maintenance & LT2-B872 & SEWP001 & SEWF008 & SEWC082 & SEWA083 & 3/9/2023  & 0.33 &  0.00 & 0.33 & 1\\\\\n\\end{tabular}\n",
            "text/plain": [
              "  Equipment Operation  WO Type                Model Base Problem Code\n",
              "1 100268    BIND LEG   Corrective Maintenance VF2500     SEWP002     \n",
              "2 100268    BIND LEG   Corrective Maintenance VF2500     SEWP002     \n",
              "3 100268    BIND LEG   Calibration            VF2500     SEWP001     \n",
              "4 100312    BARTACK    Corrective Maintenance LT2-B872   SEWP001     \n",
              "5 100312    SET ZIPPER Corrective Maintenance LT2-B872   SEWP001     \n",
              "  Failure Code Cause Code Action Code Date      downtimeGross partsCost\n",
              "1 SEWF001      SEWC012    SEWA013     1/17/2024 3.00          12.50    \n",
              "2 SEWF001      SEWC017    SEWA013     10/3/2023 1.25          16.81    \n",
              "3 SEWF001      SEWC001    SEWA001     7/14/2023 0.08           0.74    \n",
              "4 SEWF001      SEWC005    SEWA005     3/18/2023 0.25           2.67    \n",
              "5 SEWF008      SEWC082    SEWA083     3/9/2023  0.33           0.00    \n",
              "  repairHours critically\n",
              "1 2.00        0         \n",
              "2 1.25        0         \n",
              "3 0.08        1         \n",
              "4 0.25        1         \n",
              "5 0.33        1         "
            ]
          },
          "metadata": {}
        }
      ]
    },
    {
      "cell_type": "code",
      "source": [
        "df_copy$critically <- as.factor(df_copy$critically)"
      ],
      "metadata": {
        "id": "Oq0qKLpPDtnz"
      },
      "execution_count": 18,
      "outputs": []
    },
    {
      "cell_type": "code",
      "source": [
        "# Filtrar el DataFrame por 'WO Type' igual a 'Corrective Maintenance'\n",
        "df_copy <- df_copy %>%\n",
        "  filter(`WO Type` == \"Corrective Maintenance\")\n",
        "df_filtrado <- dplyr::select(df_copy,-Equipment,-`WO Type`,-Date,-downtimeGross,-repairHours)"
      ],
      "metadata": {
        "id": "X4gwcPGFEQXA"
      },
      "execution_count": 19,
      "outputs": []
    },
    {
      "cell_type": "code",
      "source": [
        "head(df_filtrado,5)"
      ],
      "metadata": {
        "colab": {
          "base_uri": "https://localhost:8080/",
          "height": 255
        },
        "id": "DVefy4JIbXV0",
        "outputId": "2b9e70b3-10d5-4586-d2c2-edb4aadc387a"
      },
      "execution_count": 20,
      "outputs": [
        {
          "output_type": "display_data",
          "data": {
            "text/html": [
              "<table class=\"dataframe\">\n",
              "<caption>A tibble: 5 × 8</caption>\n",
              "<thead>\n",
              "\t<tr><th scope=col>Operation</th><th scope=col>Model Base</th><th scope=col>Problem Code</th><th scope=col>Failure Code</th><th scope=col>Cause Code</th><th scope=col>Action Code</th><th scope=col>partsCost</th><th scope=col>critically</th></tr>\n",
              "\t<tr><th scope=col>&lt;chr&gt;</th><th scope=col>&lt;chr&gt;</th><th scope=col>&lt;chr&gt;</th><th scope=col>&lt;chr&gt;</th><th scope=col>&lt;chr&gt;</th><th scope=col>&lt;chr&gt;</th><th scope=col>&lt;dbl&gt;</th><th scope=col>&lt;fct&gt;</th></tr>\n",
              "</thead>\n",
              "<tbody>\n",
              "\t<tr><td>BIND LEG  </td><td>VF2500  </td><td>SEWP002</td><td>SEWF001</td><td>SEWC012</td><td>SEWA013</td><td>12.50</td><td>0</td></tr>\n",
              "\t<tr><td>BIND LEG  </td><td>VF2500  </td><td>SEWP002</td><td>SEWF001</td><td>SEWC017</td><td>SEWA013</td><td>16.81</td><td>0</td></tr>\n",
              "\t<tr><td>BARTACK   </td><td>LT2-B872</td><td>SEWP001</td><td>SEWF001</td><td>SEWC005</td><td>SEWA005</td><td> 2.67</td><td>1</td></tr>\n",
              "\t<tr><td>SET ZIPPER</td><td>LT2-B872</td><td>SEWP001</td><td>SEWF008</td><td>SEWC082</td><td>SEWA083</td><td> 0.00</td><td>1</td></tr>\n",
              "\t<tr><td>SET ZIPPER</td><td>LT2-B872</td><td>SEWP002</td><td>SEWF008</td><td>SEWC082</td><td>SEWA080</td><td> 0.00</td><td>1</td></tr>\n",
              "</tbody>\n",
              "</table>\n"
            ],
            "text/markdown": "\nA tibble: 5 × 8\n\n| Operation &lt;chr&gt; | Model Base &lt;chr&gt; | Problem Code &lt;chr&gt; | Failure Code &lt;chr&gt; | Cause Code &lt;chr&gt; | Action Code &lt;chr&gt; | partsCost &lt;dbl&gt; | critically &lt;fct&gt; |\n|---|---|---|---|---|---|---|---|\n| BIND LEG   | VF2500   | SEWP002 | SEWF001 | SEWC012 | SEWA013 | 12.50 | 0 |\n| BIND LEG   | VF2500   | SEWP002 | SEWF001 | SEWC017 | SEWA013 | 16.81 | 0 |\n| BARTACK    | LT2-B872 | SEWP001 | SEWF001 | SEWC005 | SEWA005 |  2.67 | 1 |\n| SET ZIPPER | LT2-B872 | SEWP001 | SEWF008 | SEWC082 | SEWA083 |  0.00 | 1 |\n| SET ZIPPER | LT2-B872 | SEWP002 | SEWF008 | SEWC082 | SEWA080 |  0.00 | 1 |\n\n",
            "text/latex": "A tibble: 5 × 8\n\\begin{tabular}{llllllll}\n Operation & Model Base & Problem Code & Failure Code & Cause Code & Action Code & partsCost & critically\\\\\n <chr> & <chr> & <chr> & <chr> & <chr> & <chr> & <dbl> & <fct>\\\\\n\\hline\n\t BIND LEG   & VF2500   & SEWP002 & SEWF001 & SEWC012 & SEWA013 & 12.50 & 0\\\\\n\t BIND LEG   & VF2500   & SEWP002 & SEWF001 & SEWC017 & SEWA013 & 16.81 & 0\\\\\n\t BARTACK    & LT2-B872 & SEWP001 & SEWF001 & SEWC005 & SEWA005 &  2.67 & 1\\\\\n\t SET ZIPPER & LT2-B872 & SEWP001 & SEWF008 & SEWC082 & SEWA083 &  0.00 & 1\\\\\n\t SET ZIPPER & LT2-B872 & SEWP002 & SEWF008 & SEWC082 & SEWA080 &  0.00 & 1\\\\\n\\end{tabular}\n",
            "text/plain": [
              "  Operation  Model Base Problem Code Failure Code Cause Code Action Code\n",
              "1 BIND LEG   VF2500     SEWP002      SEWF001      SEWC012    SEWA013    \n",
              "2 BIND LEG   VF2500     SEWP002      SEWF001      SEWC017    SEWA013    \n",
              "3 BARTACK    LT2-B872   SEWP001      SEWF001      SEWC005    SEWA005    \n",
              "4 SET ZIPPER LT2-B872   SEWP001      SEWF008      SEWC082    SEWA083    \n",
              "5 SET ZIPPER LT2-B872   SEWP002      SEWF008      SEWC082    SEWA080    \n",
              "  partsCost critically\n",
              "1 12.50     0         \n",
              "2 16.81     0         \n",
              "3  2.67     1         \n",
              "4  0.00     1         \n",
              "5  0.00     1         "
            ]
          },
          "metadata": {}
        }
      ]
    },
    {
      "cell_type": "code",
      "source": [
        "# Ajustar el modelo de regresión logística\n",
        "logistic_model <- glm(critically ~ ., data = df_filtrado, family = binomial(link=\"logit\"))\n",
        "\n",
        "# Resumen del modelo\n",
        "summary(logistic_model)"
      ],
      "metadata": {
        "id": "x6jPmFvvC-pN"
      },
      "execution_count": null,
      "outputs": []
    },
    {
      "cell_type": "code",
      "source": [],
      "metadata": {
        "id": "j_Oh0yTZewak"
      },
      "execution_count": null,
      "outputs": []
    },
    {
      "cell_type": "markdown",
      "source": [
        "**MODELO DE REGRESION LINEAL PARA PREDECIR DAYS BETWEEN FAILURES**"
      ],
      "metadata": {
        "id": "wNC721DunCQG"
      }
    },
    {
      "cell_type": "code",
      "source": [
        "# Inicializar y ajustar el modelo de regresión lineal\n",
        "df <- select(df, -`WO Type`)\n",
        "# Convertir la variable Days_Between_Failures a tipo de datos numérico\n",
        "df$Days_Between_Failures <- as.numeric(df$Days_Between_Failures)"
      ],
      "metadata": {
        "id": "0-HfwbykbII9"
      },
      "execution_count": null,
      "outputs": []
    },
    {
      "cell_type": "code",
      "source": [
        "head(df,5)"
      ],
      "metadata": {
        "id": "1Agizq_UtJeM"
      },
      "execution_count": null,
      "outputs": []
    },
    {
      "cell_type": "code",
      "source": [
        "formula <- as.formula(\"Days_Between_Failures ~ Equipment + Operation + `Model Base` + `Problem Code` + `Failure Code` +\n",
        "`Cause Code` + `Action Code` + downtimeGross + partsCost + repairHours + Time_Since_Last_Preventive_Maintenance + Cumulative_Failure_Count + Average_Repair_Time +\n",
        "Cumulative_Maintenance_Cost\")"
      ],
      "metadata": {
        "id": "uOHmprL_tUJl"
      },
      "execution_count": null,
      "outputs": []
    },
    {
      "cell_type": "code",
      "source": [
        "# Inicializar y ajustar el modelo de regresión lineal\n",
        "model <- lm(formula = formula, data = df)\n",
        "# Resumen del modelo\n",
        "summary(model)"
      ],
      "metadata": {
        "id": "qtPJcI7SifTV"
      },
      "execution_count": null,
      "outputs": []
    },
    {
      "cell_type": "code",
      "source": [
        "# Realizar backward elimination\n",
        "model_final <- step(model, direction = \"backward\")\n",
        "model_final$anova"
      ],
      "metadata": {
        "id": "ZbC7KyFYuvs8"
      },
      "execution_count": null,
      "outputs": []
    },
    {
      "cell_type": "code",
      "source": [
        "formula2 = as.formula(\"Days_Between_Failures ~  Operation + `Model Base` +\n",
        "    `Problem Code` + `Action Code` + downtimeGross +\n",
        "    repairHours + Cumulative_Failure_Count + Average_Repair_Time +\n",
        "    Cumulative_Maintenance_Cost\")"
      ],
      "metadata": {
        "id": "lAcnoWbu6hlH"
      },
      "execution_count": null,
      "outputs": []
    },
    {
      "cell_type": "code",
      "source": [
        "# Inicializar y ajustar el modelo de regresión lineal\n",
        "model2 <- lm(formula = formula2, data = df)\n",
        "# Resumen del modelo\n",
        "summary(model2)"
      ],
      "metadata": {
        "id": "B7rr4Ydn6qlM"
      },
      "execution_count": null,
      "outputs": []
    },
    {
      "cell_type": "code",
      "source": [
        "# Ordenar los datos por equipo y fecha\n",
        "df <- df %>% arrange(Equipment, Date)\n",
        "\n",
        "# Convertir la columna 'Date' en un objeto de fecha\n",
        "df$Date <- as.Date(df$Date)\n",
        "\n",
        "# Filtrar las columnas necesarias\n",
        "df_filtrado <- df %>% select(Equipment, Date, Days_Between_Failures)\n",
        "\n",
        "# Crear una lista para almacenar los modelos ARIMA para cada equipo\n",
        "models <- list()"
      ],
      "metadata": {
        "id": "wGsUFs-jG35Y"
      },
      "execution_count": null,
      "outputs": []
    },
    {
      "cell_type": "markdown",
      "source": [
        "**MODELO DE SERIE TEMPORAL POR EQUIPO PARA PREDECIR DAYS BETWEEN FAILURE**"
      ],
      "metadata": {
        "id": "3ZsZt4XgSKpd"
      }
    },
    {
      "cell_type": "code",
      "source": [
        "# Obtener la lista única de equipos\n",
        "equipments <- unique(df$Equipment)\n",
        "\n",
        "# Ajustar un modelo ARIMA para cada equipo\n",
        "for (equipment in equipments) {\n",
        "  # Filtrar los datos para el equipo actual\n",
        "  df_equipment <- df_filtrado %>% filter(Equipment == equipment)\n",
        "\n",
        "  # Crear la serie temporal\n",
        "  ts_data <- ts(df_equipment$Days_Between_Failures, frequency = 1)\n",
        "\n",
        "  # Ajustar el modelo ARIMA\n",
        "  fit <- auto.arima(ts_data)\n",
        "\n",
        "  # Almacenar el modelo\n",
        "  models[[as.character(equipment)]] <- fit\n",
        "}"
      ],
      "metadata": {
        "id": "gz2hKWQRLH7d"
      },
      "execution_count": null,
      "outputs": []
    },
    {
      "cell_type": "code",
      "source": [
        "# Encuentra el índice del valor si está presente en el vector\n",
        "indice_equipo <- which(equipments == 1159763)\n",
        "indice_equipo"
      ],
      "metadata": {
        "id": "Vfhlri3DPKm5"
      },
      "execution_count": null,
      "outputs": []
    },
    {
      "cell_type": "code",
      "source": [
        "# Ver el modelo ajustado para un equipo específico (por ejemplo, el primero)\n",
        "equipment_example <- equipments[5838]\n",
        "print(models[[as.character(equipment_example)]])"
      ],
      "metadata": {
        "id": "Y45EL2SZLFGK"
      },
      "execution_count": null,
      "outputs": []
    },
    {
      "cell_type": "code",
      "source": [
        "# Hacer una predicción para el equipo específico\n",
        "forecast_length <- 5  # Número de periodos a predecir\n",
        "forecast_result <- forecast(models[[as.character(equipment_example)]], h = forecast_length)\n",
        "print(forecast_result)\n",
        "\n",
        "# Graficar el resultado de la predicción\n",
        "plot(forecast_result)\n",
        "\n",
        "# Evaluar el rendimiento del modelo para un equipo específico\n",
        "actuals <- df_filtrado %>% filter(Equipment == equipment_example) %>% pull(Days_Between_Failures)\n",
        "predictions <- fitted(models[[as.character(equipment_example)]])\n",
        "mse <- mean((actuals - predictions)^2)\n",
        "print(paste(\"MSE:\", mse))"
      ],
      "metadata": {
        "id": "3Orf0PqMLTnO"
      },
      "execution_count": null,
      "outputs": []
    },
    {
      "cell_type": "markdown",
      "source": [
        "**ANALISIS DE SUPERVIVENCIA PARA MAQUINARIA DE RUEDO DE MANGA**"
      ],
      "metadata": {
        "id": "c9SqoJu2EVen"
      }
    },
    {
      "cell_type": "code",
      "source": [
        "# Cargar datos\n",
        "url <- \"https://raw.githubusercontent.com/cesargar1507/DatasetsUB/main/maquina2.csv\"\n",
        "data <- read_csv(url, show_col_types = FALSE)"
      ],
      "metadata": {
        "id": "SDTv6BmuEdc2"
      },
      "execution_count": null,
      "outputs": []
    },
    {
      "cell_type": "code",
      "source": [
        "head(data,5)"
      ],
      "metadata": {
        "id": "AB0Bld-OH9Ll"
      },
      "execution_count": null,
      "outputs": []
    },
    {
      "cell_type": "code",
      "source": [
        "# Filtrar el DataFrame por 'WO Type' igual a 'Corrective Maintenance'\n",
        "data <- data %>%\n",
        "  filter(`WO Type` == \"Corrective Maintenance\")\n",
        "data <- data%>%\n",
        "  filter(Operation == \"HEM SLEEVE\")"
      ],
      "metadata": {
        "id": "04VMpzGvKziY"
      },
      "execution_count": null,
      "outputs": []
    },
    {
      "cell_type": "code",
      "source": [
        "# Convertir la columna 'Date' al formato adecuado\n",
        "data$Date <- as.Date(data$Date, format=\"%m/%d/%Y\")  # Ajusta el formato según tus datos\n",
        "\n",
        "# Ordenar por equipo y fecha\n",
        "data <- data %>% arrange(Equipment, Date)\n",
        "\n",
        "# Calcular el tiempo entre fallas y si la falla ocurrió\n",
        "data <- data %>%\n",
        "  group_by(Equipment) %>%\n",
        "  mutate(Previous_Failure_Date = lag(Date),\n",
        "         Days_Between_Failures = as.numeric(Date - Previous_Failure_Date),\n",
        "         Event_Occurred = ifelse(is.na(Previous_Failure_Date), 0, 1)) %>%\n",
        "  ungroup()\n",
        "\n",
        "# Eliminar filas con NA en 'Days_Between_Failures'\n",
        "data <- data %>% filter(!is.na(Days_Between_Failures))"
      ],
      "metadata": {
        "id": "_fk-i1EzHkjv"
      },
      "execution_count": null,
      "outputs": []
    },
    {
      "cell_type": "code",
      "source": [
        "head(data,5)"
      ],
      "metadata": {
        "id": "g0iy7_YaJu6B"
      },
      "execution_count": null,
      "outputs": []
    },
    {
      "cell_type": "code",
      "source": [
        "# Convertir las variables categóricas a factores\n",
        "data$Equipment <- as.factor(data$Equipment)\n",
        "data$Operation <- as.factor(data$Operation)\n",
        "data$Model.Base <- as.factor(data$`Model Base`)\n",
        "data$Problem.Code <- as.factor(data$`Problem Code`)\n",
        "data$Failure.Code <- as.factor(data$`Failure Code`)\n",
        "data$Cause.Code <- as.factor(data$`Cause Code`)\n",
        "data$Action.Code <- as.factor(data$`Action Code`)"
      ],
      "metadata": {
        "id": "xSE8w7bzEkw3"
      },
      "execution_count": null,
      "outputs": []
    },
    {
      "cell_type": "code",
      "source": [
        "cox_model <- coxph(Surv(Days_Between_Failures, Event_Occurred) ~\n",
        "                  Model.Base + Problem.Code + Failure.Code + Cause.Code +\n",
        "                   Action.Code + downtimeGross + partsCost +repairHours, data = data)"
      ],
      "metadata": {
        "id": "Heop3EA5Ep7h"
      },
      "execution_count": null,
      "outputs": []
    },
    {
      "cell_type": "code",
      "source": [
        "# Resumen del modelo\n",
        "summary(cox_model)"
      ],
      "metadata": {
        "id": "QnZe_ZEclCH_"
      },
      "execution_count": null,
      "outputs": []
    },
    {
      "cell_type": "code",
      "source": [
        "# Curvas de supervivencia ajustadas\n",
        "fit <- survfit(cox_model)\n",
        "ggsurvplot(fit, data = data, risk.table = TRUE, pval = TRUE,\n",
        "           title = \"Curvas de Supervivencia Ajustadas\",\n",
        "           xlab = \"Tiempo (días)\", ylab = \"Probabilidad de Supervivencia\")\n"
      ],
      "metadata": {
        "id": "YP8yLPPBoznR"
      },
      "execution_count": null,
      "outputs": []
    },
    {
      "cell_type": "code",
      "source": [
        "# Imprimir el resumen del ajuste para ver la mediana de supervivencia\n",
        "summary_fit <- summary(fit)\n",
        "print(summary_fit)\n",
        "\n",
        "# Obtener la mediana de supervivencia\n",
        "median_survival <- summary_fit$time[which.min(abs(summary_fit$surv - 0.5))]\n",
        "print(paste(\"La mediana de supervivencia es:\", median_survival, \"días\"))"
      ],
      "metadata": {
        "id": "agIdYMrIXyvm"
      },
      "execution_count": null,
      "outputs": []
    },
    {
      "cell_type": "code",
      "source": [
        "library(ggplot2)\n",
        "library(survminer)\n",
        "\n",
        "# Graficar la curva de supervivencia con la mediana de supervivencia resaltada\n",
        "plot <- ggsurvplot(fit, data = data, risk.table = TRUE, pval = TRUE,\n",
        "                   title = \"Curvas de Supervivencia Ajustadas\",\n",
        "                   xlab = \"Tiempo (días)\", ylab = \"Probabilidad de Supervivencia\",\n",
        "                   conf.int = TRUE)\n",
        "\n",
        "# Añadir línea vertical y anotación para la mediana de supervivencia\n",
        "plot$plot <- plot$plot +\n",
        "  geom_vline(xintercept = median_survival, linetype = \"dashed\", color = \"red\") +\n",
        "  annotate(\"text\", x = median_survival, y = 0.5, label = paste(\"Mediana =\", median_survival, \"días\"), vjust = -1, color = \"red\")\n",
        "\n",
        "print(plot)"
      ],
      "metadata": {
        "id": "Ond62yHbYn0E"
      },
      "execution_count": null,
      "outputs": []
    }
  ]
}