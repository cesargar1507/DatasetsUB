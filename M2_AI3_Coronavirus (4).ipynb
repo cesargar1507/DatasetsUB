{
  "nbformat": 4,
  "nbformat_minor": 0,
  "metadata": {
    "colab": {
      "provenance": []
    },
    "kernelspec": {
      "name": "python3",
      "display_name": "Python 3"
    },
    "language_info": {
      "name": "python"
    }
  },
  "cells": [
    {
      "cell_type": "code",
      "execution_count": 63,
      "metadata": {
        "colab": {
          "base_uri": "https://localhost:8080/"
        },
        "id": "H9Ud-pQG6mw0",
        "outputId": "88e3cd71-ad66-440c-8788-d2f7f3bee0ef"
      },
      "outputs": [
        {
          "output_type": "stream",
          "name": "stdout",
          "text": [
            "<class 'pandas.core.frame.DataFrame'>\n",
            "RangeIndex: 49 entries, 0 to 48\n",
            "Data columns (total 14 columns):\n",
            " #   Column                  Non-Null Count  Dtype  \n",
            "---  ------                  --------------  -----  \n",
            " 0   Num                     49 non-null     int64  \n",
            " 1   Country                 49 non-null     object \n",
            " 2   Total Cases             49 non-null     object \n",
            " 3   New Cases               17 non-null     object \n",
            " 4   Total Deaths            46 non-null     object \n",
            " 5   New Deaths              7 non-null      float64\n",
            " 6   Total Recovered         45 non-null     object \n",
            " 7   Active Cases            45 non-null     object \n",
            " 8   Serious Critical        37 non-null     object \n",
            " 9   Total Cases per 1M pop  48 non-null     object \n",
            " 10  Deaths per 1M pop       45 non-null     object \n",
            " 11  Total Tests             47 non-null     object \n",
            " 12  Tests per 1M pop        47 non-null     object \n",
            " 13  Population              48 non-null     object \n",
            "dtypes: float64(1), int64(1), object(12)\n",
            "memory usage: 5.5+ KB\n"
          ]
        }
      ],
      "source": [
        "import pandas as pd\n",
        "import numpy as np\n",
        "from sklearn.model_selection import train_test_split\n",
        "from sklearn.tree import DecisionTreeRegressor\n",
        "from sklearn.metrics import mean_squared_error\n",
        "ruta = 'https://raw.githubusercontent.com/cesargar1507/DatasetsUB/main/worlddometer_covid_ue.csv?_sm_au_=iVVwgRnFF56ntMqT26q8vKHV6CTMc'\n",
        "datos = pd.read_csv(ruta, sep = ';')\n",
        "df = pd.DataFrame(datos)\n",
        "df.info()"
      ]
    },
    {
      "cell_type": "code",
      "source": [
        "df.rename(columns={'Population ': 'Population'}, inplace = True)"
      ],
      "metadata": {
        "id": "sRESmT_7ImHq"
      },
      "execution_count": 70,
      "outputs": []
    },
    {
      "cell_type": "code",
      "source": [
        "if df['Total Deaths'].dtype == object:\n",
        "  df['Total Deaths'] = pd.to_numeric(df['Total Deaths'].str.replace(',',''), errors= 'ignore')\n",
        "else:\n",
        "  print(\"La variable ya se ha convertido a numérica\")\n",
        "\n",
        "if df['Total Cases'].dtype == object:\n",
        "  df['Total Cases'] = pd.to_numeric(df['Total Cases'].str.replace(',',''), errors= 'ignore')\n",
        "else:\n",
        "  print(\"La variable ya se ha convertido a numérica\")\n",
        "\n",
        "if df['Total Recovered'].dtype == object:\n",
        "  df['Total Recovered'] = pd.to_numeric(df['Total Recovered'].str.replace(',',''), errors= 'ignore')\n",
        "else:\n",
        "  print(\"La variable ya se ha convertido a numérica\")\n",
        "\n",
        "if df['Total Tests'].dtype == object:\n",
        "  df['Total Tests'] = pd.to_numeric(df['Total Tests'].str.replace(',',''), errors= 'ignore')\n",
        "else:\n",
        "  print(\"La variable ya se ha convertido a numérica\")\n",
        "\n",
        "if df['Population'].dtype == object:\n",
        "  df['Population'] = pd.to_numeric(df['Population'].str.replace(',',''), errors= 'ignore')\n",
        "else:\n",
        "  print(\"La variable ya se ha convertido a numérica\")\n"
      ],
      "metadata": {
        "colab": {
          "base_uri": "https://localhost:8080/"
        },
        "id": "mYcXpmZX_wzH",
        "outputId": "267f4906-341d-4fcb-ebea-ff72c64152f8"
      },
      "execution_count": 71,
      "outputs": [
        {
          "output_type": "stream",
          "name": "stdout",
          "text": [
            "La variable ya se ha convertido a numérica\n",
            "La variable ya se ha convertido a numérica\n",
            "La variable ya se ha convertido a numérica\n",
            "La variable ya se ha convertido a numérica\n"
          ]
        }
      ]
    },
    {
      "cell_type": "markdown",
      "source": [
        "# **LITERAL 1**"
      ],
      "metadata": {
        "id": "ykqJ_kIfLe4H"
      }
    },
    {
      "cell_type": "code",
      "source": [
        "paises_filtrados = ['Spain', 'Italy', 'United Kingdom', 'France', 'Germany', 'Ukraine']\n",
        "df_filtrado = df[df['Country'].isin(paises_filtrados)]\n",
        "df_filtrado['prob_surv'] = (1-df_filtrado['Total Deaths']/df_filtrado['Total Cases'])*100\n",
        "df_filtrado[['Country','Total Cases','Total Deaths', 'Total Recovered','prob_surv']]"
      ],
      "metadata": {
        "colab": {
          "base_uri": "https://localhost:8080/",
          "height": 310
        },
        "id": "gpdJZXoq8GZk",
        "outputId": "fb3ab0f7-0be1-4390-ea8e-f53a7659a80f"
      },
      "execution_count": 92,
      "outputs": [
        {
          "output_type": "stream",
          "name": "stderr",
          "text": [
            "<ipython-input-92-d6f200df03b0>:3: SettingWithCopyWarning: \n",
            "A value is trying to be set on a copy of a slice from a DataFrame.\n",
            "Try using .loc[row_indexer,col_indexer] = value instead\n",
            "\n",
            "See the caveats in the documentation: https://pandas.pydata.org/pandas-docs/stable/user_guide/indexing.html#returning-a-view-versus-a-copy\n",
            "  df_filtrado['prob_surv'] = (1-df_filtrado['Total Deaths']/df_filtrado['Total Cases'])*100\n"
          ]
        },
        {
          "output_type": "execute_result",
          "data": {
            "text/plain": [
              "   Country  Total Cases  Total Deaths  Total Recovered  prob_surv\n",
              "2    Spain       455621       29011.0              NaN  93.632646\n",
              "4   France       272530       30602.0          86177.0  88.771144\n",
              "5    Italy       266853       35473.0         208224.0  86.706914\n",
              "6  Germany       242825        9363.0         217484.0  96.144137\n",
              "7  Ukraine       119074        2527.0          56734.0  97.877790"
            ],
            "text/html": [
              "\n",
              "  <div id=\"df-affd1738-1fee-466d-9aa6-baa0efdee0e2\" class=\"colab-df-container\">\n",
              "    <div>\n",
              "<style scoped>\n",
              "    .dataframe tbody tr th:only-of-type {\n",
              "        vertical-align: middle;\n",
              "    }\n",
              "\n",
              "    .dataframe tbody tr th {\n",
              "        vertical-align: top;\n",
              "    }\n",
              "\n",
              "    .dataframe thead th {\n",
              "        text-align: right;\n",
              "    }\n",
              "</style>\n",
              "<table border=\"1\" class=\"dataframe\">\n",
              "  <thead>\n",
              "    <tr style=\"text-align: right;\">\n",
              "      <th></th>\n",
              "      <th>Country</th>\n",
              "      <th>Total Cases</th>\n",
              "      <th>Total Deaths</th>\n",
              "      <th>Total Recovered</th>\n",
              "      <th>prob_surv</th>\n",
              "    </tr>\n",
              "  </thead>\n",
              "  <tbody>\n",
              "    <tr>\n",
              "      <th>2</th>\n",
              "      <td>Spain</td>\n",
              "      <td>455621</td>\n",
              "      <td>29011.0</td>\n",
              "      <td>NaN</td>\n",
              "      <td>93.632646</td>\n",
              "    </tr>\n",
              "    <tr>\n",
              "      <th>4</th>\n",
              "      <td>France</td>\n",
              "      <td>272530</td>\n",
              "      <td>30602.0</td>\n",
              "      <td>86177.0</td>\n",
              "      <td>88.771144</td>\n",
              "    </tr>\n",
              "    <tr>\n",
              "      <th>5</th>\n",
              "      <td>Italy</td>\n",
              "      <td>266853</td>\n",
              "      <td>35473.0</td>\n",
              "      <td>208224.0</td>\n",
              "      <td>86.706914</td>\n",
              "    </tr>\n",
              "    <tr>\n",
              "      <th>6</th>\n",
              "      <td>Germany</td>\n",
              "      <td>242825</td>\n",
              "      <td>9363.0</td>\n",
              "      <td>217484.0</td>\n",
              "      <td>96.144137</td>\n",
              "    </tr>\n",
              "    <tr>\n",
              "      <th>7</th>\n",
              "      <td>Ukraine</td>\n",
              "      <td>119074</td>\n",
              "      <td>2527.0</td>\n",
              "      <td>56734.0</td>\n",
              "      <td>97.877790</td>\n",
              "    </tr>\n",
              "  </tbody>\n",
              "</table>\n",
              "</div>\n",
              "    <div class=\"colab-df-buttons\">\n",
              "\n",
              "  <div class=\"colab-df-container\">\n",
              "    <button class=\"colab-df-convert\" onclick=\"convertToInteractive('df-affd1738-1fee-466d-9aa6-baa0efdee0e2')\"\n",
              "            title=\"Convert this dataframe to an interactive table.\"\n",
              "            style=\"display:none;\">\n",
              "\n",
              "  <svg xmlns=\"http://www.w3.org/2000/svg\" height=\"24px\" viewBox=\"0 -960 960 960\">\n",
              "    <path d=\"M120-120v-720h720v720H120Zm60-500h600v-160H180v160Zm220 220h160v-160H400v160Zm0 220h160v-160H400v160ZM180-400h160v-160H180v160Zm440 0h160v-160H620v160ZM180-180h160v-160H180v160Zm440 0h160v-160H620v160Z\"/>\n",
              "  </svg>\n",
              "    </button>\n",
              "\n",
              "  <style>\n",
              "    .colab-df-container {\n",
              "      display:flex;\n",
              "      gap: 12px;\n",
              "    }\n",
              "\n",
              "    .colab-df-convert {\n",
              "      background-color: #E8F0FE;\n",
              "      border: none;\n",
              "      border-radius: 50%;\n",
              "      cursor: pointer;\n",
              "      display: none;\n",
              "      fill: #1967D2;\n",
              "      height: 32px;\n",
              "      padding: 0 0 0 0;\n",
              "      width: 32px;\n",
              "    }\n",
              "\n",
              "    .colab-df-convert:hover {\n",
              "      background-color: #E2EBFA;\n",
              "      box-shadow: 0px 1px 2px rgba(60, 64, 67, 0.3), 0px 1px 3px 1px rgba(60, 64, 67, 0.15);\n",
              "      fill: #174EA6;\n",
              "    }\n",
              "\n",
              "    .colab-df-buttons div {\n",
              "      margin-bottom: 4px;\n",
              "    }\n",
              "\n",
              "    [theme=dark] .colab-df-convert {\n",
              "      background-color: #3B4455;\n",
              "      fill: #D2E3FC;\n",
              "    }\n",
              "\n",
              "    [theme=dark] .colab-df-convert:hover {\n",
              "      background-color: #434B5C;\n",
              "      box-shadow: 0px 1px 3px 1px rgba(0, 0, 0, 0.15);\n",
              "      filter: drop-shadow(0px 1px 2px rgba(0, 0, 0, 0.3));\n",
              "      fill: #FFFFFF;\n",
              "    }\n",
              "  </style>\n",
              "\n",
              "    <script>\n",
              "      const buttonEl =\n",
              "        document.querySelector('#df-affd1738-1fee-466d-9aa6-baa0efdee0e2 button.colab-df-convert');\n",
              "      buttonEl.style.display =\n",
              "        google.colab.kernel.accessAllowed ? 'block' : 'none';\n",
              "\n",
              "      async function convertToInteractive(key) {\n",
              "        const element = document.querySelector('#df-affd1738-1fee-466d-9aa6-baa0efdee0e2');\n",
              "        const dataTable =\n",
              "          await google.colab.kernel.invokeFunction('convertToInteractive',\n",
              "                                                    [key], {});\n",
              "        if (!dataTable) return;\n",
              "\n",
              "        const docLinkHtml = 'Like what you see? Visit the ' +\n",
              "          '<a target=\"_blank\" href=https://colab.research.google.com/notebooks/data_table.ipynb>data table notebook</a>'\n",
              "          + ' to learn more about interactive tables.';\n",
              "        element.innerHTML = '';\n",
              "        dataTable['output_type'] = 'display_data';\n",
              "        await google.colab.output.renderOutput(dataTable, element);\n",
              "        const docLink = document.createElement('div');\n",
              "        docLink.innerHTML = docLinkHtml;\n",
              "        element.appendChild(docLink);\n",
              "      }\n",
              "    </script>\n",
              "  </div>\n",
              "\n",
              "\n",
              "<div id=\"df-55e31c9e-2bee-4d7f-87d1-a95256e1e5ff\">\n",
              "  <button class=\"colab-df-quickchart\" onclick=\"quickchart('df-55e31c9e-2bee-4d7f-87d1-a95256e1e5ff')\"\n",
              "            title=\"Suggest charts\"\n",
              "            style=\"display:none;\">\n",
              "\n",
              "<svg xmlns=\"http://www.w3.org/2000/svg\" height=\"24px\"viewBox=\"0 0 24 24\"\n",
              "     width=\"24px\">\n",
              "    <g>\n",
              "        <path d=\"M19 3H5c-1.1 0-2 .9-2 2v14c0 1.1.9 2 2 2h14c1.1 0 2-.9 2-2V5c0-1.1-.9-2-2-2zM9 17H7v-7h2v7zm4 0h-2V7h2v10zm4 0h-2v-4h2v4z\"/>\n",
              "    </g>\n",
              "</svg>\n",
              "  </button>\n",
              "\n",
              "<style>\n",
              "  .colab-df-quickchart {\n",
              "      --bg-color: #E8F0FE;\n",
              "      --fill-color: #1967D2;\n",
              "      --hover-bg-color: #E2EBFA;\n",
              "      --hover-fill-color: #174EA6;\n",
              "      --disabled-fill-color: #AAA;\n",
              "      --disabled-bg-color: #DDD;\n",
              "  }\n",
              "\n",
              "  [theme=dark] .colab-df-quickchart {\n",
              "      --bg-color: #3B4455;\n",
              "      --fill-color: #D2E3FC;\n",
              "      --hover-bg-color: #434B5C;\n",
              "      --hover-fill-color: #FFFFFF;\n",
              "      --disabled-bg-color: #3B4455;\n",
              "      --disabled-fill-color: #666;\n",
              "  }\n",
              "\n",
              "  .colab-df-quickchart {\n",
              "    background-color: var(--bg-color);\n",
              "    border: none;\n",
              "    border-radius: 50%;\n",
              "    cursor: pointer;\n",
              "    display: none;\n",
              "    fill: var(--fill-color);\n",
              "    height: 32px;\n",
              "    padding: 0;\n",
              "    width: 32px;\n",
              "  }\n",
              "\n",
              "  .colab-df-quickchart:hover {\n",
              "    background-color: var(--hover-bg-color);\n",
              "    box-shadow: 0 1px 2px rgba(60, 64, 67, 0.3), 0 1px 3px 1px rgba(60, 64, 67, 0.15);\n",
              "    fill: var(--button-hover-fill-color);\n",
              "  }\n",
              "\n",
              "  .colab-df-quickchart-complete:disabled,\n",
              "  .colab-df-quickchart-complete:disabled:hover {\n",
              "    background-color: var(--disabled-bg-color);\n",
              "    fill: var(--disabled-fill-color);\n",
              "    box-shadow: none;\n",
              "  }\n",
              "\n",
              "  .colab-df-spinner {\n",
              "    border: 2px solid var(--fill-color);\n",
              "    border-color: transparent;\n",
              "    border-bottom-color: var(--fill-color);\n",
              "    animation:\n",
              "      spin 1s steps(1) infinite;\n",
              "  }\n",
              "\n",
              "  @keyframes spin {\n",
              "    0% {\n",
              "      border-color: transparent;\n",
              "      border-bottom-color: var(--fill-color);\n",
              "      border-left-color: var(--fill-color);\n",
              "    }\n",
              "    20% {\n",
              "      border-color: transparent;\n",
              "      border-left-color: var(--fill-color);\n",
              "      border-top-color: var(--fill-color);\n",
              "    }\n",
              "    30% {\n",
              "      border-color: transparent;\n",
              "      border-left-color: var(--fill-color);\n",
              "      border-top-color: var(--fill-color);\n",
              "      border-right-color: var(--fill-color);\n",
              "    }\n",
              "    40% {\n",
              "      border-color: transparent;\n",
              "      border-right-color: var(--fill-color);\n",
              "      border-top-color: var(--fill-color);\n",
              "    }\n",
              "    60% {\n",
              "      border-color: transparent;\n",
              "      border-right-color: var(--fill-color);\n",
              "    }\n",
              "    80% {\n",
              "      border-color: transparent;\n",
              "      border-right-color: var(--fill-color);\n",
              "      border-bottom-color: var(--fill-color);\n",
              "    }\n",
              "    90% {\n",
              "      border-color: transparent;\n",
              "      border-bottom-color: var(--fill-color);\n",
              "    }\n",
              "  }\n",
              "</style>\n",
              "\n",
              "  <script>\n",
              "    async function quickchart(key) {\n",
              "      const quickchartButtonEl =\n",
              "        document.querySelector('#' + key + ' button');\n",
              "      quickchartButtonEl.disabled = true;  // To prevent multiple clicks.\n",
              "      quickchartButtonEl.classList.add('colab-df-spinner');\n",
              "      try {\n",
              "        const charts = await google.colab.kernel.invokeFunction(\n",
              "            'suggestCharts', [key], {});\n",
              "      } catch (error) {\n",
              "        console.error('Error during call to suggestCharts:', error);\n",
              "      }\n",
              "      quickchartButtonEl.classList.remove('colab-df-spinner');\n",
              "      quickchartButtonEl.classList.add('colab-df-quickchart-complete');\n",
              "    }\n",
              "    (() => {\n",
              "      let quickchartButtonEl =\n",
              "        document.querySelector('#df-55e31c9e-2bee-4d7f-87d1-a95256e1e5ff button');\n",
              "      quickchartButtonEl.style.display =\n",
              "        google.colab.kernel.accessAllowed ? 'block' : 'none';\n",
              "    })();\n",
              "  </script>\n",
              "</div>\n",
              "    </div>\n",
              "  </div>\n"
            ],
            "application/vnd.google.colaboratory.intrinsic+json": {
              "type": "dataframe",
              "summary": "{\n  \"name\": \"df_filtrado[['Country','Total Cases','Total Deaths', 'Total Recovered','prob_surv']]\",\n  \"rows\": 5,\n  \"fields\": [\n    {\n      \"column\": \"Country\",\n      \"properties\": {\n        \"dtype\": \"string\",\n        \"num_unique_values\": 5,\n        \"samples\": [\n          \"France\",\n          \"Ukraine\",\n          \"Italy\"\n        ],\n        \"semantic_type\": \"\",\n        \"description\": \"\"\n      }\n    },\n    {\n      \"column\": \"Total Cases\",\n      \"properties\": {\n        \"dtype\": \"number\",\n        \"std\": 120394,\n        \"min\": 119074,\n        \"max\": 455621,\n        \"num_unique_values\": 5,\n        \"samples\": [\n          272530,\n          119074,\n          266853\n        ],\n        \"semantic_type\": \"\",\n        \"description\": \"\"\n      }\n    },\n    {\n      \"column\": \"Total Deaths\",\n      \"properties\": {\n        \"dtype\": \"number\",\n        \"std\": 14506.316182959752,\n        \"min\": 2527.0,\n        \"max\": 35473.0,\n        \"num_unique_values\": 5,\n        \"samples\": [\n          30602.0,\n          2527.0,\n          35473.0\n        ],\n        \"semantic_type\": \"\",\n        \"description\": \"\"\n      }\n    },\n    {\n      \"column\": \"Total Recovered\",\n      \"properties\": {\n        \"dtype\": \"number\",\n        \"std\": 82603.17735363856,\n        \"min\": 56734.0,\n        \"max\": 217484.0,\n        \"num_unique_values\": 4,\n        \"samples\": [\n          208224.0,\n          56734.0,\n          86177.0\n        ],\n        \"semantic_type\": \"\",\n        \"description\": \"\"\n      }\n    },\n    {\n      \"column\": \"prob_surv\",\n      \"properties\": {\n        \"dtype\": \"number\",\n        \"std\": 4.766220161786752,\n        \"min\": 86.70691354416103,\n        \"max\": 97.87779028167358,\n        \"num_unique_values\": 5,\n        \"samples\": [\n          88.77114446116023,\n          97.87779028167358,\n          86.70691354416103\n        ],\n        \"semantic_type\": \"\",\n        \"description\": \"\"\n      }\n    }\n  ]\n}"
            }
          },
          "metadata": {},
          "execution_count": 92
        }
      ]
    },
    {
      "cell_type": "markdown",
      "source": [
        "# **LITERAL 2**"
      ],
      "metadata": {
        "id": "TJxmwiTfLmRf"
      }
    },
    {
      "cell_type": "code",
      "source": [
        "# Obtener el número total de fallecidos\n",
        "total_fallecidos = df_filtrado['Total Deaths'].sum()\n",
        "\n",
        "# Obtener el número de fallecidos en España\n",
        "fallecidos_espana = df_filtrado[df_filtrado['Country'] == 'Spain']['Total Deaths'].iloc[0]\n",
        "\n",
        "# Calcular las probabilidades\n",
        "probabilidad_espana_fallecido = fallecidos_espana / total_fallecidos\n",
        "probabilidad_resto_paises_fallecido = (total_fallecidos - fallecidos_espana) / total_fallecidos\n",
        "\n",
        "# Mostrar los resultados\n",
        "print(\"Probabilidad de que una persona fallecida sea de España:\", probabilidad_espana_fallecido)\n",
        "print(\"Probabilidad de que una persona fallecida sea de otro país:\", probabilidad_resto_paises_fallecido)\n"
      ],
      "metadata": {
        "colab": {
          "base_uri": "https://localhost:8080/"
        },
        "id": "fQb3gh9JB8yV",
        "outputId": "ceb68976-102c-4957-b25b-0a33b709551d"
      },
      "execution_count": 73,
      "outputs": [
        {
          "output_type": "stream",
          "name": "stdout",
          "text": [
            "Probabilidad de que una persona fallecida sea de España: 0.27119166915943765\n",
            "Probabilidad de que una persona fallecida sea de otro país: 0.7288083308405624\n"
          ]
        }
      ]
    },
    {
      "cell_type": "markdown",
      "source": [
        "# **LITERAL 3**"
      ],
      "metadata": {
        "id": "zkzH7yLILpIm"
      }
    },
    {
      "cell_type": "code",
      "source": [
        "from sklearn.model_selection import train_test_split\n",
        "from sklearn.tree import DecisionTreeRegressor\n",
        "from sklearn.metrics import mean_squared_error\n",
        "from sklearn.metrics import accuracy_score\n",
        "\n",
        "df_cleaned = df.dropna()\n",
        "# Selecciona las características relevantes para tu modelo\n",
        "features = ['Total Cases','Population']\n",
        "X = df_cleaned[features]\n",
        "y = df_cleaned['Total Deaths']\n",
        "\n",
        "# División de datos\n",
        "X_train, X_test, y_train, y_test = train_test_split(X, y, test_size=0.2, random_state=42)\n",
        "\n",
        "# Entrenamiento del modelo\n",
        "model = DecisionTreeRegressor(random_state=42)\n",
        "model.fit(X_train, y_train)\n",
        "\n",
        "# Evaluación del modelo\n",
        "y_pred = model.predict(X_test)\n",
        "mse = mean_squared_error(y_test, y_pred)\n",
        "print(\"Error cuadrático medio:\", mse)\n",
        "accuracy = accuracy_score(y_test, y_pred)\n",
        "print(\"Accuracy:\", accuracy)"
      ],
      "metadata": {
        "colab": {
          "base_uri": "https://localhost:8080/"
        },
        "id": "h_mYR5FGDIfl",
        "outputId": "22db1b57-749a-43c7-ef03-551bfddb0105"
      },
      "execution_count": 91,
      "outputs": [
        {
          "output_type": "stream",
          "name": "stdout",
          "text": [
            "Error cuadrático medio: 91879913.0\n",
            "Accuracy: 0.0\n"
          ]
        }
      ]
    }
  ]
}