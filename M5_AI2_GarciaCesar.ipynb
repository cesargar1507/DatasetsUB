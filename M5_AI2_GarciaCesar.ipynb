{
  "nbformat": 4,
  "nbformat_minor": 0,
  "metadata": {
    "colab": {
      "provenance": []
    },
    "kernelspec": {
      "name": "ir",
      "display_name": "R"
    },
    "language_info": {
      "name": "R"
    }
  },
  "cells": [
    {
      "cell_type": "markdown",
      "source": [
        "**Alumno:** César Emilio García Ávalos\n",
        "\n",
        "**Actividad:** M5_AI1_Modelo lineal Gaussiano"
      ],
      "metadata": {
        "id": "WAVuT--BYKiJ"
      }
    },
    {
      "cell_type": "code",
      "execution_count": 20,
      "metadata": {
        "colab": {
          "base_uri": "https://localhost:8080/"
        },
        "id": "NXvNrUprHSkt",
        "outputId": "8fac615a-4018-4de9-8867-d124a6aa9c50"
      },
      "outputs": [
        {
          "output_type": "stream",
          "name": "stderr",
          "text": [
            "Installing package into ‘/usr/local/lib/R/site-library’\n",
            "(as ‘lib’ is unspecified)\n",
            "\n",
            "Installing package into ‘/usr/local/lib/R/site-library’\n",
            "(as ‘lib’ is unspecified)\n",
            "\n",
            "also installing the dependencies ‘iterators’, ‘foreach’, ‘shape’, ‘Rcpp’, ‘RcppEigen’\n",
            "\n",
            "\n",
            "Loading required package: Matrix\n",
            "\n",
            "\n",
            "Attaching package: ‘Matrix’\n",
            "\n",
            "\n",
            "The following objects are masked from ‘package:tidyr’:\n",
            "\n",
            "    expand, pack, unpack\n",
            "\n",
            "\n",
            "Loaded glmnet 4.1-8\n",
            "\n",
            "Installing package into ‘/usr/local/lib/R/site-library’\n",
            "(as ‘lib’ is unspecified)\n",
            "\n",
            "also installing the dependency ‘plyr’\n",
            "\n",
            "\n",
            "Type 'citation(\"pROC\")' for a citation.\n",
            "\n",
            "\n",
            "Attaching package: ‘pROC’\n",
            "\n",
            "\n",
            "The following objects are masked from ‘package:stats’:\n",
            "\n",
            "    cov, smooth, var\n",
            "\n",
            "\n",
            "Installing package into ‘/usr/local/lib/R/site-library’\n",
            "(as ‘lib’ is unspecified)\n",
            "\n",
            "also installing the dependencies ‘listenv’, ‘parallelly’, ‘future’, ‘globals’, ‘future.apply’, ‘numDeriv’, ‘progressr’, ‘SQUAREM’, ‘diagram’, ‘lava’, ‘prodlim’, ‘proxy’, ‘clock’, ‘gower’, ‘hardhat’, ‘ipred’, ‘timeDate’, ‘e1071’, ‘ModelMetrics’, ‘recipes’, ‘reshape2’\n",
            "\n",
            "\n",
            "Loading required package: lattice\n",
            "\n"
          ]
        }
      ],
      "source": [
        "library(readr)\n",
        "library(tidyr)\n",
        "library(dplyr)\n",
        "library(ggplot2)\n",
        "install.packages(\"earth\")\n",
        "library(earth)\n",
        "install.packages(\"glmnet\")\n",
        "library(glmnet)\n",
        "install.packages(\"pROC\")\n",
        "library(pROC)\n",
        "install.packages(\"caret\")\n",
        "library(caret)"
      ]
    },
    {
      "cell_type": "code",
      "source": [
        "german_credit <- read.table(\"http://archive.ics.uci.edu/ml/machine-learning-databases/statlog/german/german.data\")\n",
        "colnames(german_credit) <- c(\"chk_acct\",\"duration\",\"credit_his\",\"purpose\",\"amount\",\"saving_acct\",\"present_emp\",\"installment_rate\",\"sex\",\"other_debtor\",\"present_resid\",\"property\",\"age\",\"other_install\",\"housing\",\"n_credits\",\"job\",\"n_people\",\"telephone\",\"foreing\",\"response\")\n",
        "german_credit$response <- german_credit$response - 1\n",
        "german_credit$response <- as.factor(german_credit$response)\n",
        "german_credit$response <- relevel(german_credit$response, ref = \"0\") #Se define que la referencia para el modelo sea la categoria 0 (tener un crédito bueno)"
      ],
      "metadata": {
        "id": "1_ijXcaWID06"
      },
      "execution_count": 21,
      "outputs": []
    },
    {
      "cell_type": "code",
      "source": [
        "summary(german_credit)"
      ],
      "metadata": {
        "colab": {
          "base_uri": "https://localhost:8080/",
          "height": 746
        },
        "id": "eY8kXj76wwqv",
        "outputId": "5aa1d0ff-ffc5-41fb-c68e-81ce6a0c77a2"
      },
      "execution_count": 22,
      "outputs": [
        {
          "output_type": "display_data",
          "data": {
            "text/plain": [
              "   chk_acct            duration     credit_his          purpose         \n",
              " Length:1000        Min.   : 4.0   Length:1000        Length:1000       \n",
              " Class :character   1st Qu.:12.0   Class :character   Class :character  \n",
              " Mode  :character   Median :18.0   Mode  :character   Mode  :character  \n",
              "                    Mean   :20.9                                        \n",
              "                    3rd Qu.:24.0                                        \n",
              "                    Max.   :72.0                                        \n",
              "     amount      saving_acct        present_emp        installment_rate\n",
              " Min.   :  250   Length:1000        Length:1000        Min.   :1.000   \n",
              " 1st Qu.: 1366   Class :character   Class :character   1st Qu.:2.000   \n",
              " Median : 2320   Mode  :character   Mode  :character   Median :3.000   \n",
              " Mean   : 3271                                         Mean   :2.973   \n",
              " 3rd Qu.: 3972                                         3rd Qu.:4.000   \n",
              " Max.   :18424                                         Max.   :4.000   \n",
              "     sex            other_debtor       present_resid     property        \n",
              " Length:1000        Length:1000        Min.   :1.000   Length:1000       \n",
              " Class :character   Class :character   1st Qu.:2.000   Class :character  \n",
              " Mode  :character   Mode  :character   Median :3.000   Mode  :character  \n",
              "                                       Mean   :2.845                     \n",
              "                                       3rd Qu.:4.000                     \n",
              "                                       Max.   :4.000                     \n",
              "      age        other_install        housing            n_credits    \n",
              " Min.   :19.00   Length:1000        Length:1000        Min.   :1.000  \n",
              " 1st Qu.:27.00   Class :character   Class :character   1st Qu.:1.000  \n",
              " Median :33.00   Mode  :character   Mode  :character   Median :1.000  \n",
              " Mean   :35.55                                         Mean   :1.407  \n",
              " 3rd Qu.:42.00                                         3rd Qu.:2.000  \n",
              " Max.   :75.00                                         Max.   :4.000  \n",
              "     job               n_people      telephone           foreing         \n",
              " Length:1000        Min.   :1.000   Length:1000        Length:1000       \n",
              " Class :character   1st Qu.:1.000   Class :character   Class :character  \n",
              " Mode  :character   Median :1.000   Mode  :character   Mode  :character  \n",
              "                    Mean   :1.155                                        \n",
              "                    3rd Qu.:1.000                                        \n",
              "                    Max.   :2.000                                        \n",
              " response\n",
              " 0:700   \n",
              " 1:300   \n",
              "         \n",
              "         \n",
              "         \n",
              "         "
            ]
          },
          "metadata": {}
        }
      ]
    },
    {
      "cell_type": "code",
      "source": [
        "# Ajustar el modelo logit\n",
        "modelo_completo <- glm(response ~ ., data = german_credit, family = binomial(link=\"logit\"))\n",
        "\n",
        "# Resumen del modelo\n",
        "summary(modelo_completo)"
      ],
      "metadata": {
        "colab": {
          "base_uri": "https://localhost:8080/",
          "height": 1000
        },
        "id": "MMx99mYoI91K",
        "outputId": "4345ed8b-e805-48d1-d929-fc71cff0de89"
      },
      "execution_count": 23,
      "outputs": [
        {
          "output_type": "display_data",
          "data": {
            "text/plain": [
              "\n",
              "Call:\n",
              "glm(formula = response ~ ., family = binomial(link = \"logit\"), \n",
              "    data = german_credit)\n",
              "\n",
              "Coefficients:\n",
              "                    Estimate Std. Error z value Pr(>|z|)    \n",
              "(Intercept)        4.005e-01  1.084e+00   0.369 0.711869    \n",
              "chk_acctA12       -3.749e-01  2.179e-01  -1.720 0.085400 .  \n",
              "chk_acctA13       -9.657e-01  3.692e-01  -2.616 0.008905 ** \n",
              "chk_acctA14       -1.712e+00  2.322e-01  -7.373 1.66e-13 ***\n",
              "duration           2.786e-02  9.296e-03   2.997 0.002724 ** \n",
              "credit_hisA31      1.434e-01  5.489e-01   0.261 0.793921    \n",
              "credit_hisA32     -5.861e-01  4.305e-01  -1.362 0.173348    \n",
              "credit_hisA33     -8.532e-01  4.717e-01  -1.809 0.070470 .  \n",
              "credit_hisA34     -1.436e+00  4.399e-01  -3.264 0.001099 ** \n",
              "purposeA41        -1.666e+00  3.743e-01  -4.452 8.51e-06 ***\n",
              "purposeA410       -1.489e+00  7.764e-01  -1.918 0.055163 .  \n",
              "purposeA42        -7.916e-01  2.610e-01  -3.033 0.002421 ** \n",
              "purposeA43        -8.916e-01  2.471e-01  -3.609 0.000308 ***\n",
              "purposeA44        -5.228e-01  7.623e-01  -0.686 0.492831    \n",
              "purposeA45        -2.164e-01  5.500e-01  -0.393 0.694000    \n",
              "purposeA46         3.628e-02  3.965e-01   0.092 0.927082    \n",
              "purposeA48        -2.059e+00  1.212e+00  -1.699 0.089297 .  \n",
              "purposeA49        -7.401e-01  3.339e-01  -2.216 0.026668 *  \n",
              "amount             1.283e-04  4.444e-05   2.887 0.003894 ** \n",
              "saving_acctA62    -3.577e-01  2.861e-01  -1.250 0.211130    \n",
              "saving_acctA63    -3.761e-01  4.011e-01  -0.938 0.348476    \n",
              "saving_acctA64    -1.339e+00  5.249e-01  -2.551 0.010729 *  \n",
              "saving_acctA65    -9.467e-01  2.625e-01  -3.607 0.000310 ***\n",
              "present_empA72    -6.691e-02  4.270e-01  -0.157 0.875475    \n",
              "present_empA73    -1.828e-01  4.105e-01  -0.445 0.656049    \n",
              "present_empA74    -8.310e-01  4.455e-01  -1.866 0.062110 .  \n",
              "present_empA75    -2.766e-01  4.134e-01  -0.669 0.503410    \n",
              "installment_rate   3.301e-01  8.828e-02   3.739 0.000185 ***\n",
              "sexA92            -2.755e-01  3.865e-01  -0.713 0.476040    \n",
              "sexA93            -8.161e-01  3.799e-01  -2.148 0.031718 *  \n",
              "sexA94            -3.671e-01  4.537e-01  -0.809 0.418448    \n",
              "other_debtorA102   4.360e-01  4.101e-01   1.063 0.287700    \n",
              "other_debtorA103  -9.786e-01  4.243e-01  -2.307 0.021072 *  \n",
              "present_resid      4.776e-03  8.641e-02   0.055 0.955920    \n",
              "propertyA122       2.814e-01  2.534e-01   1.111 0.266630    \n",
              "propertyA123       1.945e-01  2.360e-01   0.824 0.409743    \n",
              "propertyA124       7.304e-01  4.245e-01   1.721 0.085308 .  \n",
              "age               -1.454e-02  9.222e-03  -1.576 0.114982    \n",
              "other_installA142 -1.232e-01  4.119e-01  -0.299 0.764878    \n",
              "other_installA143 -6.463e-01  2.391e-01  -2.703 0.006871 ** \n",
              "housingA152       -4.436e-01  2.347e-01  -1.890 0.058715 .  \n",
              "housingA153       -6.839e-01  4.770e-01  -1.434 0.151657    \n",
              "n_credits          2.721e-01  1.895e-01   1.436 0.151109    \n",
              "jobA172            5.361e-01  6.796e-01   0.789 0.430160    \n",
              "jobA173            5.547e-01  6.549e-01   0.847 0.397015    \n",
              "jobA174            4.795e-01  6.623e-01   0.724 0.469086    \n",
              "n_people           2.647e-01  2.492e-01   1.062 0.288249    \n",
              "telephoneA192     -3.000e-01  2.013e-01  -1.491 0.136060    \n",
              "foreingA202       -1.392e+00  6.258e-01  -2.225 0.026095 *  \n",
              "---\n",
              "Signif. codes:  0 ‘***’ 0.001 ‘**’ 0.01 ‘*’ 0.05 ‘.’ 0.1 ‘ ’ 1\n",
              "\n",
              "(Dispersion parameter for binomial family taken to be 1)\n",
              "\n",
              "    Null deviance: 1221.73  on 999  degrees of freedom\n",
              "Residual deviance:  895.82  on 951  degrees of freedom\n",
              "AIC: 993.82\n",
              "\n",
              "Number of Fisher Scoring iterations: 5\n"
            ]
          },
          "metadata": {}
        }
      ]
    },
    {
      "cell_type": "markdown",
      "source": [
        "La variable duration es estadisticamente significativa, su Pvalue = 0.002724 menor que el nivel de significancia de 0.05, se puede rechazar la hipótesis nula de que el coeficiente asociado con \"duration\" es cero, lo que sugiere que \"duration\" tiene un efecto significativo en la probabilidad de obtener un crédito malo."
      ],
      "metadata": {
        "id": "-zGLtjbBK7Yf"
      }
    },
    {
      "cell_type": "code",
      "source": [
        "# Ajustar el modelo logit\n",
        "modelo_reducido <- glm(response ~ . -amount, data = german_credit, family = binomial(link=\"logit\"))\n",
        "\n",
        "# Resumen del modelo\n",
        "summary(modelo_reducido)"
      ],
      "metadata": {
        "colab": {
          "base_uri": "https://localhost:8080/",
          "height": 1000
        },
        "id": "EUUIi3zeOv29",
        "outputId": "0bd354a9-77ea-47ae-8df4-0ae336d9270d"
      },
      "execution_count": 24,
      "outputs": [
        {
          "output_type": "display_data",
          "data": {
            "text/plain": [
              "\n",
              "Call:\n",
              "glm(formula = response ~ . - amount, family = binomial(link = \"logit\"), \n",
              "    data = german_credit)\n",
              "\n",
              "Coefficients:\n",
              "                   Estimate Std. Error z value Pr(>|z|)    \n",
              "(Intercept)        0.735577   1.084058   0.679 0.497429    \n",
              "chk_acctA12       -0.334793   0.215930  -1.550 0.121030    \n",
              "chk_acctA13       -1.010444   0.367713  -2.748 0.005998 ** \n",
              "chk_acctA14       -1.679050   0.230131  -7.296 2.96e-13 ***\n",
              "duration           0.043200   0.007700   5.610 2.02e-08 ***\n",
              "credit_hisA31      0.033121   0.543002   0.061 0.951362    \n",
              "credit_hisA32     -0.664639   0.425722  -1.561 0.118475    \n",
              "credit_hisA33     -0.929478   0.467501  -1.988 0.046792 *  \n",
              "credit_hisA34     -1.511875   0.435588  -3.471 0.000519 ***\n",
              "purposeA41        -1.510888   0.363500  -4.157 3.23e-05 ***\n",
              "purposeA410       -1.280260   0.719681  -1.779 0.075252 .  \n",
              "purposeA42        -0.791414   0.260204  -3.042 0.002354 ** \n",
              "purposeA43        -0.927151   0.246018  -3.769 0.000164 ***\n",
              "purposeA44        -0.598289   0.762031  -0.785 0.432381    \n",
              "purposeA45        -0.231046   0.553188  -0.418 0.676194    \n",
              "purposeA46         0.013150   0.392597   0.033 0.973281    \n",
              "purposeA48        -2.038610   1.200515  -1.698 0.089486 .  \n",
              "purposeA49        -0.761048   0.331502  -2.296 0.021690 *  \n",
              "saving_acctA62    -0.389630   0.285663  -1.364 0.172584    \n",
              "saving_acctA63    -0.420244   0.398863  -1.054 0.292063    \n",
              "saving_acctA64    -1.311038   0.517790  -2.532 0.011342 *  \n",
              "saving_acctA65    -0.897587   0.260475  -3.446 0.000569 ***\n",
              "present_empA72    -0.069255   0.424366  -0.163 0.870364    \n",
              "present_empA73    -0.179541   0.405985  -0.442 0.658318    \n",
              "present_empA74    -0.820499   0.442087  -1.856 0.063458 .  \n",
              "present_empA75    -0.300354   0.408312  -0.736 0.461974    \n",
              "installment_rate   0.222983   0.079244   2.814 0.004895 ** \n",
              "sexA92            -0.271900   0.382754  -0.710 0.477470    \n",
              "sexA93            -0.752239   0.375267  -2.005 0.045012 *  \n",
              "sexA94            -0.411578   0.450180  -0.914 0.360584    \n",
              "other_debtorA102   0.512717   0.405800   1.263 0.206420    \n",
              "other_debtorA103  -1.000046   0.423580  -2.361 0.018229 *  \n",
              "present_resid     -0.002927   0.085961  -0.034 0.972835    \n",
              "propertyA122       0.307907   0.251806   1.223 0.221408    \n",
              "propertyA123       0.232759   0.234427   0.993 0.320766    \n",
              "propertyA124       0.827707   0.417375   1.983 0.047353 *  \n",
              "age               -0.014147   0.009149  -1.546 0.122061    \n",
              "other_installA142 -0.123686   0.411643  -0.300 0.763819    \n",
              "other_installA143 -0.622631   0.237472  -2.622 0.008744 ** \n",
              "housingA152       -0.446099   0.233362  -1.912 0.055926 .  \n",
              "housingA153       -0.705536   0.471264  -1.497 0.134364    \n",
              "n_credits          0.287224   0.188962   1.520 0.128509    \n",
              "jobA172            0.578398   0.686712   0.842 0.399637    \n",
              "jobA173            0.581191   0.662886   0.877 0.380618    \n",
              "jobA174            0.667596   0.666836   1.001 0.316759    \n",
              "n_people           0.230638   0.248814   0.927 0.353954    \n",
              "telephoneA192     -0.210575   0.196510  -1.072 0.283911    \n",
              "foreingA202       -1.284315   0.607564  -2.114 0.034526 *  \n",
              "---\n",
              "Signif. codes:  0 ‘***’ 0.001 ‘**’ 0.01 ‘*’ 0.05 ‘.’ 0.1 ‘ ’ 1\n",
              "\n",
              "(Dispersion parameter for binomial family taken to be 1)\n",
              "\n",
              "    Null deviance: 1221.73  on 999  degrees of freedom\n",
              "Residual deviance:  904.28  on 952  degrees of freedom\n",
              "AIC: 1000.3\n",
              "\n",
              "Number of Fisher Scoring iterations: 5\n"
            ]
          },
          "metadata": {}
        }
      ]
    },
    {
      "cell_type": "code",
      "source": [
        "# Obtener los coeficientes Beta de ambos modelos\n",
        "coeficientes_completo <- coef(modelo_completo)\n",
        "coeficientes_reducido <- coef(modelo_reducido)\n",
        "\n",
        "# Crear un data frame con los coeficientes del modelo completo\n",
        "tabla_coeficientes <- data.frame(\n",
        "  Variable = names(coeficientes_completo)\n",
        ")\n",
        "\n",
        "# Calcular la diferencia en los coeficientes Beta entre los dos modelos\n",
        "diferencia_beta <- coeficientes_completo - coeficientes_reducido\n",
        "\n",
        "# Agregar la diferencia como una nueva columna en el dataframe\n",
        "tabla_coeficientes$Diferencia <- diferencia_beta\n",
        "\n",
        "# Imprimir la tabla\n",
        "print(tabla_coeficientes)"
      ],
      "metadata": {
        "colab": {
          "base_uri": "https://localhost:8080/"
        },
        "id": "eDK90syStm5M",
        "outputId": "48e0a435-9d76-42b8-c619-df6fabb231eb"
      },
      "execution_count": 25,
      "outputs": [
        {
          "output_type": "stream",
          "name": "stderr",
          "text": [
            "Warning message in coeficientes_completo - coeficientes_reducido:\n",
            "“longer object length is not a multiple of shorter object length”\n"
          ]
        },
        {
          "output_type": "stream",
          "name": "stdout",
          "text": [
            "            Variable    Diferencia\n",
            "1        (Intercept) -0.3350741049\n",
            "2        chk_acctA12 -0.0400605671\n",
            "3        chk_acctA13  0.0447667615\n",
            "4        chk_acctA14 -0.0328377117\n",
            "5           duration -0.0153362752\n",
            "6      credit_hisA31  0.1102566865\n",
            "7      credit_hisA32  0.0785253501\n",
            "8      credit_hisA33  0.0763165831\n",
            "9      credit_hisA34  0.0761038860\n",
            "10        purposeA41 -0.1555788483\n",
            "11       purposeA410 -0.2085257702\n",
            "12        purposeA42 -0.0001967473\n",
            "13        purposeA43  0.0355677019\n",
            "14        purposeA44  0.0755066339\n",
            "15        purposeA45  0.0146498256\n",
            "16        purposeA46  0.0231343195\n",
            "17        purposeA48 -0.0208225248\n",
            "18        purposeA49  0.0209607631\n",
            "19            amount  0.3897579073\n",
            "20    saving_acctA62  0.0625037110\n",
            "21    saving_acctA63  0.9349652752\n",
            "22    saving_acctA64 -0.4416115521\n",
            "23    saving_acctA65 -0.8774343431\n",
            "24    present_empA72  0.1126308995\n",
            "25    present_empA73  0.6376676411\n",
            "26    present_empA74 -0.5306473261\n",
            "27    present_empA75 -0.4996079429\n",
            "28  installment_rate  0.6019898253\n",
            "29            sexA92  0.4767840195\n",
            "30            sexA93 -0.4044997093\n",
            "31            sexA94 -0.8797889716\n",
            "32  other_debtorA102  1.4360938620\n",
            "33  other_debtorA103 -0.9756887898\n",
            "34     present_resid -0.3031305011\n",
            "35      propertyA122  0.0486792962\n",
            "36      propertyA123 -0.6331727890\n",
            "37      propertyA124  0.7445942524\n",
            "38               age  0.1091507597\n",
            "39 other_installA142  0.4994306683\n",
            "40 other_installA143 -0.2002294466\n",
            "41       housingA152  0.2619149430\n",
            "42       housingA153 -0.9710839525\n",
            "43         n_credits -0.3063217605\n",
            "44           jobA172 -0.0450603206\n",
            "45           jobA173 -0.1128787319\n",
            "46           jobA174  0.2488371998\n",
            "47          n_people  0.4752467117\n",
            "48     telephoneA192  0.9843071061\n",
            "49       foreingA202 -2.1277927498\n"
          ]
        }
      ]
    },
    {
      "cell_type": "code",
      "source": [
        "# Convertir las variables numéricas de caracteres a numéricas\n",
        "numeric_variables <- german_credit[, c(\"duration\", \"amount\", \"installment_rate\", \"age\", \"n_credits\", \"n_people\")]\n",
        "\n",
        "# Convertir a tipo numérico\n",
        "numeric_variables <- apply(numeric_variables, 2, as.numeric)\n",
        "\n",
        "# Calcular correlaciones\n",
        "correlations <- cor(numeric_variables)\n",
        "\n",
        "# Imprimir correlaciones\n",
        "correlations"
      ],
      "metadata": {
        "colab": {
          "base_uri": "https://localhost:8080/",
          "height": 255
        },
        "id": "LzjeS1tzxCtN",
        "outputId": "8a91a13a-9570-49b0-e0b9-1982efbc203a"
      },
      "execution_count": 26,
      "outputs": [
        {
          "output_type": "display_data",
          "data": {
            "text/html": [
              "<table class=\"dataframe\">\n",
              "<caption>A matrix: 6 × 6 of type dbl</caption>\n",
              "<thead>\n",
              "\t<tr><th></th><th scope=col>duration</th><th scope=col>amount</th><th scope=col>installment_rate</th><th scope=col>age</th><th scope=col>n_credits</th><th scope=col>n_people</th></tr>\n",
              "</thead>\n",
              "<tbody>\n",
              "\t<tr><th scope=row>duration</th><td> 1.00000000</td><td> 0.62498420</td><td> 0.07474882</td><td>-0.03613637</td><td>-0.01128360</td><td>-0.02383448</td></tr>\n",
              "\t<tr><th scope=row>amount</th><td> 0.62498420</td><td> 1.00000000</td><td>-0.27131570</td><td> 0.03271642</td><td> 0.02079455</td><td> 0.01714215</td></tr>\n",
              "\t<tr><th scope=row>installment_rate</th><td> 0.07474882</td><td>-0.27131570</td><td> 1.00000000</td><td> 0.05826568</td><td> 0.02166874</td><td>-0.07120694</td></tr>\n",
              "\t<tr><th scope=row>age</th><td>-0.03613637</td><td> 0.03271642</td><td> 0.05826568</td><td> 1.00000000</td><td> 0.14925358</td><td> 0.11820083</td></tr>\n",
              "\t<tr><th scope=row>n_credits</th><td>-0.01128360</td><td> 0.02079455</td><td> 0.02166874</td><td> 0.14925358</td><td> 1.00000000</td><td> 0.10966670</td></tr>\n",
              "\t<tr><th scope=row>n_people</th><td>-0.02383448</td><td> 0.01714215</td><td>-0.07120694</td><td> 0.11820083</td><td> 0.10966670</td><td> 1.00000000</td></tr>\n",
              "</tbody>\n",
              "</table>\n"
            ],
            "text/markdown": "\nA matrix: 6 × 6 of type dbl\n\n| <!--/--> | duration | amount | installment_rate | age | n_credits | n_people |\n|---|---|---|---|---|---|---|\n| duration |  1.00000000 |  0.62498420 |  0.07474882 | -0.03613637 | -0.01128360 | -0.02383448 |\n| amount |  0.62498420 |  1.00000000 | -0.27131570 |  0.03271642 |  0.02079455 |  0.01714215 |\n| installment_rate |  0.07474882 | -0.27131570 |  1.00000000 |  0.05826568 |  0.02166874 | -0.07120694 |\n| age | -0.03613637 |  0.03271642 |  0.05826568 |  1.00000000 |  0.14925358 |  0.11820083 |\n| n_credits | -0.01128360 |  0.02079455 |  0.02166874 |  0.14925358 |  1.00000000 |  0.10966670 |\n| n_people | -0.02383448 |  0.01714215 | -0.07120694 |  0.11820083 |  0.10966670 |  1.00000000 |\n\n",
            "text/latex": "A matrix: 6 × 6 of type dbl\n\\begin{tabular}{r|llllll}\n  & duration & amount & installment\\_rate & age & n\\_credits & n\\_people\\\\\n\\hline\n\tduration &  1.00000000 &  0.62498420 &  0.07474882 & -0.03613637 & -0.01128360 & -0.02383448\\\\\n\tamount &  0.62498420 &  1.00000000 & -0.27131570 &  0.03271642 &  0.02079455 &  0.01714215\\\\\n\tinstallment\\_rate &  0.07474882 & -0.27131570 &  1.00000000 &  0.05826568 &  0.02166874 & -0.07120694\\\\\n\tage & -0.03613637 &  0.03271642 &  0.05826568 &  1.00000000 &  0.14925358 &  0.11820083\\\\\n\tn\\_credits & -0.01128360 &  0.02079455 &  0.02166874 &  0.14925358 &  1.00000000 &  0.10966670\\\\\n\tn\\_people & -0.02383448 &  0.01714215 & -0.07120694 &  0.11820083 &  0.10966670 &  1.00000000\\\\\n\\end{tabular}\n",
            "text/plain": [
              "                 duration    amount      installment_rate age        \n",
              "duration          1.00000000  0.62498420  0.07474882      -0.03613637\n",
              "amount            0.62498420  1.00000000 -0.27131570       0.03271642\n",
              "installment_rate  0.07474882 -0.27131570  1.00000000       0.05826568\n",
              "age              -0.03613637  0.03271642  0.05826568       1.00000000\n",
              "n_credits        -0.01128360  0.02079455  0.02166874       0.14925358\n",
              "n_people         -0.02383448  0.01714215 -0.07120694       0.11820083\n",
              "                 n_credits   n_people   \n",
              "duration         -0.01128360 -0.02383448\n",
              "amount            0.02079455  0.01714215\n",
              "installment_rate  0.02166874 -0.07120694\n",
              "age               0.14925358  0.11820083\n",
              "n_credits         1.00000000  0.10966670\n",
              "n_people          0.10966670  1.00000000"
            ]
          },
          "metadata": {}
        }
      ]
    },
    {
      "cell_type": "markdown",
      "source": [
        "Al eliminar la variable amount del modelo, la varianza residual se ve incrementada de 895.82 a 904.28, al ser la variable amount estadísticamente significativa (Pvalue=0.003894 menor que el nivel de significancia de 0.05) y tener una correlación positiva con la variable \"duration\" además de una correlación negativa con la variable \"installment_rate\" genera sesgo el hecho de eliminarla del modelo, ademas se identifica una diferencia en los coeficientes para el modelo completo y el modelo reducido"
      ],
      "metadata": {
        "id": "5AZA_jxWTDU9"
      }
    },
    {
      "cell_type": "code",
      "source": [
        "# Ajustar el modelo MARS para capturar no linealidades en 'duration' y 'amount'\n",
        "mars_model <- earth(response ~ duration + amount, data = german_credit, glm=list(family=binomial))\n",
        "\n",
        "# Resumen del modelo\n",
        "summary(mars_model)\n",
        "\n",
        "# Interpretar los resultados\n",
        "plotmo(mars_model)"
      ],
      "metadata": {
        "colab": {
          "base_uri": "https://localhost:8080/",
          "height": 871
        },
        "id": "TSmbhbeLgDyj",
        "outputId": "25613c99-684c-4807-e2ca-cd016b6394fd"
      },
      "execution_count": 27,
      "outputs": [
        {
          "output_type": "display_data",
          "data": {
            "text/plain": [
              "Call: earth(formula=response~duration+amount, data=german_credit,\n",
              "            glm=list(family=binomial))\n",
              "\n",
              "GLM coefficients\n",
              "                         1\n",
              "(Intercept)    -1.44407777\n",
              "h(12-duration) -0.19066522\n",
              "h(duration-12)  0.03219546\n",
              "h(2892-amount)  0.00036491\n",
              "h(amount-3386) -0.00571330\n",
              "h(amount-3676)  0.01190188\n",
              "h(amount-4280) -0.02688005\n",
              "h(amount-4380)  0.02081076\n",
              "\n",
              "GLM (family binomial, link logit):\n",
              " nulldev  df       dev  df   devratio     AIC iters converged\n",
              " 1221.73 999    1136.1 992     0.0701    1152     4         1\n",
              "\n",
              "Earth selected 8 of 13 terms, and 2 of 2 predictors\n",
              "Termination condition: Reached nk 21\n",
              "Importance: duration, amount\n",
              "Number of terms at each degree of interaction: 1 7 (additive model)\n",
              "Earth GCV 0.1986522    RSS 192.7373    GRSq 0.05592827    RSq 0.08220333"
            ]
          },
          "metadata": {}
        },
        {
          "output_type": "stream",
          "name": "stdout",
          "text": [
            " plotmo grid:    duration amount\n",
            "                       18   2320\n"
          ]
        },
        {
          "output_type": "display_data",
          "data": {
            "text/plain": [
              "Plot with title “2  amount”"
            ],
            "image/png": "[encoded data removed]"
          },
          "metadata": {
            "image/png": {
              "width": 420,
              "height": 420
            }
          }
        }
      ]
    },
    {
      "cell_type": "markdown",
      "source": [
        "El modelo MARS ha identificado varias no linealidades en las relaciones entre duration, amount y la probabilidad de tener un crédito malo. Esto sugiere que estas relaciones no son puramente lineales y que hay cambios en la pendiente en puntos específicos (bisagras) de las variables. Duración tiene una bisagra en 12 mientras que la variable amount tiene cinco bisagras en 2892, 3386, 3676, 4280 y 4380\n",
        "\n",
        "*h(12-duration) (-0.19066522): Este término indica que hay un cambio en la relación cuando duration es menor que 12. La función hinge h crea una \"bisagra\" en 12, y el coeficiente negativo sugiere que a medida que duration disminuye por debajo de 12, la probabilidad de tener un crédito malo disminuye.\n",
        "\n",
        "*h(duration-12) (0.03219546): Este término indica que hay un cambio en la relación cuando duration es mayor que 12. La función hinge h crea una \"bisagra\" en 12, y el coeficiente positivo sugiere que a medida que duration aumenta por encima de 12, la probabilidad de tener un crédito malo aumenta.\n",
        "\n",
        "*h(2892-amount) (0.00036491): Este término indica que hay un cambio en la relación cuando amount es menor que 2892. La función hinge h crea una \"bisagra\" en 2892, y el coeficiente positivo sugiere que a medida que amount disminuye por debajo de 2892, la probabilidad de tener un crédito malo aumenta.\n",
        "\n",
        "*h(amount-3386) (-0.00571330): Este término indica que hay un cambio en la relación cuando amount es mayor que 3386. La función hinge h crea una \"bisagra\" en 3386, y el coeficiente negativo sugiere que a medida que amount aumenta por encima de 3386, la probabilidad de tener un crédito malo disminuye.\n",
        "\n",
        "*h(amount-3676) (0.01190188): Este término indica que hay un cambio en la relación cuando amount es mayor que 3676. La función hinge h crea una \"bisagra\" en 3676, y el coeficiente positivo sugiere que a medida que amount aumenta por encima de 3676, la probabilidad de tener un crédito malo aumenta.\n",
        "\n",
        "*h(amount-4280) (-0.02688005): Este término indica que hay un cambio en la relación cuando amount es mayor que 4280. La función hinge h crea una \"bisagra\" en 4280, y el coeficiente negativo sugiere que a medida que amount aumenta por encima de 4280, la probabilidad de tener un crédito malo disminuye.\n",
        "\n",
        "*h(amount-4380) (0.02081076): Este término indica que hay un cambio en la relación cuando amount es mayor que 4380. La función hinge h crea una \"bisagra\" en 4380, y el coeficiente positivo sugiere que a medida que amount aumenta por encima de 4380, la probabilidad de tener un crédito malo aumenta."
      ],
      "metadata": {
        "id": "__9bUKK2g5Gu"
      }
    },
    {
      "cell_type": "code",
      "source": [
        "# Ajustar el modelo logístico\n",
        "modelo_logistico <- glm(response ~ age, data = german_credit, family = binomial)\n",
        "\n",
        "# Crear un nuevo conjunto de datos con personas mayores de 50 años\n",
        "mayores_de_50 <- german_credit[german_credit$age > 50, ]\n",
        "\n",
        "# Predecir la probabilidad para personas mayores de 50 años\n",
        "probabilidad_predicha <- predict(modelo_logistico, newdata = mayores_de_50, type = \"response\")\n",
        "\n",
        "# Calcular la probabilidad estimada media\n",
        "probabilidad_media <- mean(probabilidad_predicha)\n",
        "\n",
        "# Imprimir la probabilidad estimada media\n",
        "print(probabilidad_media)"
      ],
      "metadata": {
        "colab": {
          "base_uri": "https://localhost:8080/"
        },
        "id": "FUHRQ8St9nel",
        "outputId": "9f56d342-270c-43ee-81a0-06c1be930539"
      },
      "execution_count": 28,
      "outputs": [
        {
          "output_type": "stream",
          "name": "stdout",
          "text": [
            "[1] 0.2161461\n"
          ]
        }
      ]
    },
    {
      "cell_type": "markdown",
      "source": [
        "Para evaluar si hay discriminación de género en el modelo completo, observemos los coeficientes estimados para las variables relacionadas con el género (\"sex\"):\n",
        "\n",
        "![image.png](data:image/png;base64,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)\n",
        "\n",
        "*A92 : female : divorced/separated/married: El coeficiente estimado es -0.2755, pero no es estadísticamente significativo (p = 0.476).\n",
        "\n",
        "*A93 : male   : single: El coeficiente estimado es -0.8161, y es estadísticamente significativo con p = 0.032.\n",
        "\n",
        "*A94 : male   : married/widowed: El coeficiente estimado es -0.3671, pero no es estadísticamente significativo (p = 0.418).\n",
        "\n",
        "El coeficiente estimado para la categoría \"sexA93\" es estadísticamente significativo con un valor p de 0.032, lo que sugiere que hay una asociación significativa en el hecho de ser hombre soltero y la probabilidad de tener un crédito bueno o malo (la probabilidad de tener un credito bueno disminuye en mayor medida comparado con las categorías A92 y A94), después de controlar otras variables en el modelo, se puede decir que los hombres solteros tienen menor probabilidad de tener un crédito bueno."
      ],
      "metadata": {
        "id": "W0_amNuBHXY5"
      }
    },
    {
      "cell_type": "code",
      "source": [
        "# Preparar los datos para el modelo\n",
        "x <- model.matrix(response ~ ., german_credit)[,-1]  # Eliminar el intercepto\n",
        "y <- german_credit$response"
      ],
      "metadata": {
        "id": "PngO3rATvSfV"
      },
      "execution_count": 29,
      "outputs": []
    },
    {
      "cell_type": "code",
      "source": [
        "# Ajustar el modelo Ridge con validación cruzada\n",
        "set.seed(123)  # Para reproducibilidad\n",
        "ridge_model <- cv.glmnet(x, y, family = \"binomial\", alpha = 0)\n",
        "\n",
        "# Obtener el mejor lambda\n",
        "best_lambda <- ridge_model$lambda.min\n",
        "best_lambda"
      ],
      "metadata": {
        "colab": {
          "base_uri": "https://localhost:8080/",
          "height": 34
        },
        "id": "OesG7KDkvXTj",
        "outputId": "076919ac-94d4-4463-f557-574cb8e0392a"
      },
      "execution_count": 30,
      "outputs": [
        {
          "output_type": "display_data",
          "data": {
            "text/html": [
              "0.0283387739774223"
            ],
            "text/markdown": "0.0283387739774223",
            "text/latex": "0.0283387739774223",
            "text/plain": [
              "[1] 0.02833877"
            ]
          },
          "metadata": {}
        }
      ]
    },
    {
      "cell_type": "code",
      "source": [
        "# Predicciones del modelo logit\n",
        "logit_predictions <- predict(modelo_completo, german_credit, type = \"response\")\n",
        "\n",
        "# Predicciones del modelo Ridge\n",
        "ridge_predictions <- predict(ridge_model, newx = x, s = best_lambda, type = \"response\")\n",
        "\n",
        "# Calcular las curvas ROC\n",
        "roc_logit <- roc(german_credit$response, logit_predictions)\n",
        "roc_ridge <- roc(german_credit$response, ridge_predictions)\n",
        "\n",
        "# Comparar las curvas ROC\n",
        "plot(roc_logit, col = \"blue\", main = \"Curvas ROC para Modelos Logit y Ridge\")\n",
        "plot(roc_ridge, col = \"red\", add = TRUE)\n",
        "legend(\"bottomright\", legend = c(\"Logit\", \"Ridge\"), col = c(\"blue\", \"red\"), lwd = 2)\n",
        "\n",
        "# AUC de los modelos\n",
        "auc_logit <- auc(roc_logit)\n",
        "auc_ridge <- auc(roc_ridge)\n",
        "auc_logit\n",
        "auc_ridge"
      ],
      "metadata": {
        "colab": {
          "base_uri": "https://localhost:8080/",
          "height": 645
        },
        "id": "r0ga2a5OvbpU",
        "outputId": "18dbcad9-15e6-428c-9680-bab2a85a6459"
      },
      "execution_count": 32,
      "outputs": [
        {
          "output_type": "stream",
          "name": "stderr",
          "text": [
            "Setting levels: control = 0, case = 1\n",
            "\n",
            "Setting direction: controls < cases\n",
            "\n",
            "Setting levels: control = 0, case = 1\n",
            "\n",
            "Warning message in roc.default(german_credit$response, ridge_predictions):\n",
            "“Deprecated use a matrix as predictor. Unexpected results may be produced, please pass a numeric vector.”\n",
            "Setting direction: controls < cases\n",
            "\n"
          ]
        },
        {
          "output_type": "display_data",
          "data": {
            "text/html": [
              "0.833780952380952"
            ],
            "text/markdown": "0.833780952380952",
            "text/latex": "0.833780952380952",
            "text/plain": [
              "Area under the curve: 0.8338"
            ]
          },
          "metadata": {}
        },
        {
          "output_type": "display_data",
          "data": {
            "text/html": [
              "0.830952380952381"
            ],
            "text/markdown": "0.830952380952381",
            "text/latex": "0.830952380952381",
            "text/plain": [
              "Area under the curve: 0.831"
            ]
          },
          "metadata": {}
        },
        {
          "output_type": "display_data",
          "data": {
            "text/plain": [
              "Plot with title “Curvas ROC para Modelos Logit y Ridge”"
            ],
            "image/png": "[encoded data removed]"
          },
          "metadata": {
            "image/png": {
              "width": 420,
              "height": 420
            }
          }
        }
      ]
    },
    {
      "cell_type": "markdown",
      "source": [
        "Ambos modelos tienen valores de AUC muy similares, lo que sugiere que ambos tienen un rendimiento comparativamente bueno en términos de discriminación entre créditos buenos y malos:\n",
        "Logit (AUC = 0.8338)\n",
        "Ridge (AUC = 0.8310)\n",
        "La diferencia en AUC es mínima (aproximadamente 0.003), lo que indica que ambos modelos tienen un rendimiento casi equivalente.\n",
        "Conclusión\n",
        "*El modelo logit: Tiene un AUC ligeramente mayor, lo que indica que, en este caso específico, podría tener una capacidad de discriminación marginalmente mejor que el modelo Ridge.\n",
        "*El modelo Ridge: Aunque tiene un AUC ligeramente menor, el Ridge puede ser preferible en situaciones donde se desea reducir el sobreajuste y mejorar la generalización, especialmente en presencia de multicolinealidad entre los predictores."
      ],
      "metadata": {
        "id": "2rhxyyDjGsmi"
      }
    }
  ]
}