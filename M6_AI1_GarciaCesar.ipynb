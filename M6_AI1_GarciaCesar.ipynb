{
  "nbformat": 4,
  "nbformat_minor": 0,
  "metadata": {
    "colab": {
      "provenance": [],
      "authorship_tag": "ABX9TyNnPe5KoH4OCUA+/4eP2KQb",
      "include_colab_link": true
    },
    "kernelspec": {
      "name": "python3",
      "display_name": "Python 3"
    },
    "language_info": {
      "name": "python"
    }
  },
  "cells": [
    {
      "cell_type": "markdown",
      "metadata": {
        "id": "view-in-github",
        "colab_type": "text"
      },
      "source": [
        "<a href=\"https://colab.research.google.com/github/cesargar1507/DatasetsUB/blob/main/M6_AI1_GarciaCesar.ipynb\" target=\"_parent\"><img src=\"https://colab.research.google.com/assets/colab-badge.svg\" alt=\"Open In Colab\"/></a>"
      ]
    },
    {
      "cell_type": "code",
      "execution_count": 2,
      "metadata": {
        "id": "p3OMCkWXNQN3"
      },
      "outputs": [],
      "source": [
        "import pandas as pd\n",
        "from sklearn.model_selection import train_test_split\n",
        "from sklearn.preprocessing import LabelEncoder\n",
        "from sklearn.tree import DecisionTreeRegressor\n",
        "from sklearn.model_selection import GridSearchCV\n",
        "from sklearn.metrics import mean_squared_error, r2_score\n",
        "import matplotlib.pyplot as plt\n",
        "from sklearn.model_selection import validation_curve"
      ]
    },
    {
      "cell_type": "code",
      "source": [
        "!pip install catboost\n",
        "!pip install category_encoders\n",
        "import category_encoders as ce\n",
        "from catboost import CatBoostRegressor, Pool"
      ],
      "metadata": {
        "colab": {
          "base_uri": "https://localhost:8080/"
        },
        "id": "qDp25RlQ1idO",
        "outputId": "2ae4dce0-e8bd-4361-e72e-03b2814b6804"
      },
      "execution_count": 3,
      "outputs": [
        {
          "output_type": "stream",
          "name": "stdout",
          "text": [
            "Requirement already satisfied: catboost in /usr/local/lib/python3.10/dist-packages (1.2.5)\n",
            "Requirement already satisfied: graphviz in /usr/local/lib/python3.10/dist-packages (from catboost) (0.20.3)\n",
            "Requirement already satisfied: matplotlib in /usr/local/lib/python3.10/dist-packages (from catboost) (3.7.1)\n",
            "Requirement already satisfied: numpy>=1.16.0 in /usr/local/lib/python3.10/dist-packages (from catboost) (1.25.2)\n",
            "Requirement already satisfied: pandas>=0.24 in /usr/local/lib/python3.10/dist-packages (from catboost) (2.0.3)\n",
            "Requirement already satisfied: scipy in /usr/local/lib/python3.10/dist-packages (from catboost) (1.11.4)\n",
            "Requirement already satisfied: plotly in /usr/local/lib/python3.10/dist-packages (from catboost) (5.15.0)\n",
            "Requirement already satisfied: six in /usr/local/lib/python3.10/dist-packages (from catboost) (1.16.0)\n",
            "Requirement already satisfied: python-dateutil>=2.8.2 in /usr/local/lib/python3.10/dist-packages (from pandas>=0.24->catboost) (2.8.2)\n",
            "Requirement already satisfied: pytz>=2020.1 in /usr/local/lib/python3.10/dist-packages (from pandas>=0.24->catboost) (2023.4)\n",
            "Requirement already satisfied: tzdata>=2022.1 in /usr/local/lib/python3.10/dist-packages (from pandas>=0.24->catboost) (2024.1)\n",
            "Requirement already satisfied: contourpy>=1.0.1 in /usr/local/lib/python3.10/dist-packages (from matplotlib->catboost) (1.2.1)\n",
            "Requirement already satisfied: cycler>=0.10 in /usr/local/lib/python3.10/dist-packages (from matplotlib->catboost) (0.12.1)\n",
            "Requirement already satisfied: fonttools>=4.22.0 in /usr/local/lib/python3.10/dist-packages (from matplotlib->catboost) (4.53.0)\n",
            "Requirement already satisfied: kiwisolver>=1.0.1 in /usr/local/lib/python3.10/dist-packages (from matplotlib->catboost) (1.4.5)\n",
            "Requirement already satisfied: packaging>=20.0 in /usr/local/lib/python3.10/dist-packages (from matplotlib->catboost) (24.0)\n",
            "Requirement already satisfied: pillow>=6.2.0 in /usr/local/lib/python3.10/dist-packages (from matplotlib->catboost) (9.4.0)\n",
            "Requirement already satisfied: pyparsing>=2.3.1 in /usr/local/lib/python3.10/dist-packages (from matplotlib->catboost) (3.1.2)\n",
            "Requirement already satisfied: tenacity>=6.2.0 in /usr/local/lib/python3.10/dist-packages (from plotly->catboost) (8.3.0)\n",
            "Requirement already satisfied: category_encoders in /usr/local/lib/python3.10/dist-packages (2.6.3)\n",
            "Requirement already satisfied: numpy>=1.14.0 in /usr/local/lib/python3.10/dist-packages (from category_encoders) (1.25.2)\n",
            "Requirement already satisfied: scikit-learn>=0.20.0 in /usr/local/lib/python3.10/dist-packages (from category_encoders) (1.2.2)\n",
            "Requirement already satisfied: scipy>=1.0.0 in /usr/local/lib/python3.10/dist-packages (from category_encoders) (1.11.4)\n",
            "Requirement already satisfied: statsmodels>=0.9.0 in /usr/local/lib/python3.10/dist-packages (from category_encoders) (0.14.2)\n",
            "Requirement already satisfied: pandas>=1.0.5 in /usr/local/lib/python3.10/dist-packages (from category_encoders) (2.0.3)\n",
            "Requirement already satisfied: patsy>=0.5.1 in /usr/local/lib/python3.10/dist-packages (from category_encoders) (0.5.6)\n",
            "Requirement already satisfied: python-dateutil>=2.8.2 in /usr/local/lib/python3.10/dist-packages (from pandas>=1.0.5->category_encoders) (2.8.2)\n",
            "Requirement already satisfied: pytz>=2020.1 in /usr/local/lib/python3.10/dist-packages (from pandas>=1.0.5->category_encoders) (2023.4)\n",
            "Requirement already satisfied: tzdata>=2022.1 in /usr/local/lib/python3.10/dist-packages (from pandas>=1.0.5->category_encoders) (2024.1)\n",
            "Requirement already satisfied: six in /usr/local/lib/python3.10/dist-packages (from patsy>=0.5.1->category_encoders) (1.16.0)\n",
            "Requirement already satisfied: joblib>=1.1.1 in /usr/local/lib/python3.10/dist-packages (from scikit-learn>=0.20.0->category_encoders) (1.4.2)\n",
            "Requirement already satisfied: threadpoolctl>=2.0.0 in /usr/local/lib/python3.10/dist-packages (from scikit-learn>=0.20.0->category_encoders) (3.5.0)\n",
            "Requirement already satisfied: packaging>=21.3 in /usr/local/lib/python3.10/dist-packages (from statsmodels>=0.9.0->category_encoders) (24.0)\n"
          ]
        }
      ]
    },
    {
      "cell_type": "code",
      "source": [
        "ruta = \"https://raw.githubusercontent.com/cesargar1507/DatasetsUB/main/act2_IMDb%20movies_ml.csv\"\n",
        "df = pd.read_csv(ruta,sep=\";\")"
      ],
      "metadata": {
        "id": "E4Hj_NlxNVlX"
      },
      "execution_count": 4,
      "outputs": []
    },
    {
      "cell_type": "code",
      "source": [
        "df.head(5)"
      ],
      "metadata": {
        "colab": {
          "base_uri": "https://localhost:8080/",
          "height": 382
        },
        "id": "uJocOy_ZN-nu",
        "outputId": "bf8fda17-8099-4f48-b6d7-0bc2394e7483"
      },
      "execution_count": 5,
      "outputs": [
        {
          "output_type": "execute_result",
          "data": {
            "text/plain": [
              "  imdb_title_id                       original_title  year  \\\n",
              "0     tt0010323         Das Cabinet des Dr. Caligari  1920   \n",
              "1     tt0012190  The Four Horsemen of the Apocalypse  1921   \n",
              "2     tt0014624    A Woman of Paris: A Drama of Fate  1923   \n",
              "3     tt0015864                        The Gold Rush  1925   \n",
              "4     tt0018455        Sunrise: A Song of Two Humans  1927   \n",
              "\n",
              "                      genre  duration  country         director  \\\n",
              "0  Fantasy, Horror, Mystery        76  Germany     Robert Wiene   \n",
              "1       Drama, Romance, War       150      USA       Rex Ingram   \n",
              "2            Drama, Romance        82      USA  Charles Chaplin   \n",
              "3  Adventure, Comedy, Drama        95      USA  Charles Chaplin   \n",
              "4            Drama, Romance        94      USA      F.W. Murnau   \n",
              "\n",
              "            actors  avg_vote  votes  avg_vote_weighted    budget  \\\n",
              "0    Werner Krauss       8.1  55601               7.99   $ 18000   \n",
              "1   Pomeroy Cannon       7.2   3058               6.61  $ 800000   \n",
              "2   Edna Purviance       7.0   4735               6.61  $ 351000   \n",
              "3  Charles Chaplin       8.2  97480               8.13  $ 923000   \n",
              "4   George O'Brien       8.1  46069               7.97  $ 200000   \n",
              "\n",
              "  worlwide_gross_income  reviews_from_users  reviews_from_critics  \n",
              "0                $ 8811                 237                   160  \n",
              "1             $ 9183673                  45                    16  \n",
              "2               $ 11233                  37                    24  \n",
              "3               $ 26916                 190                   125  \n",
              "4              $ 121107                 250                   186  "
            ],
            "text/html": [
              "\n",
              "  <div id=\"df-609a3ea7-d458-41ae-a823-3baee9a81a87\" class=\"colab-df-container\">\n",
              "    <div>\n",
              "<style scoped>\n",
              "    .dataframe tbody tr th:only-of-type {\n",
              "        vertical-align: middle;\n",
              "    }\n",
              "\n",
              "    .dataframe tbody tr th {\n",
              "        vertical-align: top;\n",
              "    }\n",
              "\n",
              "    .dataframe thead th {\n",
              "        text-align: right;\n",
              "    }\n",
              "</style>\n",
              "<table border=\"1\" class=\"dataframe\">\n",
              "  <thead>\n",
              "    <tr style=\"text-align: right;\">\n",
              "      <th></th>\n",
              "      <th>imdb_title_id</th>\n",
              "      <th>original_title</th>\n",
              "      <th>year</th>\n",
              "      <th>genre</th>\n",
              "      <th>duration</th>\n",
              "      <th>country</th>\n",
              "      <th>director</th>\n",
              "      <th>actors</th>\n",
              "      <th>avg_vote</th>\n",
              "      <th>votes</th>\n",
              "      <th>avg_vote_weighted</th>\n",
              "      <th>budget</th>\n",
              "      <th>worlwide_gross_income</th>\n",
              "      <th>reviews_from_users</th>\n",
              "      <th>reviews_from_critics</th>\n",
              "    </tr>\n",
              "  </thead>\n",
              "  <tbody>\n",
              "    <tr>\n",
              "      <th>0</th>\n",
              "      <td>tt0010323</td>\n",
              "      <td>Das Cabinet des Dr. Caligari</td>\n",
              "      <td>1920</td>\n",
              "      <td>Fantasy, Horror, Mystery</td>\n",
              "      <td>76</td>\n",
              "      <td>Germany</td>\n",
              "      <td>Robert Wiene</td>\n",
              "      <td>Werner Krauss</td>\n",
              "      <td>8.1</td>\n",
              "      <td>55601</td>\n",
              "      <td>7.99</td>\n",
              "      <td>$ 18000</td>\n",
              "      <td>$ 8811</td>\n",
              "      <td>237</td>\n",
              "      <td>160</td>\n",
              "    </tr>\n",
              "    <tr>\n",
              "      <th>1</th>\n",
              "      <td>tt0012190</td>\n",
              "      <td>The Four Horsemen of the Apocalypse</td>\n",
              "      <td>1921</td>\n",
              "      <td>Drama, Romance, War</td>\n",
              "      <td>150</td>\n",
              "      <td>USA</td>\n",
              "      <td>Rex Ingram</td>\n",
              "      <td>Pomeroy Cannon</td>\n",
              "      <td>7.2</td>\n",
              "      <td>3058</td>\n",
              "      <td>6.61</td>\n",
              "      <td>$ 800000</td>\n",
              "      <td>$ 9183673</td>\n",
              "      <td>45</td>\n",
              "      <td>16</td>\n",
              "    </tr>\n",
              "    <tr>\n",
              "      <th>2</th>\n",
              "      <td>tt0014624</td>\n",
              "      <td>A Woman of Paris: A Drama of Fate</td>\n",
              "      <td>1923</td>\n",
              "      <td>Drama, Romance</td>\n",
              "      <td>82</td>\n",
              "      <td>USA</td>\n",
              "      <td>Charles Chaplin</td>\n",
              "      <td>Edna Purviance</td>\n",
              "      <td>7.0</td>\n",
              "      <td>4735</td>\n",
              "      <td>6.61</td>\n",
              "      <td>$ 351000</td>\n",
              "      <td>$ 11233</td>\n",
              "      <td>37</td>\n",
              "      <td>24</td>\n",
              "    </tr>\n",
              "    <tr>\n",
              "      <th>3</th>\n",
              "      <td>tt0015864</td>\n",
              "      <td>The Gold Rush</td>\n",
              "      <td>1925</td>\n",
              "      <td>Adventure, Comedy, Drama</td>\n",
              "      <td>95</td>\n",
              "      <td>USA</td>\n",
              "      <td>Charles Chaplin</td>\n",
              "      <td>Charles Chaplin</td>\n",
              "      <td>8.2</td>\n",
              "      <td>97480</td>\n",
              "      <td>8.13</td>\n",
              "      <td>$ 923000</td>\n",
              "      <td>$ 26916</td>\n",
              "      <td>190</td>\n",
              "      <td>125</td>\n",
              "    </tr>\n",
              "    <tr>\n",
              "      <th>4</th>\n",
              "      <td>tt0018455</td>\n",
              "      <td>Sunrise: A Song of Two Humans</td>\n",
              "      <td>1927</td>\n",
              "      <td>Drama, Romance</td>\n",
              "      <td>94</td>\n",
              "      <td>USA</td>\n",
              "      <td>F.W. Murnau</td>\n",
              "      <td>George O'Brien</td>\n",
              "      <td>8.1</td>\n",
              "      <td>46069</td>\n",
              "      <td>7.97</td>\n",
              "      <td>$ 200000</td>\n",
              "      <td>$ 121107</td>\n",
              "      <td>250</td>\n",
              "      <td>186</td>\n",
              "    </tr>\n",
              "  </tbody>\n",
              "</table>\n",
              "</div>\n",
              "    <div class=\"colab-df-buttons\">\n",
              "\n",
              "  <div class=\"colab-df-container\">\n",
              "    <button class=\"colab-df-convert\" onclick=\"convertToInteractive('df-609a3ea7-d458-41ae-a823-3baee9a81a87')\"\n",
              "            title=\"Convert this dataframe to an interactive table.\"\n",
              "            style=\"display:none;\">\n",
              "\n",
              "  <svg xmlns=\"http://www.w3.org/2000/svg\" height=\"24px\" viewBox=\"0 -960 960 960\">\n",
              "    <path d=\"M120-120v-720h720v720H120Zm60-500h600v-160H180v160Zm220 220h160v-160H400v160Zm0 220h160v-160H400v160ZM180-400h160v-160H180v160Zm440 0h160v-160H620v160ZM180-180h160v-160H180v160Zm440 0h160v-160H620v160Z\"/>\n",
              "  </svg>\n",
              "    </button>\n",
              "\n",
              "  <style>\n",
              "    .colab-df-container {\n",
              "      display:flex;\n",
              "      gap: 12px;\n",
              "    }\n",
              "\n",
              "    .colab-df-convert {\n",
              "      background-color: #E8F0FE;\n",
              "      border: none;\n",
              "      border-radius: 50%;\n",
              "      cursor: pointer;\n",
              "      display: none;\n",
              "      fill: #1967D2;\n",
              "      height: 32px;\n",
              "      padding: 0 0 0 0;\n",
              "      width: 32px;\n",
              "    }\n",
              "\n",
              "    .colab-df-convert:hover {\n",
              "      background-color: #E2EBFA;\n",
              "      box-shadow: 0px 1px 2px rgba(60, 64, 67, 0.3), 0px 1px 3px 1px rgba(60, 64, 67, 0.15);\n",
              "      fill: #174EA6;\n",
              "    }\n",
              "\n",
              "    .colab-df-buttons div {\n",
              "      margin-bottom: 4px;\n",
              "    }\n",
              "\n",
              "    [theme=dark] .colab-df-convert {\n",
              "      background-color: #3B4455;\n",
              "      fill: #D2E3FC;\n",
              "    }\n",
              "\n",
              "    [theme=dark] .colab-df-convert:hover {\n",
              "      background-color: #434B5C;\n",
              "      box-shadow: 0px 1px 3px 1px rgba(0, 0, 0, 0.15);\n",
              "      filter: drop-shadow(0px 1px 2px rgba(0, 0, 0, 0.3));\n",
              "      fill: #FFFFFF;\n",
              "    }\n",
              "  </style>\n",
              "\n",
              "    <script>\n",
              "      const buttonEl =\n",
              "        document.querySelector('#df-609a3ea7-d458-41ae-a823-3baee9a81a87 button.colab-df-convert');\n",
              "      buttonEl.style.display =\n",
              "        google.colab.kernel.accessAllowed ? 'block' : 'none';\n",
              "\n",
              "      async function convertToInteractive(key) {\n",
              "        const element = document.querySelector('#df-609a3ea7-d458-41ae-a823-3baee9a81a87');\n",
              "        const dataTable =\n",
              "          await google.colab.kernel.invokeFunction('convertToInteractive',\n",
              "                                                    [key], {});\n",
              "        if (!dataTable) return;\n",
              "\n",
              "        const docLinkHtml = 'Like what you see? Visit the ' +\n",
              "          '<a target=\"_blank\" href=https://colab.research.google.com/notebooks/data_table.ipynb>data table notebook</a>'\n",
              "          + ' to learn more about interactive tables.';\n",
              "        element.innerHTML = '';\n",
              "        dataTable['output_type'] = 'display_data';\n",
              "        await google.colab.output.renderOutput(dataTable, element);\n",
              "        const docLink = document.createElement('div');\n",
              "        docLink.innerHTML = docLinkHtml;\n",
              "        element.appendChild(docLink);\n",
              "      }\n",
              "    </script>\n",
              "  </div>\n",
              "\n",
              "\n",
              "<div id=\"df-c960553d-7c9f-49e4-9e8d-729b3797af8a\">\n",
              "  <button class=\"colab-df-quickchart\" onclick=\"quickchart('df-c960553d-7c9f-49e4-9e8d-729b3797af8a')\"\n",
              "            title=\"Suggest charts\"\n",
              "            style=\"display:none;\">\n",
              "\n",
              "<svg xmlns=\"http://www.w3.org/2000/svg\" height=\"24px\"viewBox=\"0 0 24 24\"\n",
              "     width=\"24px\">\n",
              "    <g>\n",
              "        <path d=\"M19 3H5c-1.1 0-2 .9-2 2v14c0 1.1.9 2 2 2h14c1.1 0 2-.9 2-2V5c0-1.1-.9-2-2-2zM9 17H7v-7h2v7zm4 0h-2V7h2v10zm4 0h-2v-4h2v4z\"/>\n",
              "    </g>\n",
              "</svg>\n",
              "  </button>\n",
              "\n",
              "<style>\n",
              "  .colab-df-quickchart {\n",
              "      --bg-color: #E8F0FE;\n",
              "      --fill-color: #1967D2;\n",
              "      --hover-bg-color: #E2EBFA;\n",
              "      --hover-fill-color: #174EA6;\n",
              "      --disabled-fill-color: #AAA;\n",
              "      --disabled-bg-color: #DDD;\n",
              "  }\n",
              "\n",
              "  [theme=dark] .colab-df-quickchart {\n",
              "      --bg-color: #3B4455;\n",
              "      --fill-color: #D2E3FC;\n",
              "      --hover-bg-color: #434B5C;\n",
              "      --hover-fill-color: #FFFFFF;\n",
              "      --disabled-bg-color: #3B4455;\n",
              "      --disabled-fill-color: #666;\n",
              "  }\n",
              "\n",
              "  .colab-df-quickchart {\n",
              "    background-color: var(--bg-color);\n",
              "    border: none;\n",
              "    border-radius: 50%;\n",
              "    cursor: pointer;\n",
              "    display: none;\n",
              "    fill: var(--fill-color);\n",
              "    height: 32px;\n",
              "    padding: 0;\n",
              "    width: 32px;\n",
              "  }\n",
              "\n",
              "  .colab-df-quickchart:hover {\n",
              "    background-color: var(--hover-bg-color);\n",
              "    box-shadow: 0 1px 2px rgba(60, 64, 67, 0.3), 0 1px 3px 1px rgba(60, 64, 67, 0.15);\n",
              "    fill: var(--button-hover-fill-color);\n",
              "  }\n",
              "\n",
              "  .colab-df-quickchart-complete:disabled,\n",
              "  .colab-df-quickchart-complete:disabled:hover {\n",
              "    background-color: var(--disabled-bg-color);\n",
              "    fill: var(--disabled-fill-color);\n",
              "    box-shadow: none;\n",
              "  }\n",
              "\n",
              "  .colab-df-spinner {\n",
              "    border: 2px solid var(--fill-color);\n",
              "    border-color: transparent;\n",
              "    border-bottom-color: var(--fill-color);\n",
              "    animation:\n",
              "      spin 1s steps(1) infinite;\n",
              "  }\n",
              "\n",
              "  @keyframes spin {\n",
              "    0% {\n",
              "      border-color: transparent;\n",
              "      border-bottom-color: var(--fill-color);\n",
              "      border-left-color: var(--fill-color);\n",
              "    }\n",
              "    20% {\n",
              "      border-color: transparent;\n",
              "      border-left-color: var(--fill-color);\n",
              "      border-top-color: var(--fill-color);\n",
              "    }\n",
              "    30% {\n",
              "      border-color: transparent;\n",
              "      border-left-color: var(--fill-color);\n",
              "      border-top-color: var(--fill-color);\n",
              "      border-right-color: var(--fill-color);\n",
              "    }\n",
              "    40% {\n",
              "      border-color: transparent;\n",
              "      border-right-color: var(--fill-color);\n",
              "      border-top-color: var(--fill-color);\n",
              "    }\n",
              "    60% {\n",
              "      border-color: transparent;\n",
              "      border-right-color: var(--fill-color);\n",
              "    }\n",
              "    80% {\n",
              "      border-color: transparent;\n",
              "      border-right-color: var(--fill-color);\n",
              "      border-bottom-color: var(--fill-color);\n",
              "    }\n",
              "    90% {\n",
              "      border-color: transparent;\n",
              "      border-bottom-color: var(--fill-color);\n",
              "    }\n",
              "  }\n",
              "</style>\n",
              "\n",
              "  <script>\n",
              "    async function quickchart(key) {\n",
              "      const quickchartButtonEl =\n",
              "        document.querySelector('#' + key + ' button');\n",
              "      quickchartButtonEl.disabled = true;  // To prevent multiple clicks.\n",
              "      quickchartButtonEl.classList.add('colab-df-spinner');\n",
              "      try {\n",
              "        const charts = await google.colab.kernel.invokeFunction(\n",
              "            'suggestCharts', [key], {});\n",
              "      } catch (error) {\n",
              "        console.error('Error during call to suggestCharts:', error);\n",
              "      }\n",
              "      quickchartButtonEl.classList.remove('colab-df-spinner');\n",
              "      quickchartButtonEl.classList.add('colab-df-quickchart-complete');\n",
              "    }\n",
              "    (() => {\n",
              "      let quickchartButtonEl =\n",
              "        document.querySelector('#df-c960553d-7c9f-49e4-9e8d-729b3797af8a button');\n",
              "      quickchartButtonEl.style.display =\n",
              "        google.colab.kernel.accessAllowed ? 'block' : 'none';\n",
              "    })();\n",
              "  </script>\n",
              "</div>\n",
              "    </div>\n",
              "  </div>\n"
            ],
            "application/vnd.google.colaboratory.intrinsic+json": {
              "type": "dataframe",
              "variable_name": "df",
              "summary": "{\n  \"name\": \"df\",\n  \"rows\": 8664,\n  \"fields\": [\n    {\n      \"column\": \"imdb_title_id\",\n      \"properties\": {\n        \"dtype\": \"string\",\n        \"num_unique_values\": 8664,\n        \"samples\": [\n          \"tt0094048\",\n          \"tt0182295\",\n          \"tt0482571\"\n        ],\n        \"semantic_type\": \"\",\n        \"description\": \"\"\n      }\n    },\n    {\n      \"column\": \"original_title\",\n      \"properties\": {\n        \"dtype\": \"string\",\n        \"num_unique_values\": 8486,\n        \"samples\": [\n          \"Calendar Girls\",\n          \"Sinbad: Legend of the Seven Seas\",\n          \"The Toy\"\n        ],\n        \"semantic_type\": \"\",\n        \"description\": \"\"\n      }\n    },\n    {\n      \"column\": \"year\",\n      \"properties\": {\n        \"dtype\": \"number\",\n        \"std\": 13,\n        \"min\": 1920,\n        \"max\": 2020,\n        \"num_unique_values\": 94,\n        \"samples\": [\n          1966,\n          1948,\n          1981\n        ],\n        \"semantic_type\": \"\",\n        \"description\": \"\"\n      }\n    },\n    {\n      \"column\": \"genre\",\n      \"properties\": {\n        \"dtype\": \"category\",\n        \"num_unique_values\": 469,\n        \"samples\": [\n          \"Drama, History\",\n          \"Mystery, Romance, Thriller\",\n          \"Crime, Film-Noir, Mystery\"\n        ],\n        \"semantic_type\": \"\",\n        \"description\": \"\"\n      }\n    },\n    {\n      \"column\": \"duration\",\n      \"properties\": {\n        \"dtype\": \"number\",\n        \"std\": 18,\n        \"min\": 75,\n        \"max\": 271,\n        \"num_unique_values\": 136,\n        \"samples\": [\n          140,\n          152,\n          117\n        ],\n        \"semantic_type\": \"\",\n        \"description\": \"\"\n      }\n    },\n    {\n      \"column\": \"country\",\n      \"properties\": {\n        \"dtype\": \"category\",\n        \"num_unique_values\": 1144,\n        \"samples\": [\n          \"USA, UK, Japan, Germany\",\n          \"Spain, USA, France\",\n          \"France, UK, Italy, Greece, Israel, USA\"\n        ],\n        \"semantic_type\": \"\",\n        \"description\": \"\"\n      }\n    },\n    {\n      \"column\": \"director\",\n      \"properties\": {\n        \"dtype\": \"category\",\n        \"num_unique_values\": 4056,\n        \"samples\": [\n          \"Mike Leigh\",\n          \"Henry Selick\",\n          \"Jean Becker\"\n        ],\n        \"semantic_type\": \"\",\n        \"description\": \"\"\n      }\n    },\n    {\n      \"column\": \"actors\",\n      \"properties\": {\n        \"dtype\": \"category\",\n        \"num_unique_values\": 3986,\n        \"samples\": [\n          \"Aishwarya Rai Bachchan\",\n          \"Jeffrey Dean Morgan\",\n          \"Flex Alexander\"\n        ],\n        \"semantic_type\": \"\",\n        \"description\": \"\"\n      }\n    },\n    {\n      \"column\": \"avg_vote\",\n      \"properties\": {\n        \"dtype\": \"number\",\n        \"std\": 1.0906415194524015,\n        \"min\": 1.1,\n        \"max\": 9.3,\n        \"num_unique_values\": 80,\n        \"samples\": [\n          6.0,\n          8.1,\n          6.7\n        ],\n        \"semantic_type\": \"\",\n        \"description\": \"\"\n      }\n    },\n    {\n      \"column\": \"votes\",\n      \"properties\": {\n        \"dtype\": \"number\",\n        \"std\": 150298,\n        \"min\": 100,\n        \"max\": 2278845,\n        \"num_unique_values\": 7868,\n        \"samples\": [\n          15790,\n          387842,\n          8035\n        ],\n        \"semantic_type\": \"\",\n        \"description\": \"\"\n      }\n    },\n    {\n      \"column\": \"avg_vote_weighted\",\n      \"properties\": {\n        \"dtype\": \"number\",\n        \"std\": 0.8382537310928205,\n        \"min\": 1.58,\n        \"max\": 9.3,\n        \"num_unique_values\": 503,\n        \"samples\": [\n          5.89,\n          6.67,\n          5.18\n        ],\n        \"semantic_type\": \"\",\n        \"description\": \"\"\n      }\n    },\n    {\n      \"column\": \"budget\",\n      \"properties\": {\n        \"dtype\": \"category\",\n        \"num_unique_values\": 646,\n        \"samples\": [\n          \"$ 30100000\",\n          \"$ 40000\",\n          \"$ 31190000\"\n        ],\n        \"semantic_type\": \"\",\n        \"description\": \"\"\n      }\n    },\n    {\n      \"column\": \"worlwide_gross_income\",\n      \"properties\": {\n        \"dtype\": \"string\",\n        \"num_unique_values\": 8641,\n        \"samples\": [\n          \"$ 1404291\",\n          \"$ 427083\",\n          \"$ 123276\"\n        ],\n        \"semantic_type\": \"\",\n        \"description\": \"\"\n      }\n    },\n    {\n      \"column\": \"reviews_from_users\",\n      \"properties\": {\n        \"dtype\": \"number\",\n        \"std\": 454,\n        \"min\": 1,\n        \"max\": 10472,\n        \"num_unique_values\": 1174,\n        \"samples\": [\n          503,\n          76,\n          1493\n        ],\n        \"semantic_type\": \"\",\n        \"description\": \"\"\n      }\n    },\n    {\n      \"column\": \"reviews_from_critics\",\n      \"properties\": {\n        \"dtype\": \"number\",\n        \"std\": 121,\n        \"min\": 1,\n        \"max\": 999,\n        \"num_unique_values\": 589,\n        \"samples\": [\n          539,\n          239,\n          461\n        ],\n        \"semantic_type\": \"\",\n        \"description\": \"\"\n      }\n    }\n  ]\n}"
            }
          },
          "metadata": {},
          "execution_count": 5
        }
      ]
    },
    {
      "cell_type": "code",
      "source": [
        "df.info()"
      ],
      "metadata": {
        "colab": {
          "base_uri": "https://localhost:8080/"
        },
        "id": "IgIVzRT0ODZm",
        "outputId": "804bfc7a-c324-495b-b76e-ca5fbcdb80be"
      },
      "execution_count": 6,
      "outputs": [
        {
          "output_type": "stream",
          "name": "stdout",
          "text": [
            "<class 'pandas.core.frame.DataFrame'>\n",
            "RangeIndex: 8664 entries, 0 to 8663\n",
            "Data columns (total 15 columns):\n",
            " #   Column                 Non-Null Count  Dtype  \n",
            "---  ------                 --------------  -----  \n",
            " 0   imdb_title_id          8664 non-null   object \n",
            " 1   original_title         8664 non-null   object \n",
            " 2   year                   8664 non-null   int64  \n",
            " 3   genre                  8664 non-null   object \n",
            " 4   duration               8664 non-null   int64  \n",
            " 5   country                8664 non-null   object \n",
            " 6   director               8664 non-null   object \n",
            " 7   actors                 8664 non-null   object \n",
            " 8   avg_vote               8664 non-null   float64\n",
            " 9   votes                  8664 non-null   int64  \n",
            " 10  avg_vote_weighted      8664 non-null   float64\n",
            " 11  budget                 8664 non-null   object \n",
            " 12  worlwide_gross_income  8664 non-null   object \n",
            " 13  reviews_from_users     8664 non-null   int64  \n",
            " 14  reviews_from_critics   8664 non-null   int64  \n",
            "dtypes: float64(2), int64(5), object(8)\n",
            "memory usage: 1015.4+ KB\n"
          ]
        }
      ]
    },
    {
      "cell_type": "markdown",
      "source": [
        "**Preprocesamiento de los datos**"
      ],
      "metadata": {
        "id": "3ZSx8a9j-hIY"
      }
    },
    {
      "cell_type": "code",
      "source": [
        "# Eliminar el símbolo de dólar y convertir a enteros\n",
        "df['budget'] = df['budget'].replace('[\\$,]', '', regex=True).astype(float)\n",
        "df['worlwide_gross_income'] = df['worlwide_gross_income'].replace('[\\$,]', '', regex=True).astype(float)\n",
        "df_copy = df.copy()"
      ],
      "metadata": {
        "id": "ZWo3xI7vOhze"
      },
      "execution_count": 7,
      "outputs": []
    },
    {
      "cell_type": "code",
      "source": [
        "categorical_cols = cols=['genre', 'country', 'director', 'actors']\n",
        "# Aplicar Frequency Encoding\n",
        "for col in categorical_cols:\n",
        "    freq_encoding = df[col].value_counts() / len(df)\n",
        "    df[col + '_freq'] = df[col].map(freq_encoding)\n",
        "\n",
        "# Convertir las variables categóricas en numéricas usando One-Hot Encoding\n",
        "#df = pd.get_dummies(df, columns=['genre', 'country', 'director', 'actors'])\n",
        "# Cambiar valores booleanos a enteros en el DataFrame\n",
        "#df = df.astype(int, errors='ignore')\n",
        "\n",
        "# Crear el codificador Binary\n",
        "#binary_encoder = ce.BinaryEncoder(cols=['genre', 'country', 'director', 'actors'])\n",
        "\n",
        "# Ajustar y transformar los datos\n",
        "#df_encoded = binary_encoder.fit_transform(df)"
      ],
      "metadata": {
        "id": "s4YP6Wo3OXO4"
      },
      "execution_count": 8,
      "outputs": []
    },
    {
      "cell_type": "code",
      "source": [
        "df.head(5)"
      ],
      "metadata": {
        "id": "rUazK1mMHEpf",
        "outputId": "04ffd064-3685-4084-ee3f-1e5c38359ddd",
        "colab": {
          "base_uri": "https://localhost:8080/",
          "height": 382
        }
      },
      "execution_count": 9,
      "outputs": [
        {
          "output_type": "execute_result",
          "data": {
            "text/plain": [
              "  imdb_title_id                       original_title  year  \\\n",
              "0     tt0010323         Das Cabinet des Dr. Caligari  1920   \n",
              "1     tt0012190  The Four Horsemen of the Apocalypse  1921   \n",
              "2     tt0014624    A Woman of Paris: A Drama of Fate  1923   \n",
              "3     tt0015864                        The Gold Rush  1925   \n",
              "4     tt0018455        Sunrise: A Song of Two Humans  1927   \n",
              "\n",
              "                      genre  duration  country         director  \\\n",
              "0  Fantasy, Horror, Mystery        76  Germany     Robert Wiene   \n",
              "1       Drama, Romance, War       150      USA       Rex Ingram   \n",
              "2            Drama, Romance        82      USA  Charles Chaplin   \n",
              "3  Adventure, Comedy, Drama        95      USA  Charles Chaplin   \n",
              "4            Drama, Romance        94      USA      F.W. Murnau   \n",
              "\n",
              "            actors  avg_vote  votes  avg_vote_weighted    budget  \\\n",
              "0    Werner Krauss       8.1  55601               7.99   18000.0   \n",
              "1   Pomeroy Cannon       7.2   3058               6.61  800000.0   \n",
              "2   Edna Purviance       7.0   4735               6.61  351000.0   \n",
              "3  Charles Chaplin       8.2  97480               8.13  923000.0   \n",
              "4   George O'Brien       8.1  46069               7.97  200000.0   \n",
              "\n",
              "   worlwide_gross_income  reviews_from_users  reviews_from_critics  \\\n",
              "0                 8811.0                 237                   160   \n",
              "1              9183673.0                  45                    16   \n",
              "2                11233.0                  37                    24   \n",
              "3                26916.0                 190                   125   \n",
              "4               121107.0                 250                   186   \n",
              "\n",
              "   genre_freq  country_freq  director_freq  actors_freq  \n",
              "0    0.001500      0.001270       0.000115     0.000115  \n",
              "1    0.002770      0.536473       0.000115     0.000115  \n",
              "2    0.031163      0.536473       0.000693     0.000115  \n",
              "3    0.005078      0.536473       0.000693     0.000462  \n",
              "4    0.031163      0.536473       0.000115     0.000115  "
            ],
            "text/html": [
              "\n",
              "  <div id=\"df-283fd190-4038-4611-9b90-9b0adff21c9c\" class=\"colab-df-container\">\n",
              "    <div>\n",
              "<style scoped>\n",
              "    .dataframe tbody tr th:only-of-type {\n",
              "        vertical-align: middle;\n",
              "    }\n",
              "\n",
              "    .dataframe tbody tr th {\n",
              "        vertical-align: top;\n",
              "    }\n",
              "\n",
              "    .dataframe thead th {\n",
              "        text-align: right;\n",
              "    }\n",
              "</style>\n",
              "<table border=\"1\" class=\"dataframe\">\n",
              "  <thead>\n",
              "    <tr style=\"text-align: right;\">\n",
              "      <th></th>\n",
              "      <th>imdb_title_id</th>\n",
              "      <th>original_title</th>\n",
              "      <th>year</th>\n",
              "      <th>genre</th>\n",
              "      <th>duration</th>\n",
              "      <th>country</th>\n",
              "      <th>director</th>\n",
              "      <th>actors</th>\n",
              "      <th>avg_vote</th>\n",
              "      <th>votes</th>\n",
              "      <th>avg_vote_weighted</th>\n",
              "      <th>budget</th>\n",
              "      <th>worlwide_gross_income</th>\n",
              "      <th>reviews_from_users</th>\n",
              "      <th>reviews_from_critics</th>\n",
              "      <th>genre_freq</th>\n",
              "      <th>country_freq</th>\n",
              "      <th>director_freq</th>\n",
              "      <th>actors_freq</th>\n",
              "    </tr>\n",
              "  </thead>\n",
              "  <tbody>\n",
              "    <tr>\n",
              "      <th>0</th>\n",
              "      <td>tt0010323</td>\n",
              "      <td>Das Cabinet des Dr. Caligari</td>\n",
              "      <td>1920</td>\n",
              "      <td>Fantasy, Horror, Mystery</td>\n",
              "      <td>76</td>\n",
              "      <td>Germany</td>\n",
              "      <td>Robert Wiene</td>\n",
              "      <td>Werner Krauss</td>\n",
              "      <td>8.1</td>\n",
              "      <td>55601</td>\n",
              "      <td>7.99</td>\n",
              "      <td>18000.0</td>\n",
              "      <td>8811.0</td>\n",
              "      <td>237</td>\n",
              "      <td>160</td>\n",
              "      <td>0.001500</td>\n",
              "      <td>0.001270</td>\n",
              "      <td>0.000115</td>\n",
              "      <td>0.000115</td>\n",
              "    </tr>\n",
              "    <tr>\n",
              "      <th>1</th>\n",
              "      <td>tt0012190</td>\n",
              "      <td>The Four Horsemen of the Apocalypse</td>\n",
              "      <td>1921</td>\n",
              "      <td>Drama, Romance, War</td>\n",
              "      <td>150</td>\n",
              "      <td>USA</td>\n",
              "      <td>Rex Ingram</td>\n",
              "      <td>Pomeroy Cannon</td>\n",
              "      <td>7.2</td>\n",
              "      <td>3058</td>\n",
              "      <td>6.61</td>\n",
              "      <td>800000.0</td>\n",
              "      <td>9183673.0</td>\n",
              "      <td>45</td>\n",
              "      <td>16</td>\n",
              "      <td>0.002770</td>\n",
              "      <td>0.536473</td>\n",
              "      <td>0.000115</td>\n",
              "      <td>0.000115</td>\n",
              "    </tr>\n",
              "    <tr>\n",
              "      <th>2</th>\n",
              "      <td>tt0014624</td>\n",
              "      <td>A Woman of Paris: A Drama of Fate</td>\n",
              "      <td>1923</td>\n",
              "      <td>Drama, Romance</td>\n",
              "      <td>82</td>\n",
              "      <td>USA</td>\n",
              "      <td>Charles Chaplin</td>\n",
              "      <td>Edna Purviance</td>\n",
              "      <td>7.0</td>\n",
              "      <td>4735</td>\n",
              "      <td>6.61</td>\n",
              "      <td>351000.0</td>\n",
              "      <td>11233.0</td>\n",
              "      <td>37</td>\n",
              "      <td>24</td>\n",
              "      <td>0.031163</td>\n",
              "      <td>0.536473</td>\n",
              "      <td>0.000693</td>\n",
              "      <td>0.000115</td>\n",
              "    </tr>\n",
              "    <tr>\n",
              "      <th>3</th>\n",
              "      <td>tt0015864</td>\n",
              "      <td>The Gold Rush</td>\n",
              "      <td>1925</td>\n",
              "      <td>Adventure, Comedy, Drama</td>\n",
              "      <td>95</td>\n",
              "      <td>USA</td>\n",
              "      <td>Charles Chaplin</td>\n",
              "      <td>Charles Chaplin</td>\n",
              "      <td>8.2</td>\n",
              "      <td>97480</td>\n",
              "      <td>8.13</td>\n",
              "      <td>923000.0</td>\n",
              "      <td>26916.0</td>\n",
              "      <td>190</td>\n",
              "      <td>125</td>\n",
              "      <td>0.005078</td>\n",
              "      <td>0.536473</td>\n",
              "      <td>0.000693</td>\n",
              "      <td>0.000462</td>\n",
              "    </tr>\n",
              "    <tr>\n",
              "      <th>4</th>\n",
              "      <td>tt0018455</td>\n",
              "      <td>Sunrise: A Song of Two Humans</td>\n",
              "      <td>1927</td>\n",
              "      <td>Drama, Romance</td>\n",
              "      <td>94</td>\n",
              "      <td>USA</td>\n",
              "      <td>F.W. Murnau</td>\n",
              "      <td>George O'Brien</td>\n",
              "      <td>8.1</td>\n",
              "      <td>46069</td>\n",
              "      <td>7.97</td>\n",
              "      <td>200000.0</td>\n",
              "      <td>121107.0</td>\n",
              "      <td>250</td>\n",
              "      <td>186</td>\n",
              "      <td>0.031163</td>\n",
              "      <td>0.536473</td>\n",
              "      <td>0.000115</td>\n",
              "      <td>0.000115</td>\n",
              "    </tr>\n",
              "  </tbody>\n",
              "</table>\n",
              "</div>\n",
              "    <div class=\"colab-df-buttons\">\n",
              "\n",
              "  <div class=\"colab-df-container\">\n",
              "    <button class=\"colab-df-convert\" onclick=\"convertToInteractive('df-283fd190-4038-4611-9b90-9b0adff21c9c')\"\n",
              "            title=\"Convert this dataframe to an interactive table.\"\n",
              "            style=\"display:none;\">\n",
              "\n",
              "  <svg xmlns=\"http://www.w3.org/2000/svg\" height=\"24px\" viewBox=\"0 -960 960 960\">\n",
              "    <path d=\"M120-120v-720h720v720H120Zm60-500h600v-160H180v160Zm220 220h160v-160H400v160Zm0 220h160v-160H400v160ZM180-400h160v-160H180v160Zm440 0h160v-160H620v160ZM180-180h160v-160H180v160Zm440 0h160v-160H620v160Z\"/>\n",
              "  </svg>\n",
              "    </button>\n",
              "\n",
              "  <style>\n",
              "    .colab-df-container {\n",
              "      display:flex;\n",
              "      gap: 12px;\n",
              "    }\n",
              "\n",
              "    .colab-df-convert {\n",
              "      background-color: #E8F0FE;\n",
              "      border: none;\n",
              "      border-radius: 50%;\n",
              "      cursor: pointer;\n",
              "      display: none;\n",
              "      fill: #1967D2;\n",
              "      height: 32px;\n",
              "      padding: 0 0 0 0;\n",
              "      width: 32px;\n",
              "    }\n",
              "\n",
              "    .colab-df-convert:hover {\n",
              "      background-color: #E2EBFA;\n",
              "      box-shadow: 0px 1px 2px rgba(60, 64, 67, 0.3), 0px 1px 3px 1px rgba(60, 64, 67, 0.15);\n",
              "      fill: #174EA6;\n",
              "    }\n",
              "\n",
              "    .colab-df-buttons div {\n",
              "      margin-bottom: 4px;\n",
              "    }\n",
              "\n",
              "    [theme=dark] .colab-df-convert {\n",
              "      background-color: #3B4455;\n",
              "      fill: #D2E3FC;\n",
              "    }\n",
              "\n",
              "    [theme=dark] .colab-df-convert:hover {\n",
              "      background-color: #434B5C;\n",
              "      box-shadow: 0px 1px 3px 1px rgba(0, 0, 0, 0.15);\n",
              "      filter: drop-shadow(0px 1px 2px rgba(0, 0, 0, 0.3));\n",
              "      fill: #FFFFFF;\n",
              "    }\n",
              "  </style>\n",
              "\n",
              "    <script>\n",
              "      const buttonEl =\n",
              "        document.querySelector('#df-283fd190-4038-4611-9b90-9b0adff21c9c button.colab-df-convert');\n",
              "      buttonEl.style.display =\n",
              "        google.colab.kernel.accessAllowed ? 'block' : 'none';\n",
              "\n",
              "      async function convertToInteractive(key) {\n",
              "        const element = document.querySelector('#df-283fd190-4038-4611-9b90-9b0adff21c9c');\n",
              "        const dataTable =\n",
              "          await google.colab.kernel.invokeFunction('convertToInteractive',\n",
              "                                                    [key], {});\n",
              "        if (!dataTable) return;\n",
              "\n",
              "        const docLinkHtml = 'Like what you see? Visit the ' +\n",
              "          '<a target=\"_blank\" href=https://colab.research.google.com/notebooks/data_table.ipynb>data table notebook</a>'\n",
              "          + ' to learn more about interactive tables.';\n",
              "        element.innerHTML = '';\n",
              "        dataTable['output_type'] = 'display_data';\n",
              "        await google.colab.output.renderOutput(dataTable, element);\n",
              "        const docLink = document.createElement('div');\n",
              "        docLink.innerHTML = docLinkHtml;\n",
              "        element.appendChild(docLink);\n",
              "      }\n",
              "    </script>\n",
              "  </div>\n",
              "\n",
              "\n",
              "<div id=\"df-8c47f0f3-3055-4fec-b8ff-6de9e533ec78\">\n",
              "  <button class=\"colab-df-quickchart\" onclick=\"quickchart('df-8c47f0f3-3055-4fec-b8ff-6de9e533ec78')\"\n",
              "            title=\"Suggest charts\"\n",
              "            style=\"display:none;\">\n",
              "\n",
              "<svg xmlns=\"http://www.w3.org/2000/svg\" height=\"24px\"viewBox=\"0 0 24 24\"\n",
              "     width=\"24px\">\n",
              "    <g>\n",
              "        <path d=\"M19 3H5c-1.1 0-2 .9-2 2v14c0 1.1.9 2 2 2h14c1.1 0 2-.9 2-2V5c0-1.1-.9-2-2-2zM9 17H7v-7h2v7zm4 0h-2V7h2v10zm4 0h-2v-4h2v4z\"/>\n",
              "    </g>\n",
              "</svg>\n",
              "  </button>\n",
              "\n",
              "<style>\n",
              "  .colab-df-quickchart {\n",
              "      --bg-color: #E8F0FE;\n",
              "      --fill-color: #1967D2;\n",
              "      --hover-bg-color: #E2EBFA;\n",
              "      --hover-fill-color: #174EA6;\n",
              "      --disabled-fill-color: #AAA;\n",
              "      --disabled-bg-color: #DDD;\n",
              "  }\n",
              "\n",
              "  [theme=dark] .colab-df-quickchart {\n",
              "      --bg-color: #3B4455;\n",
              "      --fill-color: #D2E3FC;\n",
              "      --hover-bg-color: #434B5C;\n",
              "      --hover-fill-color: #FFFFFF;\n",
              "      --disabled-bg-color: #3B4455;\n",
              "      --disabled-fill-color: #666;\n",
              "  }\n",
              "\n",
              "  .colab-df-quickchart {\n",
              "    background-color: var(--bg-color);\n",
              "    border: none;\n",
              "    border-radius: 50%;\n",
              "    cursor: pointer;\n",
              "    display: none;\n",
              "    fill: var(--fill-color);\n",
              "    height: 32px;\n",
              "    padding: 0;\n",
              "    width: 32px;\n",
              "  }\n",
              "\n",
              "  .colab-df-quickchart:hover {\n",
              "    background-color: var(--hover-bg-color);\n",
              "    box-shadow: 0 1px 2px rgba(60, 64, 67, 0.3), 0 1px 3px 1px rgba(60, 64, 67, 0.15);\n",
              "    fill: var(--button-hover-fill-color);\n",
              "  }\n",
              "\n",
              "  .colab-df-quickchart-complete:disabled,\n",
              "  .colab-df-quickchart-complete:disabled:hover {\n",
              "    background-color: var(--disabled-bg-color);\n",
              "    fill: var(--disabled-fill-color);\n",
              "    box-shadow: none;\n",
              "  }\n",
              "\n",
              "  .colab-df-spinner {\n",
              "    border: 2px solid var(--fill-color);\n",
              "    border-color: transparent;\n",
              "    border-bottom-color: var(--fill-color);\n",
              "    animation:\n",
              "      spin 1s steps(1) infinite;\n",
              "  }\n",
              "\n",
              "  @keyframes spin {\n",
              "    0% {\n",
              "      border-color: transparent;\n",
              "      border-bottom-color: var(--fill-color);\n",
              "      border-left-color: var(--fill-color);\n",
              "    }\n",
              "    20% {\n",
              "      border-color: transparent;\n",
              "      border-left-color: var(--fill-color);\n",
              "      border-top-color: var(--fill-color);\n",
              "    }\n",
              "    30% {\n",
              "      border-color: transparent;\n",
              "      border-left-color: var(--fill-color);\n",
              "      border-top-color: var(--fill-color);\n",
              "      border-right-color: var(--fill-color);\n",
              "    }\n",
              "    40% {\n",
              "      border-color: transparent;\n",
              "      border-right-color: var(--fill-color);\n",
              "      border-top-color: var(--fill-color);\n",
              "    }\n",
              "    60% {\n",
              "      border-color: transparent;\n",
              "      border-right-color: var(--fill-color);\n",
              "    }\n",
              "    80% {\n",
              "      border-color: transparent;\n",
              "      border-right-color: var(--fill-color);\n",
              "      border-bottom-color: var(--fill-color);\n",
              "    }\n",
              "    90% {\n",
              "      border-color: transparent;\n",
              "      border-bottom-color: var(--fill-color);\n",
              "    }\n",
              "  }\n",
              "</style>\n",
              "\n",
              "  <script>\n",
              "    async function quickchart(key) {\n",
              "      const quickchartButtonEl =\n",
              "        document.querySelector('#' + key + ' button');\n",
              "      quickchartButtonEl.disabled = true;  // To prevent multiple clicks.\n",
              "      quickchartButtonEl.classList.add('colab-df-spinner');\n",
              "      try {\n",
              "        const charts = await google.colab.kernel.invokeFunction(\n",
              "            'suggestCharts', [key], {});\n",
              "      } catch (error) {\n",
              "        console.error('Error during call to suggestCharts:', error);\n",
              "      }\n",
              "      quickchartButtonEl.classList.remove('colab-df-spinner');\n",
              "      quickchartButtonEl.classList.add('colab-df-quickchart-complete');\n",
              "    }\n",
              "    (() => {\n",
              "      let quickchartButtonEl =\n",
              "        document.querySelector('#df-8c47f0f3-3055-4fec-b8ff-6de9e533ec78 button');\n",
              "      quickchartButtonEl.style.display =\n",
              "        google.colab.kernel.accessAllowed ? 'block' : 'none';\n",
              "    })();\n",
              "  </script>\n",
              "</div>\n",
              "    </div>\n",
              "  </div>\n"
            ],
            "application/vnd.google.colaboratory.intrinsic+json": {
              "type": "dataframe",
              "variable_name": "df",
              "summary": "{\n  \"name\": \"df\",\n  \"rows\": 8664,\n  \"fields\": [\n    {\n      \"column\": \"imdb_title_id\",\n      \"properties\": {\n        \"dtype\": \"string\",\n        \"num_unique_values\": 8664,\n        \"samples\": [\n          \"tt0094048\",\n          \"tt0182295\",\n          \"tt0482571\"\n        ],\n        \"semantic_type\": \"\",\n        \"description\": \"\"\n      }\n    },\n    {\n      \"column\": \"original_title\",\n      \"properties\": {\n        \"dtype\": \"string\",\n        \"num_unique_values\": 8486,\n        \"samples\": [\n          \"Calendar Girls\",\n          \"Sinbad: Legend of the Seven Seas\",\n          \"The Toy\"\n        ],\n        \"semantic_type\": \"\",\n        \"description\": \"\"\n      }\n    },\n    {\n      \"column\": \"year\",\n      \"properties\": {\n        \"dtype\": \"number\",\n        \"std\": 13,\n        \"min\": 1920,\n        \"max\": 2020,\n        \"num_unique_values\": 94,\n        \"samples\": [\n          1966,\n          1948,\n          1981\n        ],\n        \"semantic_type\": \"\",\n        \"description\": \"\"\n      }\n    },\n    {\n      \"column\": \"genre\",\n      \"properties\": {\n        \"dtype\": \"category\",\n        \"num_unique_values\": 469,\n        \"samples\": [\n          \"Drama, History\",\n          \"Mystery, Romance, Thriller\",\n          \"Crime, Film-Noir, Mystery\"\n        ],\n        \"semantic_type\": \"\",\n        \"description\": \"\"\n      }\n    },\n    {\n      \"column\": \"duration\",\n      \"properties\": {\n        \"dtype\": \"number\",\n        \"std\": 18,\n        \"min\": 75,\n        \"max\": 271,\n        \"num_unique_values\": 136,\n        \"samples\": [\n          140,\n          152,\n          117\n        ],\n        \"semantic_type\": \"\",\n        \"description\": \"\"\n      }\n    },\n    {\n      \"column\": \"country\",\n      \"properties\": {\n        \"dtype\": \"category\",\n        \"num_unique_values\": 1144,\n        \"samples\": [\n          \"USA, UK, Japan, Germany\",\n          \"Spain, USA, France\",\n          \"France, UK, Italy, Greece, Israel, USA\"\n        ],\n        \"semantic_type\": \"\",\n        \"description\": \"\"\n      }\n    },\n    {\n      \"column\": \"director\",\n      \"properties\": {\n        \"dtype\": \"category\",\n        \"num_unique_values\": 4056,\n        \"samples\": [\n          \"Mike Leigh\",\n          \"Henry Selick\",\n          \"Jean Becker\"\n        ],\n        \"semantic_type\": \"\",\n        \"description\": \"\"\n      }\n    },\n    {\n      \"column\": \"actors\",\n      \"properties\": {\n        \"dtype\": \"category\",\n        \"num_unique_values\": 3986,\n        \"samples\": [\n          \"Aishwarya Rai Bachchan\",\n          \"Jeffrey Dean Morgan\",\n          \"Flex Alexander\"\n        ],\n        \"semantic_type\": \"\",\n        \"description\": \"\"\n      }\n    },\n    {\n      \"column\": \"avg_vote\",\n      \"properties\": {\n        \"dtype\": \"number\",\n        \"std\": 1.0906415194524015,\n        \"min\": 1.1,\n        \"max\": 9.3,\n        \"num_unique_values\": 80,\n        \"samples\": [\n          6.0,\n          8.1,\n          6.7\n        ],\n        \"semantic_type\": \"\",\n        \"description\": \"\"\n      }\n    },\n    {\n      \"column\": \"votes\",\n      \"properties\": {\n        \"dtype\": \"number\",\n        \"std\": 150298,\n        \"min\": 100,\n        \"max\": 2278845,\n        \"num_unique_values\": 7868,\n        \"samples\": [\n          15790,\n          387842,\n          8035\n        ],\n        \"semantic_type\": \"\",\n        \"description\": \"\"\n      }\n    },\n    {\n      \"column\": \"avg_vote_weighted\",\n      \"properties\": {\n        \"dtype\": \"number\",\n        \"std\": 0.8382537310928205,\n        \"min\": 1.58,\n        \"max\": 9.3,\n        \"num_unique_values\": 503,\n        \"samples\": [\n          5.89,\n          6.67,\n          5.18\n        ],\n        \"semantic_type\": \"\",\n        \"description\": \"\"\n      }\n    },\n    {\n      \"column\": \"budget\",\n      \"properties\": {\n        \"dtype\": \"number\",\n        \"std\": 36263886.3990668,\n        \"min\": 1.0,\n        \"max\": 356000000.0,\n        \"num_unique_values\": 646,\n        \"samples\": [\n          30100000.0,\n          40000.0,\n          31190000.0\n        ],\n        \"semantic_type\": \"\",\n        \"description\": \"\"\n      }\n    },\n    {\n      \"column\": \"worlwide_gross_income\",\n      \"properties\": {\n        \"dtype\": \"number\",\n        \"std\": 156264901.18732905,\n        \"min\": 16.0,\n        \"max\": 2797800564.0,\n        \"num_unique_values\": 8641,\n        \"samples\": [\n          1404291.0,\n          427083.0,\n          123276.0\n        ],\n        \"semantic_type\": \"\",\n        \"description\": \"\"\n      }\n    },\n    {\n      \"column\": \"reviews_from_users\",\n      \"properties\": {\n        \"dtype\": \"number\",\n        \"std\": 454,\n        \"min\": 1,\n        \"max\": 10472,\n        \"num_unique_values\": 1174,\n        \"samples\": [\n          503,\n          76,\n          1493\n        ],\n        \"semantic_type\": \"\",\n        \"description\": \"\"\n      }\n    },\n    {\n      \"column\": \"reviews_from_critics\",\n      \"properties\": {\n        \"dtype\": \"number\",\n        \"std\": 121,\n        \"min\": 1,\n        \"max\": 999,\n        \"num_unique_values\": 589,\n        \"samples\": [\n          539,\n          239,\n          461\n        ],\n        \"semantic_type\": \"\",\n        \"description\": \"\"\n      }\n    },\n    {\n      \"column\": \"genre_freq\",\n      \"properties\": {\n        \"dtype\": \"number\",\n        \"std\": 0.01656244318657345,\n        \"min\": 0.00011542012927054478,\n        \"max\": 0.05667128347183749,\n        \"num_unique_values\": 74,\n        \"samples\": [\n          0.001615881809787627,\n          0.0030009233610341643,\n          0.007040627885503232\n        ],\n        \"semantic_type\": \"\",\n        \"description\": \"\"\n      }\n    },\n    {\n      \"column\": \"country_freq\",\n      \"properties\": {\n        \"dtype\": \"number\",\n        \"std\": 0.2642098240315263,\n        \"min\": 0.00011542012927054478,\n        \"max\": 0.5364727608494921,\n        \"num_unique_values\": 47,\n        \"samples\": [\n          0.0009233610341643582,\n          0.007617728531855956,\n          0.003231763619575254\n        ],\n        \"semantic_type\": \"\",\n        \"description\": \"\"\n      }\n    },\n    {\n      \"column\": \"director_freq\",\n      \"properties\": {\n        \"dtype\": \"number\",\n        \"std\": 0.0006782121409806827,\n        \"min\": 0.00011542012927054478,\n        \"max\": 0.004732225300092336,\n        \"num_unique_values\": 26,\n        \"samples\": [\n          0.0012696214219759926,\n          0.004732225300092336,\n          0.00011542012927054478\n        ],\n        \"semantic_type\": \"\",\n        \"description\": \"\"\n      }\n    },\n    {\n      \"column\": \"actors_freq\",\n      \"properties\": {\n        \"dtype\": \"number\",\n        \"std\": 0.001071247655386775,\n        \"min\": 0.00011542012927054478,\n        \"max\": 0.00554016620498615,\n        \"num_unique_values\": 37,\n        \"samples\": [\n          0.0030009233610341643,\n          0.0021929824561403508,\n          0.00034626038781163435\n        ],\n        \"semantic_type\": \"\",\n        \"description\": \"\"\n      }\n    }\n  ]\n}"
            }
          },
          "metadata": {},
          "execution_count": 9
        }
      ]
    },
    {
      "cell_type": "markdown",
      "source": [
        "**Modelo para estimación de la recaudación de películas**"
      ],
      "metadata": {
        "id": "MJI1cc3w-kEP"
      }
    },
    {
      "cell_type": "code",
      "source": [
        "# Seleccionar las características (variables independientes) y la etiqueta (variable dependiente)\n",
        "# Tarea: Estimación de la recaudación\n",
        "X = df[['duration','budget','genre_freq','country_freq','director_freq','actors_freq']]\n",
        "y = df['worlwide_gross_income']\n",
        "\n",
        "# División de los datos en conjuntos de entrenamiento y prueba\n",
        "X_train, X_test, y_train, y_test = train_test_split(X, y, test_size=0.3, random_state=42)"
      ],
      "metadata": {
        "id": "eCy3ORgFQaws"
      },
      "execution_count": 30,
      "outputs": []
    },
    {
      "cell_type": "code",
      "source": [
        "md_list = []\n",
        "score_train_list = []\n",
        "score_test_list = []\n",
        "mse_train_list = []\n",
        "mse_test_list = []\n",
        "\n",
        "\n",
        "for maxdepth in list(range(1,10)):\n",
        "  model = DecisionTreeRegressor(random_state=0, max_depth=maxdepth)\n",
        "  model.fit(X_train, y_train)\n",
        "\n",
        "  pred_train = model.predict(X_train)\n",
        "  pred_test = model.predict(X_test)\n",
        "\n",
        "  ## Generación de listas\n",
        "  md_list.append(maxdepth)\n",
        "  score_train_list.append(100.0*model.score(X_train, y_train))\n",
        "  score_test_list.append(100.0*model.score(X_test, y_test))\n",
        "  mse_train_list.append(mean_squared_error(y_train, pred_train))\n",
        "  mse_test_list.append(mean_squared_error(y_test, pred_test))\n",
        "\n",
        "datos_modelo = pd.DataFrame({\"max_depth\":md_list,\n",
        "                   \"score_train\":score_train_list,\n",
        "                   \"score_test\":score_test_list,\n",
        "                   \"mse_train\":mse_train_list,\n",
        "                   \"mse_test\":mse_test_list\n",
        "                   })"
      ],
      "metadata": {
        "id": "L7uZARi0TcAF"
      },
      "execution_count": 31,
      "outputs": []
    },
    {
      "cell_type": "code",
      "source": [
        "datos_modelo.set_index(\"max_depth\", inplace=True)"
      ],
      "metadata": {
        "id": "MXQ4DujJUDeQ"
      },
      "execution_count": 13,
      "outputs": []
    },
    {
      "cell_type": "code",
      "source": [
        "datos_modelo[\"mse_train\"].plot(label=\"Mean Squared Error en Entrenamiento\")\n",
        "datos_modelo[\"mse_test\"].plot(label=\"Mean Squared Error en Evaluación\")\n",
        "plt.suptitle(\"Sobreajuste vs Subajuste\")\n",
        "plt.legend()\n",
        "plt.show();"
      ],
      "metadata": {
        "colab": {
          "base_uri": "https://localhost:8080/",
          "height": 478
        },
        "id": "jPHoVuSjM4ER",
        "outputId": "e93681f3-803d-477d-b64a-deddef110ba9"
      },
      "execution_count": 32,
      "outputs": [
        {
          "output_type": "display_data",
          "data": {
            "text/plain": [
              "<Figure size 640x480 with 1 Axes>"
            ],
            "image/png": "[encoded data removed]"
          },
          "metadata": {}
        }
      ]
    },
    {
      "cell_type": "code",
      "source": [
        "datos_modelo[\"score_train\"].plot(label=\"$r^2$ en Entrenamiento\")\n",
        "datos_modelo[\"score_test\"].plot(label=\"$r^2$ en Evaluación\")\n",
        "plt.suptitle(\"Sobreajuste vs Subajuste\")\n",
        "plt.legend()\n",
        "plt.show();"
      ],
      "metadata": {
        "colab": {
          "base_uri": "https://localhost:8080/",
          "height": 478
        },
        "id": "q3pZFx2pOukm",
        "outputId": "c5e5b83d-d522-4a5c-8b66-616c891a61cc"
      },
      "execution_count": 33,
      "outputs": [
        {
          "output_type": "display_data",
          "data": {
            "text/plain": [
              "<Figure size 640x480 with 1 Axes>"
            ],
            "image/png": "[encoded data removed]"
          },
          "metadata": {}
        }
      ]
    },
    {
      "cell_type": "code",
      "source": [
        "# Definir la rejilla de parámetros a probar\n",
        "param_grid = {\n",
        "    'max_depth': [5, 10, 15],\n",
        "    'min_samples_split': [2, 5, 10],\n",
        "    'min_samples_leaf': [1, 2, 5],\n",
        "    'max_features': [None, 'sqrt', 'log2']\n",
        "}\n",
        "\n",
        "# Crear el modelo de árbol de decisión\n",
        "model = DecisionTreeRegressor(random_state=42)\n",
        "\n",
        "# Configurar la búsqueda de rejilla\n",
        "grid_search = GridSearchCV(estimator=model, param_grid=param_grid, cv=5, scoring='r2')\n",
        "\n",
        "# Ajustar el modelo usando GridSearchCV\n",
        "grid_search.fit(X_train, y_train)\n",
        "\n",
        "# Imprimir los mejores parámetros y el mejor score\n",
        "print(f\"Mejores hiperparámetros: {grid_search.best_params_}\")\n",
        "print(f\"Mejor R2 score: {grid_search.best_score_}\")"
      ],
      "metadata": {
        "colab": {
          "base_uri": "https://localhost:8080/"
        },
        "id": "3RHdXNCWX2At",
        "outputId": "f77a4810-af5f-4a36-d3f5-50ba945f5cf9"
      },
      "execution_count": 34,
      "outputs": [
        {
          "output_type": "stream",
          "name": "stdout",
          "text": [
            "Mejores hiperparámetros: {'max_depth': 5, 'max_features': None, 'min_samples_leaf': 2, 'min_samples_split': 10}\n",
            "Mejor R2 score: 0.5349620181467939\n"
          ]
        }
      ]
    },
    {
      "cell_type": "code",
      "source": [
        "# Seleccionar las características (variables independientes) y la etiqueta (variable dependiente)\n",
        "# Tarea: Estimación de la recaudación\n",
        "X = df[['duration','budget','genre_freq','country_freq','director_freq','actors_freq']]\n",
        "y = df['worlwide_gross_income']\n",
        "\n",
        "# División de los datos en conjuntos de entrenamiento y prueba\n",
        "X_train, X_test, y_train, y_test = train_test_split(X, y, test_size=0.3, random_state=42)\n",
        "\n",
        "# Crear y entrenar el modelo de árbol de decisión\n",
        "model = DecisionTreeRegressor(random_state=42, max_depth = 5, max_features = None, min_samples_leaf = 2, min_samples_split = 10)\n",
        "model.fit(X_train, y_train)\n",
        "\n",
        "# Realizar predicciones\n",
        "y_pred = model.predict(X_test)\n",
        "\n",
        "# Evaluar el modelo\n",
        "mse = mean_squared_error(y_test, y_pred)\n",
        "r2 = r2_score(y_test, y_pred)\n",
        "\n",
        "print(f\"Estimación de la recaudación - MSE: {mse}, R2: {r2}\")"
      ],
      "metadata": {
        "colab": {
          "base_uri": "https://localhost:8080/"
        },
        "id": "k2ITwyQjDOPY",
        "outputId": "791d8f53-a82e-4843-acf8-afccad1bfb03"
      },
      "execution_count": 45,
      "outputs": [
        {
          "output_type": "stream",
          "name": "stdout",
          "text": [
            "Estimación de la recaudación - MSE: 8943879633019164.0, R2: 0.5219197486642988\n"
          ]
        }
      ]
    },
    {
      "cell_type": "code",
      "source": [
        "# Identificar las columnas categóricas\n",
        "categorical_features = ['genre', 'country', 'director', 'actors']\n",
        "\n",
        "# Crear y preparar el dataset\n",
        "X = df_copy[['duration', 'budget'] + categorical_features]\n",
        "y = df_copy['worlwide_gross_income']\n",
        "\n",
        "# División de los datos en conjuntos de entrenamiento y prueba\n",
        "X_train, X_test, y_train, y_test = train_test_split(X, y, test_size=0.3, random_state=42)\n",
        "\n",
        "# Crear y entrenar el modelo de CatBoost\n",
        "train_pool = Pool(X_train, y_train, cat_features=categorical_features)\n",
        "test_pool = Pool(X_test, y_test, cat_features=categorical_features)\n",
        "\n",
        "model = CatBoostRegressor(random_seed=42, logging_level='Silent')\n",
        "model.fit(train_pool)\n",
        "\n",
        "# Realizar predicciones\n",
        "y_pred = model.predict(test_pool)\n",
        "\n",
        "# Evaluar el modelo\n",
        "mse = mean_squared_error(y_test, y_pred)\n",
        "r2 = r2_score(y_test, y_pred)\n",
        "\n",
        "print(f\"Estimación de la recaudación - MSE: {mse}, R2: {r2}\")"
      ],
      "metadata": {
        "colab": {
          "base_uri": "https://localhost:8080/"
        },
        "id": "1gl_B5xURJ2S",
        "outputId": "e694121d-156f-4322-9982-7b22a083ae61"
      },
      "execution_count": 18,
      "outputs": [
        {
          "output_type": "stream",
          "name": "stdout",
          "text": [
            "Estimación de la recaudación - MSE: 7590666345601426.0, R2: 0.5942535204842014\n"
          ]
        }
      ]
    },
    {
      "cell_type": "markdown",
      "source": [
        "**Modelo para estimación de media ponderada de votos**"
      ],
      "metadata": {
        "id": "hjUNrTDb-t6g"
      }
    },
    {
      "cell_type": "code",
      "source": [
        "# Seleccionar las características (variables independientes) y la etiqueta (variable dependiente)\n",
        "# Tarea: Estimación de la recaudación\n",
        "X = df[['duration', 'budget','worlwide_gross_income','reviews_from_users','reviews_from_critics','genre_freq','country_freq','director_freq','actors_freq']]\n",
        "y = df['avg_vote_weighted']\n",
        "\n",
        "# División de los datos en conjuntos de entrenamiento y prueba\n",
        "X_train, X_test, y_train, y_test = train_test_split(X, y, test_size=0.3, random_state=42)"
      ],
      "metadata": {
        "id": "Q3vg7Iui4VjR"
      },
      "execution_count": 37,
      "outputs": []
    },
    {
      "cell_type": "code",
      "source": [
        "md_list = []\n",
        "score_train_list = []\n",
        "score_test_list = []\n",
        "mse_train_list = []\n",
        "mse_test_list = []\n",
        "\n",
        "\n",
        "for maxdepth in list(range(1,10)):\n",
        "  model2 = DecisionTreeRegressor(random_state=0, max_depth=maxdepth)\n",
        "  model2.fit(X_train, y_train)\n",
        "\n",
        "  pred_train = model2.predict(X_train)\n",
        "  pred_test = model2.predict(X_test)\n",
        "\n",
        "  ## Generación de listas\n",
        "  md_list.append(maxdepth)\n",
        "  score_train_list.append(100.0*model2.score(X_train, y_train))\n",
        "  score_test_list.append(100.0*model2.score(X_test, y_test))\n",
        "  mse_train_list.append(mean_squared_error(y_train, pred_train))\n",
        "  mse_test_list.append(mean_squared_error(y_test, pred_test))\n",
        "\n",
        "datos_modelo2 = pd.DataFrame({\"max_depth\":md_list,\n",
        "                   \"score_train\":score_train_list,\n",
        "                   \"score_test\":score_test_list,\n",
        "                   \"mse_train\":mse_train_list,\n",
        "                   \"mse_test\":mse_test_list\n",
        "                   })"
      ],
      "metadata": {
        "id": "ZhiRnK9U47JI"
      },
      "execution_count": 38,
      "outputs": []
    },
    {
      "cell_type": "code",
      "source": [
        "datos_modelo2.set_index(\"max_depth\", inplace=True)"
      ],
      "metadata": {
        "id": "C5OWIdpU5SsA"
      },
      "execution_count": 39,
      "outputs": []
    },
    {
      "cell_type": "code",
      "source": [
        "datos_modelo2[\"mse_train\"].plot(label=\"Mean Squared Error en Entrenamiento\")\n",
        "datos_modelo2[\"mse_test\"].plot(label=\"Mean Squared Error en Evaluación\")\n",
        "plt.suptitle(\"Sobreajuste vs Subajuste\")\n",
        "plt.legend()\n",
        "plt.show();"
      ],
      "metadata": {
        "id": "V25x-JOW5W6G",
        "outputId": "0ce43e4e-b33b-4d85-ba03-2f10e01f5e8c",
        "colab": {
          "base_uri": "https://localhost:8080/",
          "height": 498
        }
      },
      "execution_count": 40,
      "outputs": [
        {
          "output_type": "display_data",
          "data": {
            "text/plain": [
              "<Figure size 640x480 with 1 Axes>"
            ],
            "image/png": "[encoded data removed]"
          },
          "metadata": {}
        }
      ]
    },
    {
      "cell_type": "code",
      "source": [
        "datos_modelo2[\"score_train\"].plot(label=\"$r^2$ en Entrenamiento\")\n",
        "datos_modelo2[\"score_test\"].plot(label=\"$r^2$ en Evaluación\")\n",
        "plt.suptitle(\"Sobreajuste vs Subajuste\")\n",
        "plt.legend()\n",
        "plt.show();"
      ],
      "metadata": {
        "id": "_vxDTABP5bBY",
        "outputId": "76ea827c-22d3-4eaa-fc9a-f75f296e4471",
        "colab": {
          "base_uri": "https://localhost:8080/",
          "height": 498
        }
      },
      "execution_count": 41,
      "outputs": [
        {
          "output_type": "display_data",
          "data": {
            "text/plain": [
              "<Figure size 640x480 with 1 Axes>"
            ],
            "image/png": "[encoded data removed]"
          },
          "metadata": {}
        }
      ]
    },
    {
      "cell_type": "code",
      "source": [
        "# Definir la rejilla de parámetros a probar\n",
        "param_grid = {\n",
        "    'max_depth': [5, 10, 15],\n",
        "    'min_samples_split': [2, 5, 10],\n",
        "    'min_samples_leaf': [1, 2, 5],\n",
        "    'max_features': [None, 'sqrt', 'log2']\n",
        "}\n",
        "\n",
        "# Crear el modelo de árbol de decisión\n",
        "model2 = DecisionTreeRegressor(random_state=42)\n",
        "\n",
        "# Configurar la búsqueda de rejilla\n",
        "grid_search = GridSearchCV(estimator=model2, param_grid=param_grid, cv=5, scoring='r2')\n",
        "\n",
        "# Ajustar el modelo usando GridSearchCV\n",
        "grid_search.fit(X_train, y_train)\n",
        "\n",
        "# Imprimir los mejores parámetros y el mejor score\n",
        "print(f\"Mejores hiperparámetros: {grid_search.best_params_}\")\n",
        "print(f\"Mejor R2 score: {grid_search.best_score_}\")"
      ],
      "metadata": {
        "id": "sG70gPH35g02",
        "outputId": "2b7804bf-487e-497a-ab87-c14ac0bb0e4e",
        "colab": {
          "base_uri": "https://localhost:8080/"
        }
      },
      "execution_count": 42,
      "outputs": [
        {
          "output_type": "stream",
          "name": "stdout",
          "text": [
            "Mejores hiperparámetros: {'max_depth': 5, 'max_features': None, 'min_samples_leaf': 5, 'min_samples_split': 2}\n",
            "Mejor R2 score: 0.3025506236750437\n"
          ]
        }
      ]
    },
    {
      "cell_type": "code",
      "source": [
        "# Seleccionar las características (variables independientes) y la etiqueta (variable dependiente)\n",
        "# Tarea: Estimación de la recaudación\n",
        "X2 = df[['duration', 'budget','worlwide_gross_income','reviews_from_users','reviews_from_critics','genre_freq','country_freq','director_freq','actors_freq']]\n",
        "y2 = df['avg_vote_weighted']\n",
        "\n",
        "# División de los datos en conjuntos de entrenamiento y prueba\n",
        "X_train, X_test, y_train, y_test = train_test_split(X2, y2, test_size=0.3, random_state=42)\n",
        "\n",
        "# Crear y entrenar el modelo de árbol de decisión\n",
        "model2 = DecisionTreeRegressor(random_state=42, max_depth = 5, max_features = None, min_samples_leaf = 5, min_samples_split = 2)\n",
        "model2.fit(X_train, y_train)\n",
        "\n",
        "# Realizar predicciones\n",
        "y_pred = model2.predict(X_test)\n",
        "\n",
        "# Evaluar el modelo\n",
        "mse = mean_squared_error(y_test, y_pred)\n",
        "r2 = r2_score(y_test, y_pred)\n",
        "\n",
        "print(f\"Estimación de la recaudación - MSE: {mse}, R2: {r2}\")"
      ],
      "metadata": {
        "id": "hQpPqnSr5s4h",
        "outputId": "ad815a80-e731-41ec-d042-d4ee6ed3cdaf",
        "colab": {
          "base_uri": "https://localhost:8080/"
        }
      },
      "execution_count": 44,
      "outputs": [
        {
          "output_type": "stream",
          "name": "stdout",
          "text": [
            "Estimación de la recaudación - MSE: 0.5052947392961221, R2: 0.3027639484502176\n"
          ]
        }
      ]
    },
    {
      "cell_type": "code",
      "source": [
        "# Identificar las columnas categóricas\n",
        "categorical_features = ['genre', 'country', 'director', 'actors']\n",
        "\n",
        "# Crear y preparar el dataset\n",
        "X2 = df_copy[['duration', 'budget','worlwide_gross_income','reviews_from_users','reviews_from_critics'] + categorical_features]\n",
        "y2 = df_copy['avg_vote_weighted']\n",
        "\n",
        "# División de los datos en conjuntos de entrenamiento y prueba\n",
        "X_train, X_test, y_train, y_test = train_test_split(X2, y2, test_size=0.3, random_state=42)\n",
        "\n",
        "# Crear y entrenar el modelo de CatBoost\n",
        "train_pool = Pool(X_train, y_train, cat_features=categorical_features)\n",
        "test_pool = Pool(X_test, y_test, cat_features=categorical_features)\n",
        "\n",
        "model2 = CatBoostRegressor(random_seed=42, logging_level='Silent')\n",
        "model2.fit(train_pool)\n",
        "\n",
        "# Realizar predicciones\n",
        "y_pred = model2.predict(test_pool)\n",
        "\n",
        "# Evaluar el modelo\n",
        "mse = mean_squared_error(y_test, y_pred)\n",
        "r2 = r2_score(y_test, y_pred)\n",
        "\n",
        "print(f\"Estimación de la recaudación - MSE: {mse}, R2: {r2}\")"
      ],
      "metadata": {
        "id": "vRQ_yfE09BVg",
        "outputId": "c6bb3ffa-645c-4100-8b5b-bbb8d4b9c4d1",
        "colab": {
          "base_uri": "https://localhost:8080/"
        }
      },
      "execution_count": 46,
      "outputs": [
        {
          "output_type": "stream",
          "name": "stdout",
          "text": [
            "Estimación de la recaudación - MSE: 0.3409414371102469, R2: 0.529548513108216\n"
          ]
        }
      ]
    },
    {
      "cell_type": "code",
      "source": [],
      "metadata": {
        "id": "7D-edPT2LQll"
      },
      "execution_count": null,
      "outputs": []
    }
  ]
}