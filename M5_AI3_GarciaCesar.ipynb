{
  "nbformat": 4,
  "nbformat_minor": 0,
  "metadata": {
    "colab": {
      "provenance": []
    },
    "kernelspec": {
      "name": "ir",
      "display_name": "R"
    },
    "language_info": {
      "name": "R"
    }
  },
  "cells": [
    {
      "cell_type": "markdown",
      "source": [
        "**Alumno:** César Emilio García Ávalos\n",
        "\n",
        "**Actividad:** M5_AI1_Modelo lineal Gaussiano_modelos espaciales"
      ],
      "metadata": {
        "id": "WAVuT--BYKiJ"
      }
    },
    {
      "cell_type": "code",
      "execution_count": null,
      "metadata": {
        "id": "NXvNrUprHSkt"
      },
      "outputs": [],
      "source": [
        "install.packages(c(\"sf\", \"spdep\", \"dplyr\", \"ggplot2\",\"osmdata\",\"geosphere\",\"MASS\",\"earth\",\"spatialreg\",\"caret\",\"spgwr\"))\n",
        "library(spgwr)\n",
        "library(caret)\n",
        "library(caret)\n",
        "library(earth)\n",
        "library(spdep)\n",
        "library(MASS)\n",
        "library(geosphere)\n",
        "library(osmdata)\n",
        "library(sf)\n",
        "library(dplyr)\n",
        "library(ggplot2)"
      ]
    },
    {
      "cell_type": "code",
      "source": [
        "# Cargar los datos\n",
        "tabla <- read.csv(\"https://raw.githubusercontent.com/cesargar1507/DatasetsUB/main/table_5.05.csv\", sep = \",\", header = TRUE)"
      ],
      "metadata": {
        "id": "APj0m1eNpo4F"
      },
      "execution_count": null,
      "outputs": []
    },
    {
      "cell_type": "code",
      "source": [
        "summary(tabla)"
      ],
      "metadata": {
        "id": "Z-pUCyZDX6vg"
      },
      "execution_count": null,
      "outputs": []
    },
    {
      "cell_type": "code",
      "source": [
        "unique(tabla$room_type)\n",
        "unique(tabla$instant_bookable)"
      ],
      "metadata": {
        "id": "1972Og2QasIh"
      },
      "execution_count": null,
      "outputs": []
    },
    {
      "cell_type": "code",
      "source": [
        "sum(is.na(tabla))"
      ],
      "metadata": {
        "id": "gy-Q2z_maTVT"
      },
      "execution_count": null,
      "outputs": []
    },
    {
      "cell_type": "code",
      "source": [
        "# Añadir una pequeña perturbación aleatoria a la latitud y longitud\n",
        "set.seed(123)\n",
        "tabla$latitude <- tabla$latitude + runif(nrow(tabla)) / 1000\n",
        "tabla$longitude <- tabla$longitude + runif(nrow(tabla)) / 1000\n",
        "\n",
        "# Seleccionar un subconjunto de datos si hay más de 2000 filas\n",
        "if (nrow(tabla) > 2000) {\n",
        "  set.seed(1)\n",
        "  tabla <- tabla[sample(nrow(tabla), 2000), ]\n",
        "}\n",
        "pisos<- tabla"
      ],
      "metadata": {
        "id": "G8kxvLKMOc_W"
      },
      "execution_count": null,
      "outputs": []
    },
    {
      "cell_type": "code",
      "source": [
        "coords <- cbind(tabla$longitude, tabla$latitude)\n",
        "nb <- knn2nb(knearneigh(coords, k = 10))"
      ],
      "metadata": {
        "id": "6Rft9VAutV5y"
      },
      "execution_count": null,
      "outputs": []
    },
    {
      "cell_type": "code",
      "source": [
        "# Calcular la matriz de pesos espaciales\n",
        "listw <- nb2listw(nb, style = \"W\")\n",
        "moran_global <- moran.test(x = tabla$price, listw = listw)\n",
        "moran.plot(x = tabla$price, listw = listw, main = \"Gráfico de Moran\")\n",
        "moran_global"
      ],
      "metadata": {
        "id": "RydDBhBHwsTu"
      },
      "execution_count": null,
      "outputs": []
    },
    {
      "cell_type": "code",
      "source": [
        "imoranlocal<-as.data.frame(localmoran(x = tabla$price, listw = listw))\n",
        "tabla$registo<-1\n",
        "#pl_pt(tabla,color2 = imoranlocal$Z.Ii,size2 =tabla$registo ,dd = 6)"
      ],
      "metadata": {
        "id": "cbU9mxmy_fmA"
      },
      "execution_count": null,
      "outputs": []
    },
    {
      "cell_type": "code",
      "source": [
        "pisos <- dplyr::select(pisos,-room_type)"
      ],
      "metadata": {
        "id": "CmdKVrWsNf35"
      },
      "execution_count": null,
      "outputs": []
    },
    {
      "cell_type": "code",
      "source": [
        "modelo_lineal <- glm(price ~ ., data = pisos, family = gaussian)\n",
        "# Resumen del modelo\n",
        "summary(modelo_lineal)"
      ],
      "metadata": {
        "id": "Iu2usGd1P3nr"
      },
      "execution_count": null,
      "outputs": []
    },
    {
      "cell_type": "code",
      "source": [
        "moran.test(x=modelo_lineal$residuals, listw = listw)\n",
        "moran.plot(x=modelo_lineal$residuals, listw = listw)"
      ],
      "metadata": {
        "id": "7s2mhC5hqm-n"
      },
      "execution_count": null,
      "outputs": []
    },
    {
      "cell_type": "code",
      "source": [
        "# Definir el área de Madrid\n",
        "bbox <- getbb(\"Madrid, Spain\")\n",
        "\n",
        "# Consultar OSM para obtener ubicaciones de oficinas bancarias\n",
        "bancos <- opq(bbox = bbox) %>%\n",
        "  add_osm_feature(key = 'amenity', value = 'bank') %>%\n",
        "  osmdata_sf()\n",
        "\n",
        "# Extraer las coordenadas de los bancos\n",
        "bancos_coords <- bancos$osm_points %>% st_coordinates()"
      ],
      "metadata": {
        "id": "B-_1J4xmwHvN"
      },
      "execution_count": null,
      "outputs": []
    },
    {
      "cell_type": "code",
      "source": [
        "# Crear una función para calcular la distancia mínima\n",
        "calcular_distancia_minima <- function(lat, lon, bancos_coords) {\n",
        "  distancias <- distm(c(lon, lat), bancos_coords)\n",
        "  min(distancias)\n",
        "}\n",
        "\n",
        "pisosBank<-pisos\n",
        "# Calcular la distancia mínima para cada observación en tus datos\n",
        "pisosBank$distancia_bancos <- mapply(calcular_distancia_minima, pisos$latitude, pisos$longitude, MoreArgs = list(bancos_coords = bancos_coords))"
      ],
      "metadata": {
        "id": "sYlm4M-8xFFX"
      },
      "execution_count": null,
      "outputs": []
    },
    {
      "cell_type": "code",
      "source": [
        "modelo_lineal_completo <- glm(price~., data = pisosBank, family = gaussian)\n",
        "# Resumen del modelo\n",
        "summary(modelo_lineal_completo)"
      ],
      "metadata": {
        "id": "m1Gro3wOyWok"
      },
      "execution_count": null,
      "outputs": []
    },
    {
      "cell_type": "code",
      "source": [
        "moran.test(x=modelo_lineal_completo$residuals, listw = listw)\n",
        "moran.plot(x=modelo_lineal_completo$residuals, listw = listw)"
      ],
      "metadata": {
        "id": "1l_DWrODzWbk"
      },
      "execution_count": null,
      "outputs": []
    },
    {
      "cell_type": "code",
      "source": [
        "paste(\"Residuos del modelo lineal\", sum((modelo_lineal$residuals)**2))\n",
        "paste(\"Residuos del modelo lineal con distancia a bancos\", sum((modelo_lineal_completo$residuals)**2))"
      ],
      "metadata": {
        "id": "v4CG4U_r2G2y"
      },
      "execution_count": null,
      "outputs": []
    },
    {
      "cell_type": "code",
      "source": [
        "backward <- stepAIC(modelo_lineal_completo,trace=FALSE,direction=\"backward\")\n",
        "backward$anova\n",
        "summary(backward)"
      ],
      "metadata": {
        "id": "KnWlax3zWoW1"
      },
      "execution_count": null,
      "outputs": []
    },
    {
      "cell_type": "code",
      "source": [
        "formula <- as.formula(\"price ~ longitude + minimum_nights + number_of_reviews +\n",
        "    review_scores_value + calculated_host_listings_count + reviews_per_month +\n",
        "    Distancia_Centro + Distancia_Sur + logprice\")"
      ],
      "metadata": {
        "id": "evo91DmcW9fr"
      },
      "execution_count": null,
      "outputs": []
    },
    {
      "cell_type": "code",
      "source": [
        "modelo_sar <- lagsarlm(formula = formula, data= pisosBank, listw = listw)\n",
        "summary(modelo_sar)"
      ],
      "metadata": {
        "id": "uE4XDy088ovW"
      },
      "execution_count": null,
      "outputs": []
    },
    {
      "cell_type": "code",
      "source": [
        "# Ajustar el modelo SEM\n",
        "modelo_sem <- errorsarlm(formula = formula, data = pisosBank, listw = listw)\n",
        "summary(modelo_sem)"
      ],
      "metadata": {
        "id": "Vgzf_0jF9Ntx"
      },
      "execution_count": null,
      "outputs": []
    },
    {
      "cell_type": "code",
      "source": [
        "paste(\"Residuos del modelo lineal\", sum((modelo_lineal$residuals)**2))\n",
        "paste(\"Residuos del modelo lineal con distancia a bancos\", sum((modelo_lineal_completo$residuals)**2))\n",
        "paste(\"Residuos del modelo SAR\", sum((modelo_sar$residuals)**2))\n",
        "paste(\"Residuos del modelo SEM\", sum((modelo_sem$residuals)**2))"
      ],
      "metadata": {
        "id": "M2pAZ8mR9ReL"
      },
      "execution_count": null,
      "outputs": []
    },
    {
      "cell_type": "code",
      "source": [
        "moran.test(x=modelo_sar$residuals, listw = listw)\n",
        "moran.test(x=modelo_sem$residuals, listw = listw)"
      ],
      "metadata": {
        "id": "GJQnrUfR-_Pu"
      },
      "execution_count": null,
      "outputs": []
    },
    {
      "cell_type": "code",
      "source": [
        "# Definir el número de folds para la validación cruzada\n",
        "num_folds <- 5\n",
        "\n",
        "# Inicializar vectores para almacenar resultados de rendimiento\n",
        "mse_values <- numeric(num_folds)\n",
        "mae_values <- numeric(num_folds)\n",
        "r_squared_values <- numeric(num_folds)\n",
        "\n",
        "# Realizar la validación cruzada\n",
        "for (fold in 1:num_folds) {\n",
        "  # Generar índices de división aleatorios\n",
        "  fold_indices <- createDataPartition(pisosBank$logprice, times = 1, p = 0.7, list = FALSE)\n",
        "\n",
        "  # Subconjuntos de entrenamiento y prueba\n",
        "  train_data <- pisosBank[fold_indices, ]\n",
        "  test_data <- pisosBank[-fold_indices, ]\n",
        "\n",
        "  # Crear matriz de pesos espaciales solo con los datos de entrenamiento de este fold\n",
        " coords_train <- cbind(train_data$longitude, train_data$latitude)\n",
        " nb_train <- knn2nb(knearneigh(coords_train, k = 10))\n",
        " train_listw <- nb2listw(nb_train, style = \"W\")\n",
        "\n",
        " # Crear matriz de pesos espaciales solo con los datos de prueba de este fold\n",
        " coords_test <- cbind(test_data$longitude, test_data$latitude)\n",
        " nb_test <- knn2nb(knearneigh(coords_test, k = 10))\n",
        " test_listw <- nb2listw(nb_test, style = \"W\")\n",
        " row.names(test_data) <- test_data$region.id\n",
        "\n",
        "  # Ajustar el modelo SAR en el subconjunto de entrenamiento\n",
        "  modelo_sar_fold <- lagsarlm(logprice ~ ., data = train_data, listw = train_listw)\n",
        "\n",
        "  # Realizar predicciones en el conjunto de prueba\n",
        "  predicciones <- predict(modelo_sar_fold, newdata = test_data, listw = test_listw)\n",
        "\n",
        "  # Calcular métricas de rendimiento\n",
        "  mse_values[fold] <- mean((test_data$logprice - predicciones)^2)\n",
        "  mae_values[fold] <- mean(abs(test_data$logprice - predicciones))\n",
        "  r_squared_values[fold] <- cor(test_data$logprice, predicciones)^2\n",
        "}\n",
        "\n",
        "# Calcular el promedio de las métricas de rendimiento\n",
        "mean_mse <- mean(mse_values)\n",
        "mean_mae <- mean(mae_values)\n",
        "mean_r_squared <- mean(r_squared_values)\n",
        "\n",
        "# Imprimir resultados\n",
        "cat(\"MSE promedio:\", mean_mse, \"\\n\")\n",
        "cat(\"MAE promedio:\", mean_mae, \"\\n\")\n",
        "cat(\"R cuadrado promedio:\", mean_r_squared, \"\\n\")\n"
      ],
      "metadata": {
        "id": "Y4Ta-fShAfpy"
      },
      "execution_count": null,
      "outputs": []
    },
    {
      "cell_type": "code",
      "source": [
        "# Ajustar modelo GWR y seleccionar ancho de banda automáticamente\n",
        "tabla$residuos<-modelo_sem$residuals\n",
        "puntos_sp<-tabla\n",
        "coordinates(puntos_sp)<- c(\"longitude\",\"latitude\")\n",
        "proj4string(puntos_sp) <- CRS(\"+proj=longlat +datum=WGS84\")\n",
        "#Obtenemos el mejor BW\n",
        "bw <- gwr.sel(residuos~1, data=puntos_sp)\n",
        "\n",
        "paste(\"El mejor ancho de banda es:\",bw)"
      ],
      "metadata": {
        "id": "jvtN0C8lPR-V"
      },
      "execution_count": null,
      "outputs": []
    },
    {
      "cell_type": "code",
      "source": [
        "g <- gwr(residuos~1, data=puntos_sp, bandwidth=bw)"
      ],
      "metadata": {
        "id": "PQx08_PDTF6Y"
      },
      "execution_count": null,
      "outputs": []
    }
  ]
}