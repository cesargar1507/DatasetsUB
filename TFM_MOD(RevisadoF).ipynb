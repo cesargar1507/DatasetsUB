{
  "nbformat": 4,
  "nbformat_minor": 0,
  "metadata": {
    "colab": {
      "provenance": []
    },
    "kernelspec": {
      "name": "ir",
      "display_name": "R"
    },
    "language_info": {
      "name": "R"
    }
  },
  "cells": [
    {
      "cell_type": "code",
      "execution_count": null,
      "metadata": {
        "id": "NXvNrUprHSkt",
        "outputId": "ecc65b60-9fb0-4576-9441-34020f7f7063",
        "colab": {
          "base_uri": "https://localhost:8080/"
        }
      },
      "outputs": [
        {
          "metadata": {
            "tags": null
          },
          "name": "stderr",
          "output_type": "stream",
          "text": [
            "\n",
            "Attaching package: ‘dplyr’\n",
            "\n",
            "\n",
            "The following objects are masked from ‘package:stats’:\n",
            "\n",
            "    filter, lag\n",
            "\n",
            "\n",
            "The following objects are masked from ‘package:base’:\n",
            "\n",
            "    intersect, setdiff, setequal, union\n",
            "\n",
            "\n",
            "Installing package into ‘/usr/local/lib/R/site-library’\n",
            "(as ‘lib’ is unspecified)\n",
            "\n",
            "also installing the dependencies ‘listenv’, ‘parallelly’, ‘future’, ‘globals’, ‘shape’, ‘future.apply’, ‘numDeriv’, ‘progressr’, ‘SQUAREM’, ‘diagram’, ‘lava’, ‘prodlim’, ‘proxy’, ‘iterators’, ‘clock’, ‘gower’, ‘hardhat’, ‘ipred’, ‘timeDate’, ‘e1071’, ‘foreach’, ‘ModelMetrics’, ‘plyr’, ‘pROC’, ‘recipes’, ‘reshape2’\n",
            "\n",
            "\n"
          ]
        }
      ],
      "source": [
        "library(dplyr)\n",
        "library(readr)\n",
        "install.packages(\"caret\")\n",
        "library(caret)\n",
        "install.packages(\"ggplot2\")\n",
        "library(ggplot2)\n",
        "install.packages(\"randomForest\")\n",
        "library(randomForest)\n",
        "library(lubridate)"
      ]
    },
    {
      "cell_type": "code",
      "source": [
        "# Instalar y cargar las bibliotecas necesarias\n",
        "install.packages(\"googledrive\")\n",
        "library(googledrive)"
      ],
      "metadata": {
        "id": "CDiBiGVgNH5p"
      },
      "execution_count": null,
      "outputs": []
    },
    {
      "cell_type": "code",
      "source": [
        "# Autenticarse con Google Drive\n",
        "drive_auth()"
      ],
      "metadata": {
        "id": "VlTTd6glNKsf"
      },
      "execution_count": null,
      "outputs": []
    },
    {
      "cell_type": "code",
      "source": [
        "# Especificar el ID del archivo y la ruta de destino\n",
        "file_id <- \"https://drive.google.com/file/d/1WDRKvrZrvSlQa8qNgUCoGwEyepYNm3dz/view?usp=drivesdk\"  # Reemplaza este ID con el ID de tu archivo\n",
        "drive_download(as_id(file_id), path = \"archivo.csv\", overwrite = TRUE)"
      ],
      "metadata": {
        "id": "zpilSoL7NNH3"
      },
      "execution_count": null,
      "outputs": []
    },
    {
      "cell_type": "code",
      "source": [
        "# Leer el archivo CSV desde la URL\n",
        "urlAge <- \"https://raw.githubusercontent.com/cesargar1507/DatasetsUB/main/machine_age.csv\"\n",
        "urlMechanic <- \"https://raw.githubusercontent.com/cesargar1507/DatasetsUB/main/mechanic_antiquity.csv\"\n",
        "df <- read_csv(\"archivo.csv\", show_col_types = FALSE)\n",
        "df_age <- read_csv(urlAge, show_col_types = FALSE)\n",
        "df_mechanic <- read_csv(urlMechanic, show_col_types = FALSE)"
      ],
      "metadata": {
        "id": "p7Ac95EBV6df"
      },
      "execution_count": null,
      "outputs": []
    },
    {
      "cell_type": "code",
      "source": [
        "summary(df)"
      ],
      "metadata": {
        "id": "z2sxgjL5cMt_"
      },
      "execution_count": null,
      "outputs": []
    },
    {
      "cell_type": "code",
      "source": [
        "head(df,5)"
      ],
      "metadata": {
        "id": "qzZX5SgOtE09"
      },
      "execution_count": null,
      "outputs": []
    },
    {
      "cell_type": "markdown",
      "source": [
        "**LIMPIEZA DE DATOS**"
      ],
      "metadata": {
        "id": "nU5ZKD4XRfX7"
      }
    },
    {
      "cell_type": "code",
      "source": [
        "sapply(df, function(x) sum(is.na(x)))\n",
        "#Fiabilidad suficiente para continuar con el trabajo"
      ],
      "metadata": {
        "id": "ttjLXcMWRvy5"
      },
      "execution_count": null,
      "outputs": []
    },
    {
      "cell_type": "code",
      "source": [
        "# Remover el símbolo de dólar y las comas, y convertir a float\n",
        "df$parts_cost <- as.numeric(gsub(\"[\\\\$,()]\", \"\", df$parts_cost))"
      ],
      "metadata": {
        "id": "IfrIeddmGwIo"
      },
      "execution_count": null,
      "outputs": []
    },
    {
      "cell_type": "code",
      "source": [
        "# Convertir la columna 'Date' al formato adecuado\n",
        "df$date <- as.Date(df$date, format=\"%m/%d/%Y\")  # Ajusta el formato según tus datos\n",
        "# Ordenar el DataFrame por fecha\n",
        "df <- df %>%\n",
        "  arrange(date)"
      ],
      "metadata": {
        "id": "ss5BYMi8Vtvl"
      },
      "execution_count": null,
      "outputs": []
    },
    {
      "cell_type": "code",
      "source": [
        "mean(df$downtime_gross < 0)"
      ],
      "metadata": {
        "id": "bqrYJi1Ksvn-"
      },
      "execution_count": null,
      "outputs": []
    },
    {
      "cell_type": "code",
      "source": [
        "# Filtrar registros donde downtimeGross no sea negativo\n",
        "df <- df %>%\n",
        "  filter(downtime_gross >= 0)"
      ],
      "metadata": {
        "id": "oOqbbJuhkqTH"
      },
      "execution_count": null,
      "outputs": []
    },
    {
      "cell_type": "code",
      "source": [
        "mean(df$repair_hours < 0)"
      ],
      "metadata": {
        "id": "gofP8VjtS_l7"
      },
      "execution_count": null,
      "outputs": []
    },
    {
      "cell_type": "code",
      "source": [
        "#Eliminar columnas que no seran utilizadas\n",
        "df <- select(df, -problem_code, -failure_code, -cause_code, -action_code, -pit_coverage, -real_downtime, -waiting_hours)\n",
        "#Se han eliminado codigos y variables calculadas"
      ],
      "metadata": {
        "id": "FZkbiV-4SiWB"
      },
      "execution_count": null,
      "outputs": []
    },
    {
      "cell_type": "code",
      "source": [
        "# Filtrar el DataFrame por 'WO Type' igual a 'Corrective Maintenance'\n",
        "df <- df %>%\n",
        "  filter(`wo_type` == \"Corrective Maintenance\")\n",
        "#Colocar comentario de por qué el filtro, colocar que tecnicas pueden aplicarse y cuales no, colocar en apartado diferente"
      ],
      "metadata": {
        "id": "LjrIm4bfXcHx"
      },
      "execution_count": null,
      "outputs": []
    },
    {
      "cell_type": "code",
      "source": [
        "# Calcular la diferencia en días entre fechas consecutivas\n",
        "df <- df %>%\n",
        "  group_by(equipment) %>%\n",
        "  mutate(Days_Between_Failures = difftime(date, lag(date), units = \"days\"))\n",
        "\n",
        "# Reemplazar los valores NA en Days_Between_Failures\n",
        "df$Days_Between_Failures[is.na(df$Days_Between_Failures)] <- as.numeric(difftime(df$date[is.na(df$Days_Between_Failures)], as.Date(\"2023-01-01\"), units = \"days\"))"
      ],
      "metadata": {
        "id": "82Hp91p7aia4"
      },
      "execution_count": null,
      "outputs": []
    },
    {
      "cell_type": "code",
      "source": [
        "# Convertir 'Days_Between_Failures' a numeric\n",
        "df$Days_Between_Failures <- as.numeric(df$Days_Between_Failures, units = \"days\")"
      ],
      "metadata": {
        "id": "lkjfo3ZWc3iI"
      },
      "execution_count": null,
      "outputs": []
    },
    {
      "cell_type": "code",
      "source": [
        "#Cambio de nombre de mecánico cuyo nombre está escrito de dos formas\n",
        "df <- df %>%\n",
        "  mutate(mechanic = ifelse(mechanic == \"GALEAS PEREZ EDWIN ROGELIO\", \"Edwin Rogelio Galeas Perez\", mechanic))"
      ],
      "metadata": {
        "id": "x_irucm4xXiW"
      },
      "execution_count": null,
      "outputs": []
    },
    {
      "cell_type": "code",
      "source": [
        "# Calcular la tabla de frecuencias de cause_desc\n",
        "freq_cause_desc <- table(df$cause_desc)\n",
        "\n",
        "# Ordenar las frecuencias de menor a mayor\n",
        "freq_sorted_cause <- sort(freq_cause_desc)\n",
        "\n",
        "# Calcular la frecuencia relativa acumulada\n",
        "freq_relative_cause <- cumsum(freq_sorted_cause) / sum(freq_sorted_cause)\n",
        "\n",
        "# Definir umbral de frecuencia acumulada\n",
        "umbral <- 0.2\n",
        "\n",
        "# Identificar categorías con frecuencia relativa acumulada menor que el umbral\n",
        "categorias_baja_frecuencia_cause <- names(freq_sorted_cause[freq_relative_cause < umbral])\n",
        "\n",
        "# Reemplazar categorías con baja frecuencia por \"Otros\"\n",
        "df$cause_desc[df$cause_desc %in% categorias_baja_frecuencia_cause] <- \"Misadjusted machine head looper / Enlazador de cabezal desajustado\""
      ],
      "metadata": {
        "id": "V0jxYl4hkEYa"
      },
      "execution_count": null,
      "outputs": []
    },
    {
      "cell_type": "code",
      "source": [
        "# Calcular la tabla de frecuencias de action_desc\n",
        "freq_action_desc <- table(df$action_desc)\n",
        "\n",
        "# Ordenar las frecuencias de menor a mayor\n",
        "freq_sorted_action <- sort(freq_action_desc)\n",
        "\n",
        "# Calcular la frecuencia relativa acumulada\n",
        "freq_relative_action <- cumsum(freq_sorted_action) / sum(freq_sorted_action)\n",
        "\n",
        "# Definir umbral de frecuencia acumulada\n",
        "umbral <- 0.2\n",
        "\n",
        "# Identificar categorías con frecuencia relativa acumulada menor que el umbral\n",
        "categorias_baja_frecuencia_action <- names(freq_sorted_action[freq_relative_action < umbral])\n",
        "\n",
        "# Reemplazar categorías con baja frecuencia por \"Otros\"\n",
        "df$action_desc[df$action_desc %in% categorias_baja_frecuencia_action] <- \"Adjust machine head looper / Ajustar enlazador de cabezal\""
      ],
      "metadata": {
        "id": "ZUAclR8IkrvB"
      },
      "execution_count": null,
      "outputs": []
    },
    {
      "cell_type": "code",
      "source": [
        "# Calcular la tabla de frecuencias de operation\n",
        "freq_operation <- table(df$operation)\n",
        "\n",
        "# Ordenar las frecuencias de menor a mayor\n",
        "freq_sorted_operation <- sort(freq_operation)\n",
        "\n",
        "# Calcular la frecuencia relativa acumulada\n",
        "freq_relative_operation <- cumsum(freq_sorted_operation) / sum(freq_sorted_operation)\n",
        "\n",
        "# Definir umbral de frecuencia acumulada\n",
        "umbral <- 0.1\n",
        "\n",
        "# Identificar categorías con frecuencia relativa acumulada menor que el umbral\n",
        "categorias_baja_frecuencia_operation <- names(freq_sorted_operation[freq_relative_operation < umbral])\n",
        "\n",
        "# Reemplazar categorías con baja frecuencia por \"Otros\"\n",
        "df$operation[df$operation %in% categorias_baja_frecuencia_operation] <- \"Otros\""
      ],
      "metadata": {
        "id": "1KCaLzccmT0k"
      },
      "execution_count": null,
      "outputs": []
    },
    {
      "cell_type": "code",
      "source": [
        "# Calcular la tabla de frecuencias de mechanic\n",
        "freq_mechanic <- table(df$mechanic)\n",
        "\n",
        "# Ordenar las frecuencias de menor a mayor\n",
        "freq_sorted_mechanic <- sort(freq_mechanic)\n",
        "\n",
        "# Calcular la frecuencia relativa acumulada\n",
        "freq_relative_mechanic <- cumsum(freq_sorted_mechanic) / sum(freq_sorted_mechanic)\n",
        "\n",
        "# Definir umbral de frecuencia acumulada\n",
        "umbral <- 0.2\n",
        "\n",
        "# Identificar categorías con frecuencia relativa acumulada menor que el umbral\n",
        "categorias_baja_frecuencia_mechanic <- names(freq_sorted_mechanic[freq_relative_mechanic < umbral])\n",
        "\n",
        "# Reemplazar categorías con baja frecuencia por \"Otros\"\n",
        "df$mechanic[df$mechanic %in% categorias_baja_frecuencia_mechanic] <- \"Otros\""
      ],
      "metadata": {
        "id": "oewAwD9Lmley"
      },
      "execution_count": null,
      "outputs": []
    },
    {
      "cell_type": "code",
      "source": [
        "# Calcular la tabla de frecuencias de base_model\n",
        "freq_model <- table(df$base_model)\n",
        "\n",
        "# Ordenar las frecuencias de menor a mayor\n",
        "freq_sorted_model <- sort(freq_model)\n",
        "\n",
        "# Calcular la frecuencia relativa acumulada\n",
        "freq_relative_model <- cumsum(freq_sorted_model) / sum(freq_sorted_model)\n",
        "\n",
        "# Definir umbral de frecuencia acumulada\n",
        "umbral <- 0.2\n",
        "\n",
        "# Identificar categorías con frecuencia relativa acumulada menor que el umbral\n",
        "categorias_baja_frecuencia_model <- names(freq_sorted_model[freq_relative_model < umbral])\n",
        "\n",
        "# Reemplazar categorías con baja frecuencia por \"Otros\"\n",
        "df$base_model[df$base_model %in% categorias_baja_frecuencia_model] <- \"Otros\""
      ],
      "metadata": {
        "id": "ar29uk-ipEEW"
      },
      "execution_count": null,
      "outputs": []
    },
    {
      "cell_type": "code",
      "source": [
        "# Calcular la tabla de frecuencias de problem_desc\n",
        "freq_problem <- table(df$problem_desc)\n",
        "\n",
        "# Ordenar las frecuencias de menor a mayor\n",
        "freq_sorted_problem <- sort(freq_problem)\n",
        "\n",
        "# Calcular la frecuencia relativa acumulada\n",
        "freq_relative_problem <- cumsum(freq_sorted_problem) / sum(freq_sorted_problem)\n",
        "\n",
        "# Definir umbral de frecuencia acumulada\n",
        "umbral <- 0.2\n",
        "\n",
        "# Identificar categorías con frecuencia relativa acumulada menor que el umbral\n",
        "categorias_baja_frecuencia_problem <- names(freq_sorted_problem[freq_relative_problem < umbral])\n",
        "\n",
        "# Reemplazar categorías con baja frecuencia por \"Otros\"\n",
        "df$problem_desc[df$problem_desc %in% categorias_baja_frecuencia_problem] <- \"Otros\""
      ],
      "metadata": {
        "id": "QG3Xgj0BqI2_"
      },
      "execution_count": null,
      "outputs": []
    },
    {
      "cell_type": "code",
      "source": [
        "# Calcular la tabla de frecuencias de failure_desc\n",
        "freq_failure <- table(df$failure_desc)\n",
        "\n",
        "# Ordenar las frecuencias de menor a mayor\n",
        "freq_sorted_failure <- sort(freq_failure)\n",
        "\n",
        "# Calcular la frecuencia relativa acumulada\n",
        "freq_relative_failure <- cumsum(freq_sorted_failure) / sum(freq_sorted_failure)\n",
        "\n",
        "# Definir umbral de frecuencia acumulada\n",
        "umbral <- 0.2\n",
        "\n",
        "# Identificar categorías con frecuencia relativa acumulada menor que el umbral\n",
        "categorias_baja_frecuencia_failure <- names(freq_sorted_failure[freq_relative_failure < umbral])\n",
        "\n",
        "# Reemplazar categorías con baja frecuencia por \"Otros\"\n",
        "df$failure_desc[df$failure_desc %in% categorias_baja_frecuencia_failure] <- \"Otros\""
      ],
      "metadata": {
        "id": "Hi-CQmVYqzzF"
      },
      "execution_count": null,
      "outputs": []
    },
    {
      "cell_type": "code",
      "source": [
        "#Convertir horas a minutos\n",
        "df$downtime_gross <-df$downtime_gross*60"
      ],
      "metadata": {
        "id": "WMurWA3vB5zR"
      },
      "execution_count": null,
      "outputs": []
    },
    {
      "cell_type": "code",
      "source": [
        "#Convertir horas a minutos\n",
        "df$repair_hours <-df$repair_hours*60"
      ],
      "metadata": {
        "id": "SNfz8tI4FbMZ"
      },
      "execution_count": null,
      "outputs": []
    },
    {
      "cell_type": "markdown",
      "source": [
        "**ANALISIS DE VARIABLES**"
      ],
      "metadata": {
        "id": "P4kKVEF1Rs6t"
      }
    },
    {
      "cell_type": "code",
      "source": [
        "dim(df)"
      ],
      "metadata": {
        "id": "ufkTTqfldMbg"
      },
      "execution_count": null,
      "outputs": []
    },
    {
      "cell_type": "markdown",
      "source": [
        "**Variable \"Operación\"**"
      ],
      "metadata": {
        "id": "btd4X3WvdR81"
      }
    },
    {
      "cell_type": "code",
      "source": [
        "# Calcular la frecuencia de cada operación\n",
        "operation_freq <- df %>%\n",
        "  group_by(operation) %>%\n",
        "  summarise(count = n()) %>%\n",
        "  arrange(desc(count))\n",
        "\n",
        "# Calcular la frecuencia relativa\n",
        "operation_freq <- operation_freq %>%\n",
        "  mutate(relative_freq = count / sum(count))\n",
        "\n",
        "operation_freq"
      ],
      "metadata": {
        "id": "_ceeX9_wEfXc"
      },
      "execution_count": null,
      "outputs": []
    },
    {
      "cell_type": "code",
      "source": [
        "# Ordenar los datos por frecuencia descendente\n",
        "operation_freq <- operation_freq %>%\n",
        "  arrange(desc(count))\n",
        "\n",
        "options(repr.plot.width=17, repr.plot.height=8)\n",
        "\n",
        "ggplot(operation_freq, aes(y = reorder(operation, count), x = count)) +\n",
        "  geom_bar(stat = \"identity\", fill = 'skyblue') +\n",
        "  geom_text(aes(label = paste0(round(relative_freq * 100, 1), \"%\")), vjust = -0.5, hjust = 0) +\n",
        "  labs(title = \"Frecuencia relativa de operaciones con más fallos\",\n",
        "       y = \"Problema\",\n",
        "       x = \"Cantidad\") +\n",
        "  theme_minimal() +\n",
        "  theme(axis.text.x = element_text(angle = 45, hjust = 1),\n",
        "        axis.text.y = element_text(size = 12))"
      ],
      "metadata": {
        "id": "61YaB4AqXI4T"
      },
      "execution_count": null,
      "outputs": []
    },
    {
      "cell_type": "markdown",
      "source": [
        "**Variable \"problem_desc\"**"
      ],
      "metadata": {
        "id": "P4Sxra9vdXIA"
      }
    },
    {
      "cell_type": "code",
      "source": [
        "# Calcular la frecuencia de problemas de maquinaria\n",
        "problem_freq <- df %>%\n",
        "  group_by(problem_desc) %>%\n",
        "  summarise(count = n()) %>%\n",
        "  arrange(desc(count))\n",
        "\n",
        "# Calcular la frecuencia relativa\n",
        "problem_freq <- problem_freq %>%\n",
        "  mutate(relative_freq = count / sum(count))\n",
        "\n",
        "problem_freq"
      ],
      "metadata": {
        "id": "VvgFq4Yep2ku"
      },
      "execution_count": null,
      "outputs": []
    },
    {
      "cell_type": "code",
      "source": [
        "# Ordenar los datos por frecuencia descendente\n",
        "problem_freq <- problem_freq %>%\n",
        "  arrange(desc(count))\n",
        "\n",
        "options(repr.plot.width=17, repr.plot.height=6)\n",
        "\n",
        "ggplot(problem_freq, aes(y = reorder(problem_desc, count), x = count)) +\n",
        "  geom_bar(stat = \"identity\", fill = 'skyblue') +\n",
        "  geom_text(aes(label = paste0(round(relative_freq * 100, 1), \"%\")), vjust = -0.5, hjust = 0) +\n",
        "  labs(title = \"Frecuencia relativa de problemas de maquinaria\",\n",
        "       y = \"Problema\",\n",
        "       x = \"Cantidad\") +\n",
        "  theme_minimal() +\n",
        "  theme(axis.text.x = element_text(angle = 45, hjust = 1),\n",
        "        axis.text.y = element_text(size = 12))"
      ],
      "metadata": {
        "id": "gx5rHH5BVEBM"
      },
      "execution_count": null,
      "outputs": []
    },
    {
      "cell_type": "markdown",
      "source": [
        "**Variable \"failure_desc\"**"
      ],
      "metadata": {
        "id": "ecE-YE8KdecU"
      }
    },
    {
      "cell_type": "code",
      "source": [
        "# Calcular la frecuencia de fallos de maquinaria\n",
        "failure_freq <- df %>%\n",
        "  group_by(failure_desc) %>%\n",
        "  summarise(count = n()) %>%\n",
        "  arrange(desc(count))\n",
        "\n",
        "# Calcular la frecuencia relativa\n",
        "failure_freq <- failure_freq %>%\n",
        "  mutate(relative_freq = count / sum(count))\n",
        "\n",
        "failure_freq"
      ],
      "metadata": {
        "id": "rTfbZm9qqomH"
      },
      "execution_count": null,
      "outputs": []
    },
    {
      "cell_type": "code",
      "source": [
        "# Ordenar los datos por frecuencia descendente\n",
        "failure_freq <- failure_freq %>%\n",
        "  arrange(desc(count))\n",
        "\n",
        "options(repr.plot.width=17, repr.plot.height=6)\n",
        "\n",
        "ggplot(failure_freq, aes(y = reorder(failure_desc, count), x = count)) +\n",
        "  geom_bar(stat = \"identity\", fill = 'skyblue') +\n",
        "  geom_text(aes(label = paste0(round(relative_freq * 100, 1), \"%\")), vjust = -0.5, hjust = 0) +  # Etiquetas de porcentaje acumulado\n",
        "  labs(title = \"Frecuencia relativa de fallos\",\n",
        "       y = \"Problema\",\n",
        "       x = \"Cantidad\") +\n",
        "  theme_minimal() +\n",
        "  theme(axis.text.x = element_text(angle = 45, hjust = 1),\n",
        "        axis.text.y = element_text(size = 12))\n",
        "        #Colocar top 3 con frecuencia relativa"
      ],
      "metadata": {
        "id": "WaI9bflOVnmZ"
      },
      "execution_count": null,
      "outputs": []
    },
    {
      "cell_type": "markdown",
      "source": [
        "**Variable \"cause_desc\"**"
      ],
      "metadata": {
        "id": "r3vwEy94djV7"
      }
    },
    {
      "cell_type": "code",
      "source": [
        "# Calcular la frecuencia de causas de fallo\n",
        "cause_freq <- df %>%\n",
        "  group_by(cause_desc) %>%\n",
        "  summarise(count = n()) %>%\n",
        "  arrange(desc(count))\n",
        "\n",
        "# Calcular la frecuencia relativa\n",
        "cause_freq <- cause_freq %>%\n",
        "  mutate(relative_freq = count / sum(count))\n",
        "\n",
        "cause_freq"
      ],
      "metadata": {
        "id": "NGaNNZ6KVp5r"
      },
      "execution_count": null,
      "outputs": []
    },
    {
      "cell_type": "code",
      "source": [
        "# Ordenar los datos por frecuencia descendente\n",
        "cause_freq <- cause_freq %>%\n",
        "  arrange(desc(count))\n",
        "\n",
        "options(repr.plot.width=17, repr.plot.height=12)\n",
        "\n",
        "ggplot(cause_freq, aes(y = reorder(cause_desc, count), x = count)) +\n",
        "  geom_bar(stat = \"identity\", fill = 'skyblue') +\n",
        "  geom_text(aes(label = paste0(round(relative_freq * 100, 1), \"%\")), vjust = -0.5, hjust = 0) +  # Etiquetas de porcentaje acumulado\n",
        "  labs(title = \"Frecuencia relativa de causa de fallos\",\n",
        "       y = \"Problema\",\n",
        "       x = \"Cantidad\") +\n",
        "  theme_minimal() +\n",
        "  theme(axis.text.x = element_text(angle = 45, hjust = 1),\n",
        "        axis.text.y = element_text(size = 12))"
      ],
      "metadata": {
        "id": "WrDVHTrJmi98"
      },
      "execution_count": null,
      "outputs": []
    },
    {
      "cell_type": "markdown",
      "source": [
        "**Variable \"action_desc\"**"
      ],
      "metadata": {
        "id": "TK34lSTddn0P"
      }
    },
    {
      "cell_type": "code",
      "source": [
        "# Calcular la frecuencia de acciones correctivas\n",
        "action_freq <- df %>%\n",
        "  group_by(action_desc) %>%\n",
        "  summarise(count = n()) %>%\n",
        "  arrange(desc(count))\n",
        "\n",
        "# Calcular la frecuencia relativa\n",
        "action_freq <- action_freq %>%\n",
        "  mutate(relative_freq = count / sum(count))\n",
        "\n",
        "action_freq"
      ],
      "metadata": {
        "id": "GAwaYZaSWNmD"
      },
      "execution_count": null,
      "outputs": []
    },
    {
      "cell_type": "code",
      "source": [
        "# Ordenar los datos por frecuencia descendente\n",
        "action_freq <- action_freq %>%\n",
        "  arrange(desc(count))\n",
        "\n",
        "options(repr.plot.width=17, repr.plot.height=12)\n",
        "\n",
        "ggplot(action_freq, aes(y = reorder(action_desc, count), x = count)) +\n",
        "  geom_bar(stat = \"identity\", fill = 'skyblue') +\n",
        "  geom_text(aes(label = paste0(round(relative_freq * 100, 1), \"%\")), vjust = -0.5, hjust = 0) +  # Etiquetas de porcentaje acumulado\n",
        "  labs(title = \"Frecuencia relativa de acciones correctivas\",\n",
        "       y = \"Problema\",\n",
        "       x = \"Cantidad\") +\n",
        "  theme_minimal() +\n",
        "  theme(axis.text.x = element_text(angle = 45, hjust = 1),\n",
        "        axis.text.y = element_text(size = 12))"
      ],
      "metadata": {
        "id": "ayFHnVlgWVBh"
      },
      "execution_count": null,
      "outputs": []
    },
    {
      "cell_type": "markdown",
      "source": [
        "**Variable \"mechanic\"**"
      ],
      "metadata": {
        "id": "wiwot5Ptdr4c"
      }
    },
    {
      "cell_type": "code",
      "source": [
        "# Calcular la frecuencia de fallos resueltos por mecánicos\n",
        "mechanic_freq <- df %>%\n",
        "  group_by(mechanic) %>%\n",
        "  summarise(count = n()) %>%\n",
        "  arrange(desc(count))\n",
        "\n",
        "# Calcular la frecuencia relativa\n",
        "mechanic_freq <- mechanic_freq %>%\n",
        "  mutate(relative_freq = count / sum(count))\n",
        "\n",
        "mechanic_freq"
      ],
      "metadata": {
        "id": "X6SGcfGNa4CA"
      },
      "execution_count": null,
      "outputs": []
    },
    {
      "cell_type": "markdown",
      "source": [
        "**Variable \"repair_hours\"**"
      ],
      "metadata": {
        "id": "h3eu_Sbhdu9-"
      }
    },
    {
      "cell_type": "code",
      "source": [
        "# Crear el boxplot de repair_hours\n",
        "ggplot(df, aes(y = repair_hours)) +\n",
        "  geom_boxplot(fill = 'skyblue', color = 'black') +\n",
        "  labs(title = 'Boxplot de repair time',\n",
        "       y = 'Minutos de reparación') +\n",
        "  theme_minimal()"
      ],
      "metadata": {
        "id": "9KmrANMLYUpY"
      },
      "execution_count": null,
      "outputs": []
    },
    {
      "cell_type": "code",
      "source": [
        "# Crear el boxplot de repair_hours y ajustar los límites del eje y\n",
        "ggplot(df, aes(y = repair_hours)) +\n",
        "  geom_boxplot(fill = 'skyblue', color = 'black', outlier.shape = NA) +\n",
        "  labs(title = 'Boxplot de repair time', y = 'Minutos de reparación') +\n",
        "  theme_minimal() +\n",
        "  coord_cartesian(ylim = c(0, 130))"
      ],
      "metadata": {
        "id": "hcRxCtgnd0Sx"
      },
      "execution_count": null,
      "outputs": []
    },
    {
      "cell_type": "code",
      "source": [
        "# Calcular los outliers\n",
        "outlier_threshold <- quantile(df$repair_hours, 0.95)\n",
        "\n",
        "# Identificar outliers\n",
        "df$outlier <- ifelse(df$repair_hours > outlier_threshold, TRUE, FALSE)\n",
        "\n",
        "# Convertir Date a formato de fecha\n",
        "df$date <- as.Date(df$date)\n",
        "\n",
        "# Agrupar por mes y contar la frecuencia de outliers\n",
        "df_outliers <- df %>%\n",
        "  mutate(Month = month(date, label = TRUE)) %>%\n",
        "  group_by(Month) %>%\n",
        "  summarise(Outliers = sum(outlier))\n",
        "\n",
        "# Crear un gráfico de barras de la frecuencia de outliers por mes\n",
        "ggplot(df_outliers, aes(x = Month, y = Outliers)) +\n",
        "  geom_bar(stat = \"identity\", fill = 'skyblue', color = 'black') +\n",
        "  labs(title = 'Frecuencia de Outliers por Mes',\n",
        "       x = 'Mes',\n",
        "       y = 'Cantidad de Outliers') +\n",
        "  theme_minimal()"
      ],
      "metadata": {
        "id": "Quznd36MZl5U"
      },
      "execution_count": null,
      "outputs": []
    },
    {
      "cell_type": "markdown",
      "source": [
        "**Variable \"parts cost\"**"
      ],
      "metadata": {
        "id": "qFmN5VFtfoZk"
      }
    },
    {
      "cell_type": "code",
      "source": [
        "# Crear el boxplot de costo de partes\n",
        "ggplot(df, aes(y = parts_cost)) +\n",
        "  geom_boxplot(fill = 'skyblue', color = 'black') +\n",
        "  labs(title = 'Boxplot de parts cost',\n",
        "       y = 'Costo') +\n",
        "  theme_minimal()"
      ],
      "metadata": {
        "id": "Zjt4gkdBf9Lh"
      },
      "execution_count": null,
      "outputs": []
    },
    {
      "cell_type": "code",
      "source": [
        "ggplot(df, aes(y = parts_cost)) +\n",
        "  geom_boxplot(fill = 'skyblue', color = 'black', outlier.shape = NA) +\n",
        "  labs(title = 'Boxplot de parts cost',\n",
        "       y = 'Costo') +\n",
        "  theme_minimal() +\n",
        "  ylim(0, 50)"
      ],
      "metadata": {
        "id": "qKdm6TKTfrtF"
      },
      "execution_count": null,
      "outputs": []
    },
    {
      "cell_type": "markdown",
      "source": [
        "**ANALISIS DE VARIABLE OBJETIVO \"DOWNTIME GROSS\"**"
      ],
      "metadata": {
        "id": "uaTdHyHqabIq"
      }
    },
    {
      "cell_type": "code",
      "source": [
        "# Histograma de 'downtimeGross'\n",
        "hist_downtimeGross <- ggplot(df, aes(x = downtime_gross)) +\n",
        "  geom_histogram(binwidth = 10, fill = \"green\", color = \"black\", alpha = 0.7) +\n",
        "  labs(title = \"Histograma de Downtime Bruto\",\n",
        "       x = \"Downtime Bruto (minutos)\",\n",
        "       y = \"Frecuencia\") +\n",
        "  theme_minimal()\n",
        "\n",
        "# Mostrar histogramas\n",
        "print(hist_downtimeGross)"
      ],
      "metadata": {
        "id": "pX3O1eGXcMZL"
      },
      "execution_count": null,
      "outputs": []
    },
    {
      "cell_type": "code",
      "source": [
        "# Crear el boxplot de downtime gross\n",
        "ggplot(df, aes(y = downtime_gross)) +\n",
        "  geom_boxplot(fill = 'skyblue', color = 'black') +\n",
        "  labs(title = 'Boxplot de downtime gross',\n",
        "       y = 'Minutos') +\n",
        "  theme_minimal()"
      ],
      "metadata": {
        "id": "6gEeaGnifdRR"
      },
      "execution_count": null,
      "outputs": []
    },
    {
      "cell_type": "code",
      "source": [
        "# Crear el boxplot de downtime gross\n",
        "ggplot(df, aes(y = downtime_gross)) +\n",
        "  geom_boxplot(fill = 'skyblue', color = 'black', outlier.shape = NA) +\n",
        "  labs(title = 'Boxplot de downtime gross',\n",
        "       y = 'Minutos') +\n",
        "  theme_minimal() + coord_cartesian(ylim = c(0, 300))"
      ],
      "metadata": {
        "id": "pn4a06xQXhJW"
      },
      "execution_count": null,
      "outputs": []
    },
    {
      "cell_type": "code",
      "source": [
        "outlier_threshold <- quantile(df$downtime_gross, 0.95)\n",
        "\n",
        "# Identificar outliers\n",
        "df$outlier <- ifelse(df$downtime_gross > outlier_threshold, TRUE, FALSE)\n",
        "\n",
        "# Convertir Date a formato de fecha\n",
        "df$date <- as.Date(df$date)\n",
        "\n",
        "# Agrupar por mes y contar la frecuencia de outliers\n",
        "df_outliers <- df %>%\n",
        "  mutate(Month = month(date, label = TRUE)) %>%\n",
        "  group_by(Month) %>%\n",
        "  summarise(Outliers = sum(outlier))\n",
        "\n",
        "# Crear un gráfico de barras de la frecuencia de outliers por mes\n",
        "ggplot(df_outliers, aes(x = Month, y = Outliers)) +\n",
        "  geom_bar(stat = \"identity\", fill = 'skyblue', color = 'black') +\n",
        "  labs(title = 'Frecuencia de Outliers de Downtime Gross por Mes',\n",
        "       x = 'Mes',\n",
        "       y = 'Cantidad de Outliers') +\n",
        "  theme_minimal()"
      ],
      "metadata": {
        "id": "I55hzrMYfPfX"
      },
      "execution_count": null,
      "outputs": []
    },
    {
      "cell_type": "markdown",
      "source": [
        "**GLM INICIAL PARA PREDECIR DOWNTIME**\n",
        "\n"
      ],
      "metadata": {
        "id": "YYWc2PhqQL_7"
      }
    },
    {
      "cell_type": "code",
      "source": [
        "df <- select(df, -wo_type, -outlier)\n",
        "#Comparar con un glm"
      ],
      "metadata": {
        "id": "zMojStQASpaL"
      },
      "execution_count": null,
      "outputs": []
    },
    {
      "cell_type": "code",
      "source": [
        "head(df,5)"
      ],
      "metadata": {
        "id": "xW557DNOma5T"
      },
      "execution_count": null,
      "outputs": []
    },
    {
      "cell_type": "code",
      "source": [
        "# Establecer una semilla para reproducibilidad\n",
        "set.seed(123)\n",
        "\n",
        "# Definir proporciones para entrenamiento, validación y prueba\n",
        "train_proportion <- 0.70\n",
        "validation_proportion <- 0.20\n",
        "test_proportion <- 0.10\n",
        "\n",
        "# Calcular tamaños de cada conjunto\n",
        "n <- nrow(df)\n",
        "n_train <- floor(train_proportion * n)\n",
        "n_validation <- floor(validation_proportion * n)\n",
        "n_test <- n - n_train - n_validation  # El resto para prueba\n",
        "\n",
        "# Crear índices para conjunto de entrenamiento, validación y prueba\n",
        "trainIndex <- sample(1:n, n_train)\n",
        "remaining <- setdiff(1:n, trainIndex)\n",
        "validationIndex <- sample(remaining, n_validation)\n",
        "testIndex <- setdiff(remaining, validationIndex)\n",
        "\n",
        "# Crear conjuntos de entrenamiento, validación y prueba\n",
        "train_data1 <- df[trainIndex, ]\n",
        "validation_data1 <- df[validationIndex, ]\n",
        "test_data1 <- df[testIndex, ]\n",
        "\n",
        "# Comprobar las dimensiones de cada conjunto\n",
        "cat(\"Dimensiones del conjunto de entrenamiento: \", dim(train_data1), \"\\n\")\n",
        "cat(\"Dimensiones del conjunto de validación: \", dim(validation_data1), \"\\n\")\n",
        "cat(\"Dimensiones del conjunto de prueba: \", dim(test_data1), \"\\n\")"
      ],
      "metadata": {
        "id": "urg65TgR_ZxF"
      },
      "execution_count": null,
      "outputs": []
    },
    {
      "cell_type": "code",
      "source": [
        "# Inicializar y ajustar el modelo de regresión lineal\n",
        "#Dividir en entrenamiento, test, validación por ejemplo 70,20,10\n",
        "start_time <- Sys.time()\n",
        "model1 <- glm(downtime_gross~. -equipment -downtime_gross -repair_hours -Days_Between_Failures -date -changed_pcs, data = train_data1)\n",
        "end_time <- Sys.time()\n",
        "training_time1 <- end_time - start_time\n",
        "training_time1\n",
        "# Resumen del modelo\n",
        "summary(model1)"
      ],
      "metadata": {
        "id": "bSJjlo6uIhBL"
      },
      "execution_count": null,
      "outputs": []
    },
    {
      "cell_type": "code",
      "source": [
        "# Predecir con el conjunto de validación\n",
        "validation_predictions <- predict(model1, newdata = validation_data1)\n",
        "\n",
        "# Calcular métricas de rendimiento para el conjunto de validación\n",
        "validation_actuals <- validation_data1$downtime_gross\n",
        "validation_rmse <- sqrt(mean((validation_predictions - validation_actuals)^2))\n",
        "validation_mae <- mean(abs(validation_predictions - validation_actuals))\n",
        "validation_r2 <- 1 - (sum((validation_predictions - validation_actuals)^2) / sum((validation_actuals - mean(validation_actuals))^2))\n",
        "\n",
        "cat(\"Validation RMSE: \", validation_rmse, \"\\n\")\n",
        "cat(\"Validation MAE: \", validation_mae, \"\\n\")\n",
        "cat(\"Validation R-squared: \", validation_r2, \"\\n\")"
      ],
      "metadata": {
        "id": "fWnPu92TbBE-"
      },
      "execution_count": null,
      "outputs": []
    },
    {
      "cell_type": "code",
      "source": [
        "# Predecir con el conjunto de prueba\n",
        "test_predictions <- predict(model1, newdata = test_data1)\n",
        "\n",
        "# Calcular métricas de rendimiento para el conjunto de prueba\n",
        "test_actuals <- test_data1$downtime_gross\n",
        "test_rmse <- sqrt(mean((test_predictions - test_actuals)^2))\n",
        "test_mae <- mean(abs(test_predictions - test_actuals))\n",
        "test_r2 <- 1 - (sum((test_predictions - test_actuals)^2) / sum((test_actuals - mean(test_actuals))^2))\n",
        "\n",
        "cat(\"Test RMSE: \", test_rmse, \"\\n\")\n",
        "cat(\"Test MAE: \", test_mae, \"\\n\")\n",
        "cat(\"Test R-squared: \", test_r2, \"\\n\")"
      ],
      "metadata": {
        "id": "xjnnY2PRiZVp"
      },
      "execution_count": null,
      "outputs": []
    },
    {
      "cell_type": "markdown",
      "source": [
        "**CALCULO DE VARIABLES PARA MEJORA DEL AJUSTE**"
      ],
      "metadata": {
        "id": "SgZxGsrHQUJl"
      }
    },
    {
      "cell_type": "code",
      "source": [
        "#Calcular los fallos acumulativos\n",
        "df <- df %>%\n",
        "  group_by(equipment) %>%\n",
        "  mutate(Cumulative_Failure_Count = row_number())"
      ],
      "metadata": {
        "id": "nTXK2CN1arF3"
      },
      "execution_count": null,
      "outputs": []
    },
    {
      "cell_type": "code",
      "source": [
        "# Calcular la mediana de tiempo de reparación\n",
        "df <- df %>%\n",
        "  group_by(equipment) %>%\n",
        "  mutate(Median_Repair_Time = median(repair_hours, na.rm = TRUE))"
      ],
      "metadata": {
        "id": "ay7pacmzayII"
      },
      "execution_count": null,
      "outputs": []
    },
    {
      "cell_type": "code",
      "source": [
        "# Calcular el costo acumulado de mantenimiento\n",
        "df <- df %>%\n",
        "  group_by(equipment) %>%\n",
        "  mutate(Cumulative_Maintenance_Cost = cumsum(parts_cost))"
      ],
      "metadata": {
        "id": "_eN_OS-pa8be"
      },
      "execution_count": null,
      "outputs": []
    },
    {
      "cell_type": "code",
      "source": [
        "# Establecer una semilla para reproducibilidad\n",
        "set.seed(123)\n",
        "\n",
        "# Definir proporciones para entrenamiento, validación y prueba\n",
        "train_proportion <- 0.70\n",
        "validation_proportion <- 0.20\n",
        "test_proportion <- 0.10\n",
        "\n",
        "# Calcular tamaños de cada conjunto\n",
        "n <- nrow(df)\n",
        "n_train <- floor(train_proportion * n)\n",
        "n_validation <- floor(validation_proportion * n)\n",
        "n_test <- n - n_train - n_validation  # El resto para prueba\n",
        "\n",
        "# Crear índices para conjunto de entrenamiento, validación y prueba\n",
        "trainIndex <- sample(1:n, n_train)\n",
        "remaining <- setdiff(1:n, trainIndex)\n",
        "validationIndex <- sample(remaining, n_validation)\n",
        "testIndex <- setdiff(remaining, validationIndex)\n",
        "\n",
        "# Crear conjuntos de entrenamiento, validación y prueba\n",
        "train_data2 <- df[trainIndex, ]\n",
        "validation_data2 <- df[validationIndex, ]\n",
        "test_data2 <- df[testIndex, ]\n",
        "\n",
        "# Comprobar las dimensiones de cada conjunto\n",
        "cat(\"Dimensiones del conjunto de entrenamiento: \", dim(train_data2), \"\\n\")\n",
        "cat(\"Dimensiones del conjunto de validación: \", dim(validation_data2), \"\\n\")\n",
        "cat(\"Dimensiones del conjunto de prueba: \", dim(test_data2), \"\\n\")"
      ],
      "metadata": {
        "id": "FBoXjtNkA6bP"
      },
      "execution_count": null,
      "outputs": []
    },
    {
      "cell_type": "markdown",
      "source": [
        "**GLM PARA PREDECIR DOWNTIME CON MAS VARIABLES**"
      ],
      "metadata": {
        "id": "wNC721DunCQG"
      }
    },
    {
      "cell_type": "code",
      "source": [
        "# Inicializar y ajustar el modelo de regresión lineal\n",
        "start_time <- Sys.time()\n",
        "model2 <- glm(downtime_gross~. -equipment -downtime_gross -repair_hours -date -changed_pcs, data = train_data2)\n",
        "end_time <- Sys.time()\n",
        "training_time2 <- end_time - start_time\n",
        "training_time2\n",
        "# Resumen del modelo\n",
        "summary(model2)"
      ],
      "metadata": {
        "id": "qtPJcI7SifTV"
      },
      "execution_count": null,
      "outputs": []
    },
    {
      "cell_type": "code",
      "source": [
        "# Predecir con el conjunto de validación\n",
        "validation_predictions <- predict(model2, newdata = validation_data2)\n",
        "\n",
        "# Calcular métricas de rendimiento para el conjunto de validación\n",
        "validation_actuals <- validation_data2$downtime_gross\n",
        "validation_rmse <- sqrt(mean((validation_predictions - validation_actuals)^2))\n",
        "validation_mae <- mean(abs(validation_predictions - validation_actuals))\n",
        "validation_r2 <- 1 - (sum((validation_predictions - validation_actuals)^2) / sum((validation_actuals - mean(validation_actuals))^2))\n",
        "\n",
        "cat(\"Validation RMSE: \", validation_rmse, \"\\n\")\n",
        "cat(\"Validation MAE: \", validation_mae, \"\\n\")\n",
        "cat(\"Validation R-squared: \", validation_r2, \"\\n\")"
      ],
      "metadata": {
        "id": "-HpUEi9YoJWH"
      },
      "execution_count": null,
      "outputs": []
    },
    {
      "cell_type": "code",
      "source": [
        "# Predecir con el conjunto de prueba (ya calculado, pero repitiendo para claridad)\n",
        "test_predictions <- predict(model2, newdata = test_data2)\n",
        "\n",
        "# Calcular métricas de rendimiento para el conjunto de prueba\n",
        "test_actuals <- test_data2$downtime_gross\n",
        "test_rmse <- sqrt(mean((test_predictions - test_actuals)^2))\n",
        "test_mae <- mean(abs(test_predictions - test_actuals))\n",
        "test_r2 <- 1 - (sum((test_predictions - test_actuals)^2) / sum((test_actuals - mean(test_actuals))^2))\n",
        "\n",
        "cat(\"Test RMSE: \", test_rmse, \"\\n\")\n",
        "cat(\"Test MAE: \", test_mae, \"\\n\")\n",
        "cat(\"Test R-squared: \", test_r2, \"\\n\")"
      ],
      "metadata": {
        "id": "-IOvIixsi0DY"
      },
      "execution_count": null,
      "outputs": []
    },
    {
      "cell_type": "markdown",
      "source": [
        "**MODELO AGREGANDO LA VARIABLE \"MACHINE AGE\"**"
      ],
      "metadata": {
        "id": "ErY-VFlBe-jz"
      }
    },
    {
      "cell_type": "code",
      "source": [
        "# Renombrar la columna 'Equipment' a 'equipment' en df_age\n",
        "df_age <- df_age %>% rename(equipment = Equipment)"
      ],
      "metadata": {
        "id": "5PLrak9YefvC"
      },
      "execution_count": null,
      "outputs": []
    },
    {
      "cell_type": "code",
      "source": [
        "df_merged <- df %>%\n",
        "  left_join(df_age %>% select(equipment, Age), by = \"equipment\")"
      ],
      "metadata": {
        "id": "rHg8j3dFNYjP"
      },
      "execution_count": null,
      "outputs": []
    },
    {
      "cell_type": "code",
      "source": [
        "head(df_merged,3)"
      ],
      "metadata": {
        "id": "IZsr48KyNdqq"
      },
      "execution_count": null,
      "outputs": []
    },
    {
      "cell_type": "code",
      "source": [
        "# Establecer una semilla para reproducibilidad\n",
        "set.seed(123)\n",
        "\n",
        "# Definir proporciones para entrenamiento, validación y prueba\n",
        "train_proportion <- 0.70\n",
        "validation_proportion <- 0.20\n",
        "test_proportion <- 0.10\n",
        "\n",
        "# Calcular tamaños de cada conjunto\n",
        "n <- nrow(df_merged)\n",
        "n_train <- floor(train_proportion * n)\n",
        "n_validation <- floor(validation_proportion * n)\n",
        "n_test <- n - n_train - n_validation  # El resto para prueba\n",
        "\n",
        "# Crear índices para conjunto de entrenamiento, validación y prueba\n",
        "trainIndex <- sample(1:n, n_train)\n",
        "remaining <- setdiff(1:n, trainIndex)\n",
        "validationIndex <- sample(remaining, n_validation)\n",
        "testIndex <- setdiff(remaining, validationIndex)\n",
        "\n",
        "# Crear conjuntos de entrenamiento, validación y prueba\n",
        "train_data3 <- df_merged[trainIndex, ]\n",
        "validation_data3 <- df_merged[validationIndex, ]\n",
        "test_data3 <- df_merged[testIndex, ]\n",
        "\n",
        "# Comprobar las dimensiones de cada conjunto\n",
        "cat(\"Dimensiones del conjunto de entrenamiento: \", dim(train_data3), \"\\n\")\n",
        "cat(\"Dimensiones del conjunto de validación: \", dim(validation_data3), \"\\n\")\n",
        "cat(\"Dimensiones del conjunto de prueba: \", dim(test_data3), \"\\n\")"
      ],
      "metadata": {
        "id": "zs19kaCzA-Kg"
      },
      "execution_count": null,
      "outputs": []
    },
    {
      "cell_type": "code",
      "source": [
        "# Inicializar y ajustar el modelo de regresión lineal\n",
        "start_time <- Sys.time()\n",
        "model3 <- glm(downtime_gross~. -equipment -downtime_gross -repair_hours -date -changed_pcs, data = train_data3)\n",
        "end_time <- Sys.time()\n",
        "training_time3 <- end_time - start_time\n",
        "training_time3\n",
        "# Resumen del modelo\n",
        "summary(model3)"
      ],
      "metadata": {
        "id": "DS8CsC2lN-GX"
      },
      "execution_count": null,
      "outputs": []
    },
    {
      "cell_type": "code",
      "source": [
        "# Predecir con el conjunto de validación\n",
        "validation_predictions <- predict(model3, newdata = validation_data3)\n",
        "\n",
        "# Calcular métricas de rendimiento para el conjunto de validación\n",
        "validation_actuals <- validation_data3$downtime_gross\n",
        "validation_rmse <- sqrt(mean((validation_predictions - validation_actuals)^2))\n",
        "validation_mae <- mean(abs(validation_predictions - validation_actuals))\n",
        "validation_r2 <- 1 - (sum((validation_predictions - validation_actuals)^2) / sum((validation_actuals - mean(validation_actuals))^2))\n",
        "\n",
        "cat(\"Validation RMSE: \", validation_rmse, \"\\n\")\n",
        "cat(\"Validation MAE: \", validation_mae, \"\\n\")\n",
        "cat(\"Validation R-squared: \", validation_r2, \"\\n\")"
      ],
      "metadata": {
        "id": "vpOsVMZDlDh4"
      },
      "execution_count": null,
      "outputs": []
    },
    {
      "cell_type": "code",
      "source": [
        "# Predecir con el conjunto de prueba\n",
        "test_predictions <- predict(model3, newdata = test_data3)\n",
        "\n",
        "# Calcular métricas de rendimiento para el conjunto de prueba\n",
        "test_actuals <- test_data3$downtime_gross\n",
        "test_rmse <- sqrt(mean((test_predictions - test_actuals)^2))\n",
        "test_mae <- mean(abs(test_predictions - test_actuals))\n",
        "test_r2 <- 1 - (sum((test_predictions - test_actuals)^2) / sum((test_actuals - mean(test_actuals))^2))\n",
        "\n",
        "cat(\"Test RMSE: \", test_rmse, \"\\n\")\n",
        "cat(\"Test MAE: \", test_mae, \"\\n\")\n",
        "cat(\"Test R-squared: \", test_r2, \"\\n\")"
      ],
      "metadata": {
        "id": "73En3KOdoiE8"
      },
      "execution_count": null,
      "outputs": []
    },
    {
      "cell_type": "markdown",
      "source": [
        "**MODELO AGREGANDO LA VARIABLE \"MECHANIC ANTIQUITY\"**"
      ],
      "metadata": {
        "id": "968bHyzjftyD"
      }
    },
    {
      "cell_type": "code",
      "source": [
        "# Primero, calcula la media de antiquity\n",
        "mean_antiquity <- mean(df_mechanic$antiquity, na.rm = TRUE)\n",
        "\n",
        "# Realiza el left join y luego reemplaza los NA en antiquity con la media calculada\n",
        "df_merged2 <- df_merged %>%\n",
        "  left_join(df_mechanic %>% select(mechanic, antiquity), by = \"mechanic\") %>%\n",
        "  mutate(antiquity = ifelse(is.na(antiquity), mean_antiquity, antiquity))"
      ],
      "metadata": {
        "id": "2laPktQUf02l"
      },
      "execution_count": null,
      "outputs": []
    },
    {
      "cell_type": "code",
      "source": [
        "# Establecer una semilla para reproducibilidad\n",
        "set.seed(123)\n",
        "\n",
        "# Definir proporciones para entrenamiento, validación y prueba\n",
        "train_proportion <- 0.70\n",
        "validation_proportion <- 0.20\n",
        "test_proportion <- 0.10\n",
        "\n",
        "# Calcular tamaños de cada conjunto\n",
        "n <- nrow(df_merged2)\n",
        "n_train <- floor(train_proportion * n)\n",
        "n_validation <- floor(validation_proportion * n)\n",
        "n_test <- n - n_train - n_validation  # El resto para prueba\n",
        "\n",
        "# Crear índices para conjunto de entrenamiento, validación y prueba\n",
        "trainIndex <- sample(1:n, n_train)\n",
        "remaining <- setdiff(1:n, trainIndex)\n",
        "validationIndex <- sample(remaining, n_validation)\n",
        "testIndex <- setdiff(remaining, validationIndex)\n",
        "\n",
        "# Crear conjuntos de entrenamiento, validación y prueba\n",
        "train_data4 <- df_merged2[trainIndex, ]\n",
        "validation_data4 <- df_merged2[validationIndex, ]\n",
        "test_data4 <- df_merged2[testIndex, ]\n",
        "\n",
        "# Comprobar las dimensiones de cada conjunto\n",
        "cat(\"Dimensiones del conjunto de entrenamiento: \", dim(train_data4), \"\\n\")\n",
        "cat(\"Dimensiones del conjunto de validación: \", dim(validation_data4), \"\\n\")\n",
        "cat(\"Dimensiones del conjunto de prueba: \", dim(test_data4), \"\\n\")"
      ],
      "metadata": {
        "id": "ETZVlhyyFKos"
      },
      "execution_count": null,
      "outputs": []
    },
    {
      "cell_type": "code",
      "source": [
        "# Inicializar y ajustar el modelo de regresión lineal\n",
        "start_time <- Sys.time()\n",
        "model4 <- glm(downtime_gross~. -equipment -downtime_gross -repair_hours -date -changed_pcs, data = train_data4)\n",
        "end_time <- Sys.time()\n",
        "training_time4 <- end_time - start_time\n",
        "training_time4\n",
        "# Resumen del modelo\n",
        "summary(model4)"
      ],
      "metadata": {
        "id": "XfsJj_wGgai2"
      },
      "execution_count": null,
      "outputs": []
    },
    {
      "cell_type": "code",
      "source": [
        "# Predecir con el conjunto de validación\n",
        "validation_predictions <- predict(model4, newdata = validation_data4)\n",
        "\n",
        "# Calcular métricas de rendimiento para el conjunto de validación\n",
        "validation_actuals <- validation_data4$downtime_gross\n",
        "validation_rmse <- sqrt(mean((validation_predictions - validation_actuals)^2))\n",
        "validation_mae <- mean(abs(validation_predictions - validation_actuals))\n",
        "validation_r2 <- 1 - (sum((validation_predictions - validation_actuals)^2) / sum((validation_actuals - mean(validation_actuals))^2))\n",
        "\n",
        "cat(\"Validation RMSE: \", validation_rmse, \"\\n\")\n",
        "cat(\"Validation MAE: \", validation_mae, \"\\n\")\n",
        "cat(\"Validation R-squared: \", validation_r2, \"\\n\")"
      ],
      "metadata": {
        "id": "GWU-54fxleFf"
      },
      "execution_count": null,
      "outputs": []
    },
    {
      "cell_type": "code",
      "source": [
        "# Predecir con el conjunto de prueba\n",
        "test_predictions <- predict(model4, newdata = test_data4)\n",
        "\n",
        "# Calcular métricas de rendimiento para el conjunto de prueba\n",
        "test_actuals <- test_data4$downtime_gross\n",
        "test_rmse <- sqrt(mean((test_predictions - test_actuals)^2))\n",
        "test_mae <- mean(abs(test_predictions - test_actuals))\n",
        "test_r2 <- 1 - (sum((test_predictions - test_actuals)^2) / sum((test_actuals - mean(test_actuals))^2))\n",
        "\n",
        "cat(\"Test RMSE: \", test_rmse, \"\\n\")\n",
        "cat(\"Test MAE: \", test_mae, \"\\n\")\n",
        "cat(\"Test R-squared: \", test_r2, \"\\n\")"
      ],
      "metadata": {
        "id": "DQwBA8cpo0F5"
      },
      "execution_count": null,
      "outputs": []
    },
    {
      "cell_type": "markdown",
      "source": [
        "**AGREGANDO LA VARIABLE \"CHANGED_PCS\"**"
      ],
      "metadata": {
        "id": "XnWazNAqyWIL"
      }
    },
    {
      "cell_type": "code",
      "source": [
        "# Inicializar y ajustar el modelo de regresión lineal\n",
        "start_time <- Sys.time()\n",
        "model5 <- glm(downtime_gross~. -equipment -downtime_gross -repair_hours -date -antiquity, data = train_data4)\n",
        "end_time <- Sys.time()\n",
        "training_time5 <- end_time - start_time\n",
        "training_time5\n",
        "# Resumen del modelo\n",
        "summary(model5)"
      ],
      "metadata": {
        "id": "vIodXx7Uycls"
      },
      "execution_count": null,
      "outputs": []
    },
    {
      "cell_type": "code",
      "source": [
        "# Predecir con el conjunto de validación\n",
        "validation_predictions <- predict(model5, newdata = validation_data4)\n",
        "\n",
        "# Calcular métricas de rendimiento para el conjunto de validación\n",
        "validation_actuals <- validation_data4$downtime_gross\n",
        "validation_rmse <- sqrt(mean((validation_predictions - validation_actuals)^2))\n",
        "validation_mae <- mean(abs(validation_predictions - validation_actuals))\n",
        "validation_r2 <- 1 - (sum((validation_predictions - validation_actuals)^2) / sum((validation_actuals - mean(validation_actuals))^2))\n",
        "\n",
        "cat(\"Validation RMSE: \", validation_rmse, \"\\n\")\n",
        "cat(\"Validation MAE: \", validation_mae, \"\\n\")\n",
        "cat(\"Validation R-squared: \", validation_r2, \"\\n\")"
      ],
      "metadata": {
        "id": "9O5RaE6SlxJ3"
      },
      "execution_count": null,
      "outputs": []
    },
    {
      "cell_type": "code",
      "source": [
        "# Predecir con el conjunto de prueba\n",
        "test_predictions <- predict(model5, newdata = test_data4)\n",
        "\n",
        "# Calcular métricas de rendimiento para el conjunto de prueba\n",
        "test_actuals <- test_data4$downtime_gross\n",
        "test_rmse <- sqrt(mean((test_predictions - test_actuals)^2))\n",
        "test_mae <- mean(abs(test_predictions - test_actuals))\n",
        "test_r2 <- 1 - (sum((test_predictions - test_actuals)^2) / sum((test_actuals - mean(test_actuals))^2))\n",
        "\n",
        "cat(\"Test RMSE: \", test_rmse, \"\\n\")\n",
        "cat(\"Test MAE: \", test_mae, \"\\n\")\n",
        "cat(\"Test R-squared: \", test_r2, \"\\n\")"
      ],
      "metadata": {
        "id": "ic2JDabuo4rj"
      },
      "execution_count": null,
      "outputs": []
    },
    {
      "cell_type": "markdown",
      "source": [
        "**IMPLEMENTACION DE FRONTWARD**"
      ],
      "metadata": {
        "id": "5xptOdwWQmL8"
      }
    },
    {
      "cell_type": "code",
      "source": [
        "sapply(df_merged2, function(x) sum(is.na(x)))"
      ],
      "metadata": {
        "id": "1TRzX0pOixHq"
      },
      "execution_count": null,
      "outputs": []
    },
    {
      "cell_type": "code",
      "source": [
        "# Realizar frontward elimination\n",
        "model_null <- lm(downtime_gross ~ 1, data = train_data4)\n",
        "model_forward <- step(model_null,\n",
        "                      scope = list(lower = model_null, upper = model5),\n",
        "                      direction = \"forward\")\n",
        "model_forward$anova"
      ],
      "metadata": {
        "id": "ZbC7KyFYuvs8"
      },
      "execution_count": null,
      "outputs": []
    },
    {
      "cell_type": "code",
      "source": [
        "formula = as.formula(\"downtime_gross ~ changed_pcs + mechanic + operation + Median_Repair_Time +\n",
        "    cause_desc + Cumulative_Maintenance_Cost + base_model + Days_Between_Failures +\n",
        "    failure_desc + problem_desc + action_desc + Age + Cumulative_Failure_Count\")"
      ],
      "metadata": {
        "id": "lAcnoWbu6hlH"
      },
      "execution_count": null,
      "outputs": []
    },
    {
      "cell_type": "code",
      "source": [
        "# Inicializar y ajustar el modelo de regresión lineal\n",
        "start_time <- Sys.time()\n",
        "model6 <- glm(formula = formula, data = train_data4)\n",
        "end_time <- Sys.time()\n",
        "training_time6 <- end_time - start_time\n",
        "training_time6\n",
        "# Resumen del modelo\n",
        "summary(model6)"
      ],
      "metadata": {
        "id": "B7rr4Ydn6qlM"
      },
      "execution_count": null,
      "outputs": []
    },
    {
      "cell_type": "markdown",
      "source": [
        "**MODELO RANDOM FOREST**"
      ],
      "metadata": {
        "id": "OM-Tf0kOOcvI"
      }
    },
    {
      "cell_type": "code",
      "source": [
        "# Entrenar el modelo de Random Forest\n",
        "start_time <- Sys.time()\n",
        "model_rf <- randomForest(downtime_gross~. -equipment -downtime_gross -repair_hours -date -antiquity, data = train_data4, importance = TRUE)\n",
        "end_time <- Sys.time()\n",
        "training_time7 <- end_time - start_time\n",
        "training_time7\n",
        "# Ver el resumen del modelo\n",
        "print(model_rf)"
      ],
      "metadata": {
        "id": "0roJOM6JO0NF"
      },
      "execution_count": null,
      "outputs": []
    },
    {
      "cell_type": "code",
      "source": [
        "# Predecir con el conjunto de validación\n",
        "validation_predictions <- predict(model_rf, newdata = validation_data4)\n",
        "\n",
        "# Calcular métricas de rendimiento para el conjunto de validación\n",
        "validation_actuals <- validation_data4$downtime_gross\n",
        "validation_rmse <- sqrt(mean((validation_predictions - validation_actuals)^2))\n",
        "validation_mae <- mean(abs(validation_predictions - validation_actuals))\n",
        "validation_r2 <- 1 - (sum((validation_predictions - validation_actuals)^2) / sum((validation_actuals - mean(validation_actuals))^2))\n",
        "\n",
        "cat(\"Validation RMSE: \", validation_rmse, \"\\n\")\n",
        "cat(\"Validation MAE: \", validation_mae, \"\\n\")\n",
        "cat(\"Validation R-squared: \", validation_r2, \"\\n\")"
      ],
      "metadata": {
        "id": "hs7KBmdpmJ0E"
      },
      "execution_count": null,
      "outputs": []
    },
    {
      "cell_type": "code",
      "source": [
        "# Predecir con el conjunto de prueba\n",
        "test_predictions <- predict(model_rf, newdata = test_data4)\n",
        "\n",
        "# Calcular métricas de rendimiento para el conjunto de prueba\n",
        "test_actuals <- test_data4$downtime_gross\n",
        "test_rmse <- sqrt(mean((test_predictions - test_actuals)^2))\n",
        "test_mae <- mean(abs(test_predictions - test_actuals))\n",
        "test_r2 <- 1 - (sum((test_predictions - test_actuals)^2) / sum((test_actuals - mean(test_actuals))^2))\n",
        "\n",
        "cat(\"Test RMSE: \", test_rmse, \"\\n\")\n",
        "cat(\"Test MAE: \", test_mae, \"\\n\")\n",
        "cat(\"Test R-squared: \", test_r2, \"\\n\")"
      ],
      "metadata": {
        "id": "MP63sdpdPIOU"
      },
      "execution_count": null,
      "outputs": []
    },
    {
      "cell_type": "code",
      "source": [
        "residuals <- test_data4$downtime_gross - predictions"
      ],
      "metadata": {
        "id": "_gFI84ZeSqra"
      },
      "execution_count": null,
      "outputs": []
    },
    {
      "cell_type": "code",
      "source": [
        "# Crear el Q-Q plot de los residuos en la escala logarítmica\n",
        "qqnorm(residuals)\n",
        "qqline(residuals, col = \"red\")"
      ],
      "metadata": {
        "id": "o8zC2XTgTOp6"
      },
      "execution_count": null,
      "outputs": []
    },
    {
      "cell_type": "code",
      "source": [
        "# Ver la importancia de las variables\n",
        "importance(model_rf)\n",
        "varImpPlot(model_rf)"
      ],
      "metadata": {
        "id": "xO0MWbdKTWzK"
      },
      "execution_count": null,
      "outputs": []
    },
    {
      "cell_type": "code",
      "source": [
        "install.packages(\"nortest\")\n",
        "library(nortest)"
      ],
      "metadata": {
        "id": "_ve3RmgRHrBQ"
      },
      "execution_count": null,
      "outputs": []
    },
    {
      "cell_type": "code",
      "source": [
        "ad_test <- ad.test(residuals)\n",
        "print(ad_test)"
      ],
      "metadata": {
        "id": "zQaCJIyWHteM"
      },
      "execution_count": null,
      "outputs": []
    },
    {
      "cell_type": "code",
      "source": [
        "formula2 = as.formula(\"downtime_gross ~ changed_pcs*mechanic + operation + Median_Repair_Time +\n",
        "    cause_desc + action_desc + Cumulative_Maintenance_Cost + problem_desc +\n",
        "    failure_desc + base_model + Days_Between_Failures +\n",
        "    Age + Cumulative_Failure_Count\")"
      ],
      "metadata": {
        "id": "qmYCa3-xAbEE"
      },
      "execution_count": null,
      "outputs": []
    },
    {
      "cell_type": "code",
      "source": [
        "# Inicializar y ajustar el modelo de regresión lineal\n",
        "# Medir el tiempo de entrenamiento\n",
        "start_time <- Sys.time()\n",
        "model7 <- glm(formula = formula2, data = train_data4)\n",
        "end_time <- Sys.time()\n",
        "training_time8 <- end_time - start_time\n",
        "training_time8\n",
        "# Resumen del modelo\n",
        "summary(model7)"
      ],
      "metadata": {
        "id": "HJDL4i5YAdPU"
      },
      "execution_count": null,
      "outputs": []
    },
    {
      "cell_type": "code",
      "source": [
        "# Predecir con el conjunto de prueba\n",
        "test_predictions <- predict(model7, newdata = test_data4)\n",
        "\n",
        "# Calcular métricas de rendimiento para el conjunto de prueba\n",
        "test_actuals <- test_data4$downtime_gross\n",
        "test_rmse <- sqrt(mean((test_predictions - test_actuals)^2))\n",
        "test_mae <- mean(abs(test_predictions - test_actuals))\n",
        "test_r2 <- 1 - (sum((test_predictions - test_actuals)^2) / sum((test_actuals - mean(test_actuals))^2))\n",
        "\n",
        "cat(\"Test RMSE: \", test_rmse, \"\\n\")\n",
        "cat(\"Test MAE: \", test_mae, \"\\n\")\n",
        "cat(\"Test R-squared: \", test_r2, \"\\n\")"
      ],
      "metadata": {
        "id": "tCNDmCBOCBBo"
      },
      "execution_count": null,
      "outputs": []
    },
    {
      "cell_type": "code",
      "source": [
        "# Predecir con el conjunto de validación\n",
        "validation_predictions <- predict(model7, newdata = validation_data4)\n",
        "\n",
        "# Calcular métricas de rendimiento para el conjunto de validación\n",
        "validation_actuals <- validation_data4$downtime_gross\n",
        "validation_rmse <- sqrt(mean((validation_predictions - validation_actuals)^2))\n",
        "validation_mae <- mean(abs(validation_predictions - validation_actuals))\n",
        "validation_r2 <- 1 - (sum((validation_predictions - validation_actuals)^2) / sum((validation_actuals - mean(validation_actuals))^2))\n",
        "\n",
        "cat(\"Validation RMSE: \", validation_rmse, \"\\n\")\n",
        "cat(\"Validation MAE: \", validation_mae, \"\\n\")\n",
        "cat(\"Validation R-squared: \", validation_r2, \"\\n\")"
      ],
      "metadata": {
        "id": "l9oyd3D9B9nH"
      },
      "execution_count": null,
      "outputs": []
    },
    {
      "cell_type": "code",
      "source": [],
      "metadata": {
        "id": "uugID0EuCQmg"
      },
      "execution_count": null,
      "outputs": []
    }
  ]
}