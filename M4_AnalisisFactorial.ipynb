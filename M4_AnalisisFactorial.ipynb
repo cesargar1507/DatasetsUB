{
  "nbformat": 4,
  "nbformat_minor": 0,
  "metadata": {
    "colab": {
      "provenance": []
    },
    "kernelspec": {
      "name": "ir",
      "display_name": "R"
    },
    "language_info": {
      "name": "R"
    }
  },
  "cells": [
    {
      "cell_type": "markdown",
      "source": [
        "**Alumno:** César Emilio García Ávalos\n",
        "\n",
        "**Actividad:** M4_AI1_Análisis Factorial"
      ],
      "metadata": {
        "id": "WAVuT--BYKiJ"
      }
    },
    {
      "cell_type": "code",
      "execution_count": 67,
      "metadata": {
        "colab": {
          "base_uri": "https://localhost:8080/",
          "height": 286
        },
        "id": "NXvNrUprHSkt",
        "outputId": "bdf9fb72-e492-4849-8eb6-106f43a64504"
      },
      "outputs": [
        {
          "output_type": "display_data",
          "data": {
            "text/html": [
              "<table class=\"dataframe\">\n",
              "<caption>A data.frame: 6 × 6</caption>\n",
              "<thead>\n",
              "\t<tr><th></th><th scope=col>residual.sugar</th><th scope=col>density</th><th scope=col>pH</th><th scope=col>alcohol</th><th scope=col>citric.acid</th><th scope=col>volatile.acidity</th></tr>\n",
              "\t<tr><th></th><th scope=col>&lt;dbl&gt;</th><th scope=col>&lt;dbl&gt;</th><th scope=col>&lt;dbl&gt;</th><th scope=col>&lt;dbl&gt;</th><th scope=col>&lt;dbl&gt;</th><th scope=col>&lt;dbl&gt;</th></tr>\n",
              "</thead>\n",
              "<tbody>\n",
              "\t<tr><th scope=row>1</th><td>1.9</td><td>0.9978</td><td>3.51</td><td>9.4</td><td>0.00</td><td>0.70</td></tr>\n",
              "\t<tr><th scope=row>2</th><td>2.6</td><td>0.9968</td><td>3.20</td><td>9.8</td><td>0.00</td><td>0.88</td></tr>\n",
              "\t<tr><th scope=row>3</th><td>2.3</td><td>0.9970</td><td>3.26</td><td>9.8</td><td>0.04</td><td>0.76</td></tr>\n",
              "\t<tr><th scope=row>4</th><td>1.9</td><td>0.9980</td><td>3.16</td><td>9.8</td><td>0.56</td><td>0.28</td></tr>\n",
              "\t<tr><th scope=row>5</th><td>1.9</td><td>0.9978</td><td>3.51</td><td>9.4</td><td>0.00</td><td>0.70</td></tr>\n",
              "\t<tr><th scope=row>6</th><td>1.8</td><td>0.9978</td><td>3.51</td><td>9.4</td><td>0.00</td><td>0.66</td></tr>\n",
              "</tbody>\n",
              "</table>\n"
            ],
            "text/markdown": "\nA data.frame: 6 × 6\n\n| <!--/--> | residual.sugar &lt;dbl&gt; | density &lt;dbl&gt; | pH &lt;dbl&gt; | alcohol &lt;dbl&gt; | citric.acid &lt;dbl&gt; | volatile.acidity &lt;dbl&gt; |\n|---|---|---|---|---|---|---|\n| 1 | 1.9 | 0.9978 | 3.51 | 9.4 | 0.00 | 0.70 |\n| 2 | 2.6 | 0.9968 | 3.20 | 9.8 | 0.00 | 0.88 |\n| 3 | 2.3 | 0.9970 | 3.26 | 9.8 | 0.04 | 0.76 |\n| 4 | 1.9 | 0.9980 | 3.16 | 9.8 | 0.56 | 0.28 |\n| 5 | 1.9 | 0.9978 | 3.51 | 9.4 | 0.00 | 0.70 |\n| 6 | 1.8 | 0.9978 | 3.51 | 9.4 | 0.00 | 0.66 |\n\n",
            "text/latex": "A data.frame: 6 × 6\n\\begin{tabular}{r|llllll}\n  & residual.sugar & density & pH & alcohol & citric.acid & volatile.acidity\\\\\n  & <dbl> & <dbl> & <dbl> & <dbl> & <dbl> & <dbl>\\\\\n\\hline\n\t1 & 1.9 & 0.9978 & 3.51 & 9.4 & 0.00 & 0.70\\\\\n\t2 & 2.6 & 0.9968 & 3.20 & 9.8 & 0.00 & 0.88\\\\\n\t3 & 2.3 & 0.9970 & 3.26 & 9.8 & 0.04 & 0.76\\\\\n\t4 & 1.9 & 0.9980 & 3.16 & 9.8 & 0.56 & 0.28\\\\\n\t5 & 1.9 & 0.9978 & 3.51 & 9.4 & 0.00 & 0.70\\\\\n\t6 & 1.8 & 0.9978 & 3.51 & 9.4 & 0.00 & 0.66\\\\\n\\end{tabular}\n",
            "text/plain": [
              "  residual.sugar density pH   alcohol citric.acid volatile.acidity\n",
              "1 1.9            0.9978  3.51 9.4     0.00        0.70            \n",
              "2 2.6            0.9968  3.20 9.8     0.00        0.88            \n",
              "3 2.3            0.9970  3.26 9.8     0.04        0.76            \n",
              "4 1.9            0.9980  3.16 9.8     0.56        0.28            \n",
              "5 1.9            0.9978  3.51 9.4     0.00        0.70            \n",
              "6 1.8            0.9978  3.51 9.4     0.00        0.66            "
            ]
          },
          "metadata": {}
        }
      ],
      "source": [
        "library(readr)\n",
        "library(tidyr)\n",
        "library(dplyr)\n",
        "\n",
        "ruta <- \"https://raw.githubusercontent.com/cesargar1507/DatasetsUB/main/4.2_PCA_AF_ejercicio.csv\"\n",
        "datos <- read.csv(ruta, sep = \";\")\n",
        "# Suponiendo que 'df' es tu conjunto de datos y 'columnas' es un vector con los nombres de las columnas que deseas seleccionar\n",
        "vars <- c(\"residual.sugar\", \"density\", \"pH\",\"alcohol\",\"citric.acid\",\"volatile.acidity\")\n",
        "wine <- subset(datos, select = vars)\n",
        "head(df_seleccionado)"
      ]
    },
    {
      "cell_type": "code",
      "source": [
        "# Análisis Factorial con 2 factores\n",
        "wine.fa <- factanal(wine, factors = 2)\n",
        "\n",
        "# Mostrar el resultado\n",
        "print(wine.fa)"
      ],
      "metadata": {
        "colab": {
          "base_uri": "https://localhost:8080/"
        },
        "id": "l77ZM3kp_cxR",
        "outputId": "f159ebfb-e8b3-4278-f9c5-ea06bc8fca43"
      },
      "execution_count": 68,
      "outputs": [
        {
          "output_type": "stream",
          "name": "stdout",
          "text": [
            "\n",
            "Call:\n",
            "factanal(x = wine, factors = 2)\n",
            "\n",
            "Uniquenesses:\n",
            "  residual.sugar          density               pH          alcohol \n",
            "           0.874            0.005            0.681            0.654 \n",
            "     citric.acid volatile.acidity \n",
            "           0.005            0.635 \n",
            "\n",
            "Loadings:\n",
            "                 Factor1 Factor2\n",
            "residual.sugar            0.343 \n",
            "density           0.225   0.972 \n",
            "pH               -0.514  -0.234 \n",
            "alcohol           0.194  -0.555 \n",
            "citric.acid       0.987   0.147 \n",
            "volatile.acidity -0.583   0.158 \n",
            "\n",
            "               Factor1 Factor2\n",
            "SS loadings      1.675   1.471\n",
            "Proportion Var   0.279   0.245\n",
            "Cumulative Var   0.279   0.524\n",
            "\n",
            "Test of the hypothesis that 2 factors are sufficient.\n",
            "The chi square statistic is 252.24 on 4 degrees of freedom.\n",
            "The p-value is 2.14e-53 \n"
          ]
        }
      ]
    },
    {
      "cell_type": "markdown",
      "source": [
        "Analizando las cargas factoriales, las variables citric.acid, volatile.acidity y pH tienen influencias grandes en el factor 1 mientras que density, alcohol y residual.sugar tienen influencias grandes en el factor 2"
      ],
      "metadata": {
        "id": "2ndW9MZIHCkK"
      }
    },
    {
      "cell_type": "markdown",
      "source": [
        "Factor 1 explica una proporción de varianza de 27.9%\n",
        "\n",
        "Factor 2 explica una proporción de varianza de 24.5%\n",
        "\n",
        "La suma de las cargas al cuadrado para ambos factores es mayor que 1, por lo tanto, basándose en la regla de Kaiser, conviene mantener ambos factores"
      ],
      "metadata": {
        "id": "6rrtf2L6PVED"
      }
    },
    {
      "cell_type": "code",
      "source": [
        "wine.fa$uniquenesses"
      ],
      "metadata": {
        "colab": {
          "base_uri": "https://localhost:8080/",
          "height": 52
        },
        "id": "Ys1wuG9uEO7-",
        "outputId": "55992fbe-f5b3-402a-f367-3cdd9ec5cc21"
      },
      "execution_count": 69,
      "outputs": [
        {
          "output_type": "display_data",
          "data": {
            "text/html": [
              "<style>\n",
              ".dl-inline {width: auto; margin:0; padding: 0}\n",
              ".dl-inline>dt, .dl-inline>dd {float: none; width: auto; display: inline-block}\n",
              ".dl-inline>dt::after {content: \":\\0020\"; padding-right: .5ex}\n",
              ".dl-inline>dt:not(:first-of-type) {padding-left: .5ex}\n",
              "</style><dl class=dl-inline><dt>residual.sugar</dt><dd>0.873670587132748</dd><dt>density</dt><dd>0.005</dd><dt>pH</dt><dd>0.681449957667576</dd><dt>alcohol</dt><dd>0.654294347228648</dd><dt>citric.acid</dt><dd>0.005</dd><dt>volatile.acidity</dt><dd>0.634701057672175</dd></dl>\n"
            ],
            "text/markdown": "residual.sugar\n:   0.873670587132748density\n:   0.005pH\n:   0.681449957667576alcohol\n:   0.654294347228648citric.acid\n:   0.005volatile.acidity\n:   0.634701057672175\n\n",
            "text/latex": "\\begin{description*}\n\\item[residual.sugar] 0.873670587132748\n\\item[density] 0.005\n\\item[pH] 0.681449957667576\n\\item[alcohol] 0.654294347228648\n\\item[citric.acid] 0.005\n\\item[volatile.acidity] 0.634701057672175\n\\end{description*}\n",
            "text/plain": [
              "  residual.sugar          density               pH          alcohol \n",
              "       0.8736706        0.0050000        0.6814500        0.6542943 \n",
              "     citric.acid volatile.acidity \n",
              "       0.0050000        0.6347011 "
            ]
          },
          "metadata": {}
        }
      ]
    },
    {
      "cell_type": "code",
      "source": [
        "1-wine.fa$uniquenesses"
      ],
      "metadata": {
        "colab": {
          "base_uri": "https://localhost:8080/",
          "height": 52
        },
        "id": "x-9uN6y0If-i",
        "outputId": "427902e0-dd26-43f9-c2e9-648d3298cc5b"
      },
      "execution_count": 70,
      "outputs": [
        {
          "output_type": "display_data",
          "data": {
            "text/html": [
              "<style>\n",
              ".dl-inline {width: auto; margin:0; padding: 0}\n",
              ".dl-inline>dt, .dl-inline>dd {float: none; width: auto; display: inline-block}\n",
              ".dl-inline>dt::after {content: \":\\0020\"; padding-right: .5ex}\n",
              ".dl-inline>dt:not(:first-of-type) {padding-left: .5ex}\n",
              "</style><dl class=dl-inline><dt>residual.sugar</dt><dd>0.126329412867252</dd><dt>density</dt><dd>0.995</dd><dt>pH</dt><dd>0.318550042332424</dd><dt>alcohol</dt><dd>0.345705652771352</dd><dt>citric.acid</dt><dd>0.995</dd><dt>volatile.acidity</dt><dd>0.365298942327825</dd></dl>\n"
            ],
            "text/markdown": "residual.sugar\n:   0.126329412867252density\n:   0.995pH\n:   0.318550042332424alcohol\n:   0.345705652771352citric.acid\n:   0.995volatile.acidity\n:   0.365298942327825\n\n",
            "text/latex": "\\begin{description*}\n\\item[residual.sugar] 0.126329412867252\n\\item[density] 0.995\n\\item[pH] 0.318550042332424\n\\item[alcohol] 0.345705652771352\n\\item[citric.acid] 0.995\n\\item[volatile.acidity] 0.365298942327825\n\\end{description*}\n",
            "text/plain": [
              "  residual.sugar          density               pH          alcohol \n",
              "       0.1263294        0.9950000        0.3185500        0.3457057 \n",
              "     citric.acid volatile.acidity \n",
              "       0.9950000        0.3652989 "
            ]
          },
          "metadata": {}
        }
      ]
    },
    {
      "cell_type": "markdown",
      "source": [
        "Las variables residual.sugar, pH, alcohol y volatile.acidity tienen una singularidad alta, lo que indica que una parte considerable de su varianza no es explicada por los factores extraídos, son variables que no estan bien representadas"
      ],
      "metadata": {
        "id": "rEZWIFgQIwTR"
      }
    },
    {
      "cell_type": "code",
      "source": [
        "Lambda <- wine.fa$loadings\n",
        "Psi <- diag(wine.fa$uniquenesses)\n",
        "S <- wine.fa$correlation\n",
        "Sigma <- Lambda %*% t(Lambda) + Psi\n",
        "round(S-Sigma, 4)"
      ],
      "metadata": {
        "colab": {
          "base_uri": "https://localhost:8080/",
          "height": 255
        },
        "id": "fk874b7AAaXh",
        "outputId": "87b5bca9-05f8-40bf-ab82-24be39779d78"
      },
      "execution_count": 71,
      "outputs": [
        {
          "output_type": "display_data",
          "data": {
            "text/html": [
              "<table class=\"dataframe\">\n",
              "<caption>A matrix: 6 × 6 of type dbl</caption>\n",
              "<thead>\n",
              "\t<tr><th></th><th scope=col>residual.sugar</th><th scope=col>density</th><th scope=col>pH</th><th scope=col>alcohol</th><th scope=col>citric.acid</th><th scope=col>volatile.acidity</th></tr>\n",
              "</thead>\n",
              "<tbody>\n",
              "\t<tr><th scope=row>residual.sugar</th><td> 0.0000</td><td> 0.0011</td><td> 0.0431</td><td> 0.2139</td><td>-4e-04</td><td> 0.0032</td></tr>\n",
              "\t<tr><th scope=row>density</th><td> 0.0011</td><td> 0.0000</td><td> 0.0008</td><td>-0.0002</td><td> 0e+00</td><td> 0.0000</td></tr>\n",
              "\t<tr><th scope=row>pH</th><td> 0.0431</td><td> 0.0008</td><td> 0.0000</td><td> 0.1755</td><td>-6e-04</td><td>-0.0280</td></tr>\n",
              "\t<tr><th scope=row>alcohol</th><td> 0.2139</td><td>-0.0002</td><td> 0.1755</td><td> 0.0000</td><td> 6e-04</td><td>-0.0017</td></tr>\n",
              "\t<tr><th scope=row>citric.acid</th><td>-0.0004</td><td> 0.0000</td><td>-0.0006</td><td> 0.0006</td><td> 0e+00</td><td>-0.0001</td></tr>\n",
              "\t<tr><th scope=row>volatile.acidity</th><td> 0.0032</td><td> 0.0000</td><td>-0.0280</td><td>-0.0017</td><td>-1e-04</td><td> 0.0000</td></tr>\n",
              "</tbody>\n",
              "</table>\n"
            ],
            "text/markdown": "\nA matrix: 6 × 6 of type dbl\n\n| <!--/--> | residual.sugar | density | pH | alcohol | citric.acid | volatile.acidity |\n|---|---|---|---|---|---|---|\n| residual.sugar |  0.0000 |  0.0011 |  0.0431 |  0.2139 | -4e-04 |  0.0032 |\n| density |  0.0011 |  0.0000 |  0.0008 | -0.0002 |  0e+00 |  0.0000 |\n| pH |  0.0431 |  0.0008 |  0.0000 |  0.1755 | -6e-04 | -0.0280 |\n| alcohol |  0.2139 | -0.0002 |  0.1755 |  0.0000 |  6e-04 | -0.0017 |\n| citric.acid | -0.0004 |  0.0000 | -0.0006 |  0.0006 |  0e+00 | -0.0001 |\n| volatile.acidity |  0.0032 |  0.0000 | -0.0280 | -0.0017 | -1e-04 |  0.0000 |\n\n",
            "text/latex": "A matrix: 6 × 6 of type dbl\n\\begin{tabular}{r|llllll}\n  & residual.sugar & density & pH & alcohol & citric.acid & volatile.acidity\\\\\n\\hline\n\tresidual.sugar &  0.0000 &  0.0011 &  0.0431 &  0.2139 & -4e-04 &  0.0032\\\\\n\tdensity &  0.0011 &  0.0000 &  0.0008 & -0.0002 &  0e+00 &  0.0000\\\\\n\tpH &  0.0431 &  0.0008 &  0.0000 &  0.1755 & -6e-04 & -0.0280\\\\\n\talcohol &  0.2139 & -0.0002 &  0.1755 &  0.0000 &  6e-04 & -0.0017\\\\\n\tcitric.acid & -0.0004 &  0.0000 & -0.0006 &  0.0006 &  0e+00 & -0.0001\\\\\n\tvolatile.acidity &  0.0032 &  0.0000 & -0.0280 & -0.0017 & -1e-04 &  0.0000\\\\\n\\end{tabular}\n",
            "text/plain": [
              "                 residual.sugar density pH      alcohol citric.acid\n",
              "residual.sugar    0.0000         0.0011  0.0431  0.2139 -4e-04     \n",
              "density           0.0011         0.0000  0.0008 -0.0002  0e+00     \n",
              "pH                0.0431         0.0008  0.0000  0.1755 -6e-04     \n",
              "alcohol           0.2139        -0.0002  0.1755  0.0000  6e-04     \n",
              "citric.acid      -0.0004         0.0000 -0.0006  0.0006  0e+00     \n",
              "volatile.acidity  0.0032         0.0000 -0.0280 -0.0017 -1e-04     \n",
              "                 volatile.acidity\n",
              "residual.sugar    0.0032         \n",
              "density           0.0000         \n",
              "pH               -0.0280         \n",
              "alcohol          -0.0017         \n",
              "citric.acid      -0.0001         \n",
              "volatile.acidity  0.0000         "
            ]
          },
          "metadata": {}
        }
      ]
    },
    {
      "cell_type": "markdown",
      "source": [
        "Según la matriz de residuos, las variables density, citric.acid y volatile.acidity están mejor representadas en el modelo pues tienen residuos cercanos a cero en todas sus comparaciones"
      ],
      "metadata": {
        "id": "AyHrFHCgb6n4"
      }
    },
    {
      "cell_type": "code",
      "source": [
        "#Creacion de modelos\n",
        "wine.fa.none <- factanal(wine, factors=2, rotation = \"none\")\n",
        "wine.fa.varimax <- factanal(wine, factors=2, rotation = \"varimax\")\n",
        "wine.fa.promax <- factanal(wine, factors=2, rotation = \"promax\")"
      ],
      "metadata": {
        "id": "b8wA9hc2Ecfa"
      },
      "execution_count": 72,
      "outputs": []
    },
    {
      "cell_type": "code",
      "source": [
        "par(mfrow = c(1,3))\n",
        "\n",
        "#Sin rotacion\n",
        "plot(wine.fa.none$loadings[,1],wine.fa.none$loadings[,2],\n",
        "xlab= \"Factor 1\", ylab= \"Factor 2\", ylim = c(-1,1), xlim=c(-1,1), main=\"No rotation\")\n",
        "abline(h = 0, v=0)\n",
        "\n",
        "#Rotacion varimax\n",
        "plot(wine.fa.varimax$loadings[,1],wine.fa.varimax$loadings[,2],\n",
        "xlab= \"Factor 1\", ylab= \"Factor 2\", ylim = c(-1,1), xlim=c(-1,1), main=\"Varimax\")\n",
        "text(wine.fa.varimax$loadings[,1]-0.08, wine.fa.varimax$loadings[,2]+0.08, colnames(wine), col=\"blue\")\n",
        "abline(h = 0, v=0)\n",
        "\n",
        "#Rotacion varimax\n",
        "plot(wine.fa.promax$loadings[,1],wine.fa.promax$loadings[,2],\n",
        "xlab= \"Factor 1\", ylab= \"Factor 2\", ylim = c(-1,1), xlim=c(-1,1), main=\"Promax\")\n",
        "abline(h = 0, v=0)"
      ],
      "metadata": {
        "colab": {
          "base_uri": "https://localhost:8080/",
          "height": 437
        },
        "id": "LmqHlv_UEwqC",
        "outputId": "dd303ac3-3a76-49bd-d75c-eaf5bd9deba4"
      },
      "execution_count": 73,
      "outputs": [
        {
          "output_type": "display_data",
          "data": {
            "text/plain": [
              "Plot with title “Promax”"
            ],
            "image/png": "[encoded data removed]"
          },
          "metadata": {
            "image/png": {
              "width": 420,
              "height": 420
            }
          }
        }
      ]
    },
    {
      "cell_type": "markdown",
      "source": [
        "**El factor 1** describe características relacionadas a la acidez del vino y por lo tanto a su sabor, la variable citric.acid tiene una influencia fuerte positiva en este factor, por otra parte las variables pH y volatile.acidity tienen un influencia fuerte negativa en el mismo, esto indica que valores más altos de estas variables están asociados a valores más bajos del factor 1, esto sugiere que los vinos asociados con este factor podrían tener un perfil más ácido y fresco, con niveles controlados de acidez volátil, este factor podría nombrarse como \"vinos ácidos\".\n",
        "\n",
        "\n",
        "\n",
        "\n",
        "**El factor 2 **describe características de fermentación, dulzura y por consiguiente el sabor del vino, la variable density tiene una influencia fuerte positiva en este factor, la variable alcohol tiene un influencia negativa considerable en el mismo lo que indica que los valores más altos de alcohol estan asociados a valores más bajos del factor 2, esto sugiere que los vinos asociados con este factor podrían tener un perfil más dulce, con un contenido de alcohol más bajo, este factor podría nombrarse como \"vinos dulces\"."
      ],
      "metadata": {
        "id": "Zllr0o31jb7k"
      }
    }
  ]
}