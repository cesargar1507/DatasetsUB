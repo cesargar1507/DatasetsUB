{
  "nbformat": 4,
  "nbformat_minor": 0,
  "metadata": {
    "colab": {
      "provenance": []
    },
    "kernelspec": {
      "name": "ir",
      "display_name": "R"
    },
    "language_info": {
      "name": "R"
    }
  },
  "cells": [
    {
      "cell_type": "code",
      "execution_count": null,
      "metadata": {
        "id": "NXvNrUprHSkt",
        "outputId": "976eb39c-6b43-487f-a047-611c16579459",
        "colab": {
          "base_uri": "https://localhost:8080/"
        }
      },
      "outputs": [
        {
          "metadata": {
            "tags": null
          },
          "name": "stderr",
          "output_type": "stream",
          "text": [
            "\n",
            "Attaching package: ‘dplyr’\n",
            "\n",
            "\n",
            "The following objects are masked from ‘package:stats’:\n",
            "\n",
            "    filter, lag\n",
            "\n",
            "\n",
            "The following objects are masked from ‘package:base’:\n",
            "\n",
            "    intersect, setdiff, setequal, union\n",
            "\n",
            "\n",
            "Installing package into ‘/usr/local/lib/R/site-library’\n",
            "(as ‘lib’ is unspecified)\n",
            "\n",
            "also installing the dependencies ‘listenv’, ‘parallelly’, ‘future’, ‘globals’, ‘shape’, ‘future.apply’, ‘numDeriv’, ‘progressr’, ‘SQUAREM’, ‘diagram’, ‘lava’, ‘prodlim’, ‘proxy’, ‘iterators’, ‘Rcpp’, ‘clock’, ‘gower’, ‘hardhat’, ‘ipred’, ‘timeDate’, ‘e1071’, ‘foreach’, ‘ModelMetrics’, ‘plyr’, ‘pROC’, ‘recipes’, ‘reshape2’\n",
            "\n",
            "\n"
          ]
        }
      ],
      "source": [
        "library(dplyr)\n",
        "library(readr)\n",
        "install.packages(\"caret\")\n",
        "library(caret)\n",
        "install.packages(\"ggplot2\")\n",
        "library(ggplot2)"
      ]
    },
    {
      "cell_type": "code",
      "source": [
        "# Instalar y cargar las bibliotecas necesarias\n",
        "install.packages(\"googledrive\")\n",
        "library(googledrive)"
      ],
      "metadata": {
        "id": "CDiBiGVgNH5p"
      },
      "execution_count": null,
      "outputs": []
    },
    {
      "cell_type": "code",
      "source": [
        "# Autenticarse con Google Drive\n",
        "drive_auth()"
      ],
      "metadata": {
        "id": "VlTTd6glNKsf"
      },
      "execution_count": null,
      "outputs": []
    },
    {
      "cell_type": "code",
      "source": [
        "# Especificar el ID del archivo y la ruta de destino\n",
        "file_id <- \"https://drive.google.com/file/d/1WDRKvrZrvSlQa8qNgUCoGwEyepYNm3dz/view?usp=drivesdk\"  # Reemplaza este ID con el ID de tu archivo\n",
        "drive_download(as_id(file_id), path = \"archivo.csv\", overwrite = TRUE)"
      ],
      "metadata": {
        "id": "zpilSoL7NNH3"
      },
      "execution_count": null,
      "outputs": []
    },
    {
      "cell_type": "code",
      "source": [
        "# Leer el archivo CSV desde la URL\n",
        "urlAge <- \"https://raw.githubusercontent.com/cesargar1507/DatasetsUB/main/machine_age.csv\"\n",
        "urlMechanic <- \"https://raw.githubusercontent.com/cesargar1507/DatasetsUB/main/mechanic_antiquity.csv\"\n",
        "df <- read_csv(\"archivo.csv\", show_col_types = FALSE)\n",
        "df_age <- read_csv(urlAge, show_col_types = FALSE)\n",
        "df_mechanic <- read_csv(urlMechanic, show_col_types = FALSE)"
      ],
      "metadata": {
        "id": "p7Ac95EBV6df"
      },
      "execution_count": null,
      "outputs": []
    },
    {
      "cell_type": "code",
      "source": [
        "summary(df)"
      ],
      "metadata": {
        "id": "z2sxgjL5cMt_"
      },
      "execution_count": null,
      "outputs": []
    },
    {
      "cell_type": "code",
      "source": [
        "head(df,5)"
      ],
      "metadata": {
        "id": "qzZX5SgOtE09"
      },
      "execution_count": null,
      "outputs": []
    },
    {
      "cell_type": "markdown",
      "source": [
        "**LIMPIEZA DE DATOS**"
      ],
      "metadata": {
        "id": "nU5ZKD4XRfX7"
      }
    },
    {
      "cell_type": "code",
      "source": [
        "sapply(df, function(x) sum(is.na(x)))\n",
        "#Fiabilidad suficiente para continuar con el trabajo"
      ],
      "metadata": {
        "id": "ttjLXcMWRvy5"
      },
      "execution_count": null,
      "outputs": []
    },
    {
      "cell_type": "code",
      "source": [
        "# Remover el símbolo de dólar y las comas, y convertir a float\n",
        "df$parts_cost <- as.numeric(gsub(\"[\\\\$,()]\", \"\", df$parts_cost))"
      ],
      "metadata": {
        "id": "IfrIeddmGwIo"
      },
      "execution_count": null,
      "outputs": []
    },
    {
      "cell_type": "code",
      "source": [
        "# Crear el boxplot de parts_cost\n",
        "ggplot(df, aes(y = parts_cost)) +\n",
        "  geom_boxplot(fill = 'skyblue', color = 'black') +\n",
        "  labs(title = 'Boxplot de parts cost',\n",
        "       y = 'Costo de partes') +\n",
        "  theme_minimal()\n",
        "#Hacer rangos, 1 desv tip, 2 desp tipica, etc..."
      ],
      "metadata": {
        "id": "SIPMWg5OWpwo"
      },
      "execution_count": null,
      "outputs": []
    },
    {
      "cell_type": "code",
      "source": [
        "# Convertir la columna 'Date' al formato adecuado\n",
        "df$date <- as.Date(df$date, format=\"%m/%d/%Y\")  # Ajusta el formato según tus datos\n",
        "# Ordenar el DataFrame por fecha\n",
        "df <- df %>%\n",
        "  arrange(date)"
      ],
      "metadata": {
        "id": "ss5BYMi8Vtvl"
      },
      "execution_count": null,
      "outputs": []
    },
    {
      "cell_type": "code",
      "source": [
        "# Histograma de 'downtimeGross'\n",
        "hist_downtimeGross <- ggplot(df, aes(x = downtime_gross)) +\n",
        "  geom_histogram(binwidth = 0.1, fill = \"green\", color = \"black\", alpha = 0.7) +\n",
        "  labs(title = \"Histograma de Downtime Bruto\",\n",
        "       x = \"Downtime Bruto (horas)\",\n",
        "       y = \"Frecuencia\") +\n",
        "  theme_minimal()\n",
        "\n",
        "# Mostrar histogramas\n",
        "print(hist_downtimeGross)"
      ],
      "metadata": {
        "id": "ki9kBd7FBxVI"
      },
      "execution_count": null,
      "outputs": []
    },
    {
      "cell_type": "code",
      "source": [
        "mean(df$downtime_gross < 0)"
      ],
      "metadata": {
        "id": "bqrYJi1Ksvn-"
      },
      "execution_count": null,
      "outputs": []
    },
    {
      "cell_type": "code",
      "source": [
        "# Filtrar registros donde downtimeGross no sea negativo\n",
        "df_filtered <- df %>%\n",
        "  filter(downtime_gross >= 0)"
      ],
      "metadata": {
        "id": "oOqbbJuhkqTH"
      },
      "execution_count": null,
      "outputs": []
    },
    {
      "cell_type": "code",
      "source": [
        "mean(df$repair_hours < 0)"
      ],
      "metadata": {
        "id": "gofP8VjtS_l7"
      },
      "execution_count": null,
      "outputs": []
    },
    {
      "cell_type": "code",
      "source": [
        "# Calcular valor absoluto de repair hours\n",
        "df$repair_hours <- abs(df$repair_hours)\n",
        "#Quitarlo poco porcentaje de datos"
      ],
      "metadata": {
        "id": "bkOS07YRY3TX"
      },
      "execution_count": null,
      "outputs": []
    },
    {
      "cell_type": "code",
      "source": [
        "#Eliminar columnas que no seran utilizadas\n",
        "df <- select(df, -problem_code, -failure_code, -cause_code, -action_code, -pit_coverage, -real_downtime, -waiting_hours)\n",
        "#Se han eliminado codigos y variables calculadas"
      ],
      "metadata": {
        "id": "FZkbiV-4SiWB"
      },
      "execution_count": null,
      "outputs": []
    },
    {
      "cell_type": "code",
      "source": [
        "# Filtrar el DataFrame por 'WO Type' igual a 'Corrective Maintenance'\n",
        "df <- df %>%\n",
        "  filter(`wo_type` == \"Corrective Maintenance\")\n",
        "#Colocar comentario de por qué el filtro, colocar que tecnicas pueden aplicarse y cuales no, colocar en apartado diferente"
      ],
      "metadata": {
        "id": "LjrIm4bfXcHx"
      },
      "execution_count": null,
      "outputs": []
    },
    {
      "cell_type": "code",
      "source": [
        "# Calcular la diferencia en días entre fechas consecutivas\n",
        "df <- df %>%\n",
        "  group_by(equipment) %>%\n",
        "  mutate(Days_Between_Failures = difftime(date, lag(date), units = \"days\"))\n",
        "\n",
        "# Reemplazar los valores NA en Days_Between_Failures\n",
        "df$Days_Between_Failures[is.na(df$Days_Between_Failures)] <- as.numeric(difftime(df$date[is.na(df$Days_Between_Failures)], as.Date(\"2023-01-01\"), units = \"days\"))"
      ],
      "metadata": {
        "id": "82Hp91p7aia4"
      },
      "execution_count": null,
      "outputs": []
    },
    {
      "cell_type": "code",
      "source": [
        "# Convertir 'Days_Between_Failures' a numeric\n",
        "df$Days_Between_Failures <- as.numeric(df$Days_Between_Failures, units = \"days\")"
      ],
      "metadata": {
        "id": "lkjfo3ZWc3iI"
      },
      "execution_count": null,
      "outputs": []
    },
    {
      "cell_type": "code",
      "source": [
        "#Cambio de nombre de mecánico cuyo nombre está escrito de dos formas\n",
        "df <- df %>%\n",
        "  mutate(mechanic = ifelse(mechanic == \"GALEAS PEREZ EDWIN ROGELIO\", \"Edwin Rogelio Galeas Perez\", mechanic))"
      ],
      "metadata": {
        "id": "x_irucm4xXiW"
      },
      "execution_count": null,
      "outputs": []
    },
    {
      "cell_type": "markdown",
      "source": [
        "**ANALISIS DE VARIABLES**"
      ],
      "metadata": {
        "id": "P4kKVEF1Rs6t"
      }
    },
    {
      "cell_type": "code",
      "source": [
        "dim(df)"
      ],
      "metadata": {
        "id": "ufkTTqfldMbg"
      },
      "execution_count": null,
      "outputs": []
    },
    {
      "cell_type": "code",
      "source": [
        "# Calcular la frecuencia de cada operación\n",
        "operation_freq <- df %>%\n",
        "  group_by(operation) %>%\n",
        "  summarise(count = n()) %>%\n",
        "  arrange(desc(count))\n",
        "\n",
        "# Calcular el porcentaje acumulado\n",
        "operation_freq <- operation_freq %>%\n",
        "  mutate(cum_count = cumsum(count),\n",
        "         cum_perc = cum_count / sum(count))\n",
        "\n",
        "operation_freq"
      ],
      "metadata": {
        "id": "_ceeX9_wEfXc"
      },
      "execution_count": null,
      "outputs": []
    },
    {
      "cell_type": "code",
      "source": [
        "# Crear el gráfico de barras\n",
        "ggplot(df, aes(y = problem_desc)) +\n",
        "  geom_bar(fill = 'skyblue', color = 'black') +\n",
        "  labs(title = 'Frecuencia de Variables Categóricas',\n",
        "       x = 'Frecuencia',\n",
        "       y = 'Categoria') +\n",
        "  theme_minimal()\n",
        "#Ordenar, es util frecuencia acumulada top 3"
      ],
      "metadata": {
        "id": "gx5rHH5BVEBM"
      },
      "execution_count": null,
      "outputs": []
    },
    {
      "cell_type": "code",
      "source": [
        "# Crear el gráfico de barras\n",
        "ggplot(df, aes(y = failure_desc)) +\n",
        "  geom_bar(fill = 'skyblue', color = 'black') +\n",
        "  labs(title = 'Frecuencia de Variables Categóricas',\n",
        "       x = 'Frecuencia',\n",
        "       y = 'Categoria') +\n",
        "  theme_minimal()\n",
        "#Ordenar, es util frecuencia acumulada top 3\n",
        "#Colocar porcentaje a la derecha"
      ],
      "metadata": {
        "id": "WaI9bflOVnmZ"
      },
      "execution_count": null,
      "outputs": []
    },
    {
      "cell_type": "code",
      "source": [
        "# Calcular la frecuencia de causas de fallo\n",
        "cause_freq <- df %>%\n",
        "  group_by(cause_desc) %>%\n",
        "  summarise(count = n()) %>%\n",
        "  arrange(desc(count))\n",
        "\n",
        "# Calcular el porcentaje acumulado\n",
        "cause_freq <- cause_freq %>%\n",
        "  mutate(cum_count = cumsum(count),\n",
        "         cum_perc = cum_count / sum(count))\n",
        "cause_freq"
      ],
      "metadata": {
        "id": "NGaNNZ6KVp5r"
      },
      "execution_count": null,
      "outputs": []
    },
    {
      "cell_type": "code",
      "source": [
        "# Calcular la frecuencia de acciones correctivas\n",
        "action_freq <- df %>%\n",
        "  group_by(action_desc) %>%\n",
        "  summarise(count = n()) %>%\n",
        "  arrange(desc(count))\n",
        "\n",
        "# Calcular el porcentaje acumulado\n",
        "action_freq <- action_freq %>%\n",
        "  mutate(cum_count = cumsum(count),\n",
        "         cum_perc = cum_count / sum(count))\n",
        "action_freq\n",
        "#Grafica de distribución"
      ],
      "metadata": {
        "id": "GAwaYZaSWNmD"
      },
      "execution_count": null,
      "outputs": []
    },
    {
      "cell_type": "code",
      "source": [
        "# Calcular la frecuencia de acciones correctivas\n",
        "mechanic_freq <- df %>%\n",
        "  group_by(mechanic) %>%\n",
        "  summarise(count = n()) %>%\n",
        "  arrange(desc(count))\n",
        "\n",
        "# Calcular el porcentaje acumulado\n",
        "mechanic_freq <- mechanic_freq %>%\n",
        "  mutate(cum_count = cumsum(count),\n",
        "         cum_perc = cum_count / sum(count))\n",
        "mechanic_freq"
      ],
      "metadata": {
        "id": "X6SGcfGNa4CA"
      },
      "execution_count": null,
      "outputs": []
    },
    {
      "cell_type": "code",
      "source": [
        "# Crear el boxplot de repair_hours\n",
        "ggplot(df, aes(y = repair_hours)) +\n",
        "  geom_boxplot(fill = 'skyblue', color = 'black') +\n",
        "  labs(title = 'Boxplot de repair hours',\n",
        "       y = 'Costo de partes') +\n",
        "  theme_minimal()\n",
        "#Replicar gráfico con y sin outliers, analizar la frecuencia por rangos, medir con desviación típica, intentar medir cada cuanto ocurre el outlier, recomendación a añadir"
      ],
      "metadata": {
        "id": "9KmrANMLYUpY"
      },
      "execution_count": null,
      "outputs": []
    },
    {
      "cell_type": "markdown",
      "source": [
        "**ANALISIS DE VARIABLE OBJETIVO \"DOWNTIME GROSS\"**"
      ],
      "metadata": {
        "id": "uaTdHyHqabIq"
      }
    },
    {
      "cell_type": "code",
      "source": [
        "# Histograma de 'downtimeGross'\n",
        "hist_downtimeGross <- ggplot(df, aes(x = downtime_gross)) +\n",
        "  geom_histogram(binwidth = 0.1, fill = \"green\", color = \"black\", alpha = 0.7) +\n",
        "  labs(title = \"Histograma de Downtime Bruto\",\n",
        "       x = \"Downtime Bruto (horas)\",\n",
        "       y = \"Frecuencia\") +\n",
        "  theme_minimal()\n",
        "\n",
        "# Mostrar histogramas\n",
        "print(hist_downtimeGross)\n",
        "#Hacerlo más grande"
      ],
      "metadata": {
        "id": "pX3O1eGXcMZL"
      },
      "execution_count": null,
      "outputs": []
    },
    {
      "cell_type": "code",
      "source": [
        "# Crear el boxplot de daysbetween_failures\n",
        "ggplot(df, aes(y = downtime_gross)) +\n",
        "  geom_boxplot(fill = 'skyblue', color = 'black') +\n",
        "  labs(title = 'Boxplot de Days Between Failures',\n",
        "       y = 'Días entre Fallas') +\n",
        "  theme_minimal()"
      ],
      "metadata": {
        "id": "pn4a06xQXhJW"
      },
      "execution_count": null,
      "outputs": []
    },
    {
      "cell_type": "markdown",
      "source": [
        "**MODELO DE REGRESION LINEAL INICIAL PARA PREDECIR DOWNTIME**\n",
        "\n"
      ],
      "metadata": {
        "id": "YYWc2PhqQL_7"
      }
    },
    {
      "cell_type": "code",
      "source": [
        "df <- select(df, -wo_type)\n",
        "#Comparar con un glm"
      ],
      "metadata": {
        "id": "zMojStQASpaL"
      },
      "execution_count": null,
      "outputs": []
    },
    {
      "cell_type": "code",
      "source": [
        "head(df,5)"
      ],
      "metadata": {
        "id": "xW557DNOma5T"
      },
      "execution_count": null,
      "outputs": []
    },
    {
      "cell_type": "code",
      "source": [
        "# Establecer una semilla para reproducibilidad\n",
        "set.seed(123)\n",
        "\n",
        "# Definir la proporción de entrenamiento\n",
        "train_proportion <- 0.80\n",
        "\n",
        "# Crear índices de muestreo para el conjunto de entrenamiento\n",
        "trainIndex <- createDataPartition(df$downtime_gross, p = train_proportion, list = FALSE)\n",
        "\n",
        "# Crear conjunto de entrenamiento\n",
        "train_data1 <- df[trainIndex,]\n",
        "\n",
        "# Crear conjunto de prueba\n",
        "test_data1 <- df[-trainIndex,]\n",
        "\n",
        "# Comprobar las dimensiones de cada conjunto\n",
        "cat(\"Dimensiones del conjunto de entrenamiento: \", dim(train_data1), \"\\n\")\n",
        "cat(\"Dimensiones del conjunto de prueba: \", dim(test_data1), \"\\n\")"
      ],
      "metadata": {
        "id": "urg65TgR_ZxF"
      },
      "execution_count": null,
      "outputs": []
    },
    {
      "cell_type": "code",
      "source": [
        "# Inicializar y ajustar el modelo de regresión lineal\n",
        "#Dividir en entrenamiento, test, validación por ejemplo 70,20,10\n",
        "model1 <- glm(downtime_gross~. -equipment -downtime_gross -repair_hours -Days_Between_Failures -date -changed_pcs, data = train_data1)\n",
        "# Resumen del modelo\n",
        "summary(model1)"
      ],
      "metadata": {
        "id": "bSJjlo6uIhBL"
      },
      "execution_count": null,
      "outputs": []
    },
    {
      "cell_type": "markdown",
      "source": [
        "**CALCULO DE VARIABLES PARA MEJORA DEL AJUSTE**"
      ],
      "metadata": {
        "id": "SgZxGsrHQUJl"
      }
    },
    {
      "cell_type": "code",
      "source": [
        "#Calcular los fallos acumulativos\n",
        "df <- df %>%\n",
        "  group_by(equipment) %>%\n",
        "  mutate(Cumulative_Failure_Count = row_number())"
      ],
      "metadata": {
        "id": "nTXK2CN1arF3"
      },
      "execution_count": null,
      "outputs": []
    },
    {
      "cell_type": "code",
      "source": [
        "# Calcular la mediana de tiempo de reparación\n",
        "df <- df %>%\n",
        "  group_by(equipment) %>%\n",
        "  mutate(Median_Repair_Time = median(repair_hours, na.rm = TRUE))"
      ],
      "metadata": {
        "id": "ay7pacmzayII"
      },
      "execution_count": null,
      "outputs": []
    },
    {
      "cell_type": "code",
      "source": [
        "# Calcular el costo acumulado de mantenimiento\n",
        "df <- df %>%\n",
        "  group_by(equipment) %>%\n",
        "  mutate(Cumulative_Maintenance_Cost = cumsum(parts_cost))"
      ],
      "metadata": {
        "id": "_eN_OS-pa8be"
      },
      "execution_count": null,
      "outputs": []
    },
    {
      "cell_type": "code",
      "source": [
        "# Establecer una semilla para reproducibilidad\n",
        "set.seed(123)\n",
        "\n",
        "# Definir la proporción de entrenamiento\n",
        "train_proportion <- 0.80\n",
        "\n",
        "# Crear índices de muestreo para el conjunto de entrenamiento\n",
        "trainIndex <- createDataPartition(df$downtime_gross, p = train_proportion, list = FALSE)\n",
        "\n",
        "# Crear conjunto de entrenamiento\n",
        "train_data2 <- df[trainIndex,]\n",
        "\n",
        "# Crear conjunto de prueba\n",
        "test_data2 <- df[-trainIndex,]\n",
        "\n",
        "# Comprobar las dimensiones de cada conjunto\n",
        "cat(\"Dimensiones del conjunto de entrenamiento: \", dim(train_data2), \"\\n\")\n",
        "cat(\"Dimensiones del conjunto de prueba: \", dim(test_data2), \"\\n\")"
      ],
      "metadata": {
        "id": "FBoXjtNkA6bP"
      },
      "execution_count": null,
      "outputs": []
    },
    {
      "cell_type": "markdown",
      "source": [
        "**MODELO DE REGRESION LINEAL PARA PREDECIR DOWNTIME CON MAS VARIABLES**"
      ],
      "metadata": {
        "id": "wNC721DunCQG"
      }
    },
    {
      "cell_type": "code",
      "source": [
        "# Inicializar y ajustar el modelo de regresión lineal\n",
        "model2 <- glm(downtime_gross~. -equipment -downtime_gross -repair_hours -date -changed_pcs, data = train_data2)\n",
        "# Resumen del modelo\n",
        "summary(model2)"
      ],
      "metadata": {
        "id": "qtPJcI7SifTV"
      },
      "execution_count": null,
      "outputs": []
    },
    {
      "cell_type": "markdown",
      "source": [
        "**MODELO AGREGANDO LA VARIABLE \"MACHINE AGE\"**"
      ],
      "metadata": {
        "id": "ErY-VFlBe-jz"
      }
    },
    {
      "cell_type": "code",
      "source": [
        "# Renombrar la columna 'Equipment' a 'equipment' en df_age\n",
        "df_age <- df_age %>% rename(equipment = Equipment)"
      ],
      "metadata": {
        "id": "5PLrak9YefvC"
      },
      "execution_count": null,
      "outputs": []
    },
    {
      "cell_type": "code",
      "source": [
        "df_merged <- df %>%\n",
        "  left_join(df_age %>% select(equipment, Age), by = \"equipment\")"
      ],
      "metadata": {
        "id": "rHg8j3dFNYjP"
      },
      "execution_count": null,
      "outputs": []
    },
    {
      "cell_type": "code",
      "source": [
        "head(df_merged,3)"
      ],
      "metadata": {
        "id": "IZsr48KyNdqq"
      },
      "execution_count": null,
      "outputs": []
    },
    {
      "cell_type": "code",
      "source": [
        "# Establecer una semilla para reproducibilidad\n",
        "set.seed(123)\n",
        "\n",
        "# Definir la proporción de entrenamiento\n",
        "train_proportion <- 0.80\n",
        "\n",
        "# Crear índices de muestreo para el conjunto de entrenamiento\n",
        "trainIndex <- createDataPartition(df_merged$downtime_gross, p = train_proportion, list = FALSE)\n",
        "\n",
        "# Crear conjunto de entrenamiento\n",
        "train_data3 <- df_merged[trainIndex,]\n",
        "\n",
        "# Crear conjunto de prueba\n",
        "test_data3 <- df_merged[-trainIndex,]\n",
        "\n",
        "# Comprobar las dimensiones de cada conjunto\n",
        "cat(\"Dimensiones del conjunto de entrenamiento: \", dim(train_data3), \"\\n\")\n",
        "cat(\"Dimensiones del conjunto de prueba: \", dim(test_data3), \"\\n\")"
      ],
      "metadata": {
        "id": "zs19kaCzA-Kg"
      },
      "execution_count": null,
      "outputs": []
    },
    {
      "cell_type": "code",
      "source": [
        "# Inicializar y ajustar el modelo de regresión lineal\n",
        "model3 <- glm(downtime_gross~. -equipment -downtime_gross -repair_hours -date -changed_pcs, data = df_train3)\n",
        "# Resumen del modelo\n",
        "summary(model3)"
      ],
      "metadata": {
        "id": "DS8CsC2lN-GX"
      },
      "execution_count": null,
      "outputs": []
    },
    {
      "cell_type": "markdown",
      "source": [
        "**MODELO AGREGANDO LA VARIABLE \"MECHANIC ANTIQUITY\"**"
      ],
      "metadata": {
        "id": "968bHyzjftyD"
      }
    },
    {
      "cell_type": "code",
      "source": [
        "df_merged2 <- df_merged %>%\n",
        "  left_join(df_mechanic %>% select(mechanic, antiquity), by = \"mechanic\")"
      ],
      "metadata": {
        "id": "2laPktQUf02l"
      },
      "execution_count": null,
      "outputs": []
    },
    {
      "cell_type": "code",
      "source": [
        "# Establecer una semilla para reproducibilidad\n",
        "set.seed(123)\n",
        "\n",
        "# Definir la proporción de entrenamiento\n",
        "train_proportion <- 0.80\n",
        "\n",
        "# Crear índices de muestreo para el conjunto de entrenamiento\n",
        "trainIndex <- createDataPartition(df_merged2$downtime_gross, p = train_proportion, list = FALSE)\n",
        "\n",
        "# Crear conjunto de entrenamiento\n",
        "train_data4 <- df_merged2[trainIndex,]\n",
        "\n",
        "# Crear conjunto de prueba\n",
        "test_data4 <- df_merged2[-trainIndex,]\n",
        "\n",
        "# Comprobar las dimensiones de cada conjunto\n",
        "cat(\"Dimensiones del conjunto de entrenamiento: \", dim(train_data4), \"\\n\")\n",
        "cat(\"Dimensiones del conjunto de prueba: \", dim(test_data4), \"\\n\")"
      ],
      "metadata": {
        "id": "ETZVlhyyFKos"
      },
      "execution_count": null,
      "outputs": []
    },
    {
      "cell_type": "code",
      "source": [
        "# Inicializar y ajustar el modelo de regresión lineal\n",
        "model4 <- glm(downtime_gross~. -equipment -downtime_gross -repair_hours -date -changed_pcs, data = train_data4)\n",
        "# Resumen del modelo\n",
        "summary(model4)"
      ],
      "metadata": {
        "id": "XfsJj_wGgai2"
      },
      "execution_count": null,
      "outputs": []
    },
    {
      "cell_type": "markdown",
      "source": [
        "**AGREGANDO LA VARIABLE \"CHANGED_PCS\"**"
      ],
      "metadata": {
        "id": "XnWazNAqyWIL"
      }
    },
    {
      "cell_type": "code",
      "source": [
        "# Inicializar y ajustar el modelo de regresión lineal\n",
        "model5 <- glm(downtime_gross~. -equipment -downtime_gross -repair_hours -date -antiquity, data = train_data4)\n",
        "# Resumen del modelo\n",
        "summary(model5)"
      ],
      "metadata": {
        "id": "vIodXx7Uycls"
      },
      "execution_count": null,
      "outputs": []
    },
    {
      "cell_type": "markdown",
      "source": [
        "Variables no significativas hay que eliminarlas del modelo"
      ],
      "metadata": {
        "id": "bgixN2_8ff6d"
      }
    },
    {
      "cell_type": "markdown",
      "source": [
        "**IMPLEMENTACION DE BACKWARD**"
      ],
      "metadata": {
        "id": "5xptOdwWQmL8"
      }
    },
    {
      "cell_type": "code",
      "source": [
        "sapply(df_merged2, function(x) sum(is.na(x)))"
      ],
      "metadata": {
        "id": "1TRzX0pOixHq",
        "colab": {
          "base_uri": "https://localhost:8080/",
          "height": 52
        },
        "outputId": "eaf4da42-5fe0-437a-a014-2b73412753c5"
      },
      "execution_count": null,
      "outputs": [
        {
          "output_type": "display_data",
          "data": {
            "text/html": [
              "<style>\n",
              ".dl-inline {width: auto; margin:0; padding: 0}\n",
              ".dl-inline>dt, .dl-inline>dd {float: none; width: auto; display: inline-block}\n",
              ".dl-inline>dt::after {content: \":\\0020\"; padding-right: .5ex}\n",
              ".dl-inline>dt:not(:first-of-type) {padding-left: .5ex}\n",
              "</style><dl class=dl-inline><dt>equipment</dt><dd>0</dd><dt>operation</dt><dd>0</dd><dt>base_model</dt><dd>0</dd><dt>problem_desc</dt><dd>0</dd><dt>failure_desc</dt><dd>0</dd><dt>cause_desc</dt><dd>0</dd><dt>action_desc</dt><dd>0</dd><dt>mechanic</dt><dd>0</dd><dt>date</dt><dd>0</dd><dt>downtime_gross</dt><dd>0</dd><dt>parts_cost</dt><dd>0</dd><dt>repair_hours</dt><dd>0</dd><dt>changed_pcs</dt><dd>0</dd><dt>Days_Between_Failures</dt><dd>0</dd><dt>Cumulative_Failure_Count</dt><dd>0</dd><dt>Median_Repair_Time</dt><dd>0</dd><dt>Cumulative_Maintenance_Cost</dt><dd>0</dd><dt>Age</dt><dd>0</dd><dt>antiquity</dt><dd>0</dd></dl>\n"
            ],
            "text/markdown": "equipment\n:   0operation\n:   0base_model\n:   0problem_desc\n:   0failure_desc\n:   0cause_desc\n:   0action_desc\n:   0mechanic\n:   0date\n:   0downtime_gross\n:   0parts_cost\n:   0repair_hours\n:   0changed_pcs\n:   0Days_Between_Failures\n:   0Cumulative_Failure_Count\n:   0Median_Repair_Time\n:   0Cumulative_Maintenance_Cost\n:   0Age\n:   0antiquity\n:   0\n\n",
            "text/latex": "\\begin{description*}\n\\item[equipment] 0\n\\item[operation] 0\n\\item[base\\textbackslash{}\\_model] 0\n\\item[problem\\textbackslash{}\\_desc] 0\n\\item[failure\\textbackslash{}\\_desc] 0\n\\item[cause\\textbackslash{}\\_desc] 0\n\\item[action\\textbackslash{}\\_desc] 0\n\\item[mechanic] 0\n\\item[date] 0\n\\item[downtime\\textbackslash{}\\_gross] 0\n\\item[parts\\textbackslash{}\\_cost] 0\n\\item[repair\\textbackslash{}\\_hours] 0\n\\item[changed\\textbackslash{}\\_pcs] 0\n\\item[Days\\textbackslash{}\\_Between\\textbackslash{}\\_Failures] 0\n\\item[Cumulative\\textbackslash{}\\_Failure\\textbackslash{}\\_Count] 0\n\\item[Median\\textbackslash{}\\_Repair\\textbackslash{}\\_Time] 0\n\\item[Cumulative\\textbackslash{}\\_Maintenance\\textbackslash{}\\_Cost] 0\n\\item[Age] 0\n\\item[antiquity] 0\n\\end{description*}\n",
            "text/plain": [
              "                  equipment                   operation \n",
              "                          0                           0 \n",
              "                 base_model                problem_desc \n",
              "                          0                           0 \n",
              "               failure_desc                  cause_desc \n",
              "                          0                           0 \n",
              "                action_desc                    mechanic \n",
              "                          0                           0 \n",
              "                       date              downtime_gross \n",
              "                          0                           0 \n",
              "                 parts_cost                repair_hours \n",
              "                          0                           0 \n",
              "                changed_pcs       Days_Between_Failures \n",
              "                          0                           0 \n",
              "   Cumulative_Failure_Count          Median_Repair_Time \n",
              "                          0                           0 \n",
              "Cumulative_Maintenance_Cost                         Age \n",
              "                          0                           0 \n",
              "                  antiquity \n",
              "                          0 "
            ]
          },
          "metadata": {}
        }
      ]
    },
    {
      "cell_type": "code",
      "source": [
        "# Realizar backward elimination\n",
        "model_null <- lm(downtime_gross ~ 1, data = df_merged2)\n",
        "model_forward <- step(model_null,\n",
        "                      scope = list(lower = model_null, upper = model5),\n",
        "                      direction = \"forward\")\n",
        "model_forward$anova"
      ],
      "metadata": {
        "id": "ZbC7KyFYuvs8"
      },
      "execution_count": null,
      "outputs": []
    },
    {
      "cell_type": "code",
      "source": [
        "formula = as.formula(\"Days_Between_Failures ~ operation + base_model + mechanic + downtime_gross +\n",
        "    parts_cost + Cumulative_Failure_Count + Median_Repair_Time +\n",
        "    Cumulative_Maintenance_Cost + Age\")"
      ],
      "metadata": {
        "id": "lAcnoWbu6hlH"
      },
      "execution_count": null,
      "outputs": []
    },
    {
      "cell_type": "code",
      "source": [
        "# Inicializar y ajustar el modelo de regresión lineal\n",
        "model6 <- lm(formula = formula, data = df_merged3)\n",
        "# Resumen del modelo\n",
        "summary(model6)"
      ],
      "metadata": {
        "id": "B7rr4Ydn6qlM"
      },
      "execution_count": null,
      "outputs": []
    }
  ]
}