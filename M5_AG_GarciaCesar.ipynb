{
  "nbformat": 4,
  "nbformat_minor": 0,
  "metadata": {
    "colab": {
      "provenance": []
    },
    "kernelspec": {
      "name": "ir",
      "display_name": "R"
    },
    "language_info": {
      "name": "R"
    }
  },
  "cells": [
    {
      "cell_type": "markdown",
      "source": [
        "**Alumno:** César Emilio García Ávalos\n",
        "\n",
        "**Actividad:** M5_AI1_Modelo lineal Gaussiano_modelos espaciales"
      ],
      "metadata": {
        "id": "WAVuT--BYKiJ"
      }
    },
    {
      "cell_type": "code",
      "execution_count": 2,
      "metadata": {
        "id": "NXvNrUprHSkt",
        "colab": {
          "base_uri": "https://localhost:8080/"
        },
        "outputId": "bbac6072-ac6a-4e76-a8fd-150351592a8c"
      },
      "outputs": [
        {
          "output_type": "stream",
          "name": "stderr",
          "text": [
            "Installing packages into ‘/usr/local/lib/R/site-library’\n",
            "(as ‘lib’ is unspecified)\n",
            "\n",
            "\n",
            "Attaching package: ‘dplyr’\n",
            "\n",
            "\n",
            "The following object is masked from ‘package:MASS’:\n",
            "\n",
            "    select\n",
            "\n",
            "\n",
            "The following objects are masked from ‘package:stats’:\n",
            "\n",
            "    filter, lag\n",
            "\n",
            "\n",
            "The following objects are masked from ‘package:base’:\n",
            "\n",
            "    intersect, setdiff, setequal, union\n",
            "\n",
            "\n"
          ]
        }
      ],
      "source": [
        "install.packages(c(\"dplyr\", \"ggplot2\",\"MASS\"))\n",
        "library(MASS)\n",
        "library(dplyr)\n",
        "library(ggplot2)"
      ]
    },
    {
      "cell_type": "code",
      "source": [
        "# Cargar los datos\n",
        "df <- read.csv(\"http://www-eio.upc.edu/~pau/cms/rdata/csv/COUNT/affairs.csv\", header = TRUE)"
      ],
      "metadata": {
        "id": "APj0m1eNpo4F"
      },
      "execution_count": 3,
      "outputs": []
    },
    {
      "cell_type": "code",
      "source": [
        "summary(df)"
      ],
      "metadata": {
        "id": "Z-pUCyZDX6vg",
        "colab": {
          "base_uri": "https://localhost:8080/",
          "height": 624
        },
        "outputId": "3468e68d-9cad-4627-9355-4f7a1eace906"
      },
      "execution_count": 4,
      "outputs": [
        {
          "output_type": "display_data",
          "data": {
            "text/plain": [
              "       X          naffairs           kids           vryunhap      \n",
              " Min.   :  1   Min.   : 0.000   Min.   :0.0000   Min.   :0.00000  \n",
              " 1st Qu.:151   1st Qu.: 0.000   1st Qu.:0.0000   1st Qu.:0.00000  \n",
              " Median :301   Median : 0.000   Median :1.0000   Median :0.00000  \n",
              " Mean   :301   Mean   : 1.456   Mean   :0.7155   Mean   :0.02662  \n",
              " 3rd Qu.:451   3rd Qu.: 0.000   3rd Qu.:1.0000   3rd Qu.:0.00000  \n",
              " Max.   :601   Max.   :12.000   Max.   :1.0000   Max.   :1.00000  \n",
              "     unhap           avgmarr           hapavg           vryhap     \n",
              " Min.   :0.0000   Min.   :0.0000   Min.   :0.0000   Min.   :0.000  \n",
              " 1st Qu.:0.0000   1st Qu.:0.0000   1st Qu.:0.0000   1st Qu.:0.000  \n",
              " Median :0.0000   Median :0.0000   Median :0.0000   Median :0.000  \n",
              " Mean   :0.1098   Mean   :0.1547   Mean   :0.3228   Mean   :0.386  \n",
              " 3rd Qu.:0.0000   3rd Qu.:0.0000   3rd Qu.:1.0000   3rd Qu.:1.000  \n",
              " Max.   :1.0000   Max.   :1.0000   Max.   :1.0000   Max.   :1.000  \n",
              "    antirel            notrel          slghtrel          smerel      \n",
              " Min.   :0.00000   Min.   :0.0000   Min.   :0.0000   Min.   :0.0000  \n",
              " 1st Qu.:0.00000   1st Qu.:0.0000   1st Qu.:0.0000   1st Qu.:0.0000  \n",
              " Median :0.00000   Median :0.0000   Median :0.0000   Median :0.0000  \n",
              " Mean   :0.07987   Mean   :0.2729   Mean   :0.2146   Mean   :0.3161  \n",
              " 3rd Qu.:0.00000   3rd Qu.:1.0000   3rd Qu.:0.0000   3rd Qu.:1.0000  \n",
              " Max.   :1.00000   Max.   :1.0000   Max.   :1.0000   Max.   :1.0000  \n",
              "     vryrel          yrsmarr1          yrsmarr2         yrsmarr3     \n",
              " Min.   :0.0000   Min.   :0.00000   Min.   :0.0000   Min.   :0.0000  \n",
              " 1st Qu.:0.0000   1st Qu.:0.00000   1st Qu.:0.0000   1st Qu.:0.0000  \n",
              " Median :0.0000   Median :0.00000   Median :0.0000   Median :0.0000  \n",
              " Mean   :0.1165   Mean   :0.08652   Mean   :0.1464   Mean   :0.1747  \n",
              " 3rd Qu.:0.0000   3rd Qu.:0.00000   3rd Qu.:0.0000   3rd Qu.:0.0000  \n",
              " Max.   :1.0000   Max.   :1.00000   Max.   :1.0000   Max.   :1.0000  \n",
              "    yrsmarr4         yrsmarr5         yrsmarr6     \n",
              " Min.   :0.0000   Min.   :0.0000   Min.   :0.0000  \n",
              " 1st Qu.:0.0000   1st Qu.:0.0000   1st Qu.:0.0000  \n",
              " Median :0.0000   Median :0.0000   Median :0.0000  \n",
              " Mean   :0.1364   Mean   :0.1165   Mean   :0.3394  \n",
              " 3rd Qu.:0.0000   3rd Qu.:0.0000   3rd Qu.:1.0000  \n",
              " Max.   :1.0000   Max.   :1.0000   Max.   :1.0000  "
            ]
          },
          "metadata": {}
        }
      ]
    },
    {
      "cell_type": "code",
      "source": [
        "sum(is.na(df))"
      ],
      "metadata": {
        "id": "nh-YyfavlX0y",
        "outputId": "f47030d0-abfe-4289-e3d1-b69bb22a545f",
        "colab": {
          "base_uri": "https://localhost:8080/",
          "height": 34
        }
      },
      "execution_count": 5,
      "outputs": [
        {
          "output_type": "display_data",
          "data": {
            "text/html": [
              "0"
            ],
            "text/markdown": "0",
            "text/latex": "0",
            "text/plain": [
              "[1] 0"
            ]
          },
          "metadata": {}
        }
      ]
    },
    {
      "cell_type": "code",
      "source": [
        "df$infiel <- ifelse(df$naffairs > 0, 1, 0)\n",
        "# Vector con los nombres de las variables categóricas\n",
        "categorical_vars <- c('infiel','kids','vryunhap', 'unhap', 'avgmarr', 'hapavg', 'vryhap', 'antirel', 'notrel', 'slghtrel', 'smerel', 'vryrel', 'yrsmarr1', 'yrsmarr2', 'yrsmarr3', 'yrsmarr4', 'yrsmarr5', 'yrsmarr6')\n",
        "df[categorical_vars] <- lapply(df[categorical_vars], as.factor)"
      ],
      "metadata": {
        "id": "bUASuXv1qIPU"
      },
      "execution_count": 6,
      "outputs": []
    },
    {
      "cell_type": "code",
      "source": [
        "affairs<- dplyr::select(df,-naffairs)\n",
        "\n",
        "# Ajustar el modelo de regresión logística\n",
        "modelo1 <- glm(infiel ~ ., data = affairs, family = binomial(link=\"logit\"))\n",
        "\n",
        "# Resumen del modelo\n",
        "summary(modelo1)"
      ],
      "metadata": {
        "id": "XLOSOkm6mEMQ",
        "outputId": "45ba69a7-67fe-4d3a-cb47-768b19473768",
        "colab": {
          "base_uri": "https://localhost:8080/",
          "height": 642
        }
      },
      "execution_count": 8,
      "outputs": [
        {
          "output_type": "display_data",
          "data": {
            "text/plain": [
              "\n",
              "Call:\n",
              "glm(formula = infiel ~ ., family = binomial(link = \"logit\"), \n",
              "    data = affairs)\n",
              "\n",
              "Coefficients: (3 not defined because of singularities)\n",
              "              Estimate Std. Error z value Pr(>|z|)    \n",
              "(Intercept) -1.8776113  0.5015234  -3.744 0.000181 ***\n",
              "X           -0.0005426  0.0005901  -0.919 0.357853    \n",
              "kids1        0.1756563  0.3111690   0.565 0.572411    \n",
              "vryunhap1    1.5045861  0.5582183   2.695 0.007032 ** \n",
              "unhap1       1.6209936  0.3296685   4.917 8.79e-07 ***\n",
              "avgmarr1     0.7810825  0.3101868   2.518 0.011799 *  \n",
              "hapavg1      0.4640377  0.2638408   1.759 0.078615 .  \n",
              "vryhap1             NA         NA      NA       NA    \n",
              "antirel1     1.4419425  0.4570436   3.155 0.001605 ** \n",
              "notrel1      0.4673187  0.3843995   1.216 0.224095    \n",
              "slghtrel1    0.8553738  0.3837339   2.229 0.025809 *  \n",
              "smerel1     -0.0776427  0.3797473  -0.204 0.837995    \n",
              "vryrel1             NA         NA      NA       NA    \n",
              "yrsmarr11   -1.1231083  0.5622042  -1.998 0.045751 *  \n",
              "yrsmarr21   -0.8099624  0.4296823  -1.885 0.059426 .  \n",
              "yrsmarr31   -0.1825722  0.3110720  -0.587 0.557262    \n",
              "yrsmarr41   -0.1308890  0.3141746  -0.417 0.676962    \n",
              "yrsmarr51    0.1549149  0.3267462   0.474 0.635419    \n",
              "yrsmarr61           NA         NA      NA       NA    \n",
              "---\n",
              "Signif. codes:  0 ‘***’ 0.001 ‘**’ 0.01 ‘*’ 0.05 ‘.’ 0.1 ‘ ’ 1\n",
              "\n",
              "(Dispersion parameter for binomial family taken to be 1)\n",
              "\n",
              "    Null deviance: 675.38  on 600  degrees of freedom\n",
              "Residual deviance: 601.37  on 585  degrees of freedom\n",
              "AIC: 633.37\n",
              "\n",
              "Number of Fisher Scoring iterations: 5\n"
            ]
          },
          "metadata": {}
        }
      ]
    },
    {
      "cell_type": "code",
      "source": [
        "# Ajustar el modelo de regresión de Poisson\n",
        "modelo2 <- glm(naffairs ~., data = df, family = poisson)\n",
        "\n",
        "# Resumen del modelo\n",
        "summary(modelo2)"
      ],
      "metadata": {
        "id": "oho-1DyByukg",
        "outputId": "94411463-7515-4241-8e53-3306ca3d4489",
        "colab": {
          "base_uri": "https://localhost:8080/",
          "height": 642
        }
      },
      "execution_count": 9,
      "outputs": [
        {
          "output_type": "display_data",
          "data": {
            "text/plain": [
              "\n",
              "Call:\n",
              "glm(formula = naffairs ~ ., family = poisson, data = df)\n",
              "\n",
              "Coefficients: (3 not defined because of singularities)\n",
              "              Estimate Std. Error z value Pr(>|z|)    \n",
              "(Intercept) -2.003e+01  7.164e+02  -0.028 0.977699    \n",
              "X           -1.583e-04  1.901e-04  -0.833 0.405053    \n",
              "kids1       -2.705e-01  1.015e-01  -2.666 0.007679 ** \n",
              "vryunhap1    3.178e-01  1.548e-01   2.053 0.040032 *  \n",
              "unhap1       4.098e-01  1.066e-01   3.845 0.000121 ***\n",
              "avgmarr1    -7.560e-02  1.219e-01  -0.620 0.535262    \n",
              "hapavg1      3.202e-02  1.080e-01   0.296 0.766863    \n",
              "vryhap1             NA         NA      NA       NA    \n",
              "antirel1     4.602e-01  1.624e-01   2.833 0.004607 ** \n",
              "notrel1      4.473e-01  1.480e-01   3.022 0.002510 ** \n",
              "slghtrel1    3.171e-01  1.478e-01   2.146 0.031913 *  \n",
              "smerel1      2.253e-02  1.523e-01   0.148 0.882391    \n",
              "vryrel1             NA         NA      NA       NA    \n",
              "yrsmarr11   -1.785e-01  2.079e-01  -0.859 0.390455    \n",
              "yrsmarr21   -9.497e-01  1.762e-01  -5.390 7.03e-08 ***\n",
              "yrsmarr31   -6.276e-01  1.156e-01  -5.431 5.60e-08 ***\n",
              "yrsmarr41   -1.724e-01  1.017e-01  -1.696 0.089946 .  \n",
              "yrsmarr51   -1.067e-01  1.056e-01  -1.010 0.312403    \n",
              "yrsmarr61           NA         NA      NA       NA    \n",
              "infiel1      2.185e+01  7.164e+02   0.030 0.975668    \n",
              "---\n",
              "Signif. codes:  0 ‘***’ 0.001 ‘**’ 0.01 ‘*’ 0.05 ‘.’ 0.1 ‘ ’ 1\n",
              "\n",
              "(Dispersion parameter for poisson family taken to be 1)\n",
              "\n",
              "    Null deviance: 2925.46  on 600  degrees of freedom\n",
              "Residual deviance:  392.97  on 584  degrees of freedom\n",
              "AIC: 920.96\n",
              "\n",
              "Number of Fisher Scoring iterations: 18\n"
            ]
          },
          "metadata": {}
        }
      ]
    },
    {
      "cell_type": "markdown",
      "source": [
        "Dado que todas estas variables representan la misma idea pero en diferentes rangos de tiempo, su inclusión simultánea en el modelo introduciría una redundancia innecesaria. Además, su presencia podría generar multicolinealidad perfecta, lo que podría afectar la estabilidad y la interpretación del modelo."
      ],
      "metadata": {
        "id": "7Ci1oKMQ0NIk"
      }
    },
    {
      "cell_type": "code",
      "source": [
        "# Paso 1: Ajustar el modelo de regresión de Poisson\n",
        "modelo3 <- glm(naffairs ~ yrsmarr5 + notrel + kids, data = df, family = poisson)\n",
        "\n",
        "# Paso 2: Crear un nuevo conjunto de datos con las características específicas\n",
        "nuevos_datos <- data.frame(yrsmarr5 = 1, notrel = 1, kids = 0)\n",
        "\n",
        "categorical_vars <- c('kids', 'notrel', 'yrsmarr5')\n",
        "nuevos_datos[categorical_vars] <- lapply(nuevos_datos[categorical_vars], as.factor)\n",
        "\n",
        "# Paso 3: Predecir la frecuencia de infidelidades para las características especificadas\n",
        "frecuencia_infidelidades <- predict(modelo3, nuevos_datos, type = \"response\")\n",
        "\n",
        "frecuencia_infidelidades"
      ],
      "metadata": {
        "id": "jt9cWkJL0WKs",
        "outputId": "c0bfe7db-c895-42b2-c068-731c4512d279",
        "colab": {
          "base_uri": "https://localhost:8080/",
          "height": 34
        }
      },
      "execution_count": 10,
      "outputs": [
        {
          "output_type": "display_data",
          "data": {
            "text/html": [
              "<strong>1:</strong> 1.25737841889828"
            ],
            "text/markdown": "**1:** 1.25737841889828",
            "text/latex": "\\textbf{1:} 1.25737841889828",
            "text/plain": [
              "       1 \n",
              "1.257378 "
            ]
          },
          "metadata": {}
        }
      ]
    },
    {
      "cell_type": "code",
      "source": [
        "# Calcula el intervalo de confianza del 95%\n",
        "intervalo_confianza <- confint(frecuencia_infidelidades, level = 0.95)\n",
        "\n",
        "# Imprime el intervalo de confianza\n",
        "print(intervalo_confianza)"
      ],
      "metadata": {
        "id": "Xy1os9rC1O3z",
        "outputId": "18c548ce-bd50-4468-b711-369bdbdbeb40",
        "colab": {
          "base_uri": "https://localhost:8080/",
          "height": 158
        }
      },
      "execution_count": 24,
      "outputs": [
        {
          "output_type": "error",
          "ename": "ERROR",
          "evalue": "Error in object$coefficients: $ operator is invalid for atomic vectors\n",
          "traceback": [
            "Error in object$coefficients: $ operator is invalid for atomic vectors\nTraceback:\n",
            "1. confint(frecuencia_infidelidades, level = 0.95)",
            "2. confint.default(frecuencia_infidelidades, level = 0.95)",
            "3. coef(object)",
            "4. coef.default(object)"
          ]
        }
      ]
    },
    {
      "cell_type": "code",
      "source": [
        "# Obtener los residuos devueltos por el modelo\n",
        "residuos <- residuals(modelo2, type = \"deviance\")\n",
        "# Realizar la prueba de Shapiro-Wilk para la normalidad de los residuos\n",
        "shapiro_test <- shapiro.test(residuos)\n",
        "# Imprimir los resultados de la prueba\n",
        "print(shapiro_test)"
      ],
      "metadata": {
        "id": "WM4Zs5gTTo0B",
        "outputId": "0ba1bc05-b80f-4443-92a9-b3e4f6cf085c",
        "colab": {
          "base_uri": "https://localhost:8080/"
        }
      },
      "execution_count": 14,
      "outputs": [
        {
          "output_type": "stream",
          "name": "stdout",
          "text": [
            "\n",
            "\tShapiro-Wilk normality test\n",
            "\n",
            "data:  residuos\n",
            "W = 0.65755, p-value < 2.2e-16\n",
            "\n"
          ]
        }
      ]
    },
    {
      "cell_type": "code",
      "source": [
        "# Interpretar el valor p\n",
        "p_value <- shapiro_test$p.value\n",
        "\n",
        "# Niveles de significancia comunes\n",
        "niveles_confianza <- c(0.10, 0.05, 0.01)\n",
        "\n",
        "# Determinar el nivel de confianza\n",
        "for (nivel in niveles_confianza) {\n",
        "  if (p_value > nivel) {\n",
        "    cat(\"Los residuos se distribuyen normalmente con un nivel de confianza del\", (1 - nivel) * 100, \"%.\\n\")\n",
        "  } else {\n",
        "    cat(\"Los residuos no se distribuyen normalmente con un nivel de confianza del\", (1 - nivel) * 100, \"%.\\n\")\n",
        "  }\n",
        "}"
      ],
      "metadata": {
        "id": "RjVxCfodjdg3",
        "outputId": "029f2966-d6ce-4fc5-df12-b952db00eb97",
        "colab": {
          "base_uri": "https://localhost:8080/"
        }
      },
      "execution_count": 15,
      "outputs": [
        {
          "output_type": "stream",
          "name": "stdout",
          "text": [
            "Los residuos no se distribuyen normalmente con un nivel de confianza del 90 %.\n",
            "Los residuos no se distribuyen normalmente con un nivel de confianza del 95 %.\n",
            "Los residuos no se distribuyen normalmente con un nivel de confianza del 99 %.\n"
          ]
        }
      ]
    },
    {
      "cell_type": "code",
      "source": [
        "# Ajustar el modelo de regresión de Poisson con la interacción específica entre años de matrimonio y hijos\n",
        "modelo4 <- glm(naffairs ~ kids * (yrsmarr1 + yrsmarr2 + yrsmarr3 + yrsmarr4 + yrsmarr5 + yrsmarr6) + vryunhap + unhap + avgmarr + hapavg + vryhap + antirel + notrel + slghtrel + smerel + vryrel, data = df, family = poisson)\n",
        "summary(modelo4)\n"
      ],
      "metadata": {
        "id": "N9wtfhUCjo2f",
        "outputId": "19dafb93-6342-4a83-9053-c9675152ac05",
        "colab": {
          "base_uri": "https://localhost:8080/",
          "height": 763
        }
      },
      "execution_count": 19,
      "outputs": [
        {
          "output_type": "display_data",
          "data": {
            "text/plain": [
              "\n",
              "Call:\n",
              "glm(formula = naffairs ~ kids * (yrsmarr1 + yrsmarr2 + yrsmarr3 + \n",
              "    yrsmarr4 + yrsmarr5 + yrsmarr6) + vryunhap + unhap + avgmarr + \n",
              "    hapavg + vryhap + antirel + notrel + slghtrel + smerel + \n",
              "    vryrel, family = poisson, data = df)\n",
              "\n",
              "Coefficients: (4 not defined because of singularities)\n",
              "                Estimate Std. Error z value Pr(>|z|)    \n",
              "(Intercept)      0.27001    0.22919   1.178 0.238752    \n",
              "kids1           -0.63158    0.18186  -3.473 0.000515 ***\n",
              "yrsmarr11       -4.10216    0.73049  -5.616 1.96e-08 ***\n",
              "yrsmarr21       -2.28875    0.27217  -8.409  < 2e-16 ***\n",
              "yrsmarr31       -0.84881    0.22270  -3.811 0.000138 ***\n",
              "yrsmarr41       -0.10435    0.28486  -0.366 0.714133    \n",
              "yrsmarr51       -0.53443    0.29385  -1.819 0.068955 .  \n",
              "yrsmarr61             NA         NA      NA       NA    \n",
              "vryunhap1        1.18739    0.15578   7.622 2.50e-14 ***\n",
              "unhap1           1.44444    0.10590  13.639  < 2e-16 ***\n",
              "avgmarr1         0.50520    0.11870   4.256 2.08e-05 ***\n",
              "hapavg1          0.37100    0.10229   3.627 0.000287 ***\n",
              "vryhap1               NA         NA      NA       NA    \n",
              "antirel1         1.34845    0.15951   8.454  < 2e-16 ***\n",
              "notrel1          0.65619    0.14499   4.526 6.02e-06 ***\n",
              "slghtrel1        0.76350    0.14457   5.281 1.28e-07 ***\n",
              "smerel1         -0.08666    0.15104  -0.574 0.566107    \n",
              "vryrel1               NA         NA      NA       NA    \n",
              "kids1:yrsmarr11  4.34652    0.75776   5.736 9.69e-09 ***\n",
              "kids1:yrsmarr21  1.46449    0.36683   3.992 6.54e-05 ***\n",
              "kids1:yrsmarr31 -0.03213    0.26006  -0.124 0.901666    \n",
              "kids1:yrsmarr41 -0.34995    0.30469  -1.149 0.250737    \n",
              "kids1:yrsmarr51  0.56695    0.30962   1.831 0.067082 .  \n",
              "kids1:yrsmarr61       NA         NA      NA       NA    \n",
              "---\n",
              "Signif. codes:  0 ‘***’ 0.001 ‘**’ 0.01 ‘*’ 0.05 ‘.’ 0.1 ‘ ’ 1\n",
              "\n",
              "(Dispersion parameter for poisson family taken to be 1)\n",
              "\n",
              "    Null deviance: 2925.5  on 600  degrees of freedom\n",
              "Residual deviance: 2206.7  on 581  degrees of freedom\n",
              "AIC: 2740.6\n",
              "\n",
              "Number of Fisher Scoring iterations: 6\n"
            ]
          },
          "metadata": {}
        }
      ]
    }
  ]
}