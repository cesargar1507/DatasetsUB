{
  "nbformat": 4,
  "nbformat_minor": 0,
  "metadata": {
    "colab": {
      "provenance": []
    },
    "kernelspec": {
      "name": "ir",
      "display_name": "R"
    },
    "language_info": {
      "name": "R"
    }
  },
  "cells": [
    {
      "cell_type": "markdown",
      "source": [
        "**Alumno:** César Emilio García Ávalos\n",
        "\n",
        "**Actividad:** M3_AI3_Preparar datos de Facebook por país"
      ],
      "metadata": {
        "id": "WAVuT--BYKiJ"
      }
    },
    {
      "cell_type": "code",
      "execution_count": 2,
      "metadata": {
        "colab": {
          "base_uri": "https://localhost:8080/"
        },
        "id": "NXvNrUprHSkt",
        "outputId": "75647633-b2ff-4499-e2e4-9e5c814022e8"
      },
      "outputs": [
        {
          "output_type": "stream",
          "name": "stderr",
          "text": [
            "\n",
            "Attaching package: ‘dplyr’\n",
            "\n",
            "\n",
            "The following objects are masked from ‘package:stats’:\n",
            "\n",
            "    filter, lag\n",
            "\n",
            "\n",
            "The following objects are masked from ‘package:base’:\n",
            "\n",
            "    intersect, setdiff, setequal, union\n",
            "\n",
            "\n",
            "Installing package into ‘/usr/local/lib/R/site-library’\n",
            "(as ‘lib’ is unspecified)\n",
            "\n",
            "also installing the dependency ‘randomForest’\n",
            "\n",
            "\n",
            "Loading required package: lattice\n",
            "\n",
            "Loading required package: KernSmooth\n",
            "\n",
            "KernSmooth 2.23 loaded\n",
            "Copyright M. P. Wand 1997-2009\n",
            "\n",
            "Loading required package: randomForest\n",
            "\n",
            "randomForest 4.7-1.1\n",
            "\n",
            "Type rfNews() to see new features/changes/bug fixes.\n",
            "\n",
            "\n",
            "Attaching package: ‘randomForest’\n",
            "\n",
            "\n",
            "The following object is masked from ‘package:dplyr’:\n",
            "\n",
            "    combine\n",
            "\n",
            "\n",
            "Installing package into ‘/usr/local/lib/R/site-library’\n",
            "(as ‘lib’ is unspecified)\n",
            "\n",
            "\n",
            "Attaching package: ‘MASS’\n",
            "\n",
            "\n",
            "The following object is masked from ‘package:MPV’:\n",
            "\n",
            "    cement\n",
            "\n",
            "\n",
            "The following object is masked from ‘package:dplyr’:\n",
            "\n",
            "    select\n",
            "\n",
            "\n"
          ]
        }
      ],
      "source": [
        "library(readr)\n",
        "library(tidyr)\n",
        "library(dplyr)\n",
        "install.packages(\"MPV\")\n",
        "library(MPV)\n",
        "install.packages(\"MASS\")\n",
        "library(MASS)"
      ]
    },
    {
      "cell_type": "code",
      "source": [
        "df <- table.b3[-c(23,25),]"
      ],
      "metadata": {
        "id": "u9pvDDayau40"
      },
      "execution_count": 22,
      "outputs": []
    },
    {
      "cell_type": "code",
      "source": [
        "colnames(df) <- c(\"Miles/gallon\",\"Displacement\",\"Horsepower\",\"Torque\",\"Compression ratio\",\"Rear axle ratio\",\"Carburetor\",\"No. of transmission speeds\",\"Overall length\",\"Width\",\"Weight\",\"Type of transmission\")"
      ],
      "metadata": {
        "id": "NXC5Iem1bS4m"
      },
      "execution_count": 23,
      "outputs": []
    },
    {
      "cell_type": "code",
      "source": [
        "summary(df)"
      ],
      "metadata": {
        "id": "OmCIoiNTcMpI",
        "outputId": "10787284-a11c-4e72-e4c1-cf54ca288b7d",
        "colab": {
          "base_uri": "https://localhost:8080/",
          "height": 381
        }
      },
      "execution_count": 24,
      "outputs": [
        {
          "output_type": "display_data",
          "data": {
            "text/plain": [
              "  Miles/gallon    Displacement     Horsepower        Torque     \n",
              " Min.   :11.20   Min.   : 85.3   Min.   : 70.0   Min.   : 81.0  \n",
              " 1st Qu.:16.43   1st Qu.:226.5   1st Qu.:106.0   1st Qu.:171.2  \n",
              " Median :19.30   Median :318.0   Median :141.5   Median :243.0  \n",
              " Mean   :20.04   Mean   :286.0   Mean   :137.0   Mean   :217.9  \n",
              " 3rd Qu.:21.49   3rd Qu.:351.0   3rd Qu.:165.0   3rd Qu.:258.8  \n",
              " Max.   :36.50   Max.   :500.0   Max.   :223.0   Max.   :366.0  \n",
              " Compression ratio Rear axle ratio   Carburetor    No. of transmission speeds\n",
              " Min.   :8.000     Min.   :2.450   Min.   :1.000   Min.   :3.000             \n",
              " 1st Qu.:8.000     1st Qu.:2.710   1st Qu.:2.000   1st Qu.:3.000             \n",
              " Median :8.325     Median :3.000   Median :2.000   Median :3.000             \n",
              " Mean   :8.313     Mean   :3.059   Mean   :2.567   Mean   :3.333             \n",
              " 3rd Qu.:8.500     3rd Qu.:3.243   3rd Qu.:4.000   3rd Qu.:3.000             \n",
              " Max.   :9.000     Max.   :4.300   Max.   :4.000   Max.   :5.000             \n",
              " Overall length      Width           Weight     Type of transmission\n",
              " Min.   :155.7   Min.   :61.80   Min.   :1905   Min.   :0.0000      \n",
              " 1st Qu.:173.4   1st Qu.:65.78   1st Qu.:3028   1st Qu.:0.2500      \n",
              " Median :196.1   Median :72.00   Median :3760   Median :1.0000      \n",
              " Mean   :192.3   Mean   :71.42   Mean   :3626   Mean   :0.7333      \n",
              " 3rd Qu.:207.1   3rd Qu.:76.30   3rd Qu.:4215   3rd Qu.:1.0000      \n",
              " Max.   :231.0   Max.   :79.80   Max.   :5430   Max.   :1.0000      "
            ]
          },
          "metadata": {}
        }
      ]
    },
    {
      "cell_type": "code",
      "source": [
        "sum(is.na(df))"
      ],
      "metadata": {
        "id": "tu1jG7RKcSY_",
        "outputId": "c8cece7b-80e4-427e-c825-30bbe339270b",
        "colab": {
          "base_uri": "https://localhost:8080/",
          "height": 34
        }
      },
      "execution_count": 25,
      "outputs": [
        {
          "output_type": "display_data",
          "data": {
            "text/html": [
              "0"
            ],
            "text/markdown": "0",
            "text/latex": "0",
            "text/plain": [
              "[1] 0"
            ]
          },
          "metadata": {}
        }
      ]
    },
    {
      "cell_type": "code",
      "source": [
        "# Calcula la matriz de correlación\n",
        "correlation_matrix <- cor(df)\n",
        "correlation_matrix"
      ],
      "metadata": {
        "id": "EED7mhzqunu8",
        "outputId": "7d94bd52-48d1-4da2-c8e7-a3b4b98b3e23",
        "colab": {
          "base_uri": "https://localhost:8080/",
          "height": 477
        }
      },
      "execution_count": 26,
      "outputs": [
        {
          "output_type": "display_data",
          "data": {
            "text/html": [
              "<table class=\"dataframe\">\n",
              "<caption>A matrix: 12 × 12 of type dbl</caption>\n",
              "<thead>\n",
              "\t<tr><th></th><th scope=col>Miles/gallon</th><th scope=col>Displacement</th><th scope=col>Horsepower</th><th scope=col>Torque</th><th scope=col>Compression ratio</th><th scope=col>Rear axle ratio</th><th scope=col>Carburetor</th><th scope=col>No. of transmission speeds</th><th scope=col>Overall length</th><th scope=col>Width</th><th scope=col>Weight</th><th scope=col>Type of transmission</th></tr>\n",
              "</thead>\n",
              "<tbody>\n",
              "\t<tr><th scope=row>Miles/gallon</th><td> 1.0000000</td><td>-0.8721701</td><td>-0.7968304</td><td>-0.8495915</td><td> 0.42237247</td><td> 0.6347500</td><td>-0.47180548</td><td> 0.7077682</td><td>-0.7528208</td><td>-0.7629952</td><td>-0.8528801</td><td>-0.7212809</td></tr>\n",
              "\t<tr><th scope=row>Displacement</th><td>-0.8721701</td><td> 1.0000000</td><td> 0.9408473</td><td> 0.9891628</td><td>-0.34697246</td><td>-0.6720903</td><td> 0.64279836</td><td>-0.7719151</td><td> 0.8623681</td><td> 0.7974811</td><td> 0.9515520</td><td> 0.8244446</td></tr>\n",
              "\t<tr><th scope=row>Horsepower</th><td>-0.7968304</td><td> 0.9408473</td><td> 1.0000000</td><td> 0.9643592</td><td>-0.28989951</td><td>-0.5509642</td><td> 0.76141897</td><td>-0.6259445</td><td> 0.8027387</td><td> 0.7105117</td><td> 0.8878810</td><td> 0.7086735</td></tr>\n",
              "\t<tr><th scope=row>Torque</th><td>-0.8495915</td><td> 0.9891628</td><td> 0.9643592</td><td> 1.0000000</td><td>-0.32599915</td><td>-0.6728661</td><td> 0.65312630</td><td>-0.7461800</td><td> 0.8641224</td><td> 0.7881284</td><td> 0.9434871</td><td> 0.8012765</td></tr>\n",
              "\t<tr><th scope=row>Compression ratio</th><td> 0.4223725</td><td>-0.3469725</td><td>-0.2898995</td><td>-0.3259992</td><td> 1.00000000</td><td> 0.4137808</td><td> 0.03748643</td><td> 0.5582357</td><td>-0.3041503</td><td>-0.3781736</td><td>-0.3584588</td><td>-0.4405457</td></tr>\n",
              "\t<tr><th scope=row>Rear axle ratio</th><td> 0.6347500</td><td>-0.6720903</td><td>-0.5509642</td><td>-0.6728661</td><td> 0.41378081</td><td> 1.0000000</td><td>-0.21952829</td><td> 0.8717662</td><td>-0.5613315</td><td>-0.4534470</td><td>-0.5798617</td><td>-0.7546650</td></tr>\n",
              "\t<tr><th scope=row>Carburetor</th><td>-0.4718055</td><td> 0.6427984</td><td> 0.7614190</td><td> 0.6531263</td><td> 0.03748643</td><td>-0.2195283</td><td> 1.00000000</td><td>-0.2756386</td><td> 0.4220680</td><td> 0.3003862</td><td> 0.5203669</td><td> 0.3954893</td></tr>\n",
              "\t<tr><th scope=row>No. of transmission speeds</th><td> 0.7077682</td><td>-0.7719151</td><td>-0.6259445</td><td>-0.7461800</td><td> 0.55823570</td><td> 0.8717662</td><td>-0.27563863</td><td> 1.0000000</td><td>-0.6552065</td><td>-0.6551300</td><td>-0.7058126</td><td>-0.8506963</td></tr>\n",
              "\t<tr><th scope=row>Overall length</th><td>-0.7528208</td><td> 0.8623681</td><td> 0.8027387</td><td> 0.8641224</td><td>-0.30415026</td><td>-0.5613315</td><td> 0.42206800</td><td>-0.6552065</td><td> 1.0000000</td><td> 0.8831512</td><td> 0.9554541</td><td> 0.6824919</td></tr>\n",
              "\t<tr><th scope=row>Width</th><td>-0.7629952</td><td> 0.7974811</td><td> 0.7105117</td><td> 0.7881284</td><td>-0.37817358</td><td>-0.4534470</td><td> 0.30038618</td><td>-0.6551300</td><td> 0.8831512</td><td> 1.0000000</td><td> 0.8994711</td><td> 0.6326677</td></tr>\n",
              "\t<tr><th scope=row>Weight</th><td>-0.8528801</td><td> 0.9515520</td><td> 0.8878810</td><td> 0.9434871</td><td>-0.35845879</td><td>-0.5798617</td><td> 0.52036693</td><td>-0.7058126</td><td> 0.9554541</td><td> 0.8994711</td><td> 1.0000000</td><td> 0.7530353</td></tr>\n",
              "\t<tr><th scope=row>Type of transmission</th><td>-0.7212809</td><td> 0.8244446</td><td> 0.7086735</td><td> 0.8012765</td><td>-0.44054570</td><td>-0.7546650</td><td> 0.39548928</td><td>-0.8506963</td><td> 0.6824919</td><td> 0.6326677</td><td> 0.7530353</td><td> 1.0000000</td></tr>\n",
              "</tbody>\n",
              "</table>\n"
            ],
            "text/markdown": "\nA matrix: 12 × 12 of type dbl\n\n| <!--/--> | Miles/gallon | Displacement | Horsepower | Torque | Compression ratio | Rear axle ratio | Carburetor | No. of transmission speeds | Overall length | Width | Weight | Type of transmission |\n|---|---|---|---|---|---|---|---|---|---|---|---|---|\n| Miles/gallon |  1.0000000 | -0.8721701 | -0.7968304 | -0.8495915 |  0.42237247 |  0.6347500 | -0.47180548 |  0.7077682 | -0.7528208 | -0.7629952 | -0.8528801 | -0.7212809 |\n| Displacement | -0.8721701 |  1.0000000 |  0.9408473 |  0.9891628 | -0.34697246 | -0.6720903 |  0.64279836 | -0.7719151 |  0.8623681 |  0.7974811 |  0.9515520 |  0.8244446 |\n| Horsepower | -0.7968304 |  0.9408473 |  1.0000000 |  0.9643592 | -0.28989951 | -0.5509642 |  0.76141897 | -0.6259445 |  0.8027387 |  0.7105117 |  0.8878810 |  0.7086735 |\n| Torque | -0.8495915 |  0.9891628 |  0.9643592 |  1.0000000 | -0.32599915 | -0.6728661 |  0.65312630 | -0.7461800 |  0.8641224 |  0.7881284 |  0.9434871 |  0.8012765 |\n| Compression ratio |  0.4223725 | -0.3469725 | -0.2898995 | -0.3259992 |  1.00000000 |  0.4137808 |  0.03748643 |  0.5582357 | -0.3041503 | -0.3781736 | -0.3584588 | -0.4405457 |\n| Rear axle ratio |  0.6347500 | -0.6720903 | -0.5509642 | -0.6728661 |  0.41378081 |  1.0000000 | -0.21952829 |  0.8717662 | -0.5613315 | -0.4534470 | -0.5798617 | -0.7546650 |\n| Carburetor | -0.4718055 |  0.6427984 |  0.7614190 |  0.6531263 |  0.03748643 | -0.2195283 |  1.00000000 | -0.2756386 |  0.4220680 |  0.3003862 |  0.5203669 |  0.3954893 |\n| No. of transmission speeds |  0.7077682 | -0.7719151 | -0.6259445 | -0.7461800 |  0.55823570 |  0.8717662 | -0.27563863 |  1.0000000 | -0.6552065 | -0.6551300 | -0.7058126 | -0.8506963 |\n| Overall length | -0.7528208 |  0.8623681 |  0.8027387 |  0.8641224 | -0.30415026 | -0.5613315 |  0.42206800 | -0.6552065 |  1.0000000 |  0.8831512 |  0.9554541 |  0.6824919 |\n| Width | -0.7629952 |  0.7974811 |  0.7105117 |  0.7881284 | -0.37817358 | -0.4534470 |  0.30038618 | -0.6551300 |  0.8831512 |  1.0000000 |  0.8994711 |  0.6326677 |\n| Weight | -0.8528801 |  0.9515520 |  0.8878810 |  0.9434871 | -0.35845879 | -0.5798617 |  0.52036693 | -0.7058126 |  0.9554541 |  0.8994711 |  1.0000000 |  0.7530353 |\n| Type of transmission | -0.7212809 |  0.8244446 |  0.7086735 |  0.8012765 | -0.44054570 | -0.7546650 |  0.39548928 | -0.8506963 |  0.6824919 |  0.6326677 |  0.7530353 |  1.0000000 |\n\n",
            "text/latex": "A matrix: 12 × 12 of type dbl\n\\begin{tabular}{r|llllllllllll}\n  & Miles/gallon & Displacement & Horsepower & Torque & Compression ratio & Rear axle ratio & Carburetor & No. of transmission speeds & Overall length & Width & Weight & Type of transmission\\\\\n\\hline\n\tMiles/gallon &  1.0000000 & -0.8721701 & -0.7968304 & -0.8495915 &  0.42237247 &  0.6347500 & -0.47180548 &  0.7077682 & -0.7528208 & -0.7629952 & -0.8528801 & -0.7212809\\\\\n\tDisplacement & -0.8721701 &  1.0000000 &  0.9408473 &  0.9891628 & -0.34697246 & -0.6720903 &  0.64279836 & -0.7719151 &  0.8623681 &  0.7974811 &  0.9515520 &  0.8244446\\\\\n\tHorsepower & -0.7968304 &  0.9408473 &  1.0000000 &  0.9643592 & -0.28989951 & -0.5509642 &  0.76141897 & -0.6259445 &  0.8027387 &  0.7105117 &  0.8878810 &  0.7086735\\\\\n\tTorque & -0.8495915 &  0.9891628 &  0.9643592 &  1.0000000 & -0.32599915 & -0.6728661 &  0.65312630 & -0.7461800 &  0.8641224 &  0.7881284 &  0.9434871 &  0.8012765\\\\\n\tCompression ratio &  0.4223725 & -0.3469725 & -0.2898995 & -0.3259992 &  1.00000000 &  0.4137808 &  0.03748643 &  0.5582357 & -0.3041503 & -0.3781736 & -0.3584588 & -0.4405457\\\\\n\tRear axle ratio &  0.6347500 & -0.6720903 & -0.5509642 & -0.6728661 &  0.41378081 &  1.0000000 & -0.21952829 &  0.8717662 & -0.5613315 & -0.4534470 & -0.5798617 & -0.7546650\\\\\n\tCarburetor & -0.4718055 &  0.6427984 &  0.7614190 &  0.6531263 &  0.03748643 & -0.2195283 &  1.00000000 & -0.2756386 &  0.4220680 &  0.3003862 &  0.5203669 &  0.3954893\\\\\n\tNo. of transmission speeds &  0.7077682 & -0.7719151 & -0.6259445 & -0.7461800 &  0.55823570 &  0.8717662 & -0.27563863 &  1.0000000 & -0.6552065 & -0.6551300 & -0.7058126 & -0.8506963\\\\\n\tOverall length & -0.7528208 &  0.8623681 &  0.8027387 &  0.8641224 & -0.30415026 & -0.5613315 &  0.42206800 & -0.6552065 &  1.0000000 &  0.8831512 &  0.9554541 &  0.6824919\\\\\n\tWidth & -0.7629952 &  0.7974811 &  0.7105117 &  0.7881284 & -0.37817358 & -0.4534470 &  0.30038618 & -0.6551300 &  0.8831512 &  1.0000000 &  0.8994711 &  0.6326677\\\\\n\tWeight & -0.8528801 &  0.9515520 &  0.8878810 &  0.9434871 & -0.35845879 & -0.5798617 &  0.52036693 & -0.7058126 &  0.9554541 &  0.8994711 &  1.0000000 &  0.7530353\\\\\n\tType of transmission & -0.7212809 &  0.8244446 &  0.7086735 &  0.8012765 & -0.44054570 & -0.7546650 &  0.39548928 & -0.8506963 &  0.6824919 &  0.6326677 &  0.7530353 &  1.0000000\\\\\n\\end{tabular}\n",
            "text/plain": [
              "                           Miles/gallon Displacement Horsepower Torque    \n",
              "Miles/gallon                1.0000000   -0.8721701   -0.7968304 -0.8495915\n",
              "Displacement               -0.8721701    1.0000000    0.9408473  0.9891628\n",
              "Horsepower                 -0.7968304    0.9408473    1.0000000  0.9643592\n",
              "Torque                     -0.8495915    0.9891628    0.9643592  1.0000000\n",
              "Compression ratio           0.4223725   -0.3469725   -0.2898995 -0.3259992\n",
              "Rear axle ratio             0.6347500   -0.6720903   -0.5509642 -0.6728661\n",
              "Carburetor                 -0.4718055    0.6427984    0.7614190  0.6531263\n",
              "No. of transmission speeds  0.7077682   -0.7719151   -0.6259445 -0.7461800\n",
              "Overall length             -0.7528208    0.8623681    0.8027387  0.8641224\n",
              "Width                      -0.7629952    0.7974811    0.7105117  0.7881284\n",
              "Weight                     -0.8528801    0.9515520    0.8878810  0.9434871\n",
              "Type of transmission       -0.7212809    0.8244446    0.7086735  0.8012765\n",
              "                           Compression ratio Rear axle ratio Carburetor \n",
              "Miles/gallon                0.42237247        0.6347500      -0.47180548\n",
              "Displacement               -0.34697246       -0.6720903       0.64279836\n",
              "Horsepower                 -0.28989951       -0.5509642       0.76141897\n",
              "Torque                     -0.32599915       -0.6728661       0.65312630\n",
              "Compression ratio           1.00000000        0.4137808       0.03748643\n",
              "Rear axle ratio             0.41378081        1.0000000      -0.21952829\n",
              "Carburetor                  0.03748643       -0.2195283       1.00000000\n",
              "No. of transmission speeds  0.55823570        0.8717662      -0.27563863\n",
              "Overall length             -0.30415026       -0.5613315       0.42206800\n",
              "Width                      -0.37817358       -0.4534470       0.30038618\n",
              "Weight                     -0.35845879       -0.5798617       0.52036693\n",
              "Type of transmission       -0.44054570       -0.7546650       0.39548928\n",
              "                           No. of transmission speeds Overall length Width     \n",
              "Miles/gallon                0.7077682                 -0.7528208     -0.7629952\n",
              "Displacement               -0.7719151                  0.8623681      0.7974811\n",
              "Horsepower                 -0.6259445                  0.8027387      0.7105117\n",
              "Torque                     -0.7461800                  0.8641224      0.7881284\n",
              "Compression ratio           0.5582357                 -0.3041503     -0.3781736\n",
              "Rear axle ratio             0.8717662                 -0.5613315     -0.4534470\n",
              "Carburetor                 -0.2756386                  0.4220680      0.3003862\n",
              "No. of transmission speeds  1.0000000                 -0.6552065     -0.6551300\n",
              "Overall length             -0.6552065                  1.0000000      0.8831512\n",
              "Width                      -0.6551300                  0.8831512      1.0000000\n",
              "Weight                     -0.7058126                  0.9554541      0.8994711\n",
              "Type of transmission       -0.8506963                  0.6824919      0.6326677\n",
              "                           Weight     Type of transmission\n",
              "Miles/gallon               -0.8528801 -0.7212809          \n",
              "Displacement                0.9515520  0.8244446          \n",
              "Horsepower                  0.8878810  0.7086735          \n",
              "Torque                      0.9434871  0.8012765          \n",
              "Compression ratio          -0.3584588 -0.4405457          \n",
              "Rear axle ratio            -0.5798617 -0.7546650          \n",
              "Carburetor                  0.5203669  0.3954893          \n",
              "No. of transmission speeds -0.7058126 -0.8506963          \n",
              "Overall length              0.9554541  0.6824919          \n",
              "Width                       0.8994711  0.6326677          \n",
              "Weight                      1.0000000  0.7530353          \n",
              "Type of transmission        0.7530353  1.0000000          "
            ]
          },
          "metadata": {}
        }
      ]
    },
    {
      "cell_type": "code",
      "source": [
        "modelo1 <- lm(`Miles/gallon`~., data=df, family = gaussian)\n",
        "summary(modelo1)\n",
        "formula_completa = as.formula(\"`Miles/gallon` ~ `Compression ratio` + `No. of transmission speeds` + `Overall length` +\n",
        "`Rear axle ratio` + `Type of transmission` + Carburetor + Displacement + Horsepower + Torque + Weight + Width\")\n",
        "modelo_vacio <- lm(`Miles/gallon`~1, data = df, family = gaussian)"
      ],
      "metadata": {
        "id": "GrEkMl1UcVBo",
        "outputId": "7d3b7084-e18d-45ff-da79-6e7148c12f0f",
        "colab": {
          "base_uri": "https://localhost:8080/",
          "height": 607
        }
      },
      "execution_count": 27,
      "outputs": [
        {
          "output_type": "stream",
          "name": "stderr",
          "text": [
            "Warning message:\n",
            "“In lm.fit(x, y, offset = offset, singular.ok = singular.ok, ...) :\n",
            " extra argument ‘family’ will be disregarded”\n"
          ]
        },
        {
          "output_type": "display_data",
          "data": {
            "text/plain": [
              "\n",
              "Call:\n",
              "lm(formula = `Miles/gallon` ~ ., data = df, family = gaussian)\n",
              "\n",
              "Residuals:\n",
              "    Min      1Q  Median      3Q     Max \n",
              "-5.3441 -1.6711 -0.4486  1.4906  5.2508 \n",
              "\n",
              "Coefficients:\n",
              "                              Estimate Std. Error t value Pr(>|t|)  \n",
              "(Intercept)                  17.339838  30.355375   0.571   0.5749  \n",
              "Displacement                 -0.075588   0.056347  -1.341   0.1964  \n",
              "Horsepower                   -0.069163   0.087791  -0.788   0.4411  \n",
              "Torque                        0.115117   0.088113   1.306   0.2078  \n",
              "`Compression ratio`           1.494737   3.101464   0.482   0.6357  \n",
              "`Rear axle ratio`             5.843495   3.148438   1.856   0.0799 .\n",
              "Carburetor                    0.317583   1.288967   0.246   0.8082  \n",
              "`No. of transmission speeds` -3.205390   3.109185  -1.031   0.3162  \n",
              "`Overall length`              0.180811   0.130301   1.388   0.1822  \n",
              "Width                        -0.397945   0.323456  -1.230   0.2344  \n",
              "Weight                       -0.005115   0.005896  -0.868   0.3971  \n",
              "`Type of transmission`        0.638483   3.021680   0.211   0.8350  \n",
              "---\n",
              "Signif. codes:  0 ‘***’ 0.001 ‘**’ 0.01 ‘*’ 0.05 ‘.’ 0.1 ‘ ’ 1\n",
              "\n",
              "Residual standard error: 3.227 on 18 degrees of freedom\n",
              "Multiple R-squared:  0.8355,\tAdjusted R-squared:  0.7349 \n",
              "F-statistic:  8.31 on 11 and 18 DF,  p-value: 5.231e-05\n"
            ]
          },
          "metadata": {}
        },
        {
          "output_type": "stream",
          "name": "stderr",
          "text": [
            "Warning message:\n",
            "“In lm.fit(x, y, offset = offset, singular.ok = singular.ok, ...) :\n",
            " extra argument ‘family’ will be disregarded”\n"
          ]
        }
      ]
    },
    {
      "cell_type": "markdown",
      "source": [
        "Preliminarmente no se identifica ninguna variable estadísticamente significativa en cuanto a la explicación de la variación en la variable de respuesta \"Miles/gallon\", se procederá a realizar métodos de selección para simplificar el modelo"
      ],
      "metadata": {
        "id": "tJq20HkQqQR0"
      }
    },
    {
      "cell_type": "code",
      "source": [
        "backward <- step(modelo1, trace = FALSE, direction = \"backward\", k = log(nrow(df)))"
      ],
      "metadata": {
        "id": "eMjx5P1DeE1h",
        "outputId": "afb1acfd-a72e-485c-c5e4-f68942d9f2f2",
        "colab": {
          "base_uri": "https://localhost:8080/"
        }
      },
      "execution_count": 28,
      "outputs": [
        {
          "output_type": "stream",
          "name": "stderr",
          "text": [
            "Warning message:\n",
            "“In lm.fit(x, y, offset = offset, singular.ok = singular.ok, ...) :\n",
            " extra argument ‘family’ will be disregarded”\n",
            "Warning message:\n",
            "“In lm.fit(x, y, offset = offset, singular.ok = singular.ok, ...) :\n",
            " extra argument ‘family’ will be disregarded”\n",
            "Warning message:\n",
            "“In lm.fit(x, y, offset = offset, singular.ok = singular.ok, ...) :\n",
            " extra argument ‘family’ will be disregarded”\n",
            "Warning message:\n",
            "“In lm.fit(x, y, offset = offset, singular.ok = singular.ok, ...) :\n",
            " extra argument ‘family’ will be disregarded”\n",
            "Warning message:\n",
            "“In lm.fit(x, y, offset = offset, singular.ok = singular.ok, ...) :\n",
            " extra argument ‘family’ will be disregarded”\n",
            "Warning message:\n",
            "“In lm.fit(x, y, offset = offset, singular.ok = singular.ok, ...) :\n",
            " extra argument ‘family’ will be disregarded”\n",
            "Warning message:\n",
            "“In lm.fit(x, y, offset = offset, singular.ok = singular.ok, ...) :\n",
            " extra argument ‘family’ will be disregarded”\n",
            "Warning message:\n",
            "“In lm.fit(x, y, offset = offset, singular.ok = singular.ok, ...) :\n",
            " extra argument ‘family’ will be disregarded”\n"
          ]
        }
      ]
    },
    {
      "cell_type": "code",
      "source": [
        "backward$anova\n",
        "summary(backward)"
      ],
      "metadata": {
        "id": "uycRlfTyfhUw",
        "outputId": "a90889d9-7207-468b-bef5-b0f0a4029add",
        "colab": {
          "base_uri": "https://localhost:8080/",
          "height": 744
        }
      },
      "execution_count": 29,
      "outputs": [
        {
          "output_type": "display_data",
          "data": {
            "text/html": [
              "<table class=\"dataframe\">\n",
              "<caption>A data.frame: 9 × 6</caption>\n",
              "<thead>\n",
              "\t<tr><th scope=col>Step</th><th scope=col>Df</th><th scope=col>Deviance</th><th scope=col>Resid. Df</th><th scope=col>Resid. Dev</th><th scope=col>AIC</th></tr>\n",
              "\t<tr><th scope=col>&lt;I&lt;chr&gt;&gt;</th><th scope=col>&lt;dbl&gt;</th><th scope=col>&lt;dbl&gt;</th><th scope=col>&lt;dbl&gt;</th><th scope=col>&lt;dbl&gt;</th><th scope=col>&lt;dbl&gt;</th></tr>\n",
              "</thead>\n",
              "<tbody>\n",
              "\t<tr><td>                              </td><td>NA</td><td>        NA</td><td>18</td><td>187.4007</td><td>95.77592</td></tr>\n",
              "\t<tr><td>- `Type of transmission`      </td><td> 1</td><td> 0.4648362</td><td>19</td><td>187.8655</td><td>92.44904</td></tr>\n",
              "\t<tr><td>- Carburetor                  </td><td> 1</td><td> 0.5356445</td><td>20</td><td>188.4012</td><td>89.13326</td></tr>\n",
              "\t<tr><td>- `Compression ratio`         </td><td> 1</td><td> 3.4514854</td><td>21</td><td>191.8526</td><td>86.27668</td></tr>\n",
              "\t<tr><td>- Horsepower                  </td><td> 1</td><td>10.7796848</td><td>22</td><td>202.6323</td><td>84.51545</td></tr>\n",
              "\t<tr><td>- `No. of transmission speeds`</td><td> 1</td><td>10.4571693</td><td>23</td><td>213.0895</td><td>82.62383</td></tr>\n",
              "\t<tr><td>- Torque                      </td><td> 1</td><td> 4.8720101</td><td>24</td><td>217.9615</td><td>79.90082</td></tr>\n",
              "\t<tr><td>- Displacement                </td><td> 1</td><td> 0.7654631</td><td>25</td><td>218.7270</td><td>76.60479</td></tr>\n",
              "\t<tr><td>- Width                       </td><td> 1</td><td> 5.0970905</td><td>26</td><td>223.8241</td><td>73.89468</td></tr>\n",
              "</tbody>\n",
              "</table>\n"
            ],
            "text/markdown": "\nA data.frame: 9 × 6\n\n| Step &lt;I&lt;chr&gt;&gt; | Df &lt;dbl&gt; | Deviance &lt;dbl&gt; | Resid. Df &lt;dbl&gt; | Resid. Dev &lt;dbl&gt; | AIC &lt;dbl&gt; |\n|---|---|---|---|---|---|\n| <!----> | NA |         NA | 18 | 187.4007 | 95.77592 |\n| - `Type of transmission`       |  1 |  0.4648362 | 19 | 187.8655 | 92.44904 |\n| - Carburetor                   |  1 |  0.5356445 | 20 | 188.4012 | 89.13326 |\n| - `Compression ratio`          |  1 |  3.4514854 | 21 | 191.8526 | 86.27668 |\n| - Horsepower                   |  1 | 10.7796848 | 22 | 202.6323 | 84.51545 |\n| - `No. of transmission speeds` |  1 | 10.4571693 | 23 | 213.0895 | 82.62383 |\n| - Torque                       |  1 |  4.8720101 | 24 | 217.9615 | 79.90082 |\n| - Displacement                 |  1 |  0.7654631 | 25 | 218.7270 | 76.60479 |\n| - Width                        |  1 |  5.0970905 | 26 | 223.8241 | 73.89468 |\n\n",
            "text/latex": "A data.frame: 9 × 6\n\\begin{tabular}{llllll}\n Step & Df & Deviance & Resid. Df & Resid. Dev & AIC\\\\\n <I<chr>> & <dbl> & <dbl> & <dbl> & <dbl> & <dbl>\\\\\n\\hline\n\t                                & NA &         NA & 18 & 187.4007 & 95.77592\\\\\n\t - `Type of transmission`       &  1 &  0.4648362 & 19 & 187.8655 & 92.44904\\\\\n\t - Carburetor                   &  1 &  0.5356445 & 20 & 188.4012 & 89.13326\\\\\n\t - `Compression ratio`          &  1 &  3.4514854 & 21 & 191.8526 & 86.27668\\\\\n\t - Horsepower                   &  1 & 10.7796848 & 22 & 202.6323 & 84.51545\\\\\n\t - `No. of transmission speeds` &  1 & 10.4571693 & 23 & 213.0895 & 82.62383\\\\\n\t - Torque                       &  1 &  4.8720101 & 24 & 217.9615 & 79.90082\\\\\n\t - Displacement                 &  1 &  0.7654631 & 25 & 218.7270 & 76.60479\\\\\n\t - Width                        &  1 &  5.0970905 & 26 & 223.8241 & 73.89468\\\\\n\\end{tabular}\n",
            "text/plain": [
              "  Step                           Df Deviance   Resid. Df Resid. Dev AIC     \n",
              "1                                NA         NA 18        187.4007   95.77592\n",
              "2 - `Type of transmission`        1  0.4648362 19        187.8655   92.44904\n",
              "3 - Carburetor                    1  0.5356445 20        188.4012   89.13326\n",
              "4 - `Compression ratio`           1  3.4514854 21        191.8526   86.27668\n",
              "5 - Horsepower                    1 10.7796848 22        202.6323   84.51545\n",
              "6 - `No. of transmission speeds`  1 10.4571693 23        213.0895   82.62383\n",
              "7 - Torque                        1  4.8720101 24        217.9615   79.90082\n",
              "8 - Displacement                  1  0.7654631 25        218.7270   76.60479\n",
              "9 - Width                         1  5.0970905 26        223.8241   73.89468"
            ]
          },
          "metadata": {}
        },
        {
          "output_type": "display_data",
          "data": {
            "text/plain": [
              "\n",
              "Call:\n",
              "lm(formula = `Miles/gallon` ~ `Rear axle ratio` + `Overall length` + \n",
              "    Weight, data = df, family = gaussian)\n",
              "\n",
              "Residuals:\n",
              "    Min      1Q  Median      3Q     Max \n",
              "-4.6101 -1.9868 -0.6613  2.0369  5.8811 \n",
              "\n",
              "Coefficients:\n",
              "                   Estimate Std. Error t value Pr(>|t|)    \n",
              "(Intercept)        4.590404  11.771925   0.390   0.6998    \n",
              "`Rear axle ratio`  2.597240   1.264562   2.054   0.0502 .  \n",
              "`Overall length`   0.217814   0.087817   2.480   0.0199 *  \n",
              "Weight            -0.009485   0.001994  -4.757 6.38e-05 ***\n",
              "---\n",
              "Signif. codes:  0 ‘***’ 0.001 ‘**’ 0.01 ‘*’ 0.05 ‘.’ 0.1 ‘ ’ 1\n",
              "\n",
              "Residual standard error: 2.934 on 26 degrees of freedom\n",
              "Multiple R-squared:  0.8035,\tAdjusted R-squared:  0.7808 \n",
              "F-statistic: 35.44 on 3 and 26 DF,  p-value: 2.462e-09\n"
            ]
          },
          "metadata": {}
        }
      ]
    },
    {
      "cell_type": "code",
      "source": [
        "frontward <- step(modelo_vacio, trace=FALSE, direction = \"forward\", k = log(nrow(df)), scope = formula_completa)"
      ],
      "metadata": {
        "id": "N9flccs8fmu7",
        "outputId": "2de66359-8e51-413b-a6d7-333e73495d2f",
        "colab": {
          "base_uri": "https://localhost:8080/"
        }
      },
      "execution_count": 30,
      "outputs": [
        {
          "output_type": "stream",
          "name": "stderr",
          "text": [
            "Warning message:\n",
            "“In lm.fit(x, y, offset = offset, singular.ok = singular.ok, ...) :\n",
            " extra argument ‘family’ will be disregarded”\n"
          ]
        }
      ]
    },
    {
      "cell_type": "code",
      "source": [
        "frontward$anova\n",
        "summary(frontward)"
      ],
      "metadata": {
        "id": "UG-sIewyhmcq",
        "outputId": "00466cd7-e28f-49b0-fbf5-fe012de6fde8",
        "colab": {
          "base_uri": "https://localhost:8080/",
          "height": 473
        }
      },
      "execution_count": 31,
      "outputs": [
        {
          "output_type": "display_data",
          "data": {
            "text/html": [
              "<table class=\"dataframe\">\n",
              "<caption>A data.frame: 2 × 6</caption>\n",
              "<thead>\n",
              "\t<tr><th scope=col>Step</th><th scope=col>Df</th><th scope=col>Deviance</th><th scope=col>Resid. Df</th><th scope=col>Resid. Dev</th><th scope=col>AIC</th></tr>\n",
              "\t<tr><th scope=col>&lt;I&lt;chr&gt;&gt;</th><th scope=col>&lt;dbl&gt;</th><th scope=col>&lt;dbl&gt;</th><th scope=col>&lt;dbl&gt;</th><th scope=col>&lt;dbl&gt;</th><th scope=col>&lt;dbl&gt;</th></tr>\n",
              "</thead>\n",
              "<tbody>\n",
              "\t<tr><td>              </td><td>NA</td><td>      NA</td><td>29</td><td>1139.1050</td><td>112.50522</td></tr>\n",
              "\t<tr><td>+ Displacement</td><td>-1</td><td>866.4953</td><td>28</td><td> 272.6097</td><td> 73.00771</td></tr>\n",
              "</tbody>\n",
              "</table>\n"
            ],
            "text/markdown": "\nA data.frame: 2 × 6\n\n| Step &lt;I&lt;chr&gt;&gt; | Df &lt;dbl&gt; | Deviance &lt;dbl&gt; | Resid. Df &lt;dbl&gt; | Resid. Dev &lt;dbl&gt; | AIC &lt;dbl&gt; |\n|---|---|---|---|---|---|\n| <!----> | NA |       NA | 29 | 1139.1050 | 112.50522 |\n| + Displacement | -1 | 866.4953 | 28 |  272.6097 |  73.00771 |\n\n",
            "text/latex": "A data.frame: 2 × 6\n\\begin{tabular}{llllll}\n Step & Df & Deviance & Resid. Df & Resid. Dev & AIC\\\\\n <I<chr>> & <dbl> & <dbl> & <dbl> & <dbl> & <dbl>\\\\\n\\hline\n\t                & NA &       NA & 29 & 1139.1050 & 112.50522\\\\\n\t + Displacement & -1 & 866.4953 & 28 &  272.6097 &  73.00771\\\\\n\\end{tabular}\n",
            "text/plain": [
              "  Step           Df Deviance Resid. Df Resid. Dev AIC      \n",
              "1                NA       NA 29        1139.1050  112.50522\n",
              "2 + Displacement -1 866.4953 28         272.6097   73.00771"
            ]
          },
          "metadata": {}
        },
        {
          "output_type": "display_data",
          "data": {
            "text/plain": [
              "\n",
              "Call:\n",
              "lm(formula = `Miles/gallon` ~ Displacement, data = df, family = gaussian)\n",
              "\n",
              "Residuals:\n",
              "    Min      1Q  Median      3Q     Max \n",
              "-6.6063 -2.0276 -0.0457  1.4531  7.0213 \n",
              "\n",
              "Coefficients:\n",
              "              Estimate Std. Error t value Pr(>|t|)    \n",
              "(Intercept)  33.490010   1.535476  21.811  < 2e-16 ***\n",
              "Displacement -0.047026   0.004985  -9.434 3.43e-10 ***\n",
              "---\n",
              "Signif. codes:  0 ‘***’ 0.001 ‘**’ 0.01 ‘*’ 0.05 ‘.’ 0.1 ‘ ’ 1\n",
              "\n",
              "Residual standard error: 3.12 on 28 degrees of freedom\n",
              "Multiple R-squared:  0.7607,\tAdjusted R-squared:  0.7521 \n",
              "F-statistic:    89 on 1 and 28 DF,  p-value: 3.429e-10\n"
            ]
          },
          "metadata": {}
        }
      ]
    },
    {
      "cell_type": "code",
      "source": [
        "both <- step(modelo_vacio, trace = FALSE, direction = \"both\", k = log(nrow(df)), scope = formula_completa)\n",
        "both$anova\n",
        "summary(both)"
      ],
      "metadata": {
        "id": "1AIpntnfhpsm",
        "outputId": "1a25edb1-7526-4092-ac40-fb7cde19c911",
        "colab": {
          "base_uri": "https://localhost:8080/",
          "height": 525
        }
      },
      "execution_count": 32,
      "outputs": [
        {
          "output_type": "stream",
          "name": "stderr",
          "text": [
            "Warning message:\n",
            "“In lm.fit(x, y, offset = offset, singular.ok = singular.ok, ...) :\n",
            " extra argument ‘family’ will be disregarded”\n"
          ]
        },
        {
          "output_type": "display_data",
          "data": {
            "text/html": [
              "<table class=\"dataframe\">\n",
              "<caption>A data.frame: 2 × 6</caption>\n",
              "<thead>\n",
              "\t<tr><th scope=col>Step</th><th scope=col>Df</th><th scope=col>Deviance</th><th scope=col>Resid. Df</th><th scope=col>Resid. Dev</th><th scope=col>AIC</th></tr>\n",
              "\t<tr><th scope=col>&lt;I&lt;chr&gt;&gt;</th><th scope=col>&lt;dbl&gt;</th><th scope=col>&lt;dbl&gt;</th><th scope=col>&lt;dbl&gt;</th><th scope=col>&lt;dbl&gt;</th><th scope=col>&lt;dbl&gt;</th></tr>\n",
              "</thead>\n",
              "<tbody>\n",
              "\t<tr><td>              </td><td>NA</td><td>      NA</td><td>29</td><td>1139.1050</td><td>112.50522</td></tr>\n",
              "\t<tr><td>+ Displacement</td><td>-1</td><td>866.4953</td><td>28</td><td> 272.6097</td><td> 73.00771</td></tr>\n",
              "</tbody>\n",
              "</table>\n"
            ],
            "text/markdown": "\nA data.frame: 2 × 6\n\n| Step &lt;I&lt;chr&gt;&gt; | Df &lt;dbl&gt; | Deviance &lt;dbl&gt; | Resid. Df &lt;dbl&gt; | Resid. Dev &lt;dbl&gt; | AIC &lt;dbl&gt; |\n|---|---|---|---|---|---|\n| <!----> | NA |       NA | 29 | 1139.1050 | 112.50522 |\n| + Displacement | -1 | 866.4953 | 28 |  272.6097 |  73.00771 |\n\n",
            "text/latex": "A data.frame: 2 × 6\n\\begin{tabular}{llllll}\n Step & Df & Deviance & Resid. Df & Resid. Dev & AIC\\\\\n <I<chr>> & <dbl> & <dbl> & <dbl> & <dbl> & <dbl>\\\\\n\\hline\n\t                & NA &       NA & 29 & 1139.1050 & 112.50522\\\\\n\t + Displacement & -1 & 866.4953 & 28 &  272.6097 &  73.00771\\\\\n\\end{tabular}\n",
            "text/plain": [
              "  Step           Df Deviance Resid. Df Resid. Dev AIC      \n",
              "1                NA       NA 29        1139.1050  112.50522\n",
              "2 + Displacement -1 866.4953 28         272.6097   73.00771"
            ]
          },
          "metadata": {}
        },
        {
          "output_type": "display_data",
          "data": {
            "text/plain": [
              "\n",
              "Call:\n",
              "lm(formula = `Miles/gallon` ~ Displacement, data = df, family = gaussian)\n",
              "\n",
              "Residuals:\n",
              "    Min      1Q  Median      3Q     Max \n",
              "-6.6063 -2.0276 -0.0457  1.4531  7.0213 \n",
              "\n",
              "Coefficients:\n",
              "              Estimate Std. Error t value Pr(>|t|)    \n",
              "(Intercept)  33.490010   1.535476  21.811  < 2e-16 ***\n",
              "Displacement -0.047026   0.004985  -9.434 3.43e-10 ***\n",
              "---\n",
              "Signif. codes:  0 ‘***’ 0.001 ‘**’ 0.01 ‘*’ 0.05 ‘.’ 0.1 ‘ ’ 1\n",
              "\n",
              "Residual standard error: 3.12 on 28 degrees of freedom\n",
              "Multiple R-squared:  0.7607,\tAdjusted R-squared:  0.7521 \n",
              "F-statistic:    89 on 1 and 28 DF,  p-value: 3.429e-10\n"
            ]
          },
          "metadata": {}
        }
      ]
    },
    {
      "cell_type": "code",
      "source": [
        "# Comparar los BIC\n",
        "paste(\"BIC backward: \",BIC(backward))\n",
        "paste(\"BIC frontward: \", BIC(frontward))\n",
        "paste(\"BIC both :\", BIC(both))"
      ],
      "metadata": {
        "id": "Jj1Q2plKklvH",
        "outputId": "36972a5f-8df2-4b06-aef3-983b51386420",
        "colab": {
          "base_uri": "https://localhost:8080/",
          "height": 69
        }
      },
      "execution_count": 33,
      "outputs": [
        {
          "output_type": "display_data",
          "data": {
            "text/html": [
              "<span style=white-space:pre-wrap>'BIC backward:  162.432186920045'</span>"
            ],
            "text/markdown": "<span style=white-space:pre-wrap>'BIC backward:  162.432186920045'</span>",
            "text/latex": "'BIC backward:  162.432186920045'",
            "text/plain": [
              "[1] \"BIC backward:  162.432186920045\""
            ]
          },
          "metadata": {}
        },
        {
          "output_type": "display_data",
          "data": {
            "text/html": [
              "<span style=white-space:pre-wrap>'BIC frontward:  161.545219767504'</span>"
            ],
            "text/markdown": "<span style=white-space:pre-wrap>'BIC frontward:  161.545219767504'</span>",
            "text/latex": "'BIC frontward:  161.545219767504'",
            "text/plain": [
              "[1] \"BIC frontward:  161.545219767504\""
            ]
          },
          "metadata": {}
        },
        {
          "output_type": "display_data",
          "data": {
            "text/html": [
              "'BIC both : 161.545219767504'"
            ],
            "text/markdown": "'BIC both : 161.545219767504'",
            "text/latex": "'BIC both : 161.545219767504'",
            "text/plain": [
              "[1] \"BIC both : 161.545219767504\""
            ]
          },
          "metadata": {}
        }
      ]
    },
    {
      "cell_type": "markdown",
      "source": [
        "Según los diferentes métodos de selección, el modelo con el menor BIC es el modelo reducido con frontward donde se considera únicamente la variable de desplazamiento, el coeficiente asociado al desplazamiento es aproximadamente -0.047. Esto indica que, en promedio, por cada aumento unitario en el desplazamiento (por ejemplo, un aumento de 1 pulgada cúbica en el tamaño del motor), se espera que las millas por galón disminuyan en 0.047 unidades."
      ],
      "metadata": {
        "id": "ogunqgMJp_fg"
      }
    },
    {
      "cell_type": "code",
      "source": [
        "formula_reducida = as.formula(\"`Miles/gallon` ~ Displacement\")"
      ],
      "metadata": {
        "id": "k1cTSndMiIDh"
      },
      "execution_count": 34,
      "outputs": []
    },
    {
      "cell_type": "code",
      "source": [
        "# Función para hacer los nombres de columnas sintácticamente válidos\n",
        "make_valid_names <- function(df) {\n",
        "  names(df) <- make.names(names(df), unique = TRUE)\n",
        "  return(df)\n",
        "}\n",
        "\n",
        "# Definir la función U\n",
        "calcular_U <- function(modelo, df, response) {\n",
        "  n <- nrow(df)\n",
        "  Y <- df[[response]]\n",
        "  Y_hat <- predict(modelo, df)\n",
        "\n",
        "  residuo_cuadratico_medio <- mean((Y - Y_hat)^2)^0.5\n",
        "  Y_cuadratico_medio <- mean(Y^2)^0.5\n",
        "  Y_hat_cuadratico_medio <- mean(Y_hat^2)^0.5\n",
        "\n",
        "  numero_variables <- length(coef(modelo)) - 1  # restar el intercepto\n",
        "\n",
        "  U <- residuo_cuadratico_medio / (Y_cuadratico_medio + Y_hat_cuadratico_medio) + 0.05 * numero_variables\n",
        "  return(U)\n",
        "}\n",
        "\n",
        "# Función para realizar STEPWISE (Forward y Backward)\n",
        "stepwise_U <- function(df, response, direction = \"both\") {\n",
        "  library(MASS)\n",
        "\n",
        "  # Hacer los nombres de las columnas válidos\n",
        "  df <- make_valid_names(df)\n",
        "  response <- make.names(response)\n",
        "\n",
        "  # Crear la fórmula de la respuesta\n",
        "  response_formula <- as.formula(paste(response, \"~ .\"))\n",
        "\n",
        "  # Modelo inicial: nulo para forward, completo para backward\n",
        "  if (direction == \"forward\") {\n",
        "    modelo_inicial <- lm(as.formula(paste(response, \"~ 1\")), data = df)\n",
        "    variables_disponibles <- setdiff(names(df), response)\n",
        "  } else {\n",
        "    modelo_inicial <- lm(response_formula, data = df)\n",
        "    variables_disponibles <- names(coef(modelo_inicial))\n",
        "  }\n",
        "\n",
        "  mejor_modelo <- modelo_inicial\n",
        "  mejor_U <- calcular_U(mejor_modelo, df, response)\n",
        "\n",
        "  mejora <- TRUE\n",
        "\n",
        "  while (mejora) {\n",
        "    mejora <- FALSE\n",
        "    posibles_modelos <- list()\n",
        "    posibles_U <- c()\n",
        "\n",
        "    if (direction == \"forward\" || direction == \"both\") {\n",
        "      for (var in setdiff(variables_disponibles, names(coef(mejor_modelo)))) {\n",
        "        modelo <- update(mejor_modelo, paste(\". ~ . +\", var))\n",
        "        U <- calcular_U(modelo, df, response)\n",
        "        posibles_modelos <- c(posibles_modelos, list(modelo))\n",
        "        posibles_U <- c(posibles_U, U)\n",
        "      }\n",
        "    }\n",
        "\n",
        "    if (direction == \"backward\" || direction == \"both\") {\n",
        "      for (var in names(coef(mejor_modelo))) {\n",
        "        if (var != \"(Intercept)\") {\n",
        "          modelo <- update(mejor_modelo, paste(\". ~ . -\", var))\n",
        "          U <- calcular_U(modelo, df, response)\n",
        "          posibles_modelos <- c(posibles_modelos, list(modelo))\n",
        "          posibles_U <- c(posibles_U, U)\n",
        "        }\n",
        "      }\n",
        "    }\n",
        "\n",
        "    # Encontrar el mejor modelo de los posibles\n",
        "    if (length(posibles_U) > 0) {\n",
        "      mejor_posible_U <- min(posibles_U)\n",
        "      if (mejor_posible_U < mejor_U) {\n",
        "        mejor_U <- mejor_posible_U\n",
        "        mejor_modelo <- posibles_modelos[[which.min(posibles_U)]]\n",
        "        mejora <- TRUE\n",
        "\n",
        "        if (direction == \"forward\" || direction == \"both\") {\n",
        "          variables_disponibles <- setdiff(variables_disponibles, names(coef(mejor_modelo)))\n",
        "        }\n",
        "        if (direction == \"backward\" || direction == \"both\") {\n",
        "          variables_disponibles <- names(coef(mejor_modelo))\n",
        "        }\n",
        "      }\n",
        "    }\n",
        "  }\n",
        "\n",
        "  return(list(mejor_modelo = mejor_modelo, mejor_U = mejor_U))\n",
        "}\n",
        "\n",
        "# Cargar los datos y hacer los nombres de columnas válidos\n",
        "df <- make_valid_names(df)\n",
        "response <- \"Miles.gallon\"  # Asegúrate de que el nombre sea válido\n",
        "\n",
        "# Aplicar STEPWISE (forward, backward y both)\n",
        "resultado_forward <- stepwise_U(df, response, direction = \"forward\")\n",
        "resultado_backward <- stepwise_U(df, response, direction = \"backward\")\n",
        "resultado_both <- stepwise_U(df, response, direction = \"both\")\n",
        "\n",
        "# Comparar los resultados\n",
        "cat(\"U (forward):\", resultado_forward$mejor_U, \"\\n\")\n",
        "cat(\"U (backward):\", resultado_backward$mejor_U, \"\\n\")\n",
        "cat(\"U (both):\", resultado_both$mejor_U, \"\\n\")\n",
        "\n",
        "summary(resultado_forward$mejor_modelo)\n",
        "summary(resultado_backward$mejor_modelo)\n",
        "summary(resultado_both$mejor_modelo)\n"
      ],
      "metadata": {
        "id": "B1vBUrB0ilG0",
        "outputId": "70bfa213-6c1a-4211-fac7-8bf58a301b0b",
        "colab": {
          "base_uri": "https://localhost:8080/",
          "height": 1000
        }
      },
      "execution_count": 35,
      "outputs": [
        {
          "output_type": "stream",
          "name": "stdout",
          "text": [
            "U (forward): 0.1222704 \n",
            "U (backward): 0.1271878 \n",
            "U (both): 0.1271878 \n"
          ]
        },
        {
          "output_type": "display_data",
          "data": {
            "text/plain": [
              "\n",
              "Call:\n",
              "lm(formula = Miles.gallon ~ Displacement, data = df)\n",
              "\n",
              "Residuals:\n",
              "    Min      1Q  Median      3Q     Max \n",
              "-6.6063 -2.0276 -0.0457  1.4531  7.0213 \n",
              "\n",
              "Coefficients:\n",
              "              Estimate Std. Error t value Pr(>|t|)    \n",
              "(Intercept)  33.490010   1.535476  21.811  < 2e-16 ***\n",
              "Displacement -0.047026   0.004985  -9.434 3.43e-10 ***\n",
              "---\n",
              "Signif. codes:  0 ‘***’ 0.001 ‘**’ 0.01 ‘*’ 0.05 ‘.’ 0.1 ‘ ’ 1\n",
              "\n",
              "Residual standard error: 3.12 on 28 degrees of freedom\n",
              "Multiple R-squared:  0.7607,\tAdjusted R-squared:  0.7521 \n",
              "F-statistic:    89 on 1 and 28 DF,  p-value: 3.429e-10\n"
            ]
          },
          "metadata": {}
        },
        {
          "output_type": "display_data",
          "data": {
            "text/plain": [
              "\n",
              "Call:\n",
              "lm(formula = Miles.gallon ~ Weight, data = df)\n",
              "\n",
              "Residuals:\n",
              "    Min      1Q  Median      3Q     Max \n",
              "-5.4913 -1.9902 -0.7168  3.3465  7.2772 \n",
              "\n",
              "Coefficients:\n",
              "              Estimate Std. Error t value Pr(>|t|)    \n",
              "(Intercept) 40.6351436  2.4591711  16.524 5.67e-16 ***\n",
              "Weight      -0.0056806  0.0006572  -8.644 2.17e-09 ***\n",
              "---\n",
              "Signif. codes:  0 ‘***’ 0.001 ‘**’ 0.01 ‘*’ 0.05 ‘.’ 0.1 ‘ ’ 1\n",
              "\n",
              "Residual standard error: 3.33 on 28 degrees of freedom\n",
              "Multiple R-squared:  0.7274,\tAdjusted R-squared:  0.7177 \n",
              "F-statistic: 74.72 on 1 and 28 DF,  p-value: 2.166e-09\n"
            ]
          },
          "metadata": {}
        },
        {
          "output_type": "display_data",
          "data": {
            "text/plain": [
              "\n",
              "Call:\n",
              "lm(formula = Miles.gallon ~ Weight, data = df)\n",
              "\n",
              "Residuals:\n",
              "    Min      1Q  Median      3Q     Max \n",
              "-5.4913 -1.9902 -0.7168  3.3465  7.2772 \n",
              "\n",
              "Coefficients:\n",
              "              Estimate Std. Error t value Pr(>|t|)    \n",
              "(Intercept) 40.6351436  2.4591711  16.524 5.67e-16 ***\n",
              "Weight      -0.0056806  0.0006572  -8.644 2.17e-09 ***\n",
              "---\n",
              "Signif. codes:  0 ‘***’ 0.001 ‘**’ 0.01 ‘*’ 0.05 ‘.’ 0.1 ‘ ’ 1\n",
              "\n",
              "Residual standard error: 3.33 on 28 degrees of freedom\n",
              "Multiple R-squared:  0.7274,\tAdjusted R-squared:  0.7177 \n",
              "F-statistic: 74.72 on 1 and 28 DF,  p-value: 2.166e-09\n"
            ]
          },
          "metadata": {}
        }
      ]
    },
    {
      "cell_type": "markdown",
      "source": [
        "El método forward ha producido el modelo con el menor valor de\n",
        "𝑈, sugiriendo que es el mejor en términos de balancear el ajuste del modelo y la simplicidad de acuerdo con la fórmula de 𝑈 dada, en este modelo solamente se considera la variable \"Displacement\", siendo esta variable estadísticamente significativa, el coeficiente asociado al desplazamiento es aproximadamente -0.047. Esto indica que, en promedio, por cada aumento unitario en el desplazamiento (por ejemplo, un aumento de 1 pulgada cúbica en el tamaño del motor), se espera que las millas por galón disminuyan en 0.047 unidades."
      ],
      "metadata": {
        "id": "5nt-_rMJp11Y"
      }
    },
    {
      "cell_type": "code",
      "source": [
        "# Definir la función U con penalización variable\n",
        "calcular_U <- function(modelo, df, response, penalizacion) {\n",
        "  n <- nrow(df)\n",
        "  Y <- df[[response]]\n",
        "  Y_hat <- predict(modelo, df)\n",
        "\n",
        "  residuo_cuadratico_medio <- mean((Y - Y_hat)^2)^0.5\n",
        "  Y_cuadratico_medio <- mean(Y^2)^0.5\n",
        "  Y_hat_cuadratico_medio <- mean(Y_hat^2)^0.5\n",
        "\n",
        "  numero_variables <- length(coef(modelo)) - 1  # restar el intercepto\n",
        "\n",
        "  U <- residuo_cuadratico_medio / (Y_cuadratico_medio + Y_hat_cuadratico_medio) + penalizacion * numero_variables\n",
        "  return(U)\n",
        "}\n",
        "\n",
        "# Función para realizar STEPWISE (Forward y Backward) con penalización variable\n",
        "stepwise_U <- function(df, response, direction = \"both\", penalizacion = 0.05) {\n",
        "  library(MASS)\n",
        "\n",
        "  # Hacer los nombres de las columnas válidos\n",
        "  df <- make_valid_names(df)\n",
        "  response <- make.names(response)\n",
        "\n",
        "  # Crear la fórmula de la respuesta\n",
        "  response_formula <- as.formula(paste(response, \"~ .\"))\n",
        "\n",
        "  # Modelo inicial: nulo para forward, completo para backward\n",
        "  if (direction == \"forward\") {\n",
        "    modelo_inicial <- lm(as.formula(paste(response, \"~ 1\")), data = df)\n",
        "    variables_disponibles <- setdiff(names(df), response)\n",
        "  } else {\n",
        "    modelo_inicial <- lm(response_formula, data = df)\n",
        "    variables_disponibles <- names(coef(modelo_inicial))\n",
        "  }\n",
        "\n",
        "  mejor_modelo <- modelo_inicial\n",
        "  mejor_U <- calcular_U(mejor_modelo, df, response, penalizacion)\n",
        "\n",
        "  mejora <- TRUE\n",
        "\n",
        "  while (mejora) {\n",
        "    mejora <- FALSE\n",
        "    posibles_modelos <- list()\n",
        "    posibles_U <- c()\n",
        "\n",
        "    if (direction == \"forward\" || direction == \"both\") {\n",
        "      for (var in setdiff(variables_disponibles, names(coef(mejor_modelo)))) {\n",
        "        modelo <- update(mejor_modelo, paste(\". ~ . +\", var))\n",
        "        U <- calcular_U(modelo, df, response, penalizacion)\n",
        "        posibles_modelos <- c(posibles_modelos, list(modelo))\n",
        "        posibles_U <- c(posibles_U, U)\n",
        "      }\n",
        "    }\n",
        "\n",
        "    if (direction == \"backward\" || direction == \"both\") {\n",
        "      for (var in names(coef(mejor_modelo))) {\n",
        "        if (var != \"(Intercept)\") {\n",
        "          modelo <- update(mejor_modelo, paste(\". ~ . -\", var))\n",
        "          U <- calcular_U(modelo, df, response, penalizacion)\n",
        "          posibles_modelos <- c(posibles_modelos, list(modelo))\n",
        "          posibles_U <- c(posibles_U, U)\n",
        "        }\n",
        "      }\n",
        "    }\n",
        "\n",
        "    # Encontrar el mejor modelo de los posibles\n",
        "    if (length(posibles_U) > 0) {\n",
        "      mejor_posible_U <- min(posibles_U)\n",
        "      if (mejor_posible_U < mejor_U) {\n",
        "        mejor_U <- mejor_posible_U\n",
        "        mejor_modelo <- posibles_modelos[[which.min(posibles_U)]]\n",
        "        mejora <- TRUE\n",
        "\n",
        "        if (direction == \"forward\" || direction == \"both\") {\n",
        "          variables_disponibles <- setdiff(variables_disponibles, names(coef(mejor_modelo)))\n",
        "        }\n",
        "        if (direction == \"backward\" || direction == \"both\") {\n",
        "          variables_disponibles <- names(coef(mejor_modelo))\n",
        "        }\n",
        "      }\n",
        "    }\n",
        "  }\n",
        "\n",
        "  return(list(mejor_modelo = mejor_modelo, mejor_U = mejor_U))\n",
        "}\n",
        "\n",
        "# Cargar los datos y hacer los nombres de columnas válidos\n",
        "df <- make_valid_names(df)\n",
        "response <- \"Miles.gallon\"  # Asegúrate de que el nombre sea válido\n",
        "\n",
        "# Valores de penalización a probar\n",
        "penalizaciones <- c(0.05, 0.01, 0.0001, 0.00001)\n",
        "\n",
        "# Almacenar los resultados\n",
        "resultados <- list()\n",
        "\n",
        "# Aplicar STEPWISE (forward) para cada valor de penalización\n",
        "for (pen in penalizaciones) {\n",
        "  resultado <- stepwise_U(df, response, direction = \"forward\", penalizacion = pen)\n",
        "  resultados[[paste(\"penalizacion\", pen, sep = \"_\")]] <- resultado\n",
        "}\n",
        "\n",
        "# Comparar los resultados\n",
        "for (pen in penalizaciones) {\n",
        "  cat(\"Penalización:\", pen, \"\\n\")\n",
        "  cat(\"U (forward):\", resultados[[paste(\"penalizacion\", pen, sep = \"_\")]]$mejor_U, \"\\n\")\n",
        "  cat(\"\\n\")\n",
        "  print(summary(resultados[[paste(\"penalizacion\", pen, sep = \"_\")]]$mejor_modelo))\n",
        "  cat(\"\\n\")\n",
        "}\n"
      ],
      "metadata": {
        "id": "kAz8tYLfoioP",
        "outputId": "f17103ba-a9a7-4f6b-de04-e16dd793e931",
        "colab": {
          "base_uri": "https://localhost:8080/"
        }
      },
      "execution_count": 37,
      "outputs": [
        {
          "output_type": "stream",
          "name": "stdout",
          "text": [
            "Penalización: 0.05 \n",
            "U (forward): 0.1222704 \n",
            "\n",
            "\n",
            "Call:\n",
            "lm(formula = Miles.gallon ~ Displacement, data = df)\n",
            "\n",
            "Residuals:\n",
            "    Min      1Q  Median      3Q     Max \n",
            "-6.6063 -2.0276 -0.0457  1.4531  7.0213 \n",
            "\n",
            "Coefficients:\n",
            "              Estimate Std. Error t value Pr(>|t|)    \n",
            "(Intercept)  33.490010   1.535476  21.811  < 2e-16 ***\n",
            "Displacement -0.047026   0.004985  -9.434 3.43e-10 ***\n",
            "---\n",
            "Signif. codes:  0 ‘***’ 0.001 ‘**’ 0.01 ‘*’ 0.05 ‘.’ 0.1 ‘ ’ 1\n",
            "\n",
            "Residual standard error: 3.12 on 28 degrees of freedom\n",
            "Multiple R-squared:  0.7607,\tAdjusted R-squared:  0.7521 \n",
            "F-statistic:    89 on 1 and 28 DF,  p-value: 3.429e-10\n",
            "\n",
            "\n",
            "Penalización: 0.01 \n",
            "U (forward): 0.08227042 \n",
            "\n",
            "\n",
            "Call:\n",
            "lm(formula = Miles.gallon ~ Displacement, data = df)\n",
            "\n",
            "Residuals:\n",
            "    Min      1Q  Median      3Q     Max \n",
            "-6.6063 -2.0276 -0.0457  1.4531  7.0213 \n",
            "\n",
            "Coefficients:\n",
            "              Estimate Std. Error t value Pr(>|t|)    \n",
            "(Intercept)  33.490010   1.535476  21.811  < 2e-16 ***\n",
            "Displacement -0.047026   0.004985  -9.434 3.43e-10 ***\n",
            "---\n",
            "Signif. codes:  0 ‘***’ 0.001 ‘**’ 0.01 ‘*’ 0.05 ‘.’ 0.1 ‘ ’ 1\n",
            "\n",
            "Residual standard error: 3.12 on 28 degrees of freedom\n",
            "Multiple R-squared:  0.7607,\tAdjusted R-squared:  0.7521 \n",
            "F-statistic:    89 on 1 and 28 DF,  p-value: 3.429e-10\n",
            "\n",
            "\n",
            "Penalización: 1e-04 \n",
            "U (forward): 0.06088312 \n",
            "\n",
            "\n",
            "Call:\n",
            "lm(formula = Miles.gallon ~ Displacement + Compression.ratio + \n",
            "    Width + Overall.length + Weight + Rear.axle.ratio + No..of.transmission.speeds + \n",
            "    Torque + Horsepower, data = df)\n",
            "\n",
            "Residuals:\n",
            "   Min     1Q Median     3Q    Max \n",
            "-5.182 -1.819 -0.482  1.644  4.957 \n",
            "\n",
            "Coefficients:\n",
            "                            Estimate Std. Error t value Pr(>|t|)  \n",
            "(Intercept)                17.126101  27.228003   0.629   0.5365  \n",
            "Displacement               -0.068549   0.048550  -1.412   0.1733  \n",
            "Compression.ratio           1.696123   2.802085   0.605   0.5518  \n",
            "Width                      -0.418199   0.301316  -1.388   0.1804  \n",
            "Overall.length              0.184955   0.123163   1.502   0.1488  \n",
            "Weight                     -0.005451   0.005471  -0.996   0.3310  \n",
            "Rear.axle.ratio             6.007948   2.940238   2.043   0.0544 .\n",
            "No..of.transmission.speeds -3.457664   2.789519  -1.240   0.2295  \n",
            "Torque                      0.108569   0.078978   1.375   0.1844  \n",
            "Horsepower                 -0.058648   0.068365  -0.858   0.4011  \n",
            "---\n",
            "Signif. codes:  0 ‘***’ 0.001 ‘**’ 0.01 ‘*’ 0.05 ‘.’ 0.1 ‘ ’ 1\n",
            "\n",
            "Residual standard error: 3.069 on 20 degrees of freedom\n",
            "Multiple R-squared:  0.8346,\tAdjusted R-squared:  0.7602 \n",
            "F-statistic: 11.21 on 9 and 20 DF,  p-value: 4.743e-06\n",
            "\n",
            "\n",
            "Penalización: 1e-05 \n",
            "U (forward): 0.05993249 \n",
            "\n",
            "\n",
            "Call:\n",
            "lm(formula = Miles.gallon ~ Displacement + Compression.ratio + \n",
            "    Width + Overall.length + Weight + Rear.axle.ratio + No..of.transmission.speeds + \n",
            "    Torque + Horsepower + Carburetor + Type.of.transmission, \n",
            "    data = df)\n",
            "\n",
            "Residuals:\n",
            "    Min      1Q  Median      3Q     Max \n",
            "-5.3441 -1.6711 -0.4486  1.4906  5.2508 \n",
            "\n",
            "Coefficients:\n",
            "                            Estimate Std. Error t value Pr(>|t|)  \n",
            "(Intercept)                17.339838  30.355375   0.571   0.5749  \n",
            "Displacement               -0.075588   0.056347  -1.341   0.1964  \n",
            "Compression.ratio           1.494737   3.101464   0.482   0.6357  \n",
            "Width                      -0.397945   0.323456  -1.230   0.2344  \n",
            "Overall.length              0.180811   0.130301   1.388   0.1822  \n",
            "Weight                     -0.005115   0.005896  -0.868   0.3971  \n",
            "Rear.axle.ratio             5.843495   3.148438   1.856   0.0799 .\n",
            "No..of.transmission.speeds -3.205390   3.109185  -1.031   0.3162  \n",
            "Torque                      0.115117   0.088113   1.306   0.2078  \n",
            "Horsepower                 -0.069163   0.087791  -0.788   0.4411  \n",
            "Carburetor                  0.317583   1.288967   0.246   0.8082  \n",
            "Type.of.transmission        0.638483   3.021680   0.211   0.8350  \n",
            "---\n",
            "Signif. codes:  0 ‘***’ 0.001 ‘**’ 0.01 ‘*’ 0.05 ‘.’ 0.1 ‘ ’ 1\n",
            "\n",
            "Residual standard error: 3.227 on 18 degrees of freedom\n",
            "Multiple R-squared:  0.8355,\tAdjusted R-squared:  0.7349 \n",
            "F-statistic:  8.31 on 11 and 18 DF,  p-value: 5.231e-05\n",
            "\n",
            "\n"
          ]
        }
      ]
    },
    {
      "cell_type": "markdown",
      "source": [
        "Cuando se reduce el valor de la penalización, se está disminuyendo la \"multa\" por tener más variables en el modelo. Esto significa que el algoritmo de selección de variables será más propenso a seleccionar modelos con un mayor número de variables predictoras, ya que la penalización por incluir más variables en el modelo es menor."
      ],
      "metadata": {
        "id": "yMxZE5pRpm2n"
      }
    },
    {
      "cell_type": "markdown",
      "source": [
        "Al final, el modelo simplificado con frontward (78.08%) proporciona un mejor ajuste en comparación con el modelo simplificado con backward (75.21%), la elección entre un mejor ajuste y un menor BIC dependerá de las prioridades y del equilibrio entre la simplicidad del modelo y su capacidad para explicar los datos observados. Si es mayor el interés en la precisión de la predicción y hay datos suficientes para justificar un modelo más complejo, se podría optar por el modelo de mejor ajuste `Miles/gallon` ~ `Rear axle ratio` + `Overall length` + Weight. Sin embargo, si la simplicidad del modelo y la generalización son más importantes, se podría preferir un modelo con un menor BIC `Miles/gallon` ~ Displacement, el último modelo mencionado resulta lógico, el desplazamiento del motor es una variable importante que está relacionada con la eficiencia del combustible en los automóviles. En general, motores más grandes tienden a consumir más combustible que motores más pequeños, para efectos de simplicidad se propondría el modelo simplificado con backward."
      ],
      "metadata": {
        "id": "u15gpJmotiB0"
      }
    }
  ]
}