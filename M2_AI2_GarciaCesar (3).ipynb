{
  "nbformat": 4,
  "nbformat_minor": 0,
  "metadata": {
    "colab": {
      "provenance": []
    },
    "kernelspec": {
      "name": "python3",
      "display_name": "Python 3"
    },
    "language_info": {
      "name": "python"
    }
  },
  "cells": [
    {
      "cell_type": "code",
      "execution_count": 80,
      "metadata": {
        "colab": {
          "base_uri": "https://localhost:8080/",
          "height": 226
        },
        "id": "Aw6pkQod2eDy",
        "outputId": "32eeef40-a403-4557-c209-2b4893ed8f05"
      },
      "outputs": [
        {
          "output_type": "execute_result",
          "data": {
            "text/plain": [
              "   id       fecha    mes   cliente factura_pagada  importe_factura tipo_IVA  \\\n",
              "0   1  01/01/2010  Enero  clienteA             si              100   normal   \n",
              "1   2  02/01/2010  Enero  clienteB             no              150   normal   \n",
              "2   3  03/01/2010  Enero  clienteC             si               75   normal   \n",
              "3   4  04/01/2010  Enero  clienteD             si              200   normal   \n",
              "4   5  05/01/2010  Enero  clienteA             no              125   normal   \n",
              "\n",
              "   porcentaje_IVA   IVA total_pagado  \n",
              "0              18    18          118  \n",
              "1              18    27          177  \n",
              "2              18  13,5         88,5  \n",
              "3              18    36          236  \n",
              "4              18  22,5        147,5  "
            ],
            "text/html": [
              "\n",
              "  <div id=\"df-1122291e-51d6-4f0f-af06-23769470da7d\" class=\"colab-df-container\">\n",
              "    <div>\n",
              "<style scoped>\n",
              "    .dataframe tbody tr th:only-of-type {\n",
              "        vertical-align: middle;\n",
              "    }\n",
              "\n",
              "    .dataframe tbody tr th {\n",
              "        vertical-align: top;\n",
              "    }\n",
              "\n",
              "    .dataframe thead th {\n",
              "        text-align: right;\n",
              "    }\n",
              "</style>\n",
              "<table border=\"1\" class=\"dataframe\">\n",
              "  <thead>\n",
              "    <tr style=\"text-align: right;\">\n",
              "      <th></th>\n",
              "      <th>id</th>\n",
              "      <th>fecha</th>\n",
              "      <th>mes</th>\n",
              "      <th>cliente</th>\n",
              "      <th>factura_pagada</th>\n",
              "      <th>importe_factura</th>\n",
              "      <th>tipo_IVA</th>\n",
              "      <th>porcentaje_IVA</th>\n",
              "      <th>IVA</th>\n",
              "      <th>total_pagado</th>\n",
              "    </tr>\n",
              "  </thead>\n",
              "  <tbody>\n",
              "    <tr>\n",
              "      <th>0</th>\n",
              "      <td>1</td>\n",
              "      <td>01/01/2010</td>\n",
              "      <td>Enero</td>\n",
              "      <td>clienteA</td>\n",
              "      <td>si</td>\n",
              "      <td>100</td>\n",
              "      <td>normal</td>\n",
              "      <td>18</td>\n",
              "      <td>18</td>\n",
              "      <td>118</td>\n",
              "    </tr>\n",
              "    <tr>\n",
              "      <th>1</th>\n",
              "      <td>2</td>\n",
              "      <td>02/01/2010</td>\n",
              "      <td>Enero</td>\n",
              "      <td>clienteB</td>\n",
              "      <td>no</td>\n",
              "      <td>150</td>\n",
              "      <td>normal</td>\n",
              "      <td>18</td>\n",
              "      <td>27</td>\n",
              "      <td>177</td>\n",
              "    </tr>\n",
              "    <tr>\n",
              "      <th>2</th>\n",
              "      <td>3</td>\n",
              "      <td>03/01/2010</td>\n",
              "      <td>Enero</td>\n",
              "      <td>clienteC</td>\n",
              "      <td>si</td>\n",
              "      <td>75</td>\n",
              "      <td>normal</td>\n",
              "      <td>18</td>\n",
              "      <td>13,5</td>\n",
              "      <td>88,5</td>\n",
              "    </tr>\n",
              "    <tr>\n",
              "      <th>3</th>\n",
              "      <td>4</td>\n",
              "      <td>04/01/2010</td>\n",
              "      <td>Enero</td>\n",
              "      <td>clienteD</td>\n",
              "      <td>si</td>\n",
              "      <td>200</td>\n",
              "      <td>normal</td>\n",
              "      <td>18</td>\n",
              "      <td>36</td>\n",
              "      <td>236</td>\n",
              "    </tr>\n",
              "    <tr>\n",
              "      <th>4</th>\n",
              "      <td>5</td>\n",
              "      <td>05/01/2010</td>\n",
              "      <td>Enero</td>\n",
              "      <td>clienteA</td>\n",
              "      <td>no</td>\n",
              "      <td>125</td>\n",
              "      <td>normal</td>\n",
              "      <td>18</td>\n",
              "      <td>22,5</td>\n",
              "      <td>147,5</td>\n",
              "    </tr>\n",
              "  </tbody>\n",
              "</table>\n",
              "</div>\n",
              "    <div class=\"colab-df-buttons\">\n",
              "\n",
              "  <div class=\"colab-df-container\">\n",
              "    <button class=\"colab-df-convert\" onclick=\"convertToInteractive('df-1122291e-51d6-4f0f-af06-23769470da7d')\"\n",
              "            title=\"Convert this dataframe to an interactive table.\"\n",
              "            style=\"display:none;\">\n",
              "\n",
              "  <svg xmlns=\"http://www.w3.org/2000/svg\" height=\"24px\" viewBox=\"0 -960 960 960\">\n",
              "    <path d=\"M120-120v-720h720v720H120Zm60-500h600v-160H180v160Zm220 220h160v-160H400v160Zm0 220h160v-160H400v160ZM180-400h160v-160H180v160Zm440 0h160v-160H620v160ZM180-180h160v-160H180v160Zm440 0h160v-160H620v160Z\"/>\n",
              "  </svg>\n",
              "    </button>\n",
              "\n",
              "  <style>\n",
              "    .colab-df-container {\n",
              "      display:flex;\n",
              "      gap: 12px;\n",
              "    }\n",
              "\n",
              "    .colab-df-convert {\n",
              "      background-color: #E8F0FE;\n",
              "      border: none;\n",
              "      border-radius: 50%;\n",
              "      cursor: pointer;\n",
              "      display: none;\n",
              "      fill: #1967D2;\n",
              "      height: 32px;\n",
              "      padding: 0 0 0 0;\n",
              "      width: 32px;\n",
              "    }\n",
              "\n",
              "    .colab-df-convert:hover {\n",
              "      background-color: #E2EBFA;\n",
              "      box-shadow: 0px 1px 2px rgba(60, 64, 67, 0.3), 0px 1px 3px 1px rgba(60, 64, 67, 0.15);\n",
              "      fill: #174EA6;\n",
              "    }\n",
              "\n",
              "    .colab-df-buttons div {\n",
              "      margin-bottom: 4px;\n",
              "    }\n",
              "\n",
              "    [theme=dark] .colab-df-convert {\n",
              "      background-color: #3B4455;\n",
              "      fill: #D2E3FC;\n",
              "    }\n",
              "\n",
              "    [theme=dark] .colab-df-convert:hover {\n",
              "      background-color: #434B5C;\n",
              "      box-shadow: 0px 1px 3px 1px rgba(0, 0, 0, 0.15);\n",
              "      filter: drop-shadow(0px 1px 2px rgba(0, 0, 0, 0.3));\n",
              "      fill: #FFFFFF;\n",
              "    }\n",
              "  </style>\n",
              "\n",
              "    <script>\n",
              "      const buttonEl =\n",
              "        document.querySelector('#df-1122291e-51d6-4f0f-af06-23769470da7d button.colab-df-convert');\n",
              "      buttonEl.style.display =\n",
              "        google.colab.kernel.accessAllowed ? 'block' : 'none';\n",
              "\n",
              "      async function convertToInteractive(key) {\n",
              "        const element = document.querySelector('#df-1122291e-51d6-4f0f-af06-23769470da7d');\n",
              "        const dataTable =\n",
              "          await google.colab.kernel.invokeFunction('convertToInteractive',\n",
              "                                                    [key], {});\n",
              "        if (!dataTable) return;\n",
              "\n",
              "        const docLinkHtml = 'Like what you see? Visit the ' +\n",
              "          '<a target=\"_blank\" href=https://colab.research.google.com/notebooks/data_table.ipynb>data table notebook</a>'\n",
              "          + ' to learn more about interactive tables.';\n",
              "        element.innerHTML = '';\n",
              "        dataTable['output_type'] = 'display_data';\n",
              "        await google.colab.output.renderOutput(dataTable, element);\n",
              "        const docLink = document.createElement('div');\n",
              "        docLink.innerHTML = docLinkHtml;\n",
              "        element.appendChild(docLink);\n",
              "      }\n",
              "    </script>\n",
              "  </div>\n",
              "\n",
              "\n",
              "<div id=\"df-77417535-cd4a-43ee-86dc-0c09d4f607d9\">\n",
              "  <button class=\"colab-df-quickchart\" onclick=\"quickchart('df-77417535-cd4a-43ee-86dc-0c09d4f607d9')\"\n",
              "            title=\"Suggest charts\"\n",
              "            style=\"display:none;\">\n",
              "\n",
              "<svg xmlns=\"http://www.w3.org/2000/svg\" height=\"24px\"viewBox=\"0 0 24 24\"\n",
              "     width=\"24px\">\n",
              "    <g>\n",
              "        <path d=\"M19 3H5c-1.1 0-2 .9-2 2v14c0 1.1.9 2 2 2h14c1.1 0 2-.9 2-2V5c0-1.1-.9-2-2-2zM9 17H7v-7h2v7zm4 0h-2V7h2v10zm4 0h-2v-4h2v4z\"/>\n",
              "    </g>\n",
              "</svg>\n",
              "  </button>\n",
              "\n",
              "<style>\n",
              "  .colab-df-quickchart {\n",
              "      --bg-color: #E8F0FE;\n",
              "      --fill-color: #1967D2;\n",
              "      --hover-bg-color: #E2EBFA;\n",
              "      --hover-fill-color: #174EA6;\n",
              "      --disabled-fill-color: #AAA;\n",
              "      --disabled-bg-color: #DDD;\n",
              "  }\n",
              "\n",
              "  [theme=dark] .colab-df-quickchart {\n",
              "      --bg-color: #3B4455;\n",
              "      --fill-color: #D2E3FC;\n",
              "      --hover-bg-color: #434B5C;\n",
              "      --hover-fill-color: #FFFFFF;\n",
              "      --disabled-bg-color: #3B4455;\n",
              "      --disabled-fill-color: #666;\n",
              "  }\n",
              "\n",
              "  .colab-df-quickchart {\n",
              "    background-color: var(--bg-color);\n",
              "    border: none;\n",
              "    border-radius: 50%;\n",
              "    cursor: pointer;\n",
              "    display: none;\n",
              "    fill: var(--fill-color);\n",
              "    height: 32px;\n",
              "    padding: 0;\n",
              "    width: 32px;\n",
              "  }\n",
              "\n",
              "  .colab-df-quickchart:hover {\n",
              "    background-color: var(--hover-bg-color);\n",
              "    box-shadow: 0 1px 2px rgba(60, 64, 67, 0.3), 0 1px 3px 1px rgba(60, 64, 67, 0.15);\n",
              "    fill: var(--button-hover-fill-color);\n",
              "  }\n",
              "\n",
              "  .colab-df-quickchart-complete:disabled,\n",
              "  .colab-df-quickchart-complete:disabled:hover {\n",
              "    background-color: var(--disabled-bg-color);\n",
              "    fill: var(--disabled-fill-color);\n",
              "    box-shadow: none;\n",
              "  }\n",
              "\n",
              "  .colab-df-spinner {\n",
              "    border: 2px solid var(--fill-color);\n",
              "    border-color: transparent;\n",
              "    border-bottom-color: var(--fill-color);\n",
              "    animation:\n",
              "      spin 1s steps(1) infinite;\n",
              "  }\n",
              "\n",
              "  @keyframes spin {\n",
              "    0% {\n",
              "      border-color: transparent;\n",
              "      border-bottom-color: var(--fill-color);\n",
              "      border-left-color: var(--fill-color);\n",
              "    }\n",
              "    20% {\n",
              "      border-color: transparent;\n",
              "      border-left-color: var(--fill-color);\n",
              "      border-top-color: var(--fill-color);\n",
              "    }\n",
              "    30% {\n",
              "      border-color: transparent;\n",
              "      border-left-color: var(--fill-color);\n",
              "      border-top-color: var(--fill-color);\n",
              "      border-right-color: var(--fill-color);\n",
              "    }\n",
              "    40% {\n",
              "      border-color: transparent;\n",
              "      border-right-color: var(--fill-color);\n",
              "      border-top-color: var(--fill-color);\n",
              "    }\n",
              "    60% {\n",
              "      border-color: transparent;\n",
              "      border-right-color: var(--fill-color);\n",
              "    }\n",
              "    80% {\n",
              "      border-color: transparent;\n",
              "      border-right-color: var(--fill-color);\n",
              "      border-bottom-color: var(--fill-color);\n",
              "    }\n",
              "    90% {\n",
              "      border-color: transparent;\n",
              "      border-bottom-color: var(--fill-color);\n",
              "    }\n",
              "  }\n",
              "</style>\n",
              "\n",
              "  <script>\n",
              "    async function quickchart(key) {\n",
              "      const quickchartButtonEl =\n",
              "        document.querySelector('#' + key + ' button');\n",
              "      quickchartButtonEl.disabled = true;  // To prevent multiple clicks.\n",
              "      quickchartButtonEl.classList.add('colab-df-spinner');\n",
              "      try {\n",
              "        const charts = await google.colab.kernel.invokeFunction(\n",
              "            'suggestCharts', [key], {});\n",
              "      } catch (error) {\n",
              "        console.error('Error during call to suggestCharts:', error);\n",
              "      }\n",
              "      quickchartButtonEl.classList.remove('colab-df-spinner');\n",
              "      quickchartButtonEl.classList.add('colab-df-quickchart-complete');\n",
              "    }\n",
              "    (() => {\n",
              "      let quickchartButtonEl =\n",
              "        document.querySelector('#df-77417535-cd4a-43ee-86dc-0c09d4f607d9 button');\n",
              "      quickchartButtonEl.style.display =\n",
              "        google.colab.kernel.accessAllowed ? 'block' : 'none';\n",
              "    })();\n",
              "  </script>\n",
              "</div>\n",
              "    </div>\n",
              "  </div>\n"
            ],
            "application/vnd.google.colaboratory.intrinsic+json": {
              "type": "dataframe",
              "variable_name": "df",
              "summary": "{\n  \"name\": \"df\",\n  \"rows\": 45,\n  \"fields\": [\n    {\n      \"column\": \"id\",\n      \"properties\": {\n        \"dtype\": \"number\",\n        \"std\": 13,\n        \"min\": 1,\n        \"max\": 45,\n        \"samples\": [\n          40,\n          26,\n          27\n        ],\n        \"num_unique_values\": 45,\n        \"semantic_type\": \"\",\n        \"description\": \"\"\n      }\n    },\n    {\n      \"column\": \"fecha\",\n      \"properties\": {\n        \"dtype\": \"object\",\n        \"min\": \"01/01/2010\",\n        \"max\": \"31/01/2010\",\n        \"samples\": [\n          \"09/02/2010\",\n          \"26/01/2010\",\n          \"27/01/2010\"\n        ],\n        \"num_unique_values\": 45,\n        \"semantic_type\": \"\",\n        \"description\": \"\"\n      }\n    },\n    {\n      \"column\": \"mes\",\n      \"properties\": {\n        \"dtype\": \"category\",\n        \"samples\": [\n          \"Febrero\",\n          \"Enero\"\n        ],\n        \"num_unique_values\": 2,\n        \"semantic_type\": \"\",\n        \"description\": \"\"\n      }\n    },\n    {\n      \"column\": \"cliente\",\n      \"properties\": {\n        \"dtype\": \"category\",\n        \"samples\": [\n          \"clienteB\",\n          \"clienteD\"\n        ],\n        \"num_unique_values\": 4,\n        \"semantic_type\": \"\",\n        \"description\": \"\"\n      }\n    },\n    {\n      \"column\": \"factura_pagada\",\n      \"properties\": {\n        \"dtype\": \"category\",\n        \"samples\": [\n          \"no\",\n          \"si\"\n        ],\n        \"num_unique_values\": 2,\n        \"semantic_type\": \"\",\n        \"description\": \"\"\n      }\n    },\n    {\n      \"column\": \"importe_factura\",\n      \"properties\": {\n        \"dtype\": \"number\",\n        \"std\": 49,\n        \"min\": 25,\n        \"max\": 200,\n        \"samples\": [\n          25,\n          150\n        ],\n        \"num_unique_values\": 9,\n        \"semantic_type\": \"\",\n        \"description\": \"\"\n      }\n    },\n    {\n      \"column\": \"tipo_IVA\",\n      \"properties\": {\n        \"dtype\": \"category\",\n        \"samples\": [\n          \"reducido\",\n          \"normal\"\n        ],\n        \"num_unique_values\": 2,\n        \"semantic_type\": \"\",\n        \"description\": \"\"\n      }\n    },\n    {\n      \"column\": \"porcentaje_IVA\",\n      \"properties\": {\n        \"dtype\": \"number\",\n        \"std\": 4,\n        \"min\": 8,\n        \"max\": 18,\n        \"samples\": [\n          8,\n          18\n        ],\n        \"num_unique_values\": 2,\n        \"semantic_type\": \"\",\n        \"description\": \"\"\n      }\n    },\n    {\n      \"column\": \"IVA\",\n      \"properties\": {\n        \"dtype\": \"category\",\n        \"samples\": [\n          \"4,5\",\n          \"9\"\n        ],\n        \"num_unique_values\": 12,\n        \"semantic_type\": \"\",\n        \"description\": \"\"\n      }\n    },\n    {\n      \"column\": \"total_pagado\",\n      \"properties\": {\n        \"dtype\": \"category\",\n        \"samples\": [\n          \"29,5\",\n          \"59\"\n        ],\n        \"num_unique_values\": 12,\n        \"semantic_type\": \"\",\n        \"description\": \"\"\n      }\n    }\n  ]\n}"
            }
          },
          "metadata": {},
          "execution_count": 80
        }
      ],
      "source": [
        "import pandas as pd\n",
        "import numpy as np\n",
        "import matplotlib.pyplot as plt\n",
        "import seaborn as sns\n",
        "ruta = ('https://raw.githubusercontent.com/cesargar1507/DatasetsUB/main/datos_facturas.csv?_sm_au_=iVVjpm8RlpHJHq5F26q8vKHV6CTMc')\n",
        "datos = pd.read_csv(ruta, sep = ';')\n",
        "df = pd.DataFrame(datos)\n",
        "df.head()"
      ]
    },
    {
      "cell_type": "code",
      "source": [
        "if df['total_pagado'].dtype == object:\n",
        "  df['total_pagado'] = pd.to_numeric(df['total_pagado'].str.replace(',','.'), errors= 'coerce')\n",
        "else:\n",
        "  print(\"La variable ya se ha convertido a numérica\")"
      ],
      "metadata": {
        "id": "s6KuSk5N4P_N"
      },
      "execution_count": 81,
      "outputs": []
    },
    {
      "cell_type": "code",
      "source": [
        "mediaTP = df['total_pagado'].mean()\n",
        "print('Media total pagado:', mediaTP)\n",
        "medianaTP = df['total_pagado'].median()\n",
        "print('Mediana total pagado:', medianaTP)\n",
        "modaTP = df['total_pagado'].mode()[0]\n",
        "print('Moda total pagado:', modaTP)"
      ],
      "metadata": {
        "colab": {
          "base_uri": "https://localhost:8080/"
        },
        "id": "eDCPZHgI6J6j",
        "outputId": "ac33db3f-a4f0-46b0-b251-a58bbc121e9d"
      },
      "execution_count": 82,
      "outputs": [
        {
          "output_type": "stream",
          "name": "stdout",
          "text": [
            "Media total pagado: 147.30888888888887\n",
            "Mediana total pagado: 135.0\n",
            "Moda total pagado: 118.0\n"
          ]
        }
      ]
    },
    {
      "cell_type": "code",
      "source": [
        "rangoTP = np.ptp(df['total_pagado'])\n",
        "varianzaTP = df['total_pagado'].var()\n",
        "desvTP = df['total_pagado'].std()\n",
        "coeficiente_variacionTP = (desvTP / df['total_pagado'].mean()) * 100\n",
        "print(\"Rango:\", rangoTP)\n",
        "print(\"Varianza:\", varianzaTP)\n",
        "print(\"Desviación estándar:\", desvTP)\n",
        "print(\"Coeficiente de variación:\", coeficiente_variacionTP)\n"
      ],
      "metadata": {
        "colab": {
          "base_uri": "https://localhost:8080/"
        },
        "id": "3a1hbWju7NGq",
        "outputId": "8e76d267-d7d7-4add-aa3d-7947cfd0660c"
      },
      "execution_count": 83,
      "outputs": [
        {
          "output_type": "stream",
          "name": "stdout",
          "text": [
            "Rango: 206.5\n",
            "Varianza: 3356.593555555555\n",
            "Desviación estándar: 57.93611615871015\n",
            "Coeficiente de variación: 39.329681050279184\n"
          ]
        }
      ]
    },
    {
      "cell_type": "code",
      "source": [
        "rango_intercuartilico = df['total_pagado'].quantile(0.75) - df['total_pagado'].quantile(0.25)\n",
        "cuartil_primero = df['total_pagado'].quantile(0.25)\n",
        "percentil_90 = df['total_pagado'].quantile(0.90)\n",
        "print(\"Rango intercuartílico:\", rango_intercuartilico)\n",
        "print(\"Cuartil primero (percentil 25):\", cuartil_primero)\n",
        "print(\"Percentil 90:\", percentil_90)"
      ],
      "metadata": {
        "colab": {
          "base_uri": "https://localhost:8080/"
        },
        "id": "IYchsaCb7xVv",
        "outputId": "b9650a58-4c2a-43c0-b08b-8d14d9ef71e4"
      },
      "execution_count": 84,
      "outputs": [
        {
          "output_type": "stream",
          "name": "stdout",
          "text": [
            "Rango intercuartílico: 81.0\n",
            "Cuartil primero (percentil 25): 108.0\n",
            "Percentil 90: 236.0\n"
          ]
        }
      ]
    },
    {
      "cell_type": "code",
      "source": [
        "kurtosis = df['total_pagado'].kurtosis()\n",
        "apuntamiento = 3 - df['total_pagado'].kurtosis()\n",
        "# Calculando el número óptimo de bins usando la regla de Sturges\n",
        "n_bins = int(1 + np.log2(len(df['total_pagado'])))\n",
        "plt.figure(figsize=(8,6))\n",
        "plt.hist(df['total_pagado'], bins = n_bins, color = 'skyblue', edgecolor='black')\n",
        "plt.title('Histograma de Total Pagado')\n",
        "plt.xlabel('Total Pagado')\n",
        "plt.ylabel('Frecuencia')\n",
        "plt.grid(True)\n",
        "plt.show()"
      ],
      "metadata": {
        "colab": {
          "base_uri": "https://localhost:8080/",
          "height": 564
        },
        "id": "BE1I2LfN8HK3",
        "outputId": "6cf40968-14d1-4f3c-dd55-e326ffb1acb9"
      },
      "execution_count": 85,
      "outputs": [
        {
          "output_type": "display_data",
          "data": {
            "text/plain": [
              "<Figure size 800x600 with 1 Axes>"
            ],
            "image/png": "[encoded data removed]"
          },
          "metadata": {}
        }
      ]
    },
    {
      "cell_type": "code",
      "source": [
        "plt.figure(figsize=(8, 6))\n",
        "plt.boxplot(df['total_pagado'])\n",
        "plt.title('Boxplot de Total Pagado')\n",
        "plt.xlabel('Total Pagado')\n",
        "plt.show()"
      ],
      "metadata": {
        "colab": {
          "base_uri": "https://localhost:8080/",
          "height": 564
        },
        "id": "hvirpkVq_PvK",
        "outputId": "1cffb382-81f4-47fe-b1f8-80a8dae1401e"
      },
      "execution_count": 86,
      "outputs": [
        {
          "output_type": "display_data",
          "data": {
            "text/plain": [
              "<Figure size 800x600 with 1 Axes>"
            ],
            "image/png": "[encoded data removed]"
          },
          "metadata": {}
        }
      ]
    },
    {
      "cell_type": "markdown",
      "source": [
        "**Comentarios Parte 1:**\n",
        "*  La media del total pagado es de aproximadamente 147.31 unidades monetarias. Esto significa que, en promedio, el monto total pagado en todas las facturas es alrededor de 147.31 unidades monetarias.\n",
        "*   La mediana del total pagado es de 135 unidades monetarias. Esto indica que el valor medio del total pagado está en el centro del conjunto de datos, y la mitad de los valores están por encima y la otra mitad por debajo de este valor.\n",
        "*   La moda del total pagado es de 118 unidades monetarias. Esto indica que el valor más común o frecuente del total pagado en las facturas es de 118 unidades monetarias.\n",
        "*   El rango del total pagado es de 206.5 unidades monetarias. Esto representa la diferencia entre el valor máximo y el valor mínimo de los pagos realizados en todas las facturas.\n",
        "*   La varianza del total pagado es de aproximadamente 3356.59 unidades monetarias al cuadrado. Indica cuánto se dispersan los valores del total pagado alrededor de la media.\n",
        "*   La desviación estándar del total pagado es de aproximadamente 57.94 unidades monetarias. Es una medida de dispersión que indica cuánto se alejan los valores del total pagado de la media.\n",
        "*   El coeficiente de variación es del 39.33%. Esto indica la variabilidad relativa de los pagos en relación con la media. Un valor alto sugiere una alta variabilidad en los pagos en relación con la media.\n",
        "*   El rango intercuartílico es de 81 unidades monetarias. Esto indica la dispersión de los datos dentro del rango intercuartílico, que abarca el 50% central de los datos.\n",
        "*   El cuartil primero (percentil 25) es de 108 unidades monetarias. Esto significa que el 25% de los pagos son iguales o inferiores a este valor.\n",
        "*   El percentil 90 es de 236 unidades monetarias. Esto indica que el 90% de los pagos son iguales o inferiores a este valor.\n",
        "\n",
        "\n",
        "\n",
        "\n",
        "\n",
        "\n",
        "\n",
        "\n",
        "\n"
      ],
      "metadata": {
        "id": "WqqtMJ02h98F"
      }
    },
    {
      "cell_type": "code",
      "source": [
        "df_filtrado = df.loc[df['factura_pagada']=='si']\n",
        "cliente_mas_pago = df_filtrado.groupby('cliente')['total_pagado'].sum().idxmax()\n",
        "total_mas_pago = df_filtrado.groupby('cliente')['total_pagado'].sum().max()\n",
        "print('El cliente que ha pagado más en todas las facturas es:', cliente_mas_pago)\n",
        "print('Total pagado por este cliente:', total_mas_pago)"
      ],
      "metadata": {
        "colab": {
          "base_uri": "https://localhost:8080/"
        },
        "id": "9kyo5essPCHj",
        "outputId": "a856eb77-23fc-45f2-9820-1780ff6737ba"
      },
      "execution_count": 87,
      "outputs": [
        {
          "output_type": "stream",
          "name": "stdout",
          "text": [
            "El cliente que ha pagado más en todas las facturas es: clienteA\n",
            "Total pagado por este cliente: 1534.0\n"
          ]
        }
      ]
    },
    {
      "cell_type": "code",
      "source": [
        "febrero_df = df.loc[(df['mes']=='Febrero') & (df['factura_pagada']=='si')]\n",
        "cliente_menos_facturas = febrero_df['cliente'].value_counts().idxmin()\n",
        "numero_facturas_menos = febrero_df['cliente'].value_counts().min()\n",
        "print(\"El cliente que ha pagado menos facturas en febrero es:\", cliente_menos_facturas)\n",
        "print(\"Número de facturas pagadas por este cliente en febrero:\", numero_facturas_menos)"
      ],
      "metadata": {
        "colab": {
          "base_uri": "https://localhost:8080/"
        },
        "id": "Ry2Z-wpBQ01A",
        "outputId": "95d458c7-13ba-479a-e752-c2e9a818975f"
      },
      "execution_count": 88,
      "outputs": [
        {
          "output_type": "stream",
          "name": "stdout",
          "text": [
            "El cliente que ha pagado menos facturas en febrero es: clienteC\n",
            "Número de facturas pagadas por este cliente en febrero: 1\n"
          ]
        }
      ]
    },
    {
      "cell_type": "markdown",
      "source": [
        "**Comentarios Parte 2:**\n",
        "\n",
        "\n",
        "*   Cliente más rentable: El cliente \"clienteA\" ha pagado el total más alto en todas las facturas. Sería beneficioso para la compañía mantener una relación sólida con este cliente y explorar oportunidades para aumentar la participación de este cliente, ofreciendo descuentos o servicios adicionales.\n",
        "\n",
        "*   Cliente menos activo en febrero: El cliente \"clienteC\" ha pagado el menor número de facturas en febrero. Sería importante investigar las razones detrás de esta baja actividad y considerar estrategias para fomentar una mayor participación de este cliente, como ofrecer incentivos especiales o mejorar la calidad del servicio.\n",
        "\n"
      ],
      "metadata": {
        "id": "JjiavewljqMi"
      }
    },
    {
      "cell_type": "code",
      "source": [
        "if df['IVA'].dtype == object:\n",
        "  df['IVA'] = pd.to_numeric(df['IVA'].str.replace(',','.'), errors= 'coerce')\n",
        "else:\n",
        "  print(\"La variable ya se ha convertido a numérica\")\n",
        "covarianza = df['IVA'].astype(float).cov(df['total_pagado'])\n",
        "print(\"La covarianza entre el IVA y el total pagado es:\", covarianza)"
      ],
      "metadata": {
        "colab": {
          "base_uri": "https://localhost:8080/"
        },
        "id": "yYgrX-YcVMLL",
        "outputId": "1a7cb1c9-1e98-4ee4-dbc2-3596739c7699"
      },
      "execution_count": 89,
      "outputs": [
        {
          "output_type": "stream",
          "name": "stdout",
          "text": [
            "La covarianza entre el IVA y el total pagado es: 526.768808080808\n"
          ]
        }
      ]
    },
    {
      "cell_type": "code",
      "source": [
        "import pandas as pd\n",
        "import matplotlib.pyplot as plt\n",
        "total_por_iva = df.groupby('IVA')['total_pagado'].sum()\n",
        "plt.figure(figsize=(10, 6))\n",
        "total_por_iva.plot(kind='bar', color='skyblue')\n",
        "plt.title('Total Pagado por IVA Aplicado')\n",
        "plt.xlabel('IVA Aplicado')\n",
        "plt.ylabel('Total Pagado')\n",
        "plt.xticks(rotation=45)\n",
        "plt.grid(axis='y', linestyle='--', alpha=0.7)\n",
        "plt.show()"
      ],
      "metadata": {
        "colab": {
          "base_uri": "https://localhost:8080/",
          "height": 602
        },
        "id": "6wSi64u7Ttxa",
        "outputId": "0811d30e-5b49-444b-e5b0-afc436cc5303"
      },
      "execution_count": 90,
      "outputs": [
        {
          "output_type": "display_data",
          "data": {
            "text/plain": [
              "<Figure size 1000x600 with 1 Axes>"
            ],
            "image/png": "[encoded data removed]"
          },
          "metadata": {}
        }
      ]
    },
    {
      "cell_type": "markdown",
      "source": [
        "**Comentarios Parte 3:**\n",
        "Basarse únicamente en el gráfico de dispersión y la covarianza para construir un modelo predictivo podría no ser suficiente, lógicamente cuando el valor del IVA aumenta, el total pagado tiende a aumentar también, y viceversa. Sin embargo, la magnitud de la covarianza no dice mucho sobre la fuerza de la relación o su significancia estadística, sería necesario utilizar otros métodos estadísticos, por ejemplo, análisis de correlaciones, regresiones, etc."
      ],
      "metadata": {
        "id": "xOlcFMJEkB9L"
      }
    },
    {
      "cell_type": "markdown",
      "source": [
        "**Parte 4 Recomendaciones:**\n",
        "\n",
        "1.   Mantener un enfoque en la retención y satisfacción del cliente, especialmente con clientes de alto valor como \"clienteA\".\n",
        "2.   Implementar estrategias para incentivar la participación de clientes menos activos, como programas de fidelización o descuentos personalizados.\n",
        "3. Monitorear de cerca las tendencias en los pagos y el comportamiento del cliente para identificar oportunidades de mejora y anticipar cambios en la demanda o el mercado.\n",
        "\n",
        "\n",
        "\n"
      ],
      "metadata": {
        "id": "KJv-9BK3duwR"
      }
    }
  ]
}