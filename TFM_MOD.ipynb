{
  "nbformat": 4,
  "nbformat_minor": 0,
  "metadata": {
    "colab": {
      "provenance": []
    },
    "kernelspec": {
      "name": "ir",
      "display_name": "R"
    },
    "language_info": {
      "name": "R"
    }
  },
  "cells": [
    {
      "cell_type": "code",
      "execution_count": null,
      "metadata": {
        "colab": {
          "base_uri": "https://localhost:8080/"
        },
        "id": "NXvNrUprHSkt",
        "outputId": "c7d5d218-9fe1-4aa2-eb85-a7748f2a5f32"
      },
      "outputs": [
        {
          "metadata": {
            "tags": null
          },
          "name": "stderr",
          "output_type": "stream",
          "text": [
            "\n",
            "Attaching package: ‘dplyr’\n",
            "\n",
            "\n",
            "The following objects are masked from ‘package:stats’:\n",
            "\n",
            "    filter, lag\n",
            "\n",
            "\n",
            "The following objects are masked from ‘package:base’:\n",
            "\n",
            "    intersect, setdiff, setequal, union\n",
            "\n",
            "\n",
            "Installing package into ‘/usr/local/lib/R/site-library’\n",
            "(as ‘lib’ is unspecified)\n",
            "\n",
            "also installing the dependencies ‘listenv’, ‘parallelly’, ‘future’, ‘globals’, ‘shape’, ‘future.apply’, ‘numDeriv’, ‘progressr’, ‘SQUAREM’, ‘diagram’, ‘lava’, ‘prodlim’, ‘proxy’, ‘iterators’, ‘Rcpp’, ‘clock’, ‘gower’, ‘hardhat’, ‘ipred’, ‘timeDate’, ‘e1071’, ‘foreach’, ‘ModelMetrics’, ‘plyr’, ‘pROC’, ‘recipes’, ‘reshape2’\n",
            "\n",
            "\n"
          ]
        }
      ],
      "source": [
        "library(dplyr)\n",
        "library(readr)\n",
        "install.packages(\"caret\")\n",
        "library(caret)\n",
        "install.packages(\"survminer\")\n",
        "library(survminer)\n",
        "install.packages(\"survival\")\n",
        "library(survival)\n",
        "install.packages(\"ggplot2\")\n",
        "library(ggplot2)"
      ]
    },
    {
      "cell_type": "code",
      "source": [
        "# Leer el archivo CSV desde la URL\n",
        "url <- \"https://raw.githubusercontent.com/cesargar1507/DatasetsUB/main/machine_FOTL1.csv\"\n",
        "df <- read_csv(url, show_col_types = FALSE)\n",
        "df_copy <- df"
      ],
      "metadata": {
        "id": "p7Ac95EBV6df"
      },
      "execution_count": null,
      "outputs": []
    },
    {
      "cell_type": "code",
      "source": [
        "summary(df)"
      ],
      "metadata": {
        "id": "z2sxgjL5cMt_"
      },
      "execution_count": null,
      "outputs": []
    },
    {
      "cell_type": "code",
      "source": [
        "head(df,5)"
      ],
      "metadata": {
        "id": "qzZX5SgOtE09"
      },
      "execution_count": null,
      "outputs": []
    },
    {
      "cell_type": "markdown",
      "source": [
        "**ANALISIS DE VARIABLES**"
      ],
      "metadata": {
        "id": "P4kKVEF1Rs6t"
      }
    },
    {
      "cell_type": "code",
      "source": [
        "dim(df)"
      ],
      "metadata": {
        "id": "ufkTTqfldMbg"
      },
      "execution_count": null,
      "outputs": []
    },
    {
      "cell_type": "code",
      "source": [
        "# Calcular la frecuencia de cada operación\n",
        "operation_freq <- df %>%\n",
        "  group_by(operation) %>%\n",
        "  summarise(count = n()) %>%\n",
        "  arrange(desc(count))\n",
        "\n",
        "# Calcular el porcentaje acumulado\n",
        "operation_freq <- operation_freq %>%\n",
        "  mutate(cum_count = cumsum(count),\n",
        "         cum_perc = cum_count / sum(count))\n",
        "\n",
        "operation_freq"
      ],
      "metadata": {
        "id": "_ceeX9_wEfXc"
      },
      "execution_count": null,
      "outputs": []
    },
    {
      "cell_type": "code",
      "source": [
        "# Crear el gráfico de barras\n",
        "ggplot(df, aes(y = problem_desc)) +\n",
        "  geom_bar(fill = 'skyblue', color = 'black') +\n",
        "  labs(title = 'Frecuencia de Variables Categóricas',\n",
        "       x = 'Frecuencia',\n",
        "       y = 'Categoria') +\n",
        "  theme_minimal()"
      ],
      "metadata": {
        "id": "gx5rHH5BVEBM"
      },
      "execution_count": null,
      "outputs": []
    },
    {
      "cell_type": "code",
      "source": [
        "# Crear el gráfico de barras\n",
        "ggplot(df, aes(y = failure_desc)) +\n",
        "  geom_bar(fill = 'skyblue', color = 'black') +\n",
        "  labs(title = 'Frecuencia de Variables Categóricas',\n",
        "       x = 'Frecuencia',\n",
        "       y = 'Categoria') +\n",
        "  theme_minimal()"
      ],
      "metadata": {
        "id": "WaI9bflOVnmZ"
      },
      "execution_count": null,
      "outputs": []
    },
    {
      "cell_type": "code",
      "source": [
        "# Calcular la frecuencia de causas de fallo\n",
        "cause_freq <- df %>%\n",
        "  group_by(cause_desc) %>%\n",
        "  summarise(count = n()) %>%\n",
        "  arrange(desc(count))\n",
        "\n",
        "# Calcular el porcentaje acumulado\n",
        "cause_freq <- cause_freq %>%\n",
        "  mutate(cum_count = cumsum(count),\n",
        "         cum_perc = cum_count / sum(count))\n",
        "cause_freq"
      ],
      "metadata": {
        "id": "NGaNNZ6KVp5r"
      },
      "execution_count": null,
      "outputs": []
    },
    {
      "cell_type": "code",
      "source": [
        "# Calcular la frecuencia de acciones correctivas\n",
        "action_freq <- df %>%\n",
        "  group_by(action_desc) %>%\n",
        "  summarise(count = n()) %>%\n",
        "  arrange(desc(count))\n",
        "\n",
        "# Calcular el porcentaje acumulado\n",
        "action_freq <- action_freq %>%\n",
        "  mutate(cum_count = cumsum(count),\n",
        "         cum_perc = cum_count / sum(count))\n",
        "action_freq"
      ],
      "metadata": {
        "id": "GAwaYZaSWNmD"
      },
      "execution_count": null,
      "outputs": []
    },
    {
      "cell_type": "code",
      "source": [
        "# Calcular la frecuencia de acciones correctivas\n",
        "mechanic_freq <- df %>%\n",
        "  group_by(mechanic) %>%\n",
        "  summarise(count = n()) %>%\n",
        "  arrange(desc(count))\n",
        "\n",
        "# Calcular el porcentaje acumulado\n",
        "mechanic_freq <- mechanic_freq %>%\n",
        "  mutate(cum_count = cumsum(count),\n",
        "         cum_perc = cum_count / sum(count))\n",
        "mechanic_freq"
      ],
      "metadata": {
        "id": "X6SGcfGNa4CA"
      },
      "execution_count": null,
      "outputs": []
    },
    {
      "cell_type": "code",
      "source": [
        "# Crear el boxplot de repair_hours\n",
        "ggplot(df, aes(y = repair_hours)) +\n",
        "  geom_boxplot(fill = 'skyblue', color = 'black') +\n",
        "  labs(title = 'Boxplot de repair hours',\n",
        "       y = 'Costo de partes') +\n",
        "  theme_minimal()"
      ],
      "metadata": {
        "id": "9KmrANMLYUpY"
      },
      "execution_count": null,
      "outputs": []
    },
    {
      "cell_type": "code",
      "source": [
        "# Histograma de 'downtimeGross'\n",
        "hist_downtimeGross <- ggplot(df, aes(x = downtime_gross)) +\n",
        "  geom_histogram(binwidth = 0.1, fill = \"green\", color = \"black\", alpha = 0.7) +\n",
        "  labs(title = \"Histograma de Downtime Bruto\",\n",
        "       x = \"Downtime Bruto (horas)\",\n",
        "       y = \"Frecuencia\") +\n",
        "  theme_minimal()\n",
        "\n",
        "# Mostrar histogramas\n",
        "print(hist_downtimeGross)"
      ],
      "metadata": {
        "id": "pX3O1eGXcMZL"
      },
      "execution_count": null,
      "outputs": []
    },
    {
      "cell_type": "markdown",
      "source": [
        "**LIMPIEZA DE DATOS**"
      ],
      "metadata": {
        "id": "nU5ZKD4XRfX7"
      }
    },
    {
      "cell_type": "code",
      "source": [
        "sapply(df, function(x) sum(is.na(x)))"
      ],
      "metadata": {
        "id": "ttjLXcMWRvy5"
      },
      "execution_count": null,
      "outputs": []
    },
    {
      "cell_type": "code",
      "source": [
        "# Remover el símbolo de dólar y las comas, y convertir a float\n",
        "df$parts_cost <- as.numeric(gsub(\"[\\\\$,()]\", \"\", df$parts_cost))"
      ],
      "metadata": {
        "id": "IfrIeddmGwIo"
      },
      "execution_count": null,
      "outputs": []
    },
    {
      "cell_type": "code",
      "source": [
        "# Crear el boxplot de parts_cost\n",
        "ggplot(df, aes(y = parts_cost)) +\n",
        "  geom_boxplot(fill = 'skyblue', color = 'black') +\n",
        "  labs(title = 'Boxplot de parts cost',\n",
        "       y = 'Costo de partes') +\n",
        "  theme_minimal()"
      ],
      "metadata": {
        "id": "SIPMWg5OWpwo"
      },
      "execution_count": null,
      "outputs": []
    },
    {
      "cell_type": "code",
      "source": [
        "# Convertir la columna 'Date' al formato adecuado\n",
        "df$date <- as.Date(df$date, format=\"%m/%d/%Y\")  # Ajusta el formato según tus datos\n",
        "# Ordenar el DataFrame por fecha\n",
        "df <- df %>%\n",
        "  arrange(date)"
      ],
      "metadata": {
        "id": "ss5BYMi8Vtvl"
      },
      "execution_count": null,
      "outputs": []
    },
    {
      "cell_type": "code",
      "source": [
        "mean(df$downtime_gross < 0)"
      ],
      "metadata": {
        "id": "bqrYJi1Ksvn-"
      },
      "execution_count": null,
      "outputs": []
    },
    {
      "cell_type": "code",
      "source": [
        "# Filtrar registros donde downtimeGross no sea negativo\n",
        "df_filtered <- df %>%\n",
        "  filter(downtime_gross >= 0)"
      ],
      "metadata": {
        "id": "oOqbbJuhkqTH"
      },
      "execution_count": null,
      "outputs": []
    },
    {
      "cell_type": "code",
      "source": [
        "mean(df$repair_hours < 0)"
      ],
      "metadata": {
        "id": "gofP8VjtS_l7"
      },
      "execution_count": null,
      "outputs": []
    },
    {
      "cell_type": "code",
      "source": [
        "# Calcular valor absoluto de repair hours\n",
        "df$repair_hours <- abs(df$repair_hours)"
      ],
      "metadata": {
        "id": "bkOS07YRY3TX"
      },
      "execution_count": null,
      "outputs": []
    },
    {
      "cell_type": "code",
      "source": [
        "#Eliminar columnas que no seran utilizadas\n",
        "df <- select(df, -problem_code, -failure_code, -cause_code, -action_code, -pit_coverage, -real_downtime, -waiting_hours)"
      ],
      "metadata": {
        "id": "FZkbiV-4SiWB"
      },
      "execution_count": null,
      "outputs": []
    },
    {
      "cell_type": "code",
      "source": [
        "# Calcular la diferencia en días entre la fecha actual y la fecha del último mantenimiento preventivo registrado para cada equipo\n",
        "df <- df %>%\n",
        "  group_by(equipment) %>%\n",
        "  mutate(Time_Since_Last_Preventive_Maintenance = ifelse(`wo_type` == \"Preventative Maintenance\", difftime(max(date), date, units = \"days\"), 0))"
      ],
      "metadata": {
        "id": "1vi9i5wcV8uX"
      },
      "execution_count": null,
      "outputs": []
    },
    {
      "cell_type": "code",
      "source": [
        "# Filtrar el DataFrame por 'WO Type' igual a 'Corrective Maintenance'\n",
        "df <- df %>%\n",
        "  filter(`wo_type` == \"Corrective Maintenance\")"
      ],
      "metadata": {
        "id": "LjrIm4bfXcHx"
      },
      "execution_count": null,
      "outputs": []
    },
    {
      "cell_type": "code",
      "source": [
        "# Calcular la diferencia en días entre fechas consecutivas\n",
        "df <- df %>%\n",
        "  group_by(equipment) %>%\n",
        "  mutate(Days_Between_Failures = difftime(date, lag(date), units = \"days\"))\n",
        "\n",
        "# Reemplazar los valores NA en Days_Between_Failures\n",
        "df$Days_Between_Failures[is.na(df$Days_Between_Failures)] <- as.numeric(difftime(df$date[is.na(df$Days_Between_Failures)], as.Date(\"2023-01-01\"), units = \"days\"))"
      ],
      "metadata": {
        "id": "82Hp91p7aia4"
      },
      "execution_count": null,
      "outputs": []
    },
    {
      "cell_type": "code",
      "source": [
        "# Convertir 'Days_Between_Failures' a numeric\n",
        "df$Days_Between_Failures <- as.numeric(df$Days_Between_Failures, units = \"days\")"
      ],
      "metadata": {
        "id": "lkjfo3ZWc3iI"
      },
      "execution_count": null,
      "outputs": []
    },
    {
      "cell_type": "markdown",
      "source": [
        "**ANALISIS DE VARIABLE OBJETIVO**"
      ],
      "metadata": {
        "id": "uaTdHyHqabIq"
      }
    },
    {
      "cell_type": "code",
      "source": [
        "# Crear el boxplot de daysbetween_failures\n",
        "ggplot(df, aes(y = Days_Between_Failures)) +\n",
        "  geom_boxplot(fill = 'skyblue', color = 'black') +\n",
        "  labs(title = 'Boxplot de Days Between Failures',\n",
        "       y = 'Días entre Fallas') +\n",
        "  theme_minimal()"
      ],
      "metadata": {
        "id": "pn4a06xQXhJW"
      },
      "execution_count": null,
      "outputs": []
    },
    {
      "cell_type": "code",
      "source": [
        "# Histograma de 'Days_Between_Failures'\n",
        "hist_days_failures <- ggplot(df, aes(x = Days_Between_Failures)) +\n",
        "  geom_histogram(binwidth = 3, fill = \"green\", color = \"black\", alpha = 0.7) +\n",
        "  labs(title = \"Histograma de days between failures\",\n",
        "       x = \"Días\",\n",
        "       y = \"Frecuencia\") +\n",
        "  theme_minimal()\n",
        "\n",
        "# Mostrar histogramas\n",
        "print(hist_days_failures)"
      ],
      "metadata": {
        "id": "KH1JUTvocvtI"
      },
      "execution_count": null,
      "outputs": []
    },
    {
      "cell_type": "markdown",
      "source": [
        "**MODELO DE REGRESION LINEAL INICIAL PARA PREDECIR DAYS BETWEEN FAILURES**\n",
        "\n"
      ],
      "metadata": {
        "id": "YYWc2PhqQL_7"
      }
    },
    {
      "cell_type": "code",
      "source": [
        "df <- select(df, -wo_type, -date)"
      ],
      "metadata": {
        "id": "zMojStQASpaL"
      },
      "execution_count": null,
      "outputs": []
    },
    {
      "cell_type": "code",
      "source": [
        "# Inicializar y ajustar el modelo de regresión lineal\n",
        "model1 <- lm(Days_Between_Failures~. -equipment -Time_Since_Last_Preventive_Maintenance, data = df)\n",
        "# Resumen del modelo\n",
        "summary(model1)"
      ],
      "metadata": {
        "id": "bSJjlo6uIhBL"
      },
      "execution_count": null,
      "outputs": []
    },
    {
      "cell_type": "markdown",
      "source": [
        "**CALCULO DE VARIABLES PARA MEJORA DEL AJUSTE**"
      ],
      "metadata": {
        "id": "SgZxGsrHQUJl"
      }
    },
    {
      "cell_type": "code",
      "source": [
        "#Calcular los fallos acumulativos\n",
        "df <- df %>%\n",
        "  group_by(equipment) %>%\n",
        "  mutate(Cumulative_Failure_Count = row_number())"
      ],
      "metadata": {
        "id": "nTXK2CN1arF3"
      },
      "execution_count": null,
      "outputs": []
    },
    {
      "cell_type": "code",
      "source": [
        "# Calcular la mediana de tiempo de reparación\n",
        "df <- df %>%\n",
        "  group_by(equipment) %>%\n",
        "  mutate(Median_Repair_Time = median(repair_hours, na.rm = TRUE))"
      ],
      "metadata": {
        "id": "ay7pacmzayII"
      },
      "execution_count": null,
      "outputs": []
    },
    {
      "cell_type": "code",
      "source": [
        "# Calcular el costo acumulado de mantenimiento\n",
        "df <- df %>%\n",
        "  group_by(equipment) %>%\n",
        "  mutate(Cumulative_Maintenance_Cost = cumsum(parts_cost))"
      ],
      "metadata": {
        "id": "_eN_OS-pa8be"
      },
      "execution_count": null,
      "outputs": []
    },
    {
      "cell_type": "markdown",
      "source": [
        "**MODELO DE REGRESION LINEAL PARA PREDECIR DAYS BETWEEN FAILURES CON MAS VARIABLES**"
      ],
      "metadata": {
        "id": "wNC721DunCQG"
      }
    },
    {
      "cell_type": "code",
      "source": [
        "# Inicializar y ajustar el modelo de regresión lineal\n",
        "model2 <- lm(Days_Between_Failures~. -equipment, data = df)\n",
        "# Resumen del modelo\n",
        "summary(model2)"
      ],
      "metadata": {
        "id": "qtPJcI7SifTV"
      },
      "execution_count": null,
      "outputs": []
    },
    {
      "cell_type": "markdown",
      "source": [
        "**MODELO CATBOOST PARA PREDECIR DAYS BETWEEN FAILURES**"
      ],
      "metadata": {
        "id": "ErY-VFlBe-jz"
      }
    },
    {
      "cell_type": "code",
      "source": [
        "# Identificar las columnas categóricas\n",
        "categorical_features = ['operation', 'base_model', 'problem_desc', 'failure_desc', 'cause_desc', 'action_desc', 'mechanic']\n",
        "\n",
        "# Crear y preparar el dataset\n",
        "X = df_copy[['downtime_gross', 'parts_cost', 'repair_hours', 'Time_Since_Last_Preventive_Maintenance', 'Cumulative_Failure_Count', 'Median_Repair_Time', 'Cumulative_Maintenance_Cost'] + categorical_features]\n",
        "y = df_copy['Days_Between_Failures']\n",
        "\n",
        "# División de los datos en conjuntos de entrenamiento y prueba\n",
        "X_train, X_test, y_train, y_test = train_test_split(X, y, test_size=0.3, random_state=42)\n",
        "\n",
        "# Crear y entrenar el modelo de CatBoost\n",
        "train_pool = Pool(X_train, y_train, cat_features=categorical_features)\n",
        "test_pool = Pool(X_test, y_test, cat_features=categorical_features)\n",
        "\n",
        "model = CatBoostRegressor(random_seed=42, logging_level='Silent')\n",
        "model.fit(train_pool)\n",
        "\n",
        "# Realizar predicciones\n",
        "y_pred = model.predict(test_pool)\n",
        "\n",
        "# Evaluar el modelo\n",
        "mse = mean_squared_error(y_test, y_pred)\n",
        "r2 = r2_score(y_test, y_pred)\n",
        "\n",
        "print(f\"Estimación de days between failures - MSE: {mse}, R2: {r2}\")"
      ],
      "metadata": {
        "id": "YUR_dBy3kxyD"
      },
      "execution_count": null,
      "outputs": []
    },
    {
      "cell_type": "markdown",
      "source": [
        "**IMPLEMENTACION DE BACKWARD**"
      ],
      "metadata": {
        "id": "5xptOdwWQmL8"
      }
    },
    {
      "cell_type": "code",
      "source": [
        "# Realizar backward elimination\n",
        "model_final <- step(model2, direction = \"backward\")\n",
        "model_final$anova"
      ],
      "metadata": {
        "id": "ZbC7KyFYuvs8",
        "colab": {
          "base_uri": "https://localhost:8080/",
          "height": 1000
        },
        "outputId": "dc084fc2-27f3-4480-8fe0-f0fd54e72b10"
      },
      "execution_count": 275,
      "outputs": [
        {
          "output_type": "stream",
          "name": "stdout",
          "text": [
            "Start:  AIC=466273.9\n",
            "Days_Between_Failures ~ (equipment + operation + base_model + \n",
            "    problem_desc + failure_desc + cause_desc + action_desc + \n",
            "    mechanic + downtime_gross + parts_cost + repair_hours + Time_Since_Last_Preventive_Maintenance + \n",
            "    Cumulative_Failure_Count + Median_Repair_Time + Cumulative_Maintenance_Cost) - \n",
            "    equipment\n",
            "\n",
            "\n",
            "Step:  AIC=466273.9\n",
            "Days_Between_Failures ~ operation + base_model + problem_desc + \n",
            "    failure_desc + cause_desc + action_desc + mechanic + downtime_gross + \n",
            "    parts_cost + repair_hours + Cumulative_Failure_Count + Median_Repair_Time + \n",
            "    Cumulative_Maintenance_Cost\n",
            "\n",
            "                               Df Sum of Sq       RSS    AIC\n",
            "- cause_desc                  260    708909 129071057 466088\n",
            "- action_desc                 257    755590 129117738 466116\n",
            "- failure_desc                 37     91855 128454004 466243\n",
            "- problem_desc                 21     51914 128414063 466256\n",
            "- Cumulative_Maintenance_Cost   1      2198 128364347 466273\n",
            "<none>                                      128362148 466274\n",
            "- repair_hours                  1      7667 128369816 466276\n",
            "- parts_cost                    1     68794 128430943 466304\n",
            "- downtime_gross                1     78958 128441107 466309\n",
            "- Median_Repair_Time            1    390466 128752614 466456\n",
            "- Cumulative_Failure_Count      1    477640 128839788 466497\n",
            "- operation                   132   1981497 130343645 466938\n",
            "- base_model                  122   2741318 131103466 467311\n",
            "- mechanic                    226   9896085 138258233 470323\n",
            "\n",
            "Step:  AIC=466087.7\n",
            "Days_Between_Failures ~ operation + base_model + problem_desc + \n",
            "    failure_desc + action_desc + mechanic + downtime_gross + \n",
            "    parts_cost + repair_hours + Cumulative_Failure_Count + Median_Repair_Time + \n",
            "    Cumulative_Maintenance_Cost\n",
            "\n",
            "                               Df Sum of Sq       RSS    AIC\n",
            "- action_desc                 261   1000836 130071893 466034\n",
            "- failure_desc                 37     97057 129168115 466059\n",
            "- problem_desc                 21     58760 129129817 466073\n",
            "- Cumulative_Maintenance_Cost   1      2086 129073143 466087\n",
            "<none>                                      129071057 466088\n",
            "- repair_hours                  1      7709 129078766 466089\n",
            "- parts_cost                    1     65219 129136276 466116\n",
            "- downtime_gross                1     82947 129154005 466125\n",
            "- Median_Repair_Time            1    389766 129460823 466268\n",
            "- Cumulative_Failure_Count      1    469546 129540603 466306\n",
            "- operation                   132   1997398 131068455 466754\n",
            "- base_model                  122   2762462 131833519 467127\n",
            "- mechanic                    226  10124773 139195831 470213\n",
            "\n",
            "Step:  AIC=466033.8\n",
            "Days_Between_Failures ~ operation + base_model + problem_desc + \n",
            "    failure_desc + mechanic + downtime_gross + parts_cost + repair_hours + \n",
            "    Cumulative_Failure_Count + Median_Repair_Time + Cumulative_Maintenance_Cost\n",
            "\n",
            "                               Df Sum of Sq       RSS    AIC\n",
            "- problem_desc                 22     71688 130143581 466023\n",
            "- failure_desc                 37    147028 130218922 466028\n",
            "- Cumulative_Maintenance_Cost   1      1644 130073537 466033\n",
            "<none>                                      130071893 466034\n",
            "- repair_hours                  1      7112 130079005 466035\n",
            "- parts_cost                    1     74586 130146480 466067\n",
            "- downtime_gross                1     83514 130155408 466071\n",
            "- Median_Repair_Time            1    393812 130465705 466215\n",
            "- Cumulative_Failure_Count      1    464812 130536706 466248\n",
            "- operation                   132   2046102 132117995 466716\n",
            "- base_model                  122   2786802 132858696 467075\n",
            "- mechanic                    226  10642039 140713932 470348\n",
            "\n",
            "Step:  AIC=466023.2\n",
            "Days_Between_Failures ~ operation + base_model + failure_desc + \n",
            "    mechanic + downtime_gross + parts_cost + repair_hours + Cumulative_Failure_Count + \n",
            "    Median_Repair_Time + Cumulative_Maintenance_Cost\n",
            "\n",
            "                               Df Sum of Sq       RSS    AIC\n",
            "- failure_desc                 37    135488 130279069 466012\n",
            "- Cumulative_Maintenance_Cost   1      1660 130145240 466022\n",
            "<none>                                      130143581 466023\n",
            "- repair_hours                  1      6941 130150522 466024\n",
            "- parts_cost                    1     74932 130218512 466056\n",
            "- downtime_gross                1     84768 130228349 466061\n",
            "- Median_Repair_Time            1    395633 130539214 466205\n",
            "- Cumulative_Failure_Count      1    462142 130605723 466236\n",
            "- operation                   132   2042862 132186443 466703\n",
            "- base_model                  122   2790536 132934117 467065\n",
            "- mechanic                    226  10755432 140899013 470384\n",
            "\n",
            "Step:  AIC=466012.3\n",
            "Days_Between_Failures ~ operation + base_model + mechanic + downtime_gross + \n",
            "    parts_cost + repair_hours + Cumulative_Failure_Count + Median_Repair_Time + \n",
            "    Cumulative_Maintenance_Cost\n",
            "\n",
            "                               Df Sum of Sq       RSS    AIC\n",
            "- Cumulative_Maintenance_Cost   1      1449 130280518 466011\n",
            "<none>                                      130279069 466012\n",
            "- repair_hours                  1      6688 130285757 466013\n",
            "- parts_cost                    1     72573 130351642 466044\n",
            "- downtime_gross                1     87534 130366603 466051\n",
            "- Median_Repair_Time            1    393670 130672740 466193\n",
            "- Cumulative_Failure_Count      1    456492 130735561 466222\n",
            "- operation                   132   2053934 132333003 466696\n",
            "- base_model                  122   2798743 133077813 467056\n",
            "- mechanic                    226  10792071 141071140 470384\n",
            "\n",
            "Step:  AIC=466011\n",
            "Days_Between_Failures ~ operation + base_model + mechanic + downtime_gross + \n",
            "    parts_cost + repair_hours + Cumulative_Failure_Count + Median_Repair_Time\n",
            "\n",
            "                            Df Sum of Sq       RSS    AIC\n",
            "<none>                                   130280518 466011\n",
            "- repair_hours               1      6832 130287350 466012\n",
            "- parts_cost                 1     78789 130359307 466046\n",
            "- downtime_gross             1     87829 130368347 466050\n",
            "- Median_Repair_Time         1    396478 130676996 466193\n",
            "- Cumulative_Failure_Count   1    717485 130998003 466342\n",
            "- operation                132   2055708 132336226 466696\n",
            "- base_model               122   2798261 133078780 467055\n",
            "- mechanic                 226  10806260 141086778 470388\n"
          ]
        },
        {
          "output_type": "display_data",
          "data": {
            "text/html": [
              "<table class=\"dataframe\">\n",
              "<caption>A data.frame: 7 × 6</caption>\n",
              "<thead>\n",
              "\t<tr><th scope=col>Step</th><th scope=col>Df</th><th scope=col>Deviance</th><th scope=col>Resid. Df</th><th scope=col>Resid. Dev</th><th scope=col>AIC</th></tr>\n",
              "\t<tr><th scope=col>&lt;I&lt;chr&gt;&gt;</th><th scope=col>&lt;dbl&gt;</th><th scope=col>&lt;dbl&gt;</th><th scope=col>&lt;dbl&gt;</th><th scope=col>&lt;dbl&gt;</th><th scope=col>&lt;dbl&gt;</th></tr>\n",
              "</thead>\n",
              "<tbody>\n",
              "\t<tr><td>                                        </td><td> NA</td><td>         NA</td><td>59536</td><td>128362148</td><td>466273.9</td></tr>\n",
              "\t<tr><td>- Time_Since_Last_Preventive_Maintenance</td><td>  0</td><td>      0.000</td><td>59536</td><td>128362148</td><td>466273.9</td></tr>\n",
              "\t<tr><td>- cause_desc                            </td><td>260</td><td> 708908.714</td><td>59796</td><td>129071057</td><td>466087.7</td></tr>\n",
              "\t<tr><td>- action_desc                           </td><td>261</td><td>1000836.112</td><td>60057</td><td>130071893</td><td>466033.8</td></tr>\n",
              "\t<tr><td>- problem_desc                          </td><td> 22</td><td>  71687.597</td><td>60079</td><td>130143581</td><td>466023.2</td></tr>\n",
              "\t<tr><td>- failure_desc                          </td><td> 37</td><td> 135488.476</td><td>60116</td><td>130279069</td><td>466012.3</td></tr>\n",
              "\t<tr><td>- Cumulative_Maintenance_Cost           </td><td>  1</td><td>   1448.757</td><td>60117</td><td>130280518</td><td>466010.9</td></tr>\n",
              "</tbody>\n",
              "</table>\n"
            ],
            "text/markdown": "\nA data.frame: 7 × 6\n\n| Step &lt;I&lt;chr&gt;&gt; | Df &lt;dbl&gt; | Deviance &lt;dbl&gt; | Resid. Df &lt;dbl&gt; | Resid. Dev &lt;dbl&gt; | AIC &lt;dbl&gt; |\n|---|---|---|---|---|---|\n| <!----> |  NA |          NA | 59536 | 128362148 | 466273.9 |\n| - Time_Since_Last_Preventive_Maintenance |   0 |       0.000 | 59536 | 128362148 | 466273.9 |\n| - cause_desc                             | 260 |  708908.714 | 59796 | 129071057 | 466087.7 |\n| - action_desc                            | 261 | 1000836.112 | 60057 | 130071893 | 466033.8 |\n| - problem_desc                           |  22 |   71687.597 | 60079 | 130143581 | 466023.2 |\n| - failure_desc                           |  37 |  135488.476 | 60116 | 130279069 | 466012.3 |\n| - Cumulative_Maintenance_Cost            |   1 |    1448.757 | 60117 | 130280518 | 466010.9 |\n\n",
            "text/latex": "A data.frame: 7 × 6\n\\begin{tabular}{llllll}\n Step & Df & Deviance & Resid. Df & Resid. Dev & AIC\\\\\n <I<chr>> & <dbl> & <dbl> & <dbl> & <dbl> & <dbl>\\\\\n\\hline\n\t                                          &  NA &          NA & 59536 & 128362148 & 466273.9\\\\\n\t - Time\\_Since\\_Last\\_Preventive\\_Maintenance &   0 &       0.000 & 59536 & 128362148 & 466273.9\\\\\n\t - cause\\_desc                             & 260 &  708908.714 & 59796 & 129071057 & 466087.7\\\\\n\t - action\\_desc                            & 261 & 1000836.112 & 60057 & 130071893 & 466033.8\\\\\n\t - problem\\_desc                           &  22 &   71687.597 & 60079 & 130143581 & 466023.2\\\\\n\t - failure\\_desc                           &  37 &  135488.476 & 60116 & 130279069 & 466012.3\\\\\n\t - Cumulative\\_Maintenance\\_Cost            &   1 &    1448.757 & 60117 & 130280518 & 466010.9\\\\\n\\end{tabular}\n",
            "text/plain": [
              "  Step                                     Df  Deviance    Resid. Df Resid. Dev\n",
              "1                                           NA          NA 59536     128362148 \n",
              "2 - Time_Since_Last_Preventive_Maintenance   0       0.000 59536     128362148 \n",
              "3 - cause_desc                             260  708908.714 59796     129071057 \n",
              "4 - action_desc                            261 1000836.112 60057     130071893 \n",
              "5 - problem_desc                            22   71687.597 60079     130143581 \n",
              "6 - failure_desc                            37  135488.476 60116     130279069 \n",
              "7 - Cumulative_Maintenance_Cost              1    1448.757 60117     130280518 \n",
              "  AIC     \n",
              "1 466273.9\n",
              "2 466273.9\n",
              "3 466087.7\n",
              "4 466033.8\n",
              "5 466023.2\n",
              "6 466012.3\n",
              "7 466010.9"
            ]
          },
          "metadata": {}
        }
      ]
    },
    {
      "cell_type": "code",
      "source": [
        "formula2 = as.formula(\"Days_Between_Failures ~ operation + base_model + problem_desc +\n",
        "    failure_desc + mechanic + downtime_gross + parts_cost + repair_hours +\n",
        "    Cumulative_Failure_Count + Median_Repair_Time + Cumulative_Maintenance_Cost\")"
      ],
      "metadata": {
        "id": "lAcnoWbu6hlH"
      },
      "execution_count": null,
      "outputs": []
    },
    {
      "cell_type": "code",
      "source": [
        "# Inicializar y ajustar el modelo de regresión lineal\n",
        "model3 <- lm(formula = formula2, data = df)\n",
        "# Resumen del modelo\n",
        "summary(model3)"
      ],
      "metadata": {
        "id": "B7rr4Ydn6qlM"
      },
      "execution_count": null,
      "outputs": []
    },
    {
      "cell_type": "markdown",
      "source": [
        "**ANALISIS DE SUPERVIVENCIA PARA MAQUINARIA DE RUEDO DE MANGA**"
      ],
      "metadata": {
        "id": "c9SqoJu2EVen"
      }
    },
    {
      "cell_type": "code",
      "source": [
        "# Cargar datos\n",
        "url <- \"https://raw.githubusercontent.com/cesargar1507/DatasetsUB/main/maquina2.csv\"\n",
        "data <- read_csv(url, show_col_types = FALSE)"
      ],
      "metadata": {
        "id": "SDTv6BmuEdc2"
      },
      "execution_count": null,
      "outputs": []
    },
    {
      "cell_type": "code",
      "source": [
        "head(data,5)"
      ],
      "metadata": {
        "id": "AB0Bld-OH9Ll"
      },
      "execution_count": null,
      "outputs": []
    },
    {
      "cell_type": "code",
      "source": [
        "# Filtrar el DataFrame por 'WO Type' igual a 'Corrective Maintenance'\n",
        "data <- data %>%\n",
        "  filter(`WO Type` == \"Corrective Maintenance\")\n",
        "data <- data%>%\n",
        "  filter(Operation == \"HEM SLEEVE\")"
      ],
      "metadata": {
        "id": "04VMpzGvKziY"
      },
      "execution_count": null,
      "outputs": []
    },
    {
      "cell_type": "code",
      "source": [
        "# Convertir la columna 'Date' al formato adecuado\n",
        "data$Date <- as.Date(data$Date, format=\"%m/%d/%Y\")  # Ajusta el formato según tus datos\n",
        "\n",
        "# Ordenar por equipo y fecha\n",
        "data <- data %>% arrange(Equipment, Date)\n",
        "\n",
        "# Calcular el tiempo entre fallas y si la falla ocurrió\n",
        "data <- data %>%\n",
        "  group_by(Equipment) %>%\n",
        "  mutate(Previous_Failure_Date = lag(Date),\n",
        "         Days_Between_Failures = as.numeric(Date - Previous_Failure_Date),\n",
        "         Event_Occurred = ifelse(is.na(Previous_Failure_Date), 0, 1)) %>%\n",
        "  ungroup()\n",
        "\n",
        "# Eliminar filas con NA en 'Days_Between_Failures'\n",
        "data <- data %>% filter(!is.na(Days_Between_Failures))"
      ],
      "metadata": {
        "id": "_fk-i1EzHkjv"
      },
      "execution_count": null,
      "outputs": []
    },
    {
      "cell_type": "code",
      "source": [
        "head(data,5)"
      ],
      "metadata": {
        "id": "g0iy7_YaJu6B"
      },
      "execution_count": null,
      "outputs": []
    },
    {
      "cell_type": "code",
      "source": [
        "# Convertir las variables categóricas a factores\n",
        "data$Equipment <- as.factor(data$Equipment)\n",
        "data$Operation <- as.factor(data$Operation)\n",
        "data$Model.Base <- as.factor(data$`Model Base`)\n",
        "data$Problem.Code <- as.factor(data$`Problem Code`)\n",
        "data$Failure.Code <- as.factor(data$`Failure Code`)\n",
        "data$Cause.Code <- as.factor(data$`Cause Code`)\n",
        "data$Action.Code <- as.factor(data$`Action Code`)"
      ],
      "metadata": {
        "id": "xSE8w7bzEkw3"
      },
      "execution_count": null,
      "outputs": []
    },
    {
      "cell_type": "code",
      "source": [
        "cox_model <- coxph(Surv(Days_Between_Failures, Event_Occurred) ~\n",
        "                  Model.Base + Problem.Code + Failure.Code + Cause.Code +\n",
        "                   Action.Code + downtimeGross + partsCost +repairHours, data = data)"
      ],
      "metadata": {
        "id": "Heop3EA5Ep7h"
      },
      "execution_count": null,
      "outputs": []
    },
    {
      "cell_type": "code",
      "source": [
        "# Resumen del modelo\n",
        "summary(cox_model)"
      ],
      "metadata": {
        "id": "QnZe_ZEclCH_"
      },
      "execution_count": null,
      "outputs": []
    },
    {
      "cell_type": "code",
      "source": [
        "# Curvas de supervivencia ajustadas\n",
        "fit <- survfit(cox_model)\n",
        "ggsurvplot(fit, data = data, risk.table = TRUE, pval = TRUE,\n",
        "           title = \"Curvas de Supervivencia Ajustadas\",\n",
        "           xlab = \"Tiempo (días)\", ylab = \"Probabilidad de Supervivencia\")\n"
      ],
      "metadata": {
        "id": "YP8yLPPBoznR"
      },
      "execution_count": null,
      "outputs": []
    },
    {
      "cell_type": "code",
      "source": [
        "# Imprimir el resumen del ajuste para ver la mediana de supervivencia\n",
        "summary_fit <- summary(fit)\n",
        "print(summary_fit)\n",
        "\n",
        "# Obtener la mediana de supervivencia\n",
        "median_survival <- summary_fit$time[which.min(abs(summary_fit$surv - 0.5))]\n",
        "print(paste(\"La mediana de supervivencia es:\", median_survival, \"días\"))"
      ],
      "metadata": {
        "id": "agIdYMrIXyvm"
      },
      "execution_count": null,
      "outputs": []
    },
    {
      "cell_type": "code",
      "source": [
        "library(ggplot2)\n",
        "library(survminer)\n",
        "\n",
        "# Graficar la curva de supervivencia con la mediana de supervivencia resaltada\n",
        "plot <- ggsurvplot(fit, data = data, risk.table = TRUE, pval = TRUE,\n",
        "                   title = \"Curvas de Supervivencia Ajustadas\",\n",
        "                   xlab = \"Tiempo (días)\", ylab = \"Probabilidad de Supervivencia\",\n",
        "                   conf.int = TRUE)\n",
        "\n",
        "# Añadir línea vertical y anotación para la mediana de supervivencia\n",
        "plot$plot <- plot$plot +\n",
        "  geom_vline(xintercept = median_survival, linetype = \"dashed\", color = \"red\") +\n",
        "  annotate(\"text\", x = median_survival, y = 0.5, label = paste(\"Mediana =\", median_survival, \"días\"), vjust = -1, color = \"red\")\n",
        "\n",
        "print(plot)"
      ],
      "metadata": {
        "id": "Ond62yHbYn0E"
      },
      "execution_count": null,
      "outputs": []
    }
  ]
}