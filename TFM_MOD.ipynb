{
  "nbformat": 4,
  "nbformat_minor": 0,
  "metadata": {
    "colab": {
      "provenance": [],
      "gpuType": "T4"
    },
    "kernelspec": {
      "name": "ir",
      "display_name": "R"
    },
    "language_info": {
      "name": "R"
    },
    "accelerator": "GPU"
  },
  "cells": [
    {
      "cell_type": "code",
      "execution_count": null,
      "metadata": {
        "id": "NXvNrUprHSkt",
        "outputId": "92df00b8-afd5-4d01-b1cd-48726ec22b07",
        "colab": {
          "base_uri": "https://localhost:8080/"
        }
      },
      "outputs": [
        {
          "output_type": "stream",
          "name": "stderr",
          "text": [
            "\n",
            "Attaching package: ‘dplyr’\n",
            "\n",
            "\n",
            "The following objects are masked from ‘package:stats’:\n",
            "\n",
            "    filter, lag\n",
            "\n",
            "\n",
            "The following objects are masked from ‘package:base’:\n",
            "\n",
            "    intersect, setdiff, setequal, union\n",
            "\n",
            "\n",
            "Installing package into ‘/usr/local/lib/R/site-library’\n",
            "(as ‘lib’ is unspecified)\n",
            "\n",
            "Loading required package: ggplot2\n",
            "\n",
            "Loading required package: lattice\n",
            "\n",
            "Installing package into ‘/usr/local/lib/R/site-library’\n",
            "(as ‘lib’ is unspecified)\n",
            "\n",
            "Loading required package: ggpubr\n",
            "\n",
            "Installing package into ‘/usr/local/lib/R/site-library’\n",
            "(as ‘lib’ is unspecified)\n",
            "\n"
          ]
        }
      ],
      "source": [
        "library(dplyr)\n",
        "library(readr)\n",
        "install.packages(\"caret\")\n",
        "library(caret)\n",
        "install.packages(\"survminer\")\n",
        "library(survminer)\n",
        "install.packages(\"survival\")\n",
        "library(survival)\n",
        "install.packages(\"ggplot2\")\n",
        "library(ggplot2)"
      ]
    },
    {
      "cell_type": "code",
      "source": [
        "\n",
        "# Instalar y cargar las bibliotecas necesarias\n",
        "install.packages(\"googledrive\")\n",
        "library(googledrive)"
      ],
      "metadata": {
        "id": "CDiBiGVgNH5p"
      },
      "execution_count": null,
      "outputs": []
    },
    {
      "cell_type": "code",
      "source": [
        "# Autenticarse con Google Drive\n",
        "drive_auth()"
      ],
      "metadata": {
        "id": "VlTTd6glNKsf"
      },
      "execution_count": null,
      "outputs": []
    },
    {
      "cell_type": "code",
      "source": [
        "# Especificar el ID del archivo y la ruta de destino\n",
        "file_id <- \"https://drive.google.com/file/d/1WDRKvrZrvSlQa8qNgUCoGwEyepYNm3dz/view?usp=drivesdk\"  # Reemplaza este ID con el ID de tu archivo\n",
        "drive_download(as_id(file_id), path = \"archivo.csv\", overwrite = TRUE)"
      ],
      "metadata": {
        "id": "zpilSoL7NNH3"
      },
      "execution_count": null,
      "outputs": []
    },
    {
      "cell_type": "code",
      "source": [
        "# Leer el archivo CSV desde la URL\n",
        "urlAge <- \"https://raw.githubusercontent.com/cesargar1507/DatasetsUB/main/machine_age.csv\"\n",
        "urlMechanic <- \"https://raw.githubusercontent.com/cesargar1507/DatasetsUB/main/mechanic_antiquity.csv\"\n",
        "df <- read_csv(\"archivo.csv\", show_col_types = FALSE)\n",
        "df_age <- read_csv(urlAge, show_col_types = FALSE)\n",
        "df_mechanic <- read_csv(urlMechanic, show_col_types = FALSE)"
      ],
      "metadata": {
        "id": "p7Ac95EBV6df"
      },
      "execution_count": null,
      "outputs": []
    },
    {
      "cell_type": "code",
      "source": [
        "summary(df)"
      ],
      "metadata": {
        "id": "z2sxgjL5cMt_"
      },
      "execution_count": null,
      "outputs": []
    },
    {
      "cell_type": "code",
      "source": [
        "head(df,5)"
      ],
      "metadata": {
        "id": "qzZX5SgOtE09"
      },
      "execution_count": null,
      "outputs": []
    },
    {
      "cell_type": "markdown",
      "source": [
        "**ANALISIS DE VARIABLES**"
      ],
      "metadata": {
        "id": "P4kKVEF1Rs6t"
      }
    },
    {
      "cell_type": "code",
      "source": [
        "dim(df)"
      ],
      "metadata": {
        "id": "ufkTTqfldMbg"
      },
      "execution_count": null,
      "outputs": []
    },
    {
      "cell_type": "code",
      "source": [
        "# Calcular la frecuencia de cada operación\n",
        "operation_freq <- df %>%\n",
        "  group_by(operation) %>%\n",
        "  summarise(count = n()) %>%\n",
        "  arrange(desc(count))\n",
        "\n",
        "# Calcular el porcentaje acumulado\n",
        "operation_freq <- operation_freq %>%\n",
        "  mutate(cum_count = cumsum(count),\n",
        "         cum_perc = cum_count / sum(count))\n",
        "\n",
        "operation_freq"
      ],
      "metadata": {
        "id": "_ceeX9_wEfXc"
      },
      "execution_count": null,
      "outputs": []
    },
    {
      "cell_type": "code",
      "source": [
        "# Crear el gráfico de barras\n",
        "ggplot(df, aes(y = problem_desc)) +\n",
        "  geom_bar(fill = 'skyblue', color = 'black') +\n",
        "  labs(title = 'Frecuencia de Variables Categóricas',\n",
        "       x = 'Frecuencia',\n",
        "       y = 'Categoria') +\n",
        "  theme_minimal()"
      ],
      "metadata": {
        "id": "gx5rHH5BVEBM"
      },
      "execution_count": null,
      "outputs": []
    },
    {
      "cell_type": "code",
      "source": [
        "# Crear el gráfico de barras\n",
        "ggplot(df, aes(y = failure_desc)) +\n",
        "  geom_bar(fill = 'skyblue', color = 'black') +\n",
        "  labs(title = 'Frecuencia de Variables Categóricas',\n",
        "       x = 'Frecuencia',\n",
        "       y = 'Categoria') +\n",
        "  theme_minimal()"
      ],
      "metadata": {
        "id": "WaI9bflOVnmZ"
      },
      "execution_count": null,
      "outputs": []
    },
    {
      "cell_type": "code",
      "source": [
        "# Calcular la frecuencia de causas de fallo\n",
        "cause_freq <- df %>%\n",
        "  group_by(cause_desc) %>%\n",
        "  summarise(count = n()) %>%\n",
        "  arrange(desc(count))\n",
        "\n",
        "# Calcular el porcentaje acumulado\n",
        "cause_freq <- cause_freq %>%\n",
        "  mutate(cum_count = cumsum(count),\n",
        "         cum_perc = cum_count / sum(count))\n",
        "cause_freq"
      ],
      "metadata": {
        "id": "NGaNNZ6KVp5r"
      },
      "execution_count": null,
      "outputs": []
    },
    {
      "cell_type": "code",
      "source": [
        "# Calcular la frecuencia de acciones correctivas\n",
        "action_freq <- df %>%\n",
        "  group_by(action_desc) %>%\n",
        "  summarise(count = n()) %>%\n",
        "  arrange(desc(count))\n",
        "\n",
        "# Calcular el porcentaje acumulado\n",
        "action_freq <- action_freq %>%\n",
        "  mutate(cum_count = cumsum(count),\n",
        "         cum_perc = cum_count / sum(count))\n",
        "action_freq"
      ],
      "metadata": {
        "id": "GAwaYZaSWNmD"
      },
      "execution_count": null,
      "outputs": []
    },
    {
      "cell_type": "code",
      "source": [
        "# Calcular la frecuencia de acciones correctivas\n",
        "mechanic_freq <- df %>%\n",
        "  group_by(mechanic) %>%\n",
        "  summarise(count = n()) %>%\n",
        "  arrange(desc(count))\n",
        "\n",
        "# Calcular el porcentaje acumulado\n",
        "mechanic_freq <- mechanic_freq %>%\n",
        "  mutate(cum_count = cumsum(count),\n",
        "         cum_perc = cum_count / sum(count))\n",
        "mechanic_freq"
      ],
      "metadata": {
        "id": "X6SGcfGNa4CA"
      },
      "execution_count": null,
      "outputs": []
    },
    {
      "cell_type": "code",
      "source": [
        "# Crear el boxplot de repair_hours\n",
        "ggplot(df, aes(y = repair_hours)) +\n",
        "  geom_boxplot(fill = 'skyblue', color = 'black') +\n",
        "  labs(title = 'Boxplot de repair hours',\n",
        "       y = 'Costo de partes') +\n",
        "  theme_minimal()"
      ],
      "metadata": {
        "id": "9KmrANMLYUpY"
      },
      "execution_count": null,
      "outputs": []
    },
    {
      "cell_type": "code",
      "source": [
        "# Histograma de 'downtimeGross'\n",
        "hist_downtimeGross <- ggplot(df, aes(x = downtime_gross)) +\n",
        "  geom_histogram(binwidth = 0.1, fill = \"green\", color = \"black\", alpha = 0.7) +\n",
        "  labs(title = \"Histograma de Downtime Bruto\",\n",
        "       x = \"Downtime Bruto (horas)\",\n",
        "       y = \"Frecuencia\") +\n",
        "  theme_minimal()\n",
        "\n",
        "# Mostrar histogramas\n",
        "print(hist_downtimeGross)"
      ],
      "metadata": {
        "id": "pX3O1eGXcMZL"
      },
      "execution_count": null,
      "outputs": []
    },
    {
      "cell_type": "markdown",
      "source": [
        "**LIMPIEZA DE DATOS**"
      ],
      "metadata": {
        "id": "nU5ZKD4XRfX7"
      }
    },
    {
      "cell_type": "code",
      "source": [
        "sapply(df, function(x) sum(is.na(x)))"
      ],
      "metadata": {
        "id": "ttjLXcMWRvy5"
      },
      "execution_count": null,
      "outputs": []
    },
    {
      "cell_type": "code",
      "source": [
        "# Remover el símbolo de dólar y las comas, y convertir a float\n",
        "df$parts_cost <- as.numeric(gsub(\"[\\\\$,()]\", \"\", df$parts_cost))"
      ],
      "metadata": {
        "id": "IfrIeddmGwIo"
      },
      "execution_count": null,
      "outputs": []
    },
    {
      "cell_type": "code",
      "source": [
        "# Crear el boxplot de parts_cost\n",
        "ggplot(df, aes(y = parts_cost)) +\n",
        "  geom_boxplot(fill = 'skyblue', color = 'black') +\n",
        "  labs(title = 'Boxplot de parts cost',\n",
        "       y = 'Costo de partes') +\n",
        "  theme_minimal()"
      ],
      "metadata": {
        "id": "SIPMWg5OWpwo"
      },
      "execution_count": null,
      "outputs": []
    },
    {
      "cell_type": "code",
      "source": [
        "# Convertir la columna 'Date' al formato adecuado\n",
        "df$date <- as.Date(df$date, format=\"%m/%d/%Y\")  # Ajusta el formato según tus datos\n",
        "# Ordenar el DataFrame por fecha\n",
        "df <- df %>%\n",
        "  arrange(date)"
      ],
      "metadata": {
        "id": "ss5BYMi8Vtvl"
      },
      "execution_count": null,
      "outputs": []
    },
    {
      "cell_type": "code",
      "source": [
        "mean(df$downtime_gross < 0)"
      ],
      "metadata": {
        "id": "bqrYJi1Ksvn-"
      },
      "execution_count": null,
      "outputs": []
    },
    {
      "cell_type": "code",
      "source": [
        "# Filtrar registros donde downtimeGross no sea negativo\n",
        "df_filtered <- df %>%\n",
        "  filter(downtime_gross >= 0)"
      ],
      "metadata": {
        "id": "oOqbbJuhkqTH"
      },
      "execution_count": null,
      "outputs": []
    },
    {
      "cell_type": "code",
      "source": [
        "mean(df$repair_hours < 0)"
      ],
      "metadata": {
        "id": "gofP8VjtS_l7"
      },
      "execution_count": null,
      "outputs": []
    },
    {
      "cell_type": "code",
      "source": [
        "# Calcular valor absoluto de repair hours\n",
        "df$repair_hours <- abs(df$repair_hours)"
      ],
      "metadata": {
        "id": "bkOS07YRY3TX"
      },
      "execution_count": null,
      "outputs": []
    },
    {
      "cell_type": "code",
      "source": [
        "#Eliminar columnas que no seran utilizadas\n",
        "df <- select(df, -problem_code, -failure_code, -cause_code, -action_code, -pit_coverage, -real_downtime, -waiting_hours)"
      ],
      "metadata": {
        "id": "FZkbiV-4SiWB"
      },
      "execution_count": null,
      "outputs": []
    },
    {
      "cell_type": "code",
      "source": [
        "# Filtrar el DataFrame por 'WO Type' igual a 'Corrective Maintenance'\n",
        "df <- df %>%\n",
        "  filter(`wo_type` == \"Corrective Maintenance\")"
      ],
      "metadata": {
        "id": "LjrIm4bfXcHx"
      },
      "execution_count": null,
      "outputs": []
    },
    {
      "cell_type": "code",
      "source": [
        "# Calcular la diferencia en días entre fechas consecutivas\n",
        "df <- df %>%\n",
        "  group_by(equipment) %>%\n",
        "  mutate(Days_Between_Failures = difftime(date, lag(date), units = \"days\"))\n",
        "\n",
        "# Reemplazar los valores NA en Days_Between_Failures\n",
        "df$Days_Between_Failures[is.na(df$Days_Between_Failures)] <- as.numeric(difftime(df$date[is.na(df$Days_Between_Failures)], as.Date(\"2023-01-01\"), units = \"days\"))"
      ],
      "metadata": {
        "id": "82Hp91p7aia4"
      },
      "execution_count": null,
      "outputs": []
    },
    {
      "cell_type": "code",
      "source": [
        "# Convertir 'Days_Between_Failures' a numeric\n",
        "df$Days_Between_Failures <- as.numeric(df$Days_Between_Failures, units = \"days\")"
      ],
      "metadata": {
        "id": "lkjfo3ZWc3iI"
      },
      "execution_count": null,
      "outputs": []
    },
    {
      "cell_type": "code",
      "source": [
        "#Cambio de nombre de mecánico cuyo nombre está escrito de dos formas\n",
        "df <- df %>%\n",
        "  mutate(mechanic = ifelse(mechanic == \"GALEAS PEREZ EDWIN ROGELIO\", \"Edwin Rogelio Galeas Perez\", mechanic))"
      ],
      "metadata": {
        "id": "x_irucm4xXiW"
      },
      "execution_count": null,
      "outputs": []
    },
    {
      "cell_type": "markdown",
      "source": [
        "**ANALISIS DE VARIABLE OBJETIVO**"
      ],
      "metadata": {
        "id": "uaTdHyHqabIq"
      }
    },
    {
      "cell_type": "code",
      "source": [
        "# Crear el boxplot de daysbetween_failures\n",
        "ggplot(df, aes(y = Days_Between_Failures)) +\n",
        "  geom_boxplot(fill = 'skyblue', color = 'black') +\n",
        "  labs(title = 'Boxplot de Days Between Failures',\n",
        "       y = 'Días entre Fallas') +\n",
        "  theme_minimal()"
      ],
      "metadata": {
        "id": "pn4a06xQXhJW"
      },
      "execution_count": null,
      "outputs": []
    },
    {
      "cell_type": "code",
      "source": [
        "# Histograma de 'Days_Between_Failures'\n",
        "hist_days_failures <- ggplot(df, aes(x = Days_Between_Failures)) +\n",
        "  geom_histogram(binwidth = 3, fill = \"green\", color = \"black\", alpha = 0.7) +\n",
        "  labs(title = \"Histograma de days between failures\",\n",
        "       x = \"Días\",\n",
        "       y = \"Frecuencia\") +\n",
        "  theme_minimal()\n",
        "\n",
        "# Mostrar histogramas\n",
        "print(hist_days_failures)"
      ],
      "metadata": {
        "id": "KH1JUTvocvtI"
      },
      "execution_count": null,
      "outputs": []
    },
    {
      "cell_type": "markdown",
      "source": [
        "**MODELO DE REGRESION LINEAL INICIAL PARA PREDECIR DOWNTIME**\n",
        "\n"
      ],
      "metadata": {
        "id": "YYWc2PhqQL_7"
      }
    },
    {
      "cell_type": "code",
      "source": [
        "df <- select(df, -wo_type)"
      ],
      "metadata": {
        "id": "zMojStQASpaL"
      },
      "execution_count": null,
      "outputs": []
    },
    {
      "cell_type": "code",
      "source": [
        "head(df,5)"
      ],
      "metadata": {
        "id": "xW557DNOma5T"
      },
      "execution_count": null,
      "outputs": []
    },
    {
      "cell_type": "code",
      "source": [
        "# Inicializar y ajustar el modelo de regresión lineal\n",
        "model1 <- lm(downtime_gross~. -equipment -downtime_gross -repair_hours -Days_Between_Failures -date -changed_pcs, data = df)\n",
        "# Resumen del modelo\n",
        "summary(model1)"
      ],
      "metadata": {
        "id": "bSJjlo6uIhBL"
      },
      "execution_count": null,
      "outputs": []
    },
    {
      "cell_type": "markdown",
      "source": [
        "**CALCULO DE VARIABLES PARA MEJORA DEL AJUSTE**"
      ],
      "metadata": {
        "id": "SgZxGsrHQUJl"
      }
    },
    {
      "cell_type": "code",
      "source": [
        "#Calcular los fallos acumulativos\n",
        "df <- df %>%\n",
        "  group_by(equipment) %>%\n",
        "  mutate(Cumulative_Failure_Count = row_number())"
      ],
      "metadata": {
        "id": "nTXK2CN1arF3"
      },
      "execution_count": null,
      "outputs": []
    },
    {
      "cell_type": "code",
      "source": [
        "# Calcular la mediana de tiempo de reparación\n",
        "df <- df %>%\n",
        "  group_by(equipment) %>%\n",
        "  mutate(Median_Repair_Time = median(repair_hours, na.rm = TRUE))"
      ],
      "metadata": {
        "id": "ay7pacmzayII"
      },
      "execution_count": null,
      "outputs": []
    },
    {
      "cell_type": "code",
      "source": [
        "# Calcular el costo acumulado de mantenimiento\n",
        "df <- df %>%\n",
        "  group_by(equipment) %>%\n",
        "  mutate(Cumulative_Maintenance_Cost = cumsum(parts_cost))"
      ],
      "metadata": {
        "id": "_eN_OS-pa8be"
      },
      "execution_count": null,
      "outputs": []
    },
    {
      "cell_type": "markdown",
      "source": [
        "**MODELO DE REGRESION LINEAL PARA PREDECIR DOWNTIME CON MAS VARIABLES**"
      ],
      "metadata": {
        "id": "wNC721DunCQG"
      }
    },
    {
      "cell_type": "code",
      "source": [
        "# Inicializar y ajustar el modelo de regresión lineal\n",
        "model2 <- lm(downtime_gross~. -equipment -downtime_gross -repair_hours -date -changed_pcs, data = df)\n",
        "# Resumen del modelo\n",
        "summary(model2)"
      ],
      "metadata": {
        "id": "qtPJcI7SifTV"
      },
      "execution_count": null,
      "outputs": []
    },
    {
      "cell_type": "markdown",
      "source": [
        "**MODELO AGREGANDO LA VARIABLE \"MACHINE AGE\"**"
      ],
      "metadata": {
        "id": "ErY-VFlBe-jz"
      }
    },
    {
      "cell_type": "code",
      "source": [
        "# Renombrar la columna 'Equipment' a 'equipment' en df_age\n",
        "df_age <- df_age %>% rename(equipment = Equipment)"
      ],
      "metadata": {
        "id": "5PLrak9YefvC"
      },
      "execution_count": null,
      "outputs": []
    },
    {
      "cell_type": "code",
      "source": [
        "df_merged <- df %>%\n",
        "  left_join(df_age %>% select(equipment, Age), by = \"equipment\")"
      ],
      "metadata": {
        "id": "rHg8j3dFNYjP"
      },
      "execution_count": null,
      "outputs": []
    },
    {
      "cell_type": "code",
      "source": [
        "head(df_merged,3)"
      ],
      "metadata": {
        "id": "IZsr48KyNdqq"
      },
      "execution_count": null,
      "outputs": []
    },
    {
      "cell_type": "code",
      "source": [
        "# Inicializar y ajustar el modelo de regresión lineal\n",
        "model3 <- lm(downtime_gross~. -equipment -downtime_gross -repair_hours -date -changed_pcs, data = df_merged)\n",
        "# Resumen del modelo\n",
        "summary(model3)"
      ],
      "metadata": {
        "id": "DS8CsC2lN-GX"
      },
      "execution_count": null,
      "outputs": []
    },
    {
      "cell_type": "markdown",
      "source": [
        "**MODELO AGREGANDO LA VARIABLE \"MECHANIC ANTIQUITY\"**"
      ],
      "metadata": {
        "id": "968bHyzjftyD"
      }
    },
    {
      "cell_type": "code",
      "source": [
        "df_merged2 <- df_merged %>%\n",
        "  left_join(df_mechanic %>% select(mechanic, antiquity), by = \"mechanic\")"
      ],
      "metadata": {
        "id": "2laPktQUf02l"
      },
      "execution_count": null,
      "outputs": []
    },
    {
      "cell_type": "code",
      "source": [
        "# Inicializar y ajustar el modelo de regresión lineal\n",
        "model4 <- lm(downtime_gross~. -equipment -downtime_gross -repair_hours -date -changed_pcs, data = df_merged2)\n",
        "# Resumen del modelo\n",
        "summary(model4)"
      ],
      "metadata": {
        "id": "XfsJj_wGgai2"
      },
      "execution_count": null,
      "outputs": []
    },
    {
      "cell_type": "markdown",
      "source": [
        "**AGREGANDO LA VARIABLE \"CHANGED_PCS\"**"
      ],
      "metadata": {
        "id": "XnWazNAqyWIL"
      }
    },
    {
      "cell_type": "code",
      "source": [
        "# Inicializar y ajustar el modelo de regresión lineal\n",
        "model5 <- lm(downtime_gross~. -equipment -downtime_gross -repair_hours -date, data = df_merged2)\n",
        "# Resumen del modelo\n",
        "summary(model5)"
      ],
      "metadata": {
        "id": "vIodXx7Uycls"
      },
      "execution_count": null,
      "outputs": []
    },
    {
      "cell_type": "markdown",
      "source": [
        "**IMPLEMENTACION DE BACKWARD**"
      ],
      "metadata": {
        "id": "5xptOdwWQmL8"
      }
    },
    {
      "cell_type": "code",
      "source": [
        "sapply(df_merged2, function(x) sum(is.na(x)))"
      ],
      "metadata": {
        "id": "1TRzX0pOixHq",
        "colab": {
          "base_uri": "https://localhost:8080/",
          "height": 52
        },
        "outputId": "351979f4-6dfb-4c0e-f3ba-d1c1b58718f0"
      },
      "execution_count": 47,
      "outputs": [
        {
          "output_type": "display_data",
          "data": {
            "text/html": [
              "<style>\n",
              ".dl-inline {width: auto; margin:0; padding: 0}\n",
              ".dl-inline>dt, .dl-inline>dd {float: none; width: auto; display: inline-block}\n",
              ".dl-inline>dt::after {content: \":\\0020\"; padding-right: .5ex}\n",
              ".dl-inline>dt:not(:first-of-type) {padding-left: .5ex}\n",
              "</style><dl class=dl-inline><dt>equipment</dt><dd>0</dd><dt>operation</dt><dd>0</dd><dt>base_model</dt><dd>0</dd><dt>problem_desc</dt><dd>0</dd><dt>failure_desc</dt><dd>0</dd><dt>cause_desc</dt><dd>0</dd><dt>action_desc</dt><dd>0</dd><dt>mechanic</dt><dd>0</dd><dt>date</dt><dd>0</dd><dt>downtime_gross</dt><dd>0</dd><dt>parts_cost</dt><dd>0</dd><dt>repair_hours</dt><dd>0</dd><dt>changed_pcs</dt><dd>0</dd><dt>Days_Between_Failures</dt><dd>0</dd><dt>Cumulative_Failure_Count</dt><dd>0</dd><dt>Median_Repair_Time</dt><dd>0</dd><dt>Cumulative_Maintenance_Cost</dt><dd>0</dd><dt>Age</dt><dd>0</dd><dt>antiquity</dt><dd>0</dd></dl>\n"
            ],
            "text/markdown": "equipment\n:   0operation\n:   0base_model\n:   0problem_desc\n:   0failure_desc\n:   0cause_desc\n:   0action_desc\n:   0mechanic\n:   0date\n:   0downtime_gross\n:   0parts_cost\n:   0repair_hours\n:   0changed_pcs\n:   0Days_Between_Failures\n:   0Cumulative_Failure_Count\n:   0Median_Repair_Time\n:   0Cumulative_Maintenance_Cost\n:   0Age\n:   0antiquity\n:   0\n\n",
            "text/latex": "\\begin{description*}\n\\item[equipment] 0\n\\item[operation] 0\n\\item[base\\textbackslash{}\\_model] 0\n\\item[problem\\textbackslash{}\\_desc] 0\n\\item[failure\\textbackslash{}\\_desc] 0\n\\item[cause\\textbackslash{}\\_desc] 0\n\\item[action\\textbackslash{}\\_desc] 0\n\\item[mechanic] 0\n\\item[date] 0\n\\item[downtime\\textbackslash{}\\_gross] 0\n\\item[parts\\textbackslash{}\\_cost] 0\n\\item[repair\\textbackslash{}\\_hours] 0\n\\item[changed\\textbackslash{}\\_pcs] 0\n\\item[Days\\textbackslash{}\\_Between\\textbackslash{}\\_Failures] 0\n\\item[Cumulative\\textbackslash{}\\_Failure\\textbackslash{}\\_Count] 0\n\\item[Median\\textbackslash{}\\_Repair\\textbackslash{}\\_Time] 0\n\\item[Cumulative\\textbackslash{}\\_Maintenance\\textbackslash{}\\_Cost] 0\n\\item[Age] 0\n\\item[antiquity] 0\n\\end{description*}\n",
            "text/plain": [
              "                  equipment                   operation \n",
              "                          0                           0 \n",
              "                 base_model                problem_desc \n",
              "                          0                           0 \n",
              "               failure_desc                  cause_desc \n",
              "                          0                           0 \n",
              "                action_desc                    mechanic \n",
              "                          0                           0 \n",
              "                       date              downtime_gross \n",
              "                          0                           0 \n",
              "                 parts_cost                repair_hours \n",
              "                          0                           0 \n",
              "                changed_pcs       Days_Between_Failures \n",
              "                          0                           0 \n",
              "   Cumulative_Failure_Count          Median_Repair_Time \n",
              "                          0                           0 \n",
              "Cumulative_Maintenance_Cost                         Age \n",
              "                          0                           0 \n",
              "                  antiquity \n",
              "                          0 "
            ]
          },
          "metadata": {}
        }
      ]
    },
    {
      "cell_type": "code",
      "source": [
        "# Realizar backward elimination\n",
        "model_final <- step(model5, direction = \"backward\")\n",
        "model_final$anova"
      ],
      "metadata": {
        "id": "ZbC7KyFYuvs8"
      },
      "execution_count": null,
      "outputs": []
    },
    {
      "cell_type": "code",
      "source": [
        "formula = as.formula(\"Days_Between_Failures ~ operation + base_model + mechanic + downtime_gross +\n",
        "    parts_cost + Cumulative_Failure_Count + Median_Repair_Time +\n",
        "    Cumulative_Maintenance_Cost + Age\")"
      ],
      "metadata": {
        "id": "lAcnoWbu6hlH"
      },
      "execution_count": null,
      "outputs": []
    },
    {
      "cell_type": "code",
      "source": [
        "# Inicializar y ajustar el modelo de regresión lineal\n",
        "model6 <- lm(formula = formula, data = df_merged3)\n",
        "# Resumen del modelo\n",
        "summary(model6)"
      ],
      "metadata": {
        "id": "B7rr4Ydn6qlM"
      },
      "execution_count": null,
      "outputs": []
    },
    {
      "cell_type": "markdown",
      "source": [
        "**ANALISIS DE SUPERVIVENCIA PARA MAQUINARIA DE RUEDO DE MANGA**"
      ],
      "metadata": {
        "id": "c9SqoJu2EVen"
      }
    },
    {
      "cell_type": "code",
      "source": [
        "# Cargar datos\n",
        "url <- \"https://raw.githubusercontent.com/cesargar1507/DatasetsUB/main/maquina2.csv\"\n",
        "data <- read_csv(url, show_col_types = FALSE)"
      ],
      "metadata": {
        "id": "SDTv6BmuEdc2"
      },
      "execution_count": null,
      "outputs": []
    },
    {
      "cell_type": "code",
      "source": [
        "head(data,5)"
      ],
      "metadata": {
        "id": "AB0Bld-OH9Ll"
      },
      "execution_count": null,
      "outputs": []
    },
    {
      "cell_type": "code",
      "source": [
        "# Filtrar el DataFrame por 'WO Type' igual a 'Corrective Maintenance'\n",
        "data <- data %>%\n",
        "  filter(`WO Type` == \"Corrective Maintenance\")\n",
        "data <- data%>%\n",
        "  filter(Operation == \"HEM SLEEVE\")"
      ],
      "metadata": {
        "id": "04VMpzGvKziY"
      },
      "execution_count": null,
      "outputs": []
    },
    {
      "cell_type": "code",
      "source": [
        "# Convertir la columna 'Date' al formato adecuado\n",
        "data$Date <- as.Date(data$Date, format=\"%m/%d/%Y\")  # Ajusta el formato según tus datos\n",
        "\n",
        "# Ordenar por equipo y fecha\n",
        "data <- data %>% arrange(Equipment, Date)\n",
        "\n",
        "# Calcular el tiempo entre fallas y si la falla ocurrió\n",
        "data <- data %>%\n",
        "  group_by(Equipment) %>%\n",
        "  mutate(Previous_Failure_Date = lag(Date),\n",
        "         Days_Between_Failures = as.numeric(Date - Previous_Failure_Date),\n",
        "         Event_Occurred = ifelse(is.na(Previous_Failure_Date), 0, 1)) %>%\n",
        "  ungroup()\n",
        "\n",
        "# Eliminar filas con NA en 'Days_Between_Failures'\n",
        "data <- data %>% filter(!is.na(Days_Between_Failures))"
      ],
      "metadata": {
        "id": "_fk-i1EzHkjv"
      },
      "execution_count": null,
      "outputs": []
    },
    {
      "cell_type": "code",
      "source": [
        "head(data,5)"
      ],
      "metadata": {
        "id": "g0iy7_YaJu6B"
      },
      "execution_count": null,
      "outputs": []
    },
    {
      "cell_type": "code",
      "source": [
        "# Convertir las variables categóricas a factores\n",
        "data$Equipment <- as.factor(data$Equipment)\n",
        "data$Operation <- as.factor(data$Operation)\n",
        "data$Model.Base <- as.factor(data$`Model Base`)\n",
        "data$Problem.Code <- as.factor(data$`Problem Code`)\n",
        "data$Failure.Code <- as.factor(data$`Failure Code`)\n",
        "data$Cause.Code <- as.factor(data$`Cause Code`)\n",
        "data$Action.Code <- as.factor(data$`Action Code`)"
      ],
      "metadata": {
        "id": "xSE8w7bzEkw3"
      },
      "execution_count": null,
      "outputs": []
    },
    {
      "cell_type": "code",
      "source": [
        "cox_model <- coxph(Surv(Days_Between_Failures, Event_Occurred) ~\n",
        "                  Model.Base + Problem.Code + Failure.Code + Cause.Code +\n",
        "                   Action.Code + downtimeGross + partsCost +repairHours, data = data)"
      ],
      "metadata": {
        "id": "Heop3EA5Ep7h"
      },
      "execution_count": null,
      "outputs": []
    },
    {
      "cell_type": "code",
      "source": [
        "# Resumen del modelo\n",
        "summary(cox_model)"
      ],
      "metadata": {
        "id": "QnZe_ZEclCH_"
      },
      "execution_count": null,
      "outputs": []
    },
    {
      "cell_type": "code",
      "source": [
        "# Curvas de supervivencia ajustadas\n",
        "fit <- survfit(cox_model)\n",
        "ggsurvplot(fit, data = data, risk.table = TRUE, pval = TRUE,\n",
        "           title = \"Curvas de Supervivencia Ajustadas\",\n",
        "           xlab = \"Tiempo (días)\", ylab = \"Probabilidad de Supervivencia\")\n"
      ],
      "metadata": {
        "id": "YP8yLPPBoznR"
      },
      "execution_count": null,
      "outputs": []
    },
    {
      "cell_type": "code",
      "source": [
        "# Imprimir el resumen del ajuste para ver la mediana de supervivencia\n",
        "summary_fit <- summary(fit)\n",
        "print(summary_fit)\n",
        "\n",
        "# Obtener la mediana de supervivencia\n",
        "median_survival <- summary_fit$time[which.min(abs(summary_fit$surv - 0.5))]\n",
        "print(paste(\"La mediana de supervivencia es:\", median_survival, \"días\"))"
      ],
      "metadata": {
        "id": "agIdYMrIXyvm"
      },
      "execution_count": null,
      "outputs": []
    },
    {
      "cell_type": "code",
      "source": [
        "library(ggplot2)\n",
        "library(survminer)\n",
        "\n",
        "# Graficar la curva de supervivencia con la mediana de supervivencia resaltada\n",
        "plot <- ggsurvplot(fit, data = data, risk.table = TRUE, pval = TRUE,\n",
        "                   title = \"Curvas de Supervivencia Ajustadas\",\n",
        "                   xlab = \"Tiempo (días)\", ylab = \"Probabilidad de Supervivencia\",\n",
        "                   conf.int = TRUE)\n",
        "\n",
        "# Añadir línea vertical y anotación para la mediana de supervivencia\n",
        "plot$plot <- plot$plot +\n",
        "  geom_vline(xintercept = median_survival, linetype = \"dashed\", color = \"red\") +\n",
        "  annotate(\"text\", x = median_survival, y = 0.5, label = paste(\"Mediana =\", median_survival, \"días\"), vjust = -1, color = \"red\")\n",
        "\n",
        "print(plot)"
      ],
      "metadata": {
        "id": "Ond62yHbYn0E"
      },
      "execution_count": null,
      "outputs": []
    }
  ]
}