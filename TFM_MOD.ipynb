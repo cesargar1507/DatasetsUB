{
  "nbformat": 4,
  "nbformat_minor": 0,
  "metadata": {
    "colab": {
      "provenance": []
    },
    "kernelspec": {
      "name": "ir",
      "display_name": "R"
    },
    "language_info": {
      "name": "R"
    }
  },
  "cells": [
    {
      "cell_type": "code",
      "execution_count": 1,
      "metadata": {
        "colab": {
          "base_uri": "https://localhost:8080/"
        },
        "id": "NXvNrUprHSkt",
        "outputId": "9e31d179-bafb-4f1e-c770-714d2fb81849"
      },
      "outputs": [
        {
          "output_type": "stream",
          "name": "stderr",
          "text": [
            "\n",
            "Attaching package: ‘dplyr’\n",
            "\n",
            "\n",
            "The following objects are masked from ‘package:stats’:\n",
            "\n",
            "    filter, lag\n",
            "\n",
            "\n",
            "The following objects are masked from ‘package:base’:\n",
            "\n",
            "    intersect, setdiff, setequal, union\n",
            "\n",
            "\n",
            "Installing package into ‘/usr/local/lib/R/site-library’\n",
            "(as ‘lib’ is unspecified)\n",
            "\n",
            "Loading required package: ggplot2\n",
            "\n",
            "Loading required package: lattice\n",
            "\n",
            "Installing package into ‘/usr/local/lib/R/site-library’\n",
            "(as ‘lib’ is unspecified)\n",
            "\n",
            "Loading required package: ggpubr\n",
            "\n",
            "Installing package into ‘/usr/local/lib/R/site-library’\n",
            "(as ‘lib’ is unspecified)\n",
            "\n",
            "\n",
            "Attaching package: ‘survival’\n",
            "\n",
            "\n",
            "The following object is masked from ‘package:survminer’:\n",
            "\n",
            "    myeloma\n",
            "\n",
            "\n",
            "The following object is masked from ‘package:caret’:\n",
            "\n",
            "    cluster\n",
            "\n",
            "\n",
            "Installing package into ‘/usr/local/lib/R/site-library’\n",
            "(as ‘lib’ is unspecified)\n",
            "\n"
          ]
        }
      ],
      "source": [
        "library(dplyr)\n",
        "library(readr)\n",
        "install.packages(\"caret\")\n",
        "library(caret)\n",
        "install.packages(\"survminer\")\n",
        "library(survminer)\n",
        "install.packages(\"survival\")\n",
        "library(survival)\n",
        "install.packages(\"ggplot2\")\n",
        "library(ggplot2)"
      ]
    },
    {
      "cell_type": "code",
      "source": [
        "# Leer el archivo CSV desde la URL\n",
        "url <- \"https://raw.githubusercontent.com/cesargar1507/DatasetsUB/main/machine_FOTL1.csv\"\n",
        "urlAge <- \"https://raw.githubusercontent.com/cesargar1507/DatasetsUB/main/machine_age.csv\"\n",
        "df <- read_csv(url, show_col_types = FALSE)\n",
        "df_age <- read_csv(urlAge, show_col_types = FALSE)"
      ],
      "metadata": {
        "id": "p7Ac95EBV6df"
      },
      "execution_count": 113,
      "outputs": []
    },
    {
      "cell_type": "code",
      "source": [
        "summary(df)"
      ],
      "metadata": {
        "id": "z2sxgjL5cMt_",
        "colab": {
          "base_uri": "https://localhost:8080/",
          "height": 711
        },
        "outputId": "8c18540d-0729-46f9-9a30-d514a168c87c"
      },
      "execution_count": 114,
      "outputs": [
        {
          "output_type": "display_data",
          "data": {
            "text/plain": [
              "   equipment        operation           wo_type           base_model       \n",
              " Min.   : 100312   Length:59368       Length:59368       Length:59368      \n",
              " 1st Qu.:1027127   Class :character   Class :character   Class :character  \n",
              " Median :1087502   Mode  :character   Mode  :character   Mode  :character  \n",
              " Mean   :1017287                                                           \n",
              " 3rd Qu.:1150612                                                           \n",
              " Max.   :1169630                                                           \n",
              "                                                                           \n",
              " problem_code       problem_desc       failure_code       failure_desc      \n",
              " Length:59368       Length:59368       Length:59368       Length:59368      \n",
              " Class :character   Class :character   Class :character   Class :character  \n",
              " Mode  :character   Mode  :character   Mode  :character   Mode  :character  \n",
              "                                                                            \n",
              "                                                                            \n",
              "                                                                            \n",
              "                                                                            \n",
              "  cause_code         cause_desc        action_code        action_desc       \n",
              " Length:59368       Length:59368       Length:59368       Length:59368      \n",
              " Class :character   Class :character   Class :character   Class :character  \n",
              " Mode  :character   Mode  :character   Mode  :character   Mode  :character  \n",
              "                                                                            \n",
              "                                                                            \n",
              "                                                                            \n",
              "                                                                            \n",
              "   mechanic             date           downtime_gross      pit_coverage   \n",
              " Length:59368       Length:59368       Min.   : 0.03333   Min.   : 0.000  \n",
              " Class :character   Class :character   1st Qu.: 0.33333   1st Qu.: 0.000  \n",
              " Mode  :character   Mode  :character   Median : 0.58333   Median : 0.420  \n",
              "                                       Mean   : 0.88696   Mean   : 0.678  \n",
              "                                       3rd Qu.: 1.00000   3rd Qu.: 0.830  \n",
              "                                       Max.   :10.75000   Max.   :10.000  \n",
              "                                                          NA's   :17020   \n",
              " real_downtime     parts_cost         repair_hours    waiting_hours    \n",
              " Min.   :-8.917   Length:59368       Min.   :0.1667   Min.   :-0.5000  \n",
              " 1st Qu.: 0.080   Class :character   1st Qu.:0.3333   1st Qu.: 0.0000  \n",
              " Median : 0.250   Mode  :character   Median :0.5000   Median : 0.0000  \n",
              " Mean   : 0.403                      Mean   :0.4947   Mean   : 0.3923  \n",
              " 3rd Qu.: 0.500                      3rd Qu.:0.6667   3rd Qu.: 0.2500  \n",
              " Max.   :10.750                      Max.   :1.0000   Max.   :10.0000  \n",
              "                                                                       "
            ]
          },
          "metadata": {}
        }
      ]
    },
    {
      "cell_type": "code",
      "source": [
        "head(df,5)"
      ],
      "metadata": {
        "id": "qzZX5SgOtE09",
        "colab": {
          "base_uri": "https://localhost:8080/"
        },
        "outputId": "77ecc597-75d4-41f4-cdf3-016deb380c36"
      },
      "execution_count": null,
      "outputs": [
        {
          "output_type": "stream",
          "name": "stderr",
          "text": [
            "Warning message in FUN(X[[i]], ...):\n",
            "“input string 10 is invalid in this locale”\n",
            "Warning message in FUN(X[[i]], ...):\n",
            "“input string 10 is invalid in this locale”\n",
            "Warning message in FUN(X[[i]], ...):\n",
            "“input string 10 is invalid in this locale”\n",
            "ERROR while rich displaying an object: Error in gsub(chr, html_specials[[chr]], text, fixed = TRUE): input string 10 is invalid in this locale\n",
            "\n",
            "Traceback:\n",
            "1. tryCatch(withCallingHandlers({\n",
            " .     if (!mime %in% names(repr::mime2repr)) \n",
            " .         stop(\"No repr_* for mimetype \", mime, \" in repr::mime2repr\")\n",
            " .     rpr <- repr::mime2repr[[mime]](obj)\n",
            " .     if (is.null(rpr)) \n",
            " .         return(NULL)\n",
            " .     prepare_content(is.raw(rpr), rpr)\n",
            " . }, error = error_handler), error = outer_handler)\n",
            "2. tryCatchList(expr, classes, parentenv, handlers)\n",
            "3. tryCatchOne(expr, names, parentenv, handlers[[1L]])\n",
            "4. doTryCatch(return(expr), name, parentenv, handler)\n",
            "5. withCallingHandlers({\n",
            " .     if (!mime %in% names(repr::mime2repr)) \n",
            " .         stop(\"No repr_* for mimetype \", mime, \" in repr::mime2repr\")\n",
            " .     rpr <- repr::mime2repr[[mime]](obj)\n",
            " .     if (is.null(rpr)) \n",
            " .         return(NULL)\n",
            " .     prepare_content(is.raw(rpr), rpr)\n",
            " . }, error = error_handler)\n",
            "6. repr::mime2repr[[mime]](obj)\n",
            "7. repr_markdown.data.frame(obj)\n",
            "8. repr_matrix_generic(obj, \"\\n%s\\n\\n%s%s\\n\", sprintf(\"|%%s\\n|%s|\\n\", \n",
            " .     underline), NULL, \" <!--/--> |\", \" %s |\", \"%s\", \"|%s\\n\", \n",
            " .     \" %s |\", \" %s |\", escape_fun = markdown_escape, rows = rows, \n",
            " .     cols = cols, ...)\n",
            "9. lapply(seq_len(nrow(x)), function(r) {\n",
            " .     row <- escape_fun(slice_row(x, r))\n",
            " .     cells <- sprintf(cell, row)\n",
            " .     if (has_rownames) {\n",
            " .         row_head <- sprintf(row_head, escape_fun(rownames(x)[[r]]))\n",
            " .         cells <- c(row_head, cells)\n",
            " .     }\n",
            " .     sprintf(row_wrap, paste(cells, collapse = \"\"))\n",
            " . })\n",
            "10. FUN(X[[i]], ...)\n",
            "11. escape_fun(slice_row(x, r))\n",
            "12. html_escape(values, do_spaces = FALSE)\n",
            "13. gsub(chr, html_specials[[chr]], text, fixed = TRUE)\n",
            "Warning message in FUN(X[[i]], ...):\n",
            "“input string 10 is invalid in this locale”\n",
            "Warning message in FUN(X[[i]], ...):\n",
            "“input string 10 is invalid in this locale”\n",
            "Warning message in FUN(X[[i]], ...):\n",
            "“input string 10 is invalid in this locale”\n",
            "Warning message in FUN(X[[i]], ...):\n",
            "“input string 10 is invalid in this locale”\n",
            "Warning message in FUN(X[[i]], ...):\n",
            "“input string 10 is invalid in this locale”\n",
            "Warning message in FUN(X[[i]], ...):\n",
            "“input string 10 is invalid in this locale”\n",
            "Warning message in FUN(X[[i]], ...):\n",
            "“input string 10 is invalid in this locale”\n",
            "Warning message in FUN(X[[i]], ...):\n",
            "“input string 10 is invalid in this locale”\n",
            "Warning message in FUN(X[[i]], ...):\n",
            "“input string 10 is invalid in this locale”\n",
            "Warning message in FUN(X[[i]], ...):\n",
            "“input string 10 is invalid in this locale”\n",
            "Warning message in FUN(X[[i]], ...):\n",
            "“input string 10 is invalid in this locale”\n",
            "Warning message in FUN(X[[i]], ...):\n",
            "“input string 10 is invalid in this locale”\n",
            "Warning message in FUN(X[[i]], ...):\n",
            "“input string 10 is invalid in this locale”\n",
            "ERROR while rich displaying an object: Error in gsub(chr, latex_specials[[chr]], text, fixed = TRUE): input string 10 is invalid in this locale\n",
            "\n",
            "Traceback:\n",
            "1. tryCatch(withCallingHandlers({\n",
            " .     if (!mime %in% names(repr::mime2repr)) \n",
            " .         stop(\"No repr_* for mimetype \", mime, \" in repr::mime2repr\")\n",
            " .     rpr <- repr::mime2repr[[mime]](obj)\n",
            " .     if (is.null(rpr)) \n",
            " .         return(NULL)\n",
            " .     prepare_content(is.raw(rpr), rpr)\n",
            " . }, error = error_handler), error = outer_handler)\n",
            "2. tryCatchList(expr, classes, parentenv, handlers)\n",
            "3. tryCatchOne(expr, names, parentenv, handlers[[1L]])\n",
            "4. doTryCatch(return(expr), name, parentenv, handler)\n",
            "5. withCallingHandlers({\n",
            " .     if (!mime %in% names(repr::mime2repr)) \n",
            " .         stop(\"No repr_* for mimetype \", mime, \" in repr::mime2repr\")\n",
            " .     rpr <- repr::mime2repr[[mime]](obj)\n",
            " .     if (is.null(rpr)) \n",
            " .         return(NULL)\n",
            " .     prepare_content(is.raw(rpr), rpr)\n",
            " . }, error = error_handler)\n",
            "6. repr::mime2repr[[mime]](obj)\n",
            "7. repr_latex.data.frame(obj)\n",
            "8. repr_matrix_generic(obj, sprintf(\"%%s\\n\\\\begin{tabular}{%s}\\n%%s%%s\\\\end{tabular}\\n\", \n",
            " .     cols_spec), \"%s\\\\hline\\n\", \"%s\\\\\\\\\\n\", \"  &\", \" %s &\", \"%s\", \n",
            " .     \"\\t%s\\\\\\\\\\n\", \"%s &\", \" %s &\", escape_fun = latex_escape_vec, \n",
            " .     rows = rows, cols = cols, ...)\n",
            "9. lapply(seq_len(nrow(x)), function(r) {\n",
            " .     row <- escape_fun(slice_row(x, r))\n",
            " .     cells <- sprintf(cell, row)\n",
            " .     if (has_rownames) {\n",
            " .         row_head <- sprintf(row_head, escape_fun(rownames(x)[[r]]))\n",
            " .         cells <- c(row_head, cells)\n",
            " .     }\n",
            " .     sprintf(row_wrap, paste(cells, collapse = \"\"))\n",
            " . })\n",
            "10. FUN(X[[i]], ...)\n",
            "11. escape_fun(slice_row(x, r))\n",
            "12. .escape_vec(vec, \"latex\")\n",
            "13. escape_specials(vec)\n",
            "14. gsub(chr, latex_specials[[chr]], text, fixed = TRUE)\n",
            "Warning message in grepl(\"<html.*>\", data[[\"text/html\"]], ignore.case = TRUE):\n",
            "“unable to translate '<table class=\"dataframe\">\n",
            "<caption>A tibble: 5 × 20</caption>\n",
            "<thead>\n",
            "\t<tr><th scope=col>equipment</th><th scope=col>operation</th><th scope=col>wo_type</th><th scope=col>base_model</th><th scope=col>problem_code</th><th scope=col>problem_desc</th><th...' to a wide string”\n",
            "Warning message in grepl(\"<html.*>\", data[[\"text/html\"]], ignore.case = TRUE):\n",
            "“input string 1 is invalid”\n"
          ]
        }
      ]
    },
    {
      "cell_type": "markdown",
      "source": [
        "**ANALISIS DE VARIABLES**"
      ],
      "metadata": {
        "id": "P4kKVEF1Rs6t"
      }
    },
    {
      "cell_type": "code",
      "source": [
        "dim(df)"
      ],
      "metadata": {
        "id": "ufkTTqfldMbg"
      },
      "execution_count": null,
      "outputs": []
    },
    {
      "cell_type": "code",
      "source": [
        "# Calcular la frecuencia de cada operación\n",
        "operation_freq <- df %>%\n",
        "  group_by(operation) %>%\n",
        "  summarise(count = n()) %>%\n",
        "  arrange(desc(count))\n",
        "\n",
        "# Calcular el porcentaje acumulado\n",
        "operation_freq <- operation_freq %>%\n",
        "  mutate(cum_count = cumsum(count),\n",
        "         cum_perc = cum_count / sum(count))\n",
        "\n",
        "operation_freq"
      ],
      "metadata": {
        "id": "_ceeX9_wEfXc"
      },
      "execution_count": null,
      "outputs": []
    },
    {
      "cell_type": "code",
      "source": [
        "# Crear el gráfico de barras\n",
        "ggplot(df, aes(y = problem_desc)) +\n",
        "  geom_bar(fill = 'skyblue', color = 'black') +\n",
        "  labs(title = 'Frecuencia de Variables Categóricas',\n",
        "       x = 'Frecuencia',\n",
        "       y = 'Categoria') +\n",
        "  theme_minimal()"
      ],
      "metadata": {
        "id": "gx5rHH5BVEBM"
      },
      "execution_count": null,
      "outputs": []
    },
    {
      "cell_type": "code",
      "source": [
        "# Crear el gráfico de barras\n",
        "ggplot(df, aes(y = failure_desc)) +\n",
        "  geom_bar(fill = 'skyblue', color = 'black') +\n",
        "  labs(title = 'Frecuencia de Variables Categóricas',\n",
        "       x = 'Frecuencia',\n",
        "       y = 'Categoria') +\n",
        "  theme_minimal()"
      ],
      "metadata": {
        "id": "WaI9bflOVnmZ"
      },
      "execution_count": null,
      "outputs": []
    },
    {
      "cell_type": "code",
      "source": [
        "# Calcular la frecuencia de causas de fallo\n",
        "cause_freq <- df %>%\n",
        "  group_by(cause_desc) %>%\n",
        "  summarise(count = n()) %>%\n",
        "  arrange(desc(count))\n",
        "\n",
        "# Calcular el porcentaje acumulado\n",
        "cause_freq <- cause_freq %>%\n",
        "  mutate(cum_count = cumsum(count),\n",
        "         cum_perc = cum_count / sum(count))\n",
        "cause_freq"
      ],
      "metadata": {
        "id": "NGaNNZ6KVp5r"
      },
      "execution_count": null,
      "outputs": []
    },
    {
      "cell_type": "code",
      "source": [
        "# Calcular la frecuencia de acciones correctivas\n",
        "action_freq <- df %>%\n",
        "  group_by(action_desc) %>%\n",
        "  summarise(count = n()) %>%\n",
        "  arrange(desc(count))\n",
        "\n",
        "# Calcular el porcentaje acumulado\n",
        "action_freq <- action_freq %>%\n",
        "  mutate(cum_count = cumsum(count),\n",
        "         cum_perc = cum_count / sum(count))\n",
        "action_freq"
      ],
      "metadata": {
        "id": "GAwaYZaSWNmD"
      },
      "execution_count": null,
      "outputs": []
    },
    {
      "cell_type": "code",
      "source": [
        "# Calcular la frecuencia de acciones correctivas\n",
        "mechanic_freq <- df %>%\n",
        "  group_by(mechanic) %>%\n",
        "  summarise(count = n()) %>%\n",
        "  arrange(desc(count))\n",
        "\n",
        "# Calcular el porcentaje acumulado\n",
        "mechanic_freq <- mechanic_freq %>%\n",
        "  mutate(cum_count = cumsum(count),\n",
        "         cum_perc = cum_count / sum(count))\n",
        "mechanic_freq"
      ],
      "metadata": {
        "id": "X6SGcfGNa4CA"
      },
      "execution_count": null,
      "outputs": []
    },
    {
      "cell_type": "code",
      "source": [
        "# Crear el boxplot de repair_hours\n",
        "ggplot(df, aes(y = repair_hours)) +\n",
        "  geom_boxplot(fill = 'skyblue', color = 'black') +\n",
        "  labs(title = 'Boxplot de repair hours',\n",
        "       y = 'Costo de partes') +\n",
        "  theme_minimal()"
      ],
      "metadata": {
        "id": "9KmrANMLYUpY"
      },
      "execution_count": null,
      "outputs": []
    },
    {
      "cell_type": "code",
      "source": [
        "# Histograma de 'downtimeGross'\n",
        "hist_downtimeGross <- ggplot(df, aes(x = downtime_gross)) +\n",
        "  geom_histogram(binwidth = 0.1, fill = \"green\", color = \"black\", alpha = 0.7) +\n",
        "  labs(title = \"Histograma de Downtime Bruto\",\n",
        "       x = \"Downtime Bruto (horas)\",\n",
        "       y = \"Frecuencia\") +\n",
        "  theme_minimal()\n",
        "\n",
        "# Mostrar histogramas\n",
        "print(hist_downtimeGross)"
      ],
      "metadata": {
        "id": "pX3O1eGXcMZL"
      },
      "execution_count": null,
      "outputs": []
    },
    {
      "cell_type": "markdown",
      "source": [
        "**LIMPIEZA DE DATOS**"
      ],
      "metadata": {
        "id": "nU5ZKD4XRfX7"
      }
    },
    {
      "cell_type": "code",
      "source": [
        "sapply(df, function(x) sum(is.na(x)))"
      ],
      "metadata": {
        "id": "ttjLXcMWRvy5"
      },
      "execution_count": null,
      "outputs": []
    },
    {
      "cell_type": "code",
      "source": [
        "# Remover el símbolo de dólar y las comas, y convertir a float\n",
        "df$parts_cost <- as.numeric(gsub(\"[\\\\$,()]\", \"\", df$parts_cost))"
      ],
      "metadata": {
        "id": "IfrIeddmGwIo"
      },
      "execution_count": null,
      "outputs": []
    },
    {
      "cell_type": "code",
      "source": [
        "# Crear el boxplot de parts_cost\n",
        "ggplot(df, aes(y = parts_cost)) +\n",
        "  geom_boxplot(fill = 'skyblue', color = 'black') +\n",
        "  labs(title = 'Boxplot de parts cost',\n",
        "       y = 'Costo de partes') +\n",
        "  theme_minimal()"
      ],
      "metadata": {
        "id": "SIPMWg5OWpwo"
      },
      "execution_count": null,
      "outputs": []
    },
    {
      "cell_type": "code",
      "source": [
        "# Convertir la columna 'Date' al formato adecuado\n",
        "df$date <- as.Date(df$date, format=\"%m/%d/%Y\")  # Ajusta el formato según tus datos\n",
        "# Ordenar el DataFrame por fecha\n",
        "df <- df %>%\n",
        "  arrange(date)"
      ],
      "metadata": {
        "id": "ss5BYMi8Vtvl"
      },
      "execution_count": null,
      "outputs": []
    },
    {
      "cell_type": "code",
      "source": [
        "mean(df$downtime_gross < 0)"
      ],
      "metadata": {
        "id": "bqrYJi1Ksvn-"
      },
      "execution_count": null,
      "outputs": []
    },
    {
      "cell_type": "code",
      "source": [
        "# Filtrar registros donde downtimeGross no sea negativo\n",
        "df_filtered <- df %>%\n",
        "  filter(downtime_gross >= 0)"
      ],
      "metadata": {
        "id": "oOqbbJuhkqTH"
      },
      "execution_count": null,
      "outputs": []
    },
    {
      "cell_type": "code",
      "source": [
        "mean(df$repair_hours < 0)"
      ],
      "metadata": {
        "id": "gofP8VjtS_l7"
      },
      "execution_count": null,
      "outputs": []
    },
    {
      "cell_type": "code",
      "source": [
        "# Calcular valor absoluto de repair hours\n",
        "df$repair_hours <- abs(df$repair_hours)"
      ],
      "metadata": {
        "id": "bkOS07YRY3TX"
      },
      "execution_count": null,
      "outputs": []
    },
    {
      "cell_type": "code",
      "source": [
        "#Eliminar columnas que no seran utilizadas\n",
        "df <- select(df, -problem_code, -failure_code, -cause_code, -action_code, -pit_coverage, -real_downtime, -waiting_hours)"
      ],
      "metadata": {
        "id": "FZkbiV-4SiWB"
      },
      "execution_count": null,
      "outputs": []
    },
    {
      "cell_type": "code",
      "source": [
        "# Calcular la diferencia en días entre la fecha actual y la fecha del último mantenimiento preventivo registrado para cada equipo\n",
        "df <- df %>%\n",
        "  group_by(equipment) %>%\n",
        "  mutate(Time_Since_Last_Preventive_Maintenance = ifelse(`wo_type` == \"Preventative Maintenance\", difftime(max(date), date, units = \"days\"), 0))"
      ],
      "metadata": {
        "id": "1vi9i5wcV8uX"
      },
      "execution_count": null,
      "outputs": []
    },
    {
      "cell_type": "code",
      "source": [
        "# Filtrar el DataFrame por 'WO Type' igual a 'Corrective Maintenance'\n",
        "df <- df %>%\n",
        "  filter(`wo_type` == \"Corrective Maintenance\")"
      ],
      "metadata": {
        "id": "LjrIm4bfXcHx"
      },
      "execution_count": null,
      "outputs": []
    },
    {
      "cell_type": "code",
      "source": [
        "# Calcular la diferencia en días entre fechas consecutivas\n",
        "df <- df %>%\n",
        "  group_by(equipment) %>%\n",
        "  mutate(Days_Between_Failures = difftime(date, lag(date), units = \"days\"))\n",
        "\n",
        "# Reemplazar los valores NA en Days_Between_Failures\n",
        "df$Days_Between_Failures[is.na(df$Days_Between_Failures)] <- as.numeric(difftime(df$date[is.na(df$Days_Between_Failures)], as.Date(\"2023-01-01\"), units = \"days\"))"
      ],
      "metadata": {
        "id": "82Hp91p7aia4"
      },
      "execution_count": null,
      "outputs": []
    },
    {
      "cell_type": "code",
      "source": [
        "# Convertir 'Days_Between_Failures' a numeric\n",
        "df$Days_Between_Failures <- as.numeric(df$Days_Between_Failures, units = \"days\")"
      ],
      "metadata": {
        "id": "lkjfo3ZWc3iI"
      },
      "execution_count": null,
      "outputs": []
    },
    {
      "cell_type": "markdown",
      "source": [
        "**ANALISIS DE VARIABLE OBJETIVO**"
      ],
      "metadata": {
        "id": "uaTdHyHqabIq"
      }
    },
    {
      "cell_type": "code",
      "source": [
        "# Crear el boxplot de daysbetween_failures\n",
        "ggplot(df, aes(y = Days_Between_Failures)) +\n",
        "  geom_boxplot(fill = 'skyblue', color = 'black') +\n",
        "  labs(title = 'Boxplot de Days Between Failures',\n",
        "       y = 'Días entre Fallas') +\n",
        "  theme_minimal()"
      ],
      "metadata": {
        "id": "pn4a06xQXhJW"
      },
      "execution_count": null,
      "outputs": []
    },
    {
      "cell_type": "code",
      "source": [
        "# Histograma de 'Days_Between_Failures'\n",
        "hist_days_failures <- ggplot(df, aes(x = Days_Between_Failures)) +\n",
        "  geom_histogram(binwidth = 3, fill = \"green\", color = \"black\", alpha = 0.7) +\n",
        "  labs(title = \"Histograma de days between failures\",\n",
        "       x = \"Días\",\n",
        "       y = \"Frecuencia\") +\n",
        "  theme_minimal()\n",
        "\n",
        "# Mostrar histogramas\n",
        "print(hist_days_failures)"
      ],
      "metadata": {
        "id": "KH1JUTvocvtI"
      },
      "execution_count": null,
      "outputs": []
    },
    {
      "cell_type": "markdown",
      "source": [
        "**MODELO DE REGRESION LINEAL INICIAL PARA PREDECIR DAYS BETWEEN FAILURES**\n",
        "\n"
      ],
      "metadata": {
        "id": "YYWc2PhqQL_7"
      }
    },
    {
      "cell_type": "code",
      "source": [
        "df <- select(df, -wo_type, -date)"
      ],
      "metadata": {
        "id": "zMojStQASpaL"
      },
      "execution_count": null,
      "outputs": []
    },
    {
      "cell_type": "code",
      "source": [
        "# Inicializar y ajustar el modelo de regresión lineal\n",
        "model1 <- lm(Days_Between_Failures~. -equipment -Time_Since_Last_Preventive_Maintenance, data = df)\n",
        "# Resumen del modelo\n",
        "summary(model1)"
      ],
      "metadata": {
        "id": "bSJjlo6uIhBL"
      },
      "execution_count": null,
      "outputs": []
    },
    {
      "cell_type": "markdown",
      "source": [
        "**CALCULO DE VARIABLES PARA MEJORA DEL AJUSTE**"
      ],
      "metadata": {
        "id": "SgZxGsrHQUJl"
      }
    },
    {
      "cell_type": "code",
      "source": [
        "#Calcular los fallos acumulativos\n",
        "df <- df %>%\n",
        "  group_by(equipment) %>%\n",
        "  mutate(Cumulative_Failure_Count = row_number())"
      ],
      "metadata": {
        "id": "nTXK2CN1arF3"
      },
      "execution_count": null,
      "outputs": []
    },
    {
      "cell_type": "code",
      "source": [
        "# Calcular la mediana de tiempo de reparación\n",
        "df <- df %>%\n",
        "  group_by(equipment) %>%\n",
        "  mutate(Median_Repair_Time = median(repair_hours, na.rm = TRUE))"
      ],
      "metadata": {
        "id": "ay7pacmzayII"
      },
      "execution_count": null,
      "outputs": []
    },
    {
      "cell_type": "code",
      "source": [
        "# Calcular el costo acumulado de mantenimiento\n",
        "df <- df %>%\n",
        "  group_by(equipment) %>%\n",
        "  mutate(Cumulative_Maintenance_Cost = cumsum(parts_cost))"
      ],
      "metadata": {
        "id": "_eN_OS-pa8be"
      },
      "execution_count": null,
      "outputs": []
    },
    {
      "cell_type": "markdown",
      "source": [
        "**MODELO DE REGRESION LINEAL PARA PREDECIR DAYS BETWEEN FAILURES CON MAS VARIABLES**"
      ],
      "metadata": {
        "id": "wNC721DunCQG"
      }
    },
    {
      "cell_type": "code",
      "source": [
        "# Inicializar y ajustar el modelo de regresión lineal\n",
        "model2 <- lm(Days_Between_Failures~. -equipment, data = df)\n",
        "# Resumen del modelo\n",
        "summary(model2)"
      ],
      "metadata": {
        "id": "qtPJcI7SifTV"
      },
      "execution_count": null,
      "outputs": []
    },
    {
      "cell_type": "code",
      "source": [
        "write.csv(df, \"machine data.csv\", row.names = FALSE)"
      ],
      "metadata": {
        "id": "u2bmhm7xQDMU"
      },
      "execution_count": null,
      "outputs": []
    },
    {
      "cell_type": "markdown",
      "source": [
        "**MODELO AGREGANDO LA VARIABLE \"MACHINE AGE\"**"
      ],
      "metadata": {
        "id": "ErY-VFlBe-jz"
      }
    },
    {
      "cell_type": "code",
      "source": [
        "df_merged <- merge(df, df_age, by.x = \"equipment\", by.y = \"Equipment\", all = TRUE)"
      ],
      "metadata": {
        "id": "rHg8j3dFNYjP"
      },
      "execution_count": null,
      "outputs": []
    },
    {
      "cell_type": "code",
      "source": [
        "head(df_merged,5)"
      ],
      "metadata": {
        "id": "IZsr48KyNdqq"
      },
      "execution_count": null,
      "outputs": []
    },
    {
      "cell_type": "code",
      "source": [
        "# Inicializar y ajustar el modelo de regresión lineal\n",
        "model3 <- lm(Days_Between_Failures~. -equipment, data = df_merged)\n",
        "# Resumen del modelo\n",
        "summary(model3)"
      ],
      "metadata": {
        "id": "DS8CsC2lN-GX"
      },
      "execution_count": null,
      "outputs": []
    },
    {
      "cell_type": "markdown",
      "source": [
        "**IMPLEMENTACION DE BACKWARD**"
      ],
      "metadata": {
        "id": "5xptOdwWQmL8"
      }
    },
    {
      "cell_type": "code",
      "source": [
        "# Realizar backward elimination\n",
        "model_final <- step(model3, direction = \"backward\")\n",
        "model_final$anova"
      ],
      "metadata": {
        "id": "ZbC7KyFYuvs8"
      },
      "execution_count": null,
      "outputs": []
    },
    {
      "cell_type": "code",
      "source": [
        "formula = as.formula(\"Days_Between_Failures ~ operation + base_model + problem_desc +\n",
        "    failure_desc + mechanic + downtime_gross + parts_cost + repair_hours +\n",
        "    Cumulative_Failure_Count + Median_Repair_Time + Cumulative_Maintenance_Cost\")"
      ],
      "metadata": {
        "id": "lAcnoWbu6hlH"
      },
      "execution_count": 43,
      "outputs": []
    },
    {
      "cell_type": "code",
      "source": [
        "# Inicializar y ajustar el modelo de regresión lineal\n",
        "model4 <- lm(formula = formula, data = df)\n",
        "# Resumen del modelo\n",
        "summary(model4)"
      ],
      "metadata": {
        "id": "B7rr4Ydn6qlM"
      },
      "execution_count": null,
      "outputs": []
    },
    {
      "cell_type": "markdown",
      "source": [
        "**ANALISIS DE SUPERVIVENCIA PARA MAQUINARIA DE RUEDO DE MANGA**"
      ],
      "metadata": {
        "id": "c9SqoJu2EVen"
      }
    },
    {
      "cell_type": "code",
      "source": [
        "# Cargar datos\n",
        "url <- \"https://raw.githubusercontent.com/cesargar1507/DatasetsUB/main/maquina2.csv\"\n",
        "data <- read_csv(url, show_col_types = FALSE)"
      ],
      "metadata": {
        "id": "SDTv6BmuEdc2"
      },
      "execution_count": null,
      "outputs": []
    },
    {
      "cell_type": "code",
      "source": [
        "head(data,5)"
      ],
      "metadata": {
        "id": "AB0Bld-OH9Ll"
      },
      "execution_count": null,
      "outputs": []
    },
    {
      "cell_type": "code",
      "source": [
        "# Filtrar el DataFrame por 'WO Type' igual a 'Corrective Maintenance'\n",
        "data <- data %>%\n",
        "  filter(`WO Type` == \"Corrective Maintenance\")\n",
        "data <- data%>%\n",
        "  filter(Operation == \"HEM SLEEVE\")"
      ],
      "metadata": {
        "id": "04VMpzGvKziY"
      },
      "execution_count": null,
      "outputs": []
    },
    {
      "cell_type": "code",
      "source": [
        "# Convertir la columna 'Date' al formato adecuado\n",
        "data$Date <- as.Date(data$Date, format=\"%m/%d/%Y\")  # Ajusta el formato según tus datos\n",
        "\n",
        "# Ordenar por equipo y fecha\n",
        "data <- data %>% arrange(Equipment, Date)\n",
        "\n",
        "# Calcular el tiempo entre fallas y si la falla ocurrió\n",
        "data <- data %>%\n",
        "  group_by(Equipment) %>%\n",
        "  mutate(Previous_Failure_Date = lag(Date),\n",
        "         Days_Between_Failures = as.numeric(Date - Previous_Failure_Date),\n",
        "         Event_Occurred = ifelse(is.na(Previous_Failure_Date), 0, 1)) %>%\n",
        "  ungroup()\n",
        "\n",
        "# Eliminar filas con NA en 'Days_Between_Failures'\n",
        "data <- data %>% filter(!is.na(Days_Between_Failures))"
      ],
      "metadata": {
        "id": "_fk-i1EzHkjv"
      },
      "execution_count": null,
      "outputs": []
    },
    {
      "cell_type": "code",
      "source": [
        "head(data,5)"
      ],
      "metadata": {
        "id": "g0iy7_YaJu6B"
      },
      "execution_count": null,
      "outputs": []
    },
    {
      "cell_type": "code",
      "source": [
        "# Convertir las variables categóricas a factores\n",
        "data$Equipment <- as.factor(data$Equipment)\n",
        "data$Operation <- as.factor(data$Operation)\n",
        "data$Model.Base <- as.factor(data$`Model Base`)\n",
        "data$Problem.Code <- as.factor(data$`Problem Code`)\n",
        "data$Failure.Code <- as.factor(data$`Failure Code`)\n",
        "data$Cause.Code <- as.factor(data$`Cause Code`)\n",
        "data$Action.Code <- as.factor(data$`Action Code`)"
      ],
      "metadata": {
        "id": "xSE8w7bzEkw3"
      },
      "execution_count": null,
      "outputs": []
    },
    {
      "cell_type": "code",
      "source": [
        "cox_model <- coxph(Surv(Days_Between_Failures, Event_Occurred) ~\n",
        "                  Model.Base + Problem.Code + Failure.Code + Cause.Code +\n",
        "                   Action.Code + downtimeGross + partsCost +repairHours, data = data)"
      ],
      "metadata": {
        "id": "Heop3EA5Ep7h"
      },
      "execution_count": null,
      "outputs": []
    },
    {
      "cell_type": "code",
      "source": [
        "# Resumen del modelo\n",
        "summary(cox_model)"
      ],
      "metadata": {
        "id": "QnZe_ZEclCH_"
      },
      "execution_count": null,
      "outputs": []
    },
    {
      "cell_type": "code",
      "source": [
        "# Curvas de supervivencia ajustadas\n",
        "fit <- survfit(cox_model)\n",
        "ggsurvplot(fit, data = data, risk.table = TRUE, pval = TRUE,\n",
        "           title = \"Curvas de Supervivencia Ajustadas\",\n",
        "           xlab = \"Tiempo (días)\", ylab = \"Probabilidad de Supervivencia\")\n"
      ],
      "metadata": {
        "id": "YP8yLPPBoznR"
      },
      "execution_count": null,
      "outputs": []
    },
    {
      "cell_type": "code",
      "source": [
        "# Imprimir el resumen del ajuste para ver la mediana de supervivencia\n",
        "summary_fit <- summary(fit)\n",
        "print(summary_fit)\n",
        "\n",
        "# Obtener la mediana de supervivencia\n",
        "median_survival <- summary_fit$time[which.min(abs(summary_fit$surv - 0.5))]\n",
        "print(paste(\"La mediana de supervivencia es:\", median_survival, \"días\"))"
      ],
      "metadata": {
        "id": "agIdYMrIXyvm"
      },
      "execution_count": null,
      "outputs": []
    },
    {
      "cell_type": "code",
      "source": [
        "library(ggplot2)\n",
        "library(survminer)\n",
        "\n",
        "# Graficar la curva de supervivencia con la mediana de supervivencia resaltada\n",
        "plot <- ggsurvplot(fit, data = data, risk.table = TRUE, pval = TRUE,\n",
        "                   title = \"Curvas de Supervivencia Ajustadas\",\n",
        "                   xlab = \"Tiempo (días)\", ylab = \"Probabilidad de Supervivencia\",\n",
        "                   conf.int = TRUE)\n",
        "\n",
        "# Añadir línea vertical y anotación para la mediana de supervivencia\n",
        "plot$plot <- plot$plot +\n",
        "  geom_vline(xintercept = median_survival, linetype = \"dashed\", color = \"red\") +\n",
        "  annotate(\"text\", x = median_survival, y = 0.5, label = paste(\"Mediana =\", median_survival, \"días\"), vjust = -1, color = \"red\")\n",
        "\n",
        "print(plot)"
      ],
      "metadata": {
        "id": "Ond62yHbYn0E"
      },
      "execution_count": null,
      "outputs": []
    }
  ]
}