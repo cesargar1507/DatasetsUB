{
  "nbformat": 4,
  "nbformat_minor": 0,
  "metadata": {
    "colab": {
      "provenance": []
    },
    "kernelspec": {
      "name": "ir",
      "display_name": "R"
    },
    "language_info": {
      "name": "R"
    }
  },
  "cells": [
    {
      "cell_type": "code",
      "execution_count": 1,
      "metadata": {
        "id": "NXvNrUprHSkt",
        "outputId": "8fcc6d68-eeaa-4694-f64f-d6ee94e46193",
        "colab": {
          "base_uri": "https://localhost:8080/"
        }
      },
      "outputs": [
        {
          "output_type": "stream",
          "name": "stderr",
          "text": [
            "\n",
            "Attaching package: ‘dplyr’\n",
            "\n",
            "\n",
            "The following objects are masked from ‘package:stats’:\n",
            "\n",
            "    filter, lag\n",
            "\n",
            "\n",
            "The following objects are masked from ‘package:base’:\n",
            "\n",
            "    intersect, setdiff, setequal, union\n",
            "\n",
            "\n",
            "Installing package into ‘/usr/local/lib/R/site-library’\n",
            "(as ‘lib’ is unspecified)\n",
            "\n",
            "also installing the dependencies ‘listenv’, ‘parallelly’, ‘future’, ‘globals’, ‘shape’, ‘future.apply’, ‘numDeriv’, ‘progressr’, ‘SQUAREM’, ‘diagram’, ‘lava’, ‘prodlim’, ‘proxy’, ‘iterators’, ‘clock’, ‘gower’, ‘hardhat’, ‘ipred’, ‘timeDate’, ‘e1071’, ‘foreach’, ‘ModelMetrics’, ‘plyr’, ‘pROC’, ‘recipes’, ‘reshape2’\n",
            "\n",
            "\n",
            "Loading required package: ggplot2\n",
            "\n",
            "Loading required package: lattice\n",
            "\n",
            "Installing package into ‘/usr/local/lib/R/site-library’\n",
            "(as ‘lib’ is unspecified)\n",
            "\n",
            "Installing package into ‘/usr/local/lib/R/site-library’\n",
            "(as ‘lib’ is unspecified)\n",
            "\n",
            "randomForest 4.7-1.1\n",
            "\n",
            "Type rfNews() to see new features/changes/bug fixes.\n",
            "\n",
            "\n",
            "Attaching package: ‘randomForest’\n",
            "\n",
            "\n",
            "The following object is masked from ‘package:ggplot2’:\n",
            "\n",
            "    margin\n",
            "\n",
            "\n",
            "The following object is masked from ‘package:dplyr’:\n",
            "\n",
            "    combine\n",
            "\n",
            "\n",
            "\n",
            "Attaching package: ‘lubridate’\n",
            "\n",
            "\n",
            "The following objects are masked from ‘package:base’:\n",
            "\n",
            "    date, intersect, setdiff, union\n",
            "\n",
            "\n"
          ]
        }
      ],
      "source": [
        "library(dplyr)\n",
        "library(readr)\n",
        "install.packages(\"caret\")\n",
        "library(caret)\n",
        "install.packages(\"ggplot2\")\n",
        "library(ggplot2)\n",
        "install.packages(\"randomForest\")\n",
        "library(randomForest)\n",
        "library(lubridate)"
      ]
    },
    {
      "cell_type": "code",
      "source": [
        "# Instalar y cargar las bibliotecas necesarias\n",
        "install.packages(\"googledrive\")\n",
        "library(googledrive)"
      ],
      "metadata": {
        "id": "CDiBiGVgNH5p",
        "colab": {
          "base_uri": "https://localhost:8080/"
        },
        "outputId": "a5d87c73-fc63-4304-a0e3-e5c71471994e"
      },
      "execution_count": 2,
      "outputs": [
        {
          "output_type": "stream",
          "name": "stderr",
          "text": [
            "Installing package into ‘/usr/local/lib/R/site-library’\n",
            "(as ‘lib’ is unspecified)\n",
            "\n"
          ]
        }
      ]
    },
    {
      "cell_type": "code",
      "source": [
        "# Autenticarse con Google Drive\n",
        "drive_auth()"
      ],
      "metadata": {
        "id": "VlTTd6glNKsf",
        "colab": {
          "base_uri": "https://localhost:8080/",
          "height": 549
        },
        "outputId": "c9e8c6cb-55f5-4a03-86e6-0bf9b2af9c08"
      },
      "execution_count": 3,
      "outputs": [
        {
          "metadata": {
            "tags": null
          },
          "name": "stderr",
          "output_type": "stream",
          "text": [
            "\u001b[1m\u001b[22mIs it OK to cache OAuth access credentials in the folder \u001b[34m~/.cache/gargle\u001b[39m\n",
            "between R sessions?\n",
            "\u001b[1m1\u001b[22m: Yes\n",
            "\u001b[1m2\u001b[22m: No\n",
            "Please point your browser to the following url: \n",
            "\n",
            "https://accounts.google.com/o/oauth2/v2/auth?client_id=603366585132-frjlouoa3s2ono25d2l9ukvhlsrlnr7k.apps.googleusercontent.com&scope=https%3A%2F%2Fwww.googleapis.com%2Fauth%2Fdrive%20https%3A%2F%2Fwww.googleapis.com%2Fauth%2Fuserinfo.email&redirect_uri=https%3A%2F%2Fwww.tidyverse.org%2Fgoogle-callback%2F&response_type=code&state=99e4c6121e2d48164b8b45dc21e34a96&access_type=offline&prompt=consent\n",
            "\n"
          ]
        },
        {
          "ename": "ERROR",
          "evalue": "\u001b[1m\u001b[33mError\u001b[39m in `drive_auth()`:\u001b[22m\n\u001b[1m\u001b[22m\u001b[33m!\u001b[39m Can't get Google credentials.\n\u001b[36mℹ\u001b[39m Are you running \u001b[34mgoogledrive\u001b[39m in a non-interactive session? Consider:\n\u001b[36m•\u001b[39m Call `drive_deauth()` to prevent the attempt to get credentials.\n\u001b[36m•\u001b[39m Call `drive_auth()` directly with all necessary specifics.\n\u001b[36mℹ\u001b[39m See gargle's \"Non-interactive auth\" vignette for more details:\n\u001b[36mℹ\u001b[39m \u001b[3m\u001b[34m<https://gargle.r-lib.org/articles/non-interactive-auth.html>\u001b[39m\u001b[23m\n",
          "output_type": "error",
          "traceback": [
            "\u001b[1m\u001b[33mError\u001b[39m in `drive_auth()`:\u001b[22m\n\u001b[1m\u001b[22m\u001b[33m!\u001b[39m Can't get Google credentials.\n\u001b[36mℹ\u001b[39m Are you running \u001b[34mgoogledrive\u001b[39m in a non-interactive session? Consider:\n\u001b[36m•\u001b[39m Call `drive_deauth()` to prevent the attempt to get credentials.\n\u001b[36m•\u001b[39m Call `drive_auth()` directly with all necessary specifics.\n\u001b[36mℹ\u001b[39m See gargle's \"Non-interactive auth\" vignette for more details:\n\u001b[36mℹ\u001b[39m \u001b[3m\u001b[34m<https://gargle.r-lib.org/articles/non-interactive-auth.html>\u001b[39m\u001b[23m\nTraceback:\n",
            "1. drive_auth()",
            "2. drive_abort(c(\"Can't get Google credentials.\", i = \"Are you running {.pkg googledrive} in a non-interactive session? \\\\\\n             Consider:\", \n .     `*` = \"Call {.fun drive_deauth} to prevent the attempt to get credentials.\", \n .     `*` = \"Call {.fun drive_auth} directly with all necessary specifics.\", \n .     i = \"See gargle's \\\"Non-interactive auth\\\" vignette for more details:\", \n .     i = \"{.url https://gargle.r-lib.org/articles/non-interactive-auth.html}\"))",
            "3. cli::cli_abort(message = message, ..., .envir = .envir)",
            "4. rlang::abort(message, ..., call = call, use_cli_format = TRUE, \n .     .frame = .frame)",
            "5. signal_abort(cnd, .file)"
          ]
        }
      ]
    },
    {
      "cell_type": "code",
      "source": [
        "# Especificar el ID del archivo y la ruta de destino\n",
        "file_id <- \"https://drive.google.com/file/d/1WDRKvrZrvSlQa8qNgUCoGwEyepYNm3dz/view?usp=drivesdk\"  # Reemplaza este ID con el ID de tu archivo\n",
        "drive_download(as_id(file_id), path = \"archivo.csv\", overwrite = TRUE)"
      ],
      "metadata": {
        "id": "zpilSoL7NNH3"
      },
      "execution_count": null,
      "outputs": []
    },
    {
      "cell_type": "code",
      "source": [
        "# Leer el archivo CSV desde la URL\n",
        "urlAge <- \"https://raw.githubusercontent.com/cesargar1507/DatasetsUB/main/machine_age.csv\"\n",
        "urlMechanic <- \"https://raw.githubusercontent.com/cesargar1507/DatasetsUB/main/mechanic_antiquity.csv\"\n",
        "df <- read_csv(\"archivo.csv\", show_col_types = FALSE)\n",
        "df_age <- read_csv(urlAge, show_col_types = FALSE)\n",
        "df_mechanic <- read_csv(urlMechanic, show_col_types = FALSE)"
      ],
      "metadata": {
        "id": "p7Ac95EBV6df"
      },
      "execution_count": null,
      "outputs": []
    },
    {
      "cell_type": "code",
      "source": [
        "summary(df)"
      ],
      "metadata": {
        "id": "z2sxgjL5cMt_"
      },
      "execution_count": null,
      "outputs": []
    },
    {
      "cell_type": "code",
      "source": [
        "head(df,5)"
      ],
      "metadata": {
        "id": "qzZX5SgOtE09"
      },
      "execution_count": null,
      "outputs": []
    },
    {
      "cell_type": "markdown",
      "source": [
        "**LIMPIEZA DE DATOS**"
      ],
      "metadata": {
        "id": "nU5ZKD4XRfX7"
      }
    },
    {
      "cell_type": "code",
      "source": [
        "sapply(df, function(x) sum(is.na(x)))\n",
        "#Fiabilidad suficiente para continuar con el trabajo"
      ],
      "metadata": {
        "id": "ttjLXcMWRvy5"
      },
      "execution_count": null,
      "outputs": []
    },
    {
      "cell_type": "code",
      "source": [
        "# Remover el símbolo de dólar y las comas, y convertir a float\n",
        "df$parts_cost <- as.numeric(gsub(\"[\\\\$,()]\", \"\", df$parts_cost))"
      ],
      "metadata": {
        "id": "IfrIeddmGwIo"
      },
      "execution_count": null,
      "outputs": []
    },
    {
      "cell_type": "code",
      "source": [
        "# Convertir la columna 'Date' al formato adecuado\n",
        "df$date <- as.Date(df$date, format=\"%m/%d/%Y\")  # Ajusta el formato según tus datos\n",
        "# Ordenar el DataFrame por fecha\n",
        "df <- df %>%\n",
        "  arrange(date)"
      ],
      "metadata": {
        "id": "ss5BYMi8Vtvl"
      },
      "execution_count": null,
      "outputs": []
    },
    {
      "cell_type": "code",
      "source": [
        "mean(df$downtime_gross < 0)"
      ],
      "metadata": {
        "id": "bqrYJi1Ksvn-"
      },
      "execution_count": null,
      "outputs": []
    },
    {
      "cell_type": "code",
      "source": [
        "# Filtrar registros donde downtimeGross no sea negativo\n",
        "df <- df %>%\n",
        "  filter(downtime_gross >= 0)"
      ],
      "metadata": {
        "id": "oOqbbJuhkqTH"
      },
      "execution_count": null,
      "outputs": []
    },
    {
      "cell_type": "code",
      "source": [
        "mean(df$repair_hours < 0)"
      ],
      "metadata": {
        "id": "gofP8VjtS_l7"
      },
      "execution_count": null,
      "outputs": []
    },
    {
      "cell_type": "code",
      "source": [
        "#Eliminar columnas que no seran utilizadas\n",
        "df <- select(df, -problem_code, -failure_code, -cause_code, -action_code, -pit_coverage, -real_downtime, -waiting_hours, -repair_hours)\n",
        "#Se han eliminado codigos y variables calculadas"
      ],
      "metadata": {
        "id": "FZkbiV-4SiWB"
      },
      "execution_count": null,
      "outputs": []
    },
    {
      "cell_type": "code",
      "source": [
        "# Filtrar el DataFrame por 'WO Type' igual a 'Corrective Maintenance'\n",
        "df <- df %>%\n",
        "  filter(`wo_type` == \"Corrective Maintenance\")\n",
        "#Colocar comentario de por qué el filtro, colocar que tecnicas pueden aplicarse y cuales no, colocar en apartado diferente"
      ],
      "metadata": {
        "id": "LjrIm4bfXcHx"
      },
      "execution_count": null,
      "outputs": []
    },
    {
      "cell_type": "code",
      "source": [
        "# Calcular la diferencia en días entre fechas consecutivas\n",
        "df <- df %>%\n",
        "  group_by(equipment) %>%\n",
        "  mutate(Days_Between_Failures = difftime(date, lag(date), units = \"days\"))\n",
        "\n",
        "# Reemplazar los valores NA en Days_Between_Failures\n",
        "df$Days_Between_Failures[is.na(df$Days_Between_Failures)] <- as.numeric(difftime(df$date[is.na(df$Days_Between_Failures)], as.Date(\"2023-01-01\"), units = \"days\"))"
      ],
      "metadata": {
        "id": "82Hp91p7aia4"
      },
      "execution_count": null,
      "outputs": []
    },
    {
      "cell_type": "code",
      "source": [
        "# Convertir 'Days_Between_Failures' a numeric\n",
        "df$Days_Between_Failures <- as.numeric(df$Days_Between_Failures, units = \"days\")"
      ],
      "metadata": {
        "id": "lkjfo3ZWc3iI"
      },
      "execution_count": null,
      "outputs": []
    },
    {
      "cell_type": "code",
      "source": [
        "#Cambio de nombre de mecánico cuyo nombre está escrito de dos formas\n",
        "df <- df %>%\n",
        "  mutate(mechanic = ifelse(mechanic == \"GALEAS PEREZ EDWIN ROGELIO\", \"Edwin Rogelio Galeas Perez\", mechanic))"
      ],
      "metadata": {
        "id": "x_irucm4xXiW"
      },
      "execution_count": null,
      "outputs": []
    },
    {
      "cell_type": "code",
      "source": [
        "# Calcular la tabla de frecuencias de cause_desc\n",
        "freq_cause_desc <- table(df$cause_desc)\n",
        "\n",
        "# Ordenar las frecuencias de menor a mayor\n",
        "freq_sorted_cause <- sort(freq_cause_desc)\n",
        "\n",
        "# Calcular la frecuencia relativa acumulada\n",
        "freq_relative_cause <- cumsum(freq_sorted_cause) / sum(freq_sorted_cause)\n",
        "\n",
        "# Definir umbral de frecuencia acumulada\n",
        "umbral <- 0.2\n",
        "\n",
        "# Identificar categorías con frecuencia relativa acumulada menor que el umbral\n",
        "categorias_baja_frecuencia_cause <- names(freq_sorted_cause[freq_relative_cause < umbral])\n",
        "\n",
        "# Reemplazar categorías con baja frecuencia por \"Otros\"\n",
        "df$cause_desc[df$cause_desc %in% categorias_baja_frecuencia_cause] <- \"Misadjusted machine head looper / Enlazador de cabezal desajustado\""
      ],
      "metadata": {
        "id": "V0jxYl4hkEYa"
      },
      "execution_count": null,
      "outputs": []
    },
    {
      "cell_type": "code",
      "source": [
        "# Calcular la tabla de frecuencias de action_desc\n",
        "freq_action_desc <- table(df$action_desc)\n",
        "\n",
        "# Ordenar las frecuencias de menor a mayor\n",
        "freq_sorted_action <- sort(freq_action_desc)\n",
        "\n",
        "# Calcular la frecuencia relativa acumulada\n",
        "freq_relative_action <- cumsum(freq_sorted_action) / sum(freq_sorted_action)\n",
        "\n",
        "# Definir umbral de frecuencia acumulada\n",
        "umbral <- 0.2\n",
        "\n",
        "# Identificar categorías con frecuencia relativa acumulada menor que el umbral\n",
        "categorias_baja_frecuencia_action <- names(freq_sorted_action[freq_relative_action < umbral])\n",
        "\n",
        "# Reemplazar categorías con baja frecuencia por \"Otros\"\n",
        "df$action_desc[df$action_desc %in% categorias_baja_frecuencia_action] <- \"Adjust machine head looper / Ajustar enlazador de cabezal\""
      ],
      "metadata": {
        "id": "ZUAclR8IkrvB"
      },
      "execution_count": null,
      "outputs": []
    },
    {
      "cell_type": "code",
      "source": [
        "# Calcular la tabla de frecuencias de operation\n",
        "freq_operation <- table(df$operation)\n",
        "\n",
        "# Ordenar las frecuencias de menor a mayor\n",
        "freq_sorted_operation <- sort(freq_operation)\n",
        "\n",
        "# Calcular la frecuencia relativa acumulada\n",
        "freq_relative_operation <- cumsum(freq_sorted_operation) / sum(freq_sorted_operation)\n",
        "\n",
        "# Definir umbral de frecuencia acumulada\n",
        "umbral <- 0.1\n",
        "\n",
        "# Identificar categorías con frecuencia relativa acumulada menor que el umbral\n",
        "categorias_baja_frecuencia_operation <- names(freq_sorted_operation[freq_relative_operation < umbral])\n",
        "\n",
        "# Reemplazar categorías con baja frecuencia por \"Otros\"\n",
        "df$operation[df$operation %in% categorias_baja_frecuencia_operation] <- \"HEM SLEEVE\""
      ],
      "metadata": {
        "id": "1KCaLzccmT0k"
      },
      "execution_count": null,
      "outputs": []
    },
    {
      "cell_type": "code",
      "source": [
        "# Calcular la tabla de frecuencias de mechanic\n",
        "freq_mechanic <- table(df$mechanic)\n",
        "\n",
        "# Ordenar las frecuencias de menor a mayor\n",
        "freq_sorted_mechanic <- sort(freq_mechanic)\n",
        "\n",
        "# Calcular la frecuencia relativa acumulada\n",
        "freq_relative_mechanic <- cumsum(freq_sorted_mechanic) / sum(freq_sorted_mechanic)\n",
        "\n",
        "# Definir umbral de frecuencia acumulada\n",
        "umbral <- 0.2\n",
        "\n",
        "# Identificar categorías con frecuencia relativa acumulada menor que el umbral\n",
        "categorias_baja_frecuencia_mechanic <- names(freq_sorted_mechanic[freq_relative_mechanic < umbral])\n",
        "\n",
        "# Reemplazar categorías con baja frecuencia por \"Otros\"\n",
        "df$mechanic[df$mechanic %in% categorias_baja_frecuencia_mechanic] <- \"Otros\""
      ],
      "metadata": {
        "id": "oewAwD9Lmley"
      },
      "execution_count": null,
      "outputs": []
    },
    {
      "cell_type": "code",
      "source": [
        "# Calcular la tabla de frecuencias de base_model\n",
        "freq_model <- table(df$base_model)\n",
        "\n",
        "# Ordenar las frecuencias de menor a mayor\n",
        "freq_sorted_model <- sort(freq_model)\n",
        "\n",
        "# Calcular la frecuencia relativa acumulada\n",
        "freq_relative_model <- cumsum(freq_sorted_model) / sum(freq_sorted_model)\n",
        "\n",
        "# Definir umbral de frecuencia acumulada\n",
        "umbral <- 0.2\n",
        "\n",
        "# Identificar categorías con frecuencia relativa acumulada menor que el umbral\n",
        "categorias_baja_frecuencia_model <- names(freq_sorted_model[freq_relative_model < umbral])\n",
        "\n",
        "# Reemplazar categorías con baja frecuencia por \"Otros\"\n",
        "df$base_model[df$base_model %in% categorias_baja_frecuencia_model] <- \"VC1700\""
      ],
      "metadata": {
        "id": "ar29uk-ipEEW"
      },
      "execution_count": null,
      "outputs": []
    },
    {
      "cell_type": "code",
      "source": [
        "# Calcular la tabla de frecuencias de problem_desc\n",
        "freq_problem <- table(df$problem_desc)\n",
        "\n",
        "# Ordenar las frecuencias de menor a mayor\n",
        "freq_sorted_problem <- sort(freq_problem)\n",
        "\n",
        "# Calcular la frecuencia relativa acumulada\n",
        "freq_relative_problem <- cumsum(freq_sorted_problem) / sum(freq_sorted_problem)\n",
        "\n",
        "# Definir umbral de frecuencia acumulada\n",
        "umbral <- 0.2\n",
        "\n",
        "# Identificar categorías con frecuencia relativa acumulada menor que el umbral\n",
        "categorias_baja_frecuencia_problem <- names(freq_sorted_problem[freq_relative_problem < umbral])\n",
        "\n",
        "# Reemplazar categorías con baja frecuencia por \"Otros\"\n",
        "df$problem_desc[df$problem_desc %in% categorias_baja_frecuencia_problem] <- \"Otros\""
      ],
      "metadata": {
        "id": "QG3Xgj0BqI2_"
      },
      "execution_count": null,
      "outputs": []
    },
    {
      "cell_type": "code",
      "source": [
        "# Calcular la tabla de frecuencias de failure_desc\n",
        "freq_failure <- table(df$failure_desc)\n",
        "\n",
        "# Ordenar las frecuencias de menor a mayor\n",
        "freq_sorted_failure <- sort(freq_failure)\n",
        "\n",
        "# Calcular la frecuencia relativa acumulada\n",
        "freq_relative_failure <- cumsum(freq_sorted_failure) / sum(freq_sorted_failure)\n",
        "\n",
        "# Definir umbral de frecuencia acumulada\n",
        "umbral <- 0.2\n",
        "\n",
        "# Identificar categorías con frecuencia relativa acumulada menor que el umbral\n",
        "categorias_baja_frecuencia_failure <- names(freq_sorted_failure[freq_relative_failure < umbral])\n",
        "\n",
        "# Reemplazar categorías con baja frecuencia por \"Otros\"\n",
        "df$failure_desc[df$failure_desc %in% categorias_baja_frecuencia_failure] <- \"Otros\""
      ],
      "metadata": {
        "id": "Hi-CQmVYqzzF"
      },
      "execution_count": null,
      "outputs": []
    },
    {
      "cell_type": "code",
      "source": [
        "#Convertir horas a minutos\n",
        "df$downtime_gross <-df$downtime_gross*60"
      ],
      "metadata": {
        "id": "WMurWA3vB5zR"
      },
      "execution_count": null,
      "outputs": []
    },
    {
      "cell_type": "markdown",
      "source": [
        "**ANALISIS DE VARIABLES**"
      ],
      "metadata": {
        "id": "P4kKVEF1Rs6t"
      }
    },
    {
      "cell_type": "code",
      "source": [
        "dim(df)"
      ],
      "metadata": {
        "id": "ufkTTqfldMbg"
      },
      "execution_count": null,
      "outputs": []
    },
    {
      "cell_type": "markdown",
      "source": [
        "**Variable \"Operación\"**"
      ],
      "metadata": {
        "id": "btd4X3WvdR81"
      }
    },
    {
      "cell_type": "code",
      "source": [
        "# Calcular la frecuencia de cada operación\n",
        "operation_freq <- df %>%\n",
        "  group_by(operation) %>%\n",
        "  summarise(count = n()) %>%\n",
        "  arrange(desc(count))\n",
        "\n",
        "# Calcular la frecuencia relativa\n",
        "operation_freq <- operation_freq %>%\n",
        "  mutate(relative_freq = count / sum(count))\n",
        "\n",
        "operation_freq"
      ],
      "metadata": {
        "id": "_ceeX9_wEfXc"
      },
      "execution_count": null,
      "outputs": []
    },
    {
      "cell_type": "code",
      "source": [
        "# Ordenar los datos por frecuencia descendente\n",
        "operation_freq <- operation_freq %>%\n",
        "  arrange(desc(count))\n",
        "\n",
        "# Filtrar para obtener solo el top 3\n",
        "top3_operation_freq <- operation_freq %>%\n",
        "  slice_head(n = 3)\n",
        "\n",
        "options(repr.plot.width=17, repr.plot.height=7)\n",
        "\n",
        "ggplot(top3_operation_freq, aes(y = reorder(operation, count), x = count)) +\n",
        "  geom_bar(stat = \"identity\", fill = 'skyblue') +\n",
        "  geom_text(aes(label = paste0(round(relative_freq * 100, 1), \"%\")), vjust = -0.5, hjust = 0, size = 5) +\n",
        "  labs(title = \"Frecuencia relativa de las 3 principales operaciones con más fallos\",\n",
        "       y = \"Operación\",\n",
        "       x = \"Frecuencia\") +\n",
        "  theme_minimal() +\n",
        "  theme(\n",
        "    axis.text.x = element_text(angle = 45, hjust = 1, size = 12), # Cambia el tamaño del texto del eje x\n",
        "    axis.text.y = element_text(size = 12),                         # Cambia el tamaño del texto del eje y\n",
        "    axis.title.x = element_text(size = 14),                        # Cambia el tamaño del título del eje x\n",
        "    axis.title.y = element_text(size = 14),                        # Cambia el tamaño del título del eje y\n",
        "    plot.title = element_text(size = 16, hjust = 0.5)              # Cambia el tamaño del título del gráfico y lo centra\n",
        "  )"
      ],
      "metadata": {
        "id": "61YaB4AqXI4T"
      },
      "execution_count": null,
      "outputs": []
    },
    {
      "cell_type": "markdown",
      "source": [
        "**Variable \"problem_desc\"**"
      ],
      "metadata": {
        "id": "P4Sxra9vdXIA"
      }
    },
    {
      "cell_type": "code",
      "source": [
        "# Calcular la frecuencia de problemas de maquinaria\n",
        "problem_freq <- df %>%\n",
        "  group_by(problem_desc) %>%\n",
        "  summarise(count = n()) %>%\n",
        "  arrange(desc(count))\n",
        "\n",
        "# Calcular la frecuencia relativa\n",
        "problem_freq <- problem_freq %>%\n",
        "  mutate(relative_freq = count / sum(count))\n",
        "\n",
        "problem_freq"
      ],
      "metadata": {
        "id": "VvgFq4Yep2ku"
      },
      "execution_count": null,
      "outputs": []
    },
    {
      "cell_type": "code",
      "source": [
        "# Ordenar los datos por frecuencia descendente\n",
        "problem_freq <- problem_freq %>%\n",
        "  arrange(desc(count))\n",
        "\n",
        "options(repr.plot.width=17, repr.plot.height=6)\n",
        "\n",
        "ggplot(problem_freq, aes(y = reorder(problem_desc, count), x = count)) +\n",
        "  geom_bar(stat = \"identity\", fill = 'skyblue') +\n",
        "  geom_text(aes(label = paste0(round(relative_freq * 100, 1), \"%\")), vjust = -0.5, hjust = 0) +\n",
        "  labs(title = \"Frecuencia relativa de problemas de maquinaria\",\n",
        "       y = \"Problema\",\n",
        "       x = \"Cantidad\") +\n",
        "  theme_minimal() +\n",
        "   theme(\n",
        "    axis.text.x = element_text(angle = 45, hjust = 1, size = 12), # Cambia el tamaño del texto del eje x\n",
        "    axis.text.y = element_text(size = 12),                         # Cambia el tamaño del texto del eje y\n",
        "    axis.title.x = element_text(size = 14),                        # Cambia el tamaño del título del eje x\n",
        "    axis.title.y = element_text(size = 14),                        # Cambia el tamaño del título del eje y\n",
        "    plot.title = element_text(size = 16, hjust = 0.5)              # Cambia el tamaño del título del gráfico y lo centra\n",
        "  )"
      ],
      "metadata": {
        "id": "gx5rHH5BVEBM"
      },
      "execution_count": null,
      "outputs": []
    },
    {
      "cell_type": "markdown",
      "source": [
        "**Variable \"failure_desc\"**"
      ],
      "metadata": {
        "id": "ecE-YE8KdecU"
      }
    },
    {
      "cell_type": "code",
      "source": [
        "# Calcular la frecuencia de fallos de maquinaria\n",
        "failure_freq <- df %>%\n",
        "  group_by(failure_desc) %>%\n",
        "  summarise(count = n()) %>%\n",
        "  arrange(desc(count))\n",
        "\n",
        "# Calcular la frecuencia relativa\n",
        "failure_freq <- failure_freq %>%\n",
        "  mutate(relative_freq = count / sum(count))\n",
        "\n",
        "failure_freq"
      ],
      "metadata": {
        "id": "rTfbZm9qqomH"
      },
      "execution_count": null,
      "outputs": []
    },
    {
      "cell_type": "code",
      "source": [
        "# Ordenar los datos por frecuencia descendente\n",
        "failure_freq <- failure_freq %>%\n",
        "  arrange(desc(count))\n",
        "\n",
        "options(repr.plot.width=20, repr.plot.height=6)\n",
        "\n",
        "ggplot(failure_freq, aes(y = reorder(failure_desc, count), x = count)) +\n",
        "  geom_bar(stat = \"identity\", fill = 'skyblue') +\n",
        "  geom_text(aes(label = paste0(round(relative_freq * 100, 1), \"%\")), vjust = -0.5, hjust = 0, size = 5) +  # Etiquetas de porcentaje acumulado\n",
        "  labs(title = \"Frecuencia relativa de fallos\",\n",
        "       y = \"Falla\",\n",
        "       x = \"Cantidad\") +\n",
        "  theme_minimal() +\n",
        "   theme(\n",
        "    axis.text.x = element_text(angle = 45, hjust = 1, size = 12), # Cambia el tamaño del texto del eje x\n",
        "    axis.text.y = element_text(size = 12),                         # Cambia el tamaño del texto del eje y\n",
        "    axis.title.x = element_text(size = 14),                        # Cambia el tamaño del título del eje x\n",
        "    axis.title.y = element_text(size = 14),                        # Cambia el tamaño del título del eje y\n",
        "    plot.title = element_text(size = 16, hjust = 0.5)              # Cambia el tamaño del título del gráfico y lo centra\n",
        "  )"
      ],
      "metadata": {
        "id": "WaI9bflOVnmZ"
      },
      "execution_count": null,
      "outputs": []
    },
    {
      "cell_type": "markdown",
      "source": [
        "**Variable \"cause_desc\"**"
      ],
      "metadata": {
        "id": "r3vwEy94djV7"
      }
    },
    {
      "cell_type": "code",
      "source": [
        "# Calcular la frecuencia de causas de fallo\n",
        "cause_freq <- df %>%\n",
        "  group_by(cause_desc) %>%\n",
        "  summarise(count = n()) %>%\n",
        "  arrange(desc(count))\n",
        "\n",
        "# Calcular la frecuencia relativa\n",
        "cause_freq <- cause_freq %>%\n",
        "  mutate(relative_freq = count / sum(count))\n",
        "\n",
        "cause_freq"
      ],
      "metadata": {
        "id": "NGaNNZ6KVp5r"
      },
      "execution_count": null,
      "outputs": []
    },
    {
      "cell_type": "code",
      "source": [
        "# Ordenar los datos por frecuencia descendente\n",
        "cause_freq <- cause_freq %>%\n",
        "  arrange(desc(count))\n",
        "\n",
        "# Filtrar para obtener solo el top 3\n",
        "top3_cause_freq <- cause_freq %>%\n",
        "  slice_head(n = 3)\n",
        "\n",
        "options(repr.plot.width=20, repr.plot.height=7)\n",
        "\n",
        "ggplot(top3_cause_freq, aes(y = reorder(cause_desc, count), x = count)) +\n",
        "  geom_bar(stat = \"identity\", fill = 'skyblue') +\n",
        "  geom_text(aes(label = paste0(round(relative_freq * 100, 1), \"%\")), vjust = -0.5, hjust = 0,  size = 5) +  # Etiquetas de porcentaje acumulado\n",
        "  labs(title = \"Frecuencia relativa de las 3 principales causas de fallos\",\n",
        "       y = \"Causa\",\n",
        "       x = \"Cantidad\") +\n",
        "  theme_minimal() +\n",
        "  theme(\n",
        "    axis.text.x = element_text(angle = 45, hjust = 1),\n",
        "    axis.text.y = element_text(size = 15),\n",
        "    axis.title.x = element_text(size = 15),\n",
        "    axis.title.y = element_text(size = 15),\n",
        "    plot.title = element_text(size = 16, hjust = 0.5)\n",
        "  )"
      ],
      "metadata": {
        "id": "WrDVHTrJmi98"
      },
      "execution_count": null,
      "outputs": []
    },
    {
      "cell_type": "markdown",
      "source": [
        "**Variable \"action_desc\"**"
      ],
      "metadata": {
        "id": "TK34lSTddn0P"
      }
    },
    {
      "cell_type": "code",
      "source": [
        "# Calcular la frecuencia de acciones correctivas\n",
        "action_freq <- df %>%\n",
        "  group_by(action_desc) %>%\n",
        "  summarise(count = n()) %>%\n",
        "  arrange(desc(count))\n",
        "\n",
        "# Calcular la frecuencia relativa\n",
        "action_freq <- action_freq %>%\n",
        "  mutate(relative_freq = count / sum(count))\n",
        "\n",
        "action_freq"
      ],
      "metadata": {
        "id": "GAwaYZaSWNmD"
      },
      "execution_count": null,
      "outputs": []
    },
    {
      "cell_type": "code",
      "source": [
        "# Ordenar los datos por frecuencia descendente\n",
        "action_freq <- action_freq %>%\n",
        "  arrange(desc(count))\n",
        "\n",
        "# Filtrar para obtener solo el top 3\n",
        "top3_action_freq <- action_freq %>%\n",
        "  slice_head(n = 3)\n",
        "\n",
        "options(repr.plot.width=20, repr.plot.height=7)\n",
        "\n",
        "ggplot(top3_action_freq, aes(y = reorder(action_desc, count), x = count)) +\n",
        "  geom_bar(stat = \"identity\", fill = 'skyblue') +\n",
        "  geom_text(aes(label = paste0(round(relative_freq * 100, 1), \"%\")),\n",
        "            vjust = -0.5, hjust = 0, size = 5) +  # Ajuste del tamaño del texto\n",
        "  labs(title = \"Frecuencia relativa de las 3 principales acciones correctivas\",\n",
        "       y = \"Acción Correctiva\",\n",
        "       x = \"Cantidad\") +\n",
        "  theme_minimal() +\n",
        "  theme(\n",
        "    axis.text.x = element_text(angle = 45, hjust = 1),\n",
        "    axis.text.y = element_text(size = 15),\n",
        "    axis.title.x = element_text(size = 15),\n",
        "    axis.title.y = element_text(size = 15, hjust = 1),\n",
        "    plot.title = element_text(size = 16, hjust = 0.5)\n",
        "  )"
      ],
      "metadata": {
        "id": "ayFHnVlgWVBh"
      },
      "execution_count": null,
      "outputs": []
    },
    {
      "cell_type": "markdown",
      "source": [
        "**Variable \"mechanic\"**"
      ],
      "metadata": {
        "id": "wiwot5Ptdr4c"
      }
    },
    {
      "cell_type": "code",
      "source": [
        "# Calcular la frecuencia de fallos resueltos por mecánicos\n",
        "mechanic_freq <- df %>%\n",
        "  group_by(mechanic) %>%\n",
        "  summarise(count = n()) %>%\n",
        "  arrange(desc(count))\n",
        "\n",
        "# Calcular la frecuencia relativa\n",
        "mechanic_freq <- mechanic_freq %>%\n",
        "  mutate(relative_freq = count / sum(count))\n",
        "\n",
        "mechanic_freq"
      ],
      "metadata": {
        "id": "X6SGcfGNa4CA"
      },
      "execution_count": null,
      "outputs": []
    },
    {
      "cell_type": "markdown",
      "source": [
        "**Variable \"parts cost\"**"
      ],
      "metadata": {
        "id": "qFmN5VFtfoZk"
      }
    },
    {
      "cell_type": "code",
      "source": [
        "# Crear el boxplot de costo de partes\n",
        "ggplot(df, aes(y = parts_cost)) +\n",
        "  geom_boxplot(fill = 'skyblue', color = 'black') +\n",
        "  labs(title = 'Boxplot de parts cost',\n",
        "       y = 'Costo') +\n",
        "  theme_minimal()"
      ],
      "metadata": {
        "id": "Zjt4gkdBf9Lh"
      },
      "execution_count": null,
      "outputs": []
    },
    {
      "cell_type": "code",
      "source": [
        "ggplot(df, aes(y = parts_cost)) +\n",
        "  geom_boxplot(fill = 'skyblue', color = 'black', outlier.shape = NA) +\n",
        "  labs(title = 'Boxplot de parts cost',\n",
        "       y = 'Costo') +\n",
        "  theme_minimal() +\n",
        "  ylim(0, 50)"
      ],
      "metadata": {
        "id": "qKdm6TKTfrtF"
      },
      "execution_count": null,
      "outputs": []
    },
    {
      "cell_type": "code",
      "source": [
        "mean(df$parts_cost, na.rm = TRUE)      # Media\n",
        "median(df$parts_cost, na.rm = TRUE)    # Mediana\n",
        "sd(df$parts_cost, na.rm = TRUE)        # Desviación estándar\n",
        "var(df$parts_cost, na.rm = TRUE)        # Varianza\n",
        "range(df$parts_cost, na.rm = TRUE)      # Rango"
      ],
      "metadata": {
        "id": "t4qaw4VXcgpT"
      },
      "execution_count": null,
      "outputs": []
    },
    {
      "cell_type": "markdown",
      "source": [
        "**ANALISIS DE VARIABLE OBJETIVO \"DOWNTIME GROSS\"**"
      ],
      "metadata": {
        "id": "uaTdHyHqabIq"
      }
    },
    {
      "cell_type": "code",
      "source": [
        "summary(df$downtime_gross)"
      ],
      "metadata": {
        "id": "PUvAp_f3epQZ"
      },
      "execution_count": null,
      "outputs": []
    },
    {
      "cell_type": "code",
      "source": [
        "# Histograma de 'downtimeGross'\n",
        "hist_downtimeGross <- ggplot(df, aes(x = downtime_gross)) +\n",
        "  geom_histogram(binwidth = 10, fill = \"green\", color = \"black\", alpha = 0.7) +\n",
        "  labs(title = \"Histograma de Downtime Bruto\",\n",
        "       x = \"Downtime Bruto (minutos)\",\n",
        "       y = \"Frecuencia\") +\n",
        "  theme_minimal()\n",
        "\n",
        "# Mostrar histogramas\n",
        "print(hist_downtimeGross)"
      ],
      "metadata": {
        "id": "pX3O1eGXcMZL"
      },
      "execution_count": null,
      "outputs": []
    },
    {
      "cell_type": "code",
      "source": [
        "# Crear el boxplot de downtime gross\n",
        "options(repr.plot.width=10, repr.plot.height=7)\n",
        "ggplot(df, aes(y = downtime_gross)) +\n",
        "  geom_boxplot(fill = 'skyblue', color = 'black') +\n",
        "  labs(title = 'Boxplot de downtime gross',\n",
        "       y = 'Minutos') +\n",
        "  theme_minimal() +\n",
        "  theme(\n",
        "    axis.text.y = element_text(size = 12), # Tamaño del texto del eje y\n",
        "    axis.title.y = element_text(size = 14), # Tamaño del título del eje y\n",
        "    plot.title = element_text(size = 16)    # Tamaño del título del gráfico\n",
        "  )"
      ],
      "metadata": {
        "id": "6gEeaGnifdRR"
      },
      "execution_count": null,
      "outputs": []
    },
    {
      "cell_type": "code",
      "source": [
        "# Crear el boxplot de downtime gross\n",
        "ggplot(df, aes(y = downtime_gross)) +\n",
        "  geom_boxplot(fill = 'skyblue', color = 'black', outlier.shape = NA) +\n",
        "  labs(title = 'Boxplot de downtime gross',\n",
        "       y = 'Minutos') +\n",
        "  theme_minimal() + coord_cartesian(ylim = c(0, 300))"
      ],
      "metadata": {
        "id": "pn4a06xQXhJW"
      },
      "execution_count": null,
      "outputs": []
    },
    {
      "cell_type": "code",
      "source": [
        "# Calcular el umbral de outliers (95% percentil)\n",
        "outlier_threshold <- quantile(df$downtime_gross, 0.95)\n",
        "\n",
        "# Identificar outliers\n",
        "df$outlier <- ifelse(df$downtime_gross > outlier_threshold, TRUE, FALSE)\n",
        "\n",
        "# Convertir la columna 'Date' a formato de fecha\n",
        "df$date <- as.Date(df$date)\n",
        "\n",
        "# Extraer solo el mes (sin el año) de la fecha\n",
        "df <- df %>%\n",
        "  mutate(Month = format(date, \"%B\")) # Nombre del mes\n",
        "\n",
        "# Agrupar por mes y calcular la frecuencia acumulada de outliers\n",
        "df_outliers <- df %>%\n",
        "  group_by(Month) %>%\n",
        "  summarise(Outliers = sum(outlier), .groups = 'drop') %>%\n",
        "  arrange(match(Month, month.name)) # Ordenar por el orden de los meses\n",
        "\n",
        "# Convertir la columna 'Month' a factor con el orden correcto\n",
        "df_outliers$Month <- factor(df_outliers$Month, levels = month.name)\n",
        "\n",
        "# Crear un gráfico de barras de la frecuencia acumulada de outliers por mes\n",
        "ggplot(df_outliers, aes(x = Month, y = Outliers, fill = Month)) +\n",
        "  geom_bar(stat = \"identity\", color = 'black') +\n",
        "  labs(title = 'Frecuencia Acumulada de Outliers de Downtime Gross por Mes',\n",
        "       x = 'Mes',\n",
        "       y = 'Cantidad de Outliers') +\n",
        "  theme_minimal() +\n",
        "  theme(\n",
        "    axis.text.x = element_text(angle = 45, hjust = 1, size = 12), # Tamaño y ángulo del texto del eje x\n",
        "    axis.title.x = element_text(size = 14),                      # Tamaño del título del eje x\n",
        "    axis.title.y = element_text(size = 14),                      # Tamaño del título del eje y\n",
        "    plot.title = element_text(size = 16)                         # Tamaño del título del gráfico\n",
        "  )"
      ],
      "metadata": {
        "id": "I55hzrMYfPfX"
      },
      "execution_count": null,
      "outputs": []
    },
    {
      "cell_type": "code",
      "source": [
        "library(dplyr)\n",
        "\n",
        "# Calcular el tiempo total improductivo por operación\n",
        "total_downtime_by_operation <- df %>%\n",
        "  group_by(operation) %>%\n",
        "  summarise(total_downtime = sum(downtime_gross, na.rm = TRUE))\n",
        "# Calcular el tiempo total improductivo general\n",
        "total_downtime_all_operations <- sum(total_downtime_by_operation$total_downtime)\n",
        "# Calcular la proporción del tiempo improductivo para cada operación\n",
        "total_downtime_by_operation <- total_downtime_by_operation %>%\n",
        "  mutate(proportion = total_downtime / total_downtime_all_operations)\n",
        "# Filtrar el top 3 operaciones con mayor proporción de tiempo improductivo\n",
        "top_3_operations <- total_downtime_by_operation %>%\n",
        "  arrange(desc(proportion)) %>%\n",
        "  head(3)"
      ],
      "metadata": {
        "id": "ybqqFz_Ah0MY"
      },
      "execution_count": null,
      "outputs": []
    },
    {
      "cell_type": "code",
      "source": [
        "library(ggplot2)\n",
        "\n",
        "# Crear gráfico de barras para el top 3 operaciones con mayor proporción de tiempo improductivo\n",
        "ggplot(top_3_operations, aes(y = reorder(operation, proportion), x = proportion)) +\n",
        "  geom_bar(stat = \"identity\", fill = 'skyblue') +\n",
        "  geom_text(aes(label = scales::percent(proportion)), hjust = -0.2, size = 5) +\n",
        "  labs(title = \"Top 3 Operaciones con Mayor Proporción de Tiempo Improductivo\",\n",
        "       y = \"Operación\",\n",
        "       x = \"Proporción del Tiempo Improductivo\") +\n",
        "  theme_minimal() +\n",
        "  theme(axis.text.x = element_text(angle = 45, hjust = 1, size = 12),\n",
        "        axis.text.y = element_text(size = 12),\n",
        "        axis.title.x = element_text(size = 14),\n",
        "        axis.title.y = element_text(size = 14),\n",
        "        plot.title = element_text(size = 16, hjust = 0.5))"
      ],
      "metadata": {
        "id": "GcWDTLzfh3oC"
      },
      "execution_count": null,
      "outputs": []
    },
    {
      "cell_type": "markdown",
      "source": [
        "**GLM INICIAL PARA PREDECIR DOWNTIME**\n",
        "\n"
      ],
      "metadata": {
        "id": "YYWc2PhqQL_7"
      }
    },
    {
      "cell_type": "code",
      "source": [
        "df <- select(df, -wo_type, -outlier, -Month)\n",
        "#Comparar con un glm"
      ],
      "metadata": {
        "id": "zMojStQASpaL"
      },
      "execution_count": null,
      "outputs": []
    },
    {
      "cell_type": "code",
      "source": [
        "head(df,5)"
      ],
      "metadata": {
        "id": "xW557DNOma5T"
      },
      "execution_count": null,
      "outputs": []
    },
    {
      "cell_type": "code",
      "source": [
        "# Establecer una semilla para reproducibilidad\n",
        "set.seed(123)\n",
        "\n",
        "# Definir proporciones para entrenamiento, validación y prueba\n",
        "train_proportion <- 0.70\n",
        "validation_proportion <- 0.20\n",
        "test_proportion <- 0.10\n",
        "\n",
        "# Calcular tamaños de cada conjunto\n",
        "n <- nrow(df)\n",
        "n_train <- floor(train_proportion * n)\n",
        "n_validation <- floor(validation_proportion * n)\n",
        "n_test <- n - n_train - n_validation  # El resto para prueba\n",
        "\n",
        "# Crear índices para conjunto de entrenamiento, validación y prueba\n",
        "trainIndex <- sample(1:n, n_train)\n",
        "remaining <- setdiff(1:n, trainIndex)\n",
        "validationIndex <- sample(remaining, n_validation)\n",
        "testIndex <- setdiff(remaining, validationIndex)\n",
        "\n",
        "# Crear conjuntos de entrenamiento, validación y prueba\n",
        "train_data1 <- df[trainIndex, ]\n",
        "validation_data1 <- df[validationIndex, ]\n",
        "test_data1 <- df[testIndex, ]\n",
        "\n",
        "# Comprobar las dimensiones de cada conjunto\n",
        "cat(\"Dimensiones del conjunto de entrenamiento: \", dim(train_data1), \"\\n\")\n",
        "cat(\"Dimensiones del conjunto de validación: \", dim(validation_data1), \"\\n\")\n",
        "cat(\"Dimensiones del conjunto de prueba: \", dim(test_data1), \"\\n\")"
      ],
      "metadata": {
        "id": "urg65TgR_ZxF"
      },
      "execution_count": null,
      "outputs": []
    },
    {
      "cell_type": "code",
      "source": [
        "# Inicializar y ajustar el modelo de regresión lineal\n",
        "#Dividir en entrenamiento, test, validación por ejemplo 70,20,10\n",
        "start_time <- Sys.time()\n",
        "model1 <- glm(downtime_gross~. -equipment -downtime_gross -Days_Between_Failures -date -changed_pcs, data = train_data1)\n",
        "end_time <- Sys.time()\n",
        "training_time1 <- end_time - start_time\n",
        "training_time1\n",
        "# Resumen del modelo\n",
        "summary(model1)"
      ],
      "metadata": {
        "id": "bSJjlo6uIhBL"
      },
      "execution_count": null,
      "outputs": []
    },
    {
      "cell_type": "code",
      "source": [
        "# Predecir con el conjunto de validación\n",
        "validation_predictions <- predict(model1, newdata = validation_data1)\n",
        "\n",
        "# Calcular métricas de rendimiento para el conjunto de validación\n",
        "validation_actuals <- validation_data1$downtime_gross\n",
        "validation_rmse <- sqrt(mean((validation_predictions - validation_actuals)^2))\n",
        "validation_mae <- mean(abs(validation_predictions - validation_actuals))\n",
        "validation_r2 <- 1 - (sum((validation_predictions - validation_actuals)^2) / sum((validation_actuals - mean(validation_actuals))^2))\n",
        "\n",
        "cat(\"Validation RMSE: \", validation_rmse, \"\\n\")\n",
        "cat(\"Validation MAE: \", validation_mae, \"\\n\")\n",
        "cat(\"Validation R-squared: \", validation_r2, \"\\n\")"
      ],
      "metadata": {
        "id": "fWnPu92TbBE-"
      },
      "execution_count": null,
      "outputs": []
    },
    {
      "cell_type": "code",
      "source": [
        "# Predecir con el conjunto de prueba\n",
        "test_predictions <- predict(model1, newdata = test_data1)\n",
        "\n",
        "# Calcular métricas de rendimiento para el conjunto de prueba\n",
        "test_actuals <- test_data1$downtime_gross\n",
        "test_rmse <- sqrt(mean((test_predictions - test_actuals)^2))\n",
        "test_mae <- mean(abs(test_predictions - test_actuals))\n",
        "test_r2 <- 1 - (sum((test_predictions - test_actuals)^2) / sum((test_actuals - mean(test_actuals))^2))\n",
        "\n",
        "cat(\"Test RMSE: \", test_rmse, \"\\n\")\n",
        "cat(\"Test MAE: \", test_mae, \"\\n\")\n",
        "cat(\"Test R-squared: \", test_r2, \"\\n\")"
      ],
      "metadata": {
        "id": "xjnnY2PRiZVp"
      },
      "execution_count": null,
      "outputs": []
    },
    {
      "cell_type": "markdown",
      "source": [
        "**CALCULO DE VARIABLES PARA MEJORA DEL AJUSTE**"
      ],
      "metadata": {
        "id": "SgZxGsrHQUJl"
      }
    },
    {
      "cell_type": "code",
      "source": [
        "#Calcular los fallos acumulativos\n",
        "df <- df %>%\n",
        "  group_by(equipment) %>%\n",
        "  mutate(Cumulative_Failure_Count = row_number())"
      ],
      "metadata": {
        "id": "nTXK2CN1arF3"
      },
      "execution_count": null,
      "outputs": []
    },
    {
      "cell_type": "code",
      "source": [
        "# Calcular el costo acumulado de mantenimiento\n",
        "df <- df %>%\n",
        "  group_by(equipment) %>%\n",
        "  mutate(Cumulative_Maintenance_Cost = cumsum(parts_cost))"
      ],
      "metadata": {
        "id": "_eN_OS-pa8be"
      },
      "execution_count": null,
      "outputs": []
    },
    {
      "cell_type": "code",
      "source": [
        "# Establecer una semilla para reproducibilidad\n",
        "set.seed(123)\n",
        "\n",
        "# Definir proporciones para entrenamiento, validación y prueba\n",
        "train_proportion <- 0.70\n",
        "validation_proportion <- 0.20\n",
        "test_proportion <- 0.10\n",
        "\n",
        "# Calcular tamaños de cada conjunto\n",
        "n <- nrow(df)\n",
        "n_train <- floor(train_proportion * n)\n",
        "n_validation <- floor(validation_proportion * n)\n",
        "n_test <- n - n_train - n_validation  # El resto para prueba\n",
        "\n",
        "# Crear índices para conjunto de entrenamiento, validación y prueba\n",
        "trainIndex <- sample(1:n, n_train)\n",
        "remaining <- setdiff(1:n, trainIndex)\n",
        "validationIndex <- sample(remaining, n_validation)\n",
        "testIndex <- setdiff(remaining, validationIndex)\n",
        "\n",
        "# Crear conjuntos de entrenamiento, validación y prueba\n",
        "train_data2 <- df[trainIndex, ]\n",
        "validation_data2 <- df[validationIndex, ]\n",
        "test_data2 <- df[testIndex, ]\n",
        "\n",
        "# Comprobar las dimensiones de cada conjunto\n",
        "cat(\"Dimensiones del conjunto de entrenamiento: \", dim(train_data2), \"\\n\")\n",
        "cat(\"Dimensiones del conjunto de validación: \", dim(validation_data2), \"\\n\")\n",
        "cat(\"Dimensiones del conjunto de prueba: \", dim(test_data2), \"\\n\")"
      ],
      "metadata": {
        "id": "FBoXjtNkA6bP"
      },
      "execution_count": null,
      "outputs": []
    },
    {
      "cell_type": "markdown",
      "source": [
        "**GLM PARA PREDECIR DOWNTIME CON MAS VARIABLES**"
      ],
      "metadata": {
        "id": "wNC721DunCQG"
      }
    },
    {
      "cell_type": "code",
      "source": [
        "# Inicializar y ajustar el modelo de regresión lineal\n",
        "start_time <- Sys.time()\n",
        "model2 <- glm(downtime_gross~. -equipment -downtime_gross -date -changed_pcs, data = train_data2)\n",
        "end_time <- Sys.time()\n",
        "training_time2 <- end_time - start_time\n",
        "training_time2\n",
        "# Resumen del modelo\n",
        "summary(model2)"
      ],
      "metadata": {
        "id": "qtPJcI7SifTV"
      },
      "execution_count": null,
      "outputs": []
    },
    {
      "cell_type": "code",
      "source": [
        "# Predecir con el conjunto de validación\n",
        "validation_predictions <- predict(model2, newdata = validation_data2)\n",
        "\n",
        "# Calcular métricas de rendimiento para el conjunto de validación\n",
        "validation_actuals <- validation_data2$downtime_gross\n",
        "validation_rmse <- sqrt(mean((validation_predictions - validation_actuals)^2))\n",
        "validation_mae <- mean(abs(validation_predictions - validation_actuals))\n",
        "validation_r2 <- 1 - (sum((validation_predictions - validation_actuals)^2) / sum((validation_actuals - mean(validation_actuals))^2))\n",
        "\n",
        "cat(\"Validation RMSE: \", validation_rmse, \"\\n\")\n",
        "cat(\"Validation MAE: \", validation_mae, \"\\n\")\n",
        "cat(\"Validation R-squared: \", validation_r2, \"\\n\")"
      ],
      "metadata": {
        "id": "-HpUEi9YoJWH"
      },
      "execution_count": null,
      "outputs": []
    },
    {
      "cell_type": "code",
      "source": [
        "# Predecir con el conjunto de prueba (ya calculado, pero repitiendo para claridad)\n",
        "test_predictions <- predict(model2, newdata = test_data2)\n",
        "\n",
        "# Calcular métricas de rendimiento para el conjunto de prueba\n",
        "test_actuals <- test_data2$downtime_gross\n",
        "test_rmse <- sqrt(mean((test_predictions - test_actuals)^2))\n",
        "test_mae <- mean(abs(test_predictions - test_actuals))\n",
        "test_r2 <- 1 - (sum((test_predictions - test_actuals)^2) / sum((test_actuals - mean(test_actuals))^2))\n",
        "\n",
        "cat(\"Test RMSE: \", test_rmse, \"\\n\")\n",
        "cat(\"Test MAE: \", test_mae, \"\\n\")\n",
        "cat(\"Test R-squared: \", test_r2, \"\\n\")"
      ],
      "metadata": {
        "id": "-IOvIixsi0DY"
      },
      "execution_count": null,
      "outputs": []
    },
    {
      "cell_type": "markdown",
      "source": [
        "**MODELO AGREGANDO LA VARIABLE \"MACHINE AGE\"**"
      ],
      "metadata": {
        "id": "ErY-VFlBe-jz"
      }
    },
    {
      "cell_type": "code",
      "source": [
        "# Renombrar la columna 'Equipment' a 'equipment' en df_age\n",
        "df_age <- df_age %>% rename(equipment = Equipment)"
      ],
      "metadata": {
        "id": "5PLrak9YefvC"
      },
      "execution_count": null,
      "outputs": []
    },
    {
      "cell_type": "code",
      "source": [
        "df_merged <- df %>%\n",
        "  left_join(df_age %>% select(equipment, Age), by = \"equipment\")"
      ],
      "metadata": {
        "id": "rHg8j3dFNYjP"
      },
      "execution_count": null,
      "outputs": []
    },
    {
      "cell_type": "code",
      "source": [
        "head(df_merged,3)"
      ],
      "metadata": {
        "id": "IZsr48KyNdqq"
      },
      "execution_count": null,
      "outputs": []
    },
    {
      "cell_type": "code",
      "source": [
        "# Establecer una semilla para reproducibilidad\n",
        "set.seed(123)\n",
        "\n",
        "# Definir proporciones para entrenamiento, validación y prueba\n",
        "train_proportion <- 0.70\n",
        "validation_proportion <- 0.20\n",
        "test_proportion <- 0.10\n",
        "\n",
        "# Calcular tamaños de cada conjunto\n",
        "n <- nrow(df_merged)\n",
        "n_train <- floor(train_proportion * n)\n",
        "n_validation <- floor(validation_proportion * n)\n",
        "n_test <- n - n_train - n_validation  # El resto para prueba\n",
        "\n",
        "# Crear índices para conjunto de entrenamiento, validación y prueba\n",
        "trainIndex <- sample(1:n, n_train)\n",
        "remaining <- setdiff(1:n, trainIndex)\n",
        "validationIndex <- sample(remaining, n_validation)\n",
        "testIndex <- setdiff(remaining, validationIndex)\n",
        "\n",
        "# Crear conjuntos de entrenamiento, validación y prueba\n",
        "train_data3 <- df_merged[trainIndex, ]\n",
        "validation_data3 <- df_merged[validationIndex, ]\n",
        "test_data3 <- df_merged[testIndex, ]\n",
        "\n",
        "# Comprobar las dimensiones de cada conjunto\n",
        "cat(\"Dimensiones del conjunto de entrenamiento: \", dim(train_data3), \"\\n\")\n",
        "cat(\"Dimensiones del conjunto de validación: \", dim(validation_data3), \"\\n\")\n",
        "cat(\"Dimensiones del conjunto de prueba: \", dim(test_data3), \"\\n\")"
      ],
      "metadata": {
        "id": "zs19kaCzA-Kg"
      },
      "execution_count": null,
      "outputs": []
    },
    {
      "cell_type": "code",
      "source": [
        "# Inicializar y ajustar el modelo de regresión lineal\n",
        "start_time <- Sys.time()\n",
        "model3 <- glm(downtime_gross~. -equipment -downtime_gross -date -changed_pcs, data = train_data3)\n",
        "end_time <- Sys.time()\n",
        "training_time3 <- end_time - start_time\n",
        "training_time3\n",
        "# Resumen del modelo\n",
        "summary(model3)"
      ],
      "metadata": {
        "id": "DS8CsC2lN-GX"
      },
      "execution_count": null,
      "outputs": []
    },
    {
      "cell_type": "code",
      "source": [
        "# Predecir con el conjunto de validación\n",
        "validation_predictions <- predict(model3, newdata = validation_data3)\n",
        "\n",
        "# Calcular métricas de rendimiento para el conjunto de validación\n",
        "validation_actuals <- validation_data3$downtime_gross\n",
        "validation_rmse <- sqrt(mean((validation_predictions - validation_actuals)^2))\n",
        "validation_mae <- mean(abs(validation_predictions - validation_actuals))\n",
        "validation_r2 <- 1 - (sum((validation_predictions - validation_actuals)^2) / sum((validation_actuals - mean(validation_actuals))^2))\n",
        "\n",
        "cat(\"Validation RMSE: \", validation_rmse, \"\\n\")\n",
        "cat(\"Validation MAE: \", validation_mae, \"\\n\")\n",
        "cat(\"Validation R-squared: \", validation_r2, \"\\n\")"
      ],
      "metadata": {
        "id": "vpOsVMZDlDh4"
      },
      "execution_count": null,
      "outputs": []
    },
    {
      "cell_type": "code",
      "source": [
        "# Predecir con el conjunto de prueba\n",
        "test_predictions <- predict(model3, newdata = test_data3)\n",
        "\n",
        "# Calcular métricas de rendimiento para el conjunto de prueba\n",
        "test_actuals <- test_data3$downtime_gross\n",
        "test_rmse <- sqrt(mean((test_predictions - test_actuals)^2))\n",
        "test_mae <- mean(abs(test_predictions - test_actuals))\n",
        "test_r2 <- 1 - (sum((test_predictions - test_actuals)^2) / sum((test_actuals - mean(test_actuals))^2))\n",
        "\n",
        "cat(\"Test RMSE: \", test_rmse, \"\\n\")\n",
        "cat(\"Test MAE: \", test_mae, \"\\n\")\n",
        "cat(\"Test R-squared: \", test_r2, \"\\n\")"
      ],
      "metadata": {
        "id": "73En3KOdoiE8"
      },
      "execution_count": null,
      "outputs": []
    },
    {
      "cell_type": "markdown",
      "source": [
        "**MODELO AGREGANDO LA VARIABLE \"MECHANIC ANTIQUITY\"**"
      ],
      "metadata": {
        "id": "968bHyzjftyD"
      }
    },
    {
      "cell_type": "code",
      "source": [
        "# Primero, calcula la media de antiquity\n",
        "mean_antiquity <- mean(df_mechanic$antiquity, na.rm = TRUE)\n",
        "\n",
        "# Realiza el left join y luego reemplaza los NA en antiquity con la media calculada\n",
        "df_merged2 <- df_merged %>%\n",
        "  left_join(df_mechanic %>% select(mechanic, antiquity), by = \"mechanic\") %>%\n",
        "  mutate(antiquity = ifelse(is.na(antiquity), mean_antiquity, antiquity))"
      ],
      "metadata": {
        "id": "2laPktQUf02l"
      },
      "execution_count": null,
      "outputs": []
    },
    {
      "cell_type": "code",
      "source": [
        "# Establecer una semilla para reproducibilidad\n",
        "set.seed(123)\n",
        "\n",
        "# Definir proporciones para entrenamiento, validación y prueba\n",
        "train_proportion <- 0.70\n",
        "validation_proportion <- 0.20\n",
        "test_proportion <- 0.10\n",
        "\n",
        "# Calcular tamaños de cada conjunto\n",
        "n <- nrow(df_merged2)\n",
        "n_train <- floor(train_proportion * n)\n",
        "n_validation <- floor(validation_proportion * n)\n",
        "n_test <- n - n_train - n_validation  # El resto para prueba\n",
        "\n",
        "# Crear índices para conjunto de entrenamiento, validación y prueba\n",
        "trainIndex <- sample(1:n, n_train)\n",
        "remaining <- setdiff(1:n, trainIndex)\n",
        "validationIndex <- sample(remaining, n_validation)\n",
        "testIndex <- setdiff(remaining, validationIndex)\n",
        "\n",
        "# Crear conjuntos de entrenamiento, validación y prueba\n",
        "train_data4 <- df_merged2[trainIndex, ]\n",
        "validation_data4 <- df_merged2[validationIndex, ]\n",
        "test_data4 <- df_merged2[testIndex, ]\n",
        "\n",
        "# Comprobar las dimensiones de cada conjunto\n",
        "cat(\"Dimensiones del conjunto de entrenamiento: \", dim(train_data4), \"\\n\")\n",
        "cat(\"Dimensiones del conjunto de validación: \", dim(validation_data4), \"\\n\")\n",
        "cat(\"Dimensiones del conjunto de prueba: \", dim(test_data4), \"\\n\")"
      ],
      "metadata": {
        "id": "ETZVlhyyFKos"
      },
      "execution_count": null,
      "outputs": []
    },
    {
      "cell_type": "code",
      "source": [
        "# Inicializar y ajustar el modelo de regresión lineal\n",
        "start_time <- Sys.time()\n",
        "model4 <- glm(downtime_gross~. -equipment -downtime_gross -date -changed_pcs, data = train_data4)\n",
        "end_time <- Sys.time()\n",
        "training_time4 <- end_time - start_time\n",
        "training_time4\n",
        "# Resumen del modelo\n",
        "summary(model4)"
      ],
      "metadata": {
        "id": "XfsJj_wGgai2"
      },
      "execution_count": null,
      "outputs": []
    },
    {
      "cell_type": "code",
      "source": [
        "# Predecir con el conjunto de validación\n",
        "validation_predictions <- predict(model4, newdata = validation_data4)\n",
        "\n",
        "# Calcular métricas de rendimiento para el conjunto de validación\n",
        "validation_actuals <- validation_data4$downtime_gross\n",
        "validation_rmse <- sqrt(mean((validation_predictions - validation_actuals)^2))\n",
        "validation_mae <- mean(abs(validation_predictions - validation_actuals))\n",
        "validation_r2 <- 1 - (sum((validation_predictions - validation_actuals)^2) / sum((validation_actuals - mean(validation_actuals))^2))\n",
        "\n",
        "cat(\"Validation RMSE: \", validation_rmse, \"\\n\")\n",
        "cat(\"Validation MAE: \", validation_mae, \"\\n\")\n",
        "cat(\"Validation R-squared: \", validation_r2, \"\\n\")"
      ],
      "metadata": {
        "id": "GWU-54fxleFf"
      },
      "execution_count": null,
      "outputs": []
    },
    {
      "cell_type": "code",
      "source": [
        "# Predecir con el conjunto de prueba\n",
        "test_predictions <- predict(model4, newdata = test_data4)\n",
        "\n",
        "# Calcular métricas de rendimiento para el conjunto de prueba\n",
        "test_actuals <- test_data4$downtime_gross\n",
        "test_rmse <- sqrt(mean((test_predictions - test_actuals)^2))\n",
        "test_mae <- mean(abs(test_predictions - test_actuals))\n",
        "test_r2 <- 1 - (sum((test_predictions - test_actuals)^2) / sum((test_actuals - mean(test_actuals))^2))\n",
        "\n",
        "cat(\"Test RMSE: \", test_rmse, \"\\n\")\n",
        "cat(\"Test MAE: \", test_mae, \"\\n\")\n",
        "cat(\"Test R-squared: \", test_r2, \"\\n\")"
      ],
      "metadata": {
        "id": "DQwBA8cpo0F5"
      },
      "execution_count": null,
      "outputs": []
    },
    {
      "cell_type": "markdown",
      "source": [
        "**AGREGANDO LA VARIABLE \"CHANGED_PCS\"**"
      ],
      "metadata": {
        "id": "XnWazNAqyWIL"
      }
    },
    {
      "cell_type": "code",
      "source": [
        "# Inicializar y ajustar el modelo de regresión lineal\n",
        "start_time <- Sys.time()\n",
        "model5 <- glm(downtime_gross~. -equipment -downtime_gross -date -antiquity, data = train_data4)\n",
        "end_time <- Sys.time()\n",
        "training_time5 <- end_time - start_time\n",
        "training_time5\n",
        "# Resumen del modelo\n",
        "summary(model5)"
      ],
      "metadata": {
        "id": "vIodXx7Uycls"
      },
      "execution_count": null,
      "outputs": []
    },
    {
      "cell_type": "code",
      "source": [
        "# Predecir con el conjunto de validación\n",
        "validation_predictions <- predict(model5, newdata = validation_data4)\n",
        "\n",
        "# Calcular métricas de rendimiento para el conjunto de validación\n",
        "validation_actuals <- validation_data4$downtime_gross\n",
        "validation_rmse <- sqrt(mean((validation_predictions - validation_actuals)^2))\n",
        "validation_mae <- mean(abs(validation_predictions - validation_actuals))\n",
        "validation_r2 <- 1 - (sum((validation_predictions - validation_actuals)^2) / sum((validation_actuals - mean(validation_actuals))^2))\n",
        "\n",
        "cat(\"Validation RMSE: \", validation_rmse, \"\\n\")\n",
        "cat(\"Validation MAE: \", validation_mae, \"\\n\")\n",
        "cat(\"Validation R-squared: \", validation_r2, \"\\n\")"
      ],
      "metadata": {
        "id": "9O5RaE6SlxJ3"
      },
      "execution_count": null,
      "outputs": []
    },
    {
      "cell_type": "code",
      "source": [
        "# Predecir con el conjunto de prueba\n",
        "test_predictions <- predict(model5, newdata = test_data4)\n",
        "\n",
        "# Calcular métricas de rendimiento para el conjunto de prueba\n",
        "test_actuals <- test_data4$downtime_gross\n",
        "test_rmse <- sqrt(mean((test_predictions - test_actuals)^2))\n",
        "test_mae <- mean(abs(test_predictions - test_actuals))\n",
        "test_r2 <- 1 - (sum((test_predictions - test_actuals)^2) / sum((test_actuals - mean(test_actuals))^2))\n",
        "\n",
        "cat(\"Test RMSE: \", test_rmse, \"\\n\")\n",
        "cat(\"Test MAE: \", test_mae, \"\\n\")\n",
        "cat(\"Test R-squared: \", test_r2, \"\\n\")"
      ],
      "metadata": {
        "id": "ic2JDabuo4rj"
      },
      "execution_count": null,
      "outputs": []
    },
    {
      "cell_type": "markdown",
      "source": [
        "**IMPLEMENTACION DE FRONTWARD**"
      ],
      "metadata": {
        "id": "5xptOdwWQmL8"
      }
    },
    {
      "cell_type": "code",
      "source": [
        "sapply(df_merged2, function(x) sum(is.na(x)))"
      ],
      "metadata": {
        "id": "1TRzX0pOixHq"
      },
      "execution_count": null,
      "outputs": []
    },
    {
      "cell_type": "code",
      "source": [
        "# Realizar frontward elimination\n",
        "model_null <- lm(downtime_gross ~ 1, data = train_data4)\n",
        "model_forward <- step(model_null,\n",
        "                      scope = list(lower = model_null, upper = model5),\n",
        "                      direction = \"forward\")\n",
        "model_forward$anova"
      ],
      "metadata": {
        "id": "ZbC7KyFYuvs8"
      },
      "execution_count": null,
      "outputs": []
    },
    {
      "cell_type": "code",
      "source": [
        "formula = as.formula(\"downtime_gross ~ changed_pcs + mechanic + operation +\n",
        "    cause_desc + Cumulative_Maintenance_Cost + base_model + Days_Between_Failures +\n",
        "    failure_desc + problem_desc + action_desc + Age + Cumulative_Failure_Count\")"
      ],
      "metadata": {
        "id": "lAcnoWbu6hlH"
      },
      "execution_count": null,
      "outputs": []
    },
    {
      "cell_type": "code",
      "source": [
        "# Inicializar y ajustar el modelo de regresión lineal\n",
        "start_time <- Sys.time()\n",
        "model6 <- glm(formula = formula, data = train_data4)\n",
        "end_time <- Sys.time()\n",
        "training_time6 <- end_time - start_time\n",
        "training_time6\n",
        "# Resumen del modelo\n",
        "summary(model6)"
      ],
      "metadata": {
        "id": "B7rr4Ydn6qlM"
      },
      "execution_count": null,
      "outputs": []
    },
    {
      "cell_type": "code",
      "source": [
        "# Predecir con el conjunto de prueba\n",
        "test_predictions <- predict(model6, newdata = test_data4)\n",
        "\n",
        "# Calcular métricas de rendimiento para el conjunto de prueba\n",
        "test_actuals <- test_data4$downtime_gross\n",
        "test_rmse <- sqrt(mean((test_predictions - test_actuals)^2))\n",
        "test_mae <- mean(abs(test_predictions - test_actuals))\n",
        "test_r2 <- 1 - (sum((test_predictions - test_actuals)^2) / sum((test_actuals - mean(test_actuals))^2))\n",
        "\n",
        "cat(\"Test RMSE: \", test_rmse, \"\\n\")\n",
        "cat(\"Test MAE: \", test_mae, \"\\n\")\n",
        "cat(\"Test R-squared: \", test_r2, \"\\n\")"
      ],
      "metadata": {
        "id": "VOQy3450jlAn"
      },
      "execution_count": null,
      "outputs": []
    },
    {
      "cell_type": "code",
      "source": [
        "# Extraer los residuos del modelo\n",
        "residuos <- residuals(model6)"
      ],
      "metadata": {
        "id": "uugID0EuCQmg"
      },
      "execution_count": null,
      "outputs": []
    },
    {
      "cell_type": "code",
      "source": [
        "# Gráfico Q-Q de los residuos\n",
        "qqnorm(residuos)\n",
        "qqline(residuos, col = \"red\")"
      ],
      "metadata": {
        "id": "AgVHzyaDPARi"
      },
      "execution_count": null,
      "outputs": []
    },
    {
      "cell_type": "markdown",
      "source": [
        "**MODELO RANDOM FOREST**"
      ],
      "metadata": {
        "id": "OM-Tf0kOOcvI"
      }
    },
    {
      "cell_type": "code",
      "source": [
        "# Entrenar el modelo de Random Forest\n",
        "start_time <- Sys.time()\n",
        "model_rf <- randomForest(downtime_gross~. -equipment -downtime_gross -date -antiquity, data = train_data4, importance = TRUE)\n",
        "end_time <- Sys.time()\n",
        "training_time7 <- end_time - start_time\n",
        "training_time7\n",
        "# Ver el resumen del modelo\n",
        "print(model_rf)"
      ],
      "metadata": {
        "id": "0roJOM6JO0NF"
      },
      "execution_count": null,
      "outputs": []
    },
    {
      "cell_type": "code",
      "source": [
        "# Predecir con el conjunto de validación\n",
        "validation_predictions <- predict(model_rf, newdata = validation_data4)\n",
        "\n",
        "# Calcular métricas de rendimiento para el conjunto de validación\n",
        "validation_actuals <- validation_data4$downtime_gross\n",
        "validation_rmse <- sqrt(mean((validation_predictions - validation_actuals)^2))\n",
        "validation_mae <- mean(abs(validation_predictions - validation_actuals))\n",
        "validation_r2 <- 1 - (sum((validation_predictions - validation_actuals)^2) / sum((validation_actuals - mean(validation_actuals))^2))\n",
        "\n",
        "cat(\"Validation RMSE: \", validation_rmse, \"\\n\")\n",
        "cat(\"Validation MAE: \", validation_mae, \"\\n\")\n",
        "cat(\"Validation R-squared: \", validation_r2, \"\\n\")"
      ],
      "metadata": {
        "id": "hs7KBmdpmJ0E"
      },
      "execution_count": null,
      "outputs": []
    },
    {
      "cell_type": "code",
      "source": [
        "# Predecir con el conjunto de prueba\n",
        "test_predictions <- predict(model_rf, newdata = test_data4)\n",
        "\n",
        "# Calcular métricas de rendimiento para el conjunto de prueba\n",
        "test_actuals <- test_data4$downtime_gross\n",
        "test_rmse <- sqrt(mean((test_predictions - test_actuals)^2))\n",
        "test_mae <- mean(abs(test_predictions - test_actuals))\n",
        "test_r2 <- 1 - (sum((test_predictions - test_actuals)^2) / sum((test_actuals - mean(test_actuals))^2))\n",
        "\n",
        "cat(\"Test RMSE: \", test_rmse, \"\\n\")\n",
        "cat(\"Test MAE: \", test_mae, \"\\n\")\n",
        "cat(\"Test R-squared: \", test_r2, \"\\n\")"
      ],
      "metadata": {
        "id": "MP63sdpdPIOU"
      },
      "execution_count": null,
      "outputs": []
    },
    {
      "cell_type": "code",
      "source": [
        "residuals <- test_data4$downtime_gross - test_predictions"
      ],
      "metadata": {
        "id": "_gFI84ZeSqra"
      },
      "execution_count": null,
      "outputs": []
    },
    {
      "cell_type": "code",
      "source": [
        "# Crear el Q-Q plot de los residuos en la escala logarítmica\n",
        "qqnorm(residuals)\n",
        "qqline(residuals, col = \"red\")"
      ],
      "metadata": {
        "id": "o8zC2XTgTOp6"
      },
      "execution_count": null,
      "outputs": []
    },
    {
      "cell_type": "code",
      "source": [
        "# Ver la importancia de las variables\n",
        "importance(model_rf)\n",
        "varImpPlot(model_rf)"
      ],
      "metadata": {
        "id": "xO0MWbdKTWzK"
      },
      "execution_count": null,
      "outputs": []
    },
    {
      "cell_type": "code",
      "source": [
        "install.packages(\"nortest\")\n",
        "library(nortest)"
      ],
      "metadata": {
        "id": "_ve3RmgRHrBQ"
      },
      "execution_count": null,
      "outputs": []
    },
    {
      "cell_type": "code",
      "source": [
        "ad_test <- ad.test(residuals)\n",
        "print(ad_test)"
      ],
      "metadata": {
        "id": "zQaCJIyWHteM"
      },
      "execution_count": null,
      "outputs": []
    },
    {
      "cell_type": "code",
      "source": [
        "formula2 = as.formula(\"downtime_gross ~ changed_pcs*mechanic + operation +\n",
        "    cause_desc + action_desc + Cumulative_Maintenance_Cost + problem_desc +\n",
        "    failure_desc + base_model + Days_Between_Failures +\n",
        "    Age + Cumulative_Failure_Count\")"
      ],
      "metadata": {
        "id": "qmYCa3-xAbEE"
      },
      "execution_count": null,
      "outputs": []
    },
    {
      "cell_type": "code",
      "source": [
        "# Inicializar y ajustar el modelo de regresión lineal\n",
        "# Medir el tiempo de entrenamiento\n",
        "start_time <- Sys.time()\n",
        "model7 <- glm(formula = formula2, data = train_data4)\n",
        "end_time <- Sys.time()\n",
        "training_time8 <- end_time - start_time\n",
        "training_time8\n",
        "# Resumen del modelo\n",
        "summary(model7)"
      ],
      "metadata": {
        "id": "HJDL4i5YAdPU"
      },
      "execution_count": null,
      "outputs": []
    },
    {
      "cell_type": "code",
      "source": [
        "# Predecir con el conjunto de prueba\n",
        "test_predictions <- predict(model7, newdata = test_data4)\n",
        "\n",
        "# Calcular métricas de rendimiento para el conjunto de prueba\n",
        "test_actuals <- test_data4$downtime_gross\n",
        "test_rmse <- sqrt(mean((test_predictions - test_actuals)^2))\n",
        "test_mae <- mean(abs(test_predictions - test_actuals))\n",
        "test_r2 <- 1 - (sum((test_predictions - test_actuals)^2) / sum((test_actuals - mean(test_actuals))^2))\n",
        "\n",
        "cat(\"Test RMSE: \", test_rmse, \"\\n\")\n",
        "cat(\"Test MAE: \", test_mae, \"\\n\")\n",
        "cat(\"Test R-squared: \", test_r2, \"\\n\")"
      ],
      "metadata": {
        "id": "tCNDmCBOCBBo"
      },
      "execution_count": null,
      "outputs": []
    },
    {
      "cell_type": "code",
      "source": [
        "# Predecir con el conjunto de validación\n",
        "validation_predictions <- predict(model7, newdata = validation_data4)\n",
        "\n",
        "# Calcular métricas de rendimiento para el conjunto de validación\n",
        "validation_actuals <- validation_data4$downtime_gross\n",
        "validation_rmse <- sqrt(mean((validation_predictions - validation_actuals)^2))\n",
        "validation_mae <- mean(abs(validation_predictions - validation_actuals))\n",
        "validation_r2 <- 1 - (sum((validation_predictions - validation_actuals)^2) / sum((validation_actuals - mean(validation_actuals))^2))\n",
        "\n",
        "cat(\"Validation RMSE: \", validation_rmse, \"\\n\")\n",
        "cat(\"Validation MAE: \", validation_mae, \"\\n\")\n",
        "cat(\"Validation R-squared: \", validation_r2, \"\\n\")"
      ],
      "metadata": {
        "id": "l9oyd3D9B9nH"
      },
      "execution_count": null,
      "outputs": []
    },
    {
      "cell_type": "code",
      "source": [
        "# Suponiendo que `train_errors` y `val_errors` contienen los errores de entrenamiento y validación\n",
        "plt.plot(train_sizes, train_errors, label='Entrenamiento')\n",
        "plt.plot(train_sizes, val_errors, label='Validación')\n",
        "plt.xlabel('Tamaño del conjunto de entrenamiento')\n",
        "plt.ylabel('Error')\n",
        "plt.legend()\n",
        "plt.show()"
      ],
      "metadata": {
        "id": "gVmaKHPugfNC"
      },
      "execution_count": null,
      "outputs": []
    },
    {
      "cell_type": "code",
      "source": [
        "train_sizes <- seq(0.1, 1.0, by = 0.1)\n",
        "train_errors <- c()\n",
        "validation_errors <- c()"
      ],
      "metadata": {
        "id": "5EqYW-b1DT_c"
      },
      "execution_count": null,
      "outputs": []
    },
    {
      "cell_type": "code",
      "source": [
        "for (size in train_sizes) {\n",
        "    sample_index <- sample(1:nrow(train_data4), size = size * nrow(train_data4))\n",
        "    train_subset <- train_data4[sample_index, ]\n",
        "\n",
        "    model_rf <- randomForest(downtime_gross~. -equipment -downtime_gross -date -antiquity, data = train_subset, importance = TRUE)\n",
        "\n",
        "    # Errores en el conjunto de entrenamiento\n",
        "    train_predictions <- predict(model_rf, newdata = train_subset)\n",
        "    train_rmse <- sqrt(mean((train_predictions - train_subset$downtime_gross)^2))\n",
        "    train_errors <- c(train_errors, train_rmse)\n",
        "\n",
        "    # Errores en el conjunto de validación\n",
        "    validation_predictions <- predict(model_rf, newdata = validation_data4)\n",
        "    validation_rmse <- sqrt(mean((validation_predictions - validation_data4$downtime_gross)^2))\n",
        "    validation_errors <- c(validation_errors, validation_rmse)\n",
        "}"
      ],
      "metadata": {
        "id": "jgLPHSuXFN2N"
      },
      "execution_count": null,
      "outputs": []
    },
    {
      "cell_type": "code",
      "source": [
        "learning_curve_data <- data.frame(\n",
        "    Train_Size = train_sizes * nrow(train_data4),\n",
        "    Train_RMSE = train_errors,\n",
        "    Validation_RMSE = validation_errors\n",
        ")"
      ],
      "metadata": {
        "id": "YR6I5v1lFQF2"
      },
      "execution_count": null,
      "outputs": []
    },
    {
      "cell_type": "code",
      "source": [
        "ggplot(learning_curve_data, aes(x = Train_Size)) +\n",
        "    geom_line(aes(y = Train_RMSE, color = \"Train RMSE\")) +\n",
        "    geom_line(aes(y = Validation_RMSE, color = \"Validation RMSE\")) +\n",
        "    labs(title = \"Curvas de Aprendizaje para Random Forest\",\n",
        "         x = \"Tamaño del conjunto de entrenamiento\",\n",
        "         y = \"RMSE\") +\n",
        "    scale_color_manual(values = c(\"Train RMSE\" = \"blue\", \"Validation RMSE\" = \"red\")) +\n",
        "    theme_minimal()\n"
      ],
      "metadata": {
        "id": "6eXKluZbFR2m"
      },
      "execution_count": null,
      "outputs": []
    },
    {
      "cell_type": "code",
      "source": [],
      "metadata": {
        "id": "MVrtKu96PKNp"
      },
      "execution_count": null,
      "outputs": []
    }
  ]
}