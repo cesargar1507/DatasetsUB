{
  "nbformat": 4,
  "nbformat_minor": 0,
  "metadata": {
    "colab": {
      "provenance": []
    },
    "kernelspec": {
      "name": "ir",
      "display_name": "R"
    },
    "language_info": {
      "name": "R"
    }
  },
  "cells": [
    {
      "cell_type": "markdown",
      "source": [
        "**Alumno:** César Emilio García Ávalos\n",
        "\n",
        "**Actividad:** M5_AI1_Modelo lineal Gaussiano"
      ],
      "metadata": {
        "id": "WAVuT--BYKiJ"
      }
    },
    {
      "cell_type": "code",
      "execution_count": null,
      "metadata": {
        "colab": {
          "base_uri": "https://localhost:8080/"
        },
        "id": "NXvNrUprHSkt",
        "outputId": "5d3da190-89c3-4a74-fd5d-f16115661635"
      },
      "outputs": [
        {
          "output_type": "stream",
          "name": "stderr",
          "text": [
            "Installing package into ‘/usr/local/lib/R/site-library’\n",
            "(as ‘lib’ is unspecified)\n",
            "\n",
            "Installing package into ‘/usr/local/lib/R/site-library’\n",
            "(as ‘lib’ is unspecified)\n",
            "\n"
          ]
        }
      ],
      "source": [
        "library(readr)\n",
        "library(tidyr)\n",
        "library(dplyr)\n",
        "install.packages(\"car\")\n",
        "library(car)\n",
        "install.packages(\"broom\")\n",
        "library(broom)\n",
        "data(Salaries)"
      ]
    },
    {
      "cell_type": "code",
      "source": [
        "summary(Salaries)"
      ],
      "metadata": {
        "id": "gZ09sfR8yd7T",
        "outputId": "564d546e-cf56-49e5-9095-c43cea028bcb",
        "colab": {
          "base_uri": "https://localhost:8080/",
          "height": 260
        }
      },
      "execution_count": null,
      "outputs": [
        {
          "output_type": "display_data",
          "data": {
            "text/plain": [
              "        rank     discipline yrs.since.phd    yrs.service        sex     \n",
              " AsstProf : 67   A:181      Min.   : 1.00   Min.   : 0.00   Female: 39  \n",
              " AssocProf: 64   B:216      1st Qu.:12.00   1st Qu.: 7.00   Male  :358  \n",
              " Prof     :266              Median :21.00   Median :16.00               \n",
              "                            Mean   :22.31   Mean   :17.61               \n",
              "                            3rd Qu.:32.00   3rd Qu.:27.00               \n",
              "                            Max.   :56.00   Max.   :60.00               \n",
              "     salary      \n",
              " Min.   : 57800  \n",
              " 1st Qu.: 91000  \n",
              " Median :107300  \n",
              " Mean   :113706  \n",
              " 3rd Qu.:134185  \n",
              " Max.   :231545  "
            ]
          },
          "metadata": {}
        }
      ]
    },
    {
      "cell_type": "code",
      "source": [
        "str(Salaries)"
      ],
      "metadata": {
        "id": "b7FYS2iGC9Oj",
        "outputId": "1e8adcfe-18e2-4627-92b5-a80ddd38be80",
        "colab": {
          "base_uri": "https://localhost:8080/"
        }
      },
      "execution_count": null,
      "outputs": [
        {
          "output_type": "stream",
          "name": "stdout",
          "text": [
            "'data.frame':\t397 obs. of  8 variables:\n",
            " $ rank         : Factor w/ 3 levels \"AsstProf\",\"AssocProf\",..: 3 3 1 3 3 2 3 3 3 3 ...\n",
            " $ discipline   : Factor w/ 2 levels \"A\",\"B\": 2 2 2 2 2 2 2 2 2 2 ...\n",
            " $ yrs.since.phd: int  19 20 4 45 40 6 30 45 21 18 ...\n",
            " $ yrs.service  : int  18 16 3 39 41 6 23 45 20 18 ...\n",
            " $ sex          : Factor w/ 2 levels \"Female\",\"Male\": 2 2 2 2 2 2 2 2 2 1 ...\n",
            " $ salary       : int  139750 173200 79750 115000 141500 97000 175000 147765 119250 129000 ...\n",
            " $ salary_miles : num  139.8 173.2 79.8 115 141.5 ...\n",
            " $ log_salary   : num  11.8 12.1 11.3 11.7 11.9 ...\n"
          ]
        }
      ]
    },
    {
      "cell_type": "markdown",
      "source": [
        "Se observa que no hay datos nulos, se procede a trabajar en el dataframe."
      ],
      "metadata": {
        "id": "omvgGAPpCuCs"
      }
    },
    {
      "cell_type": "code",
      "source": [
        "# Realizar la regresión lineal\n",
        "modelo1 <- lm(salary ~ yrs.service + yrs.since.phd, data = Salaries)\n",
        "\n",
        "# Resumen del modelo\n",
        "tidy(modelo1)\n",
        "summary(modelo1)"
      ],
      "metadata": {
        "id": "lf65JI4P6ntK",
        "outputId": "8114f798-bec2-43ac-b2f0-fdcf9f3f4967",
        "colab": {
          "base_uri": "https://localhost:8080/",
          "height": 522
        }
      },
      "execution_count": null,
      "outputs": [
        {
          "output_type": "display_data",
          "data": {
            "text/html": [
              "<table class=\"dataframe\">\n",
              "<caption>A tibble: 3 × 5</caption>\n",
              "<thead>\n",
              "\t<tr><th scope=col>term</th><th scope=col>estimate</th><th scope=col>std.error</th><th scope=col>statistic</th><th scope=col>p.value</th></tr>\n",
              "\t<tr><th scope=col>&lt;chr&gt;</th><th scope=col>&lt;dbl&gt;</th><th scope=col>&lt;dbl&gt;</th><th scope=col>&lt;dbl&gt;</th><th scope=col>&lt;dbl&gt;</th></tr>\n",
              "</thead>\n",
              "<tbody>\n",
              "\t<tr><td>(Intercept)  </td><td>89912.1845</td><td>2843.5599</td><td>31.619586</td><td>3.810703e-110</td></tr>\n",
              "\t<tr><td>yrs.service  </td><td> -629.1014</td><td> 254.4694</td><td>-2.472208</td><td> 1.384961e-02</td></tr>\n",
              "\t<tr><td>yrs.since.phd</td><td> 1562.8889</td><td> 256.8196</td><td> 6.085551</td><td> 2.753560e-09</td></tr>\n",
              "</tbody>\n",
              "</table>\n"
            ],
            "text/markdown": "\nA tibble: 3 × 5\n\n| term &lt;chr&gt; | estimate &lt;dbl&gt; | std.error &lt;dbl&gt; | statistic &lt;dbl&gt; | p.value &lt;dbl&gt; |\n|---|---|---|---|---|\n| (Intercept)   | 89912.1845 | 2843.5599 | 31.619586 | 3.810703e-110 |\n| yrs.service   |  -629.1014 |  254.4694 | -2.472208 |  1.384961e-02 |\n| yrs.since.phd |  1562.8889 |  256.8196 |  6.085551 |  2.753560e-09 |\n\n",
            "text/latex": "A tibble: 3 × 5\n\\begin{tabular}{lllll}\n term & estimate & std.error & statistic & p.value\\\\\n <chr> & <dbl> & <dbl> & <dbl> & <dbl>\\\\\n\\hline\n\t (Intercept)   & 89912.1845 & 2843.5599 & 31.619586 & 3.810703e-110\\\\\n\t yrs.service   &  -629.1014 &  254.4694 & -2.472208 &  1.384961e-02\\\\\n\t yrs.since.phd &  1562.8889 &  256.8196 &  6.085551 &  2.753560e-09\\\\\n\\end{tabular}\n",
            "text/plain": [
              "  term          estimate   std.error statistic p.value      \n",
              "1 (Intercept)   89912.1845 2843.5599 31.619586 3.810703e-110\n",
              "2 yrs.service    -629.1014  254.4694 -2.472208  1.384961e-02\n",
              "3 yrs.since.phd  1562.8889  256.8196  6.085551  2.753560e-09"
            ]
          },
          "metadata": {}
        },
        {
          "output_type": "display_data",
          "data": {
            "text/plain": [
              "\n",
              "Call:\n",
              "lm(formula = salary ~ yrs.service + yrs.since.phd, data = Salaries)\n",
              "\n",
              "Residuals:\n",
              "   Min     1Q Median     3Q    Max \n",
              "-79735 -19823  -2617  15149 106149 \n",
              "\n",
              "Coefficients:\n",
              "              Estimate Std. Error t value Pr(>|t|)    \n",
              "(Intercept)    89912.2     2843.6  31.620  < 2e-16 ***\n",
              "yrs.service     -629.1      254.5  -2.472   0.0138 *  \n",
              "yrs.since.phd   1562.9      256.8   6.086 2.75e-09 ***\n",
              "---\n",
              "Signif. codes:  0 ‘***’ 0.001 ‘**’ 0.01 ‘*’ 0.05 ‘.’ 0.1 ‘ ’ 1\n",
              "\n",
              "Residual standard error: 27360 on 394 degrees of freedom\n",
              "Multiple R-squared:  0.1883,\tAdjusted R-squared:  0.1842 \n",
              "F-statistic: 45.71 on 2 and 394 DF,  p-value: < 2.2e-16\n"
            ]
          },
          "metadata": {}
        }
      ]
    },
    {
      "cell_type": "code",
      "source": [
        "# Obtener los residuos del modelo\n",
        "residuos1 <- residuals(modelo)\n",
        "\n",
        "# Calcular la suma del cuadrado de los residuos\n",
        "RSS1 <- sum(residuos1^2)\n",
        "\n",
        "# Mostrar la suma del cuadrado de los residuos\n",
        "print(RSS1)"
      ],
      "metadata": {
        "id": "jQs7SwAnD5cA",
        "outputId": "e1c84ae0-c3c3-4590-a756-d343357e8356",
        "colab": {
          "base_uri": "https://localhost:8080/"
        }
      },
      "execution_count": null,
      "outputs": [
        {
          "output_type": "stream",
          "name": "stdout",
          "text": [
            "[1] 294874679053\n"
          ]
        }
      ]
    },
    {
      "cell_type": "markdown",
      "source": [
        "*Dirección inesperada del coeficiente de yrs.service: El signo negativo del coeficiente asociado a la variable yrs.service sugiere que, contrariamente a lo esperado, un aumento en un año de antigüedad se relaciona con una disminución en el salario en 629 dólares. Esto va en contra de la intuición común, que sugeriría que a medida que uno gana más experiencia, debería recibir una compensación salarial más alta. Este resultado podría indicar que hay otros factores no considerados en el modelo que están influyendo en esta relación.\n",
        "\n",
        "*Bajo coeficiente de determinación (R²): El coeficiente de determinación (R²) del modelo es bajo, lo que significa que solo aproximadamente el 18.8% de la variabilidad en el salario se explica por las variables predictoras incluidas en el modelo. Esto sugiere que el modelo no captura adecuadamente la variabilidad en el salario, y hay otras variables importantes que no están siendo consideradas.\n",
        "\n",
        "*Predictores estadísticamente significativos: A pesar del bajo R², los predictores (años de servicio y años desde el doctorado) son estadísticamente significativos (Pvalue es menor al nivel de significancia del 0.05 para ambas variables). Esto sugiere que, aunque el modelo no explica mucha variabilidad en el salario, las variables predictoras aún están asociadas de manera significativa con el salario."
      ],
      "metadata": {
        "id": "cilbtbb-Ezbg"
      }
    },
    {
      "cell_type": "code",
      "source": [
        "# Realizar la regresión lineal incluyendo el género\n",
        "modelo_con_genero <- lm(salary ~ yrs.service + yrs.since.phd + sex, data = Salaries)\n",
        "\n",
        "# Resumen del modelo\n",
        "tidy(modelo_con_genero)\n",
        "summary(modelo_con_genero)"
      ],
      "metadata": {
        "id": "bfDzJBXB656R",
        "outputId": "23a66251-0516-4b9e-ca58-718432042698",
        "colab": {
          "base_uri": "https://localhost:8080/",
          "height": 570
        }
      },
      "execution_count": null,
      "outputs": [
        {
          "output_type": "display_data",
          "data": {
            "text/html": [
              "<table class=\"dataframe\">\n",
              "<caption>A tibble: 4 × 5</caption>\n",
              "<thead>\n",
              "\t<tr><th scope=col>term</th><th scope=col>estimate</th><th scope=col>std.error</th><th scope=col>statistic</th><th scope=col>p.value</th></tr>\n",
              "\t<tr><th scope=col>&lt;chr&gt;</th><th scope=col>&lt;dbl&gt;</th><th scope=col>&lt;dbl&gt;</th><th scope=col>&lt;dbl&gt;</th><th scope=col>&lt;dbl&gt;</th></tr>\n",
              "</thead>\n",
              "<tbody>\n",
              "\t<tr><td>(Intercept)  </td><td>82875.9118</td><td>4800.6302</td><td>17.263548</td><td>4.194022e-50</td></tr>\n",
              "\t<tr><td>yrs.service  </td><td> -649.7608</td><td> 253.9850</td><td>-2.558264</td><td>1.089370e-02</td></tr>\n",
              "\t<tr><td>yrs.since.phd</td><td> 1552.7571</td><td> 256.1343</td><td> 6.062276</td><td>3.150384e-09</td></tr>\n",
              "\t<tr><td>sexMale      </td><td> 8457.0650</td><td>4656.1372</td><td> 1.816326</td><td>7.008205e-02</td></tr>\n",
              "</tbody>\n",
              "</table>\n"
            ],
            "text/markdown": "\nA tibble: 4 × 5\n\n| term &lt;chr&gt; | estimate &lt;dbl&gt; | std.error &lt;dbl&gt; | statistic &lt;dbl&gt; | p.value &lt;dbl&gt; |\n|---|---|---|---|---|\n| (Intercept)   | 82875.9118 | 4800.6302 | 17.263548 | 4.194022e-50 |\n| yrs.service   |  -649.7608 |  253.9850 | -2.558264 | 1.089370e-02 |\n| yrs.since.phd |  1552.7571 |  256.1343 |  6.062276 | 3.150384e-09 |\n| sexMale       |  8457.0650 | 4656.1372 |  1.816326 | 7.008205e-02 |\n\n",
            "text/latex": "A tibble: 4 × 5\n\\begin{tabular}{lllll}\n term & estimate & std.error & statistic & p.value\\\\\n <chr> & <dbl> & <dbl> & <dbl> & <dbl>\\\\\n\\hline\n\t (Intercept)   & 82875.9118 & 4800.6302 & 17.263548 & 4.194022e-50\\\\\n\t yrs.service   &  -649.7608 &  253.9850 & -2.558264 & 1.089370e-02\\\\\n\t yrs.since.phd &  1552.7571 &  256.1343 &  6.062276 & 3.150384e-09\\\\\n\t sexMale       &  8457.0650 & 4656.1372 &  1.816326 & 7.008205e-02\\\\\n\\end{tabular}\n",
            "text/plain": [
              "  term          estimate   std.error statistic p.value     \n",
              "1 (Intercept)   82875.9118 4800.6302 17.263548 4.194022e-50\n",
              "2 yrs.service    -649.7608  253.9850 -2.558264 1.089370e-02\n",
              "3 yrs.since.phd  1552.7571  256.1343  6.062276 3.150384e-09\n",
              "4 sexMale        8457.0650 4656.1372  1.816326 7.008205e-02"
            ]
          },
          "metadata": {}
        },
        {
          "output_type": "display_data",
          "data": {
            "text/plain": [
              "\n",
              "Call:\n",
              "lm(formula = salary ~ yrs.service + yrs.since.phd + sex, data = Salaries)\n",
              "\n",
              "Residuals:\n",
              "   Min     1Q Median     3Q    Max \n",
              "-79586 -19564  -3018  15071 105898 \n",
              "\n",
              "Coefficients:\n",
              "              Estimate Std. Error t value Pr(>|t|)    \n",
              "(Intercept)    82875.9     4800.6  17.264  < 2e-16 ***\n",
              "yrs.service     -649.8      254.0  -2.558   0.0109 *  \n",
              "yrs.since.phd   1552.8      256.1   6.062 3.15e-09 ***\n",
              "sexMale         8457.1     4656.1   1.816   0.0701 .  \n",
              "---\n",
              "Signif. codes:  0 ‘***’ 0.001 ‘**’ 0.01 ‘*’ 0.05 ‘.’ 0.1 ‘ ’ 1\n",
              "\n",
              "Residual standard error: 27280 on 393 degrees of freedom\n",
              "Multiple R-squared:  0.1951,\tAdjusted R-squared:  0.189 \n",
              "F-statistic: 31.75 on 3 and 393 DF,  p-value: < 2.2e-16\n"
            ]
          },
          "metadata": {}
        }
      ]
    },
    {
      "cell_type": "code",
      "source": [
        "# Obtener los residuos del modelo\n",
        "residuos2 <- residuals(modelo_con_genero)\n",
        "\n",
        "# Calcular la suma del cuadrado de los residuos\n",
        "RSS2 <- sum(residuos2^2)\n",
        "\n",
        "# Mostrar la suma del cuadrado de los residuos\n",
        "print(RSS2)"
      ],
      "metadata": {
        "id": "bmBxzjnTEYlR",
        "outputId": "50d1579e-4544-40f7-f9fd-f4ca11b87022",
        "colab": {
          "base_uri": "https://localhost:8080/"
        }
      },
      "execution_count": null,
      "outputs": [
        {
          "output_type": "stream",
          "name": "stdout",
          "text": [
            "[1] 2.9242e+11\n"
          ]
        }
      ]
    },
    {
      "cell_type": "code",
      "source": [
        "if (RSS1 > RSS2) {\n",
        "  print(\"El modelo con la variable 'genero' tiene una menor suma de residuos al cuadrado\")\n",
        "} else {\n",
        "  print(\"El modelo 1 tiene una menor suma de residuos al cuadrado\")\n",
        "}"
      ],
      "metadata": {
        "id": "tgVorTUGFmBX",
        "outputId": "02a000ab-5678-4682-d84e-7040832f2310",
        "colab": {
          "base_uri": "https://localhost:8080/"
        }
      },
      "execution_count": null,
      "outputs": [
        {
          "output_type": "stream",
          "name": "stdout",
          "text": [
            "[1] \"El modelo con la variable 'genero' tiene una menor suma de residuos al cuadrado\"\n"
          ]
        }
      ]
    },
    {
      "cell_type": "markdown",
      "source": [
        "El coeficiente de determinación del modelo 1 es 18.42% y el coeficiente de determinación del modelo 2 es 18.9%, existe un incremento sin embargo es pequeño, notar que la variable género no es estadísticamente significativa en cuanto al impacto en el salario de un profesor (Pvalue = 0.07 mayor que el nivel de significancia de 0.05)"
      ],
      "metadata": {
        "id": "yzdungpHHxtL"
      }
    },
    {
      "cell_type": "markdown",
      "source": [
        "Al tomar en cuenta el modelo1, se identifica que manteniendo constante el número de años desde el doctorado, el salario disminuye en $629.1 por cada año adicional de servicio."
      ],
      "metadata": {
        "id": "ZmGwrxvwIkBq"
      }
    },
    {
      "cell_type": "code",
      "source": [
        "# Dividir el salario por mil para expresarlo en miles\n",
        "Salaries$salary_miles <- Salaries$salary / 1000\n",
        "\n",
        "# Realizar la regresión lineal con el salario expresado en miles\n",
        "modelo_salario_miles <- lm(salary_miles ~ yrs.service + yrs.since.phd, data = Salaries)\n",
        "\n",
        "# Resumen del modelo\n",
        "tidy(modelo_salario_miles)\n",
        "summary(modelo_salario_miles)"
      ],
      "metadata": {
        "id": "Na5OvMH8_UD-",
        "outputId": "04eff0bd-a5e5-4757-8ee8-ecddcf0c1150",
        "colab": {
          "base_uri": "https://localhost:8080/",
          "height": 522
        }
      },
      "execution_count": null,
      "outputs": [
        {
          "output_type": "display_data",
          "data": {
            "text/html": [
              "<table class=\"dataframe\">\n",
              "<caption>A tibble: 3 × 5</caption>\n",
              "<thead>\n",
              "\t<tr><th scope=col>term</th><th scope=col>estimate</th><th scope=col>std.error</th><th scope=col>statistic</th><th scope=col>p.value</th></tr>\n",
              "\t<tr><th scope=col>&lt;chr&gt;</th><th scope=col>&lt;dbl&gt;</th><th scope=col>&lt;dbl&gt;</th><th scope=col>&lt;dbl&gt;</th><th scope=col>&lt;dbl&gt;</th></tr>\n",
              "</thead>\n",
              "<tbody>\n",
              "\t<tr><td>(Intercept)  </td><td>89.9121845</td><td>2.8435599</td><td>31.619586</td><td>3.810703e-110</td></tr>\n",
              "\t<tr><td>yrs.service  </td><td>-0.6291014</td><td>0.2544694</td><td>-2.472208</td><td> 1.384961e-02</td></tr>\n",
              "\t<tr><td>yrs.since.phd</td><td> 1.5628889</td><td>0.2568196</td><td> 6.085551</td><td> 2.753560e-09</td></tr>\n",
              "</tbody>\n",
              "</table>\n"
            ],
            "text/markdown": "\nA tibble: 3 × 5\n\n| term &lt;chr&gt; | estimate &lt;dbl&gt; | std.error &lt;dbl&gt; | statistic &lt;dbl&gt; | p.value &lt;dbl&gt; |\n|---|---|---|---|---|\n| (Intercept)   | 89.9121845 | 2.8435599 | 31.619586 | 3.810703e-110 |\n| yrs.service   | -0.6291014 | 0.2544694 | -2.472208 |  1.384961e-02 |\n| yrs.since.phd |  1.5628889 | 0.2568196 |  6.085551 |  2.753560e-09 |\n\n",
            "text/latex": "A tibble: 3 × 5\n\\begin{tabular}{lllll}\n term & estimate & std.error & statistic & p.value\\\\\n <chr> & <dbl> & <dbl> & <dbl> & <dbl>\\\\\n\\hline\n\t (Intercept)   & 89.9121845 & 2.8435599 & 31.619586 & 3.810703e-110\\\\\n\t yrs.service   & -0.6291014 & 0.2544694 & -2.472208 &  1.384961e-02\\\\\n\t yrs.since.phd &  1.5628889 & 0.2568196 &  6.085551 &  2.753560e-09\\\\\n\\end{tabular}\n",
            "text/plain": [
              "  term          estimate   std.error statistic p.value      \n",
              "1 (Intercept)   89.9121845 2.8435599 31.619586 3.810703e-110\n",
              "2 yrs.service   -0.6291014 0.2544694 -2.472208  1.384961e-02\n",
              "3 yrs.since.phd  1.5628889 0.2568196  6.085551  2.753560e-09"
            ]
          },
          "metadata": {}
        },
        {
          "output_type": "display_data",
          "data": {
            "text/plain": [
              "\n",
              "Call:\n",
              "lm(formula = salary_miles ~ yrs.service + yrs.since.phd, data = Salaries)\n",
              "\n",
              "Residuals:\n",
              "    Min      1Q  Median      3Q     Max \n",
              "-79.735 -19.823  -2.617  15.149 106.149 \n",
              "\n",
              "Coefficients:\n",
              "              Estimate Std. Error t value Pr(>|t|)    \n",
              "(Intercept)    89.9122     2.8436  31.620  < 2e-16 ***\n",
              "yrs.service    -0.6291     0.2545  -2.472   0.0138 *  \n",
              "yrs.since.phd   1.5629     0.2568   6.086 2.75e-09 ***\n",
              "---\n",
              "Signif. codes:  0 ‘***’ 0.001 ‘**’ 0.01 ‘*’ 0.05 ‘.’ 0.1 ‘ ’ 1\n",
              "\n",
              "Residual standard error: 27.36 on 394 degrees of freedom\n",
              "Multiple R-squared:  0.1883,\tAdjusted R-squared:  0.1842 \n",
              "F-statistic: 45.71 on 2 and 394 DF,  p-value: < 2.2e-16\n"
            ]
          },
          "metadata": {}
        }
      ]
    },
    {
      "cell_type": "markdown",
      "source": [
        "Al observar los coeficientes de ambos modelos (modelo1 y modelo_salario_miles), se identifica que los betas son reescalados también al reescalar la variable dependiente. Se observa que los valores de los mismos, fueron también divididos entre 1000."
      ],
      "metadata": {
        "id": "UmO-myKKJb8j"
      }
    },
    {
      "cell_type": "code",
      "source": [
        "# Aplicar el logaritmo neperiano al salario\n",
        "Salaries$log_salary <- log(Salaries$salary)\n",
        "\n",
        "# Realizar la regresión lineal con el logaritmo neperiano del salario\n",
        "modelo_log_salario <- lm(log_salary ~ yrs.service + yrs.since.phd, data = Salaries)\n",
        "\n",
        "# Resumen del modelo\n",
        "tidy(modelo_log_salario)\n",
        "summary(modelo_log_salario)"
      ],
      "metadata": {
        "id": "4gICaiJp_sX1",
        "outputId": "21abd0f8-b3ef-48ea-b445-2e9f1a00c361",
        "colab": {
          "base_uri": "https://localhost:8080/",
          "height": 522
        }
      },
      "execution_count": null,
      "outputs": [
        {
          "output_type": "display_data",
          "data": {
            "text/html": [
              "<table class=\"dataframe\">\n",
              "<caption>A tibble: 3 × 5</caption>\n",
              "<thead>\n",
              "\t<tr><th scope=col>term</th><th scope=col>estimate</th><th scope=col>std.error</th><th scope=col>statistic</th><th scope=col>p.value</th></tr>\n",
              "\t<tr><th scope=col>&lt;chr&gt;</th><th scope=col>&lt;dbl&gt;</th><th scope=col>&lt;dbl&gt;</th><th scope=col>&lt;dbl&gt;</th><th scope=col>&lt;dbl&gt;</th></tr>\n",
              "</thead>\n",
              "<tbody>\n",
              "\t<tr><td>(Intercept)  </td><td>11.400345338</td><td>0.024351888</td><td>468.150363</td><td>0.000000e+00</td></tr>\n",
              "\t<tr><td>yrs.service  </td><td>-0.005316121</td><td>0.002179244</td><td> -2.439434</td><td>1.515066e-02</td></tr>\n",
              "\t<tr><td>yrs.since.phd</td><td> 0.013471319</td><td>0.002199371</td><td>  6.125079</td><td>2.196393e-09</td></tr>\n",
              "</tbody>\n",
              "</table>\n"
            ],
            "text/markdown": "\nA tibble: 3 × 5\n\n| term &lt;chr&gt; | estimate &lt;dbl&gt; | std.error &lt;dbl&gt; | statistic &lt;dbl&gt; | p.value &lt;dbl&gt; |\n|---|---|---|---|---|\n| (Intercept)   | 11.400345338 | 0.024351888 | 468.150363 | 0.000000e+00 |\n| yrs.service   | -0.005316121 | 0.002179244 |  -2.439434 | 1.515066e-02 |\n| yrs.since.phd |  0.013471319 | 0.002199371 |   6.125079 | 2.196393e-09 |\n\n",
            "text/latex": "A tibble: 3 × 5\n\\begin{tabular}{lllll}\n term & estimate & std.error & statistic & p.value\\\\\n <chr> & <dbl> & <dbl> & <dbl> & <dbl>\\\\\n\\hline\n\t (Intercept)   & 11.400345338 & 0.024351888 & 468.150363 & 0.000000e+00\\\\\n\t yrs.service   & -0.005316121 & 0.002179244 &  -2.439434 & 1.515066e-02\\\\\n\t yrs.since.phd &  0.013471319 & 0.002199371 &   6.125079 & 2.196393e-09\\\\\n\\end{tabular}\n",
            "text/plain": [
              "  term          estimate     std.error   statistic  p.value     \n",
              "1 (Intercept)   11.400345338 0.024351888 468.150363 0.000000e+00\n",
              "2 yrs.service   -0.005316121 0.002179244  -2.439434 1.515066e-02\n",
              "3 yrs.since.phd  0.013471319 0.002199371   6.125079 2.196393e-09"
            ]
          },
          "metadata": {}
        },
        {
          "output_type": "display_data",
          "data": {
            "text/plain": [
              "\n",
              "Call:\n",
              "lm(formula = log_salary ~ yrs.service + yrs.since.phd, data = Salaries)\n",
              "\n",
              "Residuals:\n",
              "     Min       1Q   Median       3Q      Max \n",
              "-0.85152 -0.17076 -0.00342  0.15606  0.64229 \n",
              "\n",
              "Coefficients:\n",
              "               Estimate Std. Error t value Pr(>|t|)    \n",
              "(Intercept)   11.400345   0.024352 468.150  < 2e-16 ***\n",
              "yrs.service   -0.005316   0.002179  -2.439   0.0152 *  \n",
              "yrs.since.phd  0.013471   0.002199   6.125  2.2e-09 ***\n",
              "---\n",
              "Signif. codes:  0 ‘***’ 0.001 ‘**’ 0.01 ‘*’ 0.05 ‘.’ 0.1 ‘ ’ 1\n",
              "\n",
              "Residual standard error: 0.2343 on 394 degrees of freedom\n",
              "Multiple R-squared:  0.1932,\tAdjusted R-squared:  0.1892 \n",
              "F-statistic: 47.19 on 2 and 394 DF,  p-value: < 2.2e-16\n"
            ]
          },
          "metadata": {}
        }
      ]
    },
    {
      "cell_type": "markdown",
      "source": [
        "Al aplicar el logaritmo neperiano al salario no se identifica un cambio en los signos de las betas siendo el intercepto y el beta de la variable yrs.since.phd, positivos en ambos casos, mientras que el beta de la variable yrs.service es negativo en ambos modelos."
      ],
      "metadata": {
        "id": "twnf2OlMKCD4"
      }
    },
    {
      "cell_type": "markdown",
      "source": [
        "En el nuevo modelo donde el salario ha sido transformado utilizando el logaritmo neperiano (logaritmo natural), los coeficientes asociados a las variables predictoras representan el cambio porcentual en el salario por cada unidad de cambio en la variable predictora, manteniendo todas las demás variables constantes. Esto indica que, manteniendo constante el número de años desde el doctorado, el salario disminuye en aproximadamente un 0.53% por cada año adicional de servicio."
      ],
      "metadata": {
        "id": "qHD96aeLKUTR"
      }
    },
    {
      "cell_type": "code",
      "source": [
        "# Modelo de regresión lineal del salario\n",
        "modelo_propuesto <- lm(salary ~ yrs.service + yrs.since.phd + discipline + rank, data = Salaries)\n",
        "\n",
        "# Resumen del modelo\n",
        "tidy(modelo_propuesto)\n",
        "summary(modelo_propuesto)"
      ],
      "metadata": {
        "id": "x8gPOKB3BRo2",
        "outputId": "839abd16-efda-41e9-a352-81d17a9ec77a",
        "colab": {
          "base_uri": "https://localhost:8080/",
          "height": 685
        }
      },
      "execution_count": null,
      "outputs": [
        {
          "output_type": "display_data",
          "data": {
            "text/html": [
              "<table class=\"dataframe\">\n",
              "<caption>A tibble: 6 × 5</caption>\n",
              "<thead>\n",
              "\t<tr><th scope=col>term</th><th scope=col>estimate</th><th scope=col>std.error</th><th scope=col>statistic</th><th scope=col>p.value</th></tr>\n",
              "\t<tr><th scope=col>&lt;chr&gt;</th><th scope=col>&lt;dbl&gt;</th><th scope=col>&lt;dbl&gt;</th><th scope=col>&lt;dbl&gt;</th><th scope=col>&lt;dbl&gt;</th></tr>\n",
              "</thead>\n",
              "<tbody>\n",
              "\t<tr><td>(Intercept)  </td><td>69869.0110</td><td>3332.1448</td><td>20.968180</td><td>5.828862e-66</td></tr>\n",
              "\t<tr><td>yrs.service  </td><td> -476.7179</td><td> 211.8312</td><td>-2.250461</td><td>2.497485e-02</td></tr>\n",
              "\t<tr><td>yrs.since.phd</td><td>  534.6313</td><td> 241.1593</td><td> 2.216922</td><td>2.720308e-02</td></tr>\n",
              "\t<tr><td>disciplineB  </td><td>14505.1514</td><td>2343.4181</td><td> 6.189741</td><td>1.523745e-09</td></tr>\n",
              "\t<tr><td>rankAssocProf</td><td>12831.5375</td><td>4147.6685</td><td> 3.093675</td><td>2.118982e-03</td></tr>\n",
              "\t<tr><td>rankProf     </td><td>45287.6890</td><td>4236.6534</td><td>10.689496</td><td>1.436047e-23</td></tr>\n",
              "</tbody>\n",
              "</table>\n"
            ],
            "text/markdown": "\nA tibble: 6 × 5\n\n| term &lt;chr&gt; | estimate &lt;dbl&gt; | std.error &lt;dbl&gt; | statistic &lt;dbl&gt; | p.value &lt;dbl&gt; |\n|---|---|---|---|---|\n| (Intercept)   | 69869.0110 | 3332.1448 | 20.968180 | 5.828862e-66 |\n| yrs.service   |  -476.7179 |  211.8312 | -2.250461 | 2.497485e-02 |\n| yrs.since.phd |   534.6313 |  241.1593 |  2.216922 | 2.720308e-02 |\n| disciplineB   | 14505.1514 | 2343.4181 |  6.189741 | 1.523745e-09 |\n| rankAssocProf | 12831.5375 | 4147.6685 |  3.093675 | 2.118982e-03 |\n| rankProf      | 45287.6890 | 4236.6534 | 10.689496 | 1.436047e-23 |\n\n",
            "text/latex": "A tibble: 6 × 5\n\\begin{tabular}{lllll}\n term & estimate & std.error & statistic & p.value\\\\\n <chr> & <dbl> & <dbl> & <dbl> & <dbl>\\\\\n\\hline\n\t (Intercept)   & 69869.0110 & 3332.1448 & 20.968180 & 5.828862e-66\\\\\n\t yrs.service   &  -476.7179 &  211.8312 & -2.250461 & 2.497485e-02\\\\\n\t yrs.since.phd &   534.6313 &  241.1593 &  2.216922 & 2.720308e-02\\\\\n\t disciplineB   & 14505.1514 & 2343.4181 &  6.189741 & 1.523745e-09\\\\\n\t rankAssocProf & 12831.5375 & 4147.6685 &  3.093675 & 2.118982e-03\\\\\n\t rankProf      & 45287.6890 & 4236.6534 & 10.689496 & 1.436047e-23\\\\\n\\end{tabular}\n",
            "text/plain": [
              "  term          estimate   std.error statistic p.value     \n",
              "1 (Intercept)   69869.0110 3332.1448 20.968180 5.828862e-66\n",
              "2 yrs.service    -476.7179  211.8312 -2.250461 2.497485e-02\n",
              "3 yrs.since.phd   534.6313  241.1593  2.216922 2.720308e-02\n",
              "4 disciplineB   14505.1514 2343.4181  6.189741 1.523745e-09\n",
              "5 rankAssocProf 12831.5375 4147.6685  3.093675 2.118982e-03\n",
              "6 rankProf      45287.6890 4236.6534 10.689496 1.436047e-23"
            ]
          },
          "metadata": {}
        },
        {
          "output_type": "display_data",
          "data": {
            "text/plain": [
              "\n",
              "Call:\n",
              "lm(formula = salary ~ yrs.service + yrs.since.phd + discipline + \n",
              "    rank, data = Salaries)\n",
              "\n",
              "Residuals:\n",
              "   Min     1Q Median     3Q    Max \n",
              "-65244 -13498  -1455   9638  99682 \n",
              "\n",
              "Coefficients:\n",
              "              Estimate Std. Error t value Pr(>|t|)    \n",
              "(Intercept)    69869.0     3332.1  20.968  < 2e-16 ***\n",
              "yrs.service     -476.7      211.8  -2.250  0.02497 *  \n",
              "yrs.since.phd    534.6      241.2   2.217  0.02720 *  \n",
              "disciplineB    14505.2     2343.4   6.190 1.52e-09 ***\n",
              "rankAssocProf  12831.5     4147.7   3.094  0.00212 ** \n",
              "rankProf       45287.7     4236.7  10.689  < 2e-16 ***\n",
              "---\n",
              "Signif. codes:  0 ‘***’ 0.001 ‘**’ 0.01 ‘*’ 0.05 ‘.’ 0.1 ‘ ’ 1\n",
              "\n",
              "Residual standard error: 22550 on 391 degrees of freedom\n",
              "Multiple R-squared:  0.4525,\tAdjusted R-squared:  0.4455 \n",
              "F-statistic: 64.64 on 5 and 391 DF,  p-value: < 2.2e-16\n"
            ]
          },
          "metadata": {}
        }
      ]
    },
    {
      "cell_type": "markdown",
      "source": [
        "Para el modelo propuesto no se ha considerado únicamente la variable \"género\", el resto de las variables analizadas tienen un valor P debajo del nivel de significancia de 0.05 lo que indica que son estadísticamente significativas para explicar la variación en el salario de los docentes. El coeficiente de determinación para el modelo propuesto es de 44.55% mejor que el resto de los modelos analizados."
      ],
      "metadata": {
        "id": "jdBoOK_nK2dv"
      }
    }
  ]
}